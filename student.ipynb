{
 "cells": [
  {
   "cell_type": "markdown",
   "metadata": {},
   "source": [
    "## Final Project Submission\n",
    "\n",
    "Please fill out:\n",
    "* Student name: \n",
    "* Student pace: self paced / part time / full time\n",
    "* Scheduled project review date/time: \n",
    "* Instructor name: \n",
    "* Blog post URL:\n"
   ]
  },
  {
   "cell_type": "markdown",
   "metadata": {},
   "source": [
    "# An Examination of Current Trends in Film\n",
    "\n"
   ]
  },
  {
   "cell_type": "markdown",
   "metadata": {},
   "source": [
    "## Introduction"
   ]
  },
  {
   "cell_type": "markdown",
   "metadata": {},
   "source": []
  },
  {
   "cell_type": "code",
   "execution_count": null,
   "metadata": {
    "ExecuteTime": {
     "end_time": "2020-07-16T14:54:22.649711Z",
     "start_time": "2020-07-16T14:54:22.646708Z"
    }
   },
   "outputs": [],
   "source": []
  },
  {
   "cell_type": "code",
   "execution_count": null,
   "metadata": {},
   "outputs": [],
   "source": []
  },
  {
   "cell_type": "markdown",
   "metadata": {},
   "source": [
    "# Data Analysis"
   ]
  },
  {
   "cell_type": "markdown",
   "metadata": {},
   "source": [
    "## Required Libraries and Data Retrieval "
   ]
  },
  {
   "cell_type": "markdown",
   "metadata": {
    "ExecuteTime": {
     "end_time": "2020-07-11T19:24:31.618120Z",
     "start_time": "2020-07-11T19:24:31.615613Z"
    }
   },
   "source": [
    "### Library Importations"
   ]
  },
  {
   "cell_type": "code",
   "execution_count": 78,
   "metadata": {
    "ExecuteTime": {
     "end_time": "2020-07-24T15:21:44.420932Z",
     "start_time": "2020-07-24T15:21:44.418930Z"
    }
   },
   "outputs": [],
   "source": [
    "import pandas as pd \n",
    "import numpy as np\n",
    "import matplotlib.pyplot as plt\n",
    "import seaborn as sns\n",
    "import tmdbsimple as tmdb\n",
    "import requests\n",
    "from tqdm.notebook import tqdm\n",
    "tmdb.API_KEY = '26fb51ea2574691bcb3a7e5d0ce700a2'"
   ]
  },
  {
   "cell_type": "markdown",
   "metadata": {},
   "source": [
    "### Datasets and Retrieval"
   ]
  },
  {
   "cell_type": "code",
   "execution_count": 80,
   "metadata": {
    "ExecuteTime": {
     "end_time": "2020-07-24T15:24:19.411046Z",
     "start_time": "2020-07-24T15:23:52.254373Z"
    }
   },
   "outputs": [
    {
     "data": {
      "application/vnd.jupyter.widget-view+json": {
       "model_id": "6262951265fa4ac69c3c5c17930ff570",
       "version_major": 2,
       "version_minor": 0
      },
      "text/plain": [
       "HBox(children=(FloatProgress(value=0.0, max=250.0), HTML(value='')))"
      ]
     },
     "metadata": {},
     "output_type": "display_data"
    },
    {
     "name": "stdout",
     "output_type": "stream",
     "text": [
      "\n"
     ]
    },
    {
     "data": {
      "application/vnd.jupyter.widget-view+json": {
       "model_id": "fe95d82b7a3e41beaf0dffba868d0b91",
       "version_major": 2,
       "version_minor": 0
      },
      "text/plain": [
       "HBox(children=(FloatProgress(value=0.0, description='List Append', max=250.0, style=ProgressStyle(description_…"
      ]
     },
     "metadata": {},
     "output_type": "display_data"
    },
    {
     "name": "stdout",
     "output_type": "stream",
     "text": [
      "\n"
     ]
    }
   ],
   "source": [
    "top_250 = tmdb.Lists(634)\n",
    "top_250_dict = top_250.info()\n",
    "\n",
    "imdb_id = []\n",
    "\n",
    "for item in tqdm(top_250_dict['items']):\n",
    "    film_id = item['id']\n",
    "    imdb_id.append(film_id)\n",
    "    \n",
    "title = []\n",
    "budget = []\n",
    "revenue = []\n",
    "\n",
    "for film in tqdm(imdb_id, desc='List Append'):\n",
    "    \n",
    "    film1 = tmdb.Movies(film)\n",
    "    film1_info = film1.info()\n",
    "    \n",
    "    title.append(film1_info['original_title'])\n",
    "    budget.append(film1_info['budget'])\n",
    "    revenue.append(film1_info['revenue'])"
   ]
  },
  {
   "cell_type": "code",
   "execution_count": 127,
   "metadata": {
    "ExecuteTime": {
     "end_time": "2020-07-24T16:21:54.872495Z",
     "start_time": "2020-07-24T16:21:52.934737Z"
    }
   },
   "outputs": [
    {
     "data": {
      "application/vnd.jupyter.widget-view+json": {
       "model_id": "7460a493e7d74ec29d3145e45c95c27d",
       "version_major": 2,
       "version_minor": 0
      },
      "text/plain": [
       "HBox(children=(FloatProgress(value=0.0, description='Page Append', max=10.0, style=ProgressStyle(description_w…"
      ]
     },
     "metadata": {},
     "output_type": "display_data"
    },
    {
     "name": "stdout",
     "output_type": "stream",
     "text": [
      "\n"
     ]
    }
   ],
   "source": [
    "discover = tmdb.Discover()\n",
    "page = discover.movie(language='en-US', sort_by='revenue.desc', page=1, primary_release_date_gte='2010-01-01')\n",
    "\n",
    "page_list = [1, 2, 3, 4, 5]\n",
    "\n",
    "page_thing = []\n",
    "\n",
    "for pages in tqdm(range(1,11), desc='Page Append'):\n",
    "    discover = tmdb.Discover()\n",
    "    page = discover.movie(language='en-US', sort_by='revenue.desc', page=pages, \n",
    "                          primary_release_date_gte='2010-01-01', with_original_language='en')\n",
    "    page_thing.append(page)"
   ]
  },
  {
   "cell_type": "code",
   "execution_count": 128,
   "metadata": {
    "ExecuteTime": {
     "end_time": "2020-07-24T16:21:54.886507Z",
     "start_time": "2020-07-24T16:21:54.882503Z"
    }
   },
   "outputs": [
    {
     "name": "stdout",
     "output_type": "stream",
     "text": [
      "Men in Black 3\n",
      "Iron Man 2\n",
      "Ant-Man and the Wasp\n",
      "Logan\n",
      "How to Train Your Dragon 2\n",
      "Life of Pi\n",
      "Transformers: The Last Knight\n",
      "Tangled\n",
      "The Croods\n",
      "Ready Player One\n",
      "Fifty Shades of Grey\n",
      "Kong: Skull Island\n",
      "The Smurfs\n",
      "Cars 2\n",
      "Puss in Boots\n",
      "Ted\n",
      "X-Men: Apocalypse\n",
      "Cinderella\n",
      "Despicable Me\n",
      "American Sniper\n"
     ]
    }
   ],
   "source": [
    "for result in page_thing[5]['results']:\n",
    "    print(result['original_title'])"
   ]
  },
  {
   "cell_type": "code",
   "execution_count": 65,
   "metadata": {
    "ExecuteTime": {
     "end_time": "2020-07-24T15:09:02.504655Z",
     "start_time": "2020-07-24T15:09:02.499650Z"
    }
   },
   "outputs": [
    {
     "data": {
      "text/plain": [
       "[28341469,\n",
       " 245066411,\n",
       " 102600000,\n",
       " 214179088,\n",
       " 25118063,\n",
       " 1000000,\n",
       " 1004558444,\n",
       " 321365567,\n",
       " 1118888979,\n",
       " 100853753,\n",
       " 538400000,\n",
       " 871368364,\n",
       " 108981275,\n",
       " 825532764,\n",
       " 46836394,\n",
       " 775398007,\n",
       " 271842,\n",
       " 677387716,\n",
       " 463517383,\n",
       " 926287400,\n",
       " 30641770,\n",
       " 327311859,\n",
       " 272742922,\n",
       " 5321508,\n",
       " 10462500,\n",
       " 23341568,\n",
       " 389925971,\n",
       " 36764313,\n",
       " 9644124,\n",
       " 32000000,\n",
       " 45284974,\n",
       " 5000000,\n",
       " 23875127,\n",
       " 39723096,\n",
       " 150000000,\n",
       " 520000000,\n",
       " 481840909,\n",
       " 9440272,\n",
       " 19181,\n",
       " 104931801,\n",
       " 274925095,\n",
       " 13275000,\n",
       " 8500000,\n",
       " 23217674,\n",
       " 425368238,\n",
       " 381109762,\n",
       " 44781695,\n",
       " 120072577,\n",
       " 1081041287,\n",
       " 229400000,\n",
       " 291465034,\n",
       " 0,\n",
       " 28000000,\n",
       " 0,\n",
       " 356296601,\n",
       " 28262574,\n",
       " 2500000,\n",
       " 183316455,\n",
       " 1066969703,\n",
       " 521311860,\n",
       " 70000000,\n",
       " 76270454,\n",
       " 286801374,\n",
       " 460583960,\n",
       " 26589000,\n",
       " 11000000,\n",
       " 173921954,\n",
       " 109676311,\n",
       " 69995385,\n",
       " 13129846,\n",
       " 2859750,\n",
       " 85000000,\n",
       " 11990401,\n",
       " 596349,\n",
       " 763455561,\n",
       " 7390108,\n",
       " 4307000,\n",
       " 72258126,\n",
       " 5472914,\n",
       " 572700000,\n",
       " 46357676,\n",
       " 126216940,\n",
       " 210000000,\n",
       " 30000000,\n",
       " 14980005,\n",
       " 7200000,\n",
       " 5028948,\n",
       " 25000000,\n",
       " 361712,\n",
       " 650422,\n",
       " 51973029,\n",
       " 96568,\n",
       " 159414369,\n",
       " 68700000,\n",
       " 150438,\n",
       " 159616327,\n",
       " 159157447,\n",
       " 474171806,\n",
       " 25000000,\n",
       " 23000000,\n",
       " 44908000,\n",
       " 0,\n",
       " 9000000,\n",
       " 140767956,\n",
       " 374218673,\n",
       " 24426169,\n",
       " 0,\n",
       " 321455689,\n",
       " 83557872,\n",
       " 15000000,\n",
       " 11744471,\n",
       " 83258226,\n",
       " 92180910,\n",
       " 9600000,\n",
       " 735099082,\n",
       " 373554033,\n",
       " 9600000,\n",
       " 26010864,\n",
       " 0,\n",
       " 0,\n",
       " 187436818,\n",
       " 1772000,\n",
       " 41473619,\n",
       " 2500000,\n",
       " 6000000,\n",
       " 269958228,\n",
       " 66023329,\n",
       " 0,\n",
       " 60611975,\n",
       " 11859533,\n",
       " 46189568,\n",
       " 2247465,\n",
       " 50000000,\n",
       " 16217773,\n",
       " 2500000,\n",
       " 28356188,\n",
       " 4500000,\n",
       " 171627166,\n",
       " 158733820,\n",
       " 7000000,\n",
       " 116112375,\n",
       " 672806292,\n",
       " 138530565,\n",
       " 470653000,\n",
       " 19629760,\n",
       " 102308889,\n",
       " 16491080,\n",
       " 33754967,\n",
       " 225933435,\n",
       " 8000000,\n",
       " 1519557910,\n",
       " 180899045,\n",
       " 38000000,\n",
       " 23057115,\n",
       " 33965843,\n",
       " 38251425,\n",
       " 402352579,\n",
       " 0,\n",
       " 45000000,\n",
       " 24464742,\n",
       " 132511035,\n",
       " 56255142,\n",
       " 940335536,\n",
       " 20045115,\n",
       " 3000000,\n",
       " 494878759,\n",
       " 414211549,\n",
       " 0,\n",
       " 77208711,\n",
       " 0,\n",
       " 78371200,\n",
       " 164000000,\n",
       " 23689877,\n",
       " 216763646,\n",
       " 52287414,\n",
       " 70906973,\n",
       " 23650000,\n",
       " 6979093,\n",
       " 168840000,\n",
       " 46665856,\n",
       " 1725381,\n",
       " 0,\n",
       " 20908467,\n",
       " 329398046,\n",
       " 442824138,\n",
       " 0,\n",
       " 77737889,\n",
       " 236049757,\n",
       " 0,\n",
       " 104945305,\n",
       " 313542341,\n",
       " 30861665,\n",
       " 0,\n",
       " 609016565,\n",
       " 1021103568,\n",
       " 7600000,\n",
       " 33736689,\n",
       " 0,\n",
       " 377910544,\n",
       " 117235147,\n",
       " 0,\n",
       " 7700000,\n",
       " 441306145,\n",
       " 638641,\n",
       " 2200000,\n",
       " 8000000,\n",
       " 20000000,\n",
       " 0,\n",
       " 0,\n",
       " 0,\n",
       " 133432856,\n",
       " 65796862,\n",
       " 8708932,\n",
       " 12000000,\n",
       " 655011224,\n",
       " 264118201,\n",
       " 26000000,\n",
       " 562816256,\n",
       " 14500000,\n",
       " 210819611,\n",
       " 1341511219,\n",
       " 21888598,\n",
       " 19777647,\n",
       " 385680446,\n",
       " 623722818,\n",
       " 8000000,\n",
       " 920100000,\n",
       " 15300000,\n",
       " 294804195,\n",
       " 0,\n",
       " 377350553,\n",
       " 3270000,\n",
       " 70000000,\n",
       " 354825435,\n",
       " 28430000,\n",
       " 3301446,\n",
       " 33395426,\n",
       " 0,\n",
       " 156822020,\n",
       " 53267000,\n",
       " 39946780,\n",
       " 33400000,\n",
       " 0,\n",
       " 6502364,\n",
       " 0,\n",
       " 216639112,\n",
       " 426480871,\n",
       " 5800000,\n",
       " 0,\n",
       " 0]"
      ]
     },
     "execution_count": 65,
     "metadata": {},
     "output_type": "execute_result"
    }
   ],
   "source": []
  },
  {
   "cell_type": "code",
   "execution_count": 11,
   "metadata": {
    "ExecuteTime": {
     "end_time": "2020-07-16T17:17:18.292874Z",
     "start_time": "2020-07-16T17:17:18.277859Z"
    }
   },
   "outputs": [],
   "source": [
    "movie_budget_df = pd.read_csv('tn.movie_budgets.csv')\n"
   ]
  },
  {
   "cell_type": "code",
   "execution_count": null,
   "metadata": {},
   "outputs": [],
   "source": []
  },
  {
   "cell_type": "markdown",
   "metadata": {},
   "source": [
    "## Exploratory Data Analysis"
   ]
  },
  {
   "cell_type": "code",
   "execution_count": 12,
   "metadata": {
    "ExecuteTime": {
     "end_time": "2020-07-16T17:17:19.598060Z",
     "start_time": "2020-07-16T17:17:19.592054Z"
    }
   },
   "outputs": [
    {
     "name": "stdout",
     "output_type": "stream",
     "text": [
      "<class 'pandas.core.frame.DataFrame'>\n",
      "RangeIndex: 5782 entries, 0 to 5781\n",
      "Data columns (total 6 columns):\n",
      " #   Column             Non-Null Count  Dtype \n",
      "---  ------             --------------  ----- \n",
      " 0   id                 5782 non-null   int64 \n",
      " 1   release_date       5782 non-null   object\n",
      " 2   movie              5782 non-null   object\n",
      " 3   production_budget  5782 non-null   object\n",
      " 4   domestic_gross     5782 non-null   object\n",
      " 5   worldwide_gross    5782 non-null   object\n",
      "dtypes: int64(1), object(5)\n",
      "memory usage: 271.2+ KB\n",
      "None\n"
     ]
    }
   ],
   "source": [
    "print(movie_budget_df.info())"
   ]
  },
  {
   "cell_type": "code",
   "execution_count": null,
   "metadata": {},
   "outputs": [],
   "source": [
    "print(movie_budget_df.)"
   ]
  },
  {
   "cell_type": "markdown",
   "metadata": {
    "ExecuteTime": {
     "end_time": "2020-07-11T19:30:10.424279Z",
     "start_time": "2020-07-11T19:30:10.410266Z"
    }
   },
   "source": [
    " The data in the `tn.movie_budgets.csv` has been shown to be in an inoperable format for further analysis. Therefore we must transform the variables of `production_budget`, `domestic_gross`, and `worldwide_gross`. Casting these variables into an `int64` format will allow further mathematical operations."
   ]
  },
  {
   "cell_type": "code",
   "execution_count": null,
   "metadata": {},
   "outputs": [],
   "source": []
  }
 ],
 "metadata": {
  "kernelspec": {
   "display_name": "Python 3",
   "language": "python",
   "name": "python3"
  },
  "language_info": {
   "codemirror_mode": {
    "name": "ipython",
    "version": 3
   },
   "file_extension": ".py",
   "mimetype": "text/x-python",
   "name": "python",
   "nbconvert_exporter": "python",
   "pygments_lexer": "ipython3",
   "version": "3.6.9"
  },
  "toc": {
   "base_numbering": 1,
   "nav_menu": {},
   "number_sections": true,
   "sideBar": true,
   "skip_h1_title": false,
   "title_cell": "Table of Contents",
   "title_sidebar": "Contents",
   "toc_cell": false,
   "toc_position": {},
   "toc_section_display": true,
   "toc_window_display": false
  },
  "varInspector": {
   "cols": {
    "lenName": 16,
    "lenType": 16,
    "lenVar": 40
   },
   "kernels_config": {
    "python": {
     "delete_cmd_postfix": "",
     "delete_cmd_prefix": "del ",
     "library": "var_list.py",
     "varRefreshCmd": "print(var_dic_list())"
    },
    "r": {
     "delete_cmd_postfix": ") ",
     "delete_cmd_prefix": "rm(",
     "library": "var_list.r",
     "varRefreshCmd": "cat(var_dic_list()) "
    }
   },
   "oldHeight": 122,
   "position": {
    "height": "144px",
    "left": "2073px",
    "right": "20px",
    "top": "155px",
    "width": "350px"
   },
   "types_to_exclude": [
    "module",
    "function",
    "builtin_function_or_method",
    "instance",
    "_Feature"
   ],
   "varInspector_section_display": "block",
   "window_display": true
  }
 },
 "nbformat": 4,
 "nbformat_minor": 2
}
