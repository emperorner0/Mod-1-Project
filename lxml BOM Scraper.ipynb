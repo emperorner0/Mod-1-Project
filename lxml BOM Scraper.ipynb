{
 "cells": [
  {
   "cell_type": "markdown",
   "metadata": {},
   "source": [
    "# Box Office Mojo Data Scraper"
   ]
  },
  {
   "cell_type": "markdown",
   "metadata": {},
   "source": [
    "## Library Importation"
   ]
  },
  {
   "cell_type": "markdown",
   "metadata": {},
   "source": [
    "Basic library for data and HTML manipulation operations. `lxml` is an HTML and XML processing library that is used for it's convenient HTML element selection for web scraping. `tqdm` is a great method for implementing flexible, versatile progress bars by wrapping `iterables` in a `function`."
   ]
  },
  {
   "cell_type": "code",
   "execution_count": 286,
   "metadata": {
    "ExecuteTime": {
     "end_time": "2020-07-23T18:12:44.530153Z",
     "start_time": "2020-07-23T18:12:44.528151Z"
    }
   },
   "outputs": [],
   "source": [
    "import requests\n",
    "from lxml import html\n",
    "import pandas as pd \n",
    "import numpy as np\n",
    "from bs4 import BeautifulSoup as bs\n",
    "from tqdm import tqdm, trange"
   ]
  },
  {
   "cell_type": "markdown",
   "metadata": {},
   "source": [
    "## Pagination Function"
   ]
  },
  {
   "cell_type": "markdown",
   "metadata": {},
   "source": [
    "This function takes in a `requests` object, converts it into a soup object using the more efficient `lxml` parser. Once converted to a soup object the function searches for the main table of the Box Office Mojo Domestic Box Office for N Year and returns a list of incomplete links to individual movie pages that can be then passed to parse the individual movie pages."
   ]
  },
  {
   "cell_type": "code",
   "execution_count": 287,
   "metadata": {
    "ExecuteTime": {
     "end_time": "2020-07-23T18:12:45.042618Z",
     "start_time": "2020-07-23T18:12:45.038614Z"
    },
    "code_folding": []
   },
   "outputs": [],
   "source": [
    "def pagination_func(req_url):\n",
    "    soup = bs(req_url.content, 'lxml')\n",
    "    \n",
    "    table = soup.find('table')\n",
    "    links = [a['href'] for a in table.find_all('a', href=True)]\n",
    "    pagination_list = []\n",
    "\n",
    "    substring = '/release'\n",
    "    for link in links:\n",
    "        if substring in link:\n",
    "            pagination_list.append(link)\n",
    "            \n",
    "    return pagination_list"
   ]
  },
  {
   "cell_type": "markdown",
   "metadata": {},
   "source": [
    "## Link Retrieval"
   ]
  },
  {
   "cell_type": "markdown",
   "metadata": {},
   "source": [
    "The following `for` loop takes in a hand-crafted list of years typed as strings. The loop iterates through the list and creates a `pagination_url` using the formatting function for strings. This URL is used to create a `requests` object that is then passed to the `pagination_func` to create a list of incomplete URL lists. The loop following the `complete_links` list initiation formats a string of a URL into a complete URL for later use in scraping."
   ]
  },
  {
   "cell_type": "code",
   "execution_count": 288,
   "metadata": {
    "ExecuteTime": {
     "end_time": "2020-07-23T18:13:12.101979Z",
     "start_time": "2020-07-23T18:12:45.534064Z"
    }
   },
   "outputs": [
    {
     "name": "stderr",
     "output_type": "stream",
     "text": [
      "10it [00:26,  2.66s/it]\n"
     ]
    }
   ],
   "source": [
    "years = ['2010', '2011', '2012', '2013', '2014', '2015', '2016', '2017', '2018', '2019']\n",
    "link_list_by_year = []\n",
    "for count, year in tqdm(enumerate(years)):\n",
    "    pagination_url = 'https://www.boxofficemojo.com/year/{}/?grossesOption=calendarGrosses'.format(year)\n",
    "    pagination = requests.get(pagination_url)\n",
    "    link_list_by_year.append(pagination_func(pagination))"
   ]
  },
  {
   "cell_type": "code",
   "execution_count": 289,
   "metadata": {
    "ExecuteTime": {
     "end_time": "2020-07-23T18:13:12.127001Z",
     "start_time": "2020-07-23T18:13:12.123999Z"
    }
   },
   "outputs": [],
   "source": [
    "complete_links = []"
   ]
  },
  {
   "cell_type": "code",
   "execution_count": 290,
   "metadata": {
    "ExecuteTime": {
     "end_time": "2020-07-23T18:13:12.150022Z",
     "start_time": "2020-07-23T18:13:12.144017Z"
    }
   },
   "outputs": [],
   "source": [
    "for link in link_list_by_year:\n",
    "    for url in link:\n",
    "        complete_links.append('https://www.boxofficemojo.com{}'.format(url))"
   ]
  },
  {
   "cell_type": "markdown",
   "metadata": {},
   "source": [
    "## Page Scraping Function\n"
   ]
  },
  {
   "cell_type": "markdown",
   "metadata": {},
   "source": [
    "The function uses the `lxml` library to target elements of the page to scrape. `lxml` uses Xpaths to locate these elements, appending the text of the element to a list and if the element does not exist it appends a `string` of 'Missing'. The function makes extensive use of `method` chaining to combine line length and make readability greater. "
   ]
  },
  {
   "cell_type": "code",
   "execution_count": 291,
   "metadata": {
    "ExecuteTime": {
     "end_time": "2020-07-23T18:13:12.175044Z",
     "start_time": "2020-07-23T18:13:12.167037Z"
    },
    "code_folding": []
   },
   "outputs": [],
   "source": [
    "def scrape_page(req_page):\n",
    "    tree = html.fromstring(req_page.content)\n",
    "    \n",
    "    titles = tree.xpath('//*[@id=\"a-page\"]/main/div/div[1]/div[1]/div/div/div[2]/h1/text()')\n",
    "    if titles:\n",
    "        title.append(titles[0])\n",
    "    else:\n",
    "        title.append('Missing')\n",
    "        \n",
    "    domestics = tree.xpath('//*[@id=\"a-page\"]/main/div/div[3]/div[1]/div/div[1]/span[2]/span/text()')\n",
    "    if domestics:\n",
    "        domestic.append(domestics[0].replace('$','').replace(',',''))\n",
    "    else:\n",
    "        domestics.append('Missing')\n",
    "    \n",
    "    internationals = tree.xpath('//*[@id=\"a-page\"]/main/div/div[3]/div[1]/div/div[2]/span[2]/a/span/text()')\n",
    "    if internationals:\n",
    "        international.append(internationals[0].replace('$','').replace(',',''))\n",
    "    else:\n",
    "        international.append('Missing')\n",
    "    \n",
    "    worldwides = tree.xpath('//*[@id=\"a-page\"]/main/div/div[3]/div[1]/div/div[3]/span[2]/a/span/text()')\n",
    "    if worldwides:\n",
    "        worldwide.append(worldwides[0].replace('$','').replace(',',''))\n",
    "    else:\n",
    "        worldwide.append('Missing')\n",
    "        \n",
    "    openings = tree.xpath('//*[@id=\"a-page\"]/main/div/div[3]/div[4]/div[2]/span[2]/span/text()')\n",
    "    if openings:\n",
    "        opening.append(openings[0].replace('$','').replace(',',''))\n",
    "    else:\n",
    "        opening.append('Missing')\n",
    "                   \n",
    "    opening_theatress = tree.xpath('/html/body/div[1]/main/div/div[3]/div[4]/div[2]/span[2]/text()')\n",
    "    if opening_theatress:\n",
    "        opening_theatres.append(opening_theatress[0].replace('\\n', '').replace(',','').split()[0])\n",
    "    else:\n",
    "        opening_theatres.append('Missing')\n",
    "    \n",
    "\n",
    "# Following contents commented out as I debug their functionality.\n",
    "\n",
    "#     with_budget = ['5', '6', '7']\n",
    "#     without_budget = ['4', '5', '6']\n",
    "    \n",
    "#     substring = '\\n'\n",
    "    \n",
    "#     MPAAs = tree.xpath('//*[@id=\"a-page\"]/main/div/div[3]/div[4]/div[4]/span[2]/text()')\n",
    "    \n",
    "#     if substring in MPAAs[0]:\n",
    "#         MPAAs = tree.xpath('//*[@id=\"a-page\"]/main/div/div[3]/div[4]/div[{}]/span[2]/text()'.format(with_budget[0]))\n",
    "#         print(MPAAs)\n",
    "#         try:\n",
    "#             if MPAAs:\n",
    "#                 MPAA.append(MPAAs[0])\n",
    "#             else:\n",
    "#                 MPAA.append('Missing')\n",
    "#         except:\n",
    "#             MPAA.append('Missing')\n",
    "        \n",
    "#         run_times = tree.xpath('//*[@id=\"a-page\"]/main/div/div[3]/div[4]/div[{}]/span[2]/text()'.format(with_budget[1]))\n",
    "#         print(run_times)\n",
    "#         try:\n",
    "#             if run_times:\n",
    "#                 run_time.append(run_times[0])\n",
    "#             else:\n",
    "#                 run_time.append('Missing')\n",
    "#         except:\n",
    "#             run_time.append('Missing')\n",
    "        \n",
    "#         genress = tree.xpath('//*[@id=\"a-page\"]/main/div/div[3]/div[4]/div[{}]/span[2]/text()'.format(with_budget[2]))\n",
    "#         print(genress)\n",
    "#         try:\n",
    "#             if genress:\n",
    "#                 genres.append(genress[0].replace('\\n','').split())\n",
    "#             else:\n",
    "#                 genres.append('Missing')\n",
    "#         except:\n",
    "#             genres.append('Missing')\n",
    "        \n",
    "#     else:\n",
    "#         MPAAs = tree.xpath('//*[@id=\"a-page\"]/main/div/div[3]/div[4]/div[{}]/span[2]/text()'.format(without_budget[0]))\n",
    "#         print(MPAAs)\n",
    "#         try:\n",
    "#             if MPAAs:\n",
    "#                 MPAA.append(MPAAs[0])\n",
    "#             else:\n",
    "#                 MPAA.append('Missing')\n",
    "#         except:\n",
    "#             MPAA.append('Missing')\n",
    "\n",
    "        \n",
    "#         run_times = tree.xpath('//*[@id=\"a-page\"]/main/div/div[3]/div[4]/div[{}]/span[2]/text()'.format(without_budget[1]))\n",
    "#         print(run_times)\n",
    "#         try:\n",
    "#             if run_times:\n",
    "#                 run_time.append(run_times[0])\n",
    "#             else:\n",
    "#                 run_time.append('Missing')\n",
    "#         except:\n",
    "#             run_time.append('Missing')\n",
    "            \n",
    "#         genress = tree.xpath('//*[@id=\"a-page\"]/main/div/div[3]/div[4]/div[{}]/span[2]/text()'.format(without_budget[2]))\n",
    "#         print(genress)\n",
    "#         try:\n",
    "#             if genress:\n",
    "#                 genres.append(genress[0].replace('\\n','').split())\n",
    "#             else:\n",
    "#                 genres.append('Missing')\n",
    "#         except: \n",
    "#             genres.append('Missing')"
   ]
  },
  {
   "cell_type": "markdown",
   "metadata": {},
   "source": [
    "`List` intialization for the `scrape_page() function`."
   ]
  },
  {
   "cell_type": "code",
   "execution_count": 292,
   "metadata": {
    "ExecuteTime": {
     "end_time": "2020-07-23T18:13:12.581413Z",
     "start_time": "2020-07-23T18:13:12.195063Z"
    }
   },
   "outputs": [],
   "source": [
    "title = []\n",
    "domestic = []\n",
    "international = []\n",
    "worldwide = []\n",
    "opening = []\n",
    "opening_theatres = []\n",
    "MPAA = []\n",
    "run_time = []\n",
    "genres = []"
   ]
  },
  {
   "cell_type": "markdown",
   "metadata": {},
   "source": [
    "## Scrape Process"
   ]
  },
  {
   "cell_type": "code",
   "execution_count": 293,
   "metadata": {
    "ExecuteTime": {
     "end_time": "2020-07-23T19:17:06.239529Z",
     "start_time": "2020-07-23T18:13:12.600432Z"
    }
   },
   "outputs": [
    {
     "name": "stderr",
     "output_type": "stream",
     "text": [
      "100%|█████████████████████████████████████████████████████████████████████████████████████████████████████████████████| 8319/8319 [1:03:53<00:00,  2.17it/s]\n"
     ]
    }
   ],
   "source": [
    "# Scrape test -- First 20 entries in complete_links list\n",
    "#Erase brackets and contents to scrape full list (!!WARNING!!: Will take a while)\n",
    "\n",
    "for link in tqdm(complete_links):\n",
    "    movie = requests.get(link)\n",
    "    scrape_page(movie)\n",
    "\n"
   ]
  },
  {
   "cell_type": "markdown",
   "metadata": {},
   "source": [
    "## Data Storage"
   ]
  },
  {
   "cell_type": "markdown",
   "metadata": {
    "ExecuteTime": {
     "end_time": "2020-07-22T18:35:08.967507Z",
     "start_time": "2020-07-22T18:35:08.961501Z"
    }
   },
   "source": [
    "Taking the `list` generated from the page scraping function and zips them together. The `zipped` variable is then wrapped into a pandas `dataframe`. "
   ]
  },
  {
   "cell_type": "code",
   "execution_count": 298,
   "metadata": {
    "ExecuteTime": {
     "end_time": "2020-07-23T20:03:12.209178Z",
     "start_time": "2020-07-23T20:03:12.205176Z"
    }
   },
   "outputs": [],
   "source": [
    "zipped  = zip(title, domestic, international, worldwide, opening, opening_theatres)"
   ]
  },
  {
   "cell_type": "code",
   "execution_count": 299,
   "metadata": {
    "ExecuteTime": {
     "end_time": "2020-07-23T20:03:12.610542Z",
     "start_time": "2020-07-23T20:03:12.596530Z"
    }
   },
   "outputs": [],
   "source": [
    "scraper_frame = pd.DataFrame(list(zipped), \n",
    "                 columns=['Title', 'Domestic_Gross', 'International_Gross', 'Worldwide_Gross', 'Opening_Gross',\n",
    "                         'Number_of_Opening_Theaters'])"
   ]
  },
  {
   "cell_type": "markdown",
   "metadata": {},
   "source": [
    "Using `.where()` on the pandas `dataframe` to replace all 'Missing' and '-' values in the `dataframe`. "
   ]
  },
  {
   "cell_type": "code",
   "execution_count": 300,
   "metadata": {
    "ExecuteTime": {
     "end_time": "2020-07-23T20:03:14.147937Z",
     "start_time": "2020-07-23T20:03:14.132925Z"
    }
   },
   "outputs": [],
   "source": [
    "scraper_frame.where(scraper_frame !='Missing', 0, inplace=True)\n",
    "scraper_frame.where(scraper_frame !='-', 0, inplace=True)"
   ]
  },
  {
   "cell_type": "markdown",
   "metadata": {},
   "source": [
    "Types the named `columns` as `int64` so mathematical operations can be performed. "
   ]
  },
  {
   "cell_type": "code",
   "execution_count": 301,
   "metadata": {
    "ExecuteTime": {
     "end_time": "2020-07-23T20:03:15.111812Z",
     "start_time": "2020-07-23T20:03:15.098802Z"
    },
    "scrolled": false
   },
   "outputs": [
    {
     "data": {
      "text/html": [
       "<div>\n",
       "<style scoped>\n",
       "    .dataframe tbody tr th:only-of-type {\n",
       "        vertical-align: middle;\n",
       "    }\n",
       "\n",
       "    .dataframe tbody tr th {\n",
       "        vertical-align: top;\n",
       "    }\n",
       "\n",
       "    .dataframe thead th {\n",
       "        text-align: right;\n",
       "    }\n",
       "</style>\n",
       "<table border=\"1\" class=\"dataframe\">\n",
       "  <thead>\n",
       "    <tr style=\"text-align: right;\">\n",
       "      <th></th>\n",
       "      <th>Title</th>\n",
       "      <th>Domestic_Gross</th>\n",
       "      <th>International_Gross</th>\n",
       "      <th>Worldwide_Gross</th>\n",
       "      <th>Opening_Gross</th>\n",
       "      <th>Number_of_Opening_Theaters</th>\n",
       "    </tr>\n",
       "  </thead>\n",
       "  <tbody>\n",
       "    <tr>\n",
       "      <th>8289</th>\n",
       "      <td>Tea With the Dames</td>\n",
       "      <td>889343</td>\n",
       "      <td>2291809</td>\n",
       "      <td>3181152</td>\n",
       "      <td>14777</td>\n",
       "      <td>1</td>\n",
       "    </tr>\n",
       "    <tr>\n",
       "      <th>8290</th>\n",
       "      <td>Iceman</td>\n",
       "      <td>2138</td>\n",
       "      <td>4581</td>\n",
       "      <td>6719</td>\n",
       "      <td>1372</td>\n",
       "      <td>7</td>\n",
       "    </tr>\n",
       "    <tr>\n",
       "      <th>8291</th>\n",
       "      <td>Detour</td>\n",
       "      <td>16172</td>\n",
       "      <td>0</td>\n",
       "      <td>16172</td>\n",
       "      <td>5127</td>\n",
       "      <td>1</td>\n",
       "    </tr>\n",
       "    <tr>\n",
       "      <th>8292</th>\n",
       "      <td>Jihadists</td>\n",
       "      <td>2104</td>\n",
       "      <td>0</td>\n",
       "      <td>2104</td>\n",
       "      <td>824</td>\n",
       "      <td>1</td>\n",
       "    </tr>\n",
       "    <tr>\n",
       "      <th>8293</th>\n",
       "      <td>Divide and Conquer</td>\n",
       "      <td>38510</td>\n",
       "      <td>0</td>\n",
       "      <td>38510</td>\n",
       "      <td>18833</td>\n",
       "      <td>15</td>\n",
       "    </tr>\n",
       "    <tr>\n",
       "      <th>8294</th>\n",
       "      <td>A German Youth</td>\n",
       "      <td>2343</td>\n",
       "      <td>0</td>\n",
       "      <td>2343</td>\n",
       "      <td>416</td>\n",
       "      <td>1</td>\n",
       "    </tr>\n",
       "    <tr>\n",
       "      <th>8295</th>\n",
       "      <td>A Fish in the Bathtub</td>\n",
       "      <td>1237</td>\n",
       "      <td>0</td>\n",
       "      <td>1237</td>\n",
       "      <td>1237</td>\n",
       "      <td>3</td>\n",
       "    </tr>\n",
       "    <tr>\n",
       "      <th>8296</th>\n",
       "      <td>Division 19</td>\n",
       "      <td>1699</td>\n",
       "      <td>981</td>\n",
       "      <td>2680</td>\n",
       "      <td>0</td>\n",
       "      <td>0</td>\n",
       "    </tr>\n",
       "    <tr>\n",
       "      <th>8297</th>\n",
       "      <td>Little Q</td>\n",
       "      <td>1652</td>\n",
       "      <td>16358581</td>\n",
       "      <td>16360233</td>\n",
       "      <td>1652</td>\n",
       "      <td>1</td>\n",
       "    </tr>\n",
       "    <tr>\n",
       "      <th>8298</th>\n",
       "      <td>Game Day</td>\n",
       "      <td>1624</td>\n",
       "      <td>0</td>\n",
       "      <td>1624</td>\n",
       "      <td>1624</td>\n",
       "      <td>4</td>\n",
       "    </tr>\n",
       "    <tr>\n",
       "      <th>8299</th>\n",
       "      <td>For Those Who Don't Read Me</td>\n",
       "      <td>36506</td>\n",
       "      <td>0</td>\n",
       "      <td>36506</td>\n",
       "      <td>9263</td>\n",
       "      <td>5</td>\n",
       "    </tr>\n",
       "    <tr>\n",
       "      <th>8300</th>\n",
       "      <td>American Playhouse: The Killing Floor</td>\n",
       "      <td>1583</td>\n",
       "      <td>0</td>\n",
       "      <td>1583</td>\n",
       "      <td>1583</td>\n",
       "      <td>1</td>\n",
       "    </tr>\n",
       "    <tr>\n",
       "      <th>8301</th>\n",
       "      <td>Indivisible</td>\n",
       "      <td>3511417</td>\n",
       "      <td>78216</td>\n",
       "      <td>3589633</td>\n",
       "      <td>1503101</td>\n",
       "      <td>830</td>\n",
       "    </tr>\n",
       "    <tr>\n",
       "      <th>8302</th>\n",
       "      <td>Owaranai hito: Miyazaki Hayao</td>\n",
       "      <td>187320</td>\n",
       "      <td>0</td>\n",
       "      <td>187320</td>\n",
       "      <td>10238</td>\n",
       "      <td>4</td>\n",
       "    </tr>\n",
       "    <tr>\n",
       "      <th>8303</th>\n",
       "      <td>The Hours and Times</td>\n",
       "      <td>1273</td>\n",
       "      <td>0</td>\n",
       "      <td>1273</td>\n",
       "      <td>1273</td>\n",
       "      <td>1</td>\n",
       "    </tr>\n",
       "    <tr>\n",
       "      <th>8304</th>\n",
       "      <td>Chinese Portrait</td>\n",
       "      <td>4140</td>\n",
       "      <td>0</td>\n",
       "      <td>4140</td>\n",
       "      <td>546</td>\n",
       "      <td>1</td>\n",
       "    </tr>\n",
       "    <tr>\n",
       "      <th>8305</th>\n",
       "      <td>Narcissister Organ Player</td>\n",
       "      <td>15334</td>\n",
       "      <td>0</td>\n",
       "      <td>15334</td>\n",
       "      <td>1983</td>\n",
       "      <td>1</td>\n",
       "    </tr>\n",
       "    <tr>\n",
       "      <th>8306</th>\n",
       "      <td>The Untold Story</td>\n",
       "      <td>790</td>\n",
       "      <td>0</td>\n",
       "      <td>790</td>\n",
       "      <td>790</td>\n",
       "      <td>1</td>\n",
       "    </tr>\n",
       "    <tr>\n",
       "      <th>8307</th>\n",
       "      <td>Senso</td>\n",
       "      <td>27723</td>\n",
       "      <td>0</td>\n",
       "      <td>27723</td>\n",
       "      <td>3984</td>\n",
       "      <td>1</td>\n",
       "    </tr>\n",
       "    <tr>\n",
       "      <th>8308</th>\n",
       "      <td>Serendipity</td>\n",
       "      <td>2298</td>\n",
       "      <td>0</td>\n",
       "      <td>2298</td>\n",
       "      <td>1156</td>\n",
       "      <td>2</td>\n",
       "    </tr>\n",
       "    <tr>\n",
       "      <th>8309</th>\n",
       "      <td>Swimming with Men</td>\n",
       "      <td>24708</td>\n",
       "      <td>1353040</td>\n",
       "      <td>1377748</td>\n",
       "      <td>10336</td>\n",
       "      <td>31</td>\n",
       "    </tr>\n",
       "    <tr>\n",
       "      <th>8310</th>\n",
       "      <td>Sgt. Stubby: An American Hero</td>\n",
       "      <td>4015935</td>\n",
       "      <td>916759</td>\n",
       "      <td>4932694</td>\n",
       "      <td>1164403</td>\n",
       "      <td>1633</td>\n",
       "    </tr>\n",
       "    <tr>\n",
       "      <th>8311</th>\n",
       "      <td>I Am Not A Witch</td>\n",
       "      <td>50868</td>\n",
       "      <td>131594</td>\n",
       "      <td>182462</td>\n",
       "      <td>8252</td>\n",
       "      <td>2</td>\n",
       "    </tr>\n",
       "    <tr>\n",
       "      <th>8312</th>\n",
       "      <td>A Breath Away</td>\n",
       "      <td>77987</td>\n",
       "      <td>2764053</td>\n",
       "      <td>2842040</td>\n",
       "      <td>16046</td>\n",
       "      <td>12</td>\n",
       "    </tr>\n",
       "    <tr>\n",
       "      <th>8313</th>\n",
       "      <td>In Safe Hands</td>\n",
       "      <td>1737</td>\n",
       "      <td>7084859</td>\n",
       "      <td>7086596</td>\n",
       "      <td>348</td>\n",
       "      <td>1</td>\n",
       "    </tr>\n",
       "    <tr>\n",
       "      <th>8314</th>\n",
       "      <td>Henchmen</td>\n",
       "      <td>1469</td>\n",
       "      <td>0</td>\n",
       "      <td>1469</td>\n",
       "      <td>580</td>\n",
       "      <td>3</td>\n",
       "    </tr>\n",
       "    <tr>\n",
       "      <th>8315</th>\n",
       "      <td>1945</td>\n",
       "      <td>1006193</td>\n",
       "      <td>234470</td>\n",
       "      <td>1240663</td>\n",
       "      <td>20365</td>\n",
       "      <td>2</td>\n",
       "    </tr>\n",
       "    <tr>\n",
       "      <th>8316</th>\n",
       "      <td>Tall Tales from the Magical Garden of Antoon K...</td>\n",
       "      <td>220</td>\n",
       "      <td>12353629</td>\n",
       "      <td>12353849</td>\n",
       "      <td>0</td>\n",
       "      <td>0</td>\n",
       "    </tr>\n",
       "    <tr>\n",
       "      <th>8317</th>\n",
       "      <td>Over the Limit</td>\n",
       "      <td>3243</td>\n",
       "      <td>0</td>\n",
       "      <td>3243</td>\n",
       "      <td>1402</td>\n",
       "      <td>1</td>\n",
       "    </tr>\n",
       "    <tr>\n",
       "      <th>8318</th>\n",
       "      <td>Postcards from London</td>\n",
       "      <td>5312</td>\n",
       "      <td>10236</td>\n",
       "      <td>15548</td>\n",
       "      <td>2686</td>\n",
       "      <td>1</td>\n",
       "    </tr>\n",
       "  </tbody>\n",
       "</table>\n",
       "</div>"
      ],
      "text/plain": [
       "                                                  Title Domestic_Gross  \\\n",
       "8289                                 Tea With the Dames         889343   \n",
       "8290                                             Iceman           2138   \n",
       "8291                                             Detour          16172   \n",
       "8292                                          Jihadists           2104   \n",
       "8293                                 Divide and Conquer          38510   \n",
       "8294                                     A German Youth           2343   \n",
       "8295                              A Fish in the Bathtub           1237   \n",
       "8296                                        Division 19           1699   \n",
       "8297                                           Little Q           1652   \n",
       "8298                                           Game Day           1624   \n",
       "8299                        For Those Who Don't Read Me          36506   \n",
       "8300              American Playhouse: The Killing Floor           1583   \n",
       "8301                                        Indivisible        3511417   \n",
       "8302                      Owaranai hito: Miyazaki Hayao         187320   \n",
       "8303                                The Hours and Times           1273   \n",
       "8304                                   Chinese Portrait           4140   \n",
       "8305                          Narcissister Organ Player          15334   \n",
       "8306                                   The Untold Story            790   \n",
       "8307                                              Senso          27723   \n",
       "8308                                        Serendipity           2298   \n",
       "8309                                  Swimming with Men          24708   \n",
       "8310                      Sgt. Stubby: An American Hero        4015935   \n",
       "8311                                   I Am Not A Witch          50868   \n",
       "8312                                      A Breath Away          77987   \n",
       "8313                                      In Safe Hands           1737   \n",
       "8314                                           Henchmen           1469   \n",
       "8315                                               1945        1006193   \n",
       "8316  Tall Tales from the Magical Garden of Antoon K...            220   \n",
       "8317                                     Over the Limit           3243   \n",
       "8318                              Postcards from London           5312   \n",
       "\n",
       "     International_Gross Worldwide_Gross Opening_Gross  \\\n",
       "8289             2291809         3181152         14777   \n",
       "8290                4581            6719          1372   \n",
       "8291                   0           16172          5127   \n",
       "8292                   0            2104           824   \n",
       "8293                   0           38510         18833   \n",
       "8294                   0            2343           416   \n",
       "8295                   0            1237          1237   \n",
       "8296                 981            2680             0   \n",
       "8297            16358581        16360233          1652   \n",
       "8298                   0            1624          1624   \n",
       "8299                   0           36506          9263   \n",
       "8300                   0            1583          1583   \n",
       "8301               78216         3589633       1503101   \n",
       "8302                   0          187320         10238   \n",
       "8303                   0            1273          1273   \n",
       "8304                   0            4140           546   \n",
       "8305                   0           15334          1983   \n",
       "8306                   0             790           790   \n",
       "8307                   0           27723          3984   \n",
       "8308                   0            2298          1156   \n",
       "8309             1353040         1377748         10336   \n",
       "8310              916759         4932694       1164403   \n",
       "8311              131594          182462          8252   \n",
       "8312             2764053         2842040         16046   \n",
       "8313             7084859         7086596           348   \n",
       "8314                   0            1469           580   \n",
       "8315              234470         1240663         20365   \n",
       "8316            12353629        12353849             0   \n",
       "8317                   0            3243          1402   \n",
       "8318               10236           15548          2686   \n",
       "\n",
       "     Number_of_Opening_Theaters  \n",
       "8289                          1  \n",
       "8290                          7  \n",
       "8291                          1  \n",
       "8292                          1  \n",
       "8293                         15  \n",
       "8294                          1  \n",
       "8295                          3  \n",
       "8296                          0  \n",
       "8297                          1  \n",
       "8298                          4  \n",
       "8299                          5  \n",
       "8300                          1  \n",
       "8301                        830  \n",
       "8302                          4  \n",
       "8303                          1  \n",
       "8304                          1  \n",
       "8305                          1  \n",
       "8306                          1  \n",
       "8307                          1  \n",
       "8308                          2  \n",
       "8309                         31  \n",
       "8310                       1633  \n",
       "8311                          2  \n",
       "8312                         12  \n",
       "8313                          1  \n",
       "8314                          3  \n",
       "8315                          2  \n",
       "8316                          0  \n",
       "8317                          1  \n",
       "8318                          1  "
      ]
     },
     "metadata": {},
     "output_type": "display_data"
    }
   ],
   "source": [
    "display(scraper_frame.tail(30))\n",
    "\n",
    "# scraper_frame.astype({'Domestic_Gross':'int64',\n",
    "#                      'International_Gross':'int64',\n",
    "#                      'Worldwide_Gross':'int64',\n",
    "#                      'Opening_Gross':'int64',\n",
    "#                      'Number_of_Opening_Theaters':'int64'})\n",
    "\n"
   ]
  },
  {
   "cell_type": "markdown",
   "metadata": {},
   "source": [
    "Writes the `dataframe` to a `.csv` file. "
   ]
  },
  {
   "cell_type": "code",
   "execution_count": 302,
   "metadata": {
    "ExecuteTime": {
     "end_time": "2020-07-23T20:03:21.755346Z",
     "start_time": "2020-07-23T20:03:21.726322Z"
    }
   },
   "outputs": [],
   "source": [
    "\n",
    "scraper_frame.to_csv(r'C:\\Users\\Nero_\\Desktop\\CourseWork\\Project_Mod_1\\dsc-mod-1-project-v2-1-onl01-dtsc-ft-070620\\Scraper_test.csv', index=False)"
   ]
  },
  {
   "cell_type": "markdown",
   "metadata": {},
   "source": [
    "## Feature Testing"
   ]
  },
  {
   "cell_type": "code",
   "execution_count": 178,
   "metadata": {
    "ExecuteTime": {
     "end_time": "2020-07-23T15:26:03.277376Z",
     "start_time": "2020-07-23T15:26:02.934065Z"
    }
   },
   "outputs": [],
   "source": [
    "test_url = 'https://www.boxofficemojo.com/release/rl24544769/?ref_=bo_yld_table_191'\n",
    "req_page = requests.get(test_url)"
   ]
  },
  {
   "cell_type": "code",
   "execution_count": 179,
   "metadata": {
    "ExecuteTime": {
     "end_time": "2020-07-23T15:26:03.313409Z",
     "start_time": "2020-07-23T15:26:03.310407Z"
    }
   },
   "outputs": [],
   "source": [
    "test_rating = []\n",
    "test_run_time = []\n",
    "test_genre = []"
   ]
  },
  {
   "cell_type": "code",
   "execution_count": 192,
   "metadata": {
    "ExecuteTime": {
     "end_time": "2020-07-23T15:42:05.959237Z",
     "start_time": "2020-07-23T15:42:05.952231Z"
    }
   },
   "outputs": [],
   "source": [
    "def test_scrape(page_req):\n",
    "    tree = html.fromstring(req_page.content)\n",
    "    \n",
    "    with_budget = ['5', '6', '7']\n",
    "    without_budget = ['4', '5', '6']\n",
    "    \n",
    "    substring = '\\n'\n",
    "    substring2 = 'min'\n",
    "    \n",
    "    \n",
    "    MPAAs = tree.xpath('//*[@id=\"a-page\"]/main/div/div[3]/div[4]/div[4]/span[2]/text()')\n",
    "    if substring or substring2 in MPAAs[0]:\n",
    "        print('Sub or Sub2')\n",
    "        if substring2 in MPAAs[0]:\n",
    "            test_rating.append('Missing')\n",
    "            print('Sub2')\n",
    "        if type(MPAAs) == 'list':\n",
    "            print('List')\n",
    "    elif substring in MPAAs[0]:\n",
    "        print('Elif sub')\n",
    "        MPAAss = tree.xpath('//*[@id=\"a-page\"]/main/div/div[3]/div[4]/div[{}]/span[2]/text()'.format(with_budget[0]))\n",
    "        if MPAAss:\n",
    "            test_rating.append(MPAAss[0])\n",
    "        else:\n",
    "            test_rating.append('Missing')\n",
    "    else:\n",
    "        print('Else')\n",
    "        MPAAs = tree.xpath('//*[@id=\"a-page\"]/main/div/div[3]/div[4]/div[{}]/span[2]/text()'.format(without_budget[0]))\n",
    "        if MPAAsss:\n",
    "            test_rating.append(MPAAsss[0])\n",
    "        else:\n",
    "            test_rating.append('Missing')\n",
    "    \n",
    "#     if substring in MPAAs[0]:\n",
    "            \n",
    "#         MPAAs = tree.xpath('//*[@id=\"a-page\"]/main/div/div[3]/div[4]/div[{}]/span[2]/text()'.format(with_budget[0]))\n",
    "#         if MPAAs:\n",
    "#             test_rating.append(MPAAs[0])\n",
    "#         else:\n",
    "#             test_rating.append('Missing')\n",
    "        \n",
    "#         run_times = tree.xpath('//*[@id=\"a-page\"]/main/div/div[3]/div[4]/div[{}]/span[2]/text()'.format(with_budget[1]))\n",
    "#         if run_times:\n",
    "#             test_run_time.append(run_times[0])\n",
    "#         else:\n",
    "#             test_run_time.append('Missing')\n",
    "        \n",
    "#         genress = tree.xpath('//*[@id=\"a-page\"]/main/div/div[3]/div[4]/div[{}]/span[2]/text()'.format(with_budget[2]))\n",
    "#         if genress:\n",
    "#             test_genre.append(genress[0].replace('\\n','').split())\n",
    "#         else:\n",
    "#             test_genre.append('Missing')\n",
    "        \n",
    "#     else:\n",
    "#         MPAAs = tree.xpath('//*[@id=\"a-page\"]/main/div/div[3]/div[4]/div[{}]/span[2]/text()'.format(without_budget[0]))\n",
    "#         if MPAAs:\n",
    "#             test_rating.append(MPAAs[0])\n",
    "#         else:\n",
    "#             test_rating.append('Missing')\n",
    "        \n",
    "#         run_times = tree.xpath('//*[@id=\"a-page\"]/main/div/div[3]/div[4]/div[{}]/span[2]/text()'.format(without_budget[1]))\n",
    "#         if run_times:\n",
    "#             test_run_time.append(run_times[0])\n",
    "#         else:\n",
    "#             test_run_time.append('Missing')\n",
    "        \n",
    "#         genress = tree.xpath('//*[@id=\"a-page\"]/main/div/div[3]/div[4]/div[{}]/span[2]/text()'.format(without_budget[2]))\n",
    "#         if genress:\n",
    "#             test_genre.append(genress[0].replace('\\n','').split())\n",
    "#         else:\n",
    "#             test_genre.append('Missing')\n",
    "        \n",
    "    \n",
    "#     MPAAs = tree.xpath('//*[@id=\"a-page\"]/main/div/div[3]/div[4]/div[4]/span[2]/text()')\n",
    "#     print(MPAAs)\n",
    "#     if substring in MPAAs[0]:\n",
    "#         error_handle = tree.xpath('//*[@id=\"a-page\"]/main/div/div[3]/div[4]/div[5]/span[2]/text()')\n",
    "#         test_rating.append(error_handle[0])\n",
    "#     elif MPAAs:\n",
    "#         test_rating.append(MPAAs[0])\n",
    "#     else:\n",
    "#         test_rating.append('Missing')\n",
    "    \n",
    "#     run_times = tree.xpath('//*[@id=\"a-page\"]/main/div/div[3]/div[4]/div[5]/span[2]/text()')\n",
    "#     print(run_times)\n",
    "#     if run_times:\n",
    "#         test_run_time.append(run_times[0])\n",
    "#     else:\n",
    "#         test_run_time.append('Missing')\n",
    "\n",
    "    \n",
    "#     genress = tree.xpath('//*[@id=\"a-page\"]/main/div/div[3]/div[4]/div[6]/span[2]/text()')\n",
    "#     print(genress)\n",
    "#     if genress:\n",
    "#         test_genre.append(genress[0].replace('\\n','').split())\n",
    "#     else:\n",
    "#         test_genre.append('Missing')\n",
    "\n",
    "# Budget element on pages with budget data -> //*[@id=\"a-page\"]/main/div/div[3]/div[4]/div[3]/span[2]/span/text()\n",
    "\n",
    "\n",
    "# MPAA element on pages with budget data -> //*[@id=\"a-page\"]/main/div/div[3]/div[4]/div[5]/span[2]/text()\n",
    "# Run-time element on pages with budget data -> //*[@id=\"a-page\"]/main/div/div[3]/div[4]/div[6]/span[2]/font/font/text()\n",
    "# Genres element on pages with budget data -> //*[@id=\"a-page\"]/main/div/div[3]/div[4]/div[7]/span[2]/text()\n",
    "\n",
    "\n",
    "# 3rd box xpath =  //*[@id=\"a-page\"]/main/div/div[3]/div[4]/div[3]/span[2]/span\n",
    "# 5th box xpath =  //*[@id=\"a-page\"]/main/div/div[3]/div[4]/div[5]/span[2]\n",
    "# 6th box xpath = //*[@id=\"a-page\"]/main/div/div[3]/div[4]/div[7]/span[2]\n",
    "    "
   ]
  },
  {
   "cell_type": "code",
   "execution_count": 193,
   "metadata": {
    "ExecuteTime": {
     "end_time": "2020-07-23T15:42:07.185351Z",
     "start_time": "2020-07-23T15:42:07.181347Z"
    }
   },
   "outputs": [
    {
     "name": "stdout",
     "output_type": "stream",
     "text": [
      "Sub or Sub2\n"
     ]
    }
   ],
   "source": [
    "test_scrape(req_page)"
   ]
  },
  {
   "cell_type": "code",
   "execution_count": 194,
   "metadata": {
    "ExecuteTime": {
     "end_time": "2020-07-23T15:42:07.920023Z",
     "start_time": "2020-07-23T15:42:07.917020Z"
    }
   },
   "outputs": [
    {
     "data": {
      "text/plain": [
       "[]"
      ]
     },
     "execution_count": 194,
     "metadata": {},
     "output_type": "execute_result"
    }
   ],
   "source": [
    "test_rating"
   ]
  },
  {
   "cell_type": "code",
   "execution_count": null,
   "metadata": {
    "ExecuteTime": {
     "end_time": "2020-07-23T16:19:57.848670Z",
     "start_time": "2020-07-23T16:19:57.482336Z"
    }
   },
   "outputs": [],
   "source": []
  },
  {
   "cell_type": "code",
   "execution_count": null,
   "metadata": {},
   "outputs": [],
   "source": []
  }
 ],
 "metadata": {
  "kernelspec": {
   "display_name": "Python [conda env:learn-env] *",
   "language": "python",
   "name": "conda-env-learn-env-py"
  },
  "language_info": {
   "codemirror_mode": {
    "name": "ipython",
    "version": 3
   },
   "file_extension": ".py",
   "mimetype": "text/x-python",
   "name": "python",
   "nbconvert_exporter": "python",
   "pygments_lexer": "ipython3",
   "version": "3.6.9"
  },
  "toc": {
   "base_numbering": 1,
   "nav_menu": {},
   "number_sections": true,
   "sideBar": true,
   "skip_h1_title": false,
   "title_cell": "Table of Contents",
   "title_sidebar": "Contents",
   "toc_cell": false,
   "toc_position": {},
   "toc_section_display": true,
   "toc_window_display": false
  },
  "varInspector": {
   "cols": {
    "lenName": 16,
    "lenType": 16,
    "lenVar": 40
   },
   "kernels_config": {
    "python": {
     "delete_cmd_postfix": "",
     "delete_cmd_prefix": "del ",
     "library": "var_list.py",
     "varRefreshCmd": "print(var_dic_list())"
    },
    "r": {
     "delete_cmd_postfix": ") ",
     "delete_cmd_prefix": "rm(",
     "library": "var_list.r",
     "varRefreshCmd": "cat(var_dic_list()) "
    }
   },
   "position": {
    "height": "179px",
    "left": "1997.98px",
    "right": "20px",
    "top": "105.984px",
    "width": "420.969px"
   },
   "types_to_exclude": [
    "module",
    "function",
    "builtin_function_or_method",
    "instance",
    "_Feature"
   ],
   "window_display": true
  }
 },
 "nbformat": 4,
 "nbformat_minor": 2
}
