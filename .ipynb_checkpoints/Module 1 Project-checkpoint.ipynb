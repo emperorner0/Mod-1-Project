{
 "cells": [
  {
   "cell_type": "markdown",
   "metadata": {
    "ExecuteTime": {
     "end_time": "2020-07-24T17:11:15.870133Z",
     "start_time": "2020-07-24T17:11:15.868131Z"
    }
   },
   "source": [
    "# An Examination of Trends in Film\n",
    "\n"
   ]
  },
  {
   "cell_type": "markdown",
   "metadata": {
    "ExecuteTime": {
     "end_time": "2020-07-24T17:11:21.635366Z",
     "start_time": "2020-07-24T17:11:21.633364Z"
    }
   },
   "source": [
    "## Introduction"
   ]
  },
  {
   "cell_type": "code",
   "execution_count": null,
   "metadata": {},
   "outputs": [],
   "source": []
  },
  {
   "cell_type": "code",
   "execution_count": null,
   "metadata": {},
   "outputs": [],
   "source": []
  },
  {
   "cell_type": "markdown",
   "metadata": {},
   "source": [
    "# Data Retrieval"
   ]
  },
  {
   "cell_type": "markdown",
   "metadata": {
    "ExecuteTime": {
     "end_time": "2020-07-24T17:11:51.594828Z",
     "start_time": "2020-07-24T17:11:51.592826Z"
    }
   },
   "source": [
    "## Libraries and Data Retrieval "
   ]
  },
  {
   "cell_type": "markdown",
   "metadata": {
    "ExecuteTime": {
     "end_time": "2020-07-24T17:11:56.827112Z",
     "start_time": "2020-07-24T17:11:56.825111Z"
    }
   },
   "source": [
    "### Library Importations"
   ]
  },
  {
   "cell_type": "markdown",
   "metadata": {},
   "source": []
  },
  {
   "cell_type": "code",
   "execution_count": 329,
   "metadata": {
    "ExecuteTime": {
     "end_time": "2020-07-26T21:03:22.981683Z",
     "start_time": "2020-07-26T21:03:22.978679Z"
    }
   },
   "outputs": [],
   "source": [
    "import pandas as pd \n",
    "import numpy as np\n",
    "import matplotlib.pyplot as plt\n",
    "import seaborn as sns\n",
    "import tmdbsimple as tmdb\n",
    "import requests\n",
    "from tqdm.notebook import tqdm\n",
    "import pprint\n",
    "import time\n",
    "import csv\n",
    "tmdb.API_KEY = '26fb51ea2574691bcb3a7e5d0ce700a2'\n",
    "\n",
    "pp = pprint.PrettyPrinter(indent=2)"
   ]
  },
  {
   "cell_type": "markdown",
   "metadata": {},
   "source": [
    "### Datasets and Retrieval"
   ]
  },
  {
   "cell_type": "code",
   "execution_count": 330,
   "metadata": {
    "ExecuteTime": {
     "end_time": "2020-07-26T21:06:39.976027Z",
     "start_time": "2020-07-26T21:03:23.813600Z"
    }
   },
   "outputs": [
    {
     "data": {
      "application/vnd.jupyter.widget-view+json": {
       "model_id": "d61ba78ab49440e897b1776861b0aa59",
       "version_major": 2,
       "version_minor": 0
      },
      "text/plain": [
       "HBox(children=(FloatProgress(value=0.0, description='ID Append', max=500.0, style=ProgressStyle(description_wi…"
      ]
     },
     "metadata": {},
     "output_type": "display_data"
    },
    {
     "name": "stdout",
     "output_type": "stream",
     "text": [
      "\n"
     ]
    }
   ],
   "source": [
    "discover = tmdb.Discover()\n",
    "\n",
    "id_list = []\n",
    "\n",
    "for pages in tqdm(range(1,501), desc='ID Append'):\n",
    "    page = discover.movie(language='en-US', sort_by='revenue.desc', page=pages, \n",
    "                          certification_country='US', certification_lte='NC-17', \n",
    "                          certification_gte='G', primary_release_date_gte='2010-01-01', \n",
    "                          with_original_language='en')\n",
    "    for film in page['results']:\n",
    "        id_list.append(film['id'])\n",
    "    time.sleep(.16)"
   ]
  },
  {
   "cell_type": "code",
   "execution_count": 331,
   "metadata": {
    "ExecuteTime": {
     "end_time": "2020-07-26T21:06:40.018064Z",
     "start_time": "2020-07-26T21:06:40.010057Z"
    }
   },
   "outputs": [],
   "source": [
    "def movie_info(list_id):\n",
    "    movie = tmdb.Movies(list_id).info()\n",
    "    ratings = tmdb.Movies(list_id).release_dates()\n",
    "\n",
    "    iso = 'iso_3166_1'\n",
    "    for result in ratings['results']:\n",
    "        if result[iso] == 'US':\n",
    "            if result['release_dates'][0]['certification'] == '':\n",
    "                rating = result['release_dates'][1]['certification']\n",
    "            else: \n",
    "                rating = result['release_dates'][0]['certification']\n",
    "    \n",
    "    time.sleep(.05)\n",
    "    movie_dict = {\n",
    "        'title': movie['original_title'],\n",
    "        'release_date': movie['release_date'],\n",
    "        'rating': rating,\n",
    "        'imdb_id': movie['imdb_id'],\n",
    "        'tmbd_id': movie['id'],\n",
    "        'runtime': movie['runtime'],\n",
    "        'genres': [[genre.get('name') for genre in movie['genres']]],\n",
    "        'budget': movie['budget'],\n",
    "        'revenue': movie['revenue']\n",
    "    }\n",
    "    \n",
    "    return movie_dict"
   ]
  },
  {
   "cell_type": "code",
   "execution_count": 332,
   "metadata": {
    "ExecuteTime": {
     "end_time": "2020-07-26T21:11:43.388909Z",
     "start_time": "2020-07-26T21:06:40.051096Z"
    }
   },
   "outputs": [
    {
     "data": {
      "application/vnd.jupyter.widget-view+json": {
       "model_id": "fc3ed51a64b3458e981c353dc47b1508",
       "version_major": 2,
       "version_minor": 0
      },
      "text/plain": [
       "HBox(children=(FloatProgress(value=0.0, max=1000.0), HTML(value='')))"
      ]
     },
     "metadata": {},
     "output_type": "display_data"
    },
    {
     "name": "stdout",
     "output_type": "stream",
     "text": [
      "\n"
     ]
    }
   ],
   "source": [
    "film_dict = []\n",
    "\n",
    "for movie in tqdm(id_list):\n",
    "    try:\n",
    "        film_dict.append(movie_info(movie))\n",
    "    except:\n",
    "        film_dict.append('Missing')\n",
    "        \n"
   ]
  },
  {
   "cell_type": "code",
   "execution_count": 333,
   "metadata": {
    "ExecuteTime": {
     "end_time": "2020-07-26T21:11:44.153603Z",
     "start_time": "2020-07-26T21:11:44.150600Z"
    }
   },
   "outputs": [
    {
     "data": {
      "text/plain": [
       "1000"
      ]
     },
     "execution_count": 333,
     "metadata": {},
     "output_type": "execute_result"
    }
   ],
   "source": [
    "len(film_dict)"
   ]
  },
  {
   "cell_type": "code",
   "execution_count": 343,
   "metadata": {
    "ExecuteTime": {
     "end_time": "2020-07-26T21:30:52.498819Z",
     "start_time": "2020-07-26T21:30:52.495815Z"
    }
   },
   "outputs": [],
   "source": [
    "miss = 'Missing'\n",
    "for count, film in enumerate(film_dict):\n",
    "    if film == miss:\n",
    "        film_dict.pop(count)\n",
    "    if film_dict[count]['rating'] == '':\n",
    "        film_dict.pop(count)"
   ]
  },
  {
   "cell_type": "code",
   "execution_count": 344,
   "metadata": {
    "ExecuteTime": {
     "end_time": "2020-07-26T21:30:52.738544Z",
     "start_time": "2020-07-26T21:30:52.735541Z"
    }
   },
   "outputs": [
    {
     "data": {
      "text/plain": [
       "490"
      ]
     },
     "execution_count": 344,
     "metadata": {},
     "output_type": "execute_result"
    }
   ],
   "source": [
    "len(film_dict)"
   ]
  },
  {
   "cell_type": "code",
   "execution_count": 345,
   "metadata": {
    "ExecuteTime": {
     "end_time": "2020-07-26T21:30:52.916708Z",
     "start_time": "2020-07-26T21:30:52.911704Z"
    }
   },
   "outputs": [],
   "source": [
    "film = pd.DataFrame.from_records(film_dict)"
   ]
  },
  {
   "cell_type": "code",
   "execution_count": 337,
   "metadata": {
    "ExecuteTime": {
     "end_time": "2020-07-26T21:11:44.293731Z",
     "start_time": "2020-07-26T21:11:44.290728Z"
    }
   },
   "outputs": [],
   "source": [
    "film['release_date'] = pd.to_datetime(film['release_date'])"
   ]
  },
  {
   "cell_type": "code",
   "execution_count": 338,
   "metadata": {
    "ExecuteTime": {
     "end_time": "2020-07-26T21:11:44.355788Z",
     "start_time": "2020-07-26T21:11:44.338772Z"
    },
    "scrolled": true
   },
   "outputs": [
    {
     "name": "stdout",
     "output_type": "stream",
     "text": [
      "PG-13    446\n",
      "R        334\n",
      "PG       185\n",
      "G         17\n",
      "           1\n",
      "Name: rating, dtype: int64\n"
     ]
    },
    {
     "data": {
      "text/html": [
       "<div>\n",
       "<style scoped>\n",
       "    .dataframe tbody tr th:only-of-type {\n",
       "        vertical-align: middle;\n",
       "    }\n",
       "\n",
       "    .dataframe tbody tr th {\n",
       "        vertical-align: top;\n",
       "    }\n",
       "\n",
       "    .dataframe thead th {\n",
       "        text-align: right;\n",
       "    }\n",
       "</style>\n",
       "<table border=\"1\" class=\"dataframe\">\n",
       "  <thead>\n",
       "    <tr style=\"text-align: right;\">\n",
       "      <th></th>\n",
       "      <th>title</th>\n",
       "      <th>release_date</th>\n",
       "      <th>rating</th>\n",
       "      <th>imdb_id</th>\n",
       "      <th>tmbd_id</th>\n",
       "      <th>runtime</th>\n",
       "      <th>genres</th>\n",
       "      <th>budget</th>\n",
       "      <th>revenue</th>\n",
       "    </tr>\n",
       "  </thead>\n",
       "  <tbody>\n",
       "    <tr>\n",
       "      <th>0</th>\n",
       "      <td>Avengers: Endgame</td>\n",
       "      <td>2019-04-24</td>\n",
       "      <td>PG-13</td>\n",
       "      <td>tt4154796</td>\n",
       "      <td>299534</td>\n",
       "      <td>181</td>\n",
       "      <td>[[Adventure, Science Fiction, Action]]</td>\n",
       "      <td>356000000</td>\n",
       "      <td>2797800564</td>\n",
       "    </tr>\n",
       "    <tr>\n",
       "      <th>1</th>\n",
       "      <td>Star Wars: The Force Awakens</td>\n",
       "      <td>2015-12-15</td>\n",
       "      <td>PG-13</td>\n",
       "      <td>tt2488496</td>\n",
       "      <td>140607</td>\n",
       "      <td>136</td>\n",
       "      <td>[[Action, Adventure, Science Fiction, Fantasy]]</td>\n",
       "      <td>245000000</td>\n",
       "      <td>2068223624</td>\n",
       "    </tr>\n",
       "    <tr>\n",
       "      <th>2</th>\n",
       "      <td>Avengers: Infinity War</td>\n",
       "      <td>2018-04-25</td>\n",
       "      <td>PG-13</td>\n",
       "      <td>tt4154756</td>\n",
       "      <td>299536</td>\n",
       "      <td>149</td>\n",
       "      <td>[[Adventure, Action, Science Fiction]]</td>\n",
       "      <td>300000000</td>\n",
       "      <td>2046239637</td>\n",
       "    </tr>\n",
       "    <tr>\n",
       "      <th>3</th>\n",
       "      <td>Jurassic World</td>\n",
       "      <td>2015-06-06</td>\n",
       "      <td>PG-13</td>\n",
       "      <td>tt0369610</td>\n",
       "      <td>135397</td>\n",
       "      <td>124</td>\n",
       "      <td>[[Action, Adventure, Science Fiction, Thriller]]</td>\n",
       "      <td>150000000</td>\n",
       "      <td>1671713208</td>\n",
       "    </tr>\n",
       "    <tr>\n",
       "      <th>4</th>\n",
       "      <td>The Lion King</td>\n",
       "      <td>2019-07-12</td>\n",
       "      <td>PG</td>\n",
       "      <td>tt6105098</td>\n",
       "      <td>420818</td>\n",
       "      <td>118</td>\n",
       "      <td>[[Adventure, Family, Music]]</td>\n",
       "      <td>260000000</td>\n",
       "      <td>1656943394</td>\n",
       "    </tr>\n",
       "    <tr>\n",
       "      <th>...</th>\n",
       "      <td>...</td>\n",
       "      <td>...</td>\n",
       "      <td>...</td>\n",
       "      <td>...</td>\n",
       "      <td>...</td>\n",
       "      <td>...</td>\n",
       "      <td>...</td>\n",
       "      <td>...</td>\n",
       "      <td>...</td>\n",
       "    </tr>\n",
       "    <tr>\n",
       "      <th>978</th>\n",
       "      <td>Diary of a Wimpy Kid: The Long Haul</td>\n",
       "      <td>2017-05-19</td>\n",
       "      <td>PG</td>\n",
       "      <td>tt6003368</td>\n",
       "      <td>417830</td>\n",
       "      <td>91</td>\n",
       "      <td>[[Comedy, Family]]</td>\n",
       "      <td>22000000</td>\n",
       "      <td>40120144</td>\n",
       "    </tr>\n",
       "    <tr>\n",
       "      <th>979</th>\n",
       "      <td>As Above, So Below</td>\n",
       "      <td>2014-08-14</td>\n",
       "      <td>R</td>\n",
       "      <td>tt2870612</td>\n",
       "      <td>256274</td>\n",
       "      <td>93</td>\n",
       "      <td>[[Horror, Thriller]]</td>\n",
       "      <td>5000000</td>\n",
       "      <td>40100000</td>\n",
       "    </tr>\n",
       "    <tr>\n",
       "      <th>980</th>\n",
       "      <td>Monte Carlo</td>\n",
       "      <td>2011-07-01</td>\n",
       "      <td>PG</td>\n",
       "      <td>tt1067774</td>\n",
       "      <td>59860</td>\n",
       "      <td>109</td>\n",
       "      <td>[[Adventure, Comedy, Romance]]</td>\n",
       "      <td>20000000</td>\n",
       "      <td>39667665</td>\n",
       "    </tr>\n",
       "    <tr>\n",
       "      <th>981</th>\n",
       "      <td>Sin City: A Dame to Kill For</td>\n",
       "      <td>2014-08-20</td>\n",
       "      <td>R</td>\n",
       "      <td>tt0458481</td>\n",
       "      <td>189</td>\n",
       "      <td>102</td>\n",
       "      <td>[[Crime, Action, Thriller]]</td>\n",
       "      <td>65000000</td>\n",
       "      <td>39407616</td>\n",
       "    </tr>\n",
       "    <tr>\n",
       "      <th>982</th>\n",
       "      <td>50/50</td>\n",
       "      <td>2011-09-30</td>\n",
       "      <td>R</td>\n",
       "      <td>tt1306980</td>\n",
       "      <td>40807</td>\n",
       "      <td>100</td>\n",
       "      <td>[[Comedy, Drama]]</td>\n",
       "      <td>8000000</td>\n",
       "      <td>39187783</td>\n",
       "    </tr>\n",
       "  </tbody>\n",
       "</table>\n",
       "<p>983 rows × 9 columns</p>\n",
       "</div>"
      ],
      "text/plain": [
       "                                   title release_date rating    imdb_id  \\\n",
       "0                      Avengers: Endgame   2019-04-24  PG-13  tt4154796   \n",
       "1           Star Wars: The Force Awakens   2015-12-15  PG-13  tt2488496   \n",
       "2                 Avengers: Infinity War   2018-04-25  PG-13  tt4154756   \n",
       "3                         Jurassic World   2015-06-06  PG-13  tt0369610   \n",
       "4                          The Lion King   2019-07-12     PG  tt6105098   \n",
       "..                                   ...          ...    ...        ...   \n",
       "978  Diary of a Wimpy Kid: The Long Haul   2017-05-19     PG  tt6003368   \n",
       "979                   As Above, So Below   2014-08-14      R  tt2870612   \n",
       "980                          Monte Carlo   2011-07-01     PG  tt1067774   \n",
       "981         Sin City: A Dame to Kill For   2014-08-20      R  tt0458481   \n",
       "982                                50/50   2011-09-30      R  tt1306980   \n",
       "\n",
       "     tmbd_id  runtime                                            genres  \\\n",
       "0     299534      181            [[Adventure, Science Fiction, Action]]   \n",
       "1     140607      136   [[Action, Adventure, Science Fiction, Fantasy]]   \n",
       "2     299536      149            [[Adventure, Action, Science Fiction]]   \n",
       "3     135397      124  [[Action, Adventure, Science Fiction, Thriller]]   \n",
       "4     420818      118                      [[Adventure, Family, Music]]   \n",
       "..       ...      ...                                               ...   \n",
       "978   417830       91                                [[Comedy, Family]]   \n",
       "979   256274       93                              [[Horror, Thriller]]   \n",
       "980    59860      109                    [[Adventure, Comedy, Romance]]   \n",
       "981      189      102                       [[Crime, Action, Thriller]]   \n",
       "982    40807      100                                 [[Comedy, Drama]]   \n",
       "\n",
       "        budget     revenue  \n",
       "0    356000000  2797800564  \n",
       "1    245000000  2068223624  \n",
       "2    300000000  2046239637  \n",
       "3    150000000  1671713208  \n",
       "4    260000000  1656943394  \n",
       "..         ...         ...  \n",
       "978   22000000    40120144  \n",
       "979    5000000    40100000  \n",
       "980   20000000    39667665  \n",
       "981   65000000    39407616  \n",
       "982    8000000    39187783  \n",
       "\n",
       "[983 rows x 9 columns]"
      ]
     },
     "metadata": {},
     "output_type": "display_data"
    }
   ],
   "source": [
    "print(film['rating'].value_counts())\n",
    "display(film)"
   ]
  },
  {
   "cell_type": "markdown",
   "metadata": {},
   "source": [
    "# Data Analysis"
   ]
  },
  {
   "cell_type": "markdown",
   "metadata": {},
   "source": [
    "## Exploratory Data Analysis"
   ]
  },
  {
   "cell_type": "markdown",
   "metadata": {},
   "source": [
    "The data has been stored into the `film` dataframe and the `release_date` column as been converted into a `datetime object`. Taking a look at the `data types` and `Non-Null Count` of the dataframe gives a good idea about what the first steps to further clean the data will be. \n",
    "\n",
    "First we see that after dropping the missing values, before being converted into a dataframe, that we are left with a total of 9,955 entries of the 10,000 scraped.\n",
    "\n",
    "Next we see that in the `release_date` and `runtime` columns we are facing a handful of `Non-Null` entries. "
   ]
  },
  {
   "cell_type": "code",
   "execution_count": 207,
   "metadata": {
    "ExecuteTime": {
     "end_time": "2020-07-25T19:32:06.699931Z",
     "start_time": "2020-07-25T19:32:06.693926Z"
    }
   },
   "outputs": [
    {
     "name": "stdout",
     "output_type": "stream",
     "text": [
      "<class 'pandas.core.frame.DataFrame'>\n",
      "RangeIndex: 483 entries, 0 to 482\n",
      "Data columns (total 7 columns):\n",
      " #   Column        Non-Null Count  Dtype         \n",
      "---  ------        --------------  -----         \n",
      " 0   title         483 non-null    object        \n",
      " 1   release_date  483 non-null    datetime64[ns]\n",
      " 2   rating        483 non-null    object        \n",
      " 3   runtime       483 non-null    int64         \n",
      " 4   genres        483 non-null    object        \n",
      " 5   budget        483 non-null    int64         \n",
      " 6   revenue       483 non-null    int64         \n",
      "dtypes: datetime64[ns](1), int64(3), object(3)\n",
      "memory usage: 26.5+ KB\n"
     ]
    }
   ],
   "source": [
    "film.info()"
   ]
  },
  {
   "cell_type": "markdown",
   "metadata": {},
   "source": [
    "Finding the `Null` count within the two columns missing values as well as the percentage of `Null` values. The dataset is rather large and therefore having a relatively few `null` values will open options for further refining. "
   ]
  },
  {
   "cell_type": "code",
   "execution_count": 63,
   "metadata": {
    "ExecuteTime": {
     "end_time": "2020-07-25T16:12:24.088214Z",
     "start_time": "2020-07-25T16:12:24.083209Z"
    }
   },
   "outputs": [
    {
     "name": "stdout",
     "output_type": "stream",
     "text": [
      "release_date Null count and percentage null: 7 0.07\n",
      "runtime Null count and percentage null: 63 0.633\n"
     ]
    }
   ],
   "source": [
    "print('release_date Null count and percentage null:', film['release_date'].isna().sum(), \n",
    "      round(film['release_date'].isna().sum()/ len(film)*100, 3))\n",
    "print('runtime Null count and percentage null:', film['runtime'].isna().sum(), \n",
    "      round(film['runtime'].isna().sum()/ len(film)*100, 3))"
   ]
  },
  {
   "cell_type": "markdown",
   "metadata": {},
   "source": [
    "With consistency of data taken into consideration we can refer to the percentage counts of `Null` values within the columns observed to make decision on what actions to take to rectify the values. \n",
    "\n",
    "Considering the relatively low count of `null` values when compared to the dataset as a whole it is reasonable to consider dropping the `null` values as a valid strategy to deal with them. "
   ]
  },
  {
   "cell_type": "code",
   "execution_count": 67,
   "metadata": {
    "ExecuteTime": {
     "end_time": "2020-07-25T16:40:07.536007Z",
     "start_time": "2020-07-25T16:40:07.529002Z"
    }
   },
   "outputs": [
    {
     "data": {
      "text/plain": [
       "9885"
      ]
     },
     "execution_count": 67,
     "metadata": {},
     "output_type": "execute_result"
    }
   ],
   "source": [
    "film.dropna(inplace=True)\n",
    "len(film)"
   ]
  },
  {
   "cell_type": "code",
   "execution_count": 73,
   "metadata": {
    "ExecuteTime": {
     "end_time": "2020-07-25T17:00:15.505640Z",
     "start_time": "2020-07-25T17:00:15.502637Z"
    }
   },
   "outputs": [
    {
     "name": "stdout",
     "output_type": "stream",
     "text": [
      "99.3 % of dataset remaining\n"
     ]
    }
   ],
   "source": [
    "print(round((len(film)/9955)*100, 2),'% of dataset remaining')"
   ]
  },
  {
   "cell_type": "code",
   "execution_count": 74,
   "metadata": {
    "ExecuteTime": {
     "end_time": "2020-07-25T17:02:41.463333Z",
     "start_time": "2020-07-25T17:02:41.454324Z"
    }
   },
   "outputs": [
    {
     "data": {
      "text/html": [
       "<div>\n",
       "<style scoped>\n",
       "    .dataframe tbody tr th:only-of-type {\n",
       "        vertical-align: middle;\n",
       "    }\n",
       "\n",
       "    .dataframe tbody tr th {\n",
       "        vertical-align: top;\n",
       "    }\n",
       "\n",
       "    .dataframe thead th {\n",
       "        text-align: right;\n",
       "    }\n",
       "</style>\n",
       "<table border=\"1\" class=\"dataframe\">\n",
       "  <thead>\n",
       "    <tr style=\"text-align: right;\">\n",
       "      <th></th>\n",
       "      <th>title</th>\n",
       "      <th>release_date</th>\n",
       "      <th>runtime</th>\n",
       "      <th>genres</th>\n",
       "      <th>budget</th>\n",
       "      <th>revenue</th>\n",
       "    </tr>\n",
       "  </thead>\n",
       "  <tbody>\n",
       "    <tr>\n",
       "      <th>0</th>\n",
       "      <td>Avengers: Endgame</td>\n",
       "      <td>2019-04-24</td>\n",
       "      <td>181.0</td>\n",
       "      <td>[[Adventure, Science Fiction, Action]]</td>\n",
       "      <td>356000000</td>\n",
       "      <td>2797800564</td>\n",
       "    </tr>\n",
       "    <tr>\n",
       "      <th>1</th>\n",
       "      <td>Star Wars: The Force Awakens</td>\n",
       "      <td>2015-12-15</td>\n",
       "      <td>136.0</td>\n",
       "      <td>[[Action, Adventure, Science Fiction, Fantasy]]</td>\n",
       "      <td>245000000</td>\n",
       "      <td>2068223624</td>\n",
       "    </tr>\n",
       "    <tr>\n",
       "      <th>2</th>\n",
       "      <td>Avengers: Infinity War</td>\n",
       "      <td>2018-04-25</td>\n",
       "      <td>149.0</td>\n",
       "      <td>[[Adventure, Action, Science Fiction]]</td>\n",
       "      <td>300000000</td>\n",
       "      <td>2046239637</td>\n",
       "    </tr>\n",
       "    <tr>\n",
       "      <th>3</th>\n",
       "      <td>Jurassic World</td>\n",
       "      <td>2015-06-06</td>\n",
       "      <td>124.0</td>\n",
       "      <td>[[Action, Adventure, Science Fiction, Thriller]]</td>\n",
       "      <td>150000000</td>\n",
       "      <td>1671713208</td>\n",
       "    </tr>\n",
       "    <tr>\n",
       "      <th>4</th>\n",
       "      <td>The Lion King</td>\n",
       "      <td>2019-07-12</td>\n",
       "      <td>118.0</td>\n",
       "      <td>[[Adventure, Family, Music]]</td>\n",
       "      <td>260000000</td>\n",
       "      <td>1656943394</td>\n",
       "    </tr>\n",
       "  </tbody>\n",
       "</table>\n",
       "</div>"
      ],
      "text/plain": [
       "                          title release_date  runtime  \\\n",
       "0             Avengers: Endgame   2019-04-24    181.0   \n",
       "1  Star Wars: The Force Awakens   2015-12-15    136.0   \n",
       "2        Avengers: Infinity War   2018-04-25    149.0   \n",
       "3                Jurassic World   2015-06-06    124.0   \n",
       "4                 The Lion King   2019-07-12    118.0   \n",
       "\n",
       "                                             genres     budget     revenue  \n",
       "0            [[Adventure, Science Fiction, Action]]  356000000  2797800564  \n",
       "1   [[Action, Adventure, Science Fiction, Fantasy]]  245000000  2068223624  \n",
       "2            [[Adventure, Action, Science Fiction]]  300000000  2046239637  \n",
       "3  [[Action, Adventure, Science Fiction, Thriller]]  150000000  1671713208  \n",
       "4                      [[Adventure, Family, Music]]  260000000  1656943394  "
      ]
     },
     "execution_count": 74,
     "metadata": {},
     "output_type": "execute_result"
    }
   ],
   "source": [
    "film.head()"
   ]
  },
  {
   "cell_type": "markdown",
   "metadata": {},
   "source": [
    "Now the `null` values within the dataframe has been dropped and we are left with over 99% of our data left. The next task in order to get the data into a usable form is to convert the `runtime` column from a `float` type into an `int` type. "
   ]
  },
  {
   "cell_type": "code",
   "execution_count": 75,
   "metadata": {
    "ExecuteTime": {
     "end_time": "2020-07-25T17:10:03.493177Z",
     "start_time": "2020-07-25T17:10:03.478164Z"
    }
   },
   "outputs": [
    {
     "data": {
      "text/html": [
       "<div>\n",
       "<style scoped>\n",
       "    .dataframe tbody tr th:only-of-type {\n",
       "        vertical-align: middle;\n",
       "    }\n",
       "\n",
       "    .dataframe tbody tr th {\n",
       "        vertical-align: top;\n",
       "    }\n",
       "\n",
       "    .dataframe thead th {\n",
       "        text-align: right;\n",
       "    }\n",
       "</style>\n",
       "<table border=\"1\" class=\"dataframe\">\n",
       "  <thead>\n",
       "    <tr style=\"text-align: right;\">\n",
       "      <th></th>\n",
       "      <th>title</th>\n",
       "      <th>release_date</th>\n",
       "      <th>runtime</th>\n",
       "      <th>genres</th>\n",
       "      <th>budget</th>\n",
       "      <th>revenue</th>\n",
       "    </tr>\n",
       "  </thead>\n",
       "  <tbody>\n",
       "    <tr>\n",
       "      <th>0</th>\n",
       "      <td>Avengers: Endgame</td>\n",
       "      <td>2019-04-24</td>\n",
       "      <td>181</td>\n",
       "      <td>[[Adventure, Science Fiction, Action]]</td>\n",
       "      <td>356000000</td>\n",
       "      <td>2797800564</td>\n",
       "    </tr>\n",
       "    <tr>\n",
       "      <th>1</th>\n",
       "      <td>Star Wars: The Force Awakens</td>\n",
       "      <td>2015-12-15</td>\n",
       "      <td>136</td>\n",
       "      <td>[[Action, Adventure, Science Fiction, Fantasy]]</td>\n",
       "      <td>245000000</td>\n",
       "      <td>2068223624</td>\n",
       "    </tr>\n",
       "    <tr>\n",
       "      <th>2</th>\n",
       "      <td>Avengers: Infinity War</td>\n",
       "      <td>2018-04-25</td>\n",
       "      <td>149</td>\n",
       "      <td>[[Adventure, Action, Science Fiction]]</td>\n",
       "      <td>300000000</td>\n",
       "      <td>2046239637</td>\n",
       "    </tr>\n",
       "    <tr>\n",
       "      <th>3</th>\n",
       "      <td>Jurassic World</td>\n",
       "      <td>2015-06-06</td>\n",
       "      <td>124</td>\n",
       "      <td>[[Action, Adventure, Science Fiction, Thriller]]</td>\n",
       "      <td>150000000</td>\n",
       "      <td>1671713208</td>\n",
       "    </tr>\n",
       "    <tr>\n",
       "      <th>4</th>\n",
       "      <td>The Lion King</td>\n",
       "      <td>2019-07-12</td>\n",
       "      <td>118</td>\n",
       "      <td>[[Adventure, Family, Music]]</td>\n",
       "      <td>260000000</td>\n",
       "      <td>1656943394</td>\n",
       "    </tr>\n",
       "    <tr>\n",
       "      <th>...</th>\n",
       "      <td>...</td>\n",
       "      <td>...</td>\n",
       "      <td>...</td>\n",
       "      <td>...</td>\n",
       "      <td>...</td>\n",
       "      <td>...</td>\n",
       "    </tr>\n",
       "    <tr>\n",
       "      <th>9950</th>\n",
       "      <td>Untitled George Carlin Documentary</td>\n",
       "      <td>2022-12-31</td>\n",
       "      <td>0</td>\n",
       "      <td>[[Documentary]]</td>\n",
       "      <td>0</td>\n",
       "      <td>0</td>\n",
       "    </tr>\n",
       "    <tr>\n",
       "      <th>9951</th>\n",
       "      <td>Instrucciones Para Recuperar la Memoria</td>\n",
       "      <td>2016-06-01</td>\n",
       "      <td>9</td>\n",
       "      <td>[[Drama, Documentary]]</td>\n",
       "      <td>0</td>\n",
       "      <td>0</td>\n",
       "    </tr>\n",
       "    <tr>\n",
       "      <th>9952</th>\n",
       "      <td>Pretend That You Love Me</td>\n",
       "      <td>2020-06-12</td>\n",
       "      <td>94</td>\n",
       "      <td>[[]]</td>\n",
       "      <td>50</td>\n",
       "      <td>0</td>\n",
       "    </tr>\n",
       "    <tr>\n",
       "      <th>9953</th>\n",
       "      <td>Iraq: A Veritable Imposture</td>\n",
       "      <td>2017-12-17</td>\n",
       "      <td>0</td>\n",
       "      <td>[[]]</td>\n",
       "      <td>0</td>\n",
       "      <td>0</td>\n",
       "    </tr>\n",
       "    <tr>\n",
       "      <th>9954</th>\n",
       "      <td>Tokyo, il était une fois le marché aux poissons</td>\n",
       "      <td>2019-06-19</td>\n",
       "      <td>0</td>\n",
       "      <td>[[Documentary]]</td>\n",
       "      <td>0</td>\n",
       "      <td>0</td>\n",
       "    </tr>\n",
       "  </tbody>\n",
       "</table>\n",
       "<p>9885 rows × 6 columns</p>\n",
       "</div>"
      ],
      "text/plain": [
       "                                                title release_date  runtime  \\\n",
       "0                                   Avengers: Endgame   2019-04-24      181   \n",
       "1                        Star Wars: The Force Awakens   2015-12-15      136   \n",
       "2                              Avengers: Infinity War   2018-04-25      149   \n",
       "3                                      Jurassic World   2015-06-06      124   \n",
       "4                                       The Lion King   2019-07-12      118   \n",
       "...                                               ...          ...      ...   \n",
       "9950               Untitled George Carlin Documentary   2022-12-31        0   \n",
       "9951          Instrucciones Para Recuperar la Memoria   2016-06-01        9   \n",
       "9952                         Pretend That You Love Me   2020-06-12       94   \n",
       "9953                      Iraq: A Veritable Imposture   2017-12-17        0   \n",
       "9954  Tokyo, il était une fois le marché aux poissons   2019-06-19        0   \n",
       "\n",
       "                                                genres     budget     revenue  \n",
       "0               [[Adventure, Science Fiction, Action]]  356000000  2797800564  \n",
       "1      [[Action, Adventure, Science Fiction, Fantasy]]  245000000  2068223624  \n",
       "2               [[Adventure, Action, Science Fiction]]  300000000  2046239637  \n",
       "3     [[Action, Adventure, Science Fiction, Thriller]]  150000000  1671713208  \n",
       "4                         [[Adventure, Family, Music]]  260000000  1656943394  \n",
       "...                                                ...        ...         ...  \n",
       "9950                                   [[Documentary]]          0           0  \n",
       "9951                            [[Drama, Documentary]]          0           0  \n",
       "9952                                              [[]]         50           0  \n",
       "9953                                              [[]]          0           0  \n",
       "9954                                   [[Documentary]]          0           0  \n",
       "\n",
       "[9885 rows x 6 columns]"
      ]
     },
     "execution_count": 75,
     "metadata": {},
     "output_type": "execute_result"
    }
   ],
   "source": [
    "film.astype({'runtime': 'int64'})"
   ]
  },
  {
   "cell_type": "markdown",
   "metadata": {},
   "source": [
    "To further our goal of cleaning for an accurate representation of our data it is imperative to find further discrepancies and outliers within our data that will invalidate further calculations that we wish to perform on the dataset."
   ]
  },
  {
   "cell_type": "code",
   "execution_count": 77,
   "metadata": {
    "ExecuteTime": {
     "end_time": "2020-07-25T17:18:27.558669Z",
     "start_time": "2020-07-25T17:18:27.545657Z"
    }
   },
   "outputs": [
    {
     "data": {
      "text/html": [
       "<div>\n",
       "<style scoped>\n",
       "    .dataframe tbody tr th:only-of-type {\n",
       "        vertical-align: middle;\n",
       "    }\n",
       "\n",
       "    .dataframe tbody tr th {\n",
       "        vertical-align: top;\n",
       "    }\n",
       "\n",
       "    .dataframe thead th {\n",
       "        text-align: right;\n",
       "    }\n",
       "</style>\n",
       "<table border=\"1\" class=\"dataframe\">\n",
       "  <thead>\n",
       "    <tr style=\"text-align: right;\">\n",
       "      <th></th>\n",
       "      <th>runtime</th>\n",
       "      <th>budget</th>\n",
       "      <th>revenue</th>\n",
       "    </tr>\n",
       "  </thead>\n",
       "  <tbody>\n",
       "    <tr>\n",
       "      <th>count</th>\n",
       "      <td>9885.000000</td>\n",
       "      <td>9.885000e+03</td>\n",
       "      <td>9.885000e+03</td>\n",
       "    </tr>\n",
       "    <tr>\n",
       "      <th>mean</th>\n",
       "      <td>64.909762</td>\n",
       "      <td>8.765671e+06</td>\n",
       "      <td>2.924087e+07</td>\n",
       "    </tr>\n",
       "    <tr>\n",
       "      <th>std</th>\n",
       "      <td>91.067874</td>\n",
       "      <td>2.897265e+07</td>\n",
       "      <td>1.213201e+08</td>\n",
       "    </tr>\n",
       "    <tr>\n",
       "      <th>min</th>\n",
       "      <td>0.000000</td>\n",
       "      <td>0.000000e+00</td>\n",
       "      <td>0.000000e+00</td>\n",
       "    </tr>\n",
       "    <tr>\n",
       "      <th>25%</th>\n",
       "      <td>6.000000</td>\n",
       "      <td>0.000000e+00</td>\n",
       "      <td>0.000000e+00</td>\n",
       "    </tr>\n",
       "    <tr>\n",
       "      <th>50%</th>\n",
       "      <td>81.000000</td>\n",
       "      <td>0.000000e+00</td>\n",
       "      <td>0.000000e+00</td>\n",
       "    </tr>\n",
       "    <tr>\n",
       "      <th>75%</th>\n",
       "      <td>105.000000</td>\n",
       "      <td>7.000000e+05</td>\n",
       "      <td>3.324330e+06</td>\n",
       "    </tr>\n",
       "    <tr>\n",
       "      <th>max</th>\n",
       "      <td>7200.000000</td>\n",
       "      <td>3.800000e+08</td>\n",
       "      <td>2.797801e+09</td>\n",
       "    </tr>\n",
       "  </tbody>\n",
       "</table>\n",
       "</div>"
      ],
      "text/plain": [
       "           runtime        budget       revenue\n",
       "count  9885.000000  9.885000e+03  9.885000e+03\n",
       "mean     64.909762  8.765671e+06  2.924087e+07\n",
       "std      91.067874  2.897265e+07  1.213201e+08\n",
       "min       0.000000  0.000000e+00  0.000000e+00\n",
       "25%       6.000000  0.000000e+00  0.000000e+00\n",
       "50%      81.000000  0.000000e+00  0.000000e+00\n",
       "75%     105.000000  7.000000e+05  3.324330e+06\n",
       "max    7200.000000  3.800000e+08  2.797801e+09"
      ]
     },
     "execution_count": 77,
     "metadata": {},
     "output_type": "execute_result"
    }
   ],
   "source": [
    "film.describe()"
   ]
  },
  {
   "cell_type": "code",
   "execution_count": null,
   "metadata": {},
   "outputs": [],
   "source": []
  }
 ],
 "metadata": {
  "kernelspec": {
   "display_name": "Python [conda env:learn-env] *",
   "language": "python",
   "name": "conda-env-learn-env-py"
  },
  "language_info": {
   "codemirror_mode": {
    "name": "ipython",
    "version": 3
   },
   "file_extension": ".py",
   "mimetype": "text/x-python",
   "name": "python",
   "nbconvert_exporter": "python",
   "pygments_lexer": "ipython3",
   "version": "3.6.9"
  },
  "toc": {
   "base_numbering": 1,
   "nav_menu": {},
   "number_sections": true,
   "sideBar": true,
   "skip_h1_title": false,
   "title_cell": "Table of Contents",
   "title_sidebar": "Contents",
   "toc_cell": false,
   "toc_position": {},
   "toc_section_display": true,
   "toc_window_display": false
  },
  "varInspector": {
   "cols": {
    "lenName": 16,
    "lenType": 16,
    "lenVar": 40
   },
   "kernels_config": {
    "python": {
     "delete_cmd_postfix": "",
     "delete_cmd_prefix": "del ",
     "library": "var_list.py",
     "varRefreshCmd": "print(var_dic_list())"
    },
    "r": {
     "delete_cmd_postfix": ") ",
     "delete_cmd_prefix": "rm(",
     "library": "var_list.r",
     "varRefreshCmd": "cat(var_dic_list()) "
    }
   },
   "oldHeight": 263,
   "position": {
    "height": "285px",
    "left": "1997px",
    "right": "20px",
    "top": "20px",
    "width": "414px"
   },
   "types_to_exclude": [
    "module",
    "function",
    "builtin_function_or_method",
    "instance",
    "_Feature"
   ],
   "varInspector_section_display": "block",
   "window_display": true
  }
 },
 "nbformat": 4,
 "nbformat_minor": 2
}
