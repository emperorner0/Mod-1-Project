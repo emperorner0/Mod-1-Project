{
 "cells": [
  {
   "cell_type": "markdown",
   "metadata": {
    "ExecuteTime": {
     "end_time": "2020-07-24T17:11:15.870133Z",
     "start_time": "2020-07-24T17:11:15.868131Z"
    }
   },
   "source": [
    "# An Examination of Current Trends in Film\n",
    "\n"
   ]
  },
  {
   "cell_type": "markdown",
   "metadata": {
    "ExecuteTime": {
     "end_time": "2020-07-24T17:11:21.635366Z",
     "start_time": "2020-07-24T17:11:21.633364Z"
    }
   },
   "source": [
    "## Introduction"
   ]
  },
  {
   "cell_type": "code",
   "execution_count": null,
   "metadata": {},
   "outputs": [],
   "source": []
  },
  {
   "cell_type": "code",
   "execution_count": null,
   "metadata": {},
   "outputs": [],
   "source": []
  },
  {
   "cell_type": "markdown",
   "metadata": {},
   "source": [
    "# Data Retrieval"
   ]
  },
  {
   "cell_type": "markdown",
   "metadata": {
    "ExecuteTime": {
     "end_time": "2020-07-24T17:11:51.594828Z",
     "start_time": "2020-07-24T17:11:51.592826Z"
    }
   },
   "source": [
    "## Required Libraries and Data Retrieval "
   ]
  },
  {
   "cell_type": "markdown",
   "metadata": {
    "ExecuteTime": {
     "end_time": "2020-07-24T17:11:56.827112Z",
     "start_time": "2020-07-24T17:11:56.825111Z"
    }
   },
   "source": [
    "### Library Importations"
   ]
  },
  {
   "cell_type": "code",
   "execution_count": 5,
   "metadata": {
    "ExecuteTime": {
     "end_time": "2020-07-24T17:12:25.425888Z",
     "start_time": "2020-07-24T17:12:24.476025Z"
    }
   },
   "outputs": [
    {
     "name": "stderr",
     "output_type": "stream",
     "text": [
      "C:\\Users\\Nero_\\anaconda3\\envs\\learn-env\\lib\\site-packages\\statsmodels\\tools\\_testing.py:19: FutureWarning: pandas.util.testing is deprecated. Use the functions in the public API at pandas.testing instead.\n",
      "  import pandas.util.testing as tm\n"
     ]
    }
   ],
   "source": [
    "import pandas as pd \n",
    "import numpy as np\n",
    "import matplotlib.pyplot as plt\n",
    "import seaborn as sns\n",
    "import tmdbsimple as tmdb\n",
    "import requests\n",
    "from tqdm.notebook import tqdm\n",
    "tmdb.API_KEY = '26fb51ea2574691bcb3a7e5d0ce700a2'"
   ]
  },
  {
   "cell_type": "markdown",
   "metadata": {},
   "source": [
    "### Datasets and Retrieval"
   ]
  },
  {
   "cell_type": "code",
   "execution_count": null,
   "metadata": {},
   "outputs": [],
   "source": [
    "top_250 = tmdb.Lists(634)\n",
    "top_250_dict = top_250.info()\n",
    "\n",
    "imdb_id = []\n",
    "\n",
    "for item in tqdm(top_250_dict['items']):\n",
    "    film_id = item['id']\n",
    "    imdb_id.append(film_id)\n",
    "    \n",
    "title = []\n",
    "budget = []\n",
    "revenue = []\n",
    "\n",
    "for film in tqdm(imdb_id, desc='List Append'):\n",
    "    \n",
    "    film1 = tmdb.Movies(film)\n",
    "    film1_info = film1.info()\n",
    "    \n",
    "    title.append(film1_info['original_title'])\n",
    "    budget.append(film1_info['budget'])\n",
    "    revenue.append(film1_info['revenue'])"
   ]
  },
  {
   "cell_type": "code",
   "execution_count": null,
   "metadata": {
    "ExecuteTime": {
     "end_time": "2020-07-24T16:21:54.872495Z",
     "start_time": "2020-07-24T16:21:52.934737Z"
    }
   },
   "outputs": [],
   "source": [
    "discover = tmdb.Discover()\n",
    "page = discover.movie(language='en-US', sort_by='revenue.desc', page=1, primary_release_date_gte='2010-01-01')\n",
    "\n",
    "page_list = [1, 2, 3, 4, 5]\n",
    "\n",
    "page_thing = []\n",
    "\n",
    "for pages in tqdm(range(1,11), desc='Page Append'):\n",
    "    discover = tmdb.Discover()\n",
    "    page = discover.movie(language='en-US', sort_by='revenue.desc', page=pages, \n",
    "                          primary_release_date_gte='2010-01-01', with_original_language='en')\n",
    "    page_thing.append(page)"
   ]
  },
  {
   "cell_type": "code",
   "execution_count": null,
   "metadata": {
    "ExecuteTime": {
     "end_time": "2020-07-24T16:21:54.886507Z",
     "start_time": "2020-07-24T16:21:54.882503Z"
    }
   },
   "outputs": [],
   "source": [
    "for result in page_thing[5]['results']:\n",
    "    print(result['original_title'])"
   ]
  },
  {
   "cell_type": "code",
   "execution_count": null,
   "metadata": {},
   "outputs": [],
   "source": []
  },
  {
   "cell_type": "markdown",
   "metadata": {},
   "source": [
    "# Data Analysis"
   ]
  },
  {
   "cell_type": "code",
   "execution_count": null,
   "metadata": {},
   "outputs": [],
   "source": []
  }
 ],
 "metadata": {
  "kernelspec": {
   "display_name": "Python [conda env:learn-env] *",
   "language": "python",
   "name": "conda-env-learn-env-py"
  },
  "language_info": {
   "codemirror_mode": {
    "name": "ipython",
    "version": 3
   },
   "file_extension": ".py",
   "mimetype": "text/x-python",
   "name": "python",
   "nbconvert_exporter": "python",
   "pygments_lexer": "ipython3",
   "version": "3.6.9"
  },
  "toc": {
   "base_numbering": 1,
   "nav_menu": {},
   "number_sections": true,
   "sideBar": true,
   "skip_h1_title": false,
   "title_cell": "Table of Contents",
   "title_sidebar": "Contents",
   "toc_cell": false,
   "toc_position": {},
   "toc_section_display": true,
   "toc_window_display": true
  },
  "varInspector": {
   "cols": {
    "lenName": 16,
    "lenType": 16,
    "lenVar": 40
   },
   "kernels_config": {
    "python": {
     "delete_cmd_postfix": "",
     "delete_cmd_prefix": "del ",
     "library": "var_list.py",
     "varRefreshCmd": "print(var_dic_list())"
    },
    "r": {
     "delete_cmd_postfix": ") ",
     "delete_cmd_prefix": "rm(",
     "library": "var_list.r",
     "varRefreshCmd": "cat(var_dic_list()) "
    }
   },
   "types_to_exclude": [
    "module",
    "function",
    "builtin_function_or_method",
    "instance",
    "_Feature"
   ],
   "window_display": true
  }
 },
 "nbformat": 4,
 "nbformat_minor": 2
}
