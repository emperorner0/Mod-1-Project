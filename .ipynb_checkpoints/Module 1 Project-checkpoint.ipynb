{
 "cells": [
  {
   "cell_type": "markdown",
   "metadata": {
    "ExecuteTime": {
     "end_time": "2020-07-24T17:11:15.870133Z",
     "start_time": "2020-07-24T17:11:15.868131Z"
    }
   },
   "source": [
    "# An Examination of Current Trends in Film\n",
    "\n"
   ]
  },
  {
   "cell_type": "markdown",
   "metadata": {
    "ExecuteTime": {
     "end_time": "2020-07-24T17:11:21.635366Z",
     "start_time": "2020-07-24T17:11:21.633364Z"
    }
   },
   "source": [
    "## Introduction"
   ]
  },
  {
   "cell_type": "code",
   "execution_count": null,
   "metadata": {},
   "outputs": [],
   "source": []
  },
  {
   "cell_type": "code",
   "execution_count": null,
   "metadata": {},
   "outputs": [],
   "source": []
  },
  {
   "cell_type": "markdown",
   "metadata": {},
   "source": [
    "# Data Retrieval"
   ]
  },
  {
   "cell_type": "markdown",
   "metadata": {
    "ExecuteTime": {
     "end_time": "2020-07-24T17:11:51.594828Z",
     "start_time": "2020-07-24T17:11:51.592826Z"
    }
   },
   "source": [
    "## Required Libraries and Data Retrieval "
   ]
  },
  {
   "cell_type": "markdown",
   "metadata": {
    "ExecuteTime": {
     "end_time": "2020-07-24T17:11:56.827112Z",
     "start_time": "2020-07-24T17:11:56.825111Z"
    }
   },
   "source": [
    "### Library Importations"
   ]
  },
  {
   "cell_type": "code",
   "execution_count": 130,
   "metadata": {
    "ExecuteTime": {
     "end_time": "2020-07-24T21:23:39.228940Z",
     "start_time": "2020-07-24T21:23:39.225938Z"
    }
   },
   "outputs": [],
   "source": [
    "import pandas as pd \n",
    "import numpy as np\n",
    "import matplotlib.pyplot as plt\n",
    "import seaborn as sns\n",
    "import tmdbsimple as tmdb\n",
    "import requests\n",
    "from tqdm.notebook import tqdm\n",
    "import pprint\n",
    "import time\n",
    "import csv\n",
    "tmdb.API_KEY = '26fb51ea2574691bcb3a7e5d0ce700a2'\n",
    "\n",
    "pp = pprint.PrettyPrinter(indent=2)"
   ]
  },
  {
   "cell_type": "markdown",
   "metadata": {},
   "source": [
    "### Datasets and Retrieval"
   ]
  },
  {
   "cell_type": "code",
   "execution_count": 109,
   "metadata": {
    "ExecuteTime": {
     "end_time": "2020-07-24T20:10:51.975606Z",
     "start_time": "2020-07-24T20:07:54.248936Z"
    }
   },
   "outputs": [
    {
     "data": {
      "application/vnd.jupyter.widget-view+json": {
       "model_id": "f99d4fed37d94f7a97c4e6ac085cb158",
       "version_major": 2,
       "version_minor": 0
      },
      "text/plain": [
       "HBox(children=(FloatProgress(value=0.0, description='ID Append', max=500.0, style=ProgressStyle(description_wi…"
      ]
     },
     "metadata": {},
     "output_type": "display_data"
    },
    {
     "name": "stdout",
     "output_type": "stream",
     "text": [
      "\n"
     ]
    }
   ],
   "source": [
    "discover = tmdb.Discover()\n",
    "\n",
    "id_list = []\n",
    "\n",
    "for pages in tqdm(range(1,501), desc='ID Append'):\n",
    "    page = discover.movie(language='en-US', sort_by='revenue.desc', page=pages, \n",
    "                          primary_release_date_gte='2010-01-01')\n",
    "    for film in page['results']:\n",
    "        id_list.append(film['id'])\n",
    "    time.sleep(.15)"
   ]
  },
  {
   "cell_type": "code",
   "execution_count": 112,
   "metadata": {
    "ExecuteTime": {
     "end_time": "2020-07-24T20:11:55.067486Z",
     "start_time": "2020-07-24T20:11:55.064483Z"
    }
   },
   "outputs": [],
   "source": [
    "def movie_info(list_id):\n",
    "    movie = tmdb.Movies(list_id).info()\n",
    "    time.sleep(.15)\n",
    "    movie_dict = {\n",
    "        'title': movie['original_title'],\n",
    "        'release_date': movie['release_date'],\n",
    "        'runtime': movie['runtime'],\n",
    "        'genres': [genre.get('name') for genre in movie['genres']],\n",
    "        'budget': movie['budget'],\n",
    "        'revenue': movie['revenue']\n",
    "    }\n",
    "    \n",
    "    return movie_dict"
   ]
  },
  {
   "cell_type": "code",
   "execution_count": 114,
   "metadata": {
    "ExecuteTime": {
     "end_time": "2020-07-24T21:09:35.931965Z",
     "start_time": "2020-07-24T20:18:58.256814Z"
    }
   },
   "outputs": [
    {
     "data": {
      "application/vnd.jupyter.widget-view+json": {
       "model_id": "7bc92dafc60b4f21a6bfd741108b820d",
       "version_major": 2,
       "version_minor": 0
      },
      "text/plain": [
       "HBox(children=(FloatProgress(value=0.0, max=10000.0), HTML(value='')))"
      ]
     },
     "metadata": {},
     "output_type": "display_data"
    },
    {
     "name": "stdout",
     "output_type": "stream",
     "text": [
      "\n"
     ]
    }
   ],
   "source": [
    "film_dict = []\n",
    "\n",
    "for movie in tqdm(id_list):\n",
    "    try:\n",
    "        film_dict.append(movie_info(movie))\n",
    "    except:\n",
    "        film_dict.append('Missing')"
   ]
  },
  {
   "cell_type": "code",
   "execution_count": 145,
   "metadata": {
    "ExecuteTime": {
     "end_time": "2020-07-24T21:55:11.407297Z",
     "start_time": "2020-07-24T21:55:11.398290Z"
    }
   },
   "outputs": [
    {
     "ename": "ValueError",
     "evalue": "list.remove(x): x not in list",
     "output_type": "error",
     "traceback": [
      "\u001b[1;31m---------------------------------------------------------------------------\u001b[0m",
      "\u001b[1;31mValueError\u001b[0m                                Traceback (most recent call last)",
      "\u001b[1;32m<ipython-input-145-0cdae5d49ad1>\u001b[0m in \u001b[0;36m<module>\u001b[1;34m\u001b[0m\n\u001b[1;32m----> 1\u001b[1;33m \u001b[0mfilm_dict\u001b[0m\u001b[1;33m.\u001b[0m\u001b[0mremove\u001b[0m\u001b[1;33m(\u001b[0m\u001b[1;34m'Missing'\u001b[0m\u001b[1;33m[\u001b[0m\u001b[1;36m0\u001b[0m\u001b[1;33m]\u001b[0m\u001b[1;33m)\u001b[0m\u001b[1;33m\u001b[0m\u001b[1;33m\u001b[0m\u001b[0m\n\u001b[0m",
      "\u001b[1;31mValueError\u001b[0m: list.remove(x): x not in list"
     ]
    }
   ],
   "source": [
    "film_dict.remove('Missing')"
   ]
  },
  {
   "cell_type": "code",
   "execution_count": 147,
   "metadata": {
    "ExecuteTime": {
     "end_time": "2020-07-24T21:55:36.997456Z",
     "start_time": "2020-07-24T21:55:36.990451Z"
    }
   },
   "outputs": [
    {
     "data": {
      "text/html": [
       "<div>\n",
       "<style scoped>\n",
       "    .dataframe tbody tr th:only-of-type {\n",
       "        vertical-align: middle;\n",
       "    }\n",
       "\n",
       "    .dataframe tbody tr th {\n",
       "        vertical-align: top;\n",
       "    }\n",
       "\n",
       "    .dataframe thead th {\n",
       "        text-align: right;\n",
       "    }\n",
       "</style>\n",
       "<table border=\"1\" class=\"dataframe\">\n",
       "  <thead>\n",
       "    <tr style=\"text-align: right;\">\n",
       "      <th></th>\n",
       "      <th>budget</th>\n",
       "      <th>genres</th>\n",
       "      <th>release_date</th>\n",
       "      <th>revenue</th>\n",
       "      <th>runtime</th>\n",
       "      <th>title</th>\n",
       "    </tr>\n",
       "  </thead>\n",
       "  <tbody>\n",
       "    <tr>\n",
       "      <th>0</th>\n",
       "      <td>356000000</td>\n",
       "      <td>Adventure</td>\n",
       "      <td>2019-04-24</td>\n",
       "      <td>2797800564</td>\n",
       "      <td>181</td>\n",
       "      <td>Avengers: Endgame</td>\n",
       "    </tr>\n",
       "    <tr>\n",
       "      <th>1</th>\n",
       "      <td>356000000</td>\n",
       "      <td>Science Fiction</td>\n",
       "      <td>2019-04-24</td>\n",
       "      <td>2797800564</td>\n",
       "      <td>181</td>\n",
       "      <td>Avengers: Endgame</td>\n",
       "    </tr>\n",
       "    <tr>\n",
       "      <th>2</th>\n",
       "      <td>356000000</td>\n",
       "      <td>Action</td>\n",
       "      <td>2019-04-24</td>\n",
       "      <td>2797800564</td>\n",
       "      <td>181</td>\n",
       "      <td>Avengers: Endgame</td>\n",
       "    </tr>\n",
       "  </tbody>\n",
       "</table>\n",
       "</div>"
      ],
      "text/plain": [
       "      budget           genres release_date     revenue  runtime  \\\n",
       "0  356000000        Adventure   2019-04-24  2797800564      181   \n",
       "1  356000000  Science Fiction   2019-04-24  2797800564      181   \n",
       "2  356000000           Action   2019-04-24  2797800564      181   \n",
       "\n",
       "               title  \n",
       "0  Avengers: Endgame  \n",
       "1  Avengers: Endgame  \n",
       "2  Avengers: Endgame  "
      ]
     },
     "execution_count": 147,
     "metadata": {},
     "output_type": "execute_result"
    }
   ],
   "source": [
    "film = pd.DataFrame.from_records(film_dict[0])\n",
    "film\n"
   ]
  },
  {
   "cell_type": "markdown",
   "metadata": {},
   "source": [
    "# Data Analysis"
   ]
  },
  {
   "cell_type": "code",
   "execution_count": null,
   "metadata": {},
   "outputs": [],
   "source": []
  },
  {
   "cell_type": "code",
   "execution_count": null,
   "metadata": {},
   "outputs": [],
   "source": []
  }
 ],
 "metadata": {
  "kernelspec": {
   "display_name": "Python [conda env:learn-env] *",
   "language": "python",
   "name": "conda-env-learn-env-py"
  },
  "language_info": {
   "codemirror_mode": {
    "name": "ipython",
    "version": 3
   },
   "file_extension": ".py",
   "mimetype": "text/x-python",
   "name": "python",
   "nbconvert_exporter": "python",
   "pygments_lexer": "ipython3",
   "version": "3.6.9"
  },
  "toc": {
   "base_numbering": 1,
   "nav_menu": {},
   "number_sections": true,
   "sideBar": true,
   "skip_h1_title": false,
   "title_cell": "Table of Contents",
   "title_sidebar": "Contents",
   "toc_cell": false,
   "toc_position": {},
   "toc_section_display": true,
   "toc_window_display": true
  },
  "varInspector": {
   "cols": {
    "lenName": 16,
    "lenType": 16,
    "lenVar": 40
   },
   "kernels_config": {
    "python": {
     "delete_cmd_postfix": "",
     "delete_cmd_prefix": "del ",
     "library": "var_list.py",
     "varRefreshCmd": "print(var_dic_list())"
    },
    "r": {
     "delete_cmd_postfix": ") ",
     "delete_cmd_prefix": "rm(",
     "library": "var_list.r",
     "varRefreshCmd": "cat(var_dic_list()) "
    }
   },
   "oldHeight": 263,
   "position": {
    "height": "40px",
    "left": "790px",
    "right": "20px",
    "top": "-12px",
    "width": "414px"
   },
   "types_to_exclude": [
    "module",
    "function",
    "builtin_function_or_method",
    "instance",
    "_Feature"
   ],
   "varInspector_section_display": "none",
   "window_display": true
  }
 },
 "nbformat": 4,
 "nbformat_minor": 2
}
