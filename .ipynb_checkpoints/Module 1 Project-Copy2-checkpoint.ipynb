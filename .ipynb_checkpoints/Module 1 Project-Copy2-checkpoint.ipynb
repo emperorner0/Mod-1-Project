{
 "cells": [
  {
   "cell_type": "markdown",
   "metadata": {
    "ExecuteTime": {
     "end_time": "2020-07-24T17:11:15.870133Z",
     "start_time": "2020-07-24T17:11:15.868131Z"
    }
   },
   "source": [
    "# An Examination of Trends in Film\n",
    "\n"
   ]
  },
  {
   "cell_type": "markdown",
   "metadata": {
    "ExecuteTime": {
     "end_time": "2020-07-29T22:05:08.479915Z",
     "start_time": "2020-07-29T22:05:08.476912Z"
    }
   },
   "source": [
    "<img src=\"hollywood.png\" alt=\"Hollywood Sign\" style=\"height:500px;width:800px;\">"
   ]
  },
  {
   "cell_type": "markdown",
   "metadata": {
    "ExecuteTime": {
     "end_time": "2020-07-24T17:11:21.635366Z",
     "start_time": "2020-07-24T17:11:21.633364Z"
    }
   },
   "source": [
    "## Introduction"
   ]
  },
  {
   "cell_type": "markdown",
   "metadata": {},
   "source": [
    "A journey to any theater to view a film, in a pre-pandemic world, was an experience for anyone willing. Take the time to immerse yourself in another world, another time, or another romance and let the world outside of the air conditioned screening rooms just melt away. These experiences can break ennui, provide artistic fulfillment, and be fun. \n",
    "\n",
    "On the other hand, however, film is a business. According to Forbes, in 2019 the film industry surpassed [$100 Billion USD](https://www.forbes.com/sites/rosaescandon/2020/03/12/the-film-industry-made-a-record-breaking-100-billion-last-year/#1e22642e34cd) in earnings. Therefore, if a formula can be cracked - or even a new formula devised - certain entities could stand to take a decent slice of this proverbial pie. "
   ]
  },
  {
   "cell_type": "markdown",
   "metadata": {},
   "source": [
    "We have selected the previous decade of film minus the current year due to industry changes related to the pandemic. This provides a relevant look at the film industry. Following this logic we have chose to focus on films produced domestically, but with international considerations. "
   ]
  },
  {
   "cell_type": "markdown",
   "metadata": {},
   "source": [
    "## Points of Analysis"
   ]
  },
  {
   "cell_type": "markdown",
   "metadata": {},
   "source": [
    "### Optimal Budget"
   ]
  },
  {
   "cell_type": "markdown",
   "metadata": {
    "ExecuteTime": {
     "end_time": "2020-08-01T16:58:41.337659Z",
     "start_time": "2020-08-01T16:58:22.923Z"
    }
   },
   "source": [
    "Looking deeper into the subject of film one of the obvious and most functionally useful questions to ask is: Does a higher budget, actually make more money?"
   ]
  },
  {
   "cell_type": "markdown",
   "metadata": {},
   "source": [
    "### Most Profitable Rating"
   ]
  },
  {
   "cell_type": "markdown",
   "metadata": {},
   "source": [
    "Ratings are an exclusionary system. Does this exclusivity block out a large sector of the market at the higher ratings, or does it entice them in?"
   ]
  },
  {
   "cell_type": "markdown",
   "metadata": {},
   "source": [
    "### Profitability of Genre"
   ]
  },
  {
   "cell_type": "markdown",
   "metadata": {},
   "source": [
    "Does a gun-totin' cowboy with a hearth of gold bring in the most box office dollars? Or is it the family friendly comedy produced by a large production company. We take a dive into genres across the decade to find what is on the up-trend and what is falling down. "
   ]
  },
  {
   "cell_type": "markdown",
   "metadata": {},
   "source": [
    "# Data Retrieval"
   ]
  },
  {
   "cell_type": "markdown",
   "metadata": {},
   "source": [
    "<img src=\"matrix-code.jpg\" alt=\"Matrix Digital Rain\" style=\"height:300px;width:500px;\">"
   ]
  },
  {
   "cell_type": "markdown",
   "metadata": {
    "ExecuteTime": {
     "end_time": "2020-07-24T17:11:51.594828Z",
     "start_time": "2020-07-24T17:11:51.592826Z"
    }
   },
   "source": [
    "## Libraries and Data Retrieval "
   ]
  },
  {
   "cell_type": "markdown",
   "metadata": {
    "ExecuteTime": {
     "end_time": "2020-07-24T17:11:56.827112Z",
     "start_time": "2020-07-24T17:11:56.825111Z"
    }
   },
   "source": [
    "### Library Importations"
   ]
  },
  {
   "cell_type": "code",
   "execution_count": 85,
   "metadata": {
    "ExecuteTime": {
     "end_time": "2020-08-03T12:31:03.341163Z",
     "start_time": "2020-08-03T12:31:03.334157Z"
    }
   },
   "outputs": [],
   "source": [
    "import pandas as pd \n",
    "import numpy as np\n",
    "import matplotlib.pyplot as plt\n",
    "import matplotlib.ticker as mtick\n",
    "import seaborn as sns\n",
    "import plotly.express as px\n",
    "import plotly.graph_objects as go\n",
    "from plotly.subplots import make_subplots\n",
    "import tmdbsimple as tmdb\n",
    "import requests\n",
    "from tqdm.notebook import tqdm\n",
    "import pprint\n",
    "import time\n",
    "import csv\n",
    "\n",
    "## Opens API key\n",
    "f = open('C:/Users/Nero_/apikeys/tmdb.txt', 'r')\n",
    "key = f.readline()\n",
    "\n",
    "tmdb.API_KEY = key\n",
    "\n",
    "## Pretty print aestheics \n",
    "pp = pprint.PrettyPrinter(indent=2)"
   ]
  },
  {
   "cell_type": "markdown",
   "metadata": {},
   "source": [
    "### Datasets and Retrieval"
   ]
  },
  {
   "cell_type": "code",
   "execution_count": 91,
   "metadata": {
    "ExecuteTime": {
     "end_time": "2020-08-03T12:31:47.513247Z",
     "start_time": "2020-08-03T12:31:47.510244Z"
    }
   },
   "outputs": [],
   "source": [
    "## If you would like to scrape, set scraping to True\n",
    "scraping = False\n",
    "\n",
    "## Creating an ID list to scrape with\n",
    "discover = tmdb.Discover()\n",
    "\n",
    "id_list = []\n",
    "\n",
    "## For loop scrapes 500 pages of data to return the tmdb id of each\n",
    "## entry for later use in scraping\n",
    "if scraping:\n",
    "    for pages in tqdm(range(1,501), desc='ID Append'):\n",
    "        page = discover.movie(language='en-US', sort_by='revenue.desc', page=pages, \n",
    "                              certification_country='US', certification_lte='NC-17', \n",
    "                              certification_gte='G', primary_release_date_gte='2010-01-01', \n",
    "                              with_original_language='en')\n",
    "        for film in page['results']:\n",
    "            id_list.append(film['id'])\n",
    "        time.sleep(.16)"
   ]
  },
  {
   "cell_type": "code",
   "execution_count": 88,
   "metadata": {
    "ExecuteTime": {
     "end_time": "2020-08-03T12:31:18.379065Z",
     "start_time": "2020-08-03T12:31:18.374060Z"
    }
   },
   "outputs": [],
   "source": [
    "## Movie info scraping function\n",
    "def movie_info(list_id):\n",
    "    \n",
    "    \"\"\"Movie Info Scraper_test.csv\n",
    "       ---------------------------\n",
    "       Function takes a list of The Movie Database Unique IDs\n",
    "       and returns a dictionary of data that includes: title, release date,\n",
    "       MPAA rating, IMDB_ID, TMDB_ID, running time, genres, budget, and revenue\n",
    "       information. \"\"\"\n",
    "    \n",
    "    ## Pulling tmdbsimple object methods and passing them into variables\n",
    "    movie = tmdb.Movies(list_id).info()\n",
    "    ratings = tmdb.Movies(list_id).release_dates()\n",
    "    \n",
    "    ## Search ratings variables for MPAA certification\n",
    "    iso = 'iso_3166_1'\n",
    "    for result in ratings['results']:\n",
    "        if result[iso] == 'US':\n",
    "            if result['release_dates'][0]['certification'] == '':\n",
    "                rating = result['release_dates'][1]['certification']\n",
    "            else: \n",
    "                rating = result['release_dates'][0]['certification']\n",
    "    ## Sleep timer = No accidental DDoS\n",
    "    time.sleep(.05)\n",
    "    \n",
    "    ## Dictionary to catch and store information requested\n",
    "    movie_dict = {\n",
    "        'title': movie['original_title'],\n",
    "        'release_date': movie['release_date'],\n",
    "        'rating': rating,\n",
    "        'imdb_id': movie['imdb_id'],\n",
    "        'tmbd_id': movie['id'],\n",
    "        'runtime': movie['runtime'],\n",
    "        'genres': [[genre.get('name') for genre in movie['genres']]],\n",
    "        'budget': movie['budget'],\n",
    "        'revenue': movie['revenue']\n",
    "    }\n",
    "    \n",
    "    return movie_dict"
   ]
  },
  {
   "cell_type": "code",
   "execution_count": 89,
   "metadata": {
    "ExecuteTime": {
     "end_time": "2020-08-03T12:31:24.498747Z",
     "start_time": "2020-08-03T12:31:24.495745Z"
    }
   },
   "outputs": [],
   "source": [
    "## Scraping loop\n",
    "\n",
    "## Initialize the list of dicts to store scraped data\n",
    "film_dict = []\n",
    "\n",
    "## For loop used to scrape using the scraping function with error handling for\n",
    "## cases of HTTP errors.\n",
    "if scraping:\n",
    "    for movie in tqdm(id_list):\n",
    "        try:\n",
    "            film_dict.append(movie_info(movie))\n",
    "        except:\n",
    "            film_dict.append('Missing')"
   ]
  },
  {
   "cell_type": "code",
   "execution_count": 13,
   "metadata": {
    "ExecuteTime": {
     "end_time": "2020-08-01T18:30:35.140459Z",
     "start_time": "2020-08-01T18:30:35.132451Z"
    }
   },
   "outputs": [],
   "source": [
    "## Remove any missing entires in the list as well as removing\n",
    "## empty values in two strings of the movie information\n",
    "\n",
    "miss = 'Missing'\n",
    "for count, film in enumerate(film_dict):\n",
    "    if film == miss:\n",
    "        film_dict.pop(count)\n",
    "    if film_dict[count]['rating'] == '':\n",
    "        film_dict.pop(count)\n",
    "    if film_dict[count]['imdb_id'] == '':\n",
    "        film_dict.pop(count)"
   ]
  },
  {
   "cell_type": "code",
   "execution_count": 14,
   "metadata": {
    "ExecuteTime": {
     "end_time": "2020-08-01T18:30:36.217436Z",
     "start_time": "2020-08-01T18:30:36.156380Z"
    }
   },
   "outputs": [],
   "source": [
    "## Convert the list of movie dicts into a pandas dataframe\n",
    "film = pd.DataFrame.from_records(film_dict)\n",
    "film.to_csv('film.csv', index=False)"
   ]
  },
  {
   "cell_type": "code",
   "execution_count": 84,
   "metadata": {
    "ExecuteTime": {
     "end_time": "2020-08-03T12:29:02.595822Z",
     "start_time": "2020-08-03T12:29:01.151511Z"
    }
   },
   "outputs": [
    {
     "data": {
      "text/plain": [
       "[['Adventure', 'Science Fiction', 'Action']]"
      ]
     },
     "execution_count": 84,
     "metadata": {},
     "output_type": "execute_result"
    }
   ],
   "source": [
    "## Save to CSV\n",
    "film = pd.read_csv('film.csv', converters={'genres':pd.eval})\n",
    "\n",
    "## Convert the release_date column from an object (string) to a datetime object\n",
    "film['release_date'] = pd.to_datetime(film['release_date'])"
   ]
  },
  {
   "cell_type": "code",
   "execution_count": 50,
   "metadata": {
    "ExecuteTime": {
     "end_time": "2020-08-01T23:31:30.246772Z",
     "start_time": "2020-08-01T23:31:30.233761Z"
    }
   },
   "outputs": [],
   "source": [
    "## Bring in previously scraped data and convert to dataframe\n",
    "bomFrame = pd.read_csv('Scraper_test.csv')\n",
    "bom_frame = pd.DataFrame(bomFrame)"
   ]
  },
  {
   "cell_type": "code",
   "execution_count": 51,
   "metadata": {
    "ExecuteTime": {
     "end_time": "2020-08-01T23:31:30.806279Z",
     "start_time": "2020-08-01T23:31:30.784259Z"
    }
   },
   "outputs": [
    {
     "name": "stdout",
     "output_type": "stream",
     "text": [
      "<class 'pandas.core.frame.DataFrame'>\n",
      "Int64Index: 1721 entries, 0 to 2187\n",
      "Data columns (total 8 columns):\n",
      " #   Column        Non-Null Count  Dtype         \n",
      "---  ------        --------------  -----         \n",
      " 0   title         1721 non-null   object        \n",
      " 1   release_date  1721 non-null   datetime64[ns]\n",
      " 2   rating        1719 non-null   object        \n",
      " 3   imdb_id       1697 non-null   object        \n",
      " 4   tmbd_id       1721 non-null   object        \n",
      " 5   runtime       1721 non-null   float64       \n",
      " 6   genres        1721 non-null   object        \n",
      " 7   budget        1721 non-null   int64         \n",
      "dtypes: datetime64[ns](1), float64(1), int64(1), object(5)\n",
      "memory usage: 121.0+ KB\n",
      "None\n"
     ]
    },
    {
     "data": {
      "text/html": [
       "<div>\n",
       "<style scoped>\n",
       "    .dataframe tbody tr th:only-of-type {\n",
       "        vertical-align: middle;\n",
       "    }\n",
       "\n",
       "    .dataframe tbody tr th {\n",
       "        vertical-align: top;\n",
       "    }\n",
       "\n",
       "    .dataframe thead th {\n",
       "        text-align: right;\n",
       "    }\n",
       "</style>\n",
       "<table border=\"1\" class=\"dataframe\">\n",
       "  <thead>\n",
       "    <tr style=\"text-align: right;\">\n",
       "      <th></th>\n",
       "      <th>title</th>\n",
       "      <th>release_date</th>\n",
       "      <th>rating</th>\n",
       "      <th>imdb_id</th>\n",
       "      <th>tmbd_id</th>\n",
       "      <th>runtime</th>\n",
       "      <th>genres</th>\n",
       "      <th>budget</th>\n",
       "    </tr>\n",
       "  </thead>\n",
       "  <tbody>\n",
       "    <tr>\n",
       "      <th>0</th>\n",
       "      <td>Avengers: Endgame</td>\n",
       "      <td>2019-04-24</td>\n",
       "      <td>PG-13</td>\n",
       "      <td>tt4154796</td>\n",
       "      <td>299534</td>\n",
       "      <td>181.0</td>\n",
       "      <td>[['Adventure', 'Science Fiction', 'Action']]</td>\n",
       "      <td>356000000</td>\n",
       "    </tr>\n",
       "    <tr>\n",
       "      <th>1</th>\n",
       "      <td>Star Wars: The Force Awakens</td>\n",
       "      <td>2015-12-15</td>\n",
       "      <td>PG-13</td>\n",
       "      <td>tt2488496</td>\n",
       "      <td>140607</td>\n",
       "      <td>136.0</td>\n",
       "      <td>[['Action', 'Adventure', 'Science Fiction', 'F...</td>\n",
       "      <td>245000000</td>\n",
       "    </tr>\n",
       "    <tr>\n",
       "      <th>2</th>\n",
       "      <td>Avengers: Infinity War</td>\n",
       "      <td>2018-04-25</td>\n",
       "      <td>PG-13</td>\n",
       "      <td>tt4154756</td>\n",
       "      <td>299536</td>\n",
       "      <td>149.0</td>\n",
       "      <td>[['Adventure', 'Action', 'Science Fiction']]</td>\n",
       "      <td>300000000</td>\n",
       "    </tr>\n",
       "    <tr>\n",
       "      <th>3</th>\n",
       "      <td>Jurassic World</td>\n",
       "      <td>2015-06-06</td>\n",
       "      <td>PG-13</td>\n",
       "      <td>tt0369610</td>\n",
       "      <td>135397</td>\n",
       "      <td>124.0</td>\n",
       "      <td>[['Action', 'Adventure', 'Science Fiction', 'T...</td>\n",
       "      <td>150000000</td>\n",
       "    </tr>\n",
       "    <tr>\n",
       "      <th>4</th>\n",
       "      <td>The Lion King</td>\n",
       "      <td>2019-07-12</td>\n",
       "      <td>PG</td>\n",
       "      <td>tt6105098</td>\n",
       "      <td>420818</td>\n",
       "      <td>118.0</td>\n",
       "      <td>[['Adventure', 'Family']]</td>\n",
       "      <td>260000000</td>\n",
       "    </tr>\n",
       "  </tbody>\n",
       "</table>\n",
       "</div>"
      ],
      "text/plain": [
       "                          title release_date rating    imdb_id tmbd_id  \\\n",
       "0             Avengers: Endgame   2019-04-24  PG-13  tt4154796  299534   \n",
       "1  Star Wars: The Force Awakens   2015-12-15  PG-13  tt2488496  140607   \n",
       "2        Avengers: Infinity War   2018-04-25  PG-13  tt4154756  299536   \n",
       "3                Jurassic World   2015-06-06  PG-13  tt0369610  135397   \n",
       "4                 The Lion King   2019-07-12     PG  tt6105098  420818   \n",
       "\n",
       "   runtime                                             genres     budget  \n",
       "0    181.0       [['Adventure', 'Science Fiction', 'Action']]  356000000  \n",
       "1    136.0  [['Action', 'Adventure', 'Science Fiction', 'F...  245000000  \n",
       "2    149.0       [['Adventure', 'Action', 'Science Fiction']]  300000000  \n",
       "3    124.0  [['Action', 'Adventure', 'Science Fiction', 'T...  150000000  \n",
       "4    118.0                          [['Adventure', 'Family']]  260000000  "
      ]
     },
     "metadata": {},
     "output_type": "display_data"
    }
   ],
   "source": [
    "## Removing unwanted zero values from the dataframe to provide a clearer picture\n",
    "## of the data. \n",
    "\n",
    "## Working with a copy to protect the original from transformative work\n",
    "film_copy = film.copy()\n",
    "\n",
    "## Removing the unwanted zero values from budget, revenue, and runtime\n",
    "indexNames = film_copy[film_copy['budget'] == 0].index\n",
    "film_copy.drop(indexNames, inplace=True)\n",
    "\n",
    "revenueNames = film_copy[film_copy['revenue'] == 0].index\n",
    "film_copy.drop(revenueNames, inplace=True)\n",
    "\n",
    "runtimeNames = film_copy[film_copy['runtime'] == 0].index\n",
    "film_copy.drop(runtimeNames, inplace=True)\n",
    "\n",
    "## Casting the tmbd_id as str to avoid any mathematical operations during\n",
    "## further analysis steps.\n",
    "film_copy['tmbd_id'] = film_copy['tmbd_id'].apply(str)\n",
    "film_copy.drop(['revenue'], axis=1, inplace=True)\n",
    "\n",
    "## Check the data for correct operations\n",
    "print(film_copy.info())\n",
    "display(film_copy.head())"
   ]
  },
  {
   "cell_type": "code",
   "execution_count": 52,
   "metadata": {
    "ExecuteTime": {
     "end_time": "2020-08-01T23:31:34.225890Z",
     "start_time": "2020-08-01T23:31:34.217885Z"
    }
   },
   "outputs": [],
   "source": [
    "## Merging the partially cleaned film dataframe and the previously scraped data\n",
    "merge = pd.merge(left=film_copy, right=bom_frame, left_on='title', right_on='Title')"
   ]
  },
  {
   "cell_type": "code",
   "execution_count": 53,
   "metadata": {
    "ExecuteTime": {
     "end_time": "2020-08-01T23:31:34.963970Z",
     "start_time": "2020-08-01T23:31:34.952961Z"
    }
   },
   "outputs": [],
   "source": [
    "## Dropping unwanted values from the newly merged dataset\n",
    "\n",
    "## Dropping the extra Title column\n",
    "merge = merge.drop(['Title'], axis=1)\n",
    "\n",
    "## Removing zero and extraneous values from the newly merged dataframe\n",
    "mergeRuntimes = merge[merge['runtime'] == 0].index\n",
    "merge.drop(mergeRuntimes, inplace=True)\n",
    "\n",
    "mergeOpen = merge[merge['Number_of_Opening_Theaters'] == '('].index\n",
    "merge.drop(mergeOpen, inplace=True)\n",
    "\n",
    "mergeOpen = merge[merge['Number_of_Opening_Theaters'] == 0].index\n",
    "merge.drop(mergeOpen, inplace=True)\n",
    "\n",
    "mergeBudget = merge[merge['budget'] == 0].index\n",
    "merge.drop(mergeBudget, inplace=True)"
   ]
  },
  {
   "cell_type": "code",
   "execution_count": 54,
   "metadata": {
    "ExecuteTime": {
     "end_time": "2020-08-01T23:31:35.414379Z",
     "start_time": "2020-08-01T23:31:35.409375Z"
    }
   },
   "outputs": [],
   "source": [
    "## Casting the tmbd_id, runtime, and Number_of_Opening_Theaters columns\n",
    "## as more useful datatypes for analysis.\n",
    "merge = merge.astype({'tmbd_id':'object', 'runtime':'int64','Number_of_Opening_Theaters':'int64'})"
   ]
  },
  {
   "cell_type": "code",
   "execution_count": 55,
   "metadata": {
    "ExecuteTime": {
     "end_time": "2020-08-01T23:31:35.856780Z",
     "start_time": "2020-08-01T23:31:35.850775Z"
    }
   },
   "outputs": [],
   "source": [
    "## Dropping doubles that may have been introduced in the merge\n",
    "merge = merge.sort_values('imdb_id', ascending=False)\n",
    "merge = merge.drop_duplicates(subset='imdb_id', keep='first')"
   ]
  },
  {
   "cell_type": "code",
   "execution_count": 56,
   "metadata": {
    "ExecuteTime": {
     "end_time": "2020-08-01T23:31:36.204096Z",
     "start_time": "2020-08-01T23:31:36.201093Z"
    }
   },
   "outputs": [],
   "source": [
    "## Feature engineering\n",
    "## Creating a profit column from Worldwide_Gross - budget\n",
    "merge['Profit'] = merge['Worldwide_Gross'] - merge['budget']"
   ]
  },
  {
   "cell_type": "code",
   "execution_count": 57,
   "metadata": {
    "ExecuteTime": {
     "end_time": "2020-08-01T23:31:36.705557Z",
     "start_time": "2020-08-01T23:31:36.689543Z"
    }
   },
   "outputs": [
    {
     "data": {
      "text/html": [
       "<div>\n",
       "<style scoped>\n",
       "    .dataframe tbody tr th:only-of-type {\n",
       "        vertical-align: middle;\n",
       "    }\n",
       "\n",
       "    .dataframe tbody tr th {\n",
       "        vertical-align: top;\n",
       "    }\n",
       "\n",
       "    .dataframe thead th {\n",
       "        text-align: right;\n",
       "    }\n",
       "</style>\n",
       "<table border=\"1\" class=\"dataframe\">\n",
       "  <thead>\n",
       "    <tr style=\"text-align: right;\">\n",
       "      <th></th>\n",
       "      <th>title</th>\n",
       "      <th>release_date</th>\n",
       "      <th>rating</th>\n",
       "      <th>imdb_id</th>\n",
       "      <th>tmbd_id</th>\n",
       "      <th>runtime</th>\n",
       "      <th>genres</th>\n",
       "      <th>budget</th>\n",
       "      <th>Domestic_Gross</th>\n",
       "      <th>International_Gross</th>\n",
       "      <th>Worldwide_Gross</th>\n",
       "      <th>Opening_Gross</th>\n",
       "      <th>Number_of_Opening_Theaters</th>\n",
       "      <th>Profit</th>\n",
       "    </tr>\n",
       "  </thead>\n",
       "  <tbody>\n",
       "    <tr>\n",
       "      <th>1175</th>\n",
       "      <td>Playing with Fire</td>\n",
       "      <td>2019-11-08</td>\n",
       "      <td>PG</td>\n",
       "      <td>tt9134216</td>\n",
       "      <td>554241</td>\n",
       "      <td>96</td>\n",
       "      <td>[['Comedy', 'Family']]</td>\n",
       "      <td>29900000</td>\n",
       "      <td>44451847</td>\n",
       "      <td>24179822</td>\n",
       "      <td>68631669</td>\n",
       "      <td>12723781</td>\n",
       "      <td>3125</td>\n",
       "      <td>38731669</td>\n",
       "    </tr>\n",
       "    <tr>\n",
       "      <th>331</th>\n",
       "      <td>Knives Out</td>\n",
       "      <td>2019-11-27</td>\n",
       "      <td>PG-13</td>\n",
       "      <td>tt8946378</td>\n",
       "      <td>546554</td>\n",
       "      <td>131</td>\n",
       "      <td>[['Mystery', 'Thriller', 'Comedy', 'Drama', 'C...</td>\n",
       "      <td>40000000</td>\n",
       "      <td>165363234</td>\n",
       "      <td>143869563</td>\n",
       "      <td>309232797</td>\n",
       "      <td>26769548</td>\n",
       "      <td>3461</td>\n",
       "      <td>269232797</td>\n",
       "    </tr>\n",
       "    <tr>\n",
       "      <th>1143</th>\n",
       "      <td>Midsommar</td>\n",
       "      <td>2019-07-03</td>\n",
       "      <td>R</td>\n",
       "      <td>tt8772262</td>\n",
       "      <td>530385</td>\n",
       "      <td>148</td>\n",
       "      <td>[['Horror', 'Drama', 'Mystery']]</td>\n",
       "      <td>9000000</td>\n",
       "      <td>27426361</td>\n",
       "      <td>20437004</td>\n",
       "      <td>47863365</td>\n",
       "      <td>6560030</td>\n",
       "      <td>2707</td>\n",
       "      <td>38863365</td>\n",
       "    </tr>\n",
       "    <tr>\n",
       "      <th>1152</th>\n",
       "      <td>21 Bridges</td>\n",
       "      <td>2019-10-24</td>\n",
       "      <td>R</td>\n",
       "      <td>tt8688634</td>\n",
       "      <td>535292</td>\n",
       "      <td>99</td>\n",
       "      <td>[['Crime', 'Action', 'Drama']]</td>\n",
       "      <td>33000000</td>\n",
       "      <td>28539757</td>\n",
       "      <td>21400000</td>\n",
       "      <td>49939757</td>\n",
       "      <td>9261268</td>\n",
       "      <td>2665</td>\n",
       "      <td>16939757</td>\n",
       "    </tr>\n",
       "    <tr>\n",
       "      <th>1171</th>\n",
       "      <td>Child's Play</td>\n",
       "      <td>2019-06-19</td>\n",
       "      <td>R</td>\n",
       "      <td>tt8663516</td>\n",
       "      <td>533642</td>\n",
       "      <td>90</td>\n",
       "      <td>[['Horror']]</td>\n",
       "      <td>10000000</td>\n",
       "      <td>29208403</td>\n",
       "      <td>15693834</td>\n",
       "      <td>44902237</td>\n",
       "      <td>14094594</td>\n",
       "      <td>3007</td>\n",
       "      <td>34902237</td>\n",
       "    </tr>\n",
       "    <tr>\n",
       "      <th>...</th>\n",
       "      <td>...</td>\n",
       "      <td>...</td>\n",
       "      <td>...</td>\n",
       "      <td>...</td>\n",
       "      <td>...</td>\n",
       "      <td>...</td>\n",
       "      <td>...</td>\n",
       "      <td>...</td>\n",
       "      <td>...</td>\n",
       "      <td>...</td>\n",
       "      <td>...</td>\n",
       "      <td>...</td>\n",
       "      <td>...</td>\n",
       "      <td>...</td>\n",
       "    </tr>\n",
       "    <tr>\n",
       "      <th>1389</th>\n",
       "      <td>The Rum Diary</td>\n",
       "      <td>2011-10-13</td>\n",
       "      <td>R</td>\n",
       "      <td>tt0376136</td>\n",
       "      <td>23514</td>\n",
       "      <td>120</td>\n",
       "      <td>[['Drama', 'Comedy']]</td>\n",
       "      <td>45000000</td>\n",
       "      <td>13109815</td>\n",
       "      <td>17025143</td>\n",
       "      <td>30134958</td>\n",
       "      <td>5135369</td>\n",
       "      <td>2273</td>\n",
       "      <td>-14865042</td>\n",
       "    </tr>\n",
       "    <tr>\n",
       "      <th>2</th>\n",
       "      <td>Jurassic World</td>\n",
       "      <td>2015-06-06</td>\n",
       "      <td>PG-13</td>\n",
       "      <td>tt0369610</td>\n",
       "      <td>135397</td>\n",
       "      <td>124</td>\n",
       "      <td>[['Action', 'Adventure', 'Science Fiction', 'T...</td>\n",
       "      <td>150000000</td>\n",
       "      <td>652270625</td>\n",
       "      <td>1018130012</td>\n",
       "      <td>1670400637</td>\n",
       "      <td>208806270</td>\n",
       "      <td>4274</td>\n",
       "      <td>1520400637</td>\n",
       "    </tr>\n",
       "    <tr>\n",
       "      <th>1091</th>\n",
       "      <td>A Walk Among the Tombstones</td>\n",
       "      <td>2014-09-18</td>\n",
       "      <td>R</td>\n",
       "      <td>tt0365907</td>\n",
       "      <td>169917</td>\n",
       "      <td>113</td>\n",
       "      <td>[['Crime', 'Drama', 'Mystery', 'Thriller']]</td>\n",
       "      <td>28000000</td>\n",
       "      <td>26307600</td>\n",
       "      <td>32526784</td>\n",
       "      <td>58834384</td>\n",
       "      <td>12758780</td>\n",
       "      <td>2712</td>\n",
       "      <td>30834384</td>\n",
       "    </tr>\n",
       "    <tr>\n",
       "      <th>519</th>\n",
       "      <td>The Secret Life of Walter Mitty</td>\n",
       "      <td>2013-12-18</td>\n",
       "      <td>PG</td>\n",
       "      <td>tt0359950</td>\n",
       "      <td>116745</td>\n",
       "      <td>114</td>\n",
       "      <td>[['Adventure', 'Comedy', 'Drama', 'Fantasy']]</td>\n",
       "      <td>90000000</td>\n",
       "      <td>58236838</td>\n",
       "      <td>129896484</td>\n",
       "      <td>188133322</td>\n",
       "      <td>12765508</td>\n",
       "      <td>2909</td>\n",
       "      <td>98133322</td>\n",
       "    </tr>\n",
       "    <tr>\n",
       "      <th>1618</th>\n",
       "      <td>On the Road</td>\n",
       "      <td>2012-05-22</td>\n",
       "      <td>R</td>\n",
       "      <td>tt0337692</td>\n",
       "      <td>83770</td>\n",
       "      <td>137</td>\n",
       "      <td>[['Adventure', 'Drama']]</td>\n",
       "      <td>25000000</td>\n",
       "      <td>744296</td>\n",
       "      <td>8873081</td>\n",
       "      <td>9617377</td>\n",
       "      <td>39550</td>\n",
       "      <td>4</td>\n",
       "      <td>-15382623</td>\n",
       "    </tr>\n",
       "  </tbody>\n",
       "</table>\n",
       "<p>1547 rows × 14 columns</p>\n",
       "</div>"
      ],
      "text/plain": [
       "                                title release_date rating    imdb_id tmbd_id  \\\n",
       "1175                Playing with Fire   2019-11-08     PG  tt9134216  554241   \n",
       "331                        Knives Out   2019-11-27  PG-13  tt8946378  546554   \n",
       "1143                        Midsommar   2019-07-03      R  tt8772262  530385   \n",
       "1152                       21 Bridges   2019-10-24      R  tt8688634  535292   \n",
       "1171                     Child's Play   2019-06-19      R  tt8663516  533642   \n",
       "...                               ...          ...    ...        ...     ...   \n",
       "1389                    The Rum Diary   2011-10-13      R  tt0376136   23514   \n",
       "2                      Jurassic World   2015-06-06  PG-13  tt0369610  135397   \n",
       "1091      A Walk Among the Tombstones   2014-09-18      R  tt0365907  169917   \n",
       "519   The Secret Life of Walter Mitty   2013-12-18     PG  tt0359950  116745   \n",
       "1618                      On the Road   2012-05-22      R  tt0337692   83770   \n",
       "\n",
       "      runtime                                             genres     budget  \\\n",
       "1175       96                             [['Comedy', 'Family']]   29900000   \n",
       "331       131  [['Mystery', 'Thriller', 'Comedy', 'Drama', 'C...   40000000   \n",
       "1143      148                   [['Horror', 'Drama', 'Mystery']]    9000000   \n",
       "1152       99                     [['Crime', 'Action', 'Drama']]   33000000   \n",
       "1171       90                                       [['Horror']]   10000000   \n",
       "...       ...                                                ...        ...   \n",
       "1389      120                              [['Drama', 'Comedy']]   45000000   \n",
       "2         124  [['Action', 'Adventure', 'Science Fiction', 'T...  150000000   \n",
       "1091      113        [['Crime', 'Drama', 'Mystery', 'Thriller']]   28000000   \n",
       "519       114      [['Adventure', 'Comedy', 'Drama', 'Fantasy']]   90000000   \n",
       "1618      137                           [['Adventure', 'Drama']]   25000000   \n",
       "\n",
       "      Domestic_Gross  International_Gross  Worldwide_Gross  Opening_Gross  \\\n",
       "1175        44451847             24179822         68631669       12723781   \n",
       "331        165363234            143869563        309232797       26769548   \n",
       "1143        27426361             20437004         47863365        6560030   \n",
       "1152        28539757             21400000         49939757        9261268   \n",
       "1171        29208403             15693834         44902237       14094594   \n",
       "...              ...                  ...              ...            ...   \n",
       "1389        13109815             17025143         30134958        5135369   \n",
       "2          652270625           1018130012       1670400637      208806270   \n",
       "1091        26307600             32526784         58834384       12758780   \n",
       "519         58236838            129896484        188133322       12765508   \n",
       "1618          744296              8873081          9617377          39550   \n",
       "\n",
       "      Number_of_Opening_Theaters      Profit  \n",
       "1175                        3125    38731669  \n",
       "331                         3461   269232797  \n",
       "1143                        2707    38863365  \n",
       "1152                        2665    16939757  \n",
       "1171                        3007    34902237  \n",
       "...                          ...         ...  \n",
       "1389                        2273   -14865042  \n",
       "2                           4274  1520400637  \n",
       "1091                        2712    30834384  \n",
       "519                         2909    98133322  \n",
       "1618                           4   -15382623  \n",
       "\n",
       "[1547 rows x 14 columns]"
      ]
     },
     "execution_count": 57,
     "metadata": {},
     "output_type": "execute_result"
    }
   ],
   "source": [
    "## Checking the newly created column\n",
    "merge"
   ]
  },
  {
   "cell_type": "code",
   "execution_count": 59,
   "metadata": {
    "ExecuteTime": {
     "end_time": "2020-08-01T23:31:38.301011Z",
     "start_time": "2020-08-01T23:31:38.298010Z"
    }
   },
   "outputs": [],
   "source": [
    "merge['genres'] = merge['genres'].apply(lambda x: x[0])"
   ]
  },
  {
   "cell_type": "markdown",
   "metadata": {},
   "source": [
    "# Data Analysis"
   ]
  },
  {
   "cell_type": "markdown",
   "metadata": {},
   "source": [
    "<img src=\"hacker.jpg\" alt=\"Hacker!\" style=\"height:350px;width:500px;\">"
   ]
  },
  {
   "cell_type": "markdown",
   "metadata": {},
   "source": [
    "### Exploratory Data Analysis"
   ]
  },
  {
   "cell_type": "markdown",
   "metadata": {},
   "source": [
    "After very minor feature engineering to pull out a basic profit calculation of each film by subtracting the `budget` from the `Worldwide_Gross` in the retrieval and cleaning process."
   ]
  },
  {
   "cell_type": "markdown",
   "metadata": {
    "ExecuteTime": {
     "end_time": "2020-07-28T16:35:01.293531Z",
     "start_time": "2020-07-28T16:35:01.276514Z"
    }
   },
   "source": [
    "It is a good idea to look at the various values and to take note of any correlations between the values of the data. "
   ]
  },
  {
   "cell_type": "code",
   "execution_count": 60,
   "metadata": {
    "ExecuteTime": {
     "end_time": "2020-08-01T23:31:41.146594Z",
     "start_time": "2020-08-01T23:31:40.849326Z"
    }
   },
   "outputs": [
    {
     "data": {
      "image/png": "[encoded data removed]",
      "text/plain": [
       "<Figure size 720x576 with 2 Axes>"
      ]
     },
     "metadata": {},
     "output_type": "display_data"
    }
   ],
   "source": [
    "plt.figure(figsize=(10, 8))\n",
    "plt.title('Merge Dataframe Correlation Heatmap')\n",
    "mergeCorr = merge.corr()\n",
    "sns.heatmap(mergeCorr, annot=True,cmap='GnBu_r')\n",
    "plt.show()"
   ]
  },
  {
   "cell_type": "markdown",
   "metadata": {},
   "source": [
    "This correlation heatmap is the perfect visual to display the correlations of values at a glance. The information gleamed here is valuable for further analysis. First, it can be surmised that variables with low correlation coefficients such as `runtime` to `Number_of_Opening_Theaters` are not information worth looking in to. On the other side of this issue are things with a very obvious correlation, such as `International_Gross` and `Worldwide_Gross` - it bears to reason that those few regions not included in `International_Gross` would follow with similar results. \n",
    "\n",
    "Some of the more interesting results that could bear further fruit in analysis would be things like how `budget` effects `runtime` or what the relationship between something like `domestic_gross` and `opening_gross` is. "
   ]
  },
  {
   "cell_type": "markdown",
   "metadata": {},
   "source": [
    "### How profitable is a movie?"
   ]
  },
  {
   "cell_type": "markdown",
   "metadata": {},
   "source": [
    "A determination on what kind of movie to make hinges on the profitability of a movie, and it is important to determine exactly how profitable a movie is. To do this there must be a measure more of feature engineering. We are going to determine a basic Return on Investment.\n",
    "\n",
    "$$ \\frac{Profit}{Worldwide Gross} = ROI$$"
   ]
  },
  {
   "cell_type": "code",
   "execution_count": 61,
   "metadata": {
    "ExecuteTime": {
     "end_time": "2020-08-01T23:31:45.780801Z",
     "start_time": "2020-08-01T23:31:45.776797Z"
    }
   },
   "outputs": [],
   "source": [
    "merge_profit = merge['Profit']\n",
    "merge_WWGross = merge['Worldwide_Gross']\n",
    "percent_profit = round(merge_profit/merge_WWGross, 3)*100\n",
    "\n",
    "merge.loc[:,'ROI'] = percent_profit"
   ]
  },
  {
   "cell_type": "markdown",
   "metadata": {},
   "source": [
    "Using a mathematical determination of the profitability it is easier to surmise what will make a film profitable. Taking this measure of profitability it is much easier to sift through the data. Further, a step is taken to eliminate further extraneous data by setting the budget to a figure no less than $10,000. "
   ]
  },
  {
   "cell_type": "code",
   "execution_count": 62,
   "metadata": {
    "ExecuteTime": {
     "end_time": "2020-08-01T23:31:46.124117Z",
     "start_time": "2020-08-01T23:31:46.111105Z"
    },
    "scrolled": false
   },
   "outputs": [
    {
     "name": "stdout",
     "output_type": "stream",
     "text": [
      "1547\n",
      "1541\n"
     ]
    },
    {
     "data": {
      "text/html": [
       "<div>\n",
       "<style scoped>\n",
       "    .dataframe tbody tr th:only-of-type {\n",
       "        vertical-align: middle;\n",
       "    }\n",
       "\n",
       "    .dataframe tbody tr th {\n",
       "        vertical-align: top;\n",
       "    }\n",
       "\n",
       "    .dataframe thead th {\n",
       "        text-align: right;\n",
       "    }\n",
       "</style>\n",
       "<table border=\"1\" class=\"dataframe\">\n",
       "  <thead>\n",
       "    <tr style=\"text-align: right;\">\n",
       "      <th></th>\n",
       "      <th>title</th>\n",
       "      <th>release_date</th>\n",
       "      <th>rating</th>\n",
       "      <th>imdb_id</th>\n",
       "      <th>tmbd_id</th>\n",
       "      <th>runtime</th>\n",
       "      <th>genres</th>\n",
       "      <th>budget</th>\n",
       "      <th>Domestic_Gross</th>\n",
       "      <th>International_Gross</th>\n",
       "      <th>Worldwide_Gross</th>\n",
       "      <th>Opening_Gross</th>\n",
       "      <th>Number_of_Opening_Theaters</th>\n",
       "      <th>Profit</th>\n",
       "      <th>ROI</th>\n",
       "    </tr>\n",
       "  </thead>\n",
       "  <tbody>\n",
       "    <tr>\n",
       "      <th>144</th>\n",
       "      <td>Logan</td>\n",
       "      <td>2010-09-10</td>\n",
       "      <td>G</td>\n",
       "      <td>tt1483010</td>\n",
       "      <td>44010</td>\n",
       "      <td>94</td>\n",
       "      <td>[</td>\n",
       "      <td>135000</td>\n",
       "      <td>226277068</td>\n",
       "      <td>392744368</td>\n",
       "      <td>619021436</td>\n",
       "      <td>88411916</td>\n",
       "      <td>4071</td>\n",
       "      <td>618886436</td>\n",
       "      <td>100.0</td>\n",
       "    </tr>\n",
       "    <tr>\n",
       "      <th>1973</th>\n",
       "      <td>Arrival</td>\n",
       "      <td>2018-12-20</td>\n",
       "      <td>PG-13</td>\n",
       "      <td>tt8259442</td>\n",
       "      <td>696430</td>\n",
       "      <td>56</td>\n",
       "      <td>[</td>\n",
       "      <td>10000</td>\n",
       "      <td>100546139</td>\n",
       "      <td>102842047</td>\n",
       "      <td>203388186</td>\n",
       "      <td>24074047</td>\n",
       "      <td>2317</td>\n",
       "      <td>203378186</td>\n",
       "      <td>100.0</td>\n",
       "    </tr>\n",
       "    <tr>\n",
       "      <th>1196</th>\n",
       "      <td>The Gallows</td>\n",
       "      <td>2015-07-10</td>\n",
       "      <td>R</td>\n",
       "      <td>tt2309260</td>\n",
       "      <td>299245</td>\n",
       "      <td>87</td>\n",
       "      <td>[</td>\n",
       "      <td>100000</td>\n",
       "      <td>22764410</td>\n",
       "      <td>20200000</td>\n",
       "      <td>42964410</td>\n",
       "      <td>9808463</td>\n",
       "      <td>2720</td>\n",
       "      <td>42864410</td>\n",
       "      <td>99.8</td>\n",
       "    </tr>\n",
       "    <tr>\n",
       "      <th>153</th>\n",
       "      <td>Fifty Shades of Grey</td>\n",
       "      <td>2015-02-11</td>\n",
       "      <td>R</td>\n",
       "      <td>tt2322441</td>\n",
       "      <td>216015</td>\n",
       "      <td>125</td>\n",
       "      <td>[</td>\n",
       "      <td>4000000</td>\n",
       "      <td>166167230</td>\n",
       "      <td>403484237</td>\n",
       "      <td>569651467</td>\n",
       "      <td>85171450</td>\n",
       "      <td>3646</td>\n",
       "      <td>565651467</td>\n",
       "      <td>99.3</td>\n",
       "    </tr>\n",
       "    <tr>\n",
       "      <th>1768</th>\n",
       "      <td>Catfish</td>\n",
       "      <td>2010-09-17</td>\n",
       "      <td>PG-13</td>\n",
       "      <td>tt1584016</td>\n",
       "      <td>42296</td>\n",
       "      <td>87</td>\n",
       "      <td>[</td>\n",
       "      <td>30000</td>\n",
       "      <td>3237343</td>\n",
       "      <td>296368</td>\n",
       "      <td>3533711</td>\n",
       "      <td>257285</td>\n",
       "      <td>12</td>\n",
       "      <td>3503711</td>\n",
       "      <td>99.2</td>\n",
       "    </tr>\n",
       "  </tbody>\n",
       "</table>\n",
       "</div>"
      ],
      "text/plain": [
       "                     title release_date rating    imdb_id tmbd_id  runtime  \\\n",
       "144                  Logan   2010-09-10      G  tt1483010   44010       94   \n",
       "1973               Arrival   2018-12-20  PG-13  tt8259442  696430       56   \n",
       "1196           The Gallows   2015-07-10      R  tt2309260  299245       87   \n",
       "153   Fifty Shades of Grey   2015-02-11      R  tt2322441  216015      125   \n",
       "1768               Catfish   2010-09-17  PG-13  tt1584016   42296       87   \n",
       "\n",
       "     genres   budget  Domestic_Gross  International_Gross  Worldwide_Gross  \\\n",
       "144       [   135000       226277068            392744368        619021436   \n",
       "1973      [    10000       100546139            102842047        203388186   \n",
       "1196      [   100000        22764410             20200000         42964410   \n",
       "153       [  4000000       166167230            403484237        569651467   \n",
       "1768      [    30000         3237343               296368          3533711   \n",
       "\n",
       "      Opening_Gross  Number_of_Opening_Theaters     Profit    ROI  \n",
       "144        88411916                        4071  618886436  100.0  \n",
       "1973       24074047                        2317  203378186  100.0  \n",
       "1196        9808463                        2720   42864410   99.8  \n",
       "153        85171450                        3646  565651467   99.3  \n",
       "1768         257285                          12    3503711   99.2  "
      ]
     },
     "metadata": {},
     "output_type": "display_data"
    }
   ],
   "source": [
    "top_100 = merge.sort_values(by='ROI', ascending=False)\n",
    "print(len(top_100))\n",
    "top_100 = top_100[top_100['budget'] >= 10000]\n",
    "print(len(top_100))\n",
    "display(top_100.head())"
   ]
  },
  {
   "cell_type": "markdown",
   "metadata": {},
   "source": [
    "Taking a look at some of the most profitable films using the Profitability Percentage metric will allow deeper insights to be drawn into what exactly makes a film profitable. The first conclusion that can be drawn is that there is an optimum budget range that will produce the most profit."
   ]
  },
  {
   "cell_type": "markdown",
   "metadata": {},
   "source": [
    "## Optimal Budget to Maximize Profit"
   ]
  },
  {
   "cell_type": "markdown",
   "metadata": {},
   "source": [
    "<img src=\"money_header.jpg\" alt=\"MONEY!\" style=\"width:500px;height:300px;\">\n",
    "\n",
    "Looking at the plot below it can be surmised that the the distribution of the data has a strongly positive skew. Taking this information and comparing it to a scatter plot will allow for further derivation of further insights to confirm ideas that can be drawn from the data. \n",
    "\n",
    "The scatter plot reveals a large cluster of data and betrays the few outliers that trail at the tail of the data. Working with his information an inference can be made about where our optimal budget may be derived from. This ends can be achieved with the use of a regression line, mean estimation, and confidence intervals to look where the data is most useful for estimation of the optimal budget."
   ]
  },
  {
   "cell_type": "code",
   "execution_count": 78,
   "metadata": {
    "ExecuteTime": {
     "end_time": "2020-08-01T23:53:33.720235Z",
     "start_time": "2020-08-01T23:53:33.228673Z"
    },
    "scrolled": false
   },
   "outputs": [
    {
     "data": {
      "application/vnd.plotly.v1+json": {
       "config": {
        "plotlyServerURL": "https://plot.ly"
       },
       "data": [
        {
         "customdata": [
          [
           "Logan"
          ],
          [
           "Arrival"
          ],
          [
           "The Gallows"
          ],
          [
           "Fifty Shades of Grey"
          ],
          [
           "Catfish"
          ],
          [
           "The Devil Inside"
          ],
          [
           "The Quiet Ones"
          ],
          [
           "Snow Flower and the Secret Fan"
          ],
          [
           "Searching"
          ],
          [
           "Insidious"
          ],
          [
           "Unfriended"
          ],
          [
           "Paranormal Activity 2"
          ],
          [
           "Get Out"
          ],
          [
           "The Woman in Black 2: Angel of Death"
          ],
          [
           "Paranormal Activity 3"
          ],
          [
           "Annabelle"
          ],
          [
           "The Last Exorcism"
          ],
          [
           "Like Crazy"
          ],
          [
           "Courageous"
          ],
          [
           "Split"
          ],
          [
           "Lights Out"
          ],
          [
           "The Purge"
          ],
          [
           "The King's Speech"
          ],
          [
           "Paranormal Activity 4"
          ],
          [
           "Sinister"
          ],
          [
           "Truth or Dare"
          ],
          [
           "Happy Death Day"
          ],
          [
           "Black Swan"
          ],
          [
           "Halloween"
          ],
          [
           "Dope"
          ],
          [
           "The Fault in Our Stars"
          ],
          [
           "Your Sister's Sister"
          ],
          [
           "War Room"
          ],
          [
           "The Conjuring"
          ],
          [
           "Magic Mike"
          ],
          [
           "A Haunted House"
          ],
          [
           "Ouija"
          ],
          [
           "Annabelle: Creation"
          ],
          [
           "It"
          ],
          [
           "A Quiet Place"
          ],
          [
           "A Ghost Story"
          ],
          [
           "The Visit"
          ],
          [
           "Another Earth"
          ],
          [
           "Paranormal Activity: The Marked Ones"
          ],
          [
           "Escape Room"
          ],
          [
           "Bohemian Rhapsody"
          ],
          [
           "A Beautiful Day in the Neighborhood"
          ],
          [
           "Insidious: The Last Key"
          ],
          [
           "The Imitation Game"
          ],
          [
           "Moonlight"
          ],
          [
           "Unfriended: Dark Web"
          ],
          [
           "Sleight"
          ],
          [
           "Don't Breathe"
          ],
          [
           "Minions"
          ],
          [
           "Wonder"
          ],
          [
           "Whiplash"
          ],
          [
           "Neighbors"
          ],
          [
           "La La Land"
          ],
          [
           "Hello, My Name Is Doris"
          ],
          [
           "Green Book"
          ],
          [
           "The Best Exotic Marigold Hotel"
          ],
          [
           "Deadpool"
          ],
          [
           "Life in a Day"
          ],
          [
           "2016: Obama's America"
          ],
          [
           "The Boy Next Door"
          ],
          [
           "Despicable Me 3"
          ],
          [
           "Us"
          ],
          [
           "Despicable Me 2"
          ],
          [
           "Winchester"
          ],
          [
           "The Purge: Anarchy"
          ],
          [
           "Glass"
          ],
          [
           "Ma"
          ],
          [
           "The Grace Card"
          ],
          [
           "Boyhood"
          ],
          [
           "A Star Is Born"
          ],
          [
           "Grandma"
          ],
          [
           "The Purge: Election Year"
          ],
          [
           "The Gift"
          ],
          [
           "Beasts of the Southern Wild"
          ],
          [
           "Lion"
          ],
          [
           "The Lazarus Effect"
          ],
          [
           "The Secret Life of Pets"
          ],
          [
           "The Witch"
          ],
          [
           "Lucy"
          ],
          [
           "47 Meters Down"
          ],
          [
           "Silver Linings Playbook"
          ],
          [
           "Insidious: Chapter 3"
          ],
          [
           "The Big Sick"
          ],
          [
           "Jurassic World"
          ],
          [
           "Dallas Buyers Club"
          ],
          [
           "Ted"
          ],
          [
           "No Escape"
          ],
          [
           "It Follows"
          ],
          [
           "Harry Potter and the Deathly Hallows: Part 2"
          ],
          [
           "Bad Teacher"
          ],
          [
           "Jumanji: Welcome to the Jungle"
          ],
          [
           "The Sessions"
          ],
          [
           "Call Me by Your Name"
          ],
          [
           "The First Purge"
          ],
          [
           "Book Club"
          ],
          [
           "Me Before You"
          ],
          [
           "The Twilight Saga: Eclipse"
          ],
          [
           "Jigsaw"
          ],
          [
           "The Maze Runner"
          ],
          [
           "Bellflower"
          ],
          [
           "Monsters"
          ],
          [
           "Jackass Presents: Bad Grandpa"
          ],
          [
           "Meet the Blacks"
          ],
          [
           "The Shape of Water"
          ],
          [
           "The Kids Are All Right"
          ],
          [
           "Pitch Perfect 2"
          ],
          [
           "Mama"
          ],
          [
           "Buried"
          ],
          [
           "Frozen II"
          ],
          [
           "Ready or Not"
          ],
          [
           "Downton Abbey"
          ],
          [
           "Unsane"
          ],
          [
           "Hidden Figures"
          ],
          [
           "Easy A"
          ],
          [
           "12 Years a Slave"
          ],
          [
           "A Dog's Purpose"
          ],
          [
           "American Sniper"
          ],
          [
           "The Hunger Games"
          ],
          [
           "Ice Age: Continental Drift"
          ],
          [
           "Bad Moms"
          ],
          [
           "Ouija: Origin of Evil"
          ],
          [
           "Hunt for the Wilderpeople"
          ],
          [
           "The Karate Kid"
          ],
          [
           "Blair Witch"
          ],
          [
           "The Artist"
          ],
          [
           "Still Alice"
          ],
          [
           "The Iron Lady"
          ],
          [
           "Oculus"
          ],
          [
           "The Descendants"
          ],
          [
           "Bridesmaids"
          ],
          [
           "Manchester by the Sea"
          ],
          [
           "The Help"
          ],
          [
           "Jackass 3D"
          ],
          [
           "The Second Best Exotic Marigold Hotel"
          ],
          [
           "Project X"
          ],
          [
           "Sing"
          ],
          [
           "Chronicle"
          ],
          [
           "Heaven Is for Real"
          ],
          [
           "As Above, So Below"
          ],
          [
           "Philomena"
          ],
          [
           "Taken 2"
          ],
          [
           "I Am Not Your Negro"
          ],
          [
           "Silent House"
          ],
          [
           "The Theory of Everything"
          ],
          [
           "Dirty Grandpa"
          ],
          [
           "Tangerine"
          ],
          [
           "Let's Be Cops"
          ],
          [
           "Think Like a Man"
          ],
          [
           "The Conjuring 2"
          ],
          [
           "Furious 7"
          ],
          [
           "Hereditary"
          ],
          [
           "Crazy Rich Asians"
          ],
          [
           "Dark Skies"
          ],
          [
           "Magic Mike XXL"
          ],
          [
           "Begin Again"
          ],
          [
           "Avengers: Endgame"
          ],
          [
           "End of Watch"
          ],
          [
           "Paranormal Activity: The Ghost Dimension"
          ],
          [
           "Hustlers"
          ],
          [
           "Despicable Me"
          ],
          [
           "Resident Evil: The Final Chapter"
          ],
          [
           "The Lego Movie"
          ],
          [
           "Knives Out"
          ],
          [
           "Loving Vincent"
          ],
          [
           "Annabelle Comes Home"
          ],
          [
           "Justin Bieber: Never Say Never"
          ],
          [
           "The Woman in Black"
          ],
          [
           "Overboard"
          ],
          [
           "Captain Marvel"
          ],
          [
           "Countdown"
          ],
          [
           "Girls Trip"
          ],
          [
           "Sausage Party"
          ],
          [
           "10 Cloverfield Lane"
          ],
          [
           "The Hangover Part II"
          ],
          [
           "Venom"
          ],
          [
           "We're the Millers"
          ],
          [
           "About Time"
          ],
          [
           "Les Misérables"
          ],
          [
           "Happy Death Day 2U"
          ],
          [
           "Aquaman"
          ],
          [
           "Straight Outta Compton"
          ],
          [
           "K-12"
          ],
          [
           "Paper Towns"
          ],
          [
           "Show Dogs"
          ],
          [
           "Love & Friendship"
          ],
          [
           "Spider-Man: Far from Home"
          ],
          [
           "If I Stay"
          ],
          [
           "Peter Rabbit"
          ],
          [
           "The Shallows"
          ],
          [
           "Before Midnight"
          ],
          [
           "Fifty Shades Darker"
          ],
          [
           "Chimpanzee"
          ],
          [
           "Gravity"
          ],
          [
           "Winter's Bone"
          ],
          [
           "Lowriders"
          ],
          [
           "The Twilight Saga: Breaking Dawn - Part 2"
          ],
          [
           "The Avengers"
          ],
          [
           "Act of Valor"
          ],
          [
           "Avengers: Infinity War"
          ],
          [
           "Taken 3"
          ],
          [
           "The Grinch"
          ],
          [
           "Crawl"
          ],
          [
           "Pitch Perfect"
          ],
          [
           "Zootopia"
          ],
          [
           "Black Panther"
          ],
          [
           "Fifty Shades Freed"
          ],
          [
           "Skyline"
          ],
          [
           "Deadpool 2"
          ],
          [
           "The Hunger Games: Catching Fire"
          ],
          [
           "Baby Driver"
          ],
          [
           "True Grit"
          ],
          [
           "Hotel Transylvania 3: Summer Vacation"
          ],
          [
           "22 Jump Street"
          ],
          [
           "The Vow"
          ],
          [
           "The Twilight Saga: Breaking Dawn - Part 1"
          ],
          [
           "Jojo Rabbit"
          ],
          [
           "The Boy"
          ],
          [
           "House at the End of the Street"
          ],
          [
           "Murder on the Orient Express"
          ],
          [
           "The Favourite"
          ],
          [
           "Johnny English Strikes Again"
          ],
          [
           "Jumanji: The Next Level"
          ],
          [
           "Logan"
          ],
          [
           "The Lion King"
          ],
          [
           "Four Lions"
          ],
          [
           "A Haunted House 2"
          ],
          [
           "Spring Breakers"
          ],
          [
           "American Hustle"
          ],
          [
           "Devil"
          ],
          [
           "BlacKkKlansman"
          ],
          [
           "Incredibles 2"
          ],
          [
           "Ride Along"
          ],
          [
           "Everything, Everything"
          ],
          [
           "Gifted"
          ],
          [
           "Toy Story 4"
          ],
          [
           "The Ides of March"
          ],
          [
           "The Possession"
          ],
          [
           "Bridget Jones's Baby"
          ],
          [
           "Iron Man 3"
          ],
          [
           "The Hunger Games: Mockingjay - Part 1"
          ],
          [
           "Gone Girl"
          ],
          [
           "It Chapter Two"
          ],
          [
           "Limitless"
          ],
          [
           "Horrible Bosses"
          ],
          [
           "No Strings Attached"
          ],
          [
           "John Wick: Chapter 3 - Parabellum"
          ],
          [
           "Hotel Transylvania 2"
          ],
          [
           "Room"
          ],
          [
           "Yesterday"
          ],
          [
           "Safety Not Guaranteed"
          ],
          [
           "The Hitman's Bodyguard"
          ],
          [
           "Looper"
          ],
          [
           "20 Feet from Stardom"
          ],
          [
           "The Martian"
          ],
          [
           "Jumping the Broom"
          ],
          [
           "The Grand Budapest Hotel"
          ],
          [
           "Aladdin"
          ],
          [
           "Transformers: Dark of the Moon"
          ],
          [
           "Evil Dead"
          ],
          [
           "Birdman or (The Unexpected Virtue of Ignorance)"
          ],
          [
           "That Awkward Moment"
          ],
          [
           "Cinderella"
          ],
          [
           "Paddington 2"
          ],
          [
           "Brooklyn"
          ],
          [
           "The Social Network"
          ],
          [
           "Avengers: Age of Ultron"
          ],
          [
           "Nightcrawler"
          ],
          [
           "Woman in Gold"
          ],
          [
           "The Possession of Hannah Grace"
          ],
          [
           "Margin Call"
          ],
          [
           "Late Night"
          ],
          [
           "Good Boys"
          ],
          [
           "Skyfall"
          ],
          [
           "The Intern"
          ],
          [
           "Wonder Woman"
          ],
          [
           "The Jungle Book"
          ],
          [
           "Brightburn"
          ],
          [
           "The Florida Project"
          ],
          [
           "My Week with Marilyn"
          ],
          [
           "An Inconvenient Sequel: Truth to Power"
          ],
          [
           "Movie 43"
          ],
          [
           "Gnomeo & Juliet"
          ],
          [
           "Rio"
          ],
          [
           "The Secret Life of Pets 2"
          ],
          [
           "Pet Sematary"
          ],
          [
           "The Heat"
          ],
          [
           "Toy Story 3"
          ],
          [
           "Sinister 2"
          ],
          [
           "Midsommar"
          ],
          [
           "Step Up 3D"
          ],
          [
           "Rogue One: A Star Wars Story"
          ],
          [
           "Transformers: Age of Extinction"
          ],
          [
           "Devil's Due"
          ],
          [
           "The Call"
          ],
          [
           "Mamma Mia! Here We Go Again"
          ],
          [
           "Apollo 18"
          ],
          [
           "Little Women"
          ],
          [
           "Super 8"
          ],
          [
           "Argo"
          ],
          [
           "Flight"
          ],
          [
           "Inception"
          ],
          [
           "The Greatest Showman"
          ],
          [
           "Rise of the Planet of the Apes"
          ],
          [
           "Paul, Apostle of Christ"
          ],
          [
           "Slender Man"
          ],
          [
           "Madagascar 3: Europe's Most Wanted"
          ],
          [
           "Our Idiot Brother"
          ],
          [
           "Finding Dory"
          ],
          [
           "The DUFF"
          ],
          [
           "The Babadook"
          ],
          [
           "The Fighter"
          ],
          [
           "Maze Runner: The Scorch Trials"
          ],
          [
           "Kingsman: The Secret Service"
          ],
          [
           "50/50"
          ],
          [
           "Alice in Wonderland"
          ],
          [
           "Drive"
          ],
          [
           "Paddington"
          ],
          [
           "The Smurfs"
          ],
          [
           "Midnight in Paris"
          ],
          [
           "The Addams Family"
          ],
          [
           "Life of Pi"
          ],
          [
           "Diary of a Wimpy Kid"
          ],
          [
           "Race"
          ],
          [
           "The Perfect Guy"
          ],
          [
           "My Big Fat Greek Wedding 2"
          ],
          [
           "Tammy"
          ],
          [
           "Spider-Man: Homecoming"
          ],
          [
           "Darkest Hour"
          ],
          [
           "Fast Five"
          ],
          [
           "Resident Evil: Afterlife"
          ],
          [
           "Identity Thief"
          ],
          [
           "The Lorax"
          ],
          [
           "The Fate of the Furious"
          ],
          [
           "Spotlight"
          ],
          [
           "Fast & Furious 6"
          ],
          [
           "I, Tonya"
          ],
          [
           "Inside Out"
          ],
          [
           "God's Not Dead 2"
          ],
          [
           "Rocketman"
          ],
          [
           "A Simple Favor"
          ],
          [
           "The Shack"
          ],
          [
           "Daddy's Home"
          ],
          [
           "Rio 2"
          ],
          [
           "The Angry Birds Movie"
          ],
          [
           "Last Vegas"
          ],
          [
           "21 Jump Street"
          ],
          [
           "Planes"
          ],
          [
           "Mission: Impossible - Ghost Protocol"
          ],
          [
           "Parental Guidance"
          ],
          [
           "The Big Short"
          ],
          [
           "Thor: Ragnarok"
          ],
          [
           "Now You See Me"
          ],
          [
           "Creed"
          ],
          [
           "American Reunion"
          ],
          [
           "A Walk in the Woods"
          ],
          [
           "A Bad Moms Christmas"
          ],
          [
           "Forever My Girl"
          ],
          [
           "Maze Runner: The Death Cure"
          ],
          [
           "Miracles from Heaven"
          ],
          [
           "Source Code"
          ],
          [
           "Captain America: Civil War"
          ],
          [
           "Coco"
          ],
          [
           "Dear John"
          ],
          [
           "Shazam!"
          ],
          [
           "Alvin and the Chipmunks: Chipwrecked"
          ],
          [
           "Shrek Forever After"
          ],
          [
           "Captain Fantastic"
          ],
          [
           "Guardians of the Galaxy"
          ],
          [
           "Mission: Impossible - Rogue Nation"
          ],
          [
           "Fantastic Beasts and Where to Find Them"
          ],
          [
           "Second Act"
          ],
          [
           "Hansel & Gretel: Witch Hunters"
          ],
          [
           "The Lighthouse"
          ],
          [
           "Unknown"
          ],
          [
           "Hacksaw Ridge"
          ],
          [
           "Child's Play"
          ],
          [
           "A Dog's Way Home"
          ],
          [
           "Nerve"
          ],
          [
           "Blockers"
          ],
          [
           "Non-Stop"
          ],
          [
           "Beginners"
          ],
          [
           "Mission: Impossible - Fallout"
          ],
          [
           "Kung Fu Panda 2"
          ],
          [
           "Mother's Day"
          ],
          [
           "Ant-Man and the Wasp"
          ],
          [
           "Southside with You"
          ],
          [
           "Norm of the North"
          ],
          [
           "The SpongeBob Movie: Sponge Out of Water"
          ],
          [
           "In Time"
          ],
          [
           "Central Intelligence"
          ],
          [
           "What We Do in the Shadows"
          ],
          [
           "The Croods"
          ],
          [
           "The Emoji Movie"
          ],
          [
           "Sherlock Holmes: A Game of Shadows"
          ],
          [
           "The Dark Knight Rises"
          ],
          [
           "San Andreas"
          ],
          [
           "Guardians of the Galaxy Vol. 2"
          ],
          [
           "The Best Man Holiday"
          ],
          [
           "John Wick"
          ],
          [
           "Creed II"
          ],
          [
           "John Wick: Chapter 2"
          ],
          [
           "How to Train Your Dragon 2"
          ],
          [
           "Suicide Squad"
          ],
          [
           "Friends with Benefits"
          ],
          [
           "The Danish Girl"
          ],
          [
           "Puss in Boots"
          ],
          [
           "Moonrise Kingdom"
          ],
          [
           "Into the Woods"
          ],
          [
           "Step Up Revolution"
          ],
          [
           "Blue Valentine"
          ],
          [
           "Shaun the Sheep Movie"
          ],
          [
           "Django Unchained"
          ],
          [
           "Dumb and Dumber To"
          ],
          [
           "Lincoln"
          ],
          [
           "Journey 2: The Mysterious Island"
          ],
          [
           "Hotel Transylvania"
          ],
          [
           "The Boss Baby"
          ],
          [
           "St. Vincent"
          ],
          [
           "Maleficent"
          ],
          [
           "Captain America: The Winter Soldier"
          ],
          [
           "Dawn of the Planet of the Apes"
          ],
          [
           "Scary Stories to Tell in the Dark"
          ],
          [
           "Valentine's Day"
          ],
          [
           "Spider-Man: Into the Spider-Verse"
          ],
          [
           "The Town"
          ],
          [
           "Booksmart"
          ],
          [
           "The Foreigner"
          ],
          [
           "Bridge of Spies"
          ],
          [
           "Doctor Strange"
          ],
          [
           "Pitch Perfect 3"
          ],
          [
           "The Hunger Games: Mockingjay - Part 2"
          ],
          [
           "No Good Deed"
          ],
          [
           "Interstellar"
          ],
          [
           "Krampus"
          ],
          [
           "The Hundred-Foot Journey"
          ],
          [
           "The Hobbit: An Unexpected Journey"
          ],
          [
           "xXx: Return of Xander Cage"
          ],
          [
           "How to Train Your Dragon: The Hidden World"
          ],
          [
           "Bachelorette"
          ],
          [
           "The Bye Bye Man"
          ],
          [
           "About Last Night"
          ],
          [
           "Vampires Suck"
          ],
          [
           "Trainwreck"
          ],
          [
           "Sully"
          ],
          [
           "Ant-Man"
          ],
          [
           "Wind River"
          ],
          [
           "The Commuter"
          ],
          [
           "Big Hero 6"
          ],
          [
           "Captain Phillips"
          ],
          [
           "The Forest"
          ],
          [
           "The Lucky One"
          ],
          [
           "The Revenant"
          ],
          [
           "It Comes at Night"
          ],
          [
           "Kingsman: The Golden Circle"
          ],
          [
           "One Day"
          ],
          [
           "Clash of the Titans"
          ],
          [
           "This Is the End"
          ],
          [
           "Inside Job"
          ],
          [
           "The Wolf of Wall Street"
          ],
          [
           "Love, Simon"
          ],
          [
           "The Lego Batman Movie"
          ],
          [
           "Harry Potter and the Deathly Hallows: Part 1"
          ],
          [
           "Ice Age: Collision Course"
          ],
          [
           "Teenage Mutant Ninja Turtles"
          ],
          [
           "Lone Survivor"
          ],
          [
           "Contraband"
          ],
          [
           "The Girl on the Train"
          ],
          [
           "The Hobbit: The Desolation of Smaug"
          ],
          [
           "The Hobbit: The Battle of the Five Armies"
          ],
          [
           "God's Not Dead"
          ],
          [
           "Hope Springs"
          ],
          [
           "Fast & Furious Presents: Hobbs & Shaw"
          ],
          [
           "Thor: The Dark World"
          ],
          [
           "1917"
          ],
          [
           "Monsters University"
          ],
          [
           "Now You See Me 2"
          ],
          [
           "Everest"
          ],
          [
           "Fighting with My Family"
          ],
          [
           "21 & Over"
          ],
          [
           "Resident Evil: Retribution"
          ],
          [
           "Shutter Island"
          ],
          [
           "The Muppets"
          ],
          [
           "Angel Has Fallen"
          ],
          [
           "Jack Reacher"
          ],
          [
           "Spy"
          ],
          [
           "What Men Want"
          ],
          [
           "The Post"
          ],
          [
           "Kung Fu Panda 3"
          ],
          [
           "Alexander and the Terrible, Horrible, No Good, Very Bad Day"
          ],
          [
           "Spectre"
          ],
          [
           "Night School"
          ],
          [
           "Johnny English Reborn"
          ],
          [
           "The Amazing Spider-Man 2"
          ],
          [
           "The Hateful Eight"
          ],
          [
           "The Meg"
          ],
          [
           "The Amazing Spider-Man"
          ],
          [
           "The Accountant"
          ],
          [
           "The Prodigy"
          ],
          [
           "Jobs"
          ],
          [
           "Earth to Echo"
          ],
          [
           "Diary of a Wimpy Kid: Dog Days"
          ],
          [
           "The Hangover Part III"
          ],
          [
           "Wild"
          ],
          [
           "Pain & Gain"
          ],
          [
           "Sisters"
          ],
          [
           "Remember Me"
          ],
          [
           "The Mule"
          ],
          [
           "Batman v Superman: Dawn of Justice"
          ],
          [
           "The Equalizer"
          ],
          [
           "Safe Haven"
          ],
          [
           "Bumblebee"
          ],
          [
           "The Wedding Ringer"
          ],
          [
           "Pirates of the Caribbean: Dead Men Tell No Tales"
          ],
          [
           "Piranha 3D"
          ],
          [
           "Money Monster"
          ],
          [
           "Jason Bourne"
          ],
          [
           "The Wolverine"
          ],
          [
           "Vacation"
          ],
          [
           "Diary of a Wimpy Kid: Rodrick Rules"
          ],
          [
           "The Expendables"
          ],
          [
           "Kick-Ass"
          ],
          [
           "RED"
          ],
          [
           "Love & Other Drugs"
          ],
          [
           "London Has Fallen"
          ],
          [
           "Anchorman 2: The Legend Continues"
          ],
          [
           "The Bounty Hunter"
          ],
          [
           "Eat Pray Love"
          ],
          [
           "Mr. Popper's Penguins"
          ],
          [
           "Divergent"
          ],
          [
           "Sing Street"
          ],
          [
           "Going in Style"
          ],
          [
           "The Good Liar"
          ],
          [
           "Grown Ups"
          ],
          [
           "The American"
          ],
          [
           "127 Hours"
          ],
          [
           "Saving Mr. Banks"
          ],
          [
           "The Great Gatsby"
          ],
          [
           "Final Destination 5"
          ],
          [
           "The Upside"
          ],
          [
           "Selma"
          ],
          [
           "Madea's Witness Protection"
          ],
          [
           "Warm Bodies"
          ],
          [
           "Ready Player One"
          ],
          [
           "Atomic Blonde"
          ],
          [
           "Zero Dark Thirty"
          ],
          [
           "Rings"
          ],
          [
           "Upgrade"
          ],
          [
           "A Good Day to Die Hard"
          ],
          [
           "The Smurfs 2"
          ],
          [
           "A Nightmare on Elm Street"
          ],
          [
           "Captain Underpants: The First Epic Movie"
          ],
          [
           "Smurfs: The Lost Village"
          ],
          [
           "Fantastic Beasts: The Crimes of Grindelwald"
          ],
          [
           "Before I Fall"
          ],
          [
           "The Mummy"
          ],
          [
           "War for the Planet of the Apes"
          ],
          [
           "The Guard"
          ],
          [
           "Mud"
          ],
          [
           "Due Date"
          ],
          [
           "Into the Storm"
          ],
          [
           "Robin Hood"
          ],
          [
           "Son of God"
          ],
          [
           "Old Fashioned"
          ],
          [
           "The Grey"
          ],
          [
           "Blended"
          ],
          [
           "Game Night"
          ],
          [
           "Predators"
          ],
          [
           "Ted 2"
          ],
          [
           "Focus"
          ],
          [
           "The Expendables 2"
          ],
          [
           "Hell or High Water"
          ],
          [
           "Sex Tape"
          ],
          [
           "Mechanic: Resurrection"
          ],
          [
           "The Place Beyond the Pines"
          ],
          [
           "Iron Man 2"
          ],
          [
           "In a World..."
          ],
          [
           "Fury"
          ],
          [
           "Ride Along 2"
          ],
          [
           "Home Again"
          ],
          [
           "Dracula Untold"
          ],
          [
           "Why Him?"
          ],
          [
           "Prometheus"
          ],
          [
           "Little Fockers"
          ],
          [
           "Neighbors 2: Sorority Rising"
          ],
          [
           "Grown Ups 2"
          ],
          [
           "Water for Elephants"
          ],
          [
           "Need for Speed"
          ],
          [
           "Kong: Skull Island"
          ],
          [
           "Southpaw"
          ],
          [
           "300: Rise of an Empire"
          ],
          [
           "When the Bough Breaks"
          ],
          [
           "The Equalizer 2"
          ],
          [
           "X-Men: Apocalypse"
          ],
          [
           "Magic in the Moonlight"
          ],
          [
           "Why Did I Get Married Too?"
          ],
          [
           "Ralph Breaks the Internet"
          ],
          [
           "Immortals"
          ],
          [
           "How to Train Your Dragon"
          ],
          [
           "Inside Llewyn Davis"
          ],
          [
           "Thor"
          ],
          [
           "I Am Number Four"
          ],
          [
           "The Disaster Artist"
          ],
          [
           "X-Men: Days of Future Past"
          ],
          [
           "Man of Steel"
          ],
          [
           "August: Osage County"
          ],
          [
           "How to Be Single"
          ],
          [
           "I Feel Pretty"
          ],
          [
           "Arbitrage"
          ],
          [
           "Planes: Fire & Rescue"
          ],
          [
           "Shame"
          ],
          [
           "Deliver Us from Evil"
          ],
          [
           "Inferno"
          ],
          [
           "Hop"
          ],
          [
           "Tomb Raider"
          ],
          [
           "Think Like a Man Too"
          ],
          [
           "Zombieland: Double Tap"
          ],
          [
           "Big Eyes"
          ],
          [
           "The Transporter Refueled"
          ],
          [
           "Sex and the City 2"
          ],
          [
           "G.I. Joe: Retaliation"
          ],
          [
           "The 5th Wave"
          ],
          [
           "Hail, Caesar!"
          ],
          [
           "America: Imagine the World Without Her"
          ],
          [
           "The Nut Job"
          ],
          [
           "The Adventures of Tintin"
          ],
          [
           "Noah"
          ],
          [
           "Wreck-It Ralph"
          ],
          [
           "Night at the Museum: Secret of the Tomb"
          ],
          [
           "The Counselor"
          ],
          [
           "Terminator Genisys"
          ],
          [
           "Paul Blart: Mall Cop 2"
          ],
          [
           "Sicario"
          ],
          [
           "Penguins of Madagascar"
          ],
          [
           "Carrie"
          ],
          [
           "Cars 2"
          ],
          [
           "Transformers: The Last Knight"
          ],
          [
           "Get Hard"
          ],
          [
           "Tag"
          ],
          [
           "Pixels"
          ],
          [
           "The Tourist"
          ],
          [
           "Trolls"
          ],
          [
           "Date Night"
          ],
          [
           "The Spectacular Now"
          ],
          [
           "Project Almanac"
          ],
          [
           "Men in Black 3"
          ],
          [
           "The Dictator"
          ],
          [
           "Passengers"
          ],
          [
           "Barbershop: The Next Cut"
          ],
          [
           "Pirates of the Caribbean: On Stranger Tides"
          ],
          [
           "Warcraft"
          ],
          [
           "Escape Plan"
          ],
          [
           "The Crazies"
          ],
          [
           "Middle School: The Worst Years of My Life"
          ],
          [
           "Goosebumps"
          ],
          [
           "The Darkness"
          ],
          [
           "Poltergeist"
          ],
          [
           "Katy Perry: Part of Me"
          ],
          [
           "The Boss"
          ],
          [
           "Real Steel"
          ],
          [
           "Tinker Tailor Soldier Spy"
          ],
          [
           "Jack Reacher: Never Go Back"
          ],
          [
           "World War Z"
          ],
          [
           "Miss Peregrine's Home for Peculiar Children"
          ],
          [
           "Jackie"
          ],
          [
           "American Made"
          ],
          [
           "Baggage Claim"
          ],
          [
           "Just Go with It"
          ],
          [
           "War Horse"
          ],
          [
           "Mary Poppins Returns"
          ],
          [
           "The Chronicles of Narnia: The Voyage of the Dawn Treader"
          ],
          [
           "The Giver"
          ],
          [
           "Den of Thieves"
          ],
          [
           "Fences"
          ],
          [
           "Epic"
          ],
          [
           "Salt"
          ],
          [
           "Goosebumps 2: Haunted Halloween"
          ],
          [
           "Ferdinand"
          ],
          [
           "The Words"
          ],
          [
           "Maleficent: Mistress of Evil"
          ],
          [
           "The Beguiled"
          ],
          [
           "Prisoners"
          ],
          [
           "Captain America: The First Avenger"
          ],
          [
           "Footloose"
          ],
          [
           "The November Man"
          ],
          [
           "Letters to Juliet"
          ],
          [
           "Christopher Robin"
          ],
          [
           "Uncut Gems"
          ],
          [
           "The Age of Adaline"
          ],
          [
           "The Switch"
          ],
          [
           "Soul Surfer"
          ],
          [
           "Storks"
          ],
          [
           "Daddy's Home 2"
          ],
          [
           "Legion"
          ],
          [
           "The Family"
          ],
          [
           "The Rite"
          ],
          [
           "The To Do List"
          ],
          [
           "Riddick"
          ],
          [
           "Dolphin Tale"
          ],
          [
           "The Pyramid"
          ],
          [
           "Big Mommas: Like Father, Like Son"
          ],
          [
           "Baywatch"
          ],
          [
           "The Perks of Being a Wallflower"
          ],
          [
           "Horrible Bosses 2"
          ],
          [
           "Brick Mansions"
          ],
          [
           "Locke"
          ],
          [
           "Beastly"
          ],
          [
           "Yogi Bear"
          ],
          [
           "Office Christmas Party"
          ],
          [
           "The Adjustment Bureau"
          ],
          [
           "New Year's Eve"
          ],
          [
           "Killing Them Softly"
          ],
          [
           "The Roommate"
          ],
          [
           "The Green Inferno"
          ],
          [
           "Alpha and Omega"
          ],
          [
           "This Is 40"
          ],
          [
           "Rush"
          ],
          [
           "Mad Max: Fury Road"
          ],
          [
           "Larry Crowne"
          ],
          [
           "Love the Coopers"
          ],
          [
           "Elysium"
          ],
          [
           "The Peanuts Movie"
          ],
          [
           "She's Out of My League"
          ],
          [
           "Unbroken"
          ],
          [
           "The Strangers: Prey at Night"
          ],
          [
           "Alien: Covenant"
          ],
          [
           "Megamind"
          ],
          [
           "Another Year"
          ],
          [
           "Ex Machina"
          ],
          [
           "Star Trek Into Darkness"
          ],
          [
           "Uncle Drew"
          ],
          [
           "The Glass Castle"
          ],
          [
           "Collateral Beauty"
          ],
          [
           "Paul"
          ],
          [
           "Hercules"
          ],
          [
           "Little"
          ],
          [
           "Dora and the Lost City of Gold"
          ],
          [
           "Safe House"
          ],
          [
           "42"
          ],
          [
           "Skyscraper"
          ],
          [
           "Olympus Has Fallen"
          ],
          [
           "J. Edgar"
          ],
          [
           "Black or White"
          ],
          [
           "Scream 4"
          ],
          [
           "Abominable"
          ],
          [
           "A Most Wanted Man"
          ],
          [
           "This Means War"
          ],
          [
           "We Bought a Zoo"
          ],
          [
           "Hall Pass"
          ],
          [
           "The Expendables 3"
          ],
          [
           "Percy Jackson & the Olympians: The Lightning Thief"
          ],
          [
           "Oblivion"
          ],
          [
           "Home Run"
          ],
          [
           "Traffik"
          ],
          [
           "Alita: Battle Angel"
          ],
          [
           "Flatliners"
          ],
          [
           "Rough Night"
          ],
          [
           "Independence Day: Resurgence"
          ],
          [
           "Blue Ruin"
          ],
          [
           "TRON: Legacy"
          ],
          [
           "Hitman: Agent 47"
          ],
          [
           "Abduction"
          ],
          [
           "Tooth Fairy"
          ],
          [
           "Super Troopers 2"
          ],
          [
           "Death at a Funeral"
          ],
          [
           "Mike and Dave Need Wedding Dates"
          ],
          [
           "Snow White and the Huntsman"
          ],
          [
           "The Cabin in the Woods"
          ],
          [
           "Ghost Rider: Spirit of Vengeance"
          ],
          [
           "Risen"
          ],
          [
           "T2 Trainspotting"
          ],
          [
           "Underworld: Blood Wars"
          ],
          [
           "Men in Black: International"
          ],
          [
           "Ford v Ferrari"
          ],
          [
           "Nebraska"
          ],
          [
           "The Choice"
          ],
          [
           "The World's End"
          ],
          [
           "Get Him to the Greek"
          ],
          [
           "Playing with Fire"
          ],
          [
           "Ricki and the Flash"
          ],
          [
           "Season of the Witch"
          ],
          [
           "Suffragette"
          ],
          [
           "The Debt"
          ],
          [
           "Pacific Rim"
          ],
          [
           "Tangled"
          ],
          [
           "Contagion"
          ],
          [
           "Machete"
          ],
          [
           "Godzilla: King of the Monsters"
          ],
          [
           "The Angry Birds Movie 2"
          ],
          [
           "Jack Ryan: Shadow Recruit"
          ],
          [
           "The Circle"
          ],
          [
           "The Next Three Days"
          ],
          [
           "The Odd Life of Timothy Green"
          ],
          [
           "Prince of Persia: The Sands of Time"
          ],
          [
           "Knight and Day"
          ],
          [
           "The Great Wall"
          ],
          [
           "Knock Knock"
          ],
          [
           "The Monuments Men"
          ],
          [
           "Percy Jackson: Sea of Monsters"
          ],
          [
           "The Belko Experiment"
          ],
          [
           "Only God Forgives"
          ],
          [
           "Finding Your Feet"
          ],
          [
           "Pete's Dragon"
          ],
          [
           "Homefront"
          ],
          [
           "X-Men: First Class"
          ],
          [
           "Moneyball"
          ],
          [
           "Red Sparrow"
          ],
          [
           "Max"
          ],
          [
           "Cars 3"
          ],
          [
           "Justice League"
          ],
          [
           "A Million Ways to Die in the West"
          ],
          [
           "The Lincoln Lawyer"
          ],
          [
           "Kick-Ass 2"
          ],
          [
           "2 Guns"
          ],
          [
           "Sicario: Day of the Soldado"
          ],
          [
           "Takers"
          ],
          [
           "War Dogs"
          ],
          [
           "The Darkest Hour"
          ],
          [
           "Peppermint"
          ],
          [
           "Mirror Mirror"
          ],
          [
           "Seven Psychopaths"
          ],
          [
           "The Edge of Seventeen"
          ],
          [
           "Red Riding Hood"
          ],
          [
           "Hereafter"
          ],
          [
           "Lawless"
          ],
          [
           "The Last Airbender"
          ],
          [
           "Hanna"
          ],
          [
           "The Bourne Legacy"
          ],
          [
           "My Old Lady"
          ],
          [
           "Zookeeper"
          ],
          [
           "Rise of the Guardians"
          ],
          [
           "Gulliver's Travels"
          ],
          [
           "Side Effects"
          ],
          [
           "What to Expect When You're Expecting"
          ],
          [
           "Her"
          ],
          [
           "Moms' Night Out"
          ],
          [
           "Annie"
          ],
          [
           "A Walk Among the Tombstones"
          ],
          [
           "The Night Before"
          ],
          [
           "Chappie"
          ],
          [
           "The Secret Life of Walter Mitty"
          ],
          [
           "Turbo"
          ],
          [
           "Beyond the Lights"
          ],
          [
           "This Is Where I Leave You"
          ],
          [
           "Frankenweenie"
          ],
          [
           "Runner Runner"
          ],
          [
           "Edge of Tomorrow"
          ],
          [
           "Dumbo"
          ],
          [
           "The Sweeney"
          ],
          [
           "Delivery Man"
          ],
          [
           "Tower Heist"
          ],
          [
           "A Dangerous Method"
          ],
          [
           "Stuber"
          ],
          [
           "RoboCop"
          ],
          [
           "Just Mercy"
          ],
          [
           "Bernie"
          ],
          [
           "Wrath of the Titans"
          ],
          [
           "Free Birds"
          ],
          [
           "Eddie the Eagle"
          ],
          [
           "When the Game Stands Tall"
          ],
          [
           "The Book of Life"
          ],
          [
           "Monte Carlo"
          ],
          [
           "The Legend of Tarzan"
          ],
          [
           "Molly's Game"
          ],
          [
           "The Birth of a Nation"
          ],
          [
           "The Book of Eli"
          ],
          [
           "Wish Upon"
          ],
          [
           "Mother's Day"
          ],
          [
           "Pacific Rim: Uprising"
          ],
          [
           "Boo 2! A Madea Halloween"
          ],
          [
           "Wall Street: Money Never Sleeps"
          ],
          [
           "Nine Lives"
          ],
          [
           "Assassin's Creed"
          ],
          [
           "12 Strong"
          ],
          [
           "Alpha"
          ],
          [
           "Robot & Frank"
          ],
          [
           "The Lego Movie 2: The Second Part"
          ],
          [
           "Paterson"
          ],
          [
           "Exodus: Gods and Kings"
          ],
          [
           "Step Up All In"
          ],
          [
           "Young Adult"
          ],
          [
           "A Very Harold & Kumar Christmas"
          ],
          [
           "The Mechanic"
          ],
          [
           "The 15:17 to Paris"
          ],
          [
           "3 Days to Kill"
          ],
          [
           "Mr. Peabody & Sherman"
          ],
          [
           "Frank"
          ],
          [
           "The Green Hornet"
          ],
          [
           "Mile 22"
          ],
          [
           "Jack and Jill"
          ],
          [
           "The Dark Tower"
          ],
          [
           "The Spy Who Dumped Me"
          ],
          [
           "Black Mass"
          ],
          [
           "After Earth"
          ],
          [
           "Mary Queen of Scots"
          ],
          [
           "Fist Fight"
          ],
          [
           "Escape from Planet Earth"
          ],
          [
           "Bombshell"
          ],
          [
           "Something Borrowed"
          ],
          [
           "Star Trek Beyond"
          ],
          [
           "We Are Your Friends"
          ],
          [
           "Cop Out"
          ],
          [
           "The Longest Ride"
          ],
          [
           "Savages"
          ],
          [
           "Geostorm"
          ],
          [
           "Burnt"
          ],
          [
           "The Three Stooges"
          ],
          [
           "Rambo: Last Blood"
          ],
          [
           "The Tree of Life"
          ],
          [
           "The Predator"
          ],
          [
           "Diary of a Wimpy Kid: The Long Haul"
          ],
          [
           "Rango"
          ],
          [
           "Ramona and Beezus"
          ],
          [
           "Teenage Mutant Ninja Turtles: Out of the Shadows"
          ],
          [
           "Incarnate"
          ],
          [
           "Widows"
          ],
          [
           "The Five-Year Engagement"
          ],
          [
           "The Magnificent Seven"
          ],
          [
           "The Boxtrolls"
          ],
          [
           "Hot Tub Time Machine"
          ],
          [
           "The Mountain Between Us"
          ],
          [
           "Secret in Their Eyes"
          ],
          [
           "ParaNorman"
          ],
          [
           "Nobody's Fool"
          ],
          [
           "RED 2"
          ],
          [
           "The Three Musketeers"
          ],
          [
           "Alice Through the Looking Glass"
          ],
          [
           "Sparkle"
          ],
          [
           "The Lego Ninjago Movie"
          ],
          [
           "Gangster Squad"
          ],
          [
           "Made in Dagenham"
          ],
          [
           "Legend of the Guardians: The Owls of Ga'Hoole"
          ],
          [
           "The Walk"
          ],
          [
           "Endless Love"
          ],
          [
           "Life"
          ],
          [
           "While We're Young"
          ],
          [
           "The D Train"
          ],
          [
           "Blade Runner 2049"
          ],
          [
           "Secretariat"
          ],
          [
           "Leap Year"
          ],
          [
           "Hitchcock"
          ],
          [
           "Legend"
          ],
          [
           "The Nut Job 2: Nutty by Nature"
          ],
          [
           "Spies in Disguise"
          ],
          [
           "If Beale Street Could Talk"
          ],
          [
           "Left Behind"
          ],
          [
           "The Other Guys"
          ],
          [
           "The Water Diviner"
          ],
          [
           "Piranha 3DD"
          ],
          [
           "Jersey Boys"
          ],
          [
           "The Art of Racing in the Rain"
          ],
          [
           "The Judge"
          ],
          [
           "Abraham Lincoln: Vampire Hunter"
          ],
          [
           "Florence Foster Jenkins"
          ],
          [
           "Joy"
          ],
          [
           "Voiceless"
          ],
          [
           "Hardcore Henry"
          ],
          [
           "Unstoppable"
          ],
          [
           "Marmaduke"
          ],
          [
           "Filth"
          ],
          [
           "Logan Lucky"
          ],
          [
           "Winnie the Pooh"
          ],
          [
           "The Good Dinosaur"
          ],
          [
           "Kidnap"
          ],
          [
           "The Meddler"
          ],
          [
           "Death Wish"
          ],
          [
           "Snitch"
          ],
          [
           "Lockout"
          ],
          [
           "Swiss Army Man"
          ],
          [
           "Entourage"
          ],
          [
           "Dark Shadows"
          ],
          [
           "For a Good Time, Call..."
          ],
          [
           "The Last Witch Hunter"
          ],
          [
           "Burlesque"
          ],
          [
           "Allegiant"
          ],
          [
           "Camp"
          ],
          [
           "The Lobster"
          ],
          [
           "The Spy Next Door"
          ],
          [
           "The Internship"
          ],
          [
           "The A-Team"
          ],
          [
           "Muppets Most Wanted"
          ],
          [
           "Doctor Sleep"
          ],
          [
           "Dolphin Tale 2"
          ],
          [
           "You Again"
          ],
          [
           "The Mortal Instruments: City of Bones"
          ],
          [
           "Colombiana"
          ],
          [
           "Last Night"
          ],
          [
           "The Gambler"
          ],
          [
           "Solo: A Star Wars Story"
          ],
          [
           "The Innkeepers"
          ],
          [
           "Proud Mary"
          ],
          [
           "Ghost in the Shell"
          ],
          [
           "Million Dollar Arm"
          ],
          [
           "Marrowbone"
          ],
          [
           "Sherlock Gnomes"
          ],
          [
           "Don't Be Afraid of the Dark"
          ],
          [
           "Our Family Wedding"
          ],
          [
           "Charlie's Angels"
          ],
          [
           "The Little Prince"
          ],
          [
           "Belle"
          ],
          [
           "What's Your Number?"
          ],
          [
           "The Eagle"
          ],
          [
           "The Hate U Give"
          ],
          [
           "All Is Lost"
          ],
          [
           "21 Bridges"
          ],
          [
           "First Man"
          ],
          [
           "Haywire"
          ],
          [
           "Morning Glory"
          ],
          [
           "The Best of Me"
          ],
          [
           "Faster"
          ],
          [
           "Unforgettable"
          ],
          [
           "The Drop"
          ],
          [
           "Shark Night 3D"
          ],
          [
           "Hot Pursuit"
          ],
          [
           "Machete Kills"
          ],
          [
           "Café Society"
          ],
          [
           "Ad Astra"
          ],
          [
           "30 Minutes or Less"
          ],
          [
           "Diana"
          ],
          [
           "The Change-Up"
          ],
          [
           "The Nutcracker and the Four Realms"
          ],
          [
           "Battleship"
          ],
          [
           "Snatched"
          ],
          [
           "Animal Kingdom"
          ],
          [
           "The Host"
          ],
          [
           "Loving"
          ],
          [
           "The Sorcerer's Apprentice"
          ],
          [
           "The Awakening"
          ],
          [
           "The Huntsman: Winter's War"
          ],
          [
           "Admission"
          ],
          [
           "Run All Night"
          ],
          [
           "The Man from U.N.C.L.E."
          ],
          [
           "Power Rangers"
          ],
          [
           "Terminator: Dark Fate"
          ],
          [
           "Allied"
          ],
          [
           "And So It Goes"
          ],
          [
           "Captive"
          ],
          [
           "Fantastic Four"
          ],
          [
           "The Sitter"
          ],
          [
           "The BFG"
          ],
          [
           "All Eyez on Me"
          ],
          [
           "I'm Not Ashamed"
          ],
          [
           "Safe"
          ],
          [
           "Extremely Loud & Incredibly Close"
          ],
          [
           "The Man with the Iron Fists"
          ],
          [
           "White House Down"
          ],
          [
           "Country Strong"
          ],
          [
           "Phantom"
          ],
          [
           "Fright Night"
          ],
          [
           "Phantom Thread"
          ],
          [
           "American Animals"
          ],
          [
           "Crimson Peak"
          ],
          [
           "Khumba"
          ],
          [
           "Let Me In"
          ],
          [
           "Iron Sky"
          ],
          [
           "Nocturnal Animals"
          ],
          [
           "Long Shot"
          ],
          [
           "The Railway Man"
          ],
          [
           "Parker"
          ],
          [
           "The Ghost Writer"
          ],
          [
           "The Bling Ring"
          ],
          [
           "Prom"
          ],
          [
           "The Big Wedding"
          ],
          [
           "Cats & Dogs: The Revenge of Kitty Galore"
          ],
          [
           "Going the Distance"
          ],
          [
           "Shut In"
          ],
          [
           "I Don't Know How She Does It"
          ],
          [
           "Killers"
          ],
          [
           "The Zookeeper's Wife"
          ],
          [
           "Priest"
          ],
          [
           "The Light Between Oceans"
          ],
          [
           "A Wrinkle in Time"
          ],
          [
           "Cloud Atlas"
          ],
          [
           "Batman: The Killing Joke"
          ],
          [
           "Cold Pursuit"
          ],
          [
           "Valerian and the City of a Thousand Planets"
          ],
          [
           "Point Break"
          ],
          [
           "Kubo and the Two Strings"
          ],
          [
           "Vice"
          ],
          [
           "Dinner for Schmucks"
          ],
          [
           "Midway"
          ],
          [
           "Gemini Man"
          ],
          [
           "The Nice Guys"
          ],
          [
           "The Snowman"
          ],
          [
           "Criminal"
          ],
          [
           "Carnage"
          ],
          [
           "Self/less"
          ],
          [
           "Happy Feet Two"
          ],
          [
           "Trance"
          ],
          [
           "The Darkest Minds"
          ],
          [
           "Hearts Beat Loud"
          ],
          [
           "Arthur"
          ],
          [
           "Seventh Son"
          ],
          [
           "Woodlawn"
          ],
          [
           "Wonder Park"
          ],
          [
           "Draft Day"
          ],
          [
           "Masterminds"
          ],
          [
           "I, Frankenstein"
          ],
          [
           "Pompeii"
          ],
          [
           "The Losers"
          ],
          [
           "Fair Game"
          ],
          [
           "Seeking a Friend for the End of the World"
          ],
          [
           "The Girl with the Dragon Tattoo"
          ],
          [
           "Patriots Day"
          ],
          [
           "Triple 9"
          ],
          [
           "Steve Jobs"
          ],
          [
           "The Raven"
          ],
          [
           "Ender's Game"
          ],
          [
           "Ruby Sparks"
          ],
          [
           "All the Money in the World"
          ],
          [
           "John Carter"
          ],
          [
           "Zoolander 2"
          ],
          [
           "Man on a Ledge"
          ],
          [
           "The Hunt"
          ],
          [
           "Labor Day"
          ],
          [
           "Grudge Match"
          ],
          [
           "Get on Up"
          ],
          [
           "Fifty Shades of Black"
          ],
          [
           "Deepwater Horizon"
          ],
          [
           "The Campaign"
          ],
          [
           "First Reformed"
          ],
          [
           "Morgan"
          ],
          [
           "Tomorrowland"
          ],
          [
           "A Monster Calls"
          ],
          [
           "Green Lantern"
          ],
          [
           "Sleepless"
          ],
          [
           "Overlord"
          ],
          [
           "Sucker Punch"
          ],
          [
           "Charlie St. Cloud"
          ],
          [
           "Early Man"
          ],
          [
           "Hugo"
          ],
          [
           "Win Win"
          ],
          [
           "Macbeth"
          ],
          [
           "Only Lovers Left Alive"
          ],
          [
           "Danny Collins"
          ],
          [
           "The Canyons"
          ],
          [
           "Annihilation"
          ],
          [
           "Gods of Egypt"
          ],
          [
           "Scouts Guide to the Zombie Apocalypse"
          ],
          [
           "Cowboys & Aliens"
          ],
          [
           "The Guilt Trip"
          ],
          [
           "Jupiter Ascending"
          ],
          [
           "Kill the Messenger"
          ],
          [
           "Bel Ami"
          ],
          [
           "Furry Vengeance"
          ],
          [
           "A United Kingdom"
          ],
          [
           "Wish I Was Here"
          ],
          [
           "20th Century Women"
          ],
          [
           "Transcendence"
          ],
          [
           "The Lords of Salem"
          ],
          [
           "Rabbit Hole"
          ],
          [
           "Miss Bala"
          ],
          [
           "Isle of Dogs"
          ],
          [
           "Father Figures"
          ],
          [
           "The Lone Ranger"
          ],
          [
           "From Paris with Love"
          ],
          [
           "Jack the Giant Slayer"
          ],
          [
           "Edge of Darkness"
          ],
          [
           "Table 19"
          ],
          [
           "Red Lights"
          ],
          [
           "Stoker"
          ],
          [
           "The Watch"
          ],
          [
           "Beautiful Creatures"
          ],
          [
           "The Vatican Tapes"
          ],
          [
           "Thunderstruck"
          ],
          [
           "Smashed"
          ],
          [
           "The Dilemma"
          ],
          [
           "American Ultra"
          ],
          [
           "Richard Jewell"
          ],
          [
           "90 Minutes in Heaven"
          ],
          [
           "The Founder"
          ],
          [
           "Holmes & Watson"
          ],
          [
           "One for the Money"
          ],
          [
           "Green Zone"
          ],
          [
           "Albert Nobbs"
          ],
          [
           "In the Heart of the Sea"
          ],
          [
           "Hot Tub Time Machine 2"
          ],
          [
           "Snowden"
          ],
          [
           "Warrior"
          ],
          [
           "MacGruber"
          ],
          [
           "The Hurricane Heist"
          ],
          [
           "Bad Santa 2"
          ],
          [
           "The Incredible Burt Wonderstone"
          ],
          [
           "The Beach Bum"
          ],
          [
           "Kill List"
          ],
          [
           "The Thing"
          ],
          [
           "White Boy Rick"
          ],
          [
           "Hellboy"
          ],
          [
           "Flypaper"
          ],
          [
           "Premium Rush"
          ],
          [
           "Conviction"
          ],
          [
           "Hotel Artemis"
          ],
          [
           "The Diary of a Teenage Girl"
          ],
          [
           "The Master"
          ],
          [
           "Little Boy"
          ],
          [
           "Predestination"
          ],
          [
           "Big Game"
          ],
          [
           "The Legend of Hercules"
          ],
          [
           "Red Tails"
          ],
          [
           "47 Ronin"
          ],
          [
           "Killer Elite"
          ],
          [
           "My Soul to Take"
          ],
          [
           "Pan"
          ],
          [
           "Victor Frankenstein"
          ],
          [
           "King Arthur: Legend of the Sword"
          ],
          [
           "For Greater Glory: The True Story of Cristiada"
          ],
          [
           "Marshall"
          ],
          [
           "The Cold Light of Day"
          ],
          [
           "The Infiltrator"
          ],
          [
           "Seeking Justice"
          ],
          [
           "Battle of the Year"
          ],
          [
           "That's My Boy"
          ],
          [
           "Bad Words"
          ],
          [
           "Dredd"
          ],
          [
           "Drive Angry"
          ],
          [
           "The Girl in the Spider's Web"
          ],
          [
           "Fun Size"
          ],
          [
           "It's Kind of a Funny Story"
          ],
          [
           "Downsizing"
          ],
          [
           "The Way Back"
          ],
          [
           "Before I Go to Sleep"
          ],
          [
           "Foxcatcher"
          ],
          [
           "Dream House"
          ],
          [
           "Life Itself"
          ],
          [
           "Denial"
          ],
          [
           "Mandela: Long Walk to Freedom"
          ],
          [
           "Scott Pilgrim vs. the World"
          ],
          [
           "Rock of Ages"
          ],
          [
           "Mortdecai"
          ],
          [
           "The Loft"
          ],
          [
           "People Like Us"
          ],
          [
           "Judy Moody and the Not Bummer Summer"
          ],
          [
           "Red Dawn"
          ],
          [
           "When in Rome"
          ],
          [
           "Cats"
          ],
          [
           "What If"
          ],
          [
           "Alex Cross"
          ],
          [
           "Certain Women"
          ],
          [
           "Trumbo"
          ],
          [
           "Green Room"
          ],
          [
           "Keeping Up with the Joneses"
          ],
          [
           "Take Shelter"
          ],
          [
           "Gold"
          ],
          [
           "Battle of the Sexes"
          ],
          [
           "Promised Land"
          ],
          [
           "Inherent Vice"
          ],
          [
           "Operation Finale"
          ],
          [
           "Clouds of Sils Maria"
          ],
          [
           "Whiskey Tango Foxtrot"
          ],
          [
           "Shaft"
          ],
          [
           "Out of the Furnace"
          ],
          [
           "Motherless Brooklyn"
          ],
          [
           "Aloha"
          ],
          [
           "Anomalisa"
          ],
          [
           "Conan the Barbarian"
          ],
          [
           "The Joneses"
          ],
          [
           "Miss Sloane"
          ],
          [
           "Only the Brave"
          ],
          [
           "Queen of Katwe"
          ],
          [
           "The Happytime Murders"
          ],
          [
           "Detroit"
          ],
          [
           "Chalet Girl"
          ],
          [
           "Wanderlust"
          ],
          [
           "Tusk"
          ],
          [
           "The Rum Diary"
          ],
          [
           "Ratchet & Clank"
          ],
          [
           "A Cure for Wellness"
          ],
          [
           "Never Let Me Go"
          ],
          [
           "Getaway"
          ],
          [
           "The Finest Hours"
          ],
          [
           "The Signal"
          ],
          [
           "Hostiles"
          ],
          [
           "The Lost City of Z"
          ],
          [
           "Gotti"
          ],
          [
           "I Spit on Your Grave"
          ],
          [
           "Wonder Wheel"
          ],
          [
           "Sabotage"
          ],
          [
           "Max Steel"
          ],
          [
           "The Conspirator"
          ],
          [
           "Stake Land"
          ],
          [
           "Broken City"
          ],
          [
           "Big Miracle"
          ],
          [
           "Tomorrow, When the War Began"
          ],
          [
           "Joe"
          ],
          [
           "The Gunman"
          ],
          [
           "R.I.P.D."
          ],
          [
           "A Most Violent Year"
          ],
          [
           "Roman J. Israel, Esq."
          ],
          [
           "Pride and Prejudice and Zombies"
          ],
          [
           "Serenity"
          ],
          [
           "Repo Men"
          ],
          [
           "Centurion"
          ],
          [
           "31"
          ],
          [
           "Anthropoid"
          ],
          [
           "Everything Must Go"
          ],
          [
           "Your Highness"
          ],
          [
           "Truth"
          ],
          [
           "Nothing Left to Fear"
          ],
          [
           "Walk of Shame"
          ],
          [
           "The Guest"
          ],
          [
           "The Company Men"
          ],
          [
           "Chappaquiddick"
          ],
          [
           "The Space Between Us"
          ],
          [
           "Free Fire"
          ],
          [
           "Vampire Academy"
          ],
          [
           "A Thousand Words"
          ],
          [
           "Monster Trucks"
          ],
          [
           "Winter's Tale"
          ],
          [
           "Anonymous"
          ],
          [
           "A Hidden Life"
          ],
          [
           "Love"
          ],
          [
           "Suburbicon"
          ],
          [
           "2 Days in New York"
          ],
          [
           "Free State of Jones"
          ],
          [
           "Thank You for Your Service"
          ],
          [
           "Stolen"
          ],
          [
           "Extraordinary Measures"
          ],
          [
           "The Neon Demon"
          ],
          [
           "This Must Be the Place"
          ],
          [
           "Laggies"
          ],
          [
           "Personal Shopper"
          ],
          [
           "Austenland"
          ],
          [
           "Jeff, Who Lives at Home"
          ],
          [
           "Red State"
          ],
          [
           "The Runaways"
          ],
          [
           "Stone"
          ],
          [
           "Jem and the Holograms"
          ],
          [
           "Everybody Wants Some!!"
          ],
          [
           "Killer Joe"
          ],
          [
           "Welcome to the Punch"
          ],
          [
           "The Book of Henry"
          ],
          [
           "Tolkien"
          ],
          [
           "What Maisie Knew"
          ],
          [
           "The Face of Love"
          ],
          [
           "Straw Dogs"
          ],
          [
           "The East"
          ],
          [
           "Paranoia"
          ],
          [
           "Wild Target"
          ],
          [
           "Demolition"
          ],
          [
           "Attack the Block"
          ],
          [
           "Robin Hood"
          ],
          [
           "Under the Skin"
          ],
          [
           "Black Nativity"
          ],
          [
           "Higher Ground"
          ],
          [
           "Unfinished Business"
          ],
          [
           "Intruders"
          ],
          [
           "How Do You Know"
          ],
          [
           "Barney's Version"
          ],
          [
           "Bullet to the Head"
          ],
          [
           "Take Me Home Tonight"
          ],
          [
           "Suspiria"
          ],
          [
           "The Young Messiah"
          ],
          [
           "Beauty and the Beast"
          ],
          [
           "Rock Dog"
          ],
          [
           "On the Road"
          ],
          [
           "Afflicted"
          ],
          [
           "Midnight Special"
          ],
          [
           "The Immigrant"
          ],
          [
           "Heist"
          ],
          [
           "Upside Down"
          ],
          [
           "Tulip Fever"
          ],
          [
           "No One Lives"
          ],
          [
           "Shadow Dancer"
          ],
          [
           "Captive State"
          ],
          [
           "Maggie"
          ],
          [
           "The Beaver"
          ],
          [
           "Just Getting Started"
          ],
          [
           "The Sisters Brothers"
          ],
          [
           "Kin"
          ],
          [
           "Cosmopolis"
          ],
          [
           "Disconnect"
          ],
          [
           "Overdrive"
          ],
          [
           "The Grand Seduction"
          ],
          [
           "Cake"
          ],
          [
           "Welcome to Marwen"
          ],
          [
           "By the Sea"
          ],
          [
           "London Boulevard"
          ],
          [
           "The Oranges"
          ],
          [
           "Escobar: Paradise Lost"
          ],
          [
           "Salinger"
          ],
          [
           "The Fifth Estate"
          ],
          [
           "The Virginity Hit"
          ],
          [
           "Collide"
          ],
          [
           "Coriolanus"
          ],
          [
           "Restless"
          ],
          [
           "Replicas"
          ],
          [
           "Legends of Oz: Dorothy's Return"
          ],
          [
           "The Perfect Game"
          ],
          [
           "Atlas Shrugged: Part I"
          ],
          [
           "Lost River"
          ],
          [
           "ATM"
          ],
          [
           "A Hologram for the King"
          ],
          [
           "Lean on Pete"
          ],
          [
           "Our Brand Is Crisis"
          ],
          [
           "The Paperboy"
          ],
          [
           "Maps to the Stars"
          ],
          [
           "The Devil's Double"
          ],
          [
           "Pawn Sacrifice"
          ],
          [
           "Dylan Dog: Dead of Night"
          ],
          [
           "The Young and Prodigious T.S. Spivet"
          ],
          [
           "Stronger"
          ],
          [
           "Trespass"
          ],
          [
           "Blackhat"
          ],
          [
           "'71"
          ],
          [
           "Infinitely Polar Bear"
          ],
          [
           "Action Point"
          ],
          [
           "The Interview"
          ],
          [
           "Mars Needs Moms"
          ],
          [
           "Child 44"
          ],
          [
           "Colonia"
          ],
          [
           "Ain't Them Bodies Saints"
          ],
          [
           "Howl"
          ],
          [
           "Under the Silver Lake"
          ],
          [
           "Repentance"
          ],
          [
           "High Life"
          ],
          [
           "The Homesman"
          ],
          [
           "Jonah Hex"
          ],
          [
           "The House That Jack Built"
          ],
          [
           "99 Homes"
          ],
          [
           "The Iceman"
          ],
          [
           "Rock the Kasbah"
          ],
          [
           "Man of Tai Chi"
          ],
          [
           "Freeheld"
          ],
          [
           "Live by Night"
          ],
          [
           "The Apparition"
          ],
          [
           "The Rover"
          ],
          [
           "Rubber"
          ],
          [
           "The Big Year"
          ],
          [
           "October Baby"
          ],
          [
           "A Better Life"
          ],
          [
           "Gimme Shelter"
          ],
          [
           "Henry's Crime"
          ],
          [
           "Song to Song"
          ],
          [
           "Creature"
          ],
          [
           "The Bronze"
          ],
          [
           "Oldboy"
          ],
          [
           "Chain Letter"
          ],
          [
           "Super"
          ],
          [
           "The Zero Theorem"
          ],
          [
           "Vanishing on 7th Street"
          ],
          [
           "13 Sins"
          ],
          [
           "Another Happy Day"
          ],
          [
           "Deadfall"
          ],
          [
           "Lovelace"
          ],
          [
           "Rules Don't Apply"
          ],
          [
           "Parkland"
          ],
          [
           "Crooked Arrows"
          ],
          [
           "W.E."
          ],
          [
           "I Saw the Light"
          ],
          [
           "Equals"
          ],
          [
           "Rampart"
          ],
          [
           "Flipped"
          ],
          [
           "The Ledge"
          ],
          [
           "Jane Got a Gun"
          ],
          [
           "Universal Soldier: Day of Reckoning"
          ],
          [
           "Life of Crime"
          ],
          [
           "In the Land of Blood and Honey"
          ],
          [
           "Middle of Nowhere"
          ],
          [
           "Manglehorn"
          ],
          [
           "Life After Beth"
          ],
          [
           "Machine Gun Preacher"
          ],
          [
           "50 to 1"
          ],
          [
           "Make Your Move"
          ],
          [
           "Blood Ties"
          ],
          [
           "Adore"
          ],
          [
           "The Double"
          ],
          [
           "Casino Jack"
          ],
          [
           "Third Person"
          ],
          [
           "The Extra Man"
          ],
          [
           "Byzantium"
          ],
          [
           "Camp X-Ray"
          ],
          [
           "Mr. Right"
          ],
          [
           "Song One"
          ],
          [
           "The 5th Quarter"
          ],
          [
           "The Music Never Stopped"
          ],
          [
           "Hesher"
          ],
          [
           "Trust"
          ],
          [
           "Hatchet II"
          ],
          [
           "London Fields"
          ],
          [
           "Lay the Favorite"
          ],
          [
           "Falcon Rising"
          ],
          [
           "Blackway"
          ],
          [
           "Bitter Harvest"
          ],
          [
           "The Romantics"
          ],
          [
           "Sleeping Beauty"
          ],
          [
           "Margaret"
          ],
          [
           "Freakonomics"
          ],
          [
           "The Other Woman"
          ],
          [
           "Dirty Girl"
          ],
          [
           "Aloft"
          ],
          [
           "The Bad Batch"
          ],
          [
           "Road to Nowhere"
          ],
          [
           "Not Fade Away"
          ],
          [
           "Decoding Annie Parker"
          ],
          [
           "Pink Ribbons, Inc."
          ],
          [
           "Saint John of Las Vegas"
          ],
          [
           "Frozen"
          ],
          [
           "Ghostbusters"
          ],
          [
           "Band Aid"
          ],
          [
           "Honeymoon"
          ],
          [
           "All I See Is You"
          ],
          [
           "Stonewall"
          ],
          [
           "The Tempest"
          ],
          [
           "Bilal: A New Breed of Hero"
          ],
          [
           "Dunkirk"
          ],
          [
           "Home"
          ],
          [
           "5 Days of War"
          ],
          [
           "Term Life"
          ],
          [
           "Strangerland"
          ],
          [
           "The Ottoman Lieutenant"
          ],
          [
           "Every Day"
          ],
          [
           "Joker"
          ],
          [
           "The Good Doctor"
          ],
          [
           "CBGB"
          ],
          [
           "Inhale"
          ],
          [
           "Ca$h"
          ],
          [
           "Meet Monica Velour"
          ],
          [
           "Beautiful Boy"
          ],
          [
           "The Adventurer: The Curse of the Midas Box"
          ],
          [
           "Brave"
          ],
          [
           "Ben-Hur"
          ],
          [
           "About Cherry"
          ],
          [
           "Passion Play"
          ],
          [
           "A Perfect Man"
          ],
          [
           "Barefoot"
          ],
          [
           "The Sacrament"
          ],
          [
           "Concussion"
          ],
          [
           "Mi America"
          ],
          [
           "Area 51"
          ],
          [
           "The Nun"
          ],
          [
           "Best Man Down"
          ],
          [
           "The Samaritan"
          ],
          [
           "Quartet"
          ],
          [
           "Godzilla"
          ],
          [
           "Aftermath"
          ],
          [
           "Total Recall"
          ],
          [
           "Moana"
          ]
         ],
         "hovertemplate": "budget=%{x}<br>Profit=%{y}<br>title=%{customdata[0]}<extra></extra>",
         "legendgroup": "",
         "marker": {
          "color": "#636efa",
          "symbol": "circle"
         },
         "mode": "markers",
         "name": "",
         "showlegend": false,
         "type": "scattergl",
         "x": [
          135000,
          10000,
          100000,
          4000000,
          30000,
          1000000,
          200000,
          134005,
          1000000,
          1500000,
          1000000,
          3000000,
          4500000,
          1000000,
          5000000,
          6500000,
          1800000,
          250000,
          1000000,
          9000000,
          4900000,
          3000000,
          15000000,
          5000000,
          3000000,
          3500000,
          4800000,
          13000000,
          10000000,
          700000,
          12000000,
          125000,
          3000000,
          13000000,
          7000000,
          2500000,
          5000000,
          15000000,
          35000000,
          17000000,
          100000,
          5000000,
          100000,
          5000000,
          9000000,
          52000000,
          4000000,
          10000000,
          14000000,
          4000000,
          1000000,
          250000,
          9900000,
          74000000,
          20000000,
          3300000,
          18000000,
          30000000,
          1000000,
          23000000,
          10000000,
          58000000,
          45202,
          2500000,
          4000000,
          80000000,
          20000000,
          76000000,
          3500000,
          9000000,
          20000000,
          5000000,
          200000,
          4000000,
          36000000,
          600000,
          10000000,
          5000000,
          1800000,
          12000000,
          3300000,
          75000000,
          3500000,
          40000000,
          5500000,
          21000000,
          10000000,
          5000000,
          150000000,
          5000000,
          50000000,
          5000000,
          2000000,
          125000000,
          20000000,
          90000000,
          1000000,
          4000000,
          13000000,
          10000000,
          20000000,
          68000000,
          10000000,
          34000000,
          17000,
          500000,
          15000000,
          900000,
          19500000,
          3500000,
          29000000,
          15000000,
          1987650,
          150000000,
          6000000,
          20000000,
          1500000,
          25000000,
          8000000,
          20000000,
          22000000,
          58800000,
          75000000,
          95000000,
          20000000,
          9000000,
          2500000,
          40000000,
          5000000,
          15000000,
          5000000,
          13000000,
          5000000,
          20000000,
          32500000,
          9000000,
          25000000,
          20000000,
          10000000,
          12000000,
          75000000,
          15000000,
          12000000,
          5000000,
          12000000,
          45000000,
          1000000,
          2000000,
          15000000,
          11500000,
          100000,
          17000000,
          12000000,
          40000000,
          190000000,
          10000000,
          30000000,
          3500000,
          14800000,
          8000000,
          356000000,
          7000000,
          10000000,
          20000000,
          69000000,
          40000000,
          60000000,
          40000000,
          5500000,
          30000000,
          13000000,
          17000000,
          12000000,
          152000000,
          6500000,
          19000000,
          19000000,
          15000000,
          80000000,
          116000000,
          37000000,
          12000000,
          61000000,
          9000000,
          160000000,
          28000000,
          50000,
          12000000,
          5500000,
          3000000,
          160000000,
          11000000,
          50000000,
          17000000,
          3000000,
          55000000,
          5000000,
          105000000,
          2000000,
          916000,
          120000000,
          220000000,
          12000000,
          300000000,
          48000000,
          75000000,
          13500000,
          17000000,
          150000000,
          200000000,
          55000000,
          10000000,
          110000000,
          130000000,
          34000000,
          38000000,
          80000000,
          50000000,
          30000000,
          110000000,
          14000000,
          10000000,
          6900000,
          55000000,
          15000000,
          25000000,
          125000000,
          97000000,
          260000000,
          967686,
          4000000,
          5000000,
          40000000,
          10000000,
          15000000,
          200000000,
          25000000,
          10000000,
          7000000,
          175000000,
          12500000,
          14000000,
          35000000,
          200000000,
          125000000,
          61000000,
          79000000,
          27000000,
          35000000,
          25000000,
          55000000,
          80000000,
          6000000,
          26000000,
          750000,
          30000000,
          30000000,
          1000000,
          108000000,
          6600000,
          30000000,
          183000000,
          195000000,
          17000000,
          18000000,
          8000000,
          95000000,
          40000000,
          11000000,
          40000000,
          250000000,
          8500000,
          11000000,
          7700000,
          3500000,
          4000000,
          20000000,
          200000000,
          35000000,
          149000000,
          175000000,
          6000000,
          2000000,
          6400000,
          1000000,
          6000000,
          36000000,
          90000000,
          80000000,
          21000000,
          43000000,
          200000000,
          10000000,
          9000000,
          30000000,
          200000000,
          210000000,
          7000000,
          13000000,
          75000000,
          5000000,
          40000000,
          50000000,
          44500000,
          31000000,
          160000000,
          84000000,
          93000000,
          5000000,
          10000000,
          145000000,
          5000000,
          200000000,
          8500000,
          2000000,
          25000000,
          61000000,
          81000000,
          8000000,
          200000000,
          15000000,
          55000000,
          110000000,
          30000000,
          40000000,
          120000000,
          15000000,
          5000000,
          12000000,
          18000000,
          20000000,
          175000000,
          30000000,
          125000000,
          60000000,
          35000000,
          70000000,
          250000000,
          20000000,
          160000000,
          11000000,
          175000000,
          5000000,
          40000000,
          20000000,
          20000000,
          50000000,
          103000000,
          73000000,
          28000000,
          42000000,
          50000000,
          145000000,
          25000000,
          28000000,
          180000000,
          75000000,
          37000000,
          50000000,
          8000000,
          28000000,
          3500000,
          62000000,
          16000000,
          32000000,
          250000000,
          175000000,
          25000000,
          80000000,
          75000000,
          165000000,
          5000000,
          170000000,
          150000000,
          180000000,
          16000000,
          50000000,
          4000000,
          30000000,
          40000000,
          10000000,
          18000000,
          19000000,
          21000000,
          50000000,
          3200000,
          178000000,
          150000000,
          11000000,
          140000000,
          1500000,
          7000000,
          74000000,
          40000000,
          50000000,
          1600000,
          135000000,
          50000000,
          125000000,
          250000000,
          110000000,
          200000000,
          17000000,
          20000000,
          50000000,
          40000000,
          145000000,
          175000000,
          35000000,
          15000000,
          130000000,
          16000000,
          50000000,
          33000000,
          3500000,
          25000000,
          100000000,
          40000000,
          65000000,
          79000000,
          85000000,
          125000000,
          13000000,
          180000000,
          170000000,
          170000000,
          25000000,
          52000000,
          90000000,
          37000000,
          6000000,
          35000000,
          40000000,
          165000000,
          45000000,
          160000000,
          13200000,
          165000000,
          15000000,
          22000000,
          250000000,
          85000000,
          129000000,
          3000000,
          7400000,
          12500000,
          20000000,
          35000000,
          60000000,
          130000000,
          11000000,
          30000000,
          165000000,
          55000000,
          10000000,
          25000000,
          135000000,
          5000000,
          104000000,
          15000000,
          125000000,
          32000000,
          2000000,
          100000000,
          17000000,
          80000000,
          250000000,
          105000000,
          125000000,
          40000000,
          25000000,
          45000000,
          250000000,
          250000000,
          17000000,
          30000000,
          200000000,
          170000000,
          100000000,
          200000000,
          90000000,
          55000000,
          11000000,
          13000000,
          65000000,
          80000000,
          45000000,
          40000000,
          60000000,
          65000000,
          20000000,
          50000000,
          145000000,
          28000000,
          245000000,
          29000000,
          45000000,
          200000000,
          44000000,
          150000000,
          215000000,
          44000000,
          6000000,
          12000000,
          13000000,
          22000000,
          103000000,
          15000000,
          25000000,
          30000000,
          16000000,
          50000000,
          250000000,
          55000000,
          28000000,
          135000000,
          23000000,
          230000000,
          24000000,
          27000000,
          120000000,
          120000000,
          31000000,
          21000000,
          80000000,
          28000000,
          58000000,
          30000000,
          60000000,
          50000000,
          40000000,
          60000000,
          55000000,
          85000000,
          4000000,
          25000000,
          10000000,
          80000000,
          20000000,
          18000000,
          35000000,
          105000000,
          47000000,
          37500000,
          20000000,
          20000000,
          35000000,
          175000000,
          30000000,
          40000000,
          25000000,
          5000000,
          92000000,
          105000000,
          35000000,
          38000000,
          60000000,
          200000000,
          5000000,
          125000000,
          150000000,
          6000000,
          10000000,
          65000000,
          50000000,
          100000000,
          22000000,
          600000,
          25000000,
          40000000,
          37000000,
          40000000,
          68000000,
          50100000,
          100000000,
          12000000,
          40000000,
          40000000,
          15000000,
          200000000,
          1000000,
          68000000,
          40000000,
          12000000,
          70000000,
          38000000,
          130000000,
          100000000,
          35000000,
          80000000,
          38000000,
          66000000,
          185000000,
          30000000,
          110000000,
          10000000,
          62000000,
          178000000,
          16800000,
          20000000,
          175000000,
          75000000,
          165000000,
          11000000,
          150000000,
          50000000,
          10000000,
          250000000,
          225000000,
          25000000,
          38000000,
          32000000,
          12000000,
          50000000,
          6500000,
          30000000,
          75000000,
          63000000,
          94000000,
          24000000,
          42000000,
          10000000,
          25000000,
          100000000,
          130000000,
          38000000,
          22000000,
          5000000,
          42000000,
          130000000,
          125000000,
          165000000,
          127000000,
          25000000,
          155000000,
          38000000,
          30000000,
          132000000,
          30000000,
          200000000,
          217000000,
          40000000,
          28000000,
          88000000,
          100000000,
          125000000,
          55000000,
          2500000,
          12000000,
          225000000,
          65000000,
          110000000,
          20000000,
          380000000,
          160000000,
          50000000,
          20000000,
          8500000,
          58000000,
          4000000,
          35000000,
          12000000,
          29000000,
          110000000,
          30000000,
          60000000,
          200000000,
          110000000,
          9000000,
          50000000,
          8500000,
          80000000,
          66000000,
          130000000,
          155000000,
          25000000,
          30000000,
          24000000,
          100000000,
          110000000,
          35000000,
          111000000,
          6000000,
          185000000,
          10500000,
          46000000,
          140000000,
          24000000,
          15000000,
          30000000,
          75000000,
          19000000,
          25000000,
          19000000,
          18000000,
          70000000,
          69000000,
          26000000,
          30000000,
          37000000,
          1500000,
          38000000,
          37000000,
          6500000,
          32000000,
          69000000,
          13000000,
          42000000,
          28000000,
          2000000,
          17000000,
          80000000,
          45000000,
          50200000,
          56000000,
          15000000,
          16000000,
          5000000,
          20000000,
          35000000,
          38000000,
          150000000,
          30000000,
          17000000,
          115000000,
          99000000,
          20000000,
          65000000,
          12500000,
          97000000,
          130000000,
          8000000,
          15000000,
          190000000,
          19000000,
          9000000,
          36000000,
          40000000,
          100000000,
          20000000,
          49000000,
          85000000,
          40000000,
          125000000,
          70000000,
          35000000,
          9000000,
          40000000,
          75000000,
          15000000,
          65000000,
          50000000,
          36000000,
          90000000,
          95000000,
          120000000,
          1200000,
          4000000,
          170000000,
          19000000,
          20000000,
          165000000,
          420000,
          170000000,
          35000000,
          35000000,
          48000000,
          13500000,
          21000000,
          33000000,
          170000000,
          30000000,
          57000000,
          20000000,
          18000000,
          35000000,
          110000000,
          97600000,
          12000000,
          10000000,
          20000000,
          40000000,
          29900000,
          18000000,
          40000000,
          14000000,
          20000000,
          180000000,
          260000000,
          60000000,
          20000000,
          170000000,
          65000000,
          60000000,
          18000000,
          30000000,
          25000000,
          150000000,
          117000000,
          150000000,
          2500000,
          70000000,
          90000000,
          5000000,
          4800000,
          7154497,
          65000000,
          22000000,
          160000000,
          50000000,
          69000000,
          20000000,
          175000000,
          300000000,
          40000000,
          40000000,
          28000000,
          61000000,
          35000000,
          32000000,
          40000000,
          30000000,
          25000000,
          85000000,
          15000000,
          9000000,
          42000000,
          50000000,
          26000000,
          150000000,
          30000000,
          130000000,
          5000000,
          80000000,
          145000000,
          112000000,
          30000000,
          40000000,
          23000000,
          5000000,
          65000000,
          28000000,
          25000000,
          49000000,
          90000000,
          135000000,
          7000000,
          19800000,
          39000000,
          30000000,
          178000000,
          170000000,
          3730500,
          26000000,
          75000000,
          15000000,
          16000000,
          120000000,
          25000000,
          5000000,
          150000000,
          55000000,
          23000000,
          15000000,
          50000000,
          20000000,
          180000000,
          30000000,
          8500000,
          80000000,
          12000000,
          25000000,
          150000000,
          25000000,
          70000000,
          30000000,
          125000000,
          35000000,
          51000000,
          2500000,
          100000000,
          5000000,
          140000000,
          45000000,
          12000000,
          19000000,
          40000000,
          30000000,
          28000000,
          145000000,
          1000000,
          120000000,
          35000000,
          79000000,
          60000000,
          40000000,
          53000000,
          130000000,
          25000000,
          22000000,
          40000000,
          32000000,
          35000000,
          185000000,
          6000000,
          30000000,
          34000000,
          45000000,
          120000000,
          20000000,
          30000000,
          50000000,
          32000000,
          88000000,
          22000000,
          135000000,
          15000000,
          135000000,
          5000000,
          42000000,
          30000000,
          90000000,
          60000000,
          36000000,
          35000000,
          19500000,
          60000000,
          19000000,
          84000000,
          75000000,
          170000000,
          14000000,
          70000000,
          60000000,
          7200000,
          80000000,
          35000000,
          20000000,
          58000000,
          10000000,
          447524,
          150000000,
          35000000,
          19000000,
          15700000,
          25000000,
          40000000,
          100000000,
          12000000,
          16000000,
          100000000,
          22500000,
          5000000,
          40000000,
          20000000,
          50000000,
          69000000,
          29000000,
          60000000,
          250000,
          10000000,
          100000000,
          50000000,
          5000000,
          29000000,
          30000000,
          200000000,
          21000000,
          3200000,
          30000000,
          35000000,
          20000000,
          3000000,
          30000000,
          150000000,
          850000,
          90000000,
          55000000,
          110000000,
          200000,
          4000000,
          28000000,
          58000000,
          110000000,
          50000000,
          45000000,
          36000000,
          20000000,
          60000000,
          40000000,
          7000000,
          25000000,
          250000000,
          750000,
          14000000,
          110000000,
          25000000,
          8000000,
          59000000,
          25000000,
          14000000,
          48000000,
          64000000,
          10900000,
          20000000,
          25000000,
          23000000,
          9000000,
          33000000,
          70000000,
          23000000,
          40000000,
          26000000,
          24000000,
          12000000,
          12600000,
          28000000,
          35000000,
          12000000,
          30000000,
          87500000,
          28000000,
          15000000,
          52000000,
          120000000,
          209000000,
          42000000,
          5000000,
          44000000,
          9000000,
          150000000,
          4798235,
          115000000,
          13000000,
          50000000,
          75000000,
          100000000,
          185000000,
          85000000,
          18000000,
          2000000,
          120000000,
          25000000,
          140000000,
          40000000,
          1500000,
          30000000,
          40000000,
          15000000,
          150000000,
          15000000,
          10000000,
          30000000,
          35000000,
          3000000,
          55000000,
          20000000,
          20000000,
          7500000,
          22500000,
          40000000,
          18000000,
          35000000,
          45000000,
          15000000,
          8000000,
          35000000,
          85000000,
          32000000,
          10000000,
          24000000,
          75000000,
          20000000,
          60000000,
          20000000,
          103000000,
          102000000,
          3500000,
          60000000,
          177200000,
          105000000,
          60000000,
          60000000,
          69000000,
          100000000,
          138000000,
          50000000,
          35000000,
          31500000,
          25000000,
          26000000,
          130000000,
          20000000,
          34000000,
          2000000,
          40000000,
          95000000,
          12000000,
          100000000,
          25000000,
          25000000,
          65000000,
          100000000,
          25000000,
          22000000,
          10000000,
          90000000,
          45000000,
          20000000,
          30000000,
          26000000,
          110000000,
          8000000,
          50000000,
          250000000,
          50000000,
          42000000,
          14000000,
          18000000,
          40000000,
          30000000,
          20000000,
          110000000,
          95000000,
          3500000,
          8000000,
          190000000,
          43000000,
          200000000,
          30000000,
          38000000,
          82000000,
          44000000,
          50000000,
          170000000,
          10831173,
          15000000,
          7000000,
          10000000,
          250000,
          40000000,
          140000000,
          15000000,
          163000000,
          40000000,
          176000003,
          5000000,
          9000000,
          35000000,
          14000000,
          5500000,
          7000000,
          100000000,
          1500000,
          5000000,
          15000000,
          62770198,
          25000000,
          255000000,
          52000000,
          195000000,
          80000000,
          5000000,
          14000000,
          12000000,
          68000000,
          60000000,
          13000000,
          587211,
          500000,
          70000000,
          28000000,
          45000000,
          5000000,
          25000000,
          42000000,
          40000000,
          100000000,
          8000000,
          100000000,
          14000000,
          40000000,
          25000000,
          10000000,
          35000000,
          26000000,
          30000000,
          5000000,
          500000,
          35000000,
          29000000,
          50000000,
          5000000,
          35000000,
          12500000,
          15000000,
          2000000,
          32000000,
          20000000,
          5500000,
          8500000,
          70000000,
          58000000,
          175000000,
          66000000,
          25000000,
          150000000,
          40000000,
          175000000,
          12000000,
          12000000,
          20000000,
          25000000,
          17000000,
          20000000,
          70000000,
          9500000,
          50000000,
          50000000,
          43000000,
          14000000,
          8000000,
          68000000,
          30000000,
          22000000,
          24000000,
          50000000,
          10000000,
          10000000,
          35000000,
          60000000,
          75000000,
          60000000,
          14000000,
          16000000,
          20000000,
          65000000,
          55000000,
          95000000,
          11000000,
          45000000,
          2000000,
          15000000,
          5000000,
          40000000,
          5000000,
          20000000,
          25000000,
          15000000,
          20000000,
          24000000,
          6600000,
          35000000,
          30000000,
          22000000,
          26000000,
          37000000,
          8000000,
          90000000,
          10000000,
          13000000,
          38000000,
          15000000,
          40000000,
          34000000,
          8000000,
          35000000,
          2800000,
          45000000,
          20000000,
          40000000,
          15000000,
          18000000,
          80000000,
          4000000,
          55000000,
          30000000,
          10000000,
          2000000,
          25000000,
          35000000,
          10000000,
          25000000,
          650000,
          56000000,
          40000000,
          27000000,
          4000000,
          40000000,
          130000000,
          20000000,
          22000000,
          28000000,
          25000000,
          32000000,
          12000000,
          1500000,
          9000000,
          5000000,
          49900000,
          9600000,
          3000000,
          15000000,
          5000000,
          15000000,
          34000000,
          30000000,
          7000000,
          30000000,
          40000000,
          125000000,
          60000000,
          30000000,
          9000000,
          3000000,
          25000000,
          8000000,
          50000000,
          20000000,
          35000000,
          31000000,
          7000000,
          25000000,
          5000000,
          6000000,
          4900000,
          10000000,
          4000000,
          10000000,
          22000000,
          5000000,
          10000000,
          10000000,
          8500000,
          10000000,
          20000000,
          6000000,
          4000000,
          25000000,
          6500000,
          35000000,
          8000000,
          10000000,
          14350531,
          200000000,
          13300000,
          17500000,
          2000000,
          35000000,
          13000000,
          120000000,
          30000000,
          55000000,
          19000000,
          20000000,
          18500000,
          160000000,
          60000000,
          25000000,
          318000,
          18000000,
          16000000,
          8900000,
          60000000,
          25000000,
          2900000,
          6300000,
          25000000,
          4000000,
          21000000,
          22000000,
          38000000,
          30000000,
          20500000,
          10000000,
          28210303,
          12700000,
          7000000,
          39000000,
          10000000,
          25000000,
          7000000,
          17000000,
          2000000,
          28000000,
          2000000,
          21500000,
          7700000,
          8000000,
          30000000,
          70000000,
          12500000,
          15000000,
          2000000,
          3000000,
          30000000,
          8000000,
          28000000,
          12500000,
          15000000,
          19100000,
          19000000,
          20000000,
          33000000,
          30000000,
          36000000,
          70000000,
          11000000,
          6700000,
          19000000,
          44000000,
          150000000,
          50000000,
          14000000,
          4000000,
          5000000,
          8500000,
          5000000,
          8933400,
          16000000,
          47000000,
          9800000,
          8000000,
          20000000,
          15000000,
          25000000,
          7000000,
          108000000,
          17000000,
          12250000,
          500000,
          41000000,
          1000000,
          10000000,
          7500000,
          12000000,
          10000000,
          3000000,
          3500000,
          30000000,
          5000000,
          2500000,
          8500000,
          10000000,
          5000000,
          4000000,
          12000000,
          10000000,
          25000000,
          10000000,
          13000000,
          15000000,
          13000000,
          16000000,
          12000000,
          14000000,
          10000000,
          25000000,
          11500000,
          12000000,
          10000000,
          2000000,
          4000000,
          2400000,
          30000000,
          10000000,
          15000000,
          25500000,
          16000000,
          17000000,
          12500000,
          28000000,
          7000000,
          10000000,
          1000000,
          8000000,
          6000000,
          6000000,
          4000000,
          7000000,
          9500000,
          2500000,
          8000000,
          26350000,
          4500000,
          8000000,
          20000000,
          4500000,
          10000000,
          14000000,
          3000000,
          40000000,
          4000000,
          8000000,
          6000000,
          5000000,
          20000000,
          2000000,
          900000,
          3800000,
          150000000,
          144000000,
          10000000,
          1000000,
          30000000,
          13500000,
          20000000,
          30000000,
          100000000,
          135000000,
          20000000,
          16500000,
          10000000,
          40000000,
          4900000,
          55000000,
          6000000,
          5000000,
          10000000,
          7000000,
          5000000,
          25000000,
          25000000,
          185000000,
          100000000,
          2500000,
          8000000,
          5000000,
          6000000,
          4000000,
          35000000,
          2100000,
          5000000,
          22000000,
          1500000,
          12000000,
          11000000,
          160000000,
          10500000,
          125000000,
          150000000
         ],
         "xaxis": "x",
         "y": [
          618886436,
          203378186,
          42864410,
          565651467,
          3503711,
          100758490,
          17635162,
          11214200,
          74462037,
          98057032,
          61882090,
          174512032,
          250907969,
          47854305,
          202039844,
          250547661,
          67632527,
          8779150,
          34185884,
          269454358,
          143968835,
          86328627,
          408999102,
          137802657,
          79515113,
          91830493,
          120679266,
          316398046,
          245485178,
          17286781,
          295166834,
          3117802,
          70267874,
          306494638,
          160739368,
          57659584,
          98590271,
          291515884,
          665381748,
          323939361,
          1851683,
          93450062,
          1838783,
          85894962,
          146712077,
          851655259,
          63760877,
          157885588,
          219555708,
          61336603,
          15024987,
          3739705,
          147930487,
          1085398397,
          285937718,
          45682041,
          252665134,
          416486224,
          13659448,
          298752656,
          126836156,
          724612155,
          561967,
          30949086,
          48425855,
          954799409,
          235184580,
          894766005,
          40519588,
          102928365,
          226999039,
          56105672,
          2230735,
          44137666,
          400188866,
          6605073,
          108587880,
          53978653,
          19307746,
          128312928,
          35056892,
          800457937,
          36923945,
          418863600,
          56687529,
          215412453,
          102983889,
          51411585,
          1520400637,
          50736588,
          499368315,
          49418872,
          19528593,
          1216511219,
          196197492,
          872077546,
          9656155,
          37887595,
          124056262,
          94438188,
          188314186,
          630491347,
          92952888,
          314319861,
          155935,
          4560438,
          136826547,
          8197072,
          175833312,
          31205850,
          258144079,
          131428180,
          17452114,
          1300026933,
          51615777,
          172949437,
          12793601,
          210956898,
          67026216,
          167733202,
          183035819,
          488626372,
          619394724,
          782244782,
          163936074,
          72705746,
          20019390,
          319126022,
          40173154,
          118432856,
          39779195,
          102890699,
          39446287,
          157243185,
          255883523,
          69988148,
          191639112,
          151685792,
          75978266,
          90731865,
          559151679,
          111636097,
          89888019,
          36898409,
          88129872,
          331141306,
          7345298,
          14527747,
          108726688,
          82573028,
          714868,
          121224951,
          84070507,
          280392818,
          1325047671,
          70200936,
          208532921,
          24358103,
          103013057,
          55464861,
          2441800564,
          48078146,
          68903124,
          137563598,
          474113985,
          272242626,
          408060692,
          269232797,
          36687665,
          201252591,
          86036827,
          111955898,
          79244913,
          976274794,
          41521766,
          121552359,
          121705322,
          95216998,
          506764305,
          740085151,
          232994119,
          75100449,
          380809770,
          55600152,
          988461807,
          173634991,
          309377,
          73512300,
          33656854,
          18401949,
          971927996,
          67274843,
          301266433,
          102100758,
          17994648,
          326545846,
          29823764,
          618192705,
          11796834,
          5396033,
          709746820,
          1298812988,
          70497035,
          1748359754,
          278479141,
          436595957,
          78042097,
          98350426,
          873784195,
          1146913161,
          316985018,
          56984887,
          624546611,
          735011746,
          192945087,
          214276927,
          448583774,
          281333876,
          166114570,
          602205856,
          76335025,
          54188367,
          37387131,
          297789811,
          80918706,
          133970776,
          671575993,
          522021436,
          1396943394,
          5181001,
          21358716,
          26724284,
          211171807,
          52695489,
          78400823,
          1042805359,
          129468902,
          51621140,
          36046590,
          898394593,
          63838111,
          71446075,
          176952420,
          1014811252,
          630356711,
          308330363,
          394093228,
          134849455,
          174838559,
          124228077,
          271709727,
          394800000,
          29401758,
          127089026,
          3674699,
          146586701,
          146506819,
          4839368,
          522161890,
          31558601,
          142936941,
          867693953,
          928794079,
          80542952,
          85215094,
          37640143,
          447351353,
          187978523,
          51076141,
          184920315,
          1152805868,
          38898992,
          50619773,
          35316528,
          16004039,
          18386555,
          91026990,
          908561013,
          159564672,
          672847012,
          791550600,
          26893421,
          8971298,
          28657696,
          4433926,
          26438988,
          157967670,
          393866518,
          350051293,
          92118226,
          186930771,
          866969703,
          43329150,
          38863365,
          129291809,
          856057273,
          894054072,
          29921560,
          55572631,
          320044706,
          21236153,
          169101214,
          210095986,
          187825503,
          130772375,
          668322032,
          350993183,
          388800873,
          20915966,
          41738549,
          601921274,
          20804448,
          828570889,
          35209744,
          8312540,
          104190869,
          251296056,
          333351546,
          33097853,
          825467110,
          61976666,
          227370135,
          453749323,
          123959590,
          163044905,
          489016565,
          61196538,
          20070261,
          48273173,
          72632641,
          80375432,
          705166924,
          120847207,
          501137675,
          240228084,
          138965010,
          278840316,
          986005118,
          78690254,
          628679850,
          42939297,
          682611174,
          19487848,
          155179299,
          77644617,
          76942115,
          192786137,
          395781117,
          279333929,
          106402450,
          159585328,
          189258712,
          549713380,
          94772232,
          105440870,
          673977126,
          276723989,
          136567581,
          184989584,
          29461274,
          102560428,
          12876066,
          226175335,
          57983003,
          115332697,
          903296293,
          632082196,
          89984666,
          285971656,
          267695435,
          587600867,
          17787526,
          602776600,
          532714267,
          634037575,
          56282227,
          176349749,
          14082592,
          105710029,
          140450918,
          34902237,
          62708134,
          66251425,
          73017294,
          172809600,
          11111701,
          613115104,
          515692281,
          37782670,
          482674139,
          5128603,
          23734502,
          251186032,
          133930596,
          166972543,
          5346808,
          452204668,
          167776646,
          418848418,
          831041287,
          363990832,
          663756051,
          55835710,
          66013056,
          164215889,
          131539887,
          476537519,
          571846894,
          114542245,
          49191523,
          424987477,
          52263166,
          162902372,
          107470746,
          11392418,
          81209378,
          325368238,
          129837010,
          210293450,
          256260290,
          273375603,
          402965936,
          41837234,
          578410378,
          544421503,
          540644566,
          79545505,
          164485654,
          285540831,
          117026136,
          18863452,
          110374099,
          125478348,
          512718395,
          140400345,
          498344137,
          41123210,
          512463813,
          46548707,
          67514453,
          767003568,
          261118277,
          392799505,
          9128575,
          22474280,
          37945860,
          60547866,
          105795793,
          180797623,
          389311965,
          32980821,
          89942387,
          492827828,
          163791811,
          29712000,
          74357138,
          397950503,
          14735344,
          306902662,
          44389433,
          368214993,
          94041322,
          5871522,
          292000694,
          49316289,
          231950384,
          726536918,
          303579038,
          360004754,
          114802912,
          71262212,
          128185859,
          708366855,
          706019788,
          47667874,
          84281051,
          559056935,
          474783140,
          274717445,
          543559607,
          244897606,
          148427584,
          29811919,
          35065672,
          175159255,
          214804195,
          120184237,
          106661977,
          158340595,
          170666219,
          52216294,
          129769457,
          376170825,
          72654149,
          635674609,
          74105878,
          115078586,
          508982323,
          111760117,
          380243742,
          542930663,
          111160045,
          15150265,
          30128352,
          32681062,
          55229695,
          259000072,
          37501541,
          62305549,
          75011053,
          40032889,
          124804407,
          623634919,
          137330738,
          69594140,
          332989645,
          56799880,
          564861794,
          59188165,
          66282604,
          295484914,
          294828246,
          76228221,
          51526996,
          194470394,
          68188903,
          141006387,
          72820008,
          145754447,
          121464676,
          96333522,
          144594016,
          132361754,
          203885818,
          9624522,
          59918541,
          23856058,
          191430189,
          47876281,
          42738797,
          82867984,
          248641895,
          110887643,
          88352517,
          46787908,
          46899242,
          81980662,
          407890172,
          70014025,
          92820716,
          58080890,
          11593554,
          212654182,
          242545360,
          80694863,
          87427681,
          137183546,
          454855901,
          11373843,
          284231607,
          340719763,
          13561904,
          22613173,
          146780824,
          111502194,
          221669741,
          48829270,
          1314090,
          54781695,
          87994610,
          80679066,
          87233108,
          147863606,
          108662963,
          214975955,
          25879877,
          86069509,
          85729635,
          32052899,
          423933331,
          2114953,
          143817906,
          84605297,
          25270721,
          147124280,
          80102725,
          273354469,
          210650585,
          73007109,
          166984278,
          79094902,
          137277636,
          381652812,
          61970827,
          227580051,
          20658387,
          128400157,
          365934105,
          34229361,
          40673972,
          354323962,
          151904017,
          329878759,
          21935319,
          299326618,
          99878437,
          19820616,
          496045700,
          443045518,
          49188937,
          74343513,
          62539426,
          23485056,
          96965787,
          12623767,
          57937815,
          145021259,
          120953723,
          180650803,
          46181428,
          80810399,
          19253166,
          47629670,
          190745055,
          245740705,
          71906372,
          41647656,
          9444502,
          78885527,
          243993951,
          234200044,
          306222889,
          236204635,
          46009334,
          285603537,
          69588225,
          54872444,
          241515621,
          54790678,
          359852396,
          388425157,
          71711453,
          50130625,
          156874809,
          178780441,
          221864462,
          97263880,
          4418591,
          21213241,
          399026776,
          114379533,
          193144152,
          35030051,
          665713802,
          279048914,
          87328301,
          34806823,
          14816139,
          100260952,
          6898293,
          60437994,
          20726956,
          49844582,
          189268508,
          51244605,
          102146076,
          340007876,
          186482446,
          15270399,
          84866593,
          14371096,
          134945591,
          111584879,
          219537494,
          260686217,
          41980456,
          50509622,
          40414761,
          168426634,
          183503354,
          58320380,
          185069199,
          9950164,
          306730089,
          17369129,
          76126687,
          230569774,
          39543328,
          24661919,
          49293444,
          122744377,
          31023780,
          40663276,
          30830607,
          29120948,
          113388953,
          111613180,
          41918658,
          48418811,
          59560591,
          2409596,
          60337295,
          58932565,
          10361137,
          50686066,
          108856751,
          20384127,
          65645357,
          43416730,
          3090608,
          26202283,
          123510197,
          69501299,
          77669379,
          86044638,
          22930465,
          24492652,
          7666449,
          30507267,
          53215156,
          57224595,
          224736354,
          45055070,
          25426912,
          171140700,
          147233113,
          29779728,
          96459297,
          18539126,
          143891763,
          191885765,
          11722766,
          21869414,
          277365246,
          27664414,
          13088533,
          52528280,
          57984015,
          144819862,
          28987096,
          70682635,
          123076205,
          57470701,
          179868961,
          100270201,
          49920539,
          12833967,
          57138686,
          106714959,
          21233517,
          91491279,
          70081841,
          50157237,
          124657577,
          131497209,
          166168572,
          1661020,
          5515914,
          234852543,
          26158254,
          27347283,
          224681935,
          573313,
          230062763,
          47347656,
          47087155,
          64462508,
          18126386,
          28050886,
          44068246,
          226592829,
          39935600,
          75563930,
          26432579,
          23681746,
          46093313,
          143890701,
          127908210,
          15682872,
          13064015,
          26089287,
          51720255,
          38731669,
          23325328,
          51627228,
          17972096,
          25636368,
          231002906,
          332461732,
          76515867,
          25491656,
          216600138,
          82792047,
          75503748,
          22656399,
          37448651,
          31012642,
          186365676,
          144930436,
          184933831,
          3067103,
          85641650,
          109850315,
          6084630,
          5835126,
          8691096,
          78695338,
          26449416,
          192616690,
          60206216,
          82572634,
          23967255,
          208930656,
          357924295,
          47189756,
          46752352,
          32795985,
          70940411,
          40837743,
          37055695,
          46234523,
          34626786,
          28918723,
          98018522,
          17226382,
          10370020,
          48260376,
          56956330,
          29404159,
          169713881,
          33782078,
          146144750,
          5606667,
          89852759,
          161941670,
          125382724,
          33414135,
          44384002,
          25517427,
          5536956,
          71853506,
          30834384,
          27395996,
          53811889,
          98133322,
          147570682,
          7618727,
          21496320,
          42491068,
          32675095,
          192541256,
          183284621,
          3977812,
          27120346,
          77930623,
          15519436,
          16390945,
          122688965,
          25401502,
          5090641,
          151970083,
          55387072,
          23152800,
          15138754,
          49783556,
          19782683,
          176700357,
          29284015,
          8279212,
          77107755,
          11468586,
          23782670,
          140930148,
          23333932,
          64748021,
          27814445,
          115697856,
          32450815,
          47203196,
          2306423,
          92306508,
          4588282,
          128175631,
          41165646,
          10939027,
          17192775,
          36130093,
          27076286,
          25260230,
          130698039,
          897363,
          107817248,
          31308758,
          70673788,
          53231078,
          35320680,
          46775678,
          113611982,
          21710283,
          19087017,
          34597643,
          27636523,
          30100369,
          158471816,
          5122090,
          25611001,
          28944815,
          37966152,
          101600160,
          16606743,
          24819301,
          41490353,
          26409247,
          72542134,
          18140972,
          110724603,
          12293743,
          110623848,
          4037058,
          33984700,
          24169363,
          72360636,
          48255770,
          28735752,
          27832209,
          15354990,
          47139399,
          14705333,
          64075565,
          57274484,
          129457024,
          10637800,
          53081555,
          45200903,
          5429471,
          60073390,
          26181942,
          14718173,
          42541806,
          7287309,
          327256,
          109239658,
          25321861,
          13686500,
          11339669,
          17972994,
          28743485,
          71616764,
          8596567,
          11405896,
          70458922,
          15676317,
          3493728,
          27647013,
          13766787,
          34419388,
          47471580,
          19902953,
          41134059,
          169952,
          6810562,
          67805466,
          33761844,
          3377987,
          19453605,
          19871429,
          132207671,
          13814102,
          2094643,
          19562710,
          22824674,
          12948113,
          1935501,
          19263404,
          95527149,
          536088,
          56936910,
          34519773,
          69246868,
          124977,
          2504366,
          17236543,
          35492844,
          67238796,
          30383113,
          27381712,
          21824533,
          12054369,
          35396573,
          23458440,
          4027222,
          14280992,
          142924807,
          419750,
          7753365,
          59801921,
          13483455,
          4294931,
          31497778,
          13269529,
          7409028,
          25279888,
          33571250,
          5707575,
          10426096,
          12989684,
          11934009,
          4627519,
          16939757,
          35697415,
          11513760,
          20040976,
          12609668,
          11626958,
          5768012,
          6058381,
          13363927,
          16380201,
          5496820,
          13763247,
          39961872,
          12662632,
          6766271,
          23450437,
          53961069,
          94025485,
          18845711,
          2208231,
          19365859,
          3957265,
          65283742,
          2081432,
          49989338,
          5637201,
          21561644,
          32045109,
          42337240,
          76119292,
          34520023,
          7312387,
          801508,
          47882881,
          9942188,
          55243411,
          15668698,
          582980,
          11564670,
          15247881,
          5546518,
          55366737,
          5529194,
          3676590,
          11002607,
          12756590,
          1080073,
          19679822,
          7187375,
          7093592,
          2609659,
          7811857,
          13873809,
          6174885,
          11922566,
          15331447,
          5045576,
          2702246,
          11522137,
          27483764,
          10059111,
          3082071,
          7410151,
          23159963,
          6152835,
          18309505,
          5975621,
          29675864,
          28482868,
          962034,
          16419755,
          48674228,
          28718711,
          16249438,
          16073488,
          17855739,
          25648512,
          35469516,
          12788218,
          8155261,
          7303993,
          5722632,
          5807156,
          29196259,
          4261569,
          7142379,
          417165,
          8147945,
          19178613,
          2401617,
          19559110,
          4824199,
          4674699,
          11801179,
          17831631,
          4397654,
          3798915,
          1681781,
          14414200,
          7185751,
          3177948,
          4441873,
          3699345,
          15544024,
          1128263,
          6996304,
          34139100,
          6722693,
          5636031,
          1843274,
          2275812,
          4907260,
          3448971,
          2227514,
          11790373,
          9907746,
          362498,
          809407,
          19035668,
          4309313,
          19851172,
          2917353,
          3657844,
          7792502,
          4190704,
          4622814,
          15770160,
          958440,
          1322067,
          609187,
          835752,
          20185,
          3070915,
          10680864,
          1137046,
          11822325,
          1863726,
          7887720,
          218973,
          374932,
          1288132,
          459330,
          170776,
          214806,
          3039258,
          44989,
          140925,
          383580,
          1471301,
          601244,
          5502115,
          830951,
          2687603,
          1126522,
          42014,
          107313,
          77441,
          267862,
          52138,
          15764,
          0,
          -275,
          -278034,
          -737626,
          -1254458,
          -157301,
          -878755,
          -1533030,
          -1919211,
          -5117451,
          -467741,
          -6079242,
          -918349,
          -2642784,
          -1691385,
          -677105,
          -2482752,
          -1920732,
          -2562119,
          -445584,
          -49725,
          -3494713,
          -3042518,
          -5333865,
          -546366,
          -3916401,
          -1395445,
          -1686419,
          -224867,
          -3741940,
          -2427711,
          -675501,
          -1044602,
          -8720548,
          -7634502,
          -23216161,
          -8915478,
          -3499187,
          -21611680,
          -5772702,
          -26324934,
          -1826318,
          -1883184,
          -3136417,
          -3988890,
          -2910472,
          -3450523,
          -12280907,
          -1695663,
          -8962258,
          -9090091,
          -7835080,
          -2582638,
          -1508760,
          -12996110,
          -5827799,
          -4330224,
          -4793487,
          -10015600,
          -2002226,
          -2005473,
          -7014212,
          -12335441,
          -15581387,
          -12724305,
          -2983557,
          -3441069,
          -4308360,
          -14049704,
          -11946624,
          -21263856,
          -2473712,
          -10381133,
          -473302,
          -3569975,
          -1230786,
          -10081255,
          -1258902,
          -5119061,
          -6401393,
          -3960969,
          -5289025,
          -6387901,
          -1871599,
          -10027861,
          -8639785,
          -6339332,
          -7522264,
          -10749980,
          -2340714,
          -26476717,
          -2968271,
          -3898454,
          -11648678,
          -4632839,
          -12493548,
          -10644900,
          -2531350,
          -11187184,
          -917926,
          -14865042,
          -6614263,
          -13379998,
          -5095205,
          -6193568,
          -27900910,
          -1404378,
          -19330983,
          -10736062,
          -3587651,
          -721350,
          -9110876,
          -12873158,
          -3727597,
          -9376817,
          -244620,
          -21262801,
          -15280785,
          -10466405,
          -1568557,
          -15822863,
          -51675780,
          -7992930,
          -8974140,
          -11542506,
          -10545378,
          -13590109,
          -5109568,
          -649581,
          -3920781,
          -2179510,
          -21886267,
          -4216903,
          -1324619,
          -6877010,
          -2299949,
          -6913000,
          -15736530,
          -13919525,
          -3280617,
          -14357654,
          -19196158,
          -60506085,
          -29199769,
          -14604913,
          -4385781,
          -1466126,
          -12248333,
          -3941887,
          -24964050,
          -10004308,
          -17584582,
          -15865707,
          -3622570,
          -13071091,
          -2620846,
          -3159592,
          -2586491,
          -5295243,
          -2125540,
          -5318349,
          -11699584,
          -2666316,
          -5355528,
          -5366332,
          -4573614,
          -5403295,
          -10909960,
          -3288621,
          -2193452,
          -13831288,
          -3608188,
          -19499356,
          -4505846,
          -5633540,
          -8144509,
          -113510969,
          -7564037,
          -10045815,
          -1156630,
          -20568747,
          -7651951,
          -71331093,
          -17895235,
          -33052791,
          -11449927,
          -12057907,
          -11169662,
          -97232171,
          -36842354,
          -15382623,
          -196821,
          -11259353,
          -10047116,
          -5605683,
          -37812187,
          -15795451,
          -1851296,
          -4046181,
          -16191389,
          -2605948,
          -13705200,
          -14365978,
          -24856944,
          -19686981,
          -13470905,
          -6571952,
          -18559751,
          -8407483,
          -4639719,
          -25938509,
          -6665073,
          -16692773,
          -4683029,
          -11447504,
          -1349325,
          -18941436,
          -1363294,
          -14682465,
          -5264675,
          -5481988,
          -20669925,
          -48244582,
          -8621007,
          -10372625,
          -1384500,
          -2078248,
          -20830493,
          -5556416,
          -19472342,
          -8716135,
          -10489066,
          -13371787,
          -13421481,
          -14217485,
          -23505211,
          -21496342,
          -25882034,
          -50347943,
          -7937822,
          -4875322,
          -13896337,
          -32217375,
          -110766322,
          -37048907,
          -10378954,
          -2968757,
          -3721610,
          -6446531,
          -3805039,
          -6800367,
          -12180579,
          -36096688,
          -7531038,
          -6171768,
          -15447030,
          -11605826,
          -19535115,
          -5525529,
          -85321445,
          -13437207,
          -9739993,
          -398271,
          -32820584,
          -800558,
          -8136494,
          -6137982,
          -9830201,
          -8221979,
          -2466765,
          -2884184,
          -24813233,
          -4144815,
          -2077382,
          -7071638,
          -8328804,
          -4173087,
          -3340063,
          -10053746,
          -8414417,
          -21114658,
          -8587819,
          -11167459,
          -12957797,
          -11232037,
          -13915372,
          -10456387,
          -12244788,
          -8752812,
          -21932469,
          -10097693,
          -10543325,
          -8796301,
          -1763194,
          -3540364,
          -2125283,
          -26661310,
          -8935546,
          -13416313,
          -22933565,
          -14424251,
          -15337485,
          -11290291,
          -25375239,
          -6350374,
          -9171716,
          -920376,
          -7392405,
          -5591082,
          -5591841,
          -3741777,
          -6550298,
          -8904198,
          -2343810,
          -7512580,
          -24773313,
          -4232524,
          -7573509,
          -19095601,
          -4308981,
          -9591320,
          -13435136,
          -2882322,
          -38548657,
          -3856515,
          -7729029,
          -5798110,
          -4838381,
          -19363601,
          -1939952,
          -873392,
          -3688269,
          -146156226,
          -140419657,
          -9751630,
          -975657,
          -29321850,
          -13207331,
          -19594139,
          -29423195,
          -98304881,
          -132813284,
          -19683056,
          -16256207,
          -9888893,
          -39586156,
          -4853971,
          -54509709,
          -5948983,
          -4959600,
          -9919888,
          -6953512,
          -4966958,
          -24859877,
          -24871529,
          -184138370,
          -99577378,
          -2491685,
          -7974397,
          -4985853,
          -5984929,
          -3990779,
          -34921043,
          -2096670,
          -4992444,
          -21967341,
          -1498062,
          -11984780,
          -10987958,
          -159849809,
          -10496549,
          -124981919,
          -149997007
         ],
         "yaxis": "y"
        },
        {
         "alignmentgroup": "True",
         "customdata": [
          [
           "Logan"
          ],
          [
           "Arrival"
          ],
          [
           "The Gallows"
          ],
          [
           "Fifty Shades of Grey"
          ],
          [
           "Catfish"
          ],
          [
           "The Devil Inside"
          ],
          [
           "The Quiet Ones"
          ],
          [
           "Snow Flower and the Secret Fan"
          ],
          [
           "Searching"
          ],
          [
           "Insidious"
          ],
          [
           "Unfriended"
          ],
          [
           "Paranormal Activity 2"
          ],
          [
           "Get Out"
          ],
          [
           "The Woman in Black 2: Angel of Death"
          ],
          [
           "Paranormal Activity 3"
          ],
          [
           "Annabelle"
          ],
          [
           "The Last Exorcism"
          ],
          [
           "Like Crazy"
          ],
          [
           "Courageous"
          ],
          [
           "Split"
          ],
          [
           "Lights Out"
          ],
          [
           "The Purge"
          ],
          [
           "The King's Speech"
          ],
          [
           "Paranormal Activity 4"
          ],
          [
           "Sinister"
          ],
          [
           "Truth or Dare"
          ],
          [
           "Happy Death Day"
          ],
          [
           "Black Swan"
          ],
          [
           "Halloween"
          ],
          [
           "Dope"
          ],
          [
           "The Fault in Our Stars"
          ],
          [
           "Your Sister's Sister"
          ],
          [
           "War Room"
          ],
          [
           "The Conjuring"
          ],
          [
           "Magic Mike"
          ],
          [
           "A Haunted House"
          ],
          [
           "Ouija"
          ],
          [
           "Annabelle: Creation"
          ],
          [
           "It"
          ],
          [
           "A Quiet Place"
          ],
          [
           "A Ghost Story"
          ],
          [
           "The Visit"
          ],
          [
           "Another Earth"
          ],
          [
           "Paranormal Activity: The Marked Ones"
          ],
          [
           "Escape Room"
          ],
          [
           "Bohemian Rhapsody"
          ],
          [
           "A Beautiful Day in the Neighborhood"
          ],
          [
           "Insidious: The Last Key"
          ],
          [
           "The Imitation Game"
          ],
          [
           "Moonlight"
          ],
          [
           "Unfriended: Dark Web"
          ],
          [
           "Sleight"
          ],
          [
           "Don't Breathe"
          ],
          [
           "Minions"
          ],
          [
           "Wonder"
          ],
          [
           "Whiplash"
          ],
          [
           "Neighbors"
          ],
          [
           "La La Land"
          ],
          [
           "Hello, My Name Is Doris"
          ],
          [
           "Green Book"
          ],
          [
           "The Best Exotic Marigold Hotel"
          ],
          [
           "Deadpool"
          ],
          [
           "Life in a Day"
          ],
          [
           "2016: Obama's America"
          ],
          [
           "The Boy Next Door"
          ],
          [
           "Despicable Me 3"
          ],
          [
           "Us"
          ],
          [
           "Despicable Me 2"
          ],
          [
           "Winchester"
          ],
          [
           "The Purge: Anarchy"
          ],
          [
           "Glass"
          ],
          [
           "Ma"
          ],
          [
           "The Grace Card"
          ],
          [
           "Boyhood"
          ],
          [
           "A Star Is Born"
          ],
          [
           "Grandma"
          ],
          [
           "The Purge: Election Year"
          ],
          [
           "The Gift"
          ],
          [
           "Beasts of the Southern Wild"
          ],
          [
           "Lion"
          ],
          [
           "The Lazarus Effect"
          ],
          [
           "The Secret Life of Pets"
          ],
          [
           "The Witch"
          ],
          [
           "Lucy"
          ],
          [
           "47 Meters Down"
          ],
          [
           "Silver Linings Playbook"
          ],
          [
           "Insidious: Chapter 3"
          ],
          [
           "The Big Sick"
          ],
          [
           "Jurassic World"
          ],
          [
           "Dallas Buyers Club"
          ],
          [
           "Ted"
          ],
          [
           "No Escape"
          ],
          [
           "It Follows"
          ],
          [
           "Harry Potter and the Deathly Hallows: Part 2"
          ],
          [
           "Bad Teacher"
          ],
          [
           "Jumanji: Welcome to the Jungle"
          ],
          [
           "The Sessions"
          ],
          [
           "Call Me by Your Name"
          ],
          [
           "The First Purge"
          ],
          [
           "Book Club"
          ],
          [
           "Me Before You"
          ],
          [
           "The Twilight Saga: Eclipse"
          ],
          [
           "Jigsaw"
          ],
          [
           "The Maze Runner"
          ],
          [
           "Bellflower"
          ],
          [
           "Monsters"
          ],
          [
           "Jackass Presents: Bad Grandpa"
          ],
          [
           "Meet the Blacks"
          ],
          [
           "The Shape of Water"
          ],
          [
           "The Kids Are All Right"
          ],
          [
           "Pitch Perfect 2"
          ],
          [
           "Mama"
          ],
          [
           "Buried"
          ],
          [
           "Frozen II"
          ],
          [
           "Ready or Not"
          ],
          [
           "Downton Abbey"
          ],
          [
           "Unsane"
          ],
          [
           "Hidden Figures"
          ],
          [
           "Easy A"
          ],
          [
           "12 Years a Slave"
          ],
          [
           "A Dog's Purpose"
          ],
          [
           "American Sniper"
          ],
          [
           "The Hunger Games"
          ],
          [
           "Ice Age: Continental Drift"
          ],
          [
           "Bad Moms"
          ],
          [
           "Ouija: Origin of Evil"
          ],
          [
           "Hunt for the Wilderpeople"
          ],
          [
           "The Karate Kid"
          ],
          [
           "Blair Witch"
          ],
          [
           "The Artist"
          ],
          [
           "Still Alice"
          ],
          [
           "The Iron Lady"
          ],
          [
           "Oculus"
          ],
          [
           "The Descendants"
          ],
          [
           "Bridesmaids"
          ],
          [
           "Manchester by the Sea"
          ],
          [
           "The Help"
          ],
          [
           "Jackass 3D"
          ],
          [
           "The Second Best Exotic Marigold Hotel"
          ],
          [
           "Project X"
          ],
          [
           "Sing"
          ],
          [
           "Chronicle"
          ],
          [
           "Heaven Is for Real"
          ],
          [
           "As Above, So Below"
          ],
          [
           "Philomena"
          ],
          [
           "Taken 2"
          ],
          [
           "I Am Not Your Negro"
          ],
          [
           "Silent House"
          ],
          [
           "The Theory of Everything"
          ],
          [
           "Dirty Grandpa"
          ],
          [
           "Tangerine"
          ],
          [
           "Let's Be Cops"
          ],
          [
           "Think Like a Man"
          ],
          [
           "The Conjuring 2"
          ],
          [
           "Furious 7"
          ],
          [
           "Hereditary"
          ],
          [
           "Crazy Rich Asians"
          ],
          [
           "Dark Skies"
          ],
          [
           "Magic Mike XXL"
          ],
          [
           "Begin Again"
          ],
          [
           "Avengers: Endgame"
          ],
          [
           "End of Watch"
          ],
          [
           "Paranormal Activity: The Ghost Dimension"
          ],
          [
           "Hustlers"
          ],
          [
           "Despicable Me"
          ],
          [
           "Resident Evil: The Final Chapter"
          ],
          [
           "The Lego Movie"
          ],
          [
           "Knives Out"
          ],
          [
           "Loving Vincent"
          ],
          [
           "Annabelle Comes Home"
          ],
          [
           "Justin Bieber: Never Say Never"
          ],
          [
           "The Woman in Black"
          ],
          [
           "Overboard"
          ],
          [
           "Captain Marvel"
          ],
          [
           "Countdown"
          ],
          [
           "Girls Trip"
          ],
          [
           "Sausage Party"
          ],
          [
           "10 Cloverfield Lane"
          ],
          [
           "The Hangover Part II"
          ],
          [
           "Venom"
          ],
          [
           "We're the Millers"
          ],
          [
           "About Time"
          ],
          [
           "Les Misérables"
          ],
          [
           "Happy Death Day 2U"
          ],
          [
           "Aquaman"
          ],
          [
           "Straight Outta Compton"
          ],
          [
           "K-12"
          ],
          [
           "Paper Towns"
          ],
          [
           "Show Dogs"
          ],
          [
           "Love & Friendship"
          ],
          [
           "Spider-Man: Far from Home"
          ],
          [
           "If I Stay"
          ],
          [
           "Peter Rabbit"
          ],
          [
           "The Shallows"
          ],
          [
           "Before Midnight"
          ],
          [
           "Fifty Shades Darker"
          ],
          [
           "Chimpanzee"
          ],
          [
           "Gravity"
          ],
          [
           "Winter's Bone"
          ],
          [
           "Lowriders"
          ],
          [
           "The Twilight Saga: Breaking Dawn - Part 2"
          ],
          [
           "The Avengers"
          ],
          [
           "Act of Valor"
          ],
          [
           "Avengers: Infinity War"
          ],
          [
           "Taken 3"
          ],
          [
           "The Grinch"
          ],
          [
           "Crawl"
          ],
          [
           "Pitch Perfect"
          ],
          [
           "Zootopia"
          ],
          [
           "Black Panther"
          ],
          [
           "Fifty Shades Freed"
          ],
          [
           "Skyline"
          ],
          [
           "Deadpool 2"
          ],
          [
           "The Hunger Games: Catching Fire"
          ],
          [
           "Baby Driver"
          ],
          [
           "True Grit"
          ],
          [
           "Hotel Transylvania 3: Summer Vacation"
          ],
          [
           "22 Jump Street"
          ],
          [
           "The Vow"
          ],
          [
           "The Twilight Saga: Breaking Dawn - Part 1"
          ],
          [
           "Jojo Rabbit"
          ],
          [
           "The Boy"
          ],
          [
           "House at the End of the Street"
          ],
          [
           "Murder on the Orient Express"
          ],
          [
           "The Favourite"
          ],
          [
           "Johnny English Strikes Again"
          ],
          [
           "Jumanji: The Next Level"
          ],
          [
           "Logan"
          ],
          [
           "The Lion King"
          ],
          [
           "Four Lions"
          ],
          [
           "A Haunted House 2"
          ],
          [
           "Spring Breakers"
          ],
          [
           "American Hustle"
          ],
          [
           "Devil"
          ],
          [
           "BlacKkKlansman"
          ],
          [
           "Incredibles 2"
          ],
          [
           "Ride Along"
          ],
          [
           "Everything, Everything"
          ],
          [
           "Gifted"
          ],
          [
           "Toy Story 4"
          ],
          [
           "The Ides of March"
          ],
          [
           "The Possession"
          ],
          [
           "Bridget Jones's Baby"
          ],
          [
           "Iron Man 3"
          ],
          [
           "The Hunger Games: Mockingjay - Part 1"
          ],
          [
           "Gone Girl"
          ],
          [
           "It Chapter Two"
          ],
          [
           "Limitless"
          ],
          [
           "Horrible Bosses"
          ],
          [
           "No Strings Attached"
          ],
          [
           "John Wick: Chapter 3 - Parabellum"
          ],
          [
           "Hotel Transylvania 2"
          ],
          [
           "Room"
          ],
          [
           "Yesterday"
          ],
          [
           "Safety Not Guaranteed"
          ],
          [
           "The Hitman's Bodyguard"
          ],
          [
           "Looper"
          ],
          [
           "20 Feet from Stardom"
          ],
          [
           "The Martian"
          ],
          [
           "Jumping the Broom"
          ],
          [
           "The Grand Budapest Hotel"
          ],
          [
           "Aladdin"
          ],
          [
           "Transformers: Dark of the Moon"
          ],
          [
           "Evil Dead"
          ],
          [
           "Birdman or (The Unexpected Virtue of Ignorance)"
          ],
          [
           "That Awkward Moment"
          ],
          [
           "Cinderella"
          ],
          [
           "Paddington 2"
          ],
          [
           "Brooklyn"
          ],
          [
           "The Social Network"
          ],
          [
           "Avengers: Age of Ultron"
          ],
          [
           "Nightcrawler"
          ],
          [
           "Woman in Gold"
          ],
          [
           "The Possession of Hannah Grace"
          ],
          [
           "Margin Call"
          ],
          [
           "Late Night"
          ],
          [
           "Good Boys"
          ],
          [
           "Skyfall"
          ],
          [
           "The Intern"
          ],
          [
           "Wonder Woman"
          ],
          [
           "The Jungle Book"
          ],
          [
           "Brightburn"
          ],
          [
           "The Florida Project"
          ],
          [
           "My Week with Marilyn"
          ],
          [
           "An Inconvenient Sequel: Truth to Power"
          ],
          [
           "Movie 43"
          ],
          [
           "Gnomeo & Juliet"
          ],
          [
           "Rio"
          ],
          [
           "The Secret Life of Pets 2"
          ],
          [
           "Pet Sematary"
          ],
          [
           "The Heat"
          ],
          [
           "Toy Story 3"
          ],
          [
           "Sinister 2"
          ],
          [
           "Midsommar"
          ],
          [
           "Step Up 3D"
          ],
          [
           "Rogue One: A Star Wars Story"
          ],
          [
           "Transformers: Age of Extinction"
          ],
          [
           "Devil's Due"
          ],
          [
           "The Call"
          ],
          [
           "Mamma Mia! Here We Go Again"
          ],
          [
           "Apollo 18"
          ],
          [
           "Little Women"
          ],
          [
           "Super 8"
          ],
          [
           "Argo"
          ],
          [
           "Flight"
          ],
          [
           "Inception"
          ],
          [
           "The Greatest Showman"
          ],
          [
           "Rise of the Planet of the Apes"
          ],
          [
           "Paul, Apostle of Christ"
          ],
          [
           "Slender Man"
          ],
          [
           "Madagascar 3: Europe's Most Wanted"
          ],
          [
           "Our Idiot Brother"
          ],
          [
           "Finding Dory"
          ],
          [
           "The DUFF"
          ],
          [
           "The Babadook"
          ],
          [
           "The Fighter"
          ],
          [
           "Maze Runner: The Scorch Trials"
          ],
          [
           "Kingsman: The Secret Service"
          ],
          [
           "50/50"
          ],
          [
           "Alice in Wonderland"
          ],
          [
           "Drive"
          ],
          [
           "Paddington"
          ],
          [
           "The Smurfs"
          ],
          [
           "Midnight in Paris"
          ],
          [
           "The Addams Family"
          ],
          [
           "Life of Pi"
          ],
          [
           "Diary of a Wimpy Kid"
          ],
          [
           "Race"
          ],
          [
           "The Perfect Guy"
          ],
          [
           "My Big Fat Greek Wedding 2"
          ],
          [
           "Tammy"
          ],
          [
           "Spider-Man: Homecoming"
          ],
          [
           "Darkest Hour"
          ],
          [
           "Fast Five"
          ],
          [
           "Resident Evil: Afterlife"
          ],
          [
           "Identity Thief"
          ],
          [
           "The Lorax"
          ],
          [
           "The Fate of the Furious"
          ],
          [
           "Spotlight"
          ],
          [
           "Fast & Furious 6"
          ],
          [
           "I, Tonya"
          ],
          [
           "Inside Out"
          ],
          [
           "God's Not Dead 2"
          ],
          [
           "Rocketman"
          ],
          [
           "A Simple Favor"
          ],
          [
           "The Shack"
          ],
          [
           "Daddy's Home"
          ],
          [
           "Rio 2"
          ],
          [
           "The Angry Birds Movie"
          ],
          [
           "Last Vegas"
          ],
          [
           "21 Jump Street"
          ],
          [
           "Planes"
          ],
          [
           "Mission: Impossible - Ghost Protocol"
          ],
          [
           "Parental Guidance"
          ],
          [
           "The Big Short"
          ],
          [
           "Thor: Ragnarok"
          ],
          [
           "Now You See Me"
          ],
          [
           "Creed"
          ],
          [
           "American Reunion"
          ],
          [
           "A Walk in the Woods"
          ],
          [
           "A Bad Moms Christmas"
          ],
          [
           "Forever My Girl"
          ],
          [
           "Maze Runner: The Death Cure"
          ],
          [
           "Miracles from Heaven"
          ],
          [
           "Source Code"
          ],
          [
           "Captain America: Civil War"
          ],
          [
           "Coco"
          ],
          [
           "Dear John"
          ],
          [
           "Shazam!"
          ],
          [
           "Alvin and the Chipmunks: Chipwrecked"
          ],
          [
           "Shrek Forever After"
          ],
          [
           "Captain Fantastic"
          ],
          [
           "Guardians of the Galaxy"
          ],
          [
           "Mission: Impossible - Rogue Nation"
          ],
          [
           "Fantastic Beasts and Where to Find Them"
          ],
          [
           "Second Act"
          ],
          [
           "Hansel & Gretel: Witch Hunters"
          ],
          [
           "The Lighthouse"
          ],
          [
           "Unknown"
          ],
          [
           "Hacksaw Ridge"
          ],
          [
           "Child's Play"
          ],
          [
           "A Dog's Way Home"
          ],
          [
           "Nerve"
          ],
          [
           "Blockers"
          ],
          [
           "Non-Stop"
          ],
          [
           "Beginners"
          ],
          [
           "Mission: Impossible - Fallout"
          ],
          [
           "Kung Fu Panda 2"
          ],
          [
           "Mother's Day"
          ],
          [
           "Ant-Man and the Wasp"
          ],
          [
           "Southside with You"
          ],
          [
           "Norm of the North"
          ],
          [
           "The SpongeBob Movie: Sponge Out of Water"
          ],
          [
           "In Time"
          ],
          [
           "Central Intelligence"
          ],
          [
           "What We Do in the Shadows"
          ],
          [
           "The Croods"
          ],
          [
           "The Emoji Movie"
          ],
          [
           "Sherlock Holmes: A Game of Shadows"
          ],
          [
           "The Dark Knight Rises"
          ],
          [
           "San Andreas"
          ],
          [
           "Guardians of the Galaxy Vol. 2"
          ],
          [
           "The Best Man Holiday"
          ],
          [
           "John Wick"
          ],
          [
           "Creed II"
          ],
          [
           "John Wick: Chapter 2"
          ],
          [
           "How to Train Your Dragon 2"
          ],
          [
           "Suicide Squad"
          ],
          [
           "Friends with Benefits"
          ],
          [
           "The Danish Girl"
          ],
          [
           "Puss in Boots"
          ],
          [
           "Moonrise Kingdom"
          ],
          [
           "Into the Woods"
          ],
          [
           "Step Up Revolution"
          ],
          [
           "Blue Valentine"
          ],
          [
           "Shaun the Sheep Movie"
          ],
          [
           "Django Unchained"
          ],
          [
           "Dumb and Dumber To"
          ],
          [
           "Lincoln"
          ],
          [
           "Journey 2: The Mysterious Island"
          ],
          [
           "Hotel Transylvania"
          ],
          [
           "The Boss Baby"
          ],
          [
           "St. Vincent"
          ],
          [
           "Maleficent"
          ],
          [
           "Captain America: The Winter Soldier"
          ],
          [
           "Dawn of the Planet of the Apes"
          ],
          [
           "Scary Stories to Tell in the Dark"
          ],
          [
           "Valentine's Day"
          ],
          [
           "Spider-Man: Into the Spider-Verse"
          ],
          [
           "The Town"
          ],
          [
           "Booksmart"
          ],
          [
           "The Foreigner"
          ],
          [
           "Bridge of Spies"
          ],
          [
           "Doctor Strange"
          ],
          [
           "Pitch Perfect 3"
          ],
          [
           "The Hunger Games: Mockingjay - Part 2"
          ],
          [
           "No Good Deed"
          ],
          [
           "Interstellar"
          ],
          [
           "Krampus"
          ],
          [
           "The Hundred-Foot Journey"
          ],
          [
           "The Hobbit: An Unexpected Journey"
          ],
          [
           "xXx: Return of Xander Cage"
          ],
          [
           "How to Train Your Dragon: The Hidden World"
          ],
          [
           "Bachelorette"
          ],
          [
           "The Bye Bye Man"
          ],
          [
           "About Last Night"
          ],
          [
           "Vampires Suck"
          ],
          [
           "Trainwreck"
          ],
          [
           "Sully"
          ],
          [
           "Ant-Man"
          ],
          [
           "Wind River"
          ],
          [
           "The Commuter"
          ],
          [
           "Big Hero 6"
          ],
          [
           "Captain Phillips"
          ],
          [
           "The Forest"
          ],
          [
           "The Lucky One"
          ],
          [
           "The Revenant"
          ],
          [
           "It Comes at Night"
          ],
          [
           "Kingsman: The Golden Circle"
          ],
          [
           "One Day"
          ],
          [
           "Clash of the Titans"
          ],
          [
           "This Is the End"
          ],
          [
           "Inside Job"
          ],
          [
           "The Wolf of Wall Street"
          ],
          [
           "Love, Simon"
          ],
          [
           "The Lego Batman Movie"
          ],
          [
           "Harry Potter and the Deathly Hallows: Part 1"
          ],
          [
           "Ice Age: Collision Course"
          ],
          [
           "Teenage Mutant Ninja Turtles"
          ],
          [
           "Lone Survivor"
          ],
          [
           "Contraband"
          ],
          [
           "The Girl on the Train"
          ],
          [
           "The Hobbit: The Desolation of Smaug"
          ],
          [
           "The Hobbit: The Battle of the Five Armies"
          ],
          [
           "God's Not Dead"
          ],
          [
           "Hope Springs"
          ],
          [
           "Fast & Furious Presents: Hobbs & Shaw"
          ],
          [
           "Thor: The Dark World"
          ],
          [
           "1917"
          ],
          [
           "Monsters University"
          ],
          [
           "Now You See Me 2"
          ],
          [
           "Everest"
          ],
          [
           "Fighting with My Family"
          ],
          [
           "21 & Over"
          ],
          [
           "Resident Evil: Retribution"
          ],
          [
           "Shutter Island"
          ],
          [
           "The Muppets"
          ],
          [
           "Angel Has Fallen"
          ],
          [
           "Jack Reacher"
          ],
          [
           "Spy"
          ],
          [
           "What Men Want"
          ],
          [
           "The Post"
          ],
          [
           "Kung Fu Panda 3"
          ],
          [
           "Alexander and the Terrible, Horrible, No Good, Very Bad Day"
          ],
          [
           "Spectre"
          ],
          [
           "Night School"
          ],
          [
           "Johnny English Reborn"
          ],
          [
           "The Amazing Spider-Man 2"
          ],
          [
           "The Hateful Eight"
          ],
          [
           "The Meg"
          ],
          [
           "The Amazing Spider-Man"
          ],
          [
           "The Accountant"
          ],
          [
           "The Prodigy"
          ],
          [
           "Jobs"
          ],
          [
           "Earth to Echo"
          ],
          [
           "Diary of a Wimpy Kid: Dog Days"
          ],
          [
           "The Hangover Part III"
          ],
          [
           "Wild"
          ],
          [
           "Pain & Gain"
          ],
          [
           "Sisters"
          ],
          [
           "Remember Me"
          ],
          [
           "The Mule"
          ],
          [
           "Batman v Superman: Dawn of Justice"
          ],
          [
           "The Equalizer"
          ],
          [
           "Safe Haven"
          ],
          [
           "Bumblebee"
          ],
          [
           "The Wedding Ringer"
          ],
          [
           "Pirates of the Caribbean: Dead Men Tell No Tales"
          ],
          [
           "Piranha 3D"
          ],
          [
           "Money Monster"
          ],
          [
           "Jason Bourne"
          ],
          [
           "The Wolverine"
          ],
          [
           "Vacation"
          ],
          [
           "Diary of a Wimpy Kid: Rodrick Rules"
          ],
          [
           "The Expendables"
          ],
          [
           "Kick-Ass"
          ],
          [
           "RED"
          ],
          [
           "Love & Other Drugs"
          ],
          [
           "London Has Fallen"
          ],
          [
           "Anchorman 2: The Legend Continues"
          ],
          [
           "The Bounty Hunter"
          ],
          [
           "Eat Pray Love"
          ],
          [
           "Mr. Popper's Penguins"
          ],
          [
           "Divergent"
          ],
          [
           "Sing Street"
          ],
          [
           "Going in Style"
          ],
          [
           "The Good Liar"
          ],
          [
           "Grown Ups"
          ],
          [
           "The American"
          ],
          [
           "127 Hours"
          ],
          [
           "Saving Mr. Banks"
          ],
          [
           "The Great Gatsby"
          ],
          [
           "Final Destination 5"
          ],
          [
           "The Upside"
          ],
          [
           "Selma"
          ],
          [
           "Madea's Witness Protection"
          ],
          [
           "Warm Bodies"
          ],
          [
           "Ready Player One"
          ],
          [
           "Atomic Blonde"
          ],
          [
           "Zero Dark Thirty"
          ],
          [
           "Rings"
          ],
          [
           "Upgrade"
          ],
          [
           "A Good Day to Die Hard"
          ],
          [
           "The Smurfs 2"
          ],
          [
           "A Nightmare on Elm Street"
          ],
          [
           "Captain Underpants: The First Epic Movie"
          ],
          [
           "Smurfs: The Lost Village"
          ],
          [
           "Fantastic Beasts: The Crimes of Grindelwald"
          ],
          [
           "Before I Fall"
          ],
          [
           "The Mummy"
          ],
          [
           "War for the Planet of the Apes"
          ],
          [
           "The Guard"
          ],
          [
           "Mud"
          ],
          [
           "Due Date"
          ],
          [
           "Into the Storm"
          ],
          [
           "Robin Hood"
          ],
          [
           "Son of God"
          ],
          [
           "Old Fashioned"
          ],
          [
           "The Grey"
          ],
          [
           "Blended"
          ],
          [
           "Game Night"
          ],
          [
           "Predators"
          ],
          [
           "Ted 2"
          ],
          [
           "Focus"
          ],
          [
           "The Expendables 2"
          ],
          [
           "Hell or High Water"
          ],
          [
           "Sex Tape"
          ],
          [
           "Mechanic: Resurrection"
          ],
          [
           "The Place Beyond the Pines"
          ],
          [
           "Iron Man 2"
          ],
          [
           "In a World..."
          ],
          [
           "Fury"
          ],
          [
           "Ride Along 2"
          ],
          [
           "Home Again"
          ],
          [
           "Dracula Untold"
          ],
          [
           "Why Him?"
          ],
          [
           "Prometheus"
          ],
          [
           "Little Fockers"
          ],
          [
           "Neighbors 2: Sorority Rising"
          ],
          [
           "Grown Ups 2"
          ],
          [
           "Water for Elephants"
          ],
          [
           "Need for Speed"
          ],
          [
           "Kong: Skull Island"
          ],
          [
           "Southpaw"
          ],
          [
           "300: Rise of an Empire"
          ],
          [
           "When the Bough Breaks"
          ],
          [
           "The Equalizer 2"
          ],
          [
           "X-Men: Apocalypse"
          ],
          [
           "Magic in the Moonlight"
          ],
          [
           "Why Did I Get Married Too?"
          ],
          [
           "Ralph Breaks the Internet"
          ],
          [
           "Immortals"
          ],
          [
           "How to Train Your Dragon"
          ],
          [
           "Inside Llewyn Davis"
          ],
          [
           "Thor"
          ],
          [
           "I Am Number Four"
          ],
          [
           "The Disaster Artist"
          ],
          [
           "X-Men: Days of Future Past"
          ],
          [
           "Man of Steel"
          ],
          [
           "August: Osage County"
          ],
          [
           "How to Be Single"
          ],
          [
           "I Feel Pretty"
          ],
          [
           "Arbitrage"
          ],
          [
           "Planes: Fire & Rescue"
          ],
          [
           "Shame"
          ],
          [
           "Deliver Us from Evil"
          ],
          [
           "Inferno"
          ],
          [
           "Hop"
          ],
          [
           "Tomb Raider"
          ],
          [
           "Think Like a Man Too"
          ],
          [
           "Zombieland: Double Tap"
          ],
          [
           "Big Eyes"
          ],
          [
           "The Transporter Refueled"
          ],
          [
           "Sex and the City 2"
          ],
          [
           "G.I. Joe: Retaliation"
          ],
          [
           "The 5th Wave"
          ],
          [
           "Hail, Caesar!"
          ],
          [
           "America: Imagine the World Without Her"
          ],
          [
           "The Nut Job"
          ],
          [
           "The Adventures of Tintin"
          ],
          [
           "Noah"
          ],
          [
           "Wreck-It Ralph"
          ],
          [
           "Night at the Museum: Secret of the Tomb"
          ],
          [
           "The Counselor"
          ],
          [
           "Terminator Genisys"
          ],
          [
           "Paul Blart: Mall Cop 2"
          ],
          [
           "Sicario"
          ],
          [
           "Penguins of Madagascar"
          ],
          [
           "Carrie"
          ],
          [
           "Cars 2"
          ],
          [
           "Transformers: The Last Knight"
          ],
          [
           "Get Hard"
          ],
          [
           "Tag"
          ],
          [
           "Pixels"
          ],
          [
           "The Tourist"
          ],
          [
           "Trolls"
          ],
          [
           "Date Night"
          ],
          [
           "The Spectacular Now"
          ],
          [
           "Project Almanac"
          ],
          [
           "Men in Black 3"
          ],
          [
           "The Dictator"
          ],
          [
           "Passengers"
          ],
          [
           "Barbershop: The Next Cut"
          ],
          [
           "Pirates of the Caribbean: On Stranger Tides"
          ],
          [
           "Warcraft"
          ],
          [
           "Escape Plan"
          ],
          [
           "The Crazies"
          ],
          [
           "Middle School: The Worst Years of My Life"
          ],
          [
           "Goosebumps"
          ],
          [
           "The Darkness"
          ],
          [
           "Poltergeist"
          ],
          [
           "Katy Perry: Part of Me"
          ],
          [
           "The Boss"
          ],
          [
           "Real Steel"
          ],
          [
           "Tinker Tailor Soldier Spy"
          ],
          [
           "Jack Reacher: Never Go Back"
          ],
          [
           "World War Z"
          ],
          [
           "Miss Peregrine's Home for Peculiar Children"
          ],
          [
           "Jackie"
          ],
          [
           "American Made"
          ],
          [
           "Baggage Claim"
          ],
          [
           "Just Go with It"
          ],
          [
           "War Horse"
          ],
          [
           "Mary Poppins Returns"
          ],
          [
           "The Chronicles of Narnia: The Voyage of the Dawn Treader"
          ],
          [
           "The Giver"
          ],
          [
           "Den of Thieves"
          ],
          [
           "Fences"
          ],
          [
           "Epic"
          ],
          [
           "Salt"
          ],
          [
           "Goosebumps 2: Haunted Halloween"
          ],
          [
           "Ferdinand"
          ],
          [
           "The Words"
          ],
          [
           "Maleficent: Mistress of Evil"
          ],
          [
           "The Beguiled"
          ],
          [
           "Prisoners"
          ],
          [
           "Captain America: The First Avenger"
          ],
          [
           "Footloose"
          ],
          [
           "The November Man"
          ],
          [
           "Letters to Juliet"
          ],
          [
           "Christopher Robin"
          ],
          [
           "Uncut Gems"
          ],
          [
           "The Age of Adaline"
          ],
          [
           "The Switch"
          ],
          [
           "Soul Surfer"
          ],
          [
           "Storks"
          ],
          [
           "Daddy's Home 2"
          ],
          [
           "Legion"
          ],
          [
           "The Family"
          ],
          [
           "The Rite"
          ],
          [
           "The To Do List"
          ],
          [
           "Riddick"
          ],
          [
           "Dolphin Tale"
          ],
          [
           "The Pyramid"
          ],
          [
           "Big Mommas: Like Father, Like Son"
          ],
          [
           "Baywatch"
          ],
          [
           "The Perks of Being a Wallflower"
          ],
          [
           "Horrible Bosses 2"
          ],
          [
           "Brick Mansions"
          ],
          [
           "Locke"
          ],
          [
           "Beastly"
          ],
          [
           "Yogi Bear"
          ],
          [
           "Office Christmas Party"
          ],
          [
           "The Adjustment Bureau"
          ],
          [
           "New Year's Eve"
          ],
          [
           "Killing Them Softly"
          ],
          [
           "The Roommate"
          ],
          [
           "The Green Inferno"
          ],
          [
           "Alpha and Omega"
          ],
          [
           "This Is 40"
          ],
          [
           "Rush"
          ],
          [
           "Mad Max: Fury Road"
          ],
          [
           "Larry Crowne"
          ],
          [
           "Love the Coopers"
          ],
          [
           "Elysium"
          ],
          [
           "The Peanuts Movie"
          ],
          [
           "She's Out of My League"
          ],
          [
           "Unbroken"
          ],
          [
           "The Strangers: Prey at Night"
          ],
          [
           "Alien: Covenant"
          ],
          [
           "Megamind"
          ],
          [
           "Another Year"
          ],
          [
           "Ex Machina"
          ],
          [
           "Star Trek Into Darkness"
          ],
          [
           "Uncle Drew"
          ],
          [
           "The Glass Castle"
          ],
          [
           "Collateral Beauty"
          ],
          [
           "Paul"
          ],
          [
           "Hercules"
          ],
          [
           "Little"
          ],
          [
           "Dora and the Lost City of Gold"
          ],
          [
           "Safe House"
          ],
          [
           "42"
          ],
          [
           "Skyscraper"
          ],
          [
           "Olympus Has Fallen"
          ],
          [
           "J. Edgar"
          ],
          [
           "Black or White"
          ],
          [
           "Scream 4"
          ],
          [
           "Abominable"
          ],
          [
           "A Most Wanted Man"
          ],
          [
           "This Means War"
          ],
          [
           "We Bought a Zoo"
          ],
          [
           "Hall Pass"
          ],
          [
           "The Expendables 3"
          ],
          [
           "Percy Jackson & the Olympians: The Lightning Thief"
          ],
          [
           "Oblivion"
          ],
          [
           "Home Run"
          ],
          [
           "Traffik"
          ],
          [
           "Alita: Battle Angel"
          ],
          [
           "Flatliners"
          ],
          [
           "Rough Night"
          ],
          [
           "Independence Day: Resurgence"
          ],
          [
           "Blue Ruin"
          ],
          [
           "TRON: Legacy"
          ],
          [
           "Hitman: Agent 47"
          ],
          [
           "Abduction"
          ],
          [
           "Tooth Fairy"
          ],
          [
           "Super Troopers 2"
          ],
          [
           "Death at a Funeral"
          ],
          [
           "Mike and Dave Need Wedding Dates"
          ],
          [
           "Snow White and the Huntsman"
          ],
          [
           "The Cabin in the Woods"
          ],
          [
           "Ghost Rider: Spirit of Vengeance"
          ],
          [
           "Risen"
          ],
          [
           "T2 Trainspotting"
          ],
          [
           "Underworld: Blood Wars"
          ],
          [
           "Men in Black: International"
          ],
          [
           "Ford v Ferrari"
          ],
          [
           "Nebraska"
          ],
          [
           "The Choice"
          ],
          [
           "The World's End"
          ],
          [
           "Get Him to the Greek"
          ],
          [
           "Playing with Fire"
          ],
          [
           "Ricki and the Flash"
          ],
          [
           "Season of the Witch"
          ],
          [
           "Suffragette"
          ],
          [
           "The Debt"
          ],
          [
           "Pacific Rim"
          ],
          [
           "Tangled"
          ],
          [
           "Contagion"
          ],
          [
           "Machete"
          ],
          [
           "Godzilla: King of the Monsters"
          ],
          [
           "The Angry Birds Movie 2"
          ],
          [
           "Jack Ryan: Shadow Recruit"
          ],
          [
           "The Circle"
          ],
          [
           "The Next Three Days"
          ],
          [
           "The Odd Life of Timothy Green"
          ],
          [
           "Prince of Persia: The Sands of Time"
          ],
          [
           "Knight and Day"
          ],
          [
           "The Great Wall"
          ],
          [
           "Knock Knock"
          ],
          [
           "The Monuments Men"
          ],
          [
           "Percy Jackson: Sea of Monsters"
          ],
          [
           "The Belko Experiment"
          ],
          [
           "Only God Forgives"
          ],
          [
           "Finding Your Feet"
          ],
          [
           "Pete's Dragon"
          ],
          [
           "Homefront"
          ],
          [
           "X-Men: First Class"
          ],
          [
           "Moneyball"
          ],
          [
           "Red Sparrow"
          ],
          [
           "Max"
          ],
          [
           "Cars 3"
          ],
          [
           "Justice League"
          ],
          [
           "A Million Ways to Die in the West"
          ],
          [
           "The Lincoln Lawyer"
          ],
          [
           "Kick-Ass 2"
          ],
          [
           "2 Guns"
          ],
          [
           "Sicario: Day of the Soldado"
          ],
          [
           "Takers"
          ],
          [
           "War Dogs"
          ],
          [
           "The Darkest Hour"
          ],
          [
           "Peppermint"
          ],
          [
           "Mirror Mirror"
          ],
          [
           "Seven Psychopaths"
          ],
          [
           "The Edge of Seventeen"
          ],
          [
           "Red Riding Hood"
          ],
          [
           "Hereafter"
          ],
          [
           "Lawless"
          ],
          [
           "The Last Airbender"
          ],
          [
           "Hanna"
          ],
          [
           "The Bourne Legacy"
          ],
          [
           "My Old Lady"
          ],
          [
           "Zookeeper"
          ],
          [
           "Rise of the Guardians"
          ],
          [
           "Gulliver's Travels"
          ],
          [
           "Side Effects"
          ],
          [
           "What to Expect When You're Expecting"
          ],
          [
           "Her"
          ],
          [
           "Moms' Night Out"
          ],
          [
           "Annie"
          ],
          [
           "A Walk Among the Tombstones"
          ],
          [
           "The Night Before"
          ],
          [
           "Chappie"
          ],
          [
           "The Secret Life of Walter Mitty"
          ],
          [
           "Turbo"
          ],
          [
           "Beyond the Lights"
          ],
          [
           "This Is Where I Leave You"
          ],
          [
           "Frankenweenie"
          ],
          [
           "Runner Runner"
          ],
          [
           "Edge of Tomorrow"
          ],
          [
           "Dumbo"
          ],
          [
           "The Sweeney"
          ],
          [
           "Delivery Man"
          ],
          [
           "Tower Heist"
          ],
          [
           "A Dangerous Method"
          ],
          [
           "Stuber"
          ],
          [
           "RoboCop"
          ],
          [
           "Just Mercy"
          ],
          [
           "Bernie"
          ],
          [
           "Wrath of the Titans"
          ],
          [
           "Free Birds"
          ],
          [
           "Eddie the Eagle"
          ],
          [
           "When the Game Stands Tall"
          ],
          [
           "The Book of Life"
          ],
          [
           "Monte Carlo"
          ],
          [
           "The Legend of Tarzan"
          ],
          [
           "Molly's Game"
          ],
          [
           "The Birth of a Nation"
          ],
          [
           "The Book of Eli"
          ],
          [
           "Wish Upon"
          ],
          [
           "Mother's Day"
          ],
          [
           "Pacific Rim: Uprising"
          ],
          [
           "Boo 2! A Madea Halloween"
          ],
          [
           "Wall Street: Money Never Sleeps"
          ],
          [
           "Nine Lives"
          ],
          [
           "Assassin's Creed"
          ],
          [
           "12 Strong"
          ],
          [
           "Alpha"
          ],
          [
           "Robot & Frank"
          ],
          [
           "The Lego Movie 2: The Second Part"
          ],
          [
           "Paterson"
          ],
          [
           "Exodus: Gods and Kings"
          ],
          [
           "Step Up All In"
          ],
          [
           "Young Adult"
          ],
          [
           "A Very Harold & Kumar Christmas"
          ],
          [
           "The Mechanic"
          ],
          [
           "The 15:17 to Paris"
          ],
          [
           "3 Days to Kill"
          ],
          [
           "Mr. Peabody & Sherman"
          ],
          [
           "Frank"
          ],
          [
           "The Green Hornet"
          ],
          [
           "Mile 22"
          ],
          [
           "Jack and Jill"
          ],
          [
           "The Dark Tower"
          ],
          [
           "The Spy Who Dumped Me"
          ],
          [
           "Black Mass"
          ],
          [
           "After Earth"
          ],
          [
           "Mary Queen of Scots"
          ],
          [
           "Fist Fight"
          ],
          [
           "Escape from Planet Earth"
          ],
          [
           "Bombshell"
          ],
          [
           "Something Borrowed"
          ],
          [
           "Star Trek Beyond"
          ],
          [
           "We Are Your Friends"
          ],
          [
           "Cop Out"
          ],
          [
           "The Longest Ride"
          ],
          [
           "Savages"
          ],
          [
           "Geostorm"
          ],
          [
           "Burnt"
          ],
          [
           "The Three Stooges"
          ],
          [
           "Rambo: Last Blood"
          ],
          [
           "The Tree of Life"
          ],
          [
           "The Predator"
          ],
          [
           "Diary of a Wimpy Kid: The Long Haul"
          ],
          [
           "Rango"
          ],
          [
           "Ramona and Beezus"
          ],
          [
           "Teenage Mutant Ninja Turtles: Out of the Shadows"
          ],
          [
           "Incarnate"
          ],
          [
           "Widows"
          ],
          [
           "The Five-Year Engagement"
          ],
          [
           "The Magnificent Seven"
          ],
          [
           "The Boxtrolls"
          ],
          [
           "Hot Tub Time Machine"
          ],
          [
           "The Mountain Between Us"
          ],
          [
           "Secret in Their Eyes"
          ],
          [
           "ParaNorman"
          ],
          [
           "Nobody's Fool"
          ],
          [
           "RED 2"
          ],
          [
           "The Three Musketeers"
          ],
          [
           "Alice Through the Looking Glass"
          ],
          [
           "Sparkle"
          ],
          [
           "The Lego Ninjago Movie"
          ],
          [
           "Gangster Squad"
          ],
          [
           "Made in Dagenham"
          ],
          [
           "Legend of the Guardians: The Owls of Ga'Hoole"
          ],
          [
           "The Walk"
          ],
          [
           "Endless Love"
          ],
          [
           "Life"
          ],
          [
           "While We're Young"
          ],
          [
           "The D Train"
          ],
          [
           "Blade Runner 2049"
          ],
          [
           "Secretariat"
          ],
          [
           "Leap Year"
          ],
          [
           "Hitchcock"
          ],
          [
           "Legend"
          ],
          [
           "The Nut Job 2: Nutty by Nature"
          ],
          [
           "Spies in Disguise"
          ],
          [
           "If Beale Street Could Talk"
          ],
          [
           "Left Behind"
          ],
          [
           "The Other Guys"
          ],
          [
           "The Water Diviner"
          ],
          [
           "Piranha 3DD"
          ],
          [
           "Jersey Boys"
          ],
          [
           "The Art of Racing in the Rain"
          ],
          [
           "The Judge"
          ],
          [
           "Abraham Lincoln: Vampire Hunter"
          ],
          [
           "Florence Foster Jenkins"
          ],
          [
           "Joy"
          ],
          [
           "Voiceless"
          ],
          [
           "Hardcore Henry"
          ],
          [
           "Unstoppable"
          ],
          [
           "Marmaduke"
          ],
          [
           "Filth"
          ],
          [
           "Logan Lucky"
          ],
          [
           "Winnie the Pooh"
          ],
          [
           "The Good Dinosaur"
          ],
          [
           "Kidnap"
          ],
          [
           "The Meddler"
          ],
          [
           "Death Wish"
          ],
          [
           "Snitch"
          ],
          [
           "Lockout"
          ],
          [
           "Swiss Army Man"
          ],
          [
           "Entourage"
          ],
          [
           "Dark Shadows"
          ],
          [
           "For a Good Time, Call..."
          ],
          [
           "The Last Witch Hunter"
          ],
          [
           "Burlesque"
          ],
          [
           "Allegiant"
          ],
          [
           "Camp"
          ],
          [
           "The Lobster"
          ],
          [
           "The Spy Next Door"
          ],
          [
           "The Internship"
          ],
          [
           "The A-Team"
          ],
          [
           "Muppets Most Wanted"
          ],
          [
           "Doctor Sleep"
          ],
          [
           "Dolphin Tale 2"
          ],
          [
           "You Again"
          ],
          [
           "The Mortal Instruments: City of Bones"
          ],
          [
           "Colombiana"
          ],
          [
           "Last Night"
          ],
          [
           "The Gambler"
          ],
          [
           "Solo: A Star Wars Story"
          ],
          [
           "The Innkeepers"
          ],
          [
           "Proud Mary"
          ],
          [
           "Ghost in the Shell"
          ],
          [
           "Million Dollar Arm"
          ],
          [
           "Marrowbone"
          ],
          [
           "Sherlock Gnomes"
          ],
          [
           "Don't Be Afraid of the Dark"
          ],
          [
           "Our Family Wedding"
          ],
          [
           "Charlie's Angels"
          ],
          [
           "The Little Prince"
          ],
          [
           "Belle"
          ],
          [
           "What's Your Number?"
          ],
          [
           "The Eagle"
          ],
          [
           "The Hate U Give"
          ],
          [
           "All Is Lost"
          ],
          [
           "21 Bridges"
          ],
          [
           "First Man"
          ],
          [
           "Haywire"
          ],
          [
           "Morning Glory"
          ],
          [
           "The Best of Me"
          ],
          [
           "Faster"
          ],
          [
           "Unforgettable"
          ],
          [
           "The Drop"
          ],
          [
           "Shark Night 3D"
          ],
          [
           "Hot Pursuit"
          ],
          [
           "Machete Kills"
          ],
          [
           "Café Society"
          ],
          [
           "Ad Astra"
          ],
          [
           "30 Minutes or Less"
          ],
          [
           "Diana"
          ],
          [
           "The Change-Up"
          ],
          [
           "The Nutcracker and the Four Realms"
          ],
          [
           "Battleship"
          ],
          [
           "Snatched"
          ],
          [
           "Animal Kingdom"
          ],
          [
           "The Host"
          ],
          [
           "Loving"
          ],
          [
           "The Sorcerer's Apprentice"
          ],
          [
           "The Awakening"
          ],
          [
           "The Huntsman: Winter's War"
          ],
          [
           "Admission"
          ],
          [
           "Run All Night"
          ],
          [
           "The Man from U.N.C.L.E."
          ],
          [
           "Power Rangers"
          ],
          [
           "Terminator: Dark Fate"
          ],
          [
           "Allied"
          ],
          [
           "And So It Goes"
          ],
          [
           "Captive"
          ],
          [
           "Fantastic Four"
          ],
          [
           "The Sitter"
          ],
          [
           "The BFG"
          ],
          [
           "All Eyez on Me"
          ],
          [
           "I'm Not Ashamed"
          ],
          [
           "Safe"
          ],
          [
           "Extremely Loud & Incredibly Close"
          ],
          [
           "The Man with the Iron Fists"
          ],
          [
           "White House Down"
          ],
          [
           "Country Strong"
          ],
          [
           "Phantom"
          ],
          [
           "Fright Night"
          ],
          [
           "Phantom Thread"
          ],
          [
           "American Animals"
          ],
          [
           "Crimson Peak"
          ],
          [
           "Khumba"
          ],
          [
           "Let Me In"
          ],
          [
           "Iron Sky"
          ],
          [
           "Nocturnal Animals"
          ],
          [
           "Long Shot"
          ],
          [
           "The Railway Man"
          ],
          [
           "Parker"
          ],
          [
           "The Ghost Writer"
          ],
          [
           "The Bling Ring"
          ],
          [
           "Prom"
          ],
          [
           "The Big Wedding"
          ],
          [
           "Cats & Dogs: The Revenge of Kitty Galore"
          ],
          [
           "Going the Distance"
          ],
          [
           "Shut In"
          ],
          [
           "I Don't Know How She Does It"
          ],
          [
           "Killers"
          ],
          [
           "The Zookeeper's Wife"
          ],
          [
           "Priest"
          ],
          [
           "The Light Between Oceans"
          ],
          [
           "A Wrinkle in Time"
          ],
          [
           "Cloud Atlas"
          ],
          [
           "Batman: The Killing Joke"
          ],
          [
           "Cold Pursuit"
          ],
          [
           "Valerian and the City of a Thousand Planets"
          ],
          [
           "Point Break"
          ],
          [
           "Kubo and the Two Strings"
          ],
          [
           "Vice"
          ],
          [
           "Dinner for Schmucks"
          ],
          [
           "Midway"
          ],
          [
           "Gemini Man"
          ],
          [
           "The Nice Guys"
          ],
          [
           "The Snowman"
          ],
          [
           "Criminal"
          ],
          [
           "Carnage"
          ],
          [
           "Self/less"
          ],
          [
           "Happy Feet Two"
          ],
          [
           "Trance"
          ],
          [
           "The Darkest Minds"
          ],
          [
           "Hearts Beat Loud"
          ],
          [
           "Arthur"
          ],
          [
           "Seventh Son"
          ],
          [
           "Woodlawn"
          ],
          [
           "Wonder Park"
          ],
          [
           "Draft Day"
          ],
          [
           "Masterminds"
          ],
          [
           "I, Frankenstein"
          ],
          [
           "Pompeii"
          ],
          [
           "The Losers"
          ],
          [
           "Fair Game"
          ],
          [
           "Seeking a Friend for the End of the World"
          ],
          [
           "The Girl with the Dragon Tattoo"
          ],
          [
           "Patriots Day"
          ],
          [
           "Triple 9"
          ],
          [
           "Steve Jobs"
          ],
          [
           "The Raven"
          ],
          [
           "Ender's Game"
          ],
          [
           "Ruby Sparks"
          ],
          [
           "All the Money in the World"
          ],
          [
           "John Carter"
          ],
          [
           "Zoolander 2"
          ],
          [
           "Man on a Ledge"
          ],
          [
           "The Hunt"
          ],
          [
           "Labor Day"
          ],
          [
           "Grudge Match"
          ],
          [
           "Get on Up"
          ],
          [
           "Fifty Shades of Black"
          ],
          [
           "Deepwater Horizon"
          ],
          [
           "The Campaign"
          ],
          [
           "First Reformed"
          ],
          [
           "Morgan"
          ],
          [
           "Tomorrowland"
          ],
          [
           "A Monster Calls"
          ],
          [
           "Green Lantern"
          ],
          [
           "Sleepless"
          ],
          [
           "Overlord"
          ],
          [
           "Sucker Punch"
          ],
          [
           "Charlie St. Cloud"
          ],
          [
           "Early Man"
          ],
          [
           "Hugo"
          ],
          [
           "Win Win"
          ],
          [
           "Macbeth"
          ],
          [
           "Only Lovers Left Alive"
          ],
          [
           "Danny Collins"
          ],
          [
           "The Canyons"
          ],
          [
           "Annihilation"
          ],
          [
           "Gods of Egypt"
          ],
          [
           "Scouts Guide to the Zombie Apocalypse"
          ],
          [
           "Cowboys & Aliens"
          ],
          [
           "The Guilt Trip"
          ],
          [
           "Jupiter Ascending"
          ],
          [
           "Kill the Messenger"
          ],
          [
           "Bel Ami"
          ],
          [
           "Furry Vengeance"
          ],
          [
           "A United Kingdom"
          ],
          [
           "Wish I Was Here"
          ],
          [
           "20th Century Women"
          ],
          [
           "Transcendence"
          ],
          [
           "The Lords of Salem"
          ],
          [
           "Rabbit Hole"
          ],
          [
           "Miss Bala"
          ],
          [
           "Isle of Dogs"
          ],
          [
           "Father Figures"
          ],
          [
           "The Lone Ranger"
          ],
          [
           "From Paris with Love"
          ],
          [
           "Jack the Giant Slayer"
          ],
          [
           "Edge of Darkness"
          ],
          [
           "Table 19"
          ],
          [
           "Red Lights"
          ],
          [
           "Stoker"
          ],
          [
           "The Watch"
          ],
          [
           "Beautiful Creatures"
          ],
          [
           "The Vatican Tapes"
          ],
          [
           "Thunderstruck"
          ],
          [
           "Smashed"
          ],
          [
           "The Dilemma"
          ],
          [
           "American Ultra"
          ],
          [
           "Richard Jewell"
          ],
          [
           "90 Minutes in Heaven"
          ],
          [
           "The Founder"
          ],
          [
           "Holmes & Watson"
          ],
          [
           "One for the Money"
          ],
          [
           "Green Zone"
          ],
          [
           "Albert Nobbs"
          ],
          [
           "In the Heart of the Sea"
          ],
          [
           "Hot Tub Time Machine 2"
          ],
          [
           "Snowden"
          ],
          [
           "Warrior"
          ],
          [
           "MacGruber"
          ],
          [
           "The Hurricane Heist"
          ],
          [
           "Bad Santa 2"
          ],
          [
           "The Incredible Burt Wonderstone"
          ],
          [
           "The Beach Bum"
          ],
          [
           "Kill List"
          ],
          [
           "The Thing"
          ],
          [
           "White Boy Rick"
          ],
          [
           "Hellboy"
          ],
          [
           "Flypaper"
          ],
          [
           "Premium Rush"
          ],
          [
           "Conviction"
          ],
          [
           "Hotel Artemis"
          ],
          [
           "The Diary of a Teenage Girl"
          ],
          [
           "The Master"
          ],
          [
           "Little Boy"
          ],
          [
           "Predestination"
          ],
          [
           "Big Game"
          ],
          [
           "The Legend of Hercules"
          ],
          [
           "Red Tails"
          ],
          [
           "47 Ronin"
          ],
          [
           "Killer Elite"
          ],
          [
           "My Soul to Take"
          ],
          [
           "Pan"
          ],
          [
           "Victor Frankenstein"
          ],
          [
           "King Arthur: Legend of the Sword"
          ],
          [
           "For Greater Glory: The True Story of Cristiada"
          ],
          [
           "Marshall"
          ],
          [
           "The Cold Light of Day"
          ],
          [
           "The Infiltrator"
          ],
          [
           "Seeking Justice"
          ],
          [
           "Battle of the Year"
          ],
          [
           "That's My Boy"
          ],
          [
           "Bad Words"
          ],
          [
           "Dredd"
          ],
          [
           "Drive Angry"
          ],
          [
           "The Girl in the Spider's Web"
          ],
          [
           "Fun Size"
          ],
          [
           "It's Kind of a Funny Story"
          ],
          [
           "Downsizing"
          ],
          [
           "The Way Back"
          ],
          [
           "Before I Go to Sleep"
          ],
          [
           "Foxcatcher"
          ],
          [
           "Dream House"
          ],
          [
           "Life Itself"
          ],
          [
           "Denial"
          ],
          [
           "Mandela: Long Walk to Freedom"
          ],
          [
           "Scott Pilgrim vs. the World"
          ],
          [
           "Rock of Ages"
          ],
          [
           "Mortdecai"
          ],
          [
           "The Loft"
          ],
          [
           "People Like Us"
          ],
          [
           "Judy Moody and the Not Bummer Summer"
          ],
          [
           "Red Dawn"
          ],
          [
           "When in Rome"
          ],
          [
           "Cats"
          ],
          [
           "What If"
          ],
          [
           "Alex Cross"
          ],
          [
           "Certain Women"
          ],
          [
           "Trumbo"
          ],
          [
           "Green Room"
          ],
          [
           "Keeping Up with the Joneses"
          ],
          [
           "Take Shelter"
          ],
          [
           "Gold"
          ],
          [
           "Battle of the Sexes"
          ],
          [
           "Promised Land"
          ],
          [
           "Inherent Vice"
          ],
          [
           "Operation Finale"
          ],
          [
           "Clouds of Sils Maria"
          ],
          [
           "Whiskey Tango Foxtrot"
          ],
          [
           "Shaft"
          ],
          [
           "Out of the Furnace"
          ],
          [
           "Motherless Brooklyn"
          ],
          [
           "Aloha"
          ],
          [
           "Anomalisa"
          ],
          [
           "Conan the Barbarian"
          ],
          [
           "The Joneses"
          ],
          [
           "Miss Sloane"
          ],
          [
           "Only the Brave"
          ],
          [
           "Queen of Katwe"
          ],
          [
           "The Happytime Murders"
          ],
          [
           "Detroit"
          ],
          [
           "Chalet Girl"
          ],
          [
           "Wanderlust"
          ],
          [
           "Tusk"
          ],
          [
           "The Rum Diary"
          ],
          [
           "Ratchet & Clank"
          ],
          [
           "A Cure for Wellness"
          ],
          [
           "Never Let Me Go"
          ],
          [
           "Getaway"
          ],
          [
           "The Finest Hours"
          ],
          [
           "The Signal"
          ],
          [
           "Hostiles"
          ],
          [
           "The Lost City of Z"
          ],
          [
           "Gotti"
          ],
          [
           "I Spit on Your Grave"
          ],
          [
           "Wonder Wheel"
          ],
          [
           "Sabotage"
          ],
          [
           "Max Steel"
          ],
          [
           "The Conspirator"
          ],
          [
           "Stake Land"
          ],
          [
           "Broken City"
          ],
          [
           "Big Miracle"
          ],
          [
           "Tomorrow, When the War Began"
          ],
          [
           "Joe"
          ],
          [
           "The Gunman"
          ],
          [
           "R.I.P.D."
          ],
          [
           "A Most Violent Year"
          ],
          [
           "Roman J. Israel, Esq."
          ],
          [
           "Pride and Prejudice and Zombies"
          ],
          [
           "Serenity"
          ],
          [
           "Repo Men"
          ],
          [
           "Centurion"
          ],
          [
           "31"
          ],
          [
           "Anthropoid"
          ],
          [
           "Everything Must Go"
          ],
          [
           "Your Highness"
          ],
          [
           "Truth"
          ],
          [
           "Nothing Left to Fear"
          ],
          [
           "Walk of Shame"
          ],
          [
           "The Guest"
          ],
          [
           "The Company Men"
          ],
          [
           "Chappaquiddick"
          ],
          [
           "The Space Between Us"
          ],
          [
           "Free Fire"
          ],
          [
           "Vampire Academy"
          ],
          [
           "A Thousand Words"
          ],
          [
           "Monster Trucks"
          ],
          [
           "Winter's Tale"
          ],
          [
           "Anonymous"
          ],
          [
           "A Hidden Life"
          ],
          [
           "Love"
          ],
          [
           "Suburbicon"
          ],
          [
           "2 Days in New York"
          ],
          [
           "Free State of Jones"
          ],
          [
           "Thank You for Your Service"
          ],
          [
           "Stolen"
          ],
          [
           "Extraordinary Measures"
          ],
          [
           "The Neon Demon"
          ],
          [
           "This Must Be the Place"
          ],
          [
           "Laggies"
          ],
          [
           "Personal Shopper"
          ],
          [
           "Austenland"
          ],
          [
           "Jeff, Who Lives at Home"
          ],
          [
           "Red State"
          ],
          [
           "The Runaways"
          ],
          [
           "Stone"
          ],
          [
           "Jem and the Holograms"
          ],
          [
           "Everybody Wants Some!!"
          ],
          [
           "Killer Joe"
          ],
          [
           "Welcome to the Punch"
          ],
          [
           "The Book of Henry"
          ],
          [
           "Tolkien"
          ],
          [
           "What Maisie Knew"
          ],
          [
           "The Face of Love"
          ],
          [
           "Straw Dogs"
          ],
          [
           "The East"
          ],
          [
           "Paranoia"
          ],
          [
           "Wild Target"
          ],
          [
           "Demolition"
          ],
          [
           "Attack the Block"
          ],
          [
           "Robin Hood"
          ],
          [
           "Under the Skin"
          ],
          [
           "Black Nativity"
          ],
          [
           "Higher Ground"
          ],
          [
           "Unfinished Business"
          ],
          [
           "Intruders"
          ],
          [
           "How Do You Know"
          ],
          [
           "Barney's Version"
          ],
          [
           "Bullet to the Head"
          ],
          [
           "Take Me Home Tonight"
          ],
          [
           "Suspiria"
          ],
          [
           "The Young Messiah"
          ],
          [
           "Beauty and the Beast"
          ],
          [
           "Rock Dog"
          ],
          [
           "On the Road"
          ],
          [
           "Afflicted"
          ],
          [
           "Midnight Special"
          ],
          [
           "The Immigrant"
          ],
          [
           "Heist"
          ],
          [
           "Upside Down"
          ],
          [
           "Tulip Fever"
          ],
          [
           "No One Lives"
          ],
          [
           "Shadow Dancer"
          ],
          [
           "Captive State"
          ],
          [
           "Maggie"
          ],
          [
           "The Beaver"
          ],
          [
           "Just Getting Started"
          ],
          [
           "The Sisters Brothers"
          ],
          [
           "Kin"
          ],
          [
           "Cosmopolis"
          ],
          [
           "Disconnect"
          ],
          [
           "Overdrive"
          ],
          [
           "The Grand Seduction"
          ],
          [
           "Cake"
          ],
          [
           "Welcome to Marwen"
          ],
          [
           "By the Sea"
          ],
          [
           "London Boulevard"
          ],
          [
           "The Oranges"
          ],
          [
           "Escobar: Paradise Lost"
          ],
          [
           "Salinger"
          ],
          [
           "The Fifth Estate"
          ],
          [
           "The Virginity Hit"
          ],
          [
           "Collide"
          ],
          [
           "Coriolanus"
          ],
          [
           "Restless"
          ],
          [
           "Replicas"
          ],
          [
           "Legends of Oz: Dorothy's Return"
          ],
          [
           "The Perfect Game"
          ],
          [
           "Atlas Shrugged: Part I"
          ],
          [
           "Lost River"
          ],
          [
           "ATM"
          ],
          [
           "A Hologram for the King"
          ],
          [
           "Lean on Pete"
          ],
          [
           "Our Brand Is Crisis"
          ],
          [
           "The Paperboy"
          ],
          [
           "Maps to the Stars"
          ],
          [
           "The Devil's Double"
          ],
          [
           "Pawn Sacrifice"
          ],
          [
           "Dylan Dog: Dead of Night"
          ],
          [
           "The Young and Prodigious T.S. Spivet"
          ],
          [
           "Stronger"
          ],
          [
           "Trespass"
          ],
          [
           "Blackhat"
          ],
          [
           "'71"
          ],
          [
           "Infinitely Polar Bear"
          ],
          [
           "Action Point"
          ],
          [
           "The Interview"
          ],
          [
           "Mars Needs Moms"
          ],
          [
           "Child 44"
          ],
          [
           "Colonia"
          ],
          [
           "Ain't Them Bodies Saints"
          ],
          [
           "Howl"
          ],
          [
           "Under the Silver Lake"
          ],
          [
           "Repentance"
          ],
          [
           "High Life"
          ],
          [
           "The Homesman"
          ],
          [
           "Jonah Hex"
          ],
          [
           "The House That Jack Built"
          ],
          [
           "99 Homes"
          ],
          [
           "The Iceman"
          ],
          [
           "Rock the Kasbah"
          ],
          [
           "Man of Tai Chi"
          ],
          [
           "Freeheld"
          ],
          [
           "Live by Night"
          ],
          [
           "The Apparition"
          ],
          [
           "The Rover"
          ],
          [
           "Rubber"
          ],
          [
           "The Big Year"
          ],
          [
           "October Baby"
          ],
          [
           "A Better Life"
          ],
          [
           "Gimme Shelter"
          ],
          [
           "Henry's Crime"
          ],
          [
           "Song to Song"
          ],
          [
           "Creature"
          ],
          [
           "The Bronze"
          ],
          [
           "Oldboy"
          ],
          [
           "Chain Letter"
          ],
          [
           "Super"
          ],
          [
           "The Zero Theorem"
          ],
          [
           "Vanishing on 7th Street"
          ],
          [
           "13 Sins"
          ],
          [
           "Another Happy Day"
          ],
          [
           "Deadfall"
          ],
          [
           "Lovelace"
          ],
          [
           "Rules Don't Apply"
          ],
          [
           "Parkland"
          ],
          [
           "Crooked Arrows"
          ],
          [
           "W.E."
          ],
          [
           "I Saw the Light"
          ],
          [
           "Equals"
          ],
          [
           "Rampart"
          ],
          [
           "Flipped"
          ],
          [
           "The Ledge"
          ],
          [
           "Jane Got a Gun"
          ],
          [
           "Universal Soldier: Day of Reckoning"
          ],
          [
           "Life of Crime"
          ],
          [
           "In the Land of Blood and Honey"
          ],
          [
           "Middle of Nowhere"
          ],
          [
           "Manglehorn"
          ],
          [
           "Life After Beth"
          ],
          [
           "Machine Gun Preacher"
          ],
          [
           "50 to 1"
          ],
          [
           "Make Your Move"
          ],
          [
           "Blood Ties"
          ],
          [
           "Adore"
          ],
          [
           "The Double"
          ],
          [
           "Casino Jack"
          ],
          [
           "Third Person"
          ],
          [
           "The Extra Man"
          ],
          [
           "Byzantium"
          ],
          [
           "Camp X-Ray"
          ],
          [
           "Mr. Right"
          ],
          [
           "Song One"
          ],
          [
           "The 5th Quarter"
          ],
          [
           "The Music Never Stopped"
          ],
          [
           "Hesher"
          ],
          [
           "Trust"
          ],
          [
           "Hatchet II"
          ],
          [
           "London Fields"
          ],
          [
           "Lay the Favorite"
          ],
          [
           "Falcon Rising"
          ],
          [
           "Blackway"
          ],
          [
           "Bitter Harvest"
          ],
          [
           "The Romantics"
          ],
          [
           "Sleeping Beauty"
          ],
          [
           "Margaret"
          ],
          [
           "Freakonomics"
          ],
          [
           "The Other Woman"
          ],
          [
           "Dirty Girl"
          ],
          [
           "Aloft"
          ],
          [
           "The Bad Batch"
          ],
          [
           "Road to Nowhere"
          ],
          [
           "Not Fade Away"
          ],
          [
           "Decoding Annie Parker"
          ],
          [
           "Pink Ribbons, Inc."
          ],
          [
           "Saint John of Las Vegas"
          ],
          [
           "Frozen"
          ],
          [
           "Ghostbusters"
          ],
          [
           "Band Aid"
          ],
          [
           "Honeymoon"
          ],
          [
           "All I See Is You"
          ],
          [
           "Stonewall"
          ],
          [
           "The Tempest"
          ],
          [
           "Bilal: A New Breed of Hero"
          ],
          [
           "Dunkirk"
          ],
          [
           "Home"
          ],
          [
           "5 Days of War"
          ],
          [
           "Term Life"
          ],
          [
           "Strangerland"
          ],
          [
           "The Ottoman Lieutenant"
          ],
          [
           "Every Day"
          ],
          [
           "Joker"
          ],
          [
           "The Good Doctor"
          ],
          [
           "CBGB"
          ],
          [
           "Inhale"
          ],
          [
           "Ca$h"
          ],
          [
           "Meet Monica Velour"
          ],
          [
           "Beautiful Boy"
          ],
          [
           "The Adventurer: The Curse of the Midas Box"
          ],
          [
           "Brave"
          ],
          [
           "Ben-Hur"
          ],
          [
           "About Cherry"
          ],
          [
           "Passion Play"
          ],
          [
           "A Perfect Man"
          ],
          [
           "Barefoot"
          ],
          [
           "The Sacrament"
          ],
          [
           "Concussion"
          ],
          [
           "Mi America"
          ],
          [
           "Area 51"
          ],
          [
           "The Nun"
          ],
          [
           "Best Man Down"
          ],
          [
           "The Samaritan"
          ],
          [
           "Quartet"
          ],
          [
           "Godzilla"
          ],
          [
           "Aftermath"
          ],
          [
           "Total Recall"
          ],
          [
           "Moana"
          ]
         ],
         "hovertemplate": "budget=%{x}<br>title=%{customdata[0]}<extra></extra>",
         "legendgroup": "",
         "marker": {
          "color": "#636efa",
          "symbol": "circle"
         },
         "name": "",
         "notched": true,
         "offsetgroup": "",
         "showlegend": false,
         "type": "box",
         "x": [
          135000,
          10000,
          100000,
          4000000,
          30000,
          1000000,
          200000,
          134005,
          1000000,
          1500000,
          1000000,
          3000000,
          4500000,
          1000000,
          5000000,
          6500000,
          1800000,
          250000,
          1000000,
          9000000,
          4900000,
          3000000,
          15000000,
          5000000,
          3000000,
          3500000,
          4800000,
          13000000,
          10000000,
          700000,
          12000000,
          125000,
          3000000,
          13000000,
          7000000,
          2500000,
          5000000,
          15000000,
          35000000,
          17000000,
          100000,
          5000000,
          100000,
          5000000,
          9000000,
          52000000,
          4000000,
          10000000,
          14000000,
          4000000,
          1000000,
          250000,
          9900000,
          74000000,
          20000000,
          3300000,
          18000000,
          30000000,
          1000000,
          23000000,
          10000000,
          58000000,
          45202,
          2500000,
          4000000,
          80000000,
          20000000,
          76000000,
          3500000,
          9000000,
          20000000,
          5000000,
          200000,
          4000000,
          36000000,
          600000,
          10000000,
          5000000,
          1800000,
          12000000,
          3300000,
          75000000,
          3500000,
          40000000,
          5500000,
          21000000,
          10000000,
          5000000,
          150000000,
          5000000,
          50000000,
          5000000,
          2000000,
          125000000,
          20000000,
          90000000,
          1000000,
          4000000,
          13000000,
          10000000,
          20000000,
          68000000,
          10000000,
          34000000,
          17000,
          500000,
          15000000,
          900000,
          19500000,
          3500000,
          29000000,
          15000000,
          1987650,
          150000000,
          6000000,
          20000000,
          1500000,
          25000000,
          8000000,
          20000000,
          22000000,
          58800000,
          75000000,
          95000000,
          20000000,
          9000000,
          2500000,
          40000000,
          5000000,
          15000000,
          5000000,
          13000000,
          5000000,
          20000000,
          32500000,
          9000000,
          25000000,
          20000000,
          10000000,
          12000000,
          75000000,
          15000000,
          12000000,
          5000000,
          12000000,
          45000000,
          1000000,
          2000000,
          15000000,
          11500000,
          100000,
          17000000,
          12000000,
          40000000,
          190000000,
          10000000,
          30000000,
          3500000,
          14800000,
          8000000,
          356000000,
          7000000,
          10000000,
          20000000,
          69000000,
          40000000,
          60000000,
          40000000,
          5500000,
          30000000,
          13000000,
          17000000,
          12000000,
          152000000,
          6500000,
          19000000,
          19000000,
          15000000,
          80000000,
          116000000,
          37000000,
          12000000,
          61000000,
          9000000,
          160000000,
          28000000,
          50000,
          12000000,
          5500000,
          3000000,
          160000000,
          11000000,
          50000000,
          17000000,
          3000000,
          55000000,
          5000000,
          105000000,
          2000000,
          916000,
          120000000,
          220000000,
          12000000,
          300000000,
          48000000,
          75000000,
          13500000,
          17000000,
          150000000,
          200000000,
          55000000,
          10000000,
          110000000,
          130000000,
          34000000,
          38000000,
          80000000,
          50000000,
          30000000,
          110000000,
          14000000,
          10000000,
          6900000,
          55000000,
          15000000,
          25000000,
          125000000,
          97000000,
          260000000,
          967686,
          4000000,
          5000000,
          40000000,
          10000000,
          15000000,
          200000000,
          25000000,
          10000000,
          7000000,
          175000000,
          12500000,
          14000000,
          35000000,
          200000000,
          125000000,
          61000000,
          79000000,
          27000000,
          35000000,
          25000000,
          55000000,
          80000000,
          6000000,
          26000000,
          750000,
          30000000,
          30000000,
          1000000,
          108000000,
          6600000,
          30000000,
          183000000,
          195000000,
          17000000,
          18000000,
          8000000,
          95000000,
          40000000,
          11000000,
          40000000,
          250000000,
          8500000,
          11000000,
          7700000,
          3500000,
          4000000,
          20000000,
          200000000,
          35000000,
          149000000,
          175000000,
          6000000,
          2000000,
          6400000,
          1000000,
          6000000,
          36000000,
          90000000,
          80000000,
          21000000,
          43000000,
          200000000,
          10000000,
          9000000,
          30000000,
          200000000,
          210000000,
          7000000,
          13000000,
          75000000,
          5000000,
          40000000,
          50000000,
          44500000,
          31000000,
          160000000,
          84000000,
          93000000,
          5000000,
          10000000,
          145000000,
          5000000,
          200000000,
          8500000,
          2000000,
          25000000,
          61000000,
          81000000,
          8000000,
          200000000,
          15000000,
          55000000,
          110000000,
          30000000,
          40000000,
          120000000,
          15000000,
          5000000,
          12000000,
          18000000,
          20000000,
          175000000,
          30000000,
          125000000,
          60000000,
          35000000,
          70000000,
          250000000,
          20000000,
          160000000,
          11000000,
          175000000,
          5000000,
          40000000,
          20000000,
          20000000,
          50000000,
          103000000,
          73000000,
          28000000,
          42000000,
          50000000,
          145000000,
          25000000,
          28000000,
          180000000,
          75000000,
          37000000,
          50000000,
          8000000,
          28000000,
          3500000,
          62000000,
          16000000,
          32000000,
          250000000,
          175000000,
          25000000,
          80000000,
          75000000,
          165000000,
          5000000,
          170000000,
          150000000,
          180000000,
          16000000,
          50000000,
          4000000,
          30000000,
          40000000,
          10000000,
          18000000,
          19000000,
          21000000,
          50000000,
          3200000,
          178000000,
          150000000,
          11000000,
          140000000,
          1500000,
          7000000,
          74000000,
          40000000,
          50000000,
          1600000,
          135000000,
          50000000,
          125000000,
          250000000,
          110000000,
          200000000,
          17000000,
          20000000,
          50000000,
          40000000,
          145000000,
          175000000,
          35000000,
          15000000,
          130000000,
          16000000,
          50000000,
          33000000,
          3500000,
          25000000,
          100000000,
          40000000,
          65000000,
          79000000,
          85000000,
          125000000,
          13000000,
          180000000,
          170000000,
          170000000,
          25000000,
          52000000,
          90000000,
          37000000,
          6000000,
          35000000,
          40000000,
          165000000,
          45000000,
          160000000,
          13200000,
          165000000,
          15000000,
          22000000,
          250000000,
          85000000,
          129000000,
          3000000,
          7400000,
          12500000,
          20000000,
          35000000,
          60000000,
          130000000,
          11000000,
          30000000,
          165000000,
          55000000,
          10000000,
          25000000,
          135000000,
          5000000,
          104000000,
          15000000,
          125000000,
          32000000,
          2000000,
          100000000,
          17000000,
          80000000,
          250000000,
          105000000,
          125000000,
          40000000,
          25000000,
          45000000,
          250000000,
          250000000,
          17000000,
          30000000,
          200000000,
          170000000,
          100000000,
          200000000,
          90000000,
          55000000,
          11000000,
          13000000,
          65000000,
          80000000,
          45000000,
          40000000,
          60000000,
          65000000,
          20000000,
          50000000,
          145000000,
          28000000,
          245000000,
          29000000,
          45000000,
          200000000,
          44000000,
          150000000,
          215000000,
          44000000,
          6000000,
          12000000,
          13000000,
          22000000,
          103000000,
          15000000,
          25000000,
          30000000,
          16000000,
          50000000,
          250000000,
          55000000,
          28000000,
          135000000,
          23000000,
          230000000,
          24000000,
          27000000,
          120000000,
          120000000,
          31000000,
          21000000,
          80000000,
          28000000,
          58000000,
          30000000,
          60000000,
          50000000,
          40000000,
          60000000,
          55000000,
          85000000,
          4000000,
          25000000,
          10000000,
          80000000,
          20000000,
          18000000,
          35000000,
          105000000,
          47000000,
          37500000,
          20000000,
          20000000,
          35000000,
          175000000,
          30000000,
          40000000,
          25000000,
          5000000,
          92000000,
          105000000,
          35000000,
          38000000,
          60000000,
          200000000,
          5000000,
          125000000,
          150000000,
          6000000,
          10000000,
          65000000,
          50000000,
          100000000,
          22000000,
          600000,
          25000000,
          40000000,
          37000000,
          40000000,
          68000000,
          50100000,
          100000000,
          12000000,
          40000000,
          40000000,
          15000000,
          200000000,
          1000000,
          68000000,
          40000000,
          12000000,
          70000000,
          38000000,
          130000000,
          100000000,
          35000000,
          80000000,
          38000000,
          66000000,
          185000000,
          30000000,
          110000000,
          10000000,
          62000000,
          178000000,
          16800000,
          20000000,
          175000000,
          75000000,
          165000000,
          11000000,
          150000000,
          50000000,
          10000000,
          250000000,
          225000000,
          25000000,
          38000000,
          32000000,
          12000000,
          50000000,
          6500000,
          30000000,
          75000000,
          63000000,
          94000000,
          24000000,
          42000000,
          10000000,
          25000000,
          100000000,
          130000000,
          38000000,
          22000000,
          5000000,
          42000000,
          130000000,
          125000000,
          165000000,
          127000000,
          25000000,
          155000000,
          38000000,
          30000000,
          132000000,
          30000000,
          200000000,
          217000000,
          40000000,
          28000000,
          88000000,
          100000000,
          125000000,
          55000000,
          2500000,
          12000000,
          225000000,
          65000000,
          110000000,
          20000000,
          380000000,
          160000000,
          50000000,
          20000000,
          8500000,
          58000000,
          4000000,
          35000000,
          12000000,
          29000000,
          110000000,
          30000000,
          60000000,
          200000000,
          110000000,
          9000000,
          50000000,
          8500000,
          80000000,
          66000000,
          130000000,
          155000000,
          25000000,
          30000000,
          24000000,
          100000000,
          110000000,
          35000000,
          111000000,
          6000000,
          185000000,
          10500000,
          46000000,
          140000000,
          24000000,
          15000000,
          30000000,
          75000000,
          19000000,
          25000000,
          19000000,
          18000000,
          70000000,
          69000000,
          26000000,
          30000000,
          37000000,
          1500000,
          38000000,
          37000000,
          6500000,
          32000000,
          69000000,
          13000000,
          42000000,
          28000000,
          2000000,
          17000000,
          80000000,
          45000000,
          50200000,
          56000000,
          15000000,
          16000000,
          5000000,
          20000000,
          35000000,
          38000000,
          150000000,
          30000000,
          17000000,
          115000000,
          99000000,
          20000000,
          65000000,
          12500000,
          97000000,
          130000000,
          8000000,
          15000000,
          190000000,
          19000000,
          9000000,
          36000000,
          40000000,
          100000000,
          20000000,
          49000000,
          85000000,
          40000000,
          125000000,
          70000000,
          35000000,
          9000000,
          40000000,
          75000000,
          15000000,
          65000000,
          50000000,
          36000000,
          90000000,
          95000000,
          120000000,
          1200000,
          4000000,
          170000000,
          19000000,
          20000000,
          165000000,
          420000,
          170000000,
          35000000,
          35000000,
          48000000,
          13500000,
          21000000,
          33000000,
          170000000,
          30000000,
          57000000,
          20000000,
          18000000,
          35000000,
          110000000,
          97600000,
          12000000,
          10000000,
          20000000,
          40000000,
          29900000,
          18000000,
          40000000,
          14000000,
          20000000,
          180000000,
          260000000,
          60000000,
          20000000,
          170000000,
          65000000,
          60000000,
          18000000,
          30000000,
          25000000,
          150000000,
          117000000,
          150000000,
          2500000,
          70000000,
          90000000,
          5000000,
          4800000,
          7154497,
          65000000,
          22000000,
          160000000,
          50000000,
          69000000,
          20000000,
          175000000,
          300000000,
          40000000,
          40000000,
          28000000,
          61000000,
          35000000,
          32000000,
          40000000,
          30000000,
          25000000,
          85000000,
          15000000,
          9000000,
          42000000,
          50000000,
          26000000,
          150000000,
          30000000,
          130000000,
          5000000,
          80000000,
          145000000,
          112000000,
          30000000,
          40000000,
          23000000,
          5000000,
          65000000,
          28000000,
          25000000,
          49000000,
          90000000,
          135000000,
          7000000,
          19800000,
          39000000,
          30000000,
          178000000,
          170000000,
          3730500,
          26000000,
          75000000,
          15000000,
          16000000,
          120000000,
          25000000,
          5000000,
          150000000,
          55000000,
          23000000,
          15000000,
          50000000,
          20000000,
          180000000,
          30000000,
          8500000,
          80000000,
          12000000,
          25000000,
          150000000,
          25000000,
          70000000,
          30000000,
          125000000,
          35000000,
          51000000,
          2500000,
          100000000,
          5000000,
          140000000,
          45000000,
          12000000,
          19000000,
          40000000,
          30000000,
          28000000,
          145000000,
          1000000,
          120000000,
          35000000,
          79000000,
          60000000,
          40000000,
          53000000,
          130000000,
          25000000,
          22000000,
          40000000,
          32000000,
          35000000,
          185000000,
          6000000,
          30000000,
          34000000,
          45000000,
          120000000,
          20000000,
          30000000,
          50000000,
          32000000,
          88000000,
          22000000,
          135000000,
          15000000,
          135000000,
          5000000,
          42000000,
          30000000,
          90000000,
          60000000,
          36000000,
          35000000,
          19500000,
          60000000,
          19000000,
          84000000,
          75000000,
          170000000,
          14000000,
          70000000,
          60000000,
          7200000,
          80000000,
          35000000,
          20000000,
          58000000,
          10000000,
          447524,
          150000000,
          35000000,
          19000000,
          15700000,
          25000000,
          40000000,
          100000000,
          12000000,
          16000000,
          100000000,
          22500000,
          5000000,
          40000000,
          20000000,
          50000000,
          69000000,
          29000000,
          60000000,
          250000,
          10000000,
          100000000,
          50000000,
          5000000,
          29000000,
          30000000,
          200000000,
          21000000,
          3200000,
          30000000,
          35000000,
          20000000,
          3000000,
          30000000,
          150000000,
          850000,
          90000000,
          55000000,
          110000000,
          200000,
          4000000,
          28000000,
          58000000,
          110000000,
          50000000,
          45000000,
          36000000,
          20000000,
          60000000,
          40000000,
          7000000,
          25000000,
          250000000,
          750000,
          14000000,
          110000000,
          25000000,
          8000000,
          59000000,
          25000000,
          14000000,
          48000000,
          64000000,
          10900000,
          20000000,
          25000000,
          23000000,
          9000000,
          33000000,
          70000000,
          23000000,
          40000000,
          26000000,
          24000000,
          12000000,
          12600000,
          28000000,
          35000000,
          12000000,
          30000000,
          87500000,
          28000000,
          15000000,
          52000000,
          120000000,
          209000000,
          42000000,
          5000000,
          44000000,
          9000000,
          150000000,
          4798235,
          115000000,
          13000000,
          50000000,
          75000000,
          100000000,
          185000000,
          85000000,
          18000000,
          2000000,
          120000000,
          25000000,
          140000000,
          40000000,
          1500000,
          30000000,
          40000000,
          15000000,
          150000000,
          15000000,
          10000000,
          30000000,
          35000000,
          3000000,
          55000000,
          20000000,
          20000000,
          7500000,
          22500000,
          40000000,
          18000000,
          35000000,
          45000000,
          15000000,
          8000000,
          35000000,
          85000000,
          32000000,
          10000000,
          24000000,
          75000000,
          20000000,
          60000000,
          20000000,
          103000000,
          102000000,
          3500000,
          60000000,
          177200000,
          105000000,
          60000000,
          60000000,
          69000000,
          100000000,
          138000000,
          50000000,
          35000000,
          31500000,
          25000000,
          26000000,
          130000000,
          20000000,
          34000000,
          2000000,
          40000000,
          95000000,
          12000000,
          100000000,
          25000000,
          25000000,
          65000000,
          100000000,
          25000000,
          22000000,
          10000000,
          90000000,
          45000000,
          20000000,
          30000000,
          26000000,
          110000000,
          8000000,
          50000000,
          250000000,
          50000000,
          42000000,
          14000000,
          18000000,
          40000000,
          30000000,
          20000000,
          110000000,
          95000000,
          3500000,
          8000000,
          190000000,
          43000000,
          200000000,
          30000000,
          38000000,
          82000000,
          44000000,
          50000000,
          170000000,
          10831173,
          15000000,
          7000000,
          10000000,
          250000,
          40000000,
          140000000,
          15000000,
          163000000,
          40000000,
          176000003,
          5000000,
          9000000,
          35000000,
          14000000,
          5500000,
          7000000,
          100000000,
          1500000,
          5000000,
          15000000,
          62770198,
          25000000,
          255000000,
          52000000,
          195000000,
          80000000,
          5000000,
          14000000,
          12000000,
          68000000,
          60000000,
          13000000,
          587211,
          500000,
          70000000,
          28000000,
          45000000,
          5000000,
          25000000,
          42000000,
          40000000,
          100000000,
          8000000,
          100000000,
          14000000,
          40000000,
          25000000,
          10000000,
          35000000,
          26000000,
          30000000,
          5000000,
          500000,
          35000000,
          29000000,
          50000000,
          5000000,
          35000000,
          12500000,
          15000000,
          2000000,
          32000000,
          20000000,
          5500000,
          8500000,
          70000000,
          58000000,
          175000000,
          66000000,
          25000000,
          150000000,
          40000000,
          175000000,
          12000000,
          12000000,
          20000000,
          25000000,
          17000000,
          20000000,
          70000000,
          9500000,
          50000000,
          50000000,
          43000000,
          14000000,
          8000000,
          68000000,
          30000000,
          22000000,
          24000000,
          50000000,
          10000000,
          10000000,
          35000000,
          60000000,
          75000000,
          60000000,
          14000000,
          16000000,
          20000000,
          65000000,
          55000000,
          95000000,
          11000000,
          45000000,
          2000000,
          15000000,
          5000000,
          40000000,
          5000000,
          20000000,
          25000000,
          15000000,
          20000000,
          24000000,
          6600000,
          35000000,
          30000000,
          22000000,
          26000000,
          37000000,
          8000000,
          90000000,
          10000000,
          13000000,
          38000000,
          15000000,
          40000000,
          34000000,
          8000000,
          35000000,
          2800000,
          45000000,
          20000000,
          40000000,
          15000000,
          18000000,
          80000000,
          4000000,
          55000000,
          30000000,
          10000000,
          2000000,
          25000000,
          35000000,
          10000000,
          25000000,
          650000,
          56000000,
          40000000,
          27000000,
          4000000,
          40000000,
          130000000,
          20000000,
          22000000,
          28000000,
          25000000,
          32000000,
          12000000,
          1500000,
          9000000,
          5000000,
          49900000,
          9600000,
          3000000,
          15000000,
          5000000,
          15000000,
          34000000,
          30000000,
          7000000,
          30000000,
          40000000,
          125000000,
          60000000,
          30000000,
          9000000,
          3000000,
          25000000,
          8000000,
          50000000,
          20000000,
          35000000,
          31000000,
          7000000,
          25000000,
          5000000,
          6000000,
          4900000,
          10000000,
          4000000,
          10000000,
          22000000,
          5000000,
          10000000,
          10000000,
          8500000,
          10000000,
          20000000,
          6000000,
          4000000,
          25000000,
          6500000,
          35000000,
          8000000,
          10000000,
          14350531,
          200000000,
          13300000,
          17500000,
          2000000,
          35000000,
          13000000,
          120000000,
          30000000,
          55000000,
          19000000,
          20000000,
          18500000,
          160000000,
          60000000,
          25000000,
          318000,
          18000000,
          16000000,
          8900000,
          60000000,
          25000000,
          2900000,
          6300000,
          25000000,
          4000000,
          21000000,
          22000000,
          38000000,
          30000000,
          20500000,
          10000000,
          28210303,
          12700000,
          7000000,
          39000000,
          10000000,
          25000000,
          7000000,
          17000000,
          2000000,
          28000000,
          2000000,
          21500000,
          7700000,
          8000000,
          30000000,
          70000000,
          12500000,
          15000000,
          2000000,
          3000000,
          30000000,
          8000000,
          28000000,
          12500000,
          15000000,
          19100000,
          19000000,
          20000000,
          33000000,
          30000000,
          36000000,
          70000000,
          11000000,
          6700000,
          19000000,
          44000000,
          150000000,
          50000000,
          14000000,
          4000000,
          5000000,
          8500000,
          5000000,
          8933400,
          16000000,
          47000000,
          9800000,
          8000000,
          20000000,
          15000000,
          25000000,
          7000000,
          108000000,
          17000000,
          12250000,
          500000,
          41000000,
          1000000,
          10000000,
          7500000,
          12000000,
          10000000,
          3000000,
          3500000,
          30000000,
          5000000,
          2500000,
          8500000,
          10000000,
          5000000,
          4000000,
          12000000,
          10000000,
          25000000,
          10000000,
          13000000,
          15000000,
          13000000,
          16000000,
          12000000,
          14000000,
          10000000,
          25000000,
          11500000,
          12000000,
          10000000,
          2000000,
          4000000,
          2400000,
          30000000,
          10000000,
          15000000,
          25500000,
          16000000,
          17000000,
          12500000,
          28000000,
          7000000,
          10000000,
          1000000,
          8000000,
          6000000,
          6000000,
          4000000,
          7000000,
          9500000,
          2500000,
          8000000,
          26350000,
          4500000,
          8000000,
          20000000,
          4500000,
          10000000,
          14000000,
          3000000,
          40000000,
          4000000,
          8000000,
          6000000,
          5000000,
          20000000,
          2000000,
          900000,
          3800000,
          150000000,
          144000000,
          10000000,
          1000000,
          30000000,
          13500000,
          20000000,
          30000000,
          100000000,
          135000000,
          20000000,
          16500000,
          10000000,
          40000000,
          4900000,
          55000000,
          6000000,
          5000000,
          10000000,
          7000000,
          5000000,
          25000000,
          25000000,
          185000000,
          100000000,
          2500000,
          8000000,
          5000000,
          6000000,
          4000000,
          35000000,
          2100000,
          5000000,
          22000000,
          1500000,
          12000000,
          11000000,
          160000000,
          10500000,
          125000000,
          150000000
         ],
         "xaxis": "x3",
         "yaxis": "y3"
        },
        {
         "alignmentgroup": "True",
         "customdata": [
          [
           "Logan"
          ],
          [
           "Arrival"
          ],
          [
           "The Gallows"
          ],
          [
           "Fifty Shades of Grey"
          ],
          [
           "Catfish"
          ],
          [
           "The Devil Inside"
          ],
          [
           "The Quiet Ones"
          ],
          [
           "Snow Flower and the Secret Fan"
          ],
          [
           "Searching"
          ],
          [
           "Insidious"
          ],
          [
           "Unfriended"
          ],
          [
           "Paranormal Activity 2"
          ],
          [
           "Get Out"
          ],
          [
           "The Woman in Black 2: Angel of Death"
          ],
          [
           "Paranormal Activity 3"
          ],
          [
           "Annabelle"
          ],
          [
           "The Last Exorcism"
          ],
          [
           "Like Crazy"
          ],
          [
           "Courageous"
          ],
          [
           "Split"
          ],
          [
           "Lights Out"
          ],
          [
           "The Purge"
          ],
          [
           "The King's Speech"
          ],
          [
           "Paranormal Activity 4"
          ],
          [
           "Sinister"
          ],
          [
           "Truth or Dare"
          ],
          [
           "Happy Death Day"
          ],
          [
           "Black Swan"
          ],
          [
           "Halloween"
          ],
          [
           "Dope"
          ],
          [
           "The Fault in Our Stars"
          ],
          [
           "Your Sister's Sister"
          ],
          [
           "War Room"
          ],
          [
           "The Conjuring"
          ],
          [
           "Magic Mike"
          ],
          [
           "A Haunted House"
          ],
          [
           "Ouija"
          ],
          [
           "Annabelle: Creation"
          ],
          [
           "It"
          ],
          [
           "A Quiet Place"
          ],
          [
           "A Ghost Story"
          ],
          [
           "The Visit"
          ],
          [
           "Another Earth"
          ],
          [
           "Paranormal Activity: The Marked Ones"
          ],
          [
           "Escape Room"
          ],
          [
           "Bohemian Rhapsody"
          ],
          [
           "A Beautiful Day in the Neighborhood"
          ],
          [
           "Insidious: The Last Key"
          ],
          [
           "The Imitation Game"
          ],
          [
           "Moonlight"
          ],
          [
           "Unfriended: Dark Web"
          ],
          [
           "Sleight"
          ],
          [
           "Don't Breathe"
          ],
          [
           "Minions"
          ],
          [
           "Wonder"
          ],
          [
           "Whiplash"
          ],
          [
           "Neighbors"
          ],
          [
           "La La Land"
          ],
          [
           "Hello, My Name Is Doris"
          ],
          [
           "Green Book"
          ],
          [
           "The Best Exotic Marigold Hotel"
          ],
          [
           "Deadpool"
          ],
          [
           "Life in a Day"
          ],
          [
           "2016: Obama's America"
          ],
          [
           "The Boy Next Door"
          ],
          [
           "Despicable Me 3"
          ],
          [
           "Us"
          ],
          [
           "Despicable Me 2"
          ],
          [
           "Winchester"
          ],
          [
           "The Purge: Anarchy"
          ],
          [
           "Glass"
          ],
          [
           "Ma"
          ],
          [
           "The Grace Card"
          ],
          [
           "Boyhood"
          ],
          [
           "A Star Is Born"
          ],
          [
           "Grandma"
          ],
          [
           "The Purge: Election Year"
          ],
          [
           "The Gift"
          ],
          [
           "Beasts of the Southern Wild"
          ],
          [
           "Lion"
          ],
          [
           "The Lazarus Effect"
          ],
          [
           "The Secret Life of Pets"
          ],
          [
           "The Witch"
          ],
          [
           "Lucy"
          ],
          [
           "47 Meters Down"
          ],
          [
           "Silver Linings Playbook"
          ],
          [
           "Insidious: Chapter 3"
          ],
          [
           "The Big Sick"
          ],
          [
           "Jurassic World"
          ],
          [
           "Dallas Buyers Club"
          ],
          [
           "Ted"
          ],
          [
           "No Escape"
          ],
          [
           "It Follows"
          ],
          [
           "Harry Potter and the Deathly Hallows: Part 2"
          ],
          [
           "Bad Teacher"
          ],
          [
           "Jumanji: Welcome to the Jungle"
          ],
          [
           "The Sessions"
          ],
          [
           "Call Me by Your Name"
          ],
          [
           "The First Purge"
          ],
          [
           "Book Club"
          ],
          [
           "Me Before You"
          ],
          [
           "The Twilight Saga: Eclipse"
          ],
          [
           "Jigsaw"
          ],
          [
           "The Maze Runner"
          ],
          [
           "Bellflower"
          ],
          [
           "Monsters"
          ],
          [
           "Jackass Presents: Bad Grandpa"
          ],
          [
           "Meet the Blacks"
          ],
          [
           "The Shape of Water"
          ],
          [
           "The Kids Are All Right"
          ],
          [
           "Pitch Perfect 2"
          ],
          [
           "Mama"
          ],
          [
           "Buried"
          ],
          [
           "Frozen II"
          ],
          [
           "Ready or Not"
          ],
          [
           "Downton Abbey"
          ],
          [
           "Unsane"
          ],
          [
           "Hidden Figures"
          ],
          [
           "Easy A"
          ],
          [
           "12 Years a Slave"
          ],
          [
           "A Dog's Purpose"
          ],
          [
           "American Sniper"
          ],
          [
           "The Hunger Games"
          ],
          [
           "Ice Age: Continental Drift"
          ],
          [
           "Bad Moms"
          ],
          [
           "Ouija: Origin of Evil"
          ],
          [
           "Hunt for the Wilderpeople"
          ],
          [
           "The Karate Kid"
          ],
          [
           "Blair Witch"
          ],
          [
           "The Artist"
          ],
          [
           "Still Alice"
          ],
          [
           "The Iron Lady"
          ],
          [
           "Oculus"
          ],
          [
           "The Descendants"
          ],
          [
           "Bridesmaids"
          ],
          [
           "Manchester by the Sea"
          ],
          [
           "The Help"
          ],
          [
           "Jackass 3D"
          ],
          [
           "The Second Best Exotic Marigold Hotel"
          ],
          [
           "Project X"
          ],
          [
           "Sing"
          ],
          [
           "Chronicle"
          ],
          [
           "Heaven Is for Real"
          ],
          [
           "As Above, So Below"
          ],
          [
           "Philomena"
          ],
          [
           "Taken 2"
          ],
          [
           "I Am Not Your Negro"
          ],
          [
           "Silent House"
          ],
          [
           "The Theory of Everything"
          ],
          [
           "Dirty Grandpa"
          ],
          [
           "Tangerine"
          ],
          [
           "Let's Be Cops"
          ],
          [
           "Think Like a Man"
          ],
          [
           "The Conjuring 2"
          ],
          [
           "Furious 7"
          ],
          [
           "Hereditary"
          ],
          [
           "Crazy Rich Asians"
          ],
          [
           "Dark Skies"
          ],
          [
           "Magic Mike XXL"
          ],
          [
           "Begin Again"
          ],
          [
           "Avengers: Endgame"
          ],
          [
           "End of Watch"
          ],
          [
           "Paranormal Activity: The Ghost Dimension"
          ],
          [
           "Hustlers"
          ],
          [
           "Despicable Me"
          ],
          [
           "Resident Evil: The Final Chapter"
          ],
          [
           "The Lego Movie"
          ],
          [
           "Knives Out"
          ],
          [
           "Loving Vincent"
          ],
          [
           "Annabelle Comes Home"
          ],
          [
           "Justin Bieber: Never Say Never"
          ],
          [
           "The Woman in Black"
          ],
          [
           "Overboard"
          ],
          [
           "Captain Marvel"
          ],
          [
           "Countdown"
          ],
          [
           "Girls Trip"
          ],
          [
           "Sausage Party"
          ],
          [
           "10 Cloverfield Lane"
          ],
          [
           "The Hangover Part II"
          ],
          [
           "Venom"
          ],
          [
           "We're the Millers"
          ],
          [
           "About Time"
          ],
          [
           "Les Misérables"
          ],
          [
           "Happy Death Day 2U"
          ],
          [
           "Aquaman"
          ],
          [
           "Straight Outta Compton"
          ],
          [
           "K-12"
          ],
          [
           "Paper Towns"
          ],
          [
           "Show Dogs"
          ],
          [
           "Love & Friendship"
          ],
          [
           "Spider-Man: Far from Home"
          ],
          [
           "If I Stay"
          ],
          [
           "Peter Rabbit"
          ],
          [
           "The Shallows"
          ],
          [
           "Before Midnight"
          ],
          [
           "Fifty Shades Darker"
          ],
          [
           "Chimpanzee"
          ],
          [
           "Gravity"
          ],
          [
           "Winter's Bone"
          ],
          [
           "Lowriders"
          ],
          [
           "The Twilight Saga: Breaking Dawn - Part 2"
          ],
          [
           "The Avengers"
          ],
          [
           "Act of Valor"
          ],
          [
           "Avengers: Infinity War"
          ],
          [
           "Taken 3"
          ],
          [
           "The Grinch"
          ],
          [
           "Crawl"
          ],
          [
           "Pitch Perfect"
          ],
          [
           "Zootopia"
          ],
          [
           "Black Panther"
          ],
          [
           "Fifty Shades Freed"
          ],
          [
           "Skyline"
          ],
          [
           "Deadpool 2"
          ],
          [
           "The Hunger Games: Catching Fire"
          ],
          [
           "Baby Driver"
          ],
          [
           "True Grit"
          ],
          [
           "Hotel Transylvania 3: Summer Vacation"
          ],
          [
           "22 Jump Street"
          ],
          [
           "The Vow"
          ],
          [
           "The Twilight Saga: Breaking Dawn - Part 1"
          ],
          [
           "Jojo Rabbit"
          ],
          [
           "The Boy"
          ],
          [
           "House at the End of the Street"
          ],
          [
           "Murder on the Orient Express"
          ],
          [
           "The Favourite"
          ],
          [
           "Johnny English Strikes Again"
          ],
          [
           "Jumanji: The Next Level"
          ],
          [
           "Logan"
          ],
          [
           "The Lion King"
          ],
          [
           "Four Lions"
          ],
          [
           "A Haunted House 2"
          ],
          [
           "Spring Breakers"
          ],
          [
           "American Hustle"
          ],
          [
           "Devil"
          ],
          [
           "BlacKkKlansman"
          ],
          [
           "Incredibles 2"
          ],
          [
           "Ride Along"
          ],
          [
           "Everything, Everything"
          ],
          [
           "Gifted"
          ],
          [
           "Toy Story 4"
          ],
          [
           "The Ides of March"
          ],
          [
           "The Possession"
          ],
          [
           "Bridget Jones's Baby"
          ],
          [
           "Iron Man 3"
          ],
          [
           "The Hunger Games: Mockingjay - Part 1"
          ],
          [
           "Gone Girl"
          ],
          [
           "It Chapter Two"
          ],
          [
           "Limitless"
          ],
          [
           "Horrible Bosses"
          ],
          [
           "No Strings Attached"
          ],
          [
           "John Wick: Chapter 3 - Parabellum"
          ],
          [
           "Hotel Transylvania 2"
          ],
          [
           "Room"
          ],
          [
           "Yesterday"
          ],
          [
           "Safety Not Guaranteed"
          ],
          [
           "The Hitman's Bodyguard"
          ],
          [
           "Looper"
          ],
          [
           "20 Feet from Stardom"
          ],
          [
           "The Martian"
          ],
          [
           "Jumping the Broom"
          ],
          [
           "The Grand Budapest Hotel"
          ],
          [
           "Aladdin"
          ],
          [
           "Transformers: Dark of the Moon"
          ],
          [
           "Evil Dead"
          ],
          [
           "Birdman or (The Unexpected Virtue of Ignorance)"
          ],
          [
           "That Awkward Moment"
          ],
          [
           "Cinderella"
          ],
          [
           "Paddington 2"
          ],
          [
           "Brooklyn"
          ],
          [
           "The Social Network"
          ],
          [
           "Avengers: Age of Ultron"
          ],
          [
           "Nightcrawler"
          ],
          [
           "Woman in Gold"
          ],
          [
           "The Possession of Hannah Grace"
          ],
          [
           "Margin Call"
          ],
          [
           "Late Night"
          ],
          [
           "Good Boys"
          ],
          [
           "Skyfall"
          ],
          [
           "The Intern"
          ],
          [
           "Wonder Woman"
          ],
          [
           "The Jungle Book"
          ],
          [
           "Brightburn"
          ],
          [
           "The Florida Project"
          ],
          [
           "My Week with Marilyn"
          ],
          [
           "An Inconvenient Sequel: Truth to Power"
          ],
          [
           "Movie 43"
          ],
          [
           "Gnomeo & Juliet"
          ],
          [
           "Rio"
          ],
          [
           "The Secret Life of Pets 2"
          ],
          [
           "Pet Sematary"
          ],
          [
           "The Heat"
          ],
          [
           "Toy Story 3"
          ],
          [
           "Sinister 2"
          ],
          [
           "Midsommar"
          ],
          [
           "Step Up 3D"
          ],
          [
           "Rogue One: A Star Wars Story"
          ],
          [
           "Transformers: Age of Extinction"
          ],
          [
           "Devil's Due"
          ],
          [
           "The Call"
          ],
          [
           "Mamma Mia! Here We Go Again"
          ],
          [
           "Apollo 18"
          ],
          [
           "Little Women"
          ],
          [
           "Super 8"
          ],
          [
           "Argo"
          ],
          [
           "Flight"
          ],
          [
           "Inception"
          ],
          [
           "The Greatest Showman"
          ],
          [
           "Rise of the Planet of the Apes"
          ],
          [
           "Paul, Apostle of Christ"
          ],
          [
           "Slender Man"
          ],
          [
           "Madagascar 3: Europe's Most Wanted"
          ],
          [
           "Our Idiot Brother"
          ],
          [
           "Finding Dory"
          ],
          [
           "The DUFF"
          ],
          [
           "The Babadook"
          ],
          [
           "The Fighter"
          ],
          [
           "Maze Runner: The Scorch Trials"
          ],
          [
           "Kingsman: The Secret Service"
          ],
          [
           "50/50"
          ],
          [
           "Alice in Wonderland"
          ],
          [
           "Drive"
          ],
          [
           "Paddington"
          ],
          [
           "The Smurfs"
          ],
          [
           "Midnight in Paris"
          ],
          [
           "The Addams Family"
          ],
          [
           "Life of Pi"
          ],
          [
           "Diary of a Wimpy Kid"
          ],
          [
           "Race"
          ],
          [
           "The Perfect Guy"
          ],
          [
           "My Big Fat Greek Wedding 2"
          ],
          [
           "Tammy"
          ],
          [
           "Spider-Man: Homecoming"
          ],
          [
           "Darkest Hour"
          ],
          [
           "Fast Five"
          ],
          [
           "Resident Evil: Afterlife"
          ],
          [
           "Identity Thief"
          ],
          [
           "The Lorax"
          ],
          [
           "The Fate of the Furious"
          ],
          [
           "Spotlight"
          ],
          [
           "Fast & Furious 6"
          ],
          [
           "I, Tonya"
          ],
          [
           "Inside Out"
          ],
          [
           "God's Not Dead 2"
          ],
          [
           "Rocketman"
          ],
          [
           "A Simple Favor"
          ],
          [
           "The Shack"
          ],
          [
           "Daddy's Home"
          ],
          [
           "Rio 2"
          ],
          [
           "The Angry Birds Movie"
          ],
          [
           "Last Vegas"
          ],
          [
           "21 Jump Street"
          ],
          [
           "Planes"
          ],
          [
           "Mission: Impossible - Ghost Protocol"
          ],
          [
           "Parental Guidance"
          ],
          [
           "The Big Short"
          ],
          [
           "Thor: Ragnarok"
          ],
          [
           "Now You See Me"
          ],
          [
           "Creed"
          ],
          [
           "American Reunion"
          ],
          [
           "A Walk in the Woods"
          ],
          [
           "A Bad Moms Christmas"
          ],
          [
           "Forever My Girl"
          ],
          [
           "Maze Runner: The Death Cure"
          ],
          [
           "Miracles from Heaven"
          ],
          [
           "Source Code"
          ],
          [
           "Captain America: Civil War"
          ],
          [
           "Coco"
          ],
          [
           "Dear John"
          ],
          [
           "Shazam!"
          ],
          [
           "Alvin and the Chipmunks: Chipwrecked"
          ],
          [
           "Shrek Forever After"
          ],
          [
           "Captain Fantastic"
          ],
          [
           "Guardians of the Galaxy"
          ],
          [
           "Mission: Impossible - Rogue Nation"
          ],
          [
           "Fantastic Beasts and Where to Find Them"
          ],
          [
           "Second Act"
          ],
          [
           "Hansel & Gretel: Witch Hunters"
          ],
          [
           "The Lighthouse"
          ],
          [
           "Unknown"
          ],
          [
           "Hacksaw Ridge"
          ],
          [
           "Child's Play"
          ],
          [
           "A Dog's Way Home"
          ],
          [
           "Nerve"
          ],
          [
           "Blockers"
          ],
          [
           "Non-Stop"
          ],
          [
           "Beginners"
          ],
          [
           "Mission: Impossible - Fallout"
          ],
          [
           "Kung Fu Panda 2"
          ],
          [
           "Mother's Day"
          ],
          [
           "Ant-Man and the Wasp"
          ],
          [
           "Southside with You"
          ],
          [
           "Norm of the North"
          ],
          [
           "The SpongeBob Movie: Sponge Out of Water"
          ],
          [
           "In Time"
          ],
          [
           "Central Intelligence"
          ],
          [
           "What We Do in the Shadows"
          ],
          [
           "The Croods"
          ],
          [
           "The Emoji Movie"
          ],
          [
           "Sherlock Holmes: A Game of Shadows"
          ],
          [
           "The Dark Knight Rises"
          ],
          [
           "San Andreas"
          ],
          [
           "Guardians of the Galaxy Vol. 2"
          ],
          [
           "The Best Man Holiday"
          ],
          [
           "John Wick"
          ],
          [
           "Creed II"
          ],
          [
           "John Wick: Chapter 2"
          ],
          [
           "How to Train Your Dragon 2"
          ],
          [
           "Suicide Squad"
          ],
          [
           "Friends with Benefits"
          ],
          [
           "The Danish Girl"
          ],
          [
           "Puss in Boots"
          ],
          [
           "Moonrise Kingdom"
          ],
          [
           "Into the Woods"
          ],
          [
           "Step Up Revolution"
          ],
          [
           "Blue Valentine"
          ],
          [
           "Shaun the Sheep Movie"
          ],
          [
           "Django Unchained"
          ],
          [
           "Dumb and Dumber To"
          ],
          [
           "Lincoln"
          ],
          [
           "Journey 2: The Mysterious Island"
          ],
          [
           "Hotel Transylvania"
          ],
          [
           "The Boss Baby"
          ],
          [
           "St. Vincent"
          ],
          [
           "Maleficent"
          ],
          [
           "Captain America: The Winter Soldier"
          ],
          [
           "Dawn of the Planet of the Apes"
          ],
          [
           "Scary Stories to Tell in the Dark"
          ],
          [
           "Valentine's Day"
          ],
          [
           "Spider-Man: Into the Spider-Verse"
          ],
          [
           "The Town"
          ],
          [
           "Booksmart"
          ],
          [
           "The Foreigner"
          ],
          [
           "Bridge of Spies"
          ],
          [
           "Doctor Strange"
          ],
          [
           "Pitch Perfect 3"
          ],
          [
           "The Hunger Games: Mockingjay - Part 2"
          ],
          [
           "No Good Deed"
          ],
          [
           "Interstellar"
          ],
          [
           "Krampus"
          ],
          [
           "The Hundred-Foot Journey"
          ],
          [
           "The Hobbit: An Unexpected Journey"
          ],
          [
           "xXx: Return of Xander Cage"
          ],
          [
           "How to Train Your Dragon: The Hidden World"
          ],
          [
           "Bachelorette"
          ],
          [
           "The Bye Bye Man"
          ],
          [
           "About Last Night"
          ],
          [
           "Vampires Suck"
          ],
          [
           "Trainwreck"
          ],
          [
           "Sully"
          ],
          [
           "Ant-Man"
          ],
          [
           "Wind River"
          ],
          [
           "The Commuter"
          ],
          [
           "Big Hero 6"
          ],
          [
           "Captain Phillips"
          ],
          [
           "The Forest"
          ],
          [
           "The Lucky One"
          ],
          [
           "The Revenant"
          ],
          [
           "It Comes at Night"
          ],
          [
           "Kingsman: The Golden Circle"
          ],
          [
           "One Day"
          ],
          [
           "Clash of the Titans"
          ],
          [
           "This Is the End"
          ],
          [
           "Inside Job"
          ],
          [
           "The Wolf of Wall Street"
          ],
          [
           "Love, Simon"
          ],
          [
           "The Lego Batman Movie"
          ],
          [
           "Harry Potter and the Deathly Hallows: Part 1"
          ],
          [
           "Ice Age: Collision Course"
          ],
          [
           "Teenage Mutant Ninja Turtles"
          ],
          [
           "Lone Survivor"
          ],
          [
           "Contraband"
          ],
          [
           "The Girl on the Train"
          ],
          [
           "The Hobbit: The Desolation of Smaug"
          ],
          [
           "The Hobbit: The Battle of the Five Armies"
          ],
          [
           "God's Not Dead"
          ],
          [
           "Hope Springs"
          ],
          [
           "Fast & Furious Presents: Hobbs & Shaw"
          ],
          [
           "Thor: The Dark World"
          ],
          [
           "1917"
          ],
          [
           "Monsters University"
          ],
          [
           "Now You See Me 2"
          ],
          [
           "Everest"
          ],
          [
           "Fighting with My Family"
          ],
          [
           "21 & Over"
          ],
          [
           "Resident Evil: Retribution"
          ],
          [
           "Shutter Island"
          ],
          [
           "The Muppets"
          ],
          [
           "Angel Has Fallen"
          ],
          [
           "Jack Reacher"
          ],
          [
           "Spy"
          ],
          [
           "What Men Want"
          ],
          [
           "The Post"
          ],
          [
           "Kung Fu Panda 3"
          ],
          [
           "Alexander and the Terrible, Horrible, No Good, Very Bad Day"
          ],
          [
           "Spectre"
          ],
          [
           "Night School"
          ],
          [
           "Johnny English Reborn"
          ],
          [
           "The Amazing Spider-Man 2"
          ],
          [
           "The Hateful Eight"
          ],
          [
           "The Meg"
          ],
          [
           "The Amazing Spider-Man"
          ],
          [
           "The Accountant"
          ],
          [
           "The Prodigy"
          ],
          [
           "Jobs"
          ],
          [
           "Earth to Echo"
          ],
          [
           "Diary of a Wimpy Kid: Dog Days"
          ],
          [
           "The Hangover Part III"
          ],
          [
           "Wild"
          ],
          [
           "Pain & Gain"
          ],
          [
           "Sisters"
          ],
          [
           "Remember Me"
          ],
          [
           "The Mule"
          ],
          [
           "Batman v Superman: Dawn of Justice"
          ],
          [
           "The Equalizer"
          ],
          [
           "Safe Haven"
          ],
          [
           "Bumblebee"
          ],
          [
           "The Wedding Ringer"
          ],
          [
           "Pirates of the Caribbean: Dead Men Tell No Tales"
          ],
          [
           "Piranha 3D"
          ],
          [
           "Money Monster"
          ],
          [
           "Jason Bourne"
          ],
          [
           "The Wolverine"
          ],
          [
           "Vacation"
          ],
          [
           "Diary of a Wimpy Kid: Rodrick Rules"
          ],
          [
           "The Expendables"
          ],
          [
           "Kick-Ass"
          ],
          [
           "RED"
          ],
          [
           "Love & Other Drugs"
          ],
          [
           "London Has Fallen"
          ],
          [
           "Anchorman 2: The Legend Continues"
          ],
          [
           "The Bounty Hunter"
          ],
          [
           "Eat Pray Love"
          ],
          [
           "Mr. Popper's Penguins"
          ],
          [
           "Divergent"
          ],
          [
           "Sing Street"
          ],
          [
           "Going in Style"
          ],
          [
           "The Good Liar"
          ],
          [
           "Grown Ups"
          ],
          [
           "The American"
          ],
          [
           "127 Hours"
          ],
          [
           "Saving Mr. Banks"
          ],
          [
           "The Great Gatsby"
          ],
          [
           "Final Destination 5"
          ],
          [
           "The Upside"
          ],
          [
           "Selma"
          ],
          [
           "Madea's Witness Protection"
          ],
          [
           "Warm Bodies"
          ],
          [
           "Ready Player One"
          ],
          [
           "Atomic Blonde"
          ],
          [
           "Zero Dark Thirty"
          ],
          [
           "Rings"
          ],
          [
           "Upgrade"
          ],
          [
           "A Good Day to Die Hard"
          ],
          [
           "The Smurfs 2"
          ],
          [
           "A Nightmare on Elm Street"
          ],
          [
           "Captain Underpants: The First Epic Movie"
          ],
          [
           "Smurfs: The Lost Village"
          ],
          [
           "Fantastic Beasts: The Crimes of Grindelwald"
          ],
          [
           "Before I Fall"
          ],
          [
           "The Mummy"
          ],
          [
           "War for the Planet of the Apes"
          ],
          [
           "The Guard"
          ],
          [
           "Mud"
          ],
          [
           "Due Date"
          ],
          [
           "Into the Storm"
          ],
          [
           "Robin Hood"
          ],
          [
           "Son of God"
          ],
          [
           "Old Fashioned"
          ],
          [
           "The Grey"
          ],
          [
           "Blended"
          ],
          [
           "Game Night"
          ],
          [
           "Predators"
          ],
          [
           "Ted 2"
          ],
          [
           "Focus"
          ],
          [
           "The Expendables 2"
          ],
          [
           "Hell or High Water"
          ],
          [
           "Sex Tape"
          ],
          [
           "Mechanic: Resurrection"
          ],
          [
           "The Place Beyond the Pines"
          ],
          [
           "Iron Man 2"
          ],
          [
           "In a World..."
          ],
          [
           "Fury"
          ],
          [
           "Ride Along 2"
          ],
          [
           "Home Again"
          ],
          [
           "Dracula Untold"
          ],
          [
           "Why Him?"
          ],
          [
           "Prometheus"
          ],
          [
           "Little Fockers"
          ],
          [
           "Neighbors 2: Sorority Rising"
          ],
          [
           "Grown Ups 2"
          ],
          [
           "Water for Elephants"
          ],
          [
           "Need for Speed"
          ],
          [
           "Kong: Skull Island"
          ],
          [
           "Southpaw"
          ],
          [
           "300: Rise of an Empire"
          ],
          [
           "When the Bough Breaks"
          ],
          [
           "The Equalizer 2"
          ],
          [
           "X-Men: Apocalypse"
          ],
          [
           "Magic in the Moonlight"
          ],
          [
           "Why Did I Get Married Too?"
          ],
          [
           "Ralph Breaks the Internet"
          ],
          [
           "Immortals"
          ],
          [
           "How to Train Your Dragon"
          ],
          [
           "Inside Llewyn Davis"
          ],
          [
           "Thor"
          ],
          [
           "I Am Number Four"
          ],
          [
           "The Disaster Artist"
          ],
          [
           "X-Men: Days of Future Past"
          ],
          [
           "Man of Steel"
          ],
          [
           "August: Osage County"
          ],
          [
           "How to Be Single"
          ],
          [
           "I Feel Pretty"
          ],
          [
           "Arbitrage"
          ],
          [
           "Planes: Fire & Rescue"
          ],
          [
           "Shame"
          ],
          [
           "Deliver Us from Evil"
          ],
          [
           "Inferno"
          ],
          [
           "Hop"
          ],
          [
           "Tomb Raider"
          ],
          [
           "Think Like a Man Too"
          ],
          [
           "Zombieland: Double Tap"
          ],
          [
           "Big Eyes"
          ],
          [
           "The Transporter Refueled"
          ],
          [
           "Sex and the City 2"
          ],
          [
           "G.I. Joe: Retaliation"
          ],
          [
           "The 5th Wave"
          ],
          [
           "Hail, Caesar!"
          ],
          [
           "America: Imagine the World Without Her"
          ],
          [
           "The Nut Job"
          ],
          [
           "The Adventures of Tintin"
          ],
          [
           "Noah"
          ],
          [
           "Wreck-It Ralph"
          ],
          [
           "Night at the Museum: Secret of the Tomb"
          ],
          [
           "The Counselor"
          ],
          [
           "Terminator Genisys"
          ],
          [
           "Paul Blart: Mall Cop 2"
          ],
          [
           "Sicario"
          ],
          [
           "Penguins of Madagascar"
          ],
          [
           "Carrie"
          ],
          [
           "Cars 2"
          ],
          [
           "Transformers: The Last Knight"
          ],
          [
           "Get Hard"
          ],
          [
           "Tag"
          ],
          [
           "Pixels"
          ],
          [
           "The Tourist"
          ],
          [
           "Trolls"
          ],
          [
           "Date Night"
          ],
          [
           "The Spectacular Now"
          ],
          [
           "Project Almanac"
          ],
          [
           "Men in Black 3"
          ],
          [
           "The Dictator"
          ],
          [
           "Passengers"
          ],
          [
           "Barbershop: The Next Cut"
          ],
          [
           "Pirates of the Caribbean: On Stranger Tides"
          ],
          [
           "Warcraft"
          ],
          [
           "Escape Plan"
          ],
          [
           "The Crazies"
          ],
          [
           "Middle School: The Worst Years of My Life"
          ],
          [
           "Goosebumps"
          ],
          [
           "The Darkness"
          ],
          [
           "Poltergeist"
          ],
          [
           "Katy Perry: Part of Me"
          ],
          [
           "The Boss"
          ],
          [
           "Real Steel"
          ],
          [
           "Tinker Tailor Soldier Spy"
          ],
          [
           "Jack Reacher: Never Go Back"
          ],
          [
           "World War Z"
          ],
          [
           "Miss Peregrine's Home for Peculiar Children"
          ],
          [
           "Jackie"
          ],
          [
           "American Made"
          ],
          [
           "Baggage Claim"
          ],
          [
           "Just Go with It"
          ],
          [
           "War Horse"
          ],
          [
           "Mary Poppins Returns"
          ],
          [
           "The Chronicles of Narnia: The Voyage of the Dawn Treader"
          ],
          [
           "The Giver"
          ],
          [
           "Den of Thieves"
          ],
          [
           "Fences"
          ],
          [
           "Epic"
          ],
          [
           "Salt"
          ],
          [
           "Goosebumps 2: Haunted Halloween"
          ],
          [
           "Ferdinand"
          ],
          [
           "The Words"
          ],
          [
           "Maleficent: Mistress of Evil"
          ],
          [
           "The Beguiled"
          ],
          [
           "Prisoners"
          ],
          [
           "Captain America: The First Avenger"
          ],
          [
           "Footloose"
          ],
          [
           "The November Man"
          ],
          [
           "Letters to Juliet"
          ],
          [
           "Christopher Robin"
          ],
          [
           "Uncut Gems"
          ],
          [
           "The Age of Adaline"
          ],
          [
           "The Switch"
          ],
          [
           "Soul Surfer"
          ],
          [
           "Storks"
          ],
          [
           "Daddy's Home 2"
          ],
          [
           "Legion"
          ],
          [
           "The Family"
          ],
          [
           "The Rite"
          ],
          [
           "The To Do List"
          ],
          [
           "Riddick"
          ],
          [
           "Dolphin Tale"
          ],
          [
           "The Pyramid"
          ],
          [
           "Big Mommas: Like Father, Like Son"
          ],
          [
           "Baywatch"
          ],
          [
           "The Perks of Being a Wallflower"
          ],
          [
           "Horrible Bosses 2"
          ],
          [
           "Brick Mansions"
          ],
          [
           "Locke"
          ],
          [
           "Beastly"
          ],
          [
           "Yogi Bear"
          ],
          [
           "Office Christmas Party"
          ],
          [
           "The Adjustment Bureau"
          ],
          [
           "New Year's Eve"
          ],
          [
           "Killing Them Softly"
          ],
          [
           "The Roommate"
          ],
          [
           "The Green Inferno"
          ],
          [
           "Alpha and Omega"
          ],
          [
           "This Is 40"
          ],
          [
           "Rush"
          ],
          [
           "Mad Max: Fury Road"
          ],
          [
           "Larry Crowne"
          ],
          [
           "Love the Coopers"
          ],
          [
           "Elysium"
          ],
          [
           "The Peanuts Movie"
          ],
          [
           "She's Out of My League"
          ],
          [
           "Unbroken"
          ],
          [
           "The Strangers: Prey at Night"
          ],
          [
           "Alien: Covenant"
          ],
          [
           "Megamind"
          ],
          [
           "Another Year"
          ],
          [
           "Ex Machina"
          ],
          [
           "Star Trek Into Darkness"
          ],
          [
           "Uncle Drew"
          ],
          [
           "The Glass Castle"
          ],
          [
           "Collateral Beauty"
          ],
          [
           "Paul"
          ],
          [
           "Hercules"
          ],
          [
           "Little"
          ],
          [
           "Dora and the Lost City of Gold"
          ],
          [
           "Safe House"
          ],
          [
           "42"
          ],
          [
           "Skyscraper"
          ],
          [
           "Olympus Has Fallen"
          ],
          [
           "J. Edgar"
          ],
          [
           "Black or White"
          ],
          [
           "Scream 4"
          ],
          [
           "Abominable"
          ],
          [
           "A Most Wanted Man"
          ],
          [
           "This Means War"
          ],
          [
           "We Bought a Zoo"
          ],
          [
           "Hall Pass"
          ],
          [
           "The Expendables 3"
          ],
          [
           "Percy Jackson & the Olympians: The Lightning Thief"
          ],
          [
           "Oblivion"
          ],
          [
           "Home Run"
          ],
          [
           "Traffik"
          ],
          [
           "Alita: Battle Angel"
          ],
          [
           "Flatliners"
          ],
          [
           "Rough Night"
          ],
          [
           "Independence Day: Resurgence"
          ],
          [
           "Blue Ruin"
          ],
          [
           "TRON: Legacy"
          ],
          [
           "Hitman: Agent 47"
          ],
          [
           "Abduction"
          ],
          [
           "Tooth Fairy"
          ],
          [
           "Super Troopers 2"
          ],
          [
           "Death at a Funeral"
          ],
          [
           "Mike and Dave Need Wedding Dates"
          ],
          [
           "Snow White and the Huntsman"
          ],
          [
           "The Cabin in the Woods"
          ],
          [
           "Ghost Rider: Spirit of Vengeance"
          ],
          [
           "Risen"
          ],
          [
           "T2 Trainspotting"
          ],
          [
           "Underworld: Blood Wars"
          ],
          [
           "Men in Black: International"
          ],
          [
           "Ford v Ferrari"
          ],
          [
           "Nebraska"
          ],
          [
           "The Choice"
          ],
          [
           "The World's End"
          ],
          [
           "Get Him to the Greek"
          ],
          [
           "Playing with Fire"
          ],
          [
           "Ricki and the Flash"
          ],
          [
           "Season of the Witch"
          ],
          [
           "Suffragette"
          ],
          [
           "The Debt"
          ],
          [
           "Pacific Rim"
          ],
          [
           "Tangled"
          ],
          [
           "Contagion"
          ],
          [
           "Machete"
          ],
          [
           "Godzilla: King of the Monsters"
          ],
          [
           "The Angry Birds Movie 2"
          ],
          [
           "Jack Ryan: Shadow Recruit"
          ],
          [
           "The Circle"
          ],
          [
           "The Next Three Days"
          ],
          [
           "The Odd Life of Timothy Green"
          ],
          [
           "Prince of Persia: The Sands of Time"
          ],
          [
           "Knight and Day"
          ],
          [
           "The Great Wall"
          ],
          [
           "Knock Knock"
          ],
          [
           "The Monuments Men"
          ],
          [
           "Percy Jackson: Sea of Monsters"
          ],
          [
           "The Belko Experiment"
          ],
          [
           "Only God Forgives"
          ],
          [
           "Finding Your Feet"
          ],
          [
           "Pete's Dragon"
          ],
          [
           "Homefront"
          ],
          [
           "X-Men: First Class"
          ],
          [
           "Moneyball"
          ],
          [
           "Red Sparrow"
          ],
          [
           "Max"
          ],
          [
           "Cars 3"
          ],
          [
           "Justice League"
          ],
          [
           "A Million Ways to Die in the West"
          ],
          [
           "The Lincoln Lawyer"
          ],
          [
           "Kick-Ass 2"
          ],
          [
           "2 Guns"
          ],
          [
           "Sicario: Day of the Soldado"
          ],
          [
           "Takers"
          ],
          [
           "War Dogs"
          ],
          [
           "The Darkest Hour"
          ],
          [
           "Peppermint"
          ],
          [
           "Mirror Mirror"
          ],
          [
           "Seven Psychopaths"
          ],
          [
           "The Edge of Seventeen"
          ],
          [
           "Red Riding Hood"
          ],
          [
           "Hereafter"
          ],
          [
           "Lawless"
          ],
          [
           "The Last Airbender"
          ],
          [
           "Hanna"
          ],
          [
           "The Bourne Legacy"
          ],
          [
           "My Old Lady"
          ],
          [
           "Zookeeper"
          ],
          [
           "Rise of the Guardians"
          ],
          [
           "Gulliver's Travels"
          ],
          [
           "Side Effects"
          ],
          [
           "What to Expect When You're Expecting"
          ],
          [
           "Her"
          ],
          [
           "Moms' Night Out"
          ],
          [
           "Annie"
          ],
          [
           "A Walk Among the Tombstones"
          ],
          [
           "The Night Before"
          ],
          [
           "Chappie"
          ],
          [
           "The Secret Life of Walter Mitty"
          ],
          [
           "Turbo"
          ],
          [
           "Beyond the Lights"
          ],
          [
           "This Is Where I Leave You"
          ],
          [
           "Frankenweenie"
          ],
          [
           "Runner Runner"
          ],
          [
           "Edge of Tomorrow"
          ],
          [
           "Dumbo"
          ],
          [
           "The Sweeney"
          ],
          [
           "Delivery Man"
          ],
          [
           "Tower Heist"
          ],
          [
           "A Dangerous Method"
          ],
          [
           "Stuber"
          ],
          [
           "RoboCop"
          ],
          [
           "Just Mercy"
          ],
          [
           "Bernie"
          ],
          [
           "Wrath of the Titans"
          ],
          [
           "Free Birds"
          ],
          [
           "Eddie the Eagle"
          ],
          [
           "When the Game Stands Tall"
          ],
          [
           "The Book of Life"
          ],
          [
           "Monte Carlo"
          ],
          [
           "The Legend of Tarzan"
          ],
          [
           "Molly's Game"
          ],
          [
           "The Birth of a Nation"
          ],
          [
           "The Book of Eli"
          ],
          [
           "Wish Upon"
          ],
          [
           "Mother's Day"
          ],
          [
           "Pacific Rim: Uprising"
          ],
          [
           "Boo 2! A Madea Halloween"
          ],
          [
           "Wall Street: Money Never Sleeps"
          ],
          [
           "Nine Lives"
          ],
          [
           "Assassin's Creed"
          ],
          [
           "12 Strong"
          ],
          [
           "Alpha"
          ],
          [
           "Robot & Frank"
          ],
          [
           "The Lego Movie 2: The Second Part"
          ],
          [
           "Paterson"
          ],
          [
           "Exodus: Gods and Kings"
          ],
          [
           "Step Up All In"
          ],
          [
           "Young Adult"
          ],
          [
           "A Very Harold & Kumar Christmas"
          ],
          [
           "The Mechanic"
          ],
          [
           "The 15:17 to Paris"
          ],
          [
           "3 Days to Kill"
          ],
          [
           "Mr. Peabody & Sherman"
          ],
          [
           "Frank"
          ],
          [
           "The Green Hornet"
          ],
          [
           "Mile 22"
          ],
          [
           "Jack and Jill"
          ],
          [
           "The Dark Tower"
          ],
          [
           "The Spy Who Dumped Me"
          ],
          [
           "Black Mass"
          ],
          [
           "After Earth"
          ],
          [
           "Mary Queen of Scots"
          ],
          [
           "Fist Fight"
          ],
          [
           "Escape from Planet Earth"
          ],
          [
           "Bombshell"
          ],
          [
           "Something Borrowed"
          ],
          [
           "Star Trek Beyond"
          ],
          [
           "We Are Your Friends"
          ],
          [
           "Cop Out"
          ],
          [
           "The Longest Ride"
          ],
          [
           "Savages"
          ],
          [
           "Geostorm"
          ],
          [
           "Burnt"
          ],
          [
           "The Three Stooges"
          ],
          [
           "Rambo: Last Blood"
          ],
          [
           "The Tree of Life"
          ],
          [
           "The Predator"
          ],
          [
           "Diary of a Wimpy Kid: The Long Haul"
          ],
          [
           "Rango"
          ],
          [
           "Ramona and Beezus"
          ],
          [
           "Teenage Mutant Ninja Turtles: Out of the Shadows"
          ],
          [
           "Incarnate"
          ],
          [
           "Widows"
          ],
          [
           "The Five-Year Engagement"
          ],
          [
           "The Magnificent Seven"
          ],
          [
           "The Boxtrolls"
          ],
          [
           "Hot Tub Time Machine"
          ],
          [
           "The Mountain Between Us"
          ],
          [
           "Secret in Their Eyes"
          ],
          [
           "ParaNorman"
          ],
          [
           "Nobody's Fool"
          ],
          [
           "RED 2"
          ],
          [
           "The Three Musketeers"
          ],
          [
           "Alice Through the Looking Glass"
          ],
          [
           "Sparkle"
          ],
          [
           "The Lego Ninjago Movie"
          ],
          [
           "Gangster Squad"
          ],
          [
           "Made in Dagenham"
          ],
          [
           "Legend of the Guardians: The Owls of Ga'Hoole"
          ],
          [
           "The Walk"
          ],
          [
           "Endless Love"
          ],
          [
           "Life"
          ],
          [
           "While We're Young"
          ],
          [
           "The D Train"
          ],
          [
           "Blade Runner 2049"
          ],
          [
           "Secretariat"
          ],
          [
           "Leap Year"
          ],
          [
           "Hitchcock"
          ],
          [
           "Legend"
          ],
          [
           "The Nut Job 2: Nutty by Nature"
          ],
          [
           "Spies in Disguise"
          ],
          [
           "If Beale Street Could Talk"
          ],
          [
           "Left Behind"
          ],
          [
           "The Other Guys"
          ],
          [
           "The Water Diviner"
          ],
          [
           "Piranha 3DD"
          ],
          [
           "Jersey Boys"
          ],
          [
           "The Art of Racing in the Rain"
          ],
          [
           "The Judge"
          ],
          [
           "Abraham Lincoln: Vampire Hunter"
          ],
          [
           "Florence Foster Jenkins"
          ],
          [
           "Joy"
          ],
          [
           "Voiceless"
          ],
          [
           "Hardcore Henry"
          ],
          [
           "Unstoppable"
          ],
          [
           "Marmaduke"
          ],
          [
           "Filth"
          ],
          [
           "Logan Lucky"
          ],
          [
           "Winnie the Pooh"
          ],
          [
           "The Good Dinosaur"
          ],
          [
           "Kidnap"
          ],
          [
           "The Meddler"
          ],
          [
           "Death Wish"
          ],
          [
           "Snitch"
          ],
          [
           "Lockout"
          ],
          [
           "Swiss Army Man"
          ],
          [
           "Entourage"
          ],
          [
           "Dark Shadows"
          ],
          [
           "For a Good Time, Call..."
          ],
          [
           "The Last Witch Hunter"
          ],
          [
           "Burlesque"
          ],
          [
           "Allegiant"
          ],
          [
           "Camp"
          ],
          [
           "The Lobster"
          ],
          [
           "The Spy Next Door"
          ],
          [
           "The Internship"
          ],
          [
           "The A-Team"
          ],
          [
           "Muppets Most Wanted"
          ],
          [
           "Doctor Sleep"
          ],
          [
           "Dolphin Tale 2"
          ],
          [
           "You Again"
          ],
          [
           "The Mortal Instruments: City of Bones"
          ],
          [
           "Colombiana"
          ],
          [
           "Last Night"
          ],
          [
           "The Gambler"
          ],
          [
           "Solo: A Star Wars Story"
          ],
          [
           "The Innkeepers"
          ],
          [
           "Proud Mary"
          ],
          [
           "Ghost in the Shell"
          ],
          [
           "Million Dollar Arm"
          ],
          [
           "Marrowbone"
          ],
          [
           "Sherlock Gnomes"
          ],
          [
           "Don't Be Afraid of the Dark"
          ],
          [
           "Our Family Wedding"
          ],
          [
           "Charlie's Angels"
          ],
          [
           "The Little Prince"
          ],
          [
           "Belle"
          ],
          [
           "What's Your Number?"
          ],
          [
           "The Eagle"
          ],
          [
           "The Hate U Give"
          ],
          [
           "All Is Lost"
          ],
          [
           "21 Bridges"
          ],
          [
           "First Man"
          ],
          [
           "Haywire"
          ],
          [
           "Morning Glory"
          ],
          [
           "The Best of Me"
          ],
          [
           "Faster"
          ],
          [
           "Unforgettable"
          ],
          [
           "The Drop"
          ],
          [
           "Shark Night 3D"
          ],
          [
           "Hot Pursuit"
          ],
          [
           "Machete Kills"
          ],
          [
           "Café Society"
          ],
          [
           "Ad Astra"
          ],
          [
           "30 Minutes or Less"
          ],
          [
           "Diana"
          ],
          [
           "The Change-Up"
          ],
          [
           "The Nutcracker and the Four Realms"
          ],
          [
           "Battleship"
          ],
          [
           "Snatched"
          ],
          [
           "Animal Kingdom"
          ],
          [
           "The Host"
          ],
          [
           "Loving"
          ],
          [
           "The Sorcerer's Apprentice"
          ],
          [
           "The Awakening"
          ],
          [
           "The Huntsman: Winter's War"
          ],
          [
           "Admission"
          ],
          [
           "Run All Night"
          ],
          [
           "The Man from U.N.C.L.E."
          ],
          [
           "Power Rangers"
          ],
          [
           "Terminator: Dark Fate"
          ],
          [
           "Allied"
          ],
          [
           "And So It Goes"
          ],
          [
           "Captive"
          ],
          [
           "Fantastic Four"
          ],
          [
           "The Sitter"
          ],
          [
           "The BFG"
          ],
          [
           "All Eyez on Me"
          ],
          [
           "I'm Not Ashamed"
          ],
          [
           "Safe"
          ],
          [
           "Extremely Loud & Incredibly Close"
          ],
          [
           "The Man with the Iron Fists"
          ],
          [
           "White House Down"
          ],
          [
           "Country Strong"
          ],
          [
           "Phantom"
          ],
          [
           "Fright Night"
          ],
          [
           "Phantom Thread"
          ],
          [
           "American Animals"
          ],
          [
           "Crimson Peak"
          ],
          [
           "Khumba"
          ],
          [
           "Let Me In"
          ],
          [
           "Iron Sky"
          ],
          [
           "Nocturnal Animals"
          ],
          [
           "Long Shot"
          ],
          [
           "The Railway Man"
          ],
          [
           "Parker"
          ],
          [
           "The Ghost Writer"
          ],
          [
           "The Bling Ring"
          ],
          [
           "Prom"
          ],
          [
           "The Big Wedding"
          ],
          [
           "Cats & Dogs: The Revenge of Kitty Galore"
          ],
          [
           "Going the Distance"
          ],
          [
           "Shut In"
          ],
          [
           "I Don't Know How She Does It"
          ],
          [
           "Killers"
          ],
          [
           "The Zookeeper's Wife"
          ],
          [
           "Priest"
          ],
          [
           "The Light Between Oceans"
          ],
          [
           "A Wrinkle in Time"
          ],
          [
           "Cloud Atlas"
          ],
          [
           "Batman: The Killing Joke"
          ],
          [
           "Cold Pursuit"
          ],
          [
           "Valerian and the City of a Thousand Planets"
          ],
          [
           "Point Break"
          ],
          [
           "Kubo and the Two Strings"
          ],
          [
           "Vice"
          ],
          [
           "Dinner for Schmucks"
          ],
          [
           "Midway"
          ],
          [
           "Gemini Man"
          ],
          [
           "The Nice Guys"
          ],
          [
           "The Snowman"
          ],
          [
           "Criminal"
          ],
          [
           "Carnage"
          ],
          [
           "Self/less"
          ],
          [
           "Happy Feet Two"
          ],
          [
           "Trance"
          ],
          [
           "The Darkest Minds"
          ],
          [
           "Hearts Beat Loud"
          ],
          [
           "Arthur"
          ],
          [
           "Seventh Son"
          ],
          [
           "Woodlawn"
          ],
          [
           "Wonder Park"
          ],
          [
           "Draft Day"
          ],
          [
           "Masterminds"
          ],
          [
           "I, Frankenstein"
          ],
          [
           "Pompeii"
          ],
          [
           "The Losers"
          ],
          [
           "Fair Game"
          ],
          [
           "Seeking a Friend for the End of the World"
          ],
          [
           "The Girl with the Dragon Tattoo"
          ],
          [
           "Patriots Day"
          ],
          [
           "Triple 9"
          ],
          [
           "Steve Jobs"
          ],
          [
           "The Raven"
          ],
          [
           "Ender's Game"
          ],
          [
           "Ruby Sparks"
          ],
          [
           "All the Money in the World"
          ],
          [
           "John Carter"
          ],
          [
           "Zoolander 2"
          ],
          [
           "Man on a Ledge"
          ],
          [
           "The Hunt"
          ],
          [
           "Labor Day"
          ],
          [
           "Grudge Match"
          ],
          [
           "Get on Up"
          ],
          [
           "Fifty Shades of Black"
          ],
          [
           "Deepwater Horizon"
          ],
          [
           "The Campaign"
          ],
          [
           "First Reformed"
          ],
          [
           "Morgan"
          ],
          [
           "Tomorrowland"
          ],
          [
           "A Monster Calls"
          ],
          [
           "Green Lantern"
          ],
          [
           "Sleepless"
          ],
          [
           "Overlord"
          ],
          [
           "Sucker Punch"
          ],
          [
           "Charlie St. Cloud"
          ],
          [
           "Early Man"
          ],
          [
           "Hugo"
          ],
          [
           "Win Win"
          ],
          [
           "Macbeth"
          ],
          [
           "Only Lovers Left Alive"
          ],
          [
           "Danny Collins"
          ],
          [
           "The Canyons"
          ],
          [
           "Annihilation"
          ],
          [
           "Gods of Egypt"
          ],
          [
           "Scouts Guide to the Zombie Apocalypse"
          ],
          [
           "Cowboys & Aliens"
          ],
          [
           "The Guilt Trip"
          ],
          [
           "Jupiter Ascending"
          ],
          [
           "Kill the Messenger"
          ],
          [
           "Bel Ami"
          ],
          [
           "Furry Vengeance"
          ],
          [
           "A United Kingdom"
          ],
          [
           "Wish I Was Here"
          ],
          [
           "20th Century Women"
          ],
          [
           "Transcendence"
          ],
          [
           "The Lords of Salem"
          ],
          [
           "Rabbit Hole"
          ],
          [
           "Miss Bala"
          ],
          [
           "Isle of Dogs"
          ],
          [
           "Father Figures"
          ],
          [
           "The Lone Ranger"
          ],
          [
           "From Paris with Love"
          ],
          [
           "Jack the Giant Slayer"
          ],
          [
           "Edge of Darkness"
          ],
          [
           "Table 19"
          ],
          [
           "Red Lights"
          ],
          [
           "Stoker"
          ],
          [
           "The Watch"
          ],
          [
           "Beautiful Creatures"
          ],
          [
           "The Vatican Tapes"
          ],
          [
           "Thunderstruck"
          ],
          [
           "Smashed"
          ],
          [
           "The Dilemma"
          ],
          [
           "American Ultra"
          ],
          [
           "Richard Jewell"
          ],
          [
           "90 Minutes in Heaven"
          ],
          [
           "The Founder"
          ],
          [
           "Holmes & Watson"
          ],
          [
           "One for the Money"
          ],
          [
           "Green Zone"
          ],
          [
           "Albert Nobbs"
          ],
          [
           "In the Heart of the Sea"
          ],
          [
           "Hot Tub Time Machine 2"
          ],
          [
           "Snowden"
          ],
          [
           "Warrior"
          ],
          [
           "MacGruber"
          ],
          [
           "The Hurricane Heist"
          ],
          [
           "Bad Santa 2"
          ],
          [
           "The Incredible Burt Wonderstone"
          ],
          [
           "The Beach Bum"
          ],
          [
           "Kill List"
          ],
          [
           "The Thing"
          ],
          [
           "White Boy Rick"
          ],
          [
           "Hellboy"
          ],
          [
           "Flypaper"
          ],
          [
           "Premium Rush"
          ],
          [
           "Conviction"
          ],
          [
           "Hotel Artemis"
          ],
          [
           "The Diary of a Teenage Girl"
          ],
          [
           "The Master"
          ],
          [
           "Little Boy"
          ],
          [
           "Predestination"
          ],
          [
           "Big Game"
          ],
          [
           "The Legend of Hercules"
          ],
          [
           "Red Tails"
          ],
          [
           "47 Ronin"
          ],
          [
           "Killer Elite"
          ],
          [
           "My Soul to Take"
          ],
          [
           "Pan"
          ],
          [
           "Victor Frankenstein"
          ],
          [
           "King Arthur: Legend of the Sword"
          ],
          [
           "For Greater Glory: The True Story of Cristiada"
          ],
          [
           "Marshall"
          ],
          [
           "The Cold Light of Day"
          ],
          [
           "The Infiltrator"
          ],
          [
           "Seeking Justice"
          ],
          [
           "Battle of the Year"
          ],
          [
           "That's My Boy"
          ],
          [
           "Bad Words"
          ],
          [
           "Dredd"
          ],
          [
           "Drive Angry"
          ],
          [
           "The Girl in the Spider's Web"
          ],
          [
           "Fun Size"
          ],
          [
           "It's Kind of a Funny Story"
          ],
          [
           "Downsizing"
          ],
          [
           "The Way Back"
          ],
          [
           "Before I Go to Sleep"
          ],
          [
           "Foxcatcher"
          ],
          [
           "Dream House"
          ],
          [
           "Life Itself"
          ],
          [
           "Denial"
          ],
          [
           "Mandela: Long Walk to Freedom"
          ],
          [
           "Scott Pilgrim vs. the World"
          ],
          [
           "Rock of Ages"
          ],
          [
           "Mortdecai"
          ],
          [
           "The Loft"
          ],
          [
           "People Like Us"
          ],
          [
           "Judy Moody and the Not Bummer Summer"
          ],
          [
           "Red Dawn"
          ],
          [
           "When in Rome"
          ],
          [
           "Cats"
          ],
          [
           "What If"
          ],
          [
           "Alex Cross"
          ],
          [
           "Certain Women"
          ],
          [
           "Trumbo"
          ],
          [
           "Green Room"
          ],
          [
           "Keeping Up with the Joneses"
          ],
          [
           "Take Shelter"
          ],
          [
           "Gold"
          ],
          [
           "Battle of the Sexes"
          ],
          [
           "Promised Land"
          ],
          [
           "Inherent Vice"
          ],
          [
           "Operation Finale"
          ],
          [
           "Clouds of Sils Maria"
          ],
          [
           "Whiskey Tango Foxtrot"
          ],
          [
           "Shaft"
          ],
          [
           "Out of the Furnace"
          ],
          [
           "Motherless Brooklyn"
          ],
          [
           "Aloha"
          ],
          [
           "Anomalisa"
          ],
          [
           "Conan the Barbarian"
          ],
          [
           "The Joneses"
          ],
          [
           "Miss Sloane"
          ],
          [
           "Only the Brave"
          ],
          [
           "Queen of Katwe"
          ],
          [
           "The Happytime Murders"
          ],
          [
           "Detroit"
          ],
          [
           "Chalet Girl"
          ],
          [
           "Wanderlust"
          ],
          [
           "Tusk"
          ],
          [
           "The Rum Diary"
          ],
          [
           "Ratchet & Clank"
          ],
          [
           "A Cure for Wellness"
          ],
          [
           "Never Let Me Go"
          ],
          [
           "Getaway"
          ],
          [
           "The Finest Hours"
          ],
          [
           "The Signal"
          ],
          [
           "Hostiles"
          ],
          [
           "The Lost City of Z"
          ],
          [
           "Gotti"
          ],
          [
           "I Spit on Your Grave"
          ],
          [
           "Wonder Wheel"
          ],
          [
           "Sabotage"
          ],
          [
           "Max Steel"
          ],
          [
           "The Conspirator"
          ],
          [
           "Stake Land"
          ],
          [
           "Broken City"
          ],
          [
           "Big Miracle"
          ],
          [
           "Tomorrow, When the War Began"
          ],
          [
           "Joe"
          ],
          [
           "The Gunman"
          ],
          [
           "R.I.P.D."
          ],
          [
           "A Most Violent Year"
          ],
          [
           "Roman J. Israel, Esq."
          ],
          [
           "Pride and Prejudice and Zombies"
          ],
          [
           "Serenity"
          ],
          [
           "Repo Men"
          ],
          [
           "Centurion"
          ],
          [
           "31"
          ],
          [
           "Anthropoid"
          ],
          [
           "Everything Must Go"
          ],
          [
           "Your Highness"
          ],
          [
           "Truth"
          ],
          [
           "Nothing Left to Fear"
          ],
          [
           "Walk of Shame"
          ],
          [
           "The Guest"
          ],
          [
           "The Company Men"
          ],
          [
           "Chappaquiddick"
          ],
          [
           "The Space Between Us"
          ],
          [
           "Free Fire"
          ],
          [
           "Vampire Academy"
          ],
          [
           "A Thousand Words"
          ],
          [
           "Monster Trucks"
          ],
          [
           "Winter's Tale"
          ],
          [
           "Anonymous"
          ],
          [
           "A Hidden Life"
          ],
          [
           "Love"
          ],
          [
           "Suburbicon"
          ],
          [
           "2 Days in New York"
          ],
          [
           "Free State of Jones"
          ],
          [
           "Thank You for Your Service"
          ],
          [
           "Stolen"
          ],
          [
           "Extraordinary Measures"
          ],
          [
           "The Neon Demon"
          ],
          [
           "This Must Be the Place"
          ],
          [
           "Laggies"
          ],
          [
           "Personal Shopper"
          ],
          [
           "Austenland"
          ],
          [
           "Jeff, Who Lives at Home"
          ],
          [
           "Red State"
          ],
          [
           "The Runaways"
          ],
          [
           "Stone"
          ],
          [
           "Jem and the Holograms"
          ],
          [
           "Everybody Wants Some!!"
          ],
          [
           "Killer Joe"
          ],
          [
           "Welcome to the Punch"
          ],
          [
           "The Book of Henry"
          ],
          [
           "Tolkien"
          ],
          [
           "What Maisie Knew"
          ],
          [
           "The Face of Love"
          ],
          [
           "Straw Dogs"
          ],
          [
           "The East"
          ],
          [
           "Paranoia"
          ],
          [
           "Wild Target"
          ],
          [
           "Demolition"
          ],
          [
           "Attack the Block"
          ],
          [
           "Robin Hood"
          ],
          [
           "Under the Skin"
          ],
          [
           "Black Nativity"
          ],
          [
           "Higher Ground"
          ],
          [
           "Unfinished Business"
          ],
          [
           "Intruders"
          ],
          [
           "How Do You Know"
          ],
          [
           "Barney's Version"
          ],
          [
           "Bullet to the Head"
          ],
          [
           "Take Me Home Tonight"
          ],
          [
           "Suspiria"
          ],
          [
           "The Young Messiah"
          ],
          [
           "Beauty and the Beast"
          ],
          [
           "Rock Dog"
          ],
          [
           "On the Road"
          ],
          [
           "Afflicted"
          ],
          [
           "Midnight Special"
          ],
          [
           "The Immigrant"
          ],
          [
           "Heist"
          ],
          [
           "Upside Down"
          ],
          [
           "Tulip Fever"
          ],
          [
           "No One Lives"
          ],
          [
           "Shadow Dancer"
          ],
          [
           "Captive State"
          ],
          [
           "Maggie"
          ],
          [
           "The Beaver"
          ],
          [
           "Just Getting Started"
          ],
          [
           "The Sisters Brothers"
          ],
          [
           "Kin"
          ],
          [
           "Cosmopolis"
          ],
          [
           "Disconnect"
          ],
          [
           "Overdrive"
          ],
          [
           "The Grand Seduction"
          ],
          [
           "Cake"
          ],
          [
           "Welcome to Marwen"
          ],
          [
           "By the Sea"
          ],
          [
           "London Boulevard"
          ],
          [
           "The Oranges"
          ],
          [
           "Escobar: Paradise Lost"
          ],
          [
           "Salinger"
          ],
          [
           "The Fifth Estate"
          ],
          [
           "The Virginity Hit"
          ],
          [
           "Collide"
          ],
          [
           "Coriolanus"
          ],
          [
           "Restless"
          ],
          [
           "Replicas"
          ],
          [
           "Legends of Oz: Dorothy's Return"
          ],
          [
           "The Perfect Game"
          ],
          [
           "Atlas Shrugged: Part I"
          ],
          [
           "Lost River"
          ],
          [
           "ATM"
          ],
          [
           "A Hologram for the King"
          ],
          [
           "Lean on Pete"
          ],
          [
           "Our Brand Is Crisis"
          ],
          [
           "The Paperboy"
          ],
          [
           "Maps to the Stars"
          ],
          [
           "The Devil's Double"
          ],
          [
           "Pawn Sacrifice"
          ],
          [
           "Dylan Dog: Dead of Night"
          ],
          [
           "The Young and Prodigious T.S. Spivet"
          ],
          [
           "Stronger"
          ],
          [
           "Trespass"
          ],
          [
           "Blackhat"
          ],
          [
           "'71"
          ],
          [
           "Infinitely Polar Bear"
          ],
          [
           "Action Point"
          ],
          [
           "The Interview"
          ],
          [
           "Mars Needs Moms"
          ],
          [
           "Child 44"
          ],
          [
           "Colonia"
          ],
          [
           "Ain't Them Bodies Saints"
          ],
          [
           "Howl"
          ],
          [
           "Under the Silver Lake"
          ],
          [
           "Repentance"
          ],
          [
           "High Life"
          ],
          [
           "The Homesman"
          ],
          [
           "Jonah Hex"
          ],
          [
           "The House That Jack Built"
          ],
          [
           "99 Homes"
          ],
          [
           "The Iceman"
          ],
          [
           "Rock the Kasbah"
          ],
          [
           "Man of Tai Chi"
          ],
          [
           "Freeheld"
          ],
          [
           "Live by Night"
          ],
          [
           "The Apparition"
          ],
          [
           "The Rover"
          ],
          [
           "Rubber"
          ],
          [
           "The Big Year"
          ],
          [
           "October Baby"
          ],
          [
           "A Better Life"
          ],
          [
           "Gimme Shelter"
          ],
          [
           "Henry's Crime"
          ],
          [
           "Song to Song"
          ],
          [
           "Creature"
          ],
          [
           "The Bronze"
          ],
          [
           "Oldboy"
          ],
          [
           "Chain Letter"
          ],
          [
           "Super"
          ],
          [
           "The Zero Theorem"
          ],
          [
           "Vanishing on 7th Street"
          ],
          [
           "13 Sins"
          ],
          [
           "Another Happy Day"
          ],
          [
           "Deadfall"
          ],
          [
           "Lovelace"
          ],
          [
           "Rules Don't Apply"
          ],
          [
           "Parkland"
          ],
          [
           "Crooked Arrows"
          ],
          [
           "W.E."
          ],
          [
           "I Saw the Light"
          ],
          [
           "Equals"
          ],
          [
           "Rampart"
          ],
          [
           "Flipped"
          ],
          [
           "The Ledge"
          ],
          [
           "Jane Got a Gun"
          ],
          [
           "Universal Soldier: Day of Reckoning"
          ],
          [
           "Life of Crime"
          ],
          [
           "In the Land of Blood and Honey"
          ],
          [
           "Middle of Nowhere"
          ],
          [
           "Manglehorn"
          ],
          [
           "Life After Beth"
          ],
          [
           "Machine Gun Preacher"
          ],
          [
           "50 to 1"
          ],
          [
           "Make Your Move"
          ],
          [
           "Blood Ties"
          ],
          [
           "Adore"
          ],
          [
           "The Double"
          ],
          [
           "Casino Jack"
          ],
          [
           "Third Person"
          ],
          [
           "The Extra Man"
          ],
          [
           "Byzantium"
          ],
          [
           "Camp X-Ray"
          ],
          [
           "Mr. Right"
          ],
          [
           "Song One"
          ],
          [
           "The 5th Quarter"
          ],
          [
           "The Music Never Stopped"
          ],
          [
           "Hesher"
          ],
          [
           "Trust"
          ],
          [
           "Hatchet II"
          ],
          [
           "London Fields"
          ],
          [
           "Lay the Favorite"
          ],
          [
           "Falcon Rising"
          ],
          [
           "Blackway"
          ],
          [
           "Bitter Harvest"
          ],
          [
           "The Romantics"
          ],
          [
           "Sleeping Beauty"
          ],
          [
           "Margaret"
          ],
          [
           "Freakonomics"
          ],
          [
           "The Other Woman"
          ],
          [
           "Dirty Girl"
          ],
          [
           "Aloft"
          ],
          [
           "The Bad Batch"
          ],
          [
           "Road to Nowhere"
          ],
          [
           "Not Fade Away"
          ],
          [
           "Decoding Annie Parker"
          ],
          [
           "Pink Ribbons, Inc."
          ],
          [
           "Saint John of Las Vegas"
          ],
          [
           "Frozen"
          ],
          [
           "Ghostbusters"
          ],
          [
           "Band Aid"
          ],
          [
           "Honeymoon"
          ],
          [
           "All I See Is You"
          ],
          [
           "Stonewall"
          ],
          [
           "The Tempest"
          ],
          [
           "Bilal: A New Breed of Hero"
          ],
          [
           "Dunkirk"
          ],
          [
           "Home"
          ],
          [
           "5 Days of War"
          ],
          [
           "Term Life"
          ],
          [
           "Strangerland"
          ],
          [
           "The Ottoman Lieutenant"
          ],
          [
           "Every Day"
          ],
          [
           "Joker"
          ],
          [
           "The Good Doctor"
          ],
          [
           "CBGB"
          ],
          [
           "Inhale"
          ],
          [
           "Ca$h"
          ],
          [
           "Meet Monica Velour"
          ],
          [
           "Beautiful Boy"
          ],
          [
           "The Adventurer: The Curse of the Midas Box"
          ],
          [
           "Brave"
          ],
          [
           "Ben-Hur"
          ],
          [
           "About Cherry"
          ],
          [
           "Passion Play"
          ],
          [
           "A Perfect Man"
          ],
          [
           "Barefoot"
          ],
          [
           "The Sacrament"
          ],
          [
           "Concussion"
          ],
          [
           "Mi America"
          ],
          [
           "Area 51"
          ],
          [
           "The Nun"
          ],
          [
           "Best Man Down"
          ],
          [
           "The Samaritan"
          ],
          [
           "Quartet"
          ],
          [
           "Godzilla"
          ],
          [
           "Aftermath"
          ],
          [
           "Total Recall"
          ],
          [
           "Moana"
          ]
         ],
         "hovertemplate": "Profit=%{y}<br>title=%{customdata[0]}<extra></extra>",
         "legendgroup": "",
         "marker": {
          "color": "#636efa",
          "symbol": "circle"
         },
         "name": "",
         "notched": true,
         "offsetgroup": "",
         "showlegend": false,
         "type": "box",
         "xaxis": "x2",
         "y": [
          618886436,
          203378186,
          42864410,
          565651467,
          3503711,
          100758490,
          17635162,
          11214200,
          74462037,
          98057032,
          61882090,
          174512032,
          250907969,
          47854305,
          202039844,
          250547661,
          67632527,
          8779150,
          34185884,
          269454358,
          143968835,
          86328627,
          408999102,
          137802657,
          79515113,
          91830493,
          120679266,
          316398046,
          245485178,
          17286781,
          295166834,
          3117802,
          70267874,
          306494638,
          160739368,
          57659584,
          98590271,
          291515884,
          665381748,
          323939361,
          1851683,
          93450062,
          1838783,
          85894962,
          146712077,
          851655259,
          63760877,
          157885588,
          219555708,
          61336603,
          15024987,
          3739705,
          147930487,
          1085398397,
          285937718,
          45682041,
          252665134,
          416486224,
          13659448,
          298752656,
          126836156,
          724612155,
          561967,
          30949086,
          48425855,
          954799409,
          235184580,
          894766005,
          40519588,
          102928365,
          226999039,
          56105672,
          2230735,
          44137666,
          400188866,
          6605073,
          108587880,
          53978653,
          19307746,
          128312928,
          35056892,
          800457937,
          36923945,
          418863600,
          56687529,
          215412453,
          102983889,
          51411585,
          1520400637,
          50736588,
          499368315,
          49418872,
          19528593,
          1216511219,
          196197492,
          872077546,
          9656155,
          37887595,
          124056262,
          94438188,
          188314186,
          630491347,
          92952888,
          314319861,
          155935,
          4560438,
          136826547,
          8197072,
          175833312,
          31205850,
          258144079,
          131428180,
          17452114,
          1300026933,
          51615777,
          172949437,
          12793601,
          210956898,
          67026216,
          167733202,
          183035819,
          488626372,
          619394724,
          782244782,
          163936074,
          72705746,
          20019390,
          319126022,
          40173154,
          118432856,
          39779195,
          102890699,
          39446287,
          157243185,
          255883523,
          69988148,
          191639112,
          151685792,
          75978266,
          90731865,
          559151679,
          111636097,
          89888019,
          36898409,
          88129872,
          331141306,
          7345298,
          14527747,
          108726688,
          82573028,
          714868,
          121224951,
          84070507,
          280392818,
          1325047671,
          70200936,
          208532921,
          24358103,
          103013057,
          55464861,
          2441800564,
          48078146,
          68903124,
          137563598,
          474113985,
          272242626,
          408060692,
          269232797,
          36687665,
          201252591,
          86036827,
          111955898,
          79244913,
          976274794,
          41521766,
          121552359,
          121705322,
          95216998,
          506764305,
          740085151,
          232994119,
          75100449,
          380809770,
          55600152,
          988461807,
          173634991,
          309377,
          73512300,
          33656854,
          18401949,
          971927996,
          67274843,
          301266433,
          102100758,
          17994648,
          326545846,
          29823764,
          618192705,
          11796834,
          5396033,
          709746820,
          1298812988,
          70497035,
          1748359754,
          278479141,
          436595957,
          78042097,
          98350426,
          873784195,
          1146913161,
          316985018,
          56984887,
          624546611,
          735011746,
          192945087,
          214276927,
          448583774,
          281333876,
          166114570,
          602205856,
          76335025,
          54188367,
          37387131,
          297789811,
          80918706,
          133970776,
          671575993,
          522021436,
          1396943394,
          5181001,
          21358716,
          26724284,
          211171807,
          52695489,
          78400823,
          1042805359,
          129468902,
          51621140,
          36046590,
          898394593,
          63838111,
          71446075,
          176952420,
          1014811252,
          630356711,
          308330363,
          394093228,
          134849455,
          174838559,
          124228077,
          271709727,
          394800000,
          29401758,
          127089026,
          3674699,
          146586701,
          146506819,
          4839368,
          522161890,
          31558601,
          142936941,
          867693953,
          928794079,
          80542952,
          85215094,
          37640143,
          447351353,
          187978523,
          51076141,
          184920315,
          1152805868,
          38898992,
          50619773,
          35316528,
          16004039,
          18386555,
          91026990,
          908561013,
          159564672,
          672847012,
          791550600,
          26893421,
          8971298,
          28657696,
          4433926,
          26438988,
          157967670,
          393866518,
          350051293,
          92118226,
          186930771,
          866969703,
          43329150,
          38863365,
          129291809,
          856057273,
          894054072,
          29921560,
          55572631,
          320044706,
          21236153,
          169101214,
          210095986,
          187825503,
          130772375,
          668322032,
          350993183,
          388800873,
          20915966,
          41738549,
          601921274,
          20804448,
          828570889,
          35209744,
          8312540,
          104190869,
          251296056,
          333351546,
          33097853,
          825467110,
          61976666,
          227370135,
          453749323,
          123959590,
          163044905,
          489016565,
          61196538,
          20070261,
          48273173,
          72632641,
          80375432,
          705166924,
          120847207,
          501137675,
          240228084,
          138965010,
          278840316,
          986005118,
          78690254,
          628679850,
          42939297,
          682611174,
          19487848,
          155179299,
          77644617,
          76942115,
          192786137,
          395781117,
          279333929,
          106402450,
          159585328,
          189258712,
          549713380,
          94772232,
          105440870,
          673977126,
          276723989,
          136567581,
          184989584,
          29461274,
          102560428,
          12876066,
          226175335,
          57983003,
          115332697,
          903296293,
          632082196,
          89984666,
          285971656,
          267695435,
          587600867,
          17787526,
          602776600,
          532714267,
          634037575,
          56282227,
          176349749,
          14082592,
          105710029,
          140450918,
          34902237,
          62708134,
          66251425,
          73017294,
          172809600,
          11111701,
          613115104,
          515692281,
          37782670,
          482674139,
          5128603,
          23734502,
          251186032,
          133930596,
          166972543,
          5346808,
          452204668,
          167776646,
          418848418,
          831041287,
          363990832,
          663756051,
          55835710,
          66013056,
          164215889,
          131539887,
          476537519,
          571846894,
          114542245,
          49191523,
          424987477,
          52263166,
          162902372,
          107470746,
          11392418,
          81209378,
          325368238,
          129837010,
          210293450,
          256260290,
          273375603,
          402965936,
          41837234,
          578410378,
          544421503,
          540644566,
          79545505,
          164485654,
          285540831,
          117026136,
          18863452,
          110374099,
          125478348,
          512718395,
          140400345,
          498344137,
          41123210,
          512463813,
          46548707,
          67514453,
          767003568,
          261118277,
          392799505,
          9128575,
          22474280,
          37945860,
          60547866,
          105795793,
          180797623,
          389311965,
          32980821,
          89942387,
          492827828,
          163791811,
          29712000,
          74357138,
          397950503,
          14735344,
          306902662,
          44389433,
          368214993,
          94041322,
          5871522,
          292000694,
          49316289,
          231950384,
          726536918,
          303579038,
          360004754,
          114802912,
          71262212,
          128185859,
          708366855,
          706019788,
          47667874,
          84281051,
          559056935,
          474783140,
          274717445,
          543559607,
          244897606,
          148427584,
          29811919,
          35065672,
          175159255,
          214804195,
          120184237,
          106661977,
          158340595,
          170666219,
          52216294,
          129769457,
          376170825,
          72654149,
          635674609,
          74105878,
          115078586,
          508982323,
          111760117,
          380243742,
          542930663,
          111160045,
          15150265,
          30128352,
          32681062,
          55229695,
          259000072,
          37501541,
          62305549,
          75011053,
          40032889,
          124804407,
          623634919,
          137330738,
          69594140,
          332989645,
          56799880,
          564861794,
          59188165,
          66282604,
          295484914,
          294828246,
          76228221,
          51526996,
          194470394,
          68188903,
          141006387,
          72820008,
          145754447,
          121464676,
          96333522,
          144594016,
          132361754,
          203885818,
          9624522,
          59918541,
          23856058,
          191430189,
          47876281,
          42738797,
          82867984,
          248641895,
          110887643,
          88352517,
          46787908,
          46899242,
          81980662,
          407890172,
          70014025,
          92820716,
          58080890,
          11593554,
          212654182,
          242545360,
          80694863,
          87427681,
          137183546,
          454855901,
          11373843,
          284231607,
          340719763,
          13561904,
          22613173,
          146780824,
          111502194,
          221669741,
          48829270,
          1314090,
          54781695,
          87994610,
          80679066,
          87233108,
          147863606,
          108662963,
          214975955,
          25879877,
          86069509,
          85729635,
          32052899,
          423933331,
          2114953,
          143817906,
          84605297,
          25270721,
          147124280,
          80102725,
          273354469,
          210650585,
          73007109,
          166984278,
          79094902,
          137277636,
          381652812,
          61970827,
          227580051,
          20658387,
          128400157,
          365934105,
          34229361,
          40673972,
          354323962,
          151904017,
          329878759,
          21935319,
          299326618,
          99878437,
          19820616,
          496045700,
          443045518,
          49188937,
          74343513,
          62539426,
          23485056,
          96965787,
          12623767,
          57937815,
          145021259,
          120953723,
          180650803,
          46181428,
          80810399,
          19253166,
          47629670,
          190745055,
          245740705,
          71906372,
          41647656,
          9444502,
          78885527,
          243993951,
          234200044,
          306222889,
          236204635,
          46009334,
          285603537,
          69588225,
          54872444,
          241515621,
          54790678,
          359852396,
          388425157,
          71711453,
          50130625,
          156874809,
          178780441,
          221864462,
          97263880,
          4418591,
          21213241,
          399026776,
          114379533,
          193144152,
          35030051,
          665713802,
          279048914,
          87328301,
          34806823,
          14816139,
          100260952,
          6898293,
          60437994,
          20726956,
          49844582,
          189268508,
          51244605,
          102146076,
          340007876,
          186482446,
          15270399,
          84866593,
          14371096,
          134945591,
          111584879,
          219537494,
          260686217,
          41980456,
          50509622,
          40414761,
          168426634,
          183503354,
          58320380,
          185069199,
          9950164,
          306730089,
          17369129,
          76126687,
          230569774,
          39543328,
          24661919,
          49293444,
          122744377,
          31023780,
          40663276,
          30830607,
          29120948,
          113388953,
          111613180,
          41918658,
          48418811,
          59560591,
          2409596,
          60337295,
          58932565,
          10361137,
          50686066,
          108856751,
          20384127,
          65645357,
          43416730,
          3090608,
          26202283,
          123510197,
          69501299,
          77669379,
          86044638,
          22930465,
          24492652,
          7666449,
          30507267,
          53215156,
          57224595,
          224736354,
          45055070,
          25426912,
          171140700,
          147233113,
          29779728,
          96459297,
          18539126,
          143891763,
          191885765,
          11722766,
          21869414,
          277365246,
          27664414,
          13088533,
          52528280,
          57984015,
          144819862,
          28987096,
          70682635,
          123076205,
          57470701,
          179868961,
          100270201,
          49920539,
          12833967,
          57138686,
          106714959,
          21233517,
          91491279,
          70081841,
          50157237,
          124657577,
          131497209,
          166168572,
          1661020,
          5515914,
          234852543,
          26158254,
          27347283,
          224681935,
          573313,
          230062763,
          47347656,
          47087155,
          64462508,
          18126386,
          28050886,
          44068246,
          226592829,
          39935600,
          75563930,
          26432579,
          23681746,
          46093313,
          143890701,
          127908210,
          15682872,
          13064015,
          26089287,
          51720255,
          38731669,
          23325328,
          51627228,
          17972096,
          25636368,
          231002906,
          332461732,
          76515867,
          25491656,
          216600138,
          82792047,
          75503748,
          22656399,
          37448651,
          31012642,
          186365676,
          144930436,
          184933831,
          3067103,
          85641650,
          109850315,
          6084630,
          5835126,
          8691096,
          78695338,
          26449416,
          192616690,
          60206216,
          82572634,
          23967255,
          208930656,
          357924295,
          47189756,
          46752352,
          32795985,
          70940411,
          40837743,
          37055695,
          46234523,
          34626786,
          28918723,
          98018522,
          17226382,
          10370020,
          48260376,
          56956330,
          29404159,
          169713881,
          33782078,
          146144750,
          5606667,
          89852759,
          161941670,
          125382724,
          33414135,
          44384002,
          25517427,
          5536956,
          71853506,
          30834384,
          27395996,
          53811889,
          98133322,
          147570682,
          7618727,
          21496320,
          42491068,
          32675095,
          192541256,
          183284621,
          3977812,
          27120346,
          77930623,
          15519436,
          16390945,
          122688965,
          25401502,
          5090641,
          151970083,
          55387072,
          23152800,
          15138754,
          49783556,
          19782683,
          176700357,
          29284015,
          8279212,
          77107755,
          11468586,
          23782670,
          140930148,
          23333932,
          64748021,
          27814445,
          115697856,
          32450815,
          47203196,
          2306423,
          92306508,
          4588282,
          128175631,
          41165646,
          10939027,
          17192775,
          36130093,
          27076286,
          25260230,
          130698039,
          897363,
          107817248,
          31308758,
          70673788,
          53231078,
          35320680,
          46775678,
          113611982,
          21710283,
          19087017,
          34597643,
          27636523,
          30100369,
          158471816,
          5122090,
          25611001,
          28944815,
          37966152,
          101600160,
          16606743,
          24819301,
          41490353,
          26409247,
          72542134,
          18140972,
          110724603,
          12293743,
          110623848,
          4037058,
          33984700,
          24169363,
          72360636,
          48255770,
          28735752,
          27832209,
          15354990,
          47139399,
          14705333,
          64075565,
          57274484,
          129457024,
          10637800,
          53081555,
          45200903,
          5429471,
          60073390,
          26181942,
          14718173,
          42541806,
          7287309,
          327256,
          109239658,
          25321861,
          13686500,
          11339669,
          17972994,
          28743485,
          71616764,
          8596567,
          11405896,
          70458922,
          15676317,
          3493728,
          27647013,
          13766787,
          34419388,
          47471580,
          19902953,
          41134059,
          169952,
          6810562,
          67805466,
          33761844,
          3377987,
          19453605,
          19871429,
          132207671,
          13814102,
          2094643,
          19562710,
          22824674,
          12948113,
          1935501,
          19263404,
          95527149,
          536088,
          56936910,
          34519773,
          69246868,
          124977,
          2504366,
          17236543,
          35492844,
          67238796,
          30383113,
          27381712,
          21824533,
          12054369,
          35396573,
          23458440,
          4027222,
          14280992,
          142924807,
          419750,
          7753365,
          59801921,
          13483455,
          4294931,
          31497778,
          13269529,
          7409028,
          25279888,
          33571250,
          5707575,
          10426096,
          12989684,
          11934009,
          4627519,
          16939757,
          35697415,
          11513760,
          20040976,
          12609668,
          11626958,
          5768012,
          6058381,
          13363927,
          16380201,
          5496820,
          13763247,
          39961872,
          12662632,
          6766271,
          23450437,
          53961069,
          94025485,
          18845711,
          2208231,
          19365859,
          3957265,
          65283742,
          2081432,
          49989338,
          5637201,
          21561644,
          32045109,
          42337240,
          76119292,
          34520023,
          7312387,
          801508,
          47882881,
          9942188,
          55243411,
          15668698,
          582980,
          11564670,
          15247881,
          5546518,
          55366737,
          5529194,
          3676590,
          11002607,
          12756590,
          1080073,
          19679822,
          7187375,
          7093592,
          2609659,
          7811857,
          13873809,
          6174885,
          11922566,
          15331447,
          5045576,
          2702246,
          11522137,
          27483764,
          10059111,
          3082071,
          7410151,
          23159963,
          6152835,
          18309505,
          5975621,
          29675864,
          28482868,
          962034,
          16419755,
          48674228,
          28718711,
          16249438,
          16073488,
          17855739,
          25648512,
          35469516,
          12788218,
          8155261,
          7303993,
          5722632,
          5807156,
          29196259,
          4261569,
          7142379,
          417165,
          8147945,
          19178613,
          2401617,
          19559110,
          4824199,
          4674699,
          11801179,
          17831631,
          4397654,
          3798915,
          1681781,
          14414200,
          7185751,
          3177948,
          4441873,
          3699345,
          15544024,
          1128263,
          6996304,
          34139100,
          6722693,
          5636031,
          1843274,
          2275812,
          4907260,
          3448971,
          2227514,
          11790373,
          9907746,
          362498,
          809407,
          19035668,
          4309313,
          19851172,
          2917353,
          3657844,
          7792502,
          4190704,
          4622814,
          15770160,
          958440,
          1322067,
          609187,
          835752,
          20185,
          3070915,
          10680864,
          1137046,
          11822325,
          1863726,
          7887720,
          218973,
          374932,
          1288132,
          459330,
          170776,
          214806,
          3039258,
          44989,
          140925,
          383580,
          1471301,
          601244,
          5502115,
          830951,
          2687603,
          1126522,
          42014,
          107313,
          77441,
          267862,
          52138,
          15764,
          0,
          -275,
          -278034,
          -737626,
          -1254458,
          -157301,
          -878755,
          -1533030,
          -1919211,
          -5117451,
          -467741,
          -6079242,
          -918349,
          -2642784,
          -1691385,
          -677105,
          -2482752,
          -1920732,
          -2562119,
          -445584,
          -49725,
          -3494713,
          -3042518,
          -5333865,
          -546366,
          -3916401,
          -1395445,
          -1686419,
          -224867,
          -3741940,
          -2427711,
          -675501,
          -1044602,
          -8720548,
          -7634502,
          -23216161,
          -8915478,
          -3499187,
          -21611680,
          -5772702,
          -26324934,
          -1826318,
          -1883184,
          -3136417,
          -3988890,
          -2910472,
          -3450523,
          -12280907,
          -1695663,
          -8962258,
          -9090091,
          -7835080,
          -2582638,
          -1508760,
          -12996110,
          -5827799,
          -4330224,
          -4793487,
          -10015600,
          -2002226,
          -2005473,
          -7014212,
          -12335441,
          -15581387,
          -12724305,
          -2983557,
          -3441069,
          -4308360,
          -14049704,
          -11946624,
          -21263856,
          -2473712,
          -10381133,
          -473302,
          -3569975,
          -1230786,
          -10081255,
          -1258902,
          -5119061,
          -6401393,
          -3960969,
          -5289025,
          -6387901,
          -1871599,
          -10027861,
          -8639785,
          -6339332,
          -7522264,
          -10749980,
          -2340714,
          -26476717,
          -2968271,
          -3898454,
          -11648678,
          -4632839,
          -12493548,
          -10644900,
          -2531350,
          -11187184,
          -917926,
          -14865042,
          -6614263,
          -13379998,
          -5095205,
          -6193568,
          -27900910,
          -1404378,
          -19330983,
          -10736062,
          -3587651,
          -721350,
          -9110876,
          -12873158,
          -3727597,
          -9376817,
          -244620,
          -21262801,
          -15280785,
          -10466405,
          -1568557,
          -15822863,
          -51675780,
          -7992930,
          -8974140,
          -11542506,
          -10545378,
          -13590109,
          -5109568,
          -649581,
          -3920781,
          -2179510,
          -21886267,
          -4216903,
          -1324619,
          -6877010,
          -2299949,
          -6913000,
          -15736530,
          -13919525,
          -3280617,
          -14357654,
          -19196158,
          -60506085,
          -29199769,
          -14604913,
          -4385781,
          -1466126,
          -12248333,
          -3941887,
          -24964050,
          -10004308,
          -17584582,
          -15865707,
          -3622570,
          -13071091,
          -2620846,
          -3159592,
          -2586491,
          -5295243,
          -2125540,
          -5318349,
          -11699584,
          -2666316,
          -5355528,
          -5366332,
          -4573614,
          -5403295,
          -10909960,
          -3288621,
          -2193452,
          -13831288,
          -3608188,
          -19499356,
          -4505846,
          -5633540,
          -8144509,
          -113510969,
          -7564037,
          -10045815,
          -1156630,
          -20568747,
          -7651951,
          -71331093,
          -17895235,
          -33052791,
          -11449927,
          -12057907,
          -11169662,
          -97232171,
          -36842354,
          -15382623,
          -196821,
          -11259353,
          -10047116,
          -5605683,
          -37812187,
          -15795451,
          -1851296,
          -4046181,
          -16191389,
          -2605948,
          -13705200,
          -14365978,
          -24856944,
          -19686981,
          -13470905,
          -6571952,
          -18559751,
          -8407483,
          -4639719,
          -25938509,
          -6665073,
          -16692773,
          -4683029,
          -11447504,
          -1349325,
          -18941436,
          -1363294,
          -14682465,
          -5264675,
          -5481988,
          -20669925,
          -48244582,
          -8621007,
          -10372625,
          -1384500,
          -2078248,
          -20830493,
          -5556416,
          -19472342,
          -8716135,
          -10489066,
          -13371787,
          -13421481,
          -14217485,
          -23505211,
          -21496342,
          -25882034,
          -50347943,
          -7937822,
          -4875322,
          -13896337,
          -32217375,
          -110766322,
          -37048907,
          -10378954,
          -2968757,
          -3721610,
          -6446531,
          -3805039,
          -6800367,
          -12180579,
          -36096688,
          -7531038,
          -6171768,
          -15447030,
          -11605826,
          -19535115,
          -5525529,
          -85321445,
          -13437207,
          -9739993,
          -398271,
          -32820584,
          -800558,
          -8136494,
          -6137982,
          -9830201,
          -8221979,
          -2466765,
          -2884184,
          -24813233,
          -4144815,
          -2077382,
          -7071638,
          -8328804,
          -4173087,
          -3340063,
          -10053746,
          -8414417,
          -21114658,
          -8587819,
          -11167459,
          -12957797,
          -11232037,
          -13915372,
          -10456387,
          -12244788,
          -8752812,
          -21932469,
          -10097693,
          -10543325,
          -8796301,
          -1763194,
          -3540364,
          -2125283,
          -26661310,
          -8935546,
          -13416313,
          -22933565,
          -14424251,
          -15337485,
          -11290291,
          -25375239,
          -6350374,
          -9171716,
          -920376,
          -7392405,
          -5591082,
          -5591841,
          -3741777,
          -6550298,
          -8904198,
          -2343810,
          -7512580,
          -24773313,
          -4232524,
          -7573509,
          -19095601,
          -4308981,
          -9591320,
          -13435136,
          -2882322,
          -38548657,
          -3856515,
          -7729029,
          -5798110,
          -4838381,
          -19363601,
          -1939952,
          -873392,
          -3688269,
          -146156226,
          -140419657,
          -9751630,
          -975657,
          -29321850,
          -13207331,
          -19594139,
          -29423195,
          -98304881,
          -132813284,
          -19683056,
          -16256207,
          -9888893,
          -39586156,
          -4853971,
          -54509709,
          -5948983,
          -4959600,
          -9919888,
          -6953512,
          -4966958,
          -24859877,
          -24871529,
          -184138370,
          -99577378,
          -2491685,
          -7974397,
          -4985853,
          -5984929,
          -3990779,
          -34921043,
          -2096670,
          -4992444,
          -21967341,
          -1498062,
          -11984780,
          -10987958,
          -159849809,
          -10496549,
          -124981919,
          -149997007
         ],
         "yaxis": "y2"
        }
       ],
       "layout": {
        "height": 700,
        "legend": {
         "tracegroupgap": 0
        },
        "template": {
         "data": {
          "bar": [
           {
            "error_x": {
             "color": "#2a3f5f"
            },
            "error_y": {
             "color": "#2a3f5f"
            },
            "marker": {
             "line": {
              "color": "#E5ECF6",
              "width": 0.5
             }
            },
            "type": "bar"
           }
          ],
          "barpolar": [
           {
            "marker": {
             "line": {
              "color": "#E5ECF6",
              "width": 0.5
             }
            },
            "type": "barpolar"
           }
          ],
          "carpet": [
           {
            "aaxis": {
             "endlinecolor": "#2a3f5f",
             "gridcolor": "white",
             "linecolor": "white",
             "minorgridcolor": "white",
             "startlinecolor": "#2a3f5f"
            },
            "baxis": {
             "endlinecolor": "#2a3f5f",
             "gridcolor": "white",
             "linecolor": "white",
             "minorgridcolor": "white",
             "startlinecolor": "#2a3f5f"
            },
            "type": "carpet"
           }
          ],
          "choropleth": [
           {
            "colorbar": {
             "outlinewidth": 0,
             "ticks": ""
            },
            "type": "choropleth"
           }
          ],
          "contour": [
           {
            "colorbar": {
             "outlinewidth": 0,
             "ticks": ""
            },
            "colorscale": [
             [
              0,
              "#0d0887"
             ],
             [
              0.1111111111111111,
              "#46039f"
             ],
             [
              0.2222222222222222,
              "#7201a8"
             ],
             [
              0.3333333333333333,
              "#9c179e"
             ],
             [
              0.4444444444444444,
              "#bd3786"
             ],
             [
              0.5555555555555556,
              "#d8576b"
             ],
             [
              0.6666666666666666,
              "#ed7953"
             ],
             [
              0.7777777777777778,
              "#fb9f3a"
             ],
             [
              0.8888888888888888,
              "#fdca26"
             ],
             [
              1,
              "#f0f921"
             ]
            ],
            "type": "contour"
           }
          ],
          "contourcarpet": [
           {
            "colorbar": {
             "outlinewidth": 0,
             "ticks": ""
            },
            "type": "contourcarpet"
           }
          ],
          "heatmap": [
           {
            "colorbar": {
             "outlinewidth": 0,
             "ticks": ""
            },
            "colorscale": [
             [
              0,
              "#0d0887"
             ],
             [
              0.1111111111111111,
              "#46039f"
             ],
             [
              0.2222222222222222,
              "#7201a8"
             ],
             [
              0.3333333333333333,
              "#9c179e"
             ],
             [
              0.4444444444444444,
              "#bd3786"
             ],
             [
              0.5555555555555556,
              "#d8576b"
             ],
             [
              0.6666666666666666,
              "#ed7953"
             ],
             [
              0.7777777777777778,
              "#fb9f3a"
             ],
             [
              0.8888888888888888,
              "#fdca26"
             ],
             [
              1,
              "#f0f921"
             ]
            ],
            "type": "heatmap"
           }
          ],
          "heatmapgl": [
           {
            "colorbar": {
             "outlinewidth": 0,
             "ticks": ""
            },
            "colorscale": [
             [
              0,
              "#0d0887"
             ],
             [
              0.1111111111111111,
              "#46039f"
             ],
             [
              0.2222222222222222,
              "#7201a8"
             ],
             [
              0.3333333333333333,
              "#9c179e"
             ],
             [
              0.4444444444444444,
              "#bd3786"
             ],
             [
              0.5555555555555556,
              "#d8576b"
             ],
             [
              0.6666666666666666,
              "#ed7953"
             ],
             [
              0.7777777777777778,
              "#fb9f3a"
             ],
             [
              0.8888888888888888,
              "#fdca26"
             ],
             [
              1,
              "#f0f921"
             ]
            ],
            "type": "heatmapgl"
           }
          ],
          "histogram": [
           {
            "marker": {
             "colorbar": {
              "outlinewidth": 0,
              "ticks": ""
             }
            },
            "type": "histogram"
           }
          ],
          "histogram2d": [
           {
            "colorbar": {
             "outlinewidth": 0,
             "ticks": ""
            },
            "colorscale": [
             [
              0,
              "#0d0887"
             ],
             [
              0.1111111111111111,
              "#46039f"
             ],
             [
              0.2222222222222222,
              "#7201a8"
             ],
             [
              0.3333333333333333,
              "#9c179e"
             ],
             [
              0.4444444444444444,
              "#bd3786"
             ],
             [
              0.5555555555555556,
              "#d8576b"
             ],
             [
              0.6666666666666666,
              "#ed7953"
             ],
             [
              0.7777777777777778,
              "#fb9f3a"
             ],
             [
              0.8888888888888888,
              "#fdca26"
             ],
             [
              1,
              "#f0f921"
             ]
            ],
            "type": "histogram2d"
           }
          ],
          "histogram2dcontour": [
           {
            "colorbar": {
             "outlinewidth": 0,
             "ticks": ""
            },
            "colorscale": [
             [
              0,
              "#0d0887"
             ],
             [
              0.1111111111111111,
              "#46039f"
             ],
             [
              0.2222222222222222,
              "#7201a8"
             ],
             [
              0.3333333333333333,
              "#9c179e"
             ],
             [
              0.4444444444444444,
              "#bd3786"
             ],
             [
              0.5555555555555556,
              "#d8576b"
             ],
             [
              0.6666666666666666,
              "#ed7953"
             ],
             [
              0.7777777777777778,
              "#fb9f3a"
             ],
             [
              0.8888888888888888,
              "#fdca26"
             ],
             [
              1,
              "#f0f921"
             ]
            ],
            "type": "histogram2dcontour"
           }
          ],
          "mesh3d": [
           {
            "colorbar": {
             "outlinewidth": 0,
             "ticks": ""
            },
            "type": "mesh3d"
           }
          ],
          "parcoords": [
           {
            "line": {
             "colorbar": {
              "outlinewidth": 0,
              "ticks": ""
             }
            },
            "type": "parcoords"
           }
          ],
          "pie": [
           {
            "automargin": true,
            "type": "pie"
           }
          ],
          "scatter": [
           {
            "marker": {
             "colorbar": {
              "outlinewidth": 0,
              "ticks": ""
             }
            },
            "type": "scatter"
           }
          ],
          "scatter3d": [
           {
            "line": {
             "colorbar": {
              "outlinewidth": 0,
              "ticks": ""
             }
            },
            "marker": {
             "colorbar": {
              "outlinewidth": 0,
              "ticks": ""
             }
            },
            "type": "scatter3d"
           }
          ],
          "scattercarpet": [
           {
            "marker": {
             "colorbar": {
              "outlinewidth": 0,
              "ticks": ""
             }
            },
            "type": "scattercarpet"
           }
          ],
          "scattergeo": [
           {
            "marker": {
             "colorbar": {
              "outlinewidth": 0,
              "ticks": ""
             }
            },
            "type": "scattergeo"
           }
          ],
          "scattergl": [
           {
            "marker": {
             "colorbar": {
              "outlinewidth": 0,
              "ticks": ""
             }
            },
            "type": "scattergl"
           }
          ],
          "scattermapbox": [
           {
            "marker": {
             "colorbar": {
              "outlinewidth": 0,
              "ticks": ""
             }
            },
            "type": "scattermapbox"
           }
          ],
          "scatterpolar": [
           {
            "marker": {
             "colorbar": {
              "outlinewidth": 0,
              "ticks": ""
             }
            },
            "type": "scatterpolar"
           }
          ],
          "scatterpolargl": [
           {
            "marker": {
             "colorbar": {
              "outlinewidth": 0,
              "ticks": ""
             }
            },
            "type": "scatterpolargl"
           }
          ],
          "scatterternary": [
           {
            "marker": {
             "colorbar": {
              "outlinewidth": 0,
              "ticks": ""
             }
            },
            "type": "scatterternary"
           }
          ],
          "surface": [
           {
            "colorbar": {
             "outlinewidth": 0,
             "ticks": ""
            },
            "colorscale": [
             [
              0,
              "#0d0887"
             ],
             [
              0.1111111111111111,
              "#46039f"
             ],
             [
              0.2222222222222222,
              "#7201a8"
             ],
             [
              0.3333333333333333,
              "#9c179e"
             ],
             [
              0.4444444444444444,
              "#bd3786"
             ],
             [
              0.5555555555555556,
              "#d8576b"
             ],
             [
              0.6666666666666666,
              "#ed7953"
             ],
             [
              0.7777777777777778,
              "#fb9f3a"
             ],
             [
              0.8888888888888888,
              "#fdca26"
             ],
             [
              1,
              "#f0f921"
             ]
            ],
            "type": "surface"
           }
          ],
          "table": [
           {
            "cells": {
             "fill": {
              "color": "#EBF0F8"
             },
             "line": {
              "color": "white"
             }
            },
            "header": {
             "fill": {
              "color": "#C8D4E3"
             },
             "line": {
              "color": "white"
             }
            },
            "type": "table"
           }
          ]
         },
         "layout": {
          "annotationdefaults": {
           "arrowcolor": "#2a3f5f",
           "arrowhead": 0,
           "arrowwidth": 1
          },
          "coloraxis": {
           "colorbar": {
            "outlinewidth": 0,
            "ticks": ""
           }
          },
          "colorscale": {
           "diverging": [
            [
             0,
             "#8e0152"
            ],
            [
             0.1,
             "#c51b7d"
            ],
            [
             0.2,
             "#de77ae"
            ],
            [
             0.3,
             "#f1b6da"
            ],
            [
             0.4,
             "#fde0ef"
            ],
            [
             0.5,
             "#f7f7f7"
            ],
            [
             0.6,
             "#e6f5d0"
            ],
            [
             0.7,
             "#b8e186"
            ],
            [
             0.8,
             "#7fbc41"
            ],
            [
             0.9,
             "#4d9221"
            ],
            [
             1,
             "#276419"
            ]
           ],
           "sequential": [
            [
             0,
             "#0d0887"
            ],
            [
             0.1111111111111111,
             "#46039f"
            ],
            [
             0.2222222222222222,
             "#7201a8"
            ],
            [
             0.3333333333333333,
             "#9c179e"
            ],
            [
             0.4444444444444444,
             "#bd3786"
            ],
            [
             0.5555555555555556,
             "#d8576b"
            ],
            [
             0.6666666666666666,
             "#ed7953"
            ],
            [
             0.7777777777777778,
             "#fb9f3a"
            ],
            [
             0.8888888888888888,
             "#fdca26"
            ],
            [
             1,
             "#f0f921"
            ]
           ],
           "sequentialminus": [
            [
             0,
             "#0d0887"
            ],
            [
             0.1111111111111111,
             "#46039f"
            ],
            [
             0.2222222222222222,
             "#7201a8"
            ],
            [
             0.3333333333333333,
             "#9c179e"
            ],
            [
             0.4444444444444444,
             "#bd3786"
            ],
            [
             0.5555555555555556,
             "#d8576b"
            ],
            [
             0.6666666666666666,
             "#ed7953"
            ],
            [
             0.7777777777777778,
             "#fb9f3a"
            ],
            [
             0.8888888888888888,
             "#fdca26"
            ],
            [
             1,
             "#f0f921"
            ]
           ]
          },
          "colorway": [
           "#636efa",
           "#EF553B",
           "#00cc96",
           "#ab63fa",
           "#FFA15A",
           "#19d3f3",
           "#FF6692",
           "#B6E880",
           "#FF97FF",
           "#FECB52"
          ],
          "font": {
           "color": "#2a3f5f"
          },
          "geo": {
           "bgcolor": "white",
           "lakecolor": "white",
           "landcolor": "#E5ECF6",
           "showlakes": true,
           "showland": true,
           "subunitcolor": "white"
          },
          "hoverlabel": {
           "align": "left"
          },
          "hovermode": "closest",
          "mapbox": {
           "style": "light"
          },
          "paper_bgcolor": "white",
          "plot_bgcolor": "#E5ECF6",
          "polar": {
           "angularaxis": {
            "gridcolor": "white",
            "linecolor": "white",
            "ticks": ""
           },
           "bgcolor": "#E5ECF6",
           "radialaxis": {
            "gridcolor": "white",
            "linecolor": "white",
            "ticks": ""
           }
          },
          "scene": {
           "xaxis": {
            "backgroundcolor": "#E5ECF6",
            "gridcolor": "white",
            "gridwidth": 2,
            "linecolor": "white",
            "showbackground": true,
            "ticks": "",
            "zerolinecolor": "white"
           },
           "yaxis": {
            "backgroundcolor": "#E5ECF6",
            "gridcolor": "white",
            "gridwidth": 2,
            "linecolor": "white",
            "showbackground": true,
            "ticks": "",
            "zerolinecolor": "white"
           },
           "zaxis": {
            "backgroundcolor": "#E5ECF6",
            "gridcolor": "white",
            "gridwidth": 2,
            "linecolor": "white",
            "showbackground": true,
            "ticks": "",
            "zerolinecolor": "white"
           }
          },
          "shapedefaults": {
           "line": {
            "color": "#2a3f5f"
           }
          },
          "ternary": {
           "aaxis": {
            "gridcolor": "white",
            "linecolor": "white",
            "ticks": ""
           },
           "baxis": {
            "gridcolor": "white",
            "linecolor": "white",
            "ticks": ""
           },
           "bgcolor": "#E5ECF6",
           "caxis": {
            "gridcolor": "white",
            "linecolor": "white",
            "ticks": ""
           }
          },
          "title": {
           "x": 0.05
          },
          "xaxis": {
           "automargin": true,
           "gridcolor": "white",
           "linecolor": "white",
           "ticks": "",
           "title": {
            "standoff": 15
           },
           "zerolinecolor": "white",
           "zerolinewidth": 2
          },
          "yaxis": {
           "automargin": true,
           "gridcolor": "white",
           "linecolor": "white",
           "ticks": "",
           "title": {
            "standoff": 15
           },
           "zerolinecolor": "white",
           "zerolinewidth": 2
          }
         }
        },
        "title": {
         "text": "Budget vs Profit Distribution with Profit and Budget Boxplots"
        },
        "width": 1000,
        "xaxis": {
         "anchor": "y",
         "domain": [
          0,
          0.8358
         ],
         "title": {
          "text": "budget"
         }
        },
        "xaxis2": {
         "anchor": "y2",
         "domain": [
          0.8408,
          1
         ],
         "matches": "x2",
         "showgrid": false,
         "showline": false,
         "showticklabels": false,
         "ticks": ""
        },
        "xaxis3": {
         "anchor": "y3",
         "domain": [
          0,
          0.8358
         ],
         "matches": "x",
         "showgrid": true,
         "showticklabels": false
        },
        "xaxis4": {
         "anchor": "y4",
         "domain": [
          0.8408,
          1
         ],
         "matches": "x2",
         "showgrid": false,
         "showline": false,
         "showticklabels": false,
         "ticks": ""
        },
        "yaxis": {
         "anchor": "x",
         "domain": [
          0,
          0.8316
         ],
         "title": {
          "text": "Profit"
         }
        },
        "yaxis2": {
         "anchor": "x2",
         "domain": [
          0,
          0.8316
         ],
         "matches": "y",
         "showgrid": true,
         "showticklabels": false
        },
        "yaxis3": {
         "anchor": "x3",
         "domain": [
          0.8416,
          1
         ],
         "matches": "y3",
         "showgrid": false,
         "showline": false,
         "showticklabels": false,
         "ticks": ""
        },
        "yaxis4": {
         "anchor": "x4",
         "domain": [
          0.8416,
          1
         ],
         "matches": "y3",
         "showgrid": true,
         "showline": false,
         "showticklabels": false,
         "ticks": ""
        }
       }
      },
      "text/html": [
       "<div>\n",
       "        \n",
       "        \n",
       "            <div id=\"ddea3b6f-21b7-4276-a2bb-fe3f209e7d8a\" class=\"plotly-graph-div\" style=\"height:700px; width:1000px;\"></div>\n",
       "            <script type=\"text/javascript\">\n",
       "                require([\"plotly\"], function(Plotly) {\n",
       "                    window.PLOTLYENV=window.PLOTLYENV || {};\n",
       "                    \n",
       "                if (document.getElementById(\"ddea3b6f-21b7-4276-a2bb-fe3f209e7d8a\")) {\n",
       "                    Plotly.newPlot(\n",
       "                        'ddea3b6f-21b7-4276-a2bb-fe3f209e7d8a',\n",
       "                        [{\"customdata\": [[\"Logan\"], [\"Arrival\"], [\"The Gallows\"], [\"Fifty Shades of Grey\"], [\"Catfish\"], [\"The Devil Inside\"], [\"The Quiet Ones\"], [\"Snow Flower and the Secret Fan\"], [\"Searching\"], [\"Insidious\"], [\"Unfriended\"], [\"Paranormal Activity 2\"], [\"Get Out\"], [\"The Woman in Black 2: Angel of Death\"], [\"Paranormal Activity 3\"], [\"Annabelle\"], [\"The Last Exorcism\"], [\"Like Crazy\"], [\"Courageous\"], [\"Split\"], [\"Lights Out\"], [\"The Purge\"], [\"The King's Speech\"], [\"Paranormal Activity 4\"], [\"Sinister\"], [\"Truth or Dare\"], [\"Happy Death Day\"], [\"Black Swan\"], [\"Halloween\"], [\"Dope\"], [\"The Fault in Our Stars\"], [\"Your Sister's Sister\"], [\"War Room\"], [\"The Conjuring\"], [\"Magic Mike\"], [\"A Haunted House\"], [\"Ouija\"], [\"Annabelle: Creation\"], [\"It\"], [\"A Quiet Place\"], [\"A Ghost Story\"], [\"The Visit\"], [\"Another Earth\"], [\"Paranormal Activity: The Marked Ones\"], [\"Escape Room\"], [\"Bohemian Rhapsody\"], [\"A Beautiful Day in the Neighborhood\"], [\"Insidious: The Last Key\"], [\"The Imitation Game\"], [\"Moonlight\"], [\"Unfriended: Dark Web\"], [\"Sleight\"], [\"Don't Breathe\"], [\"Minions\"], [\"Wonder\"], [\"Whiplash\"], [\"Neighbors\"], [\"La La Land\"], [\"Hello, My Name Is Doris\"], [\"Green Book\"], [\"The Best Exotic Marigold Hotel\"], [\"Deadpool\"], [\"Life in a Day\"], [\"2016: Obama's America\"], [\"The Boy Next Door\"], [\"Despicable Me 3\"], [\"Us\"], [\"Despicable Me 2\"], [\"Winchester\"], [\"The Purge: Anarchy\"], [\"Glass\"], [\"Ma\"], [\"The Grace Card\"], [\"Boyhood\"], [\"A Star Is Born\"], [\"Grandma\"], [\"The Purge: Election Year\"], [\"The Gift\"], [\"Beasts of the Southern Wild\"], [\"Lion\"], [\"The Lazarus Effect\"], [\"The Secret Life of Pets\"], [\"The Witch\"], [\"Lucy\"], [\"47 Meters Down\"], [\"Silver Linings Playbook\"], [\"Insidious: Chapter 3\"], [\"The Big Sick\"], [\"Jurassic World\"], [\"Dallas Buyers Club\"], [\"Ted\"], [\"No Escape\"], [\"It Follows\"], [\"Harry Potter and the Deathly Hallows: Part 2\"], [\"Bad Teacher\"], [\"Jumanji: Welcome to the Jungle\"], [\"The Sessions\"], [\"Call Me by Your Name\"], [\"The First Purge\"], [\"Book Club\"], [\"Me Before You\"], [\"The Twilight Saga: Eclipse\"], [\"Jigsaw\"], [\"The Maze Runner\"], [\"Bellflower\"], [\"Monsters\"], [\"Jackass Presents: Bad Grandpa\"], [\"Meet the Blacks\"], [\"The Shape of Water\"], [\"The Kids Are All Right\"], [\"Pitch Perfect 2\"], [\"Mama\"], [\"Buried\"], [\"Frozen II\"], [\"Ready or Not\"], [\"Downton Abbey\"], [\"Unsane\"], [\"Hidden Figures\"], [\"Easy A\"], [\"12 Years a Slave\"], [\"A Dog's Purpose\"], [\"American Sniper\"], [\"The Hunger Games\"], [\"Ice Age: Continental Drift\"], [\"Bad Moms\"], [\"Ouija: Origin of Evil\"], [\"Hunt for the Wilderpeople\"], [\"The Karate Kid\"], [\"Blair Witch\"], [\"The Artist\"], [\"Still Alice\"], [\"The Iron Lady\"], [\"Oculus\"], [\"The Descendants\"], [\"Bridesmaids\"], [\"Manchester by the Sea\"], [\"The Help\"], [\"Jackass 3D\"], [\"The Second Best Exotic Marigold Hotel\"], [\"Project X\"], [\"Sing\"], [\"Chronicle\"], [\"Heaven Is for Real\"], [\"As Above, So Below\"], [\"Philomena\"], [\"Taken 2\"], [\"I Am Not Your Negro\"], [\"Silent House\"], [\"The Theory of Everything\"], [\"Dirty Grandpa\"], [\"Tangerine\"], [\"Let's Be Cops\"], [\"Think Like a Man\"], [\"The Conjuring 2\"], [\"Furious 7\"], [\"Hereditary\"], [\"Crazy Rich Asians\"], [\"Dark Skies\"], [\"Magic Mike XXL\"], [\"Begin Again\"], [\"Avengers: Endgame\"], [\"End of Watch\"], [\"Paranormal Activity: The Ghost Dimension\"], [\"Hustlers\"], [\"Despicable Me\"], [\"Resident Evil: The Final Chapter\"], [\"The Lego Movie\"], [\"Knives Out\"], [\"Loving Vincent\"], [\"Annabelle Comes Home\"], [\"Justin Bieber: Never Say Never\"], [\"The Woman in Black\"], [\"Overboard\"], [\"Captain Marvel\"], [\"Countdown\"], [\"Girls Trip\"], [\"Sausage Party\"], [\"10 Cloverfield Lane\"], [\"The Hangover Part II\"], [\"Venom\"], [\"We're the Millers\"], [\"About Time\"], [\"Les Mis\\u00e9rables\"], [\"Happy Death Day 2U\"], [\"Aquaman\"], [\"Straight Outta Compton\"], [\"K-12\"], [\"Paper Towns\"], [\"Show Dogs\"], [\"Love & Friendship\"], [\"Spider-Man: Far from Home\"], [\"If I Stay\"], [\"Peter Rabbit\"], [\"The Shallows\"], [\"Before Midnight\"], [\"Fifty Shades Darker\"], [\"Chimpanzee\"], [\"Gravity\"], [\"Winter's Bone\"], [\"Lowriders\"], [\"The Twilight Saga: Breaking Dawn - Part 2\"], [\"The Avengers\"], [\"Act of Valor\"], [\"Avengers: Infinity War\"], [\"Taken 3\"], [\"The Grinch\"], [\"Crawl\"], [\"Pitch Perfect\"], [\"Zootopia\"], [\"Black Panther\"], [\"Fifty Shades Freed\"], [\"Skyline\"], [\"Deadpool 2\"], [\"The Hunger Games: Catching Fire\"], [\"Baby Driver\"], [\"True Grit\"], [\"Hotel Transylvania 3: Summer Vacation\"], [\"22 Jump Street\"], [\"The Vow\"], [\"The Twilight Saga: Breaking Dawn - Part 1\"], [\"Jojo Rabbit\"], [\"The Boy\"], [\"House at the End of the Street\"], [\"Murder on the Orient Express\"], [\"The Favourite\"], [\"Johnny English Strikes Again\"], [\"Jumanji: The Next Level\"], [\"Logan\"], [\"The Lion King\"], [\"Four Lions\"], [\"A Haunted House 2\"], [\"Spring Breakers\"], [\"American Hustle\"], [\"Devil\"], [\"BlacKkKlansman\"], [\"Incredibles 2\"], [\"Ride Along\"], [\"Everything, Everything\"], [\"Gifted\"], [\"Toy Story 4\"], [\"The Ides of March\"], [\"The Possession\"], [\"Bridget Jones's Baby\"], [\"Iron Man 3\"], [\"The Hunger Games: Mockingjay - Part 1\"], [\"Gone Girl\"], [\"It Chapter Two\"], [\"Limitless\"], [\"Horrible Bosses\"], [\"No Strings Attached\"], [\"John Wick: Chapter 3 - Parabellum\"], [\"Hotel Transylvania 2\"], [\"Room\"], [\"Yesterday\"], [\"Safety Not Guaranteed\"], [\"The Hitman's Bodyguard\"], [\"Looper\"], [\"20 Feet from Stardom\"], [\"The Martian\"], [\"Jumping the Broom\"], [\"The Grand Budapest Hotel\"], [\"Aladdin\"], [\"Transformers: Dark of the Moon\"], [\"Evil Dead\"], [\"Birdman or (The Unexpected Virtue of Ignorance)\"], [\"That Awkward Moment\"], [\"Cinderella\"], [\"Paddington 2\"], [\"Brooklyn\"], [\"The Social Network\"], [\"Avengers: Age of Ultron\"], [\"Nightcrawler\"], [\"Woman in Gold\"], [\"The Possession of Hannah Grace\"], [\"Margin Call\"], [\"Late Night\"], [\"Good Boys\"], [\"Skyfall\"], [\"The Intern\"], [\"Wonder Woman\"], [\"The Jungle Book\"], [\"Brightburn\"], [\"The Florida Project\"], [\"My Week with Marilyn\"], [\"An Inconvenient Sequel: Truth to Power\"], [\"Movie 43\"], [\"Gnomeo & Juliet\"], [\"Rio\"], [\"The Secret Life of Pets 2\"], [\"Pet Sematary\"], [\"The Heat\"], [\"Toy Story 3\"], [\"Sinister 2\"], [\"Midsommar\"], [\"Step Up 3D\"], [\"Rogue One: A Star Wars Story\"], [\"Transformers: Age of Extinction\"], [\"Devil's Due\"], [\"The Call\"], [\"Mamma Mia! Here We Go Again\"], [\"Apollo 18\"], [\"Little Women\"], [\"Super 8\"], [\"Argo\"], [\"Flight\"], [\"Inception\"], [\"The Greatest Showman\"], [\"Rise of the Planet of the Apes\"], [\"Paul, Apostle of Christ\"], [\"Slender Man\"], [\"Madagascar 3: Europe's Most Wanted\"], [\"Our Idiot Brother\"], [\"Finding Dory\"], [\"The DUFF\"], [\"The Babadook\"], [\"The Fighter\"], [\"Maze Runner: The Scorch Trials\"], [\"Kingsman: The Secret Service\"], [\"50/50\"], [\"Alice in Wonderland\"], [\"Drive\"], [\"Paddington\"], [\"The Smurfs\"], [\"Midnight in Paris\"], [\"The Addams Family\"], [\"Life of Pi\"], [\"Diary of a Wimpy Kid\"], [\"Race\"], [\"The Perfect Guy\"], [\"My Big Fat Greek Wedding 2\"], [\"Tammy\"], [\"Spider-Man: Homecoming\"], [\"Darkest Hour\"], [\"Fast Five\"], [\"Resident Evil: Afterlife\"], [\"Identity Thief\"], [\"The Lorax\"], [\"The Fate of the Furious\"], [\"Spotlight\"], [\"Fast & Furious 6\"], [\"I, Tonya\"], [\"Inside Out\"], [\"God's Not Dead 2\"], [\"Rocketman\"], [\"A Simple Favor\"], [\"The Shack\"], [\"Daddy's Home\"], [\"Rio 2\"], [\"The Angry Birds Movie\"], [\"Last Vegas\"], [\"21 Jump Street\"], [\"Planes\"], [\"Mission: Impossible - Ghost Protocol\"], [\"Parental Guidance\"], [\"The Big Short\"], [\"Thor: Ragnarok\"], [\"Now You See Me\"], [\"Creed\"], [\"American Reunion\"], [\"A Walk in the Woods\"], [\"A Bad Moms Christmas\"], [\"Forever My Girl\"], [\"Maze Runner: The Death Cure\"], [\"Miracles from Heaven\"], [\"Source Code\"], [\"Captain America: Civil War\"], [\"Coco\"], [\"Dear John\"], [\"Shazam!\"], [\"Alvin and the Chipmunks: Chipwrecked\"], [\"Shrek Forever After\"], [\"Captain Fantastic\"], [\"Guardians of the Galaxy\"], [\"Mission: Impossible - Rogue Nation\"], [\"Fantastic Beasts and Where to Find Them\"], [\"Second Act\"], [\"Hansel & Gretel: Witch Hunters\"], [\"The Lighthouse\"], [\"Unknown\"], [\"Hacksaw Ridge\"], [\"Child's Play\"], [\"A Dog's Way Home\"], [\"Nerve\"], [\"Blockers\"], [\"Non-Stop\"], [\"Beginners\"], [\"Mission: Impossible - Fallout\"], [\"Kung Fu Panda 2\"], [\"Mother's Day\"], [\"Ant-Man and the Wasp\"], [\"Southside with You\"], [\"Norm of the North\"], [\"The SpongeBob Movie: Sponge Out of Water\"], [\"In Time\"], [\"Central Intelligence\"], [\"What We Do in the Shadows\"], [\"The Croods\"], [\"The Emoji Movie\"], [\"Sherlock Holmes: A Game of Shadows\"], [\"The Dark Knight Rises\"], [\"San Andreas\"], [\"Guardians of the Galaxy Vol. 2\"], [\"The Best Man Holiday\"], [\"John Wick\"], [\"Creed II\"], [\"John Wick: Chapter 2\"], [\"How to Train Your Dragon 2\"], [\"Suicide Squad\"], [\"Friends with Benefits\"], [\"The Danish Girl\"], [\"Puss in Boots\"], [\"Moonrise Kingdom\"], [\"Into the Woods\"], [\"Step Up Revolution\"], [\"Blue Valentine\"], [\"Shaun the Sheep Movie\"], [\"Django Unchained\"], [\"Dumb and Dumber To\"], [\"Lincoln\"], [\"Journey 2: The Mysterious Island\"], [\"Hotel Transylvania\"], [\"The Boss Baby\"], [\"St. Vincent\"], [\"Maleficent\"], [\"Captain America: The Winter Soldier\"], [\"Dawn of the Planet of the Apes\"], [\"Scary Stories to Tell in the Dark\"], [\"Valentine's Day\"], [\"Spider-Man: Into the Spider-Verse\"], [\"The Town\"], [\"Booksmart\"], [\"The Foreigner\"], [\"Bridge of Spies\"], [\"Doctor Strange\"], [\"Pitch Perfect 3\"], [\"The Hunger Games: Mockingjay - Part 2\"], [\"No Good Deed\"], [\"Interstellar\"], [\"Krampus\"], [\"The Hundred-Foot Journey\"], [\"The Hobbit: An Unexpected Journey\"], [\"xXx: Return of Xander Cage\"], [\"How to Train Your Dragon: The Hidden World\"], [\"Bachelorette\"], [\"The Bye Bye Man\"], [\"About Last Night\"], [\"Vampires Suck\"], [\"Trainwreck\"], [\"Sully\"], [\"Ant-Man\"], [\"Wind River\"], [\"The Commuter\"], [\"Big Hero 6\"], [\"Captain Phillips\"], [\"The Forest\"], [\"The Lucky One\"], [\"The Revenant\"], [\"It Comes at Night\"], [\"Kingsman: The Golden Circle\"], [\"One Day\"], [\"Clash of the Titans\"], [\"This Is the End\"], [\"Inside Job\"], [\"The Wolf of Wall Street\"], [\"Love, Simon\"], [\"The Lego Batman Movie\"], [\"Harry Potter and the Deathly Hallows: Part 1\"], [\"Ice Age: Collision Course\"], [\"Teenage Mutant Ninja Turtles\"], [\"Lone Survivor\"], [\"Contraband\"], [\"The Girl on the Train\"], [\"The Hobbit: The Desolation of Smaug\"], [\"The Hobbit: The Battle of the Five Armies\"], [\"God's Not Dead\"], [\"Hope Springs\"], [\"Fast & Furious Presents: Hobbs & Shaw\"], [\"Thor: The Dark World\"], [\"1917\"], [\"Monsters University\"], [\"Now You See Me 2\"], [\"Everest\"], [\"Fighting with My Family\"], [\"21 & Over\"], [\"Resident Evil: Retribution\"], [\"Shutter Island\"], [\"The Muppets\"], [\"Angel Has Fallen\"], [\"Jack Reacher\"], [\"Spy\"], [\"What Men Want\"], [\"The Post\"], [\"Kung Fu Panda 3\"], [\"Alexander and the Terrible, Horrible, No Good, Very Bad Day\"], [\"Spectre\"], [\"Night School\"], [\"Johnny English Reborn\"], [\"The Amazing Spider-Man 2\"], [\"The Hateful Eight\"], [\"The Meg\"], [\"The Amazing Spider-Man\"], [\"The Accountant\"], [\"The Prodigy\"], [\"Jobs\"], [\"Earth to Echo\"], [\"Diary of a Wimpy Kid: Dog Days\"], [\"The Hangover Part III\"], [\"Wild\"], [\"Pain & Gain\"], [\"Sisters\"], [\"Remember Me\"], [\"The Mule\"], [\"Batman v Superman: Dawn of Justice\"], [\"The Equalizer\"], [\"Safe Haven\"], [\"Bumblebee\"], [\"The Wedding Ringer\"], [\"Pirates of the Caribbean: Dead Men Tell No Tales\"], [\"Piranha 3D\"], [\"Money Monster\"], [\"Jason Bourne\"], [\"The Wolverine\"], [\"Vacation\"], [\"Diary of a Wimpy Kid: Rodrick Rules\"], [\"The Expendables\"], [\"Kick-Ass\"], [\"RED\"], [\"Love & Other Drugs\"], [\"London Has Fallen\"], [\"Anchorman 2: The Legend Continues\"], [\"The Bounty Hunter\"], [\"Eat Pray Love\"], [\"Mr. Popper's Penguins\"], [\"Divergent\"], [\"Sing Street\"], [\"Going in Style\"], [\"The Good Liar\"], [\"Grown Ups\"], [\"The American\"], [\"127 Hours\"], [\"Saving Mr. Banks\"], [\"The Great Gatsby\"], [\"Final Destination 5\"], [\"The Upside\"], [\"Selma\"], [\"Madea's Witness Protection\"], [\"Warm Bodies\"], [\"Ready Player One\"], [\"Atomic Blonde\"], [\"Zero Dark Thirty\"], [\"Rings\"], [\"Upgrade\"], [\"A Good Day to Die Hard\"], [\"The Smurfs 2\"], [\"A Nightmare on Elm Street\"], [\"Captain Underpants: The First Epic Movie\"], [\"Smurfs: The Lost Village\"], [\"Fantastic Beasts: The Crimes of Grindelwald\"], [\"Before I Fall\"], [\"The Mummy\"], [\"War for the Planet of the Apes\"], [\"The Guard\"], [\"Mud\"], [\"Due Date\"], [\"Into the Storm\"], [\"Robin Hood\"], [\"Son of God\"], [\"Old Fashioned\"], [\"The Grey\"], [\"Blended\"], [\"Game Night\"], [\"Predators\"], [\"Ted 2\"], [\"Focus\"], [\"The Expendables 2\"], [\"Hell or High Water\"], [\"Sex Tape\"], [\"Mechanic: Resurrection\"], [\"The Place Beyond the Pines\"], [\"Iron Man 2\"], [\"In a World...\"], [\"Fury\"], [\"Ride Along 2\"], [\"Home Again\"], [\"Dracula Untold\"], [\"Why Him?\"], [\"Prometheus\"], [\"Little Fockers\"], [\"Neighbors 2: Sorority Rising\"], [\"Grown Ups 2\"], [\"Water for Elephants\"], [\"Need for Speed\"], [\"Kong: Skull Island\"], [\"Southpaw\"], [\"300: Rise of an Empire\"], [\"When the Bough Breaks\"], [\"The Equalizer 2\"], [\"X-Men: Apocalypse\"], [\"Magic in the Moonlight\"], [\"Why Did I Get Married Too?\"], [\"Ralph Breaks the Internet\"], [\"Immortals\"], [\"How to Train Your Dragon\"], [\"Inside Llewyn Davis\"], [\"Thor\"], [\"I Am Number Four\"], [\"The Disaster Artist\"], [\"X-Men: Days of Future Past\"], [\"Man of Steel\"], [\"August: Osage County\"], [\"How to Be Single\"], [\"I Feel Pretty\"], [\"Arbitrage\"], [\"Planes: Fire & Rescue\"], [\"Shame\"], [\"Deliver Us from Evil\"], [\"Inferno\"], [\"Hop\"], [\"Tomb Raider\"], [\"Think Like a Man Too\"], [\"Zombieland: Double Tap\"], [\"Big Eyes\"], [\"The Transporter Refueled\"], [\"Sex and the City 2\"], [\"G.I. Joe: Retaliation\"], [\"The 5th Wave\"], [\"Hail, Caesar!\"], [\"America: Imagine the World Without Her\"], [\"The Nut Job\"], [\"The Adventures of Tintin\"], [\"Noah\"], [\"Wreck-It Ralph\"], [\"Night at the Museum: Secret of the Tomb\"], [\"The Counselor\"], [\"Terminator Genisys\"], [\"Paul Blart: Mall Cop 2\"], [\"Sicario\"], [\"Penguins of Madagascar\"], [\"Carrie\"], [\"Cars 2\"], [\"Transformers: The Last Knight\"], [\"Get Hard\"], [\"Tag\"], [\"Pixels\"], [\"The Tourist\"], [\"Trolls\"], [\"Date Night\"], [\"The Spectacular Now\"], [\"Project Almanac\"], [\"Men in Black 3\"], [\"The Dictator\"], [\"Passengers\"], [\"Barbershop: The Next Cut\"], [\"Pirates of the Caribbean: On Stranger Tides\"], [\"Warcraft\"], [\"Escape Plan\"], [\"The Crazies\"], [\"Middle School: The Worst Years of My Life\"], [\"Goosebumps\"], [\"The Darkness\"], [\"Poltergeist\"], [\"Katy Perry: Part of Me\"], [\"The Boss\"], [\"Real Steel\"], [\"Tinker Tailor Soldier Spy\"], [\"Jack Reacher: Never Go Back\"], [\"World War Z\"], [\"Miss Peregrine's Home for Peculiar Children\"], [\"Jackie\"], [\"American Made\"], [\"Baggage Claim\"], [\"Just Go with It\"], [\"War Horse\"], [\"Mary Poppins Returns\"], [\"The Chronicles of Narnia: The Voyage of the Dawn Treader\"], [\"The Giver\"], [\"Den of Thieves\"], [\"Fences\"], [\"Epic\"], [\"Salt\"], [\"Goosebumps 2: Haunted Halloween\"], [\"Ferdinand\"], [\"The Words\"], [\"Maleficent: Mistress of Evil\"], [\"The Beguiled\"], [\"Prisoners\"], [\"Captain America: The First Avenger\"], [\"Footloose\"], [\"The November Man\"], [\"Letters to Juliet\"], [\"Christopher Robin\"], [\"Uncut Gems\"], [\"The Age of Adaline\"], [\"The Switch\"], [\"Soul Surfer\"], [\"Storks\"], [\"Daddy's Home 2\"], [\"Legion\"], [\"The Family\"], [\"The Rite\"], [\"The To Do List\"], [\"Riddick\"], [\"Dolphin Tale\"], [\"The Pyramid\"], [\"Big Mommas: Like Father, Like Son\"], [\"Baywatch\"], [\"The Perks of Being a Wallflower\"], [\"Horrible Bosses 2\"], [\"Brick Mansions\"], [\"Locke\"], [\"Beastly\"], [\"Yogi Bear\"], [\"Office Christmas Party\"], [\"The Adjustment Bureau\"], [\"New Year's Eve\"], [\"Killing Them Softly\"], [\"The Roommate\"], [\"The Green Inferno\"], [\"Alpha and Omega\"], [\"This Is 40\"], [\"Rush\"], [\"Mad Max: Fury Road\"], [\"Larry Crowne\"], [\"Love the Coopers\"], [\"Elysium\"], [\"The Peanuts Movie\"], [\"She's Out of My League\"], [\"Unbroken\"], [\"The Strangers: Prey at Night\"], [\"Alien: Covenant\"], [\"Megamind\"], [\"Another Year\"], [\"Ex Machina\"], [\"Star Trek Into Darkness\"], [\"Uncle Drew\"], [\"The Glass Castle\"], [\"Collateral Beauty\"], [\"Paul\"], [\"Hercules\"], [\"Little\"], [\"Dora and the Lost City of Gold\"], [\"Safe House\"], [\"42\"], [\"Skyscraper\"], [\"Olympus Has Fallen\"], [\"J. Edgar\"], [\"Black or White\"], [\"Scream 4\"], [\"Abominable\"], [\"A Most Wanted Man\"], [\"This Means War\"], [\"We Bought a Zoo\"], [\"Hall Pass\"], [\"The Expendables 3\"], [\"Percy Jackson & the Olympians: The Lightning Thief\"], [\"Oblivion\"], [\"Home Run\"], [\"Traffik\"], [\"Alita: Battle Angel\"], [\"Flatliners\"], [\"Rough Night\"], [\"Independence Day: Resurgence\"], [\"Blue Ruin\"], [\"TRON: Legacy\"], [\"Hitman: Agent 47\"], [\"Abduction\"], [\"Tooth Fairy\"], [\"Super Troopers 2\"], [\"Death at a Funeral\"], [\"Mike and Dave Need Wedding Dates\"], [\"Snow White and the Huntsman\"], [\"The Cabin in the Woods\"], [\"Ghost Rider: Spirit of Vengeance\"], [\"Risen\"], [\"T2 Trainspotting\"], [\"Underworld: Blood Wars\"], [\"Men in Black: International\"], [\"Ford v Ferrari\"], [\"Nebraska\"], [\"The Choice\"], [\"The World's End\"], [\"Get Him to the Greek\"], [\"Playing with Fire\"], [\"Ricki and the Flash\"], [\"Season of the Witch\"], [\"Suffragette\"], [\"The Debt\"], [\"Pacific Rim\"], [\"Tangled\"], [\"Contagion\"], [\"Machete\"], [\"Godzilla: King of the Monsters\"], [\"The Angry Birds Movie 2\"], [\"Jack Ryan: Shadow Recruit\"], [\"The Circle\"], [\"The Next Three Days\"], [\"The Odd Life of Timothy Green\"], [\"Prince of Persia: The Sands of Time\"], [\"Knight and Day\"], [\"The Great Wall\"], [\"Knock Knock\"], [\"The Monuments Men\"], [\"Percy Jackson: Sea of Monsters\"], [\"The Belko Experiment\"], [\"Only God Forgives\"], [\"Finding Your Feet\"], [\"Pete's Dragon\"], [\"Homefront\"], [\"X-Men: First Class\"], [\"Moneyball\"], [\"Red Sparrow\"], [\"Max\"], [\"Cars 3\"], [\"Justice League\"], [\"A Million Ways to Die in the West\"], [\"The Lincoln Lawyer\"], [\"Kick-Ass 2\"], [\"2 Guns\"], [\"Sicario: Day of the Soldado\"], [\"Takers\"], [\"War Dogs\"], [\"The Darkest Hour\"], [\"Peppermint\"], [\"Mirror Mirror\"], [\"Seven Psychopaths\"], [\"The Edge of Seventeen\"], [\"Red Riding Hood\"], [\"Hereafter\"], [\"Lawless\"], [\"The Last Airbender\"], [\"Hanna\"], [\"The Bourne Legacy\"], [\"My Old Lady\"], [\"Zookeeper\"], [\"Rise of the Guardians\"], [\"Gulliver's Travels\"], [\"Side Effects\"], [\"What to Expect When You're Expecting\"], [\"Her\"], [\"Moms' Night Out\"], [\"Annie\"], [\"A Walk Among the Tombstones\"], [\"The Night Before\"], [\"Chappie\"], [\"The Secret Life of Walter Mitty\"], [\"Turbo\"], [\"Beyond the Lights\"], [\"This Is Where I Leave You\"], [\"Frankenweenie\"], [\"Runner Runner\"], [\"Edge of Tomorrow\"], [\"Dumbo\"], [\"The Sweeney\"], [\"Delivery Man\"], [\"Tower Heist\"], [\"A Dangerous Method\"], [\"Stuber\"], [\"RoboCop\"], [\"Just Mercy\"], [\"Bernie\"], [\"Wrath of the Titans\"], [\"Free Birds\"], [\"Eddie the Eagle\"], [\"When the Game Stands Tall\"], [\"The Book of Life\"], [\"Monte Carlo\"], [\"The Legend of Tarzan\"], [\"Molly's Game\"], [\"The Birth of a Nation\"], [\"The Book of Eli\"], [\"Wish Upon\"], [\"Mother's Day\"], [\"Pacific Rim: Uprising\"], [\"Boo 2! A Madea Halloween\"], [\"Wall Street: Money Never Sleeps\"], [\"Nine Lives\"], [\"Assassin's Creed\"], [\"12 Strong\"], [\"Alpha\"], [\"Robot & Frank\"], [\"The Lego Movie 2: The Second Part\"], [\"Paterson\"], [\"Exodus: Gods and Kings\"], [\"Step Up All In\"], [\"Young Adult\"], [\"A Very Harold & Kumar Christmas\"], [\"The Mechanic\"], [\"The 15:17 to Paris\"], [\"3 Days to Kill\"], [\"Mr. Peabody & Sherman\"], [\"Frank\"], [\"The Green Hornet\"], [\"Mile 22\"], [\"Jack and Jill\"], [\"The Dark Tower\"], [\"The Spy Who Dumped Me\"], [\"Black Mass\"], [\"After Earth\"], [\"Mary Queen of Scots\"], [\"Fist Fight\"], [\"Escape from Planet Earth\"], [\"Bombshell\"], [\"Something Borrowed\"], [\"Star Trek Beyond\"], [\"We Are Your Friends\"], [\"Cop Out\"], [\"The Longest Ride\"], [\"Savages\"], [\"Geostorm\"], [\"Burnt\"], [\"The Three Stooges\"], [\"Rambo: Last Blood\"], [\"The Tree of Life\"], [\"The Predator\"], [\"Diary of a Wimpy Kid: The Long Haul\"], [\"Rango\"], [\"Ramona and Beezus\"], [\"Teenage Mutant Ninja Turtles: Out of the Shadows\"], [\"Incarnate\"], [\"Widows\"], [\"The Five-Year Engagement\"], [\"The Magnificent Seven\"], [\"The Boxtrolls\"], [\"Hot Tub Time Machine\"], [\"The Mountain Between Us\"], [\"Secret in Their Eyes\"], [\"ParaNorman\"], [\"Nobody's Fool\"], [\"RED 2\"], [\"The Three Musketeers\"], [\"Alice Through the Looking Glass\"], [\"Sparkle\"], [\"The Lego Ninjago Movie\"], [\"Gangster Squad\"], [\"Made in Dagenham\"], [\"Legend of the Guardians: The Owls of Ga'Hoole\"], [\"The Walk\"], [\"Endless Love\"], [\"Life\"], [\"While We're Young\"], [\"The D Train\"], [\"Blade Runner 2049\"], [\"Secretariat\"], [\"Leap Year\"], [\"Hitchcock\"], [\"Legend\"], [\"The Nut Job 2: Nutty by Nature\"], [\"Spies in Disguise\"], [\"If Beale Street Could Talk\"], [\"Left Behind\"], [\"The Other Guys\"], [\"The Water Diviner\"], [\"Piranha 3DD\"], [\"Jersey Boys\"], [\"The Art of Racing in the Rain\"], [\"The Judge\"], [\"Abraham Lincoln: Vampire Hunter\"], [\"Florence Foster Jenkins\"], [\"Joy\"], [\"Voiceless\"], [\"Hardcore Henry\"], [\"Unstoppable\"], [\"Marmaduke\"], [\"Filth\"], [\"Logan Lucky\"], [\"Winnie the Pooh\"], [\"The Good Dinosaur\"], [\"Kidnap\"], [\"The Meddler\"], [\"Death Wish\"], [\"Snitch\"], [\"Lockout\"], [\"Swiss Army Man\"], [\"Entourage\"], [\"Dark Shadows\"], [\"For a Good Time, Call...\"], [\"The Last Witch Hunter\"], [\"Burlesque\"], [\"Allegiant\"], [\"Camp\"], [\"The Lobster\"], [\"The Spy Next Door\"], [\"The Internship\"], [\"The A-Team\"], [\"Muppets Most Wanted\"], [\"Doctor Sleep\"], [\"Dolphin Tale 2\"], [\"You Again\"], [\"The Mortal Instruments: City of Bones\"], [\"Colombiana\"], [\"Last Night\"], [\"The Gambler\"], [\"Solo: A Star Wars Story\"], [\"The Innkeepers\"], [\"Proud Mary\"], [\"Ghost in the Shell\"], [\"Million Dollar Arm\"], [\"Marrowbone\"], [\"Sherlock Gnomes\"], [\"Don't Be Afraid of the Dark\"], [\"Our Family Wedding\"], [\"Charlie's Angels\"], [\"The Little Prince\"], [\"Belle\"], [\"What's Your Number?\"], [\"The Eagle\"], [\"The Hate U Give\"], [\"All Is Lost\"], [\"21 Bridges\"], [\"First Man\"], [\"Haywire\"], [\"Morning Glory\"], [\"The Best of Me\"], [\"Faster\"], [\"Unforgettable\"], [\"The Drop\"], [\"Shark Night 3D\"], [\"Hot Pursuit\"], [\"Machete Kills\"], [\"Caf\\u00e9 Society\"], [\"Ad Astra\"], [\"30 Minutes or Less\"], [\"Diana\"], [\"The Change-Up\"], [\"The Nutcracker and the Four Realms\"], [\"Battleship\"], [\"Snatched\"], [\"Animal Kingdom\"], [\"The Host\"], [\"Loving\"], [\"The Sorcerer's Apprentice\"], [\"The Awakening\"], [\"The Huntsman: Winter's War\"], [\"Admission\"], [\"Run All Night\"], [\"The Man from U.N.C.L.E.\"], [\"Power Rangers\"], [\"Terminator: Dark Fate\"], [\"Allied\"], [\"And So It Goes\"], [\"Captive\"], [\"Fantastic Four\"], [\"The Sitter\"], [\"The BFG\"], [\"All Eyez on Me\"], [\"I'm Not Ashamed\"], [\"Safe\"], [\"Extremely Loud & Incredibly Close\"], [\"The Man with the Iron Fists\"], [\"White House Down\"], [\"Country Strong\"], [\"Phantom\"], [\"Fright Night\"], [\"Phantom Thread\"], [\"American Animals\"], [\"Crimson Peak\"], [\"Khumba\"], [\"Let Me In\"], [\"Iron Sky\"], [\"Nocturnal Animals\"], [\"Long Shot\"], [\"The Railway Man\"], [\"Parker\"], [\"The Ghost Writer\"], [\"The Bling Ring\"], [\"Prom\"], [\"The Big Wedding\"], [\"Cats & Dogs: The Revenge of Kitty Galore\"], [\"Going the Distance\"], [\"Shut In\"], [\"I Don't Know How She Does It\"], [\"Killers\"], [\"The Zookeeper's Wife\"], [\"Priest\"], [\"The Light Between Oceans\"], [\"A Wrinkle in Time\"], [\"Cloud Atlas\"], [\"Batman: The Killing Joke\"], [\"Cold Pursuit\"], [\"Valerian and the City of a Thousand Planets\"], [\"Point Break\"], [\"Kubo and the Two Strings\"], [\"Vice\"], [\"Dinner for Schmucks\"], [\"Midway\"], [\"Gemini Man\"], [\"The Nice Guys\"], [\"The Snowman\"], [\"Criminal\"], [\"Carnage\"], [\"Self/less\"], [\"Happy Feet Two\"], [\"Trance\"], [\"The Darkest Minds\"], [\"Hearts Beat Loud\"], [\"Arthur\"], [\"Seventh Son\"], [\"Woodlawn\"], [\"Wonder Park\"], [\"Draft Day\"], [\"Masterminds\"], [\"I, Frankenstein\"], [\"Pompeii\"], [\"The Losers\"], [\"Fair Game\"], [\"Seeking a Friend for the End of the World\"], [\"The Girl with the Dragon Tattoo\"], [\"Patriots Day\"], [\"Triple 9\"], [\"Steve Jobs\"], [\"The Raven\"], [\"Ender's Game\"], [\"Ruby Sparks\"], [\"All the Money in the World\"], [\"John Carter\"], [\"Zoolander 2\"], [\"Man on a Ledge\"], [\"The Hunt\"], [\"Labor Day\"], [\"Grudge Match\"], [\"Get on Up\"], [\"Fifty Shades of Black\"], [\"Deepwater Horizon\"], [\"The Campaign\"], [\"First Reformed\"], [\"Morgan\"], [\"Tomorrowland\"], [\"A Monster Calls\"], [\"Green Lantern\"], [\"Sleepless\"], [\"Overlord\"], [\"Sucker Punch\"], [\"Charlie St. Cloud\"], [\"Early Man\"], [\"Hugo\"], [\"Win Win\"], [\"Macbeth\"], [\"Only Lovers Left Alive\"], [\"Danny Collins\"], [\"The Canyons\"], [\"Annihilation\"], [\"Gods of Egypt\"], [\"Scouts Guide to the Zombie Apocalypse\"], [\"Cowboys & Aliens\"], [\"The Guilt Trip\"], [\"Jupiter Ascending\"], [\"Kill the Messenger\"], [\"Bel Ami\"], [\"Furry Vengeance\"], [\"A United Kingdom\"], [\"Wish I Was Here\"], [\"20th Century Women\"], [\"Transcendence\"], [\"The Lords of Salem\"], [\"Rabbit Hole\"], [\"Miss Bala\"], [\"Isle of Dogs\"], [\"Father Figures\"], [\"The Lone Ranger\"], [\"From Paris with Love\"], [\"Jack the Giant Slayer\"], [\"Edge of Darkness\"], [\"Table 19\"], [\"Red Lights\"], [\"Stoker\"], [\"The Watch\"], [\"Beautiful Creatures\"], [\"The Vatican Tapes\"], [\"Thunderstruck\"], [\"Smashed\"], [\"The Dilemma\"], [\"American Ultra\"], [\"Richard Jewell\"], [\"90 Minutes in Heaven\"], [\"The Founder\"], [\"Holmes & Watson\"], [\"One for the Money\"], [\"Green Zone\"], [\"Albert Nobbs\"], [\"In the Heart of the Sea\"], [\"Hot Tub Time Machine 2\"], [\"Snowden\"], [\"Warrior\"], [\"MacGruber\"], [\"The Hurricane Heist\"], [\"Bad Santa 2\"], [\"The Incredible Burt Wonderstone\"], [\"The Beach Bum\"], [\"Kill List\"], [\"The Thing\"], [\"White Boy Rick\"], [\"Hellboy\"], [\"Flypaper\"], [\"Premium Rush\"], [\"Conviction\"], [\"Hotel Artemis\"], [\"The Diary of a Teenage Girl\"], [\"The Master\"], [\"Little Boy\"], [\"Predestination\"], [\"Big Game\"], [\"The Legend of Hercules\"], [\"Red Tails\"], [\"47 Ronin\"], [\"Killer Elite\"], [\"My Soul to Take\"], [\"Pan\"], [\"Victor Frankenstein\"], [\"King Arthur: Legend of the Sword\"], [\"For Greater Glory: The True Story of Cristiada\"], [\"Marshall\"], [\"The Cold Light of Day\"], [\"The Infiltrator\"], [\"Seeking Justice\"], [\"Battle of the Year\"], [\"That's My Boy\"], [\"Bad Words\"], [\"Dredd\"], [\"Drive Angry\"], [\"The Girl in the Spider's Web\"], [\"Fun Size\"], [\"It's Kind of a Funny Story\"], [\"Downsizing\"], [\"The Way Back\"], [\"Before I Go to Sleep\"], [\"Foxcatcher\"], [\"Dream House\"], [\"Life Itself\"], [\"Denial\"], [\"Mandela: Long Walk to Freedom\"], [\"Scott Pilgrim vs. the World\"], [\"Rock of Ages\"], [\"Mortdecai\"], [\"The Loft\"], [\"People Like Us\"], [\"Judy Moody and the Not Bummer Summer\"], [\"Red Dawn\"], [\"When in Rome\"], [\"Cats\"], [\"What If\"], [\"Alex Cross\"], [\"Certain Women\"], [\"Trumbo\"], [\"Green Room\"], [\"Keeping Up with the Joneses\"], [\"Take Shelter\"], [\"Gold\"], [\"Battle of the Sexes\"], [\"Promised Land\"], [\"Inherent Vice\"], [\"Operation Finale\"], [\"Clouds of Sils Maria\"], [\"Whiskey Tango Foxtrot\"], [\"Shaft\"], [\"Out of the Furnace\"], [\"Motherless Brooklyn\"], [\"Aloha\"], [\"Anomalisa\"], [\"Conan the Barbarian\"], [\"The Joneses\"], [\"Miss Sloane\"], [\"Only the Brave\"], [\"Queen of Katwe\"], [\"The Happytime Murders\"], [\"Detroit\"], [\"Chalet Girl\"], [\"Wanderlust\"], [\"Tusk\"], [\"The Rum Diary\"], [\"Ratchet & Clank\"], [\"A Cure for Wellness\"], [\"Never Let Me Go\"], [\"Getaway\"], [\"The Finest Hours\"], [\"The Signal\"], [\"Hostiles\"], [\"The Lost City of Z\"], [\"Gotti\"], [\"I Spit on Your Grave\"], [\"Wonder Wheel\"], [\"Sabotage\"], [\"Max Steel\"], [\"The Conspirator\"], [\"Stake Land\"], [\"Broken City\"], [\"Big Miracle\"], [\"Tomorrow, When the War Began\"], [\"Joe\"], [\"The Gunman\"], [\"R.I.P.D.\"], [\"A Most Violent Year\"], [\"Roman J. Israel, Esq.\"], [\"Pride and Prejudice and Zombies\"], [\"Serenity\"], [\"Repo Men\"], [\"Centurion\"], [\"31\"], [\"Anthropoid\"], [\"Everything Must Go\"], [\"Your Highness\"], [\"Truth\"], [\"Nothing Left to Fear\"], [\"Walk of Shame\"], [\"The Guest\"], [\"The Company Men\"], [\"Chappaquiddick\"], [\"The Space Between Us\"], [\"Free Fire\"], [\"Vampire Academy\"], [\"A Thousand Words\"], [\"Monster Trucks\"], [\"Winter's Tale\"], [\"Anonymous\"], [\"A Hidden Life\"], [\"Love\"], [\"Suburbicon\"], [\"2 Days in New York\"], [\"Free State of Jones\"], [\"Thank You for Your Service\"], [\"Stolen\"], [\"Extraordinary Measures\"], [\"The Neon Demon\"], [\"This Must Be the Place\"], [\"Laggies\"], [\"Personal Shopper\"], [\"Austenland\"], [\"Jeff, Who Lives at Home\"], [\"Red State\"], [\"The Runaways\"], [\"Stone\"], [\"Jem and the Holograms\"], [\"Everybody Wants Some!!\"], [\"Killer Joe\"], [\"Welcome to the Punch\"], [\"The Book of Henry\"], [\"Tolkien\"], [\"What Maisie Knew\"], [\"The Face of Love\"], [\"Straw Dogs\"], [\"The East\"], [\"Paranoia\"], [\"Wild Target\"], [\"Demolition\"], [\"Attack the Block\"], [\"Robin Hood\"], [\"Under the Skin\"], [\"Black Nativity\"], [\"Higher Ground\"], [\"Unfinished Business\"], [\"Intruders\"], [\"How Do You Know\"], [\"Barney's Version\"], [\"Bullet to the Head\"], [\"Take Me Home Tonight\"], [\"Suspiria\"], [\"The Young Messiah\"], [\"Beauty and the Beast\"], [\"Rock Dog\"], [\"On the Road\"], [\"Afflicted\"], [\"Midnight Special\"], [\"The Immigrant\"], [\"Heist\"], [\"Upside Down\"], [\"Tulip Fever\"], [\"No One Lives\"], [\"Shadow Dancer\"], [\"Captive State\"], [\"Maggie\"], [\"The Beaver\"], [\"Just Getting Started\"], [\"The Sisters Brothers\"], [\"Kin\"], [\"Cosmopolis\"], [\"Disconnect\"], [\"Overdrive\"], [\"The Grand Seduction\"], [\"Cake\"], [\"Welcome to Marwen\"], [\"By the Sea\"], [\"London Boulevard\"], [\"The Oranges\"], [\"Escobar: Paradise Lost\"], [\"Salinger\"], [\"The Fifth Estate\"], [\"The Virginity Hit\"], [\"Collide\"], [\"Coriolanus\"], [\"Restless\"], [\"Replicas\"], [\"Legends of Oz: Dorothy's Return\"], [\"The Perfect Game\"], [\"Atlas Shrugged: Part I\"], [\"Lost River\"], [\"ATM\"], [\"A Hologram for the King\"], [\"Lean on Pete\"], [\"Our Brand Is Crisis\"], [\"The Paperboy\"], [\"Maps to the Stars\"], [\"The Devil's Double\"], [\"Pawn Sacrifice\"], [\"Dylan Dog: Dead of Night\"], [\"The Young and Prodigious T.S. Spivet\"], [\"Stronger\"], [\"Trespass\"], [\"Blackhat\"], [\"'71\"], [\"Infinitely Polar Bear\"], [\"Action Point\"], [\"The Interview\"], [\"Mars Needs Moms\"], [\"Child 44\"], [\"Colonia\"], [\"Ain't Them Bodies Saints\"], [\"Howl\"], [\"Under the Silver Lake\"], [\"Repentance\"], [\"High Life\"], [\"The Homesman\"], [\"Jonah Hex\"], [\"The House That Jack Built\"], [\"99 Homes\"], [\"The Iceman\"], [\"Rock the Kasbah\"], [\"Man of Tai Chi\"], [\"Freeheld\"], [\"Live by Night\"], [\"The Apparition\"], [\"The Rover\"], [\"Rubber\"], [\"The Big Year\"], [\"October Baby\"], [\"A Better Life\"], [\"Gimme Shelter\"], [\"Henry's Crime\"], [\"Song to Song\"], [\"Creature\"], [\"The Bronze\"], [\"Oldboy\"], [\"Chain Letter\"], [\"Super\"], [\"The Zero Theorem\"], [\"Vanishing on 7th Street\"], [\"13 Sins\"], [\"Another Happy Day\"], [\"Deadfall\"], [\"Lovelace\"], [\"Rules Don't Apply\"], [\"Parkland\"], [\"Crooked Arrows\"], [\"W.E.\"], [\"I Saw the Light\"], [\"Equals\"], [\"Rampart\"], [\"Flipped\"], [\"The Ledge\"], [\"Jane Got a Gun\"], [\"Universal Soldier: Day of Reckoning\"], [\"Life of Crime\"], [\"In the Land of Blood and Honey\"], [\"Middle of Nowhere\"], [\"Manglehorn\"], [\"Life After Beth\"], [\"Machine Gun Preacher\"], [\"50 to 1\"], [\"Make Your Move\"], [\"Blood Ties\"], [\"Adore\"], [\"The Double\"], [\"Casino Jack\"], [\"Third Person\"], [\"The Extra Man\"], [\"Byzantium\"], [\"Camp X-Ray\"], [\"Mr. Right\"], [\"Song One\"], [\"The 5th Quarter\"], [\"The Music Never Stopped\"], [\"Hesher\"], [\"Trust\"], [\"Hatchet II\"], [\"London Fields\"], [\"Lay the Favorite\"], [\"Falcon Rising\"], [\"Blackway\"], [\"Bitter Harvest\"], [\"The Romantics\"], [\"Sleeping Beauty\"], [\"Margaret\"], [\"Freakonomics\"], [\"The Other Woman\"], [\"Dirty Girl\"], [\"Aloft\"], [\"The Bad Batch\"], [\"Road to Nowhere\"], [\"Not Fade Away\"], [\"Decoding Annie Parker\"], [\"Pink Ribbons, Inc.\"], [\"Saint John of Las Vegas\"], [\"Frozen\"], [\"Ghostbusters\"], [\"Band Aid\"], [\"Honeymoon\"], [\"All I See Is You\"], [\"Stonewall\"], [\"The Tempest\"], [\"Bilal: A New Breed of Hero\"], [\"Dunkirk\"], [\"Home\"], [\"5 Days of War\"], [\"Term Life\"], [\"Strangerland\"], [\"The Ottoman Lieutenant\"], [\"Every Day\"], [\"Joker\"], [\"The Good Doctor\"], [\"CBGB\"], [\"Inhale\"], [\"Ca$h\"], [\"Meet Monica Velour\"], [\"Beautiful Boy\"], [\"The Adventurer: The Curse of the Midas Box\"], [\"Brave\"], [\"Ben-Hur\"], [\"About Cherry\"], [\"Passion Play\"], [\"A Perfect Man\"], [\"Barefoot\"], [\"The Sacrament\"], [\"Concussion\"], [\"Mi America\"], [\"Area 51\"], [\"The Nun\"], [\"Best Man Down\"], [\"The Samaritan\"], [\"Quartet\"], [\"Godzilla\"], [\"Aftermath\"], [\"Total Recall\"], [\"Moana\"]], \"hovertemplate\": \"budget=%{x}<br>Profit=%{y}<br>title=%{customdata[0]}<extra></extra>\", \"legendgroup\": \"\", \"marker\": {\"color\": \"#636efa\", \"symbol\": \"circle\"}, \"mode\": \"markers\", \"name\": \"\", \"showlegend\": false, \"type\": \"scattergl\", \"x\": [135000, 10000, 100000, 4000000, 30000, 1000000, 200000, 134005, 1000000, 1500000, 1000000, 3000000, 4500000, 1000000, 5000000, 6500000, 1800000, 250000, 1000000, 9000000, 4900000, 3000000, 15000000, 5000000, 3000000, 3500000, 4800000, 13000000, 10000000, 700000, 12000000, 125000, 3000000, 13000000, 7000000, 2500000, 5000000, 15000000, 35000000, 17000000, 100000, 5000000, 100000, 5000000, 9000000, 52000000, 4000000, 10000000, 14000000, 4000000, 1000000, 250000, 9900000, 74000000, 20000000, 3300000, 18000000, 30000000, 1000000, 23000000, 10000000, 58000000, 45202, 2500000, 4000000, 80000000, 20000000, 76000000, 3500000, 9000000, 20000000, 5000000, 200000, 4000000, 36000000, 600000, 10000000, 5000000, 1800000, 12000000, 3300000, 75000000, 3500000, 40000000, 5500000, 21000000, 10000000, 5000000, 150000000, 5000000, 50000000, 5000000, 2000000, 125000000, 20000000, 90000000, 1000000, 4000000, 13000000, 10000000, 20000000, 68000000, 10000000, 34000000, 17000, 500000, 15000000, 900000, 19500000, 3500000, 29000000, 15000000, 1987650, 150000000, 6000000, 20000000, 1500000, 25000000, 8000000, 20000000, 22000000, 58800000, 75000000, 95000000, 20000000, 9000000, 2500000, 40000000, 5000000, 15000000, 5000000, 13000000, 5000000, 20000000, 32500000, 9000000, 25000000, 20000000, 10000000, 12000000, 75000000, 15000000, 12000000, 5000000, 12000000, 45000000, 1000000, 2000000, 15000000, 11500000, 100000, 17000000, 12000000, 40000000, 190000000, 10000000, 30000000, 3500000, 14800000, 8000000, 356000000, 7000000, 10000000, 20000000, 69000000, 40000000, 60000000, 40000000, 5500000, 30000000, 13000000, 17000000, 12000000, 152000000, 6500000, 19000000, 19000000, 15000000, 80000000, 116000000, 37000000, 12000000, 61000000, 9000000, 160000000, 28000000, 50000, 12000000, 5500000, 3000000, 160000000, 11000000, 50000000, 17000000, 3000000, 55000000, 5000000, 105000000, 2000000, 916000, 120000000, 220000000, 12000000, 300000000, 48000000, 75000000, 13500000, 17000000, 150000000, 200000000, 55000000, 10000000, 110000000, 130000000, 34000000, 38000000, 80000000, 50000000, 30000000, 110000000, 14000000, 10000000, 6900000, 55000000, 15000000, 25000000, 125000000, 97000000, 260000000, 967686, 4000000, 5000000, 40000000, 10000000, 15000000, 200000000, 25000000, 10000000, 7000000, 175000000, 12500000, 14000000, 35000000, 200000000, 125000000, 61000000, 79000000, 27000000, 35000000, 25000000, 55000000, 80000000, 6000000, 26000000, 750000, 30000000, 30000000, 1000000, 108000000, 6600000, 30000000, 183000000, 195000000, 17000000, 18000000, 8000000, 95000000, 40000000, 11000000, 40000000, 250000000, 8500000, 11000000, 7700000, 3500000, 4000000, 20000000, 200000000, 35000000, 149000000, 175000000, 6000000, 2000000, 6400000, 1000000, 6000000, 36000000, 90000000, 80000000, 21000000, 43000000, 200000000, 10000000, 9000000, 30000000, 200000000, 210000000, 7000000, 13000000, 75000000, 5000000, 40000000, 50000000, 44500000, 31000000, 160000000, 84000000, 93000000, 5000000, 10000000, 145000000, 5000000, 200000000, 8500000, 2000000, 25000000, 61000000, 81000000, 8000000, 200000000, 15000000, 55000000, 110000000, 30000000, 40000000, 120000000, 15000000, 5000000, 12000000, 18000000, 20000000, 175000000, 30000000, 125000000, 60000000, 35000000, 70000000, 250000000, 20000000, 160000000, 11000000, 175000000, 5000000, 40000000, 20000000, 20000000, 50000000, 103000000, 73000000, 28000000, 42000000, 50000000, 145000000, 25000000, 28000000, 180000000, 75000000, 37000000, 50000000, 8000000, 28000000, 3500000, 62000000, 16000000, 32000000, 250000000, 175000000, 25000000, 80000000, 75000000, 165000000, 5000000, 170000000, 150000000, 180000000, 16000000, 50000000, 4000000, 30000000, 40000000, 10000000, 18000000, 19000000, 21000000, 50000000, 3200000, 178000000, 150000000, 11000000, 140000000, 1500000, 7000000, 74000000, 40000000, 50000000, 1600000, 135000000, 50000000, 125000000, 250000000, 110000000, 200000000, 17000000, 20000000, 50000000, 40000000, 145000000, 175000000, 35000000, 15000000, 130000000, 16000000, 50000000, 33000000, 3500000, 25000000, 100000000, 40000000, 65000000, 79000000, 85000000, 125000000, 13000000, 180000000, 170000000, 170000000, 25000000, 52000000, 90000000, 37000000, 6000000, 35000000, 40000000, 165000000, 45000000, 160000000, 13200000, 165000000, 15000000, 22000000, 250000000, 85000000, 129000000, 3000000, 7400000, 12500000, 20000000, 35000000, 60000000, 130000000, 11000000, 30000000, 165000000, 55000000, 10000000, 25000000, 135000000, 5000000, 104000000, 15000000, 125000000, 32000000, 2000000, 100000000, 17000000, 80000000, 250000000, 105000000, 125000000, 40000000, 25000000, 45000000, 250000000, 250000000, 17000000, 30000000, 200000000, 170000000, 100000000, 200000000, 90000000, 55000000, 11000000, 13000000, 65000000, 80000000, 45000000, 40000000, 60000000, 65000000, 20000000, 50000000, 145000000, 28000000, 245000000, 29000000, 45000000, 200000000, 44000000, 150000000, 215000000, 44000000, 6000000, 12000000, 13000000, 22000000, 103000000, 15000000, 25000000, 30000000, 16000000, 50000000, 250000000, 55000000, 28000000, 135000000, 23000000, 230000000, 24000000, 27000000, 120000000, 120000000, 31000000, 21000000, 80000000, 28000000, 58000000, 30000000, 60000000, 50000000, 40000000, 60000000, 55000000, 85000000, 4000000, 25000000, 10000000, 80000000, 20000000, 18000000, 35000000, 105000000, 47000000, 37500000, 20000000, 20000000, 35000000, 175000000, 30000000, 40000000, 25000000, 5000000, 92000000, 105000000, 35000000, 38000000, 60000000, 200000000, 5000000, 125000000, 150000000, 6000000, 10000000, 65000000, 50000000, 100000000, 22000000, 600000, 25000000, 40000000, 37000000, 40000000, 68000000, 50100000, 100000000, 12000000, 40000000, 40000000, 15000000, 200000000, 1000000, 68000000, 40000000, 12000000, 70000000, 38000000, 130000000, 100000000, 35000000, 80000000, 38000000, 66000000, 185000000, 30000000, 110000000, 10000000, 62000000, 178000000, 16800000, 20000000, 175000000, 75000000, 165000000, 11000000, 150000000, 50000000, 10000000, 250000000, 225000000, 25000000, 38000000, 32000000, 12000000, 50000000, 6500000, 30000000, 75000000, 63000000, 94000000, 24000000, 42000000, 10000000, 25000000, 100000000, 130000000, 38000000, 22000000, 5000000, 42000000, 130000000, 125000000, 165000000, 127000000, 25000000, 155000000, 38000000, 30000000, 132000000, 30000000, 200000000, 217000000, 40000000, 28000000, 88000000, 100000000, 125000000, 55000000, 2500000, 12000000, 225000000, 65000000, 110000000, 20000000, 380000000, 160000000, 50000000, 20000000, 8500000, 58000000, 4000000, 35000000, 12000000, 29000000, 110000000, 30000000, 60000000, 200000000, 110000000, 9000000, 50000000, 8500000, 80000000, 66000000, 130000000, 155000000, 25000000, 30000000, 24000000, 100000000, 110000000, 35000000, 111000000, 6000000, 185000000, 10500000, 46000000, 140000000, 24000000, 15000000, 30000000, 75000000, 19000000, 25000000, 19000000, 18000000, 70000000, 69000000, 26000000, 30000000, 37000000, 1500000, 38000000, 37000000, 6500000, 32000000, 69000000, 13000000, 42000000, 28000000, 2000000, 17000000, 80000000, 45000000, 50200000, 56000000, 15000000, 16000000, 5000000, 20000000, 35000000, 38000000, 150000000, 30000000, 17000000, 115000000, 99000000, 20000000, 65000000, 12500000, 97000000, 130000000, 8000000, 15000000, 190000000, 19000000, 9000000, 36000000, 40000000, 100000000, 20000000, 49000000, 85000000, 40000000, 125000000, 70000000, 35000000, 9000000, 40000000, 75000000, 15000000, 65000000, 50000000, 36000000, 90000000, 95000000, 120000000, 1200000, 4000000, 170000000, 19000000, 20000000, 165000000, 420000, 170000000, 35000000, 35000000, 48000000, 13500000, 21000000, 33000000, 170000000, 30000000, 57000000, 20000000, 18000000, 35000000, 110000000, 97600000, 12000000, 10000000, 20000000, 40000000, 29900000, 18000000, 40000000, 14000000, 20000000, 180000000, 260000000, 60000000, 20000000, 170000000, 65000000, 60000000, 18000000, 30000000, 25000000, 150000000, 117000000, 150000000, 2500000, 70000000, 90000000, 5000000, 4800000, 7154497, 65000000, 22000000, 160000000, 50000000, 69000000, 20000000, 175000000, 300000000, 40000000, 40000000, 28000000, 61000000, 35000000, 32000000, 40000000, 30000000, 25000000, 85000000, 15000000, 9000000, 42000000, 50000000, 26000000, 150000000, 30000000, 130000000, 5000000, 80000000, 145000000, 112000000, 30000000, 40000000, 23000000, 5000000, 65000000, 28000000, 25000000, 49000000, 90000000, 135000000, 7000000, 19800000, 39000000, 30000000, 178000000, 170000000, 3730500, 26000000, 75000000, 15000000, 16000000, 120000000, 25000000, 5000000, 150000000, 55000000, 23000000, 15000000, 50000000, 20000000, 180000000, 30000000, 8500000, 80000000, 12000000, 25000000, 150000000, 25000000, 70000000, 30000000, 125000000, 35000000, 51000000, 2500000, 100000000, 5000000, 140000000, 45000000, 12000000, 19000000, 40000000, 30000000, 28000000, 145000000, 1000000, 120000000, 35000000, 79000000, 60000000, 40000000, 53000000, 130000000, 25000000, 22000000, 40000000, 32000000, 35000000, 185000000, 6000000, 30000000, 34000000, 45000000, 120000000, 20000000, 30000000, 50000000, 32000000, 88000000, 22000000, 135000000, 15000000, 135000000, 5000000, 42000000, 30000000, 90000000, 60000000, 36000000, 35000000, 19500000, 60000000, 19000000, 84000000, 75000000, 170000000, 14000000, 70000000, 60000000, 7200000, 80000000, 35000000, 20000000, 58000000, 10000000, 447524, 150000000, 35000000, 19000000, 15700000, 25000000, 40000000, 100000000, 12000000, 16000000, 100000000, 22500000, 5000000, 40000000, 20000000, 50000000, 69000000, 29000000, 60000000, 250000, 10000000, 100000000, 50000000, 5000000, 29000000, 30000000, 200000000, 21000000, 3200000, 30000000, 35000000, 20000000, 3000000, 30000000, 150000000, 850000, 90000000, 55000000, 110000000, 200000, 4000000, 28000000, 58000000, 110000000, 50000000, 45000000, 36000000, 20000000, 60000000, 40000000, 7000000, 25000000, 250000000, 750000, 14000000, 110000000, 25000000, 8000000, 59000000, 25000000, 14000000, 48000000, 64000000, 10900000, 20000000, 25000000, 23000000, 9000000, 33000000, 70000000, 23000000, 40000000, 26000000, 24000000, 12000000, 12600000, 28000000, 35000000, 12000000, 30000000, 87500000, 28000000, 15000000, 52000000, 120000000, 209000000, 42000000, 5000000, 44000000, 9000000, 150000000, 4798235, 115000000, 13000000, 50000000, 75000000, 100000000, 185000000, 85000000, 18000000, 2000000, 120000000, 25000000, 140000000, 40000000, 1500000, 30000000, 40000000, 15000000, 150000000, 15000000, 10000000, 30000000, 35000000, 3000000, 55000000, 20000000, 20000000, 7500000, 22500000, 40000000, 18000000, 35000000, 45000000, 15000000, 8000000, 35000000, 85000000, 32000000, 10000000, 24000000, 75000000, 20000000, 60000000, 20000000, 103000000, 102000000, 3500000, 60000000, 177200000, 105000000, 60000000, 60000000, 69000000, 100000000, 138000000, 50000000, 35000000, 31500000, 25000000, 26000000, 130000000, 20000000, 34000000, 2000000, 40000000, 95000000, 12000000, 100000000, 25000000, 25000000, 65000000, 100000000, 25000000, 22000000, 10000000, 90000000, 45000000, 20000000, 30000000, 26000000, 110000000, 8000000, 50000000, 250000000, 50000000, 42000000, 14000000, 18000000, 40000000, 30000000, 20000000, 110000000, 95000000, 3500000, 8000000, 190000000, 43000000, 200000000, 30000000, 38000000, 82000000, 44000000, 50000000, 170000000, 10831173, 15000000, 7000000, 10000000, 250000, 40000000, 140000000, 15000000, 163000000, 40000000, 176000003, 5000000, 9000000, 35000000, 14000000, 5500000, 7000000, 100000000, 1500000, 5000000, 15000000, 62770198, 25000000, 255000000, 52000000, 195000000, 80000000, 5000000, 14000000, 12000000, 68000000, 60000000, 13000000, 587211, 500000, 70000000, 28000000, 45000000, 5000000, 25000000, 42000000, 40000000, 100000000, 8000000, 100000000, 14000000, 40000000, 25000000, 10000000, 35000000, 26000000, 30000000, 5000000, 500000, 35000000, 29000000, 50000000, 5000000, 35000000, 12500000, 15000000, 2000000, 32000000, 20000000, 5500000, 8500000, 70000000, 58000000, 175000000, 66000000, 25000000, 150000000, 40000000, 175000000, 12000000, 12000000, 20000000, 25000000, 17000000, 20000000, 70000000, 9500000, 50000000, 50000000, 43000000, 14000000, 8000000, 68000000, 30000000, 22000000, 24000000, 50000000, 10000000, 10000000, 35000000, 60000000, 75000000, 60000000, 14000000, 16000000, 20000000, 65000000, 55000000, 95000000, 11000000, 45000000, 2000000, 15000000, 5000000, 40000000, 5000000, 20000000, 25000000, 15000000, 20000000, 24000000, 6600000, 35000000, 30000000, 22000000, 26000000, 37000000, 8000000, 90000000, 10000000, 13000000, 38000000, 15000000, 40000000, 34000000, 8000000, 35000000, 2800000, 45000000, 20000000, 40000000, 15000000, 18000000, 80000000, 4000000, 55000000, 30000000, 10000000, 2000000, 25000000, 35000000, 10000000, 25000000, 650000, 56000000, 40000000, 27000000, 4000000, 40000000, 130000000, 20000000, 22000000, 28000000, 25000000, 32000000, 12000000, 1500000, 9000000, 5000000, 49900000, 9600000, 3000000, 15000000, 5000000, 15000000, 34000000, 30000000, 7000000, 30000000, 40000000, 125000000, 60000000, 30000000, 9000000, 3000000, 25000000, 8000000, 50000000, 20000000, 35000000, 31000000, 7000000, 25000000, 5000000, 6000000, 4900000, 10000000, 4000000, 10000000, 22000000, 5000000, 10000000, 10000000, 8500000, 10000000, 20000000, 6000000, 4000000, 25000000, 6500000, 35000000, 8000000, 10000000, 14350531, 200000000, 13300000, 17500000, 2000000, 35000000, 13000000, 120000000, 30000000, 55000000, 19000000, 20000000, 18500000, 160000000, 60000000, 25000000, 318000, 18000000, 16000000, 8900000, 60000000, 25000000, 2900000, 6300000, 25000000, 4000000, 21000000, 22000000, 38000000, 30000000, 20500000, 10000000, 28210303, 12700000, 7000000, 39000000, 10000000, 25000000, 7000000, 17000000, 2000000, 28000000, 2000000, 21500000, 7700000, 8000000, 30000000, 70000000, 12500000, 15000000, 2000000, 3000000, 30000000, 8000000, 28000000, 12500000, 15000000, 19100000, 19000000, 20000000, 33000000, 30000000, 36000000, 70000000, 11000000, 6700000, 19000000, 44000000, 150000000, 50000000, 14000000, 4000000, 5000000, 8500000, 5000000, 8933400, 16000000, 47000000, 9800000, 8000000, 20000000, 15000000, 25000000, 7000000, 108000000, 17000000, 12250000, 500000, 41000000, 1000000, 10000000, 7500000, 12000000, 10000000, 3000000, 3500000, 30000000, 5000000, 2500000, 8500000, 10000000, 5000000, 4000000, 12000000, 10000000, 25000000, 10000000, 13000000, 15000000, 13000000, 16000000, 12000000, 14000000, 10000000, 25000000, 11500000, 12000000, 10000000, 2000000, 4000000, 2400000, 30000000, 10000000, 15000000, 25500000, 16000000, 17000000, 12500000, 28000000, 7000000, 10000000, 1000000, 8000000, 6000000, 6000000, 4000000, 7000000, 9500000, 2500000, 8000000, 26350000, 4500000, 8000000, 20000000, 4500000, 10000000, 14000000, 3000000, 40000000, 4000000, 8000000, 6000000, 5000000, 20000000, 2000000, 900000, 3800000, 150000000, 144000000, 10000000, 1000000, 30000000, 13500000, 20000000, 30000000, 100000000, 135000000, 20000000, 16500000, 10000000, 40000000, 4900000, 55000000, 6000000, 5000000, 10000000, 7000000, 5000000, 25000000, 25000000, 185000000, 100000000, 2500000, 8000000, 5000000, 6000000, 4000000, 35000000, 2100000, 5000000, 22000000, 1500000, 12000000, 11000000, 160000000, 10500000, 125000000, 150000000], \"xaxis\": \"x\", \"y\": [618886436, 203378186, 42864410, 565651467, 3503711, 100758490, 17635162, 11214200, 74462037, 98057032, 61882090, 174512032, 250907969, 47854305, 202039844, 250547661, 67632527, 8779150, 34185884, 269454358, 143968835, 86328627, 408999102, 137802657, 79515113, 91830493, 120679266, 316398046, 245485178, 17286781, 295166834, 3117802, 70267874, 306494638, 160739368, 57659584, 98590271, 291515884, 665381748, 323939361, 1851683, 93450062, 1838783, 85894962, 146712077, 851655259, 63760877, 157885588, 219555708, 61336603, 15024987, 3739705, 147930487, 1085398397, 285937718, 45682041, 252665134, 416486224, 13659448, 298752656, 126836156, 724612155, 561967, 30949086, 48425855, 954799409, 235184580, 894766005, 40519588, 102928365, 226999039, 56105672, 2230735, 44137666, 400188866, 6605073, 108587880, 53978653, 19307746, 128312928, 35056892, 800457937, 36923945, 418863600, 56687529, 215412453, 102983889, 51411585, 1520400637, 50736588, 499368315, 49418872, 19528593, 1216511219, 196197492, 872077546, 9656155, 37887595, 124056262, 94438188, 188314186, 630491347, 92952888, 314319861, 155935, 4560438, 136826547, 8197072, 175833312, 31205850, 258144079, 131428180, 17452114, 1300026933, 51615777, 172949437, 12793601, 210956898, 67026216, 167733202, 183035819, 488626372, 619394724, 782244782, 163936074, 72705746, 20019390, 319126022, 40173154, 118432856, 39779195, 102890699, 39446287, 157243185, 255883523, 69988148, 191639112, 151685792, 75978266, 90731865, 559151679, 111636097, 89888019, 36898409, 88129872, 331141306, 7345298, 14527747, 108726688, 82573028, 714868, 121224951, 84070507, 280392818, 1325047671, 70200936, 208532921, 24358103, 103013057, 55464861, 2441800564, 48078146, 68903124, 137563598, 474113985, 272242626, 408060692, 269232797, 36687665, 201252591, 86036827, 111955898, 79244913, 976274794, 41521766, 121552359, 121705322, 95216998, 506764305, 740085151, 232994119, 75100449, 380809770, 55600152, 988461807, 173634991, 309377, 73512300, 33656854, 18401949, 971927996, 67274843, 301266433, 102100758, 17994648, 326545846, 29823764, 618192705, 11796834, 5396033, 709746820, 1298812988, 70497035, 1748359754, 278479141, 436595957, 78042097, 98350426, 873784195, 1146913161, 316985018, 56984887, 624546611, 735011746, 192945087, 214276927, 448583774, 281333876, 166114570, 602205856, 76335025, 54188367, 37387131, 297789811, 80918706, 133970776, 671575993, 522021436, 1396943394, 5181001, 21358716, 26724284, 211171807, 52695489, 78400823, 1042805359, 129468902, 51621140, 36046590, 898394593, 63838111, 71446075, 176952420, 1014811252, 630356711, 308330363, 394093228, 134849455, 174838559, 124228077, 271709727, 394800000, 29401758, 127089026, 3674699, 146586701, 146506819, 4839368, 522161890, 31558601, 142936941, 867693953, 928794079, 80542952, 85215094, 37640143, 447351353, 187978523, 51076141, 184920315, 1152805868, 38898992, 50619773, 35316528, 16004039, 18386555, 91026990, 908561013, 159564672, 672847012, 791550600, 26893421, 8971298, 28657696, 4433926, 26438988, 157967670, 393866518, 350051293, 92118226, 186930771, 866969703, 43329150, 38863365, 129291809, 856057273, 894054072, 29921560, 55572631, 320044706, 21236153, 169101214, 210095986, 187825503, 130772375, 668322032, 350993183, 388800873, 20915966, 41738549, 601921274, 20804448, 828570889, 35209744, 8312540, 104190869, 251296056, 333351546, 33097853, 825467110, 61976666, 227370135, 453749323, 123959590, 163044905, 489016565, 61196538, 20070261, 48273173, 72632641, 80375432, 705166924, 120847207, 501137675, 240228084, 138965010, 278840316, 986005118, 78690254, 628679850, 42939297, 682611174, 19487848, 155179299, 77644617, 76942115, 192786137, 395781117, 279333929, 106402450, 159585328, 189258712, 549713380, 94772232, 105440870, 673977126, 276723989, 136567581, 184989584, 29461274, 102560428, 12876066, 226175335, 57983003, 115332697, 903296293, 632082196, 89984666, 285971656, 267695435, 587600867, 17787526, 602776600, 532714267, 634037575, 56282227, 176349749, 14082592, 105710029, 140450918, 34902237, 62708134, 66251425, 73017294, 172809600, 11111701, 613115104, 515692281, 37782670, 482674139, 5128603, 23734502, 251186032, 133930596, 166972543, 5346808, 452204668, 167776646, 418848418, 831041287, 363990832, 663756051, 55835710, 66013056, 164215889, 131539887, 476537519, 571846894, 114542245, 49191523, 424987477, 52263166, 162902372, 107470746, 11392418, 81209378, 325368238, 129837010, 210293450, 256260290, 273375603, 402965936, 41837234, 578410378, 544421503, 540644566, 79545505, 164485654, 285540831, 117026136, 18863452, 110374099, 125478348, 512718395, 140400345, 498344137, 41123210, 512463813, 46548707, 67514453, 767003568, 261118277, 392799505, 9128575, 22474280, 37945860, 60547866, 105795793, 180797623, 389311965, 32980821, 89942387, 492827828, 163791811, 29712000, 74357138, 397950503, 14735344, 306902662, 44389433, 368214993, 94041322, 5871522, 292000694, 49316289, 231950384, 726536918, 303579038, 360004754, 114802912, 71262212, 128185859, 708366855, 706019788, 47667874, 84281051, 559056935, 474783140, 274717445, 543559607, 244897606, 148427584, 29811919, 35065672, 175159255, 214804195, 120184237, 106661977, 158340595, 170666219, 52216294, 129769457, 376170825, 72654149, 635674609, 74105878, 115078586, 508982323, 111760117, 380243742, 542930663, 111160045, 15150265, 30128352, 32681062, 55229695, 259000072, 37501541, 62305549, 75011053, 40032889, 124804407, 623634919, 137330738, 69594140, 332989645, 56799880, 564861794, 59188165, 66282604, 295484914, 294828246, 76228221, 51526996, 194470394, 68188903, 141006387, 72820008, 145754447, 121464676, 96333522, 144594016, 132361754, 203885818, 9624522, 59918541, 23856058, 191430189, 47876281, 42738797, 82867984, 248641895, 110887643, 88352517, 46787908, 46899242, 81980662, 407890172, 70014025, 92820716, 58080890, 11593554, 212654182, 242545360, 80694863, 87427681, 137183546, 454855901, 11373843, 284231607, 340719763, 13561904, 22613173, 146780824, 111502194, 221669741, 48829270, 1314090, 54781695, 87994610, 80679066, 87233108, 147863606, 108662963, 214975955, 25879877, 86069509, 85729635, 32052899, 423933331, 2114953, 143817906, 84605297, 25270721, 147124280, 80102725, 273354469, 210650585, 73007109, 166984278, 79094902, 137277636, 381652812, 61970827, 227580051, 20658387, 128400157, 365934105, 34229361, 40673972, 354323962, 151904017, 329878759, 21935319, 299326618, 99878437, 19820616, 496045700, 443045518, 49188937, 74343513, 62539426, 23485056, 96965787, 12623767, 57937815, 145021259, 120953723, 180650803, 46181428, 80810399, 19253166, 47629670, 190745055, 245740705, 71906372, 41647656, 9444502, 78885527, 243993951, 234200044, 306222889, 236204635, 46009334, 285603537, 69588225, 54872444, 241515621, 54790678, 359852396, 388425157, 71711453, 50130625, 156874809, 178780441, 221864462, 97263880, 4418591, 21213241, 399026776, 114379533, 193144152, 35030051, 665713802, 279048914, 87328301, 34806823, 14816139, 100260952, 6898293, 60437994, 20726956, 49844582, 189268508, 51244605, 102146076, 340007876, 186482446, 15270399, 84866593, 14371096, 134945591, 111584879, 219537494, 260686217, 41980456, 50509622, 40414761, 168426634, 183503354, 58320380, 185069199, 9950164, 306730089, 17369129, 76126687, 230569774, 39543328, 24661919, 49293444, 122744377, 31023780, 40663276, 30830607, 29120948, 113388953, 111613180, 41918658, 48418811, 59560591, 2409596, 60337295, 58932565, 10361137, 50686066, 108856751, 20384127, 65645357, 43416730, 3090608, 26202283, 123510197, 69501299, 77669379, 86044638, 22930465, 24492652, 7666449, 30507267, 53215156, 57224595, 224736354, 45055070, 25426912, 171140700, 147233113, 29779728, 96459297, 18539126, 143891763, 191885765, 11722766, 21869414, 277365246, 27664414, 13088533, 52528280, 57984015, 144819862, 28987096, 70682635, 123076205, 57470701, 179868961, 100270201, 49920539, 12833967, 57138686, 106714959, 21233517, 91491279, 70081841, 50157237, 124657577, 131497209, 166168572, 1661020, 5515914, 234852543, 26158254, 27347283, 224681935, 573313, 230062763, 47347656, 47087155, 64462508, 18126386, 28050886, 44068246, 226592829, 39935600, 75563930, 26432579, 23681746, 46093313, 143890701, 127908210, 15682872, 13064015, 26089287, 51720255, 38731669, 23325328, 51627228, 17972096, 25636368, 231002906, 332461732, 76515867, 25491656, 216600138, 82792047, 75503748, 22656399, 37448651, 31012642, 186365676, 144930436, 184933831, 3067103, 85641650, 109850315, 6084630, 5835126, 8691096, 78695338, 26449416, 192616690, 60206216, 82572634, 23967255, 208930656, 357924295, 47189756, 46752352, 32795985, 70940411, 40837743, 37055695, 46234523, 34626786, 28918723, 98018522, 17226382, 10370020, 48260376, 56956330, 29404159, 169713881, 33782078, 146144750, 5606667, 89852759, 161941670, 125382724, 33414135, 44384002, 25517427, 5536956, 71853506, 30834384, 27395996, 53811889, 98133322, 147570682, 7618727, 21496320, 42491068, 32675095, 192541256, 183284621, 3977812, 27120346, 77930623, 15519436, 16390945, 122688965, 25401502, 5090641, 151970083, 55387072, 23152800, 15138754, 49783556, 19782683, 176700357, 29284015, 8279212, 77107755, 11468586, 23782670, 140930148, 23333932, 64748021, 27814445, 115697856, 32450815, 47203196, 2306423, 92306508, 4588282, 128175631, 41165646, 10939027, 17192775, 36130093, 27076286, 25260230, 130698039, 897363, 107817248, 31308758, 70673788, 53231078, 35320680, 46775678, 113611982, 21710283, 19087017, 34597643, 27636523, 30100369, 158471816, 5122090, 25611001, 28944815, 37966152, 101600160, 16606743, 24819301, 41490353, 26409247, 72542134, 18140972, 110724603, 12293743, 110623848, 4037058, 33984700, 24169363, 72360636, 48255770, 28735752, 27832209, 15354990, 47139399, 14705333, 64075565, 57274484, 129457024, 10637800, 53081555, 45200903, 5429471, 60073390, 26181942, 14718173, 42541806, 7287309, 327256, 109239658, 25321861, 13686500, 11339669, 17972994, 28743485, 71616764, 8596567, 11405896, 70458922, 15676317, 3493728, 27647013, 13766787, 34419388, 47471580, 19902953, 41134059, 169952, 6810562, 67805466, 33761844, 3377987, 19453605, 19871429, 132207671, 13814102, 2094643, 19562710, 22824674, 12948113, 1935501, 19263404, 95527149, 536088, 56936910, 34519773, 69246868, 124977, 2504366, 17236543, 35492844, 67238796, 30383113, 27381712, 21824533, 12054369, 35396573, 23458440, 4027222, 14280992, 142924807, 419750, 7753365, 59801921, 13483455, 4294931, 31497778, 13269529, 7409028, 25279888, 33571250, 5707575, 10426096, 12989684, 11934009, 4627519, 16939757, 35697415, 11513760, 20040976, 12609668, 11626958, 5768012, 6058381, 13363927, 16380201, 5496820, 13763247, 39961872, 12662632, 6766271, 23450437, 53961069, 94025485, 18845711, 2208231, 19365859, 3957265, 65283742, 2081432, 49989338, 5637201, 21561644, 32045109, 42337240, 76119292, 34520023, 7312387, 801508, 47882881, 9942188, 55243411, 15668698, 582980, 11564670, 15247881, 5546518, 55366737, 5529194, 3676590, 11002607, 12756590, 1080073, 19679822, 7187375, 7093592, 2609659, 7811857, 13873809, 6174885, 11922566, 15331447, 5045576, 2702246, 11522137, 27483764, 10059111, 3082071, 7410151, 23159963, 6152835, 18309505, 5975621, 29675864, 28482868, 962034, 16419755, 48674228, 28718711, 16249438, 16073488, 17855739, 25648512, 35469516, 12788218, 8155261, 7303993, 5722632, 5807156, 29196259, 4261569, 7142379, 417165, 8147945, 19178613, 2401617, 19559110, 4824199, 4674699, 11801179, 17831631, 4397654, 3798915, 1681781, 14414200, 7185751, 3177948, 4441873, 3699345, 15544024, 1128263, 6996304, 34139100, 6722693, 5636031, 1843274, 2275812, 4907260, 3448971, 2227514, 11790373, 9907746, 362498, 809407, 19035668, 4309313, 19851172, 2917353, 3657844, 7792502, 4190704, 4622814, 15770160, 958440, 1322067, 609187, 835752, 20185, 3070915, 10680864, 1137046, 11822325, 1863726, 7887720, 218973, 374932, 1288132, 459330, 170776, 214806, 3039258, 44989, 140925, 383580, 1471301, 601244, 5502115, 830951, 2687603, 1126522, 42014, 107313, 77441, 267862, 52138, 15764, 0, -275, -278034, -737626, -1254458, -157301, -878755, -1533030, -1919211, -5117451, -467741, -6079242, -918349, -2642784, -1691385, -677105, -2482752, -1920732, -2562119, -445584, -49725, -3494713, -3042518, -5333865, -546366, -3916401, -1395445, -1686419, -224867, -3741940, -2427711, -675501, -1044602, -8720548, -7634502, -23216161, -8915478, -3499187, -21611680, -5772702, -26324934, -1826318, -1883184, -3136417, -3988890, -2910472, -3450523, -12280907, -1695663, -8962258, -9090091, -7835080, -2582638, -1508760, -12996110, -5827799, -4330224, -4793487, -10015600, -2002226, -2005473, -7014212, -12335441, -15581387, -12724305, -2983557, -3441069, -4308360, -14049704, -11946624, -21263856, -2473712, -10381133, -473302, -3569975, -1230786, -10081255, -1258902, -5119061, -6401393, -3960969, -5289025, -6387901, -1871599, -10027861, -8639785, -6339332, -7522264, -10749980, -2340714, -26476717, -2968271, -3898454, -11648678, -4632839, -12493548, -10644900, -2531350, -11187184, -917926, -14865042, -6614263, -13379998, -5095205, -6193568, -27900910, -1404378, -19330983, -10736062, -3587651, -721350, -9110876, -12873158, -3727597, -9376817, -244620, -21262801, -15280785, -10466405, -1568557, -15822863, -51675780, -7992930, -8974140, -11542506, -10545378, -13590109, -5109568, -649581, -3920781, -2179510, -21886267, -4216903, -1324619, -6877010, -2299949, -6913000, -15736530, -13919525, -3280617, -14357654, -19196158, -60506085, -29199769, -14604913, -4385781, -1466126, -12248333, -3941887, -24964050, -10004308, -17584582, -15865707, -3622570, -13071091, -2620846, -3159592, -2586491, -5295243, -2125540, -5318349, -11699584, -2666316, -5355528, -5366332, -4573614, -5403295, -10909960, -3288621, -2193452, -13831288, -3608188, -19499356, -4505846, -5633540, -8144509, -113510969, -7564037, -10045815, -1156630, -20568747, -7651951, -71331093, -17895235, -33052791, -11449927, -12057907, -11169662, -97232171, -36842354, -15382623, -196821, -11259353, -10047116, -5605683, -37812187, -15795451, -1851296, -4046181, -16191389, -2605948, -13705200, -14365978, -24856944, -19686981, -13470905, -6571952, -18559751, -8407483, -4639719, -25938509, -6665073, -16692773, -4683029, -11447504, -1349325, -18941436, -1363294, -14682465, -5264675, -5481988, -20669925, -48244582, -8621007, -10372625, -1384500, -2078248, -20830493, -5556416, -19472342, -8716135, -10489066, -13371787, -13421481, -14217485, -23505211, -21496342, -25882034, -50347943, -7937822, -4875322, -13896337, -32217375, -110766322, -37048907, -10378954, -2968757, -3721610, -6446531, -3805039, -6800367, -12180579, -36096688, -7531038, -6171768, -15447030, -11605826, -19535115, -5525529, -85321445, -13437207, -9739993, -398271, -32820584, -800558, -8136494, -6137982, -9830201, -8221979, -2466765, -2884184, -24813233, -4144815, -2077382, -7071638, -8328804, -4173087, -3340063, -10053746, -8414417, -21114658, -8587819, -11167459, -12957797, -11232037, -13915372, -10456387, -12244788, -8752812, -21932469, -10097693, -10543325, -8796301, -1763194, -3540364, -2125283, -26661310, -8935546, -13416313, -22933565, -14424251, -15337485, -11290291, -25375239, -6350374, -9171716, -920376, -7392405, -5591082, -5591841, -3741777, -6550298, -8904198, -2343810, -7512580, -24773313, -4232524, -7573509, -19095601, -4308981, -9591320, -13435136, -2882322, -38548657, -3856515, -7729029, -5798110, -4838381, -19363601, -1939952, -873392, -3688269, -146156226, -140419657, -9751630, -975657, -29321850, -13207331, -19594139, -29423195, -98304881, -132813284, -19683056, -16256207, -9888893, -39586156, -4853971, -54509709, -5948983, -4959600, -9919888, -6953512, -4966958, -24859877, -24871529, -184138370, -99577378, -2491685, -7974397, -4985853, -5984929, -3990779, -34921043, -2096670, -4992444, -21967341, -1498062, -11984780, -10987958, -159849809, -10496549, -124981919, -149997007], \"yaxis\": \"y\"}, {\"alignmentgroup\": \"True\", \"customdata\": [[\"Logan\"], [\"Arrival\"], [\"The Gallows\"], [\"Fifty Shades of Grey\"], [\"Catfish\"], [\"The Devil Inside\"], [\"The Quiet Ones\"], [\"Snow Flower and the Secret Fan\"], [\"Searching\"], [\"Insidious\"], [\"Unfriended\"], [\"Paranormal Activity 2\"], [\"Get Out\"], [\"The Woman in Black 2: Angel of Death\"], [\"Paranormal Activity 3\"], [\"Annabelle\"], [\"The Last Exorcism\"], [\"Like Crazy\"], [\"Courageous\"], [\"Split\"], [\"Lights Out\"], [\"The Purge\"], [\"The King's Speech\"], [\"Paranormal Activity 4\"], [\"Sinister\"], [\"Truth or Dare\"], [\"Happy Death Day\"], [\"Black Swan\"], [\"Halloween\"], [\"Dope\"], [\"The Fault in Our Stars\"], [\"Your Sister's Sister\"], [\"War Room\"], [\"The Conjuring\"], [\"Magic Mike\"], [\"A Haunted House\"], [\"Ouija\"], [\"Annabelle: Creation\"], [\"It\"], [\"A Quiet Place\"], [\"A Ghost Story\"], [\"The Visit\"], [\"Another Earth\"], [\"Paranormal Activity: The Marked Ones\"], [\"Escape Room\"], [\"Bohemian Rhapsody\"], [\"A Beautiful Day in the Neighborhood\"], [\"Insidious: The Last Key\"], [\"The Imitation Game\"], [\"Moonlight\"], [\"Unfriended: Dark Web\"], [\"Sleight\"], [\"Don't Breathe\"], [\"Minions\"], [\"Wonder\"], [\"Whiplash\"], [\"Neighbors\"], [\"La La Land\"], [\"Hello, My Name Is Doris\"], [\"Green Book\"], [\"The Best Exotic Marigold Hotel\"], [\"Deadpool\"], [\"Life in a Day\"], [\"2016: Obama's America\"], [\"The Boy Next Door\"], [\"Despicable Me 3\"], [\"Us\"], [\"Despicable Me 2\"], [\"Winchester\"], [\"The Purge: Anarchy\"], [\"Glass\"], [\"Ma\"], [\"The Grace Card\"], [\"Boyhood\"], [\"A Star Is Born\"], [\"Grandma\"], [\"The Purge: Election Year\"], [\"The Gift\"], [\"Beasts of the Southern Wild\"], [\"Lion\"], [\"The Lazarus Effect\"], [\"The Secret Life of Pets\"], [\"The Witch\"], [\"Lucy\"], [\"47 Meters Down\"], [\"Silver Linings Playbook\"], [\"Insidious: Chapter 3\"], [\"The Big Sick\"], [\"Jurassic World\"], [\"Dallas Buyers Club\"], [\"Ted\"], [\"No Escape\"], [\"It Follows\"], [\"Harry Potter and the Deathly Hallows: Part 2\"], [\"Bad Teacher\"], [\"Jumanji: Welcome to the Jungle\"], [\"The Sessions\"], [\"Call Me by Your Name\"], [\"The First Purge\"], [\"Book Club\"], [\"Me Before You\"], [\"The Twilight Saga: Eclipse\"], [\"Jigsaw\"], [\"The Maze Runner\"], [\"Bellflower\"], [\"Monsters\"], [\"Jackass Presents: Bad Grandpa\"], [\"Meet the Blacks\"], [\"The Shape of Water\"], [\"The Kids Are All Right\"], [\"Pitch Perfect 2\"], [\"Mama\"], [\"Buried\"], [\"Frozen II\"], [\"Ready or Not\"], [\"Downton Abbey\"], [\"Unsane\"], [\"Hidden Figures\"], [\"Easy A\"], [\"12 Years a Slave\"], [\"A Dog's Purpose\"], [\"American Sniper\"], [\"The Hunger Games\"], [\"Ice Age: Continental Drift\"], [\"Bad Moms\"], [\"Ouija: Origin of Evil\"], [\"Hunt for the Wilderpeople\"], [\"The Karate Kid\"], [\"Blair Witch\"], [\"The Artist\"], [\"Still Alice\"], [\"The Iron Lady\"], [\"Oculus\"], [\"The Descendants\"], [\"Bridesmaids\"], [\"Manchester by the Sea\"], [\"The Help\"], [\"Jackass 3D\"], [\"The Second Best Exotic Marigold Hotel\"], [\"Project X\"], [\"Sing\"], [\"Chronicle\"], [\"Heaven Is for Real\"], [\"As Above, So Below\"], [\"Philomena\"], [\"Taken 2\"], [\"I Am Not Your Negro\"], [\"Silent House\"], [\"The Theory of Everything\"], [\"Dirty Grandpa\"], [\"Tangerine\"], [\"Let's Be Cops\"], [\"Think Like a Man\"], [\"The Conjuring 2\"], [\"Furious 7\"], [\"Hereditary\"], [\"Crazy Rich Asians\"], [\"Dark Skies\"], [\"Magic Mike XXL\"], [\"Begin Again\"], [\"Avengers: Endgame\"], [\"End of Watch\"], [\"Paranormal Activity: The Ghost Dimension\"], [\"Hustlers\"], [\"Despicable Me\"], [\"Resident Evil: The Final Chapter\"], [\"The Lego Movie\"], [\"Knives Out\"], [\"Loving Vincent\"], [\"Annabelle Comes Home\"], [\"Justin Bieber: Never Say Never\"], [\"The Woman in Black\"], [\"Overboard\"], [\"Captain Marvel\"], [\"Countdown\"], [\"Girls Trip\"], [\"Sausage Party\"], [\"10 Cloverfield Lane\"], [\"The Hangover Part II\"], [\"Venom\"], [\"We're the Millers\"], [\"About Time\"], [\"Les Mis\\u00e9rables\"], [\"Happy Death Day 2U\"], [\"Aquaman\"], [\"Straight Outta Compton\"], [\"K-12\"], [\"Paper Towns\"], [\"Show Dogs\"], [\"Love & Friendship\"], [\"Spider-Man: Far from Home\"], [\"If I Stay\"], [\"Peter Rabbit\"], [\"The Shallows\"], [\"Before Midnight\"], [\"Fifty Shades Darker\"], [\"Chimpanzee\"], [\"Gravity\"], [\"Winter's Bone\"], [\"Lowriders\"], [\"The Twilight Saga: Breaking Dawn - Part 2\"], [\"The Avengers\"], [\"Act of Valor\"], [\"Avengers: Infinity War\"], [\"Taken 3\"], [\"The Grinch\"], [\"Crawl\"], [\"Pitch Perfect\"], [\"Zootopia\"], [\"Black Panther\"], [\"Fifty Shades Freed\"], [\"Skyline\"], [\"Deadpool 2\"], [\"The Hunger Games: Catching Fire\"], [\"Baby Driver\"], [\"True Grit\"], [\"Hotel Transylvania 3: Summer Vacation\"], [\"22 Jump Street\"], [\"The Vow\"], [\"The Twilight Saga: Breaking Dawn - Part 1\"], [\"Jojo Rabbit\"], [\"The Boy\"], [\"House at the End of the Street\"], [\"Murder on the Orient Express\"], [\"The Favourite\"], [\"Johnny English Strikes Again\"], [\"Jumanji: The Next Level\"], [\"Logan\"], [\"The Lion King\"], [\"Four Lions\"], [\"A Haunted House 2\"], [\"Spring Breakers\"], [\"American Hustle\"], [\"Devil\"], [\"BlacKkKlansman\"], [\"Incredibles 2\"], [\"Ride Along\"], [\"Everything, Everything\"], [\"Gifted\"], [\"Toy Story 4\"], [\"The Ides of March\"], [\"The Possession\"], [\"Bridget Jones's Baby\"], [\"Iron Man 3\"], [\"The Hunger Games: Mockingjay - Part 1\"], [\"Gone Girl\"], [\"It Chapter Two\"], [\"Limitless\"], [\"Horrible Bosses\"], [\"No Strings Attached\"], [\"John Wick: Chapter 3 - Parabellum\"], [\"Hotel Transylvania 2\"], [\"Room\"], [\"Yesterday\"], [\"Safety Not Guaranteed\"], [\"The Hitman's Bodyguard\"], [\"Looper\"], [\"20 Feet from Stardom\"], [\"The Martian\"], [\"Jumping the Broom\"], [\"The Grand Budapest Hotel\"], [\"Aladdin\"], [\"Transformers: Dark of the Moon\"], [\"Evil Dead\"], [\"Birdman or (The Unexpected Virtue of Ignorance)\"], [\"That Awkward Moment\"], [\"Cinderella\"], [\"Paddington 2\"], [\"Brooklyn\"], [\"The Social Network\"], [\"Avengers: Age of Ultron\"], [\"Nightcrawler\"], [\"Woman in Gold\"], [\"The Possession of Hannah Grace\"], [\"Margin Call\"], [\"Late Night\"], [\"Good Boys\"], [\"Skyfall\"], [\"The Intern\"], [\"Wonder Woman\"], [\"The Jungle Book\"], [\"Brightburn\"], [\"The Florida Project\"], [\"My Week with Marilyn\"], [\"An Inconvenient Sequel: Truth to Power\"], [\"Movie 43\"], [\"Gnomeo & Juliet\"], [\"Rio\"], [\"The Secret Life of Pets 2\"], [\"Pet Sematary\"], [\"The Heat\"], [\"Toy Story 3\"], [\"Sinister 2\"], [\"Midsommar\"], [\"Step Up 3D\"], [\"Rogue One: A Star Wars Story\"], [\"Transformers: Age of Extinction\"], [\"Devil's Due\"], [\"The Call\"], [\"Mamma Mia! Here We Go Again\"], [\"Apollo 18\"], [\"Little Women\"], [\"Super 8\"], [\"Argo\"], [\"Flight\"], [\"Inception\"], [\"The Greatest Showman\"], [\"Rise of the Planet of the Apes\"], [\"Paul, Apostle of Christ\"], [\"Slender Man\"], [\"Madagascar 3: Europe's Most Wanted\"], [\"Our Idiot Brother\"], [\"Finding Dory\"], [\"The DUFF\"], [\"The Babadook\"], [\"The Fighter\"], [\"Maze Runner: The Scorch Trials\"], [\"Kingsman: The Secret Service\"], [\"50/50\"], [\"Alice in Wonderland\"], [\"Drive\"], [\"Paddington\"], [\"The Smurfs\"], [\"Midnight in Paris\"], [\"The Addams Family\"], [\"Life of Pi\"], [\"Diary of a Wimpy Kid\"], [\"Race\"], [\"The Perfect Guy\"], [\"My Big Fat Greek Wedding 2\"], [\"Tammy\"], [\"Spider-Man: Homecoming\"], [\"Darkest Hour\"], [\"Fast Five\"], [\"Resident Evil: Afterlife\"], [\"Identity Thief\"], [\"The Lorax\"], [\"The Fate of the Furious\"], [\"Spotlight\"], [\"Fast & Furious 6\"], [\"I, Tonya\"], [\"Inside Out\"], [\"God's Not Dead 2\"], [\"Rocketman\"], [\"A Simple Favor\"], [\"The Shack\"], [\"Daddy's Home\"], [\"Rio 2\"], [\"The Angry Birds Movie\"], [\"Last Vegas\"], [\"21 Jump Street\"], [\"Planes\"], [\"Mission: Impossible - Ghost Protocol\"], [\"Parental Guidance\"], [\"The Big Short\"], [\"Thor: Ragnarok\"], [\"Now You See Me\"], [\"Creed\"], [\"American Reunion\"], [\"A Walk in the Woods\"], [\"A Bad Moms Christmas\"], [\"Forever My Girl\"], [\"Maze Runner: The Death Cure\"], [\"Miracles from Heaven\"], [\"Source Code\"], [\"Captain America: Civil War\"], [\"Coco\"], [\"Dear John\"], [\"Shazam!\"], [\"Alvin and the Chipmunks: Chipwrecked\"], [\"Shrek Forever After\"], [\"Captain Fantastic\"], [\"Guardians of the Galaxy\"], [\"Mission: Impossible - Rogue Nation\"], [\"Fantastic Beasts and Where to Find Them\"], [\"Second Act\"], [\"Hansel & Gretel: Witch Hunters\"], [\"The Lighthouse\"], [\"Unknown\"], [\"Hacksaw Ridge\"], [\"Child's Play\"], [\"A Dog's Way Home\"], [\"Nerve\"], [\"Blockers\"], [\"Non-Stop\"], [\"Beginners\"], [\"Mission: Impossible - Fallout\"], [\"Kung Fu Panda 2\"], [\"Mother's Day\"], [\"Ant-Man and the Wasp\"], [\"Southside with You\"], [\"Norm of the North\"], [\"The SpongeBob Movie: Sponge Out of Water\"], [\"In Time\"], [\"Central Intelligence\"], [\"What We Do in the Shadows\"], [\"The Croods\"], [\"The Emoji Movie\"], [\"Sherlock Holmes: A Game of Shadows\"], [\"The Dark Knight Rises\"], [\"San Andreas\"], [\"Guardians of the Galaxy Vol. 2\"], [\"The Best Man Holiday\"], [\"John Wick\"], [\"Creed II\"], [\"John Wick: Chapter 2\"], [\"How to Train Your Dragon 2\"], [\"Suicide Squad\"], [\"Friends with Benefits\"], [\"The Danish Girl\"], [\"Puss in Boots\"], [\"Moonrise Kingdom\"], [\"Into the Woods\"], [\"Step Up Revolution\"], [\"Blue Valentine\"], [\"Shaun the Sheep Movie\"], [\"Django Unchained\"], [\"Dumb and Dumber To\"], [\"Lincoln\"], [\"Journey 2: The Mysterious Island\"], [\"Hotel Transylvania\"], [\"The Boss Baby\"], [\"St. Vincent\"], [\"Maleficent\"], [\"Captain America: The Winter Soldier\"], [\"Dawn of the Planet of the Apes\"], [\"Scary Stories to Tell in the Dark\"], [\"Valentine's Day\"], [\"Spider-Man: Into the Spider-Verse\"], [\"The Town\"], [\"Booksmart\"], [\"The Foreigner\"], [\"Bridge of Spies\"], [\"Doctor Strange\"], [\"Pitch Perfect 3\"], [\"The Hunger Games: Mockingjay - Part 2\"], [\"No Good Deed\"], [\"Interstellar\"], [\"Krampus\"], [\"The Hundred-Foot Journey\"], [\"The Hobbit: An Unexpected Journey\"], [\"xXx: Return of Xander Cage\"], [\"How to Train Your Dragon: The Hidden World\"], [\"Bachelorette\"], [\"The Bye Bye Man\"], [\"About Last Night\"], [\"Vampires Suck\"], [\"Trainwreck\"], [\"Sully\"], [\"Ant-Man\"], [\"Wind River\"], [\"The Commuter\"], [\"Big Hero 6\"], [\"Captain Phillips\"], [\"The Forest\"], [\"The Lucky One\"], [\"The Revenant\"], [\"It Comes at Night\"], [\"Kingsman: The Golden Circle\"], [\"One Day\"], [\"Clash of the Titans\"], [\"This Is the End\"], [\"Inside Job\"], [\"The Wolf of Wall Street\"], [\"Love, Simon\"], [\"The Lego Batman Movie\"], [\"Harry Potter and the Deathly Hallows: Part 1\"], [\"Ice Age: Collision Course\"], [\"Teenage Mutant Ninja Turtles\"], [\"Lone Survivor\"], [\"Contraband\"], [\"The Girl on the Train\"], [\"The Hobbit: The Desolation of Smaug\"], [\"The Hobbit: The Battle of the Five Armies\"], [\"God's Not Dead\"], [\"Hope Springs\"], [\"Fast & Furious Presents: Hobbs & Shaw\"], [\"Thor: The Dark World\"], [\"1917\"], [\"Monsters University\"], [\"Now You See Me 2\"], [\"Everest\"], [\"Fighting with My Family\"], [\"21 & Over\"], [\"Resident Evil: Retribution\"], [\"Shutter Island\"], [\"The Muppets\"], [\"Angel Has Fallen\"], [\"Jack Reacher\"], [\"Spy\"], [\"What Men Want\"], [\"The Post\"], [\"Kung Fu Panda 3\"], [\"Alexander and the Terrible, Horrible, No Good, Very Bad Day\"], [\"Spectre\"], [\"Night School\"], [\"Johnny English Reborn\"], [\"The Amazing Spider-Man 2\"], [\"The Hateful Eight\"], [\"The Meg\"], [\"The Amazing Spider-Man\"], [\"The Accountant\"], [\"The Prodigy\"], [\"Jobs\"], [\"Earth to Echo\"], [\"Diary of a Wimpy Kid: Dog Days\"], [\"The Hangover Part III\"], [\"Wild\"], [\"Pain & Gain\"], [\"Sisters\"], [\"Remember Me\"], [\"The Mule\"], [\"Batman v Superman: Dawn of Justice\"], [\"The Equalizer\"], [\"Safe Haven\"], [\"Bumblebee\"], [\"The Wedding Ringer\"], [\"Pirates of the Caribbean: Dead Men Tell No Tales\"], [\"Piranha 3D\"], [\"Money Monster\"], [\"Jason Bourne\"], [\"The Wolverine\"], [\"Vacation\"], [\"Diary of a Wimpy Kid: Rodrick Rules\"], [\"The Expendables\"], [\"Kick-Ass\"], [\"RED\"], [\"Love & Other Drugs\"], [\"London Has Fallen\"], [\"Anchorman 2: The Legend Continues\"], [\"The Bounty Hunter\"], [\"Eat Pray Love\"], [\"Mr. Popper's Penguins\"], [\"Divergent\"], [\"Sing Street\"], [\"Going in Style\"], [\"The Good Liar\"], [\"Grown Ups\"], [\"The American\"], [\"127 Hours\"], [\"Saving Mr. Banks\"], [\"The Great Gatsby\"], [\"Final Destination 5\"], [\"The Upside\"], [\"Selma\"], [\"Madea's Witness Protection\"], [\"Warm Bodies\"], [\"Ready Player One\"], [\"Atomic Blonde\"], [\"Zero Dark Thirty\"], [\"Rings\"], [\"Upgrade\"], [\"A Good Day to Die Hard\"], [\"The Smurfs 2\"], [\"A Nightmare on Elm Street\"], [\"Captain Underpants: The First Epic Movie\"], [\"Smurfs: The Lost Village\"], [\"Fantastic Beasts: The Crimes of Grindelwald\"], [\"Before I Fall\"], [\"The Mummy\"], [\"War for the Planet of the Apes\"], [\"The Guard\"], [\"Mud\"], [\"Due Date\"], [\"Into the Storm\"], [\"Robin Hood\"], [\"Son of God\"], [\"Old Fashioned\"], [\"The Grey\"], [\"Blended\"], [\"Game Night\"], [\"Predators\"], [\"Ted 2\"], [\"Focus\"], [\"The Expendables 2\"], [\"Hell or High Water\"], [\"Sex Tape\"], [\"Mechanic: Resurrection\"], [\"The Place Beyond the Pines\"], [\"Iron Man 2\"], [\"In a World...\"], [\"Fury\"], [\"Ride Along 2\"], [\"Home Again\"], [\"Dracula Untold\"], [\"Why Him?\"], [\"Prometheus\"], [\"Little Fockers\"], [\"Neighbors 2: Sorority Rising\"], [\"Grown Ups 2\"], [\"Water for Elephants\"], [\"Need for Speed\"], [\"Kong: Skull Island\"], [\"Southpaw\"], [\"300: Rise of an Empire\"], [\"When the Bough Breaks\"], [\"The Equalizer 2\"], [\"X-Men: Apocalypse\"], [\"Magic in the Moonlight\"], [\"Why Did I Get Married Too?\"], [\"Ralph Breaks the Internet\"], [\"Immortals\"], [\"How to Train Your Dragon\"], [\"Inside Llewyn Davis\"], [\"Thor\"], [\"I Am Number Four\"], [\"The Disaster Artist\"], [\"X-Men: Days of Future Past\"], [\"Man of Steel\"], [\"August: Osage County\"], [\"How to Be Single\"], [\"I Feel Pretty\"], [\"Arbitrage\"], [\"Planes: Fire & Rescue\"], [\"Shame\"], [\"Deliver Us from Evil\"], [\"Inferno\"], [\"Hop\"], [\"Tomb Raider\"], [\"Think Like a Man Too\"], [\"Zombieland: Double Tap\"], [\"Big Eyes\"], [\"The Transporter Refueled\"], [\"Sex and the City 2\"], [\"G.I. Joe: Retaliation\"], [\"The 5th Wave\"], [\"Hail, Caesar!\"], [\"America: Imagine the World Without Her\"], [\"The Nut Job\"], [\"The Adventures of Tintin\"], [\"Noah\"], [\"Wreck-It Ralph\"], [\"Night at the Museum: Secret of the Tomb\"], [\"The Counselor\"], [\"Terminator Genisys\"], [\"Paul Blart: Mall Cop 2\"], [\"Sicario\"], [\"Penguins of Madagascar\"], [\"Carrie\"], [\"Cars 2\"], [\"Transformers: The Last Knight\"], [\"Get Hard\"], [\"Tag\"], [\"Pixels\"], [\"The Tourist\"], [\"Trolls\"], [\"Date Night\"], [\"The Spectacular Now\"], [\"Project Almanac\"], [\"Men in Black 3\"], [\"The Dictator\"], [\"Passengers\"], [\"Barbershop: The Next Cut\"], [\"Pirates of the Caribbean: On Stranger Tides\"], [\"Warcraft\"], [\"Escape Plan\"], [\"The Crazies\"], [\"Middle School: The Worst Years of My Life\"], [\"Goosebumps\"], [\"The Darkness\"], [\"Poltergeist\"], [\"Katy Perry: Part of Me\"], [\"The Boss\"], [\"Real Steel\"], [\"Tinker Tailor Soldier Spy\"], [\"Jack Reacher: Never Go Back\"], [\"World War Z\"], [\"Miss Peregrine's Home for Peculiar Children\"], [\"Jackie\"], [\"American Made\"], [\"Baggage Claim\"], [\"Just Go with It\"], [\"War Horse\"], [\"Mary Poppins Returns\"], [\"The Chronicles of Narnia: The Voyage of the Dawn Treader\"], [\"The Giver\"], [\"Den of Thieves\"], [\"Fences\"], [\"Epic\"], [\"Salt\"], [\"Goosebumps 2: Haunted Halloween\"], [\"Ferdinand\"], [\"The Words\"], [\"Maleficent: Mistress of Evil\"], [\"The Beguiled\"], [\"Prisoners\"], [\"Captain America: The First Avenger\"], [\"Footloose\"], [\"The November Man\"], [\"Letters to Juliet\"], [\"Christopher Robin\"], [\"Uncut Gems\"], [\"The Age of Adaline\"], [\"The Switch\"], [\"Soul Surfer\"], [\"Storks\"], [\"Daddy's Home 2\"], [\"Legion\"], [\"The Family\"], [\"The Rite\"], [\"The To Do List\"], [\"Riddick\"], [\"Dolphin Tale\"], [\"The Pyramid\"], [\"Big Mommas: Like Father, Like Son\"], [\"Baywatch\"], [\"The Perks of Being a Wallflower\"], [\"Horrible Bosses 2\"], [\"Brick Mansions\"], [\"Locke\"], [\"Beastly\"], [\"Yogi Bear\"], [\"Office Christmas Party\"], [\"The Adjustment Bureau\"], [\"New Year's Eve\"], [\"Killing Them Softly\"], [\"The Roommate\"], [\"The Green Inferno\"], [\"Alpha and Omega\"], [\"This Is 40\"], [\"Rush\"], [\"Mad Max: Fury Road\"], [\"Larry Crowne\"], [\"Love the Coopers\"], [\"Elysium\"], [\"The Peanuts Movie\"], [\"She's Out of My League\"], [\"Unbroken\"], [\"The Strangers: Prey at Night\"], [\"Alien: Covenant\"], [\"Megamind\"], [\"Another Year\"], [\"Ex Machina\"], [\"Star Trek Into Darkness\"], [\"Uncle Drew\"], [\"The Glass Castle\"], [\"Collateral Beauty\"], [\"Paul\"], [\"Hercules\"], [\"Little\"], [\"Dora and the Lost City of Gold\"], [\"Safe House\"], [\"42\"], [\"Skyscraper\"], [\"Olympus Has Fallen\"], [\"J. Edgar\"], [\"Black or White\"], [\"Scream 4\"], [\"Abominable\"], [\"A Most Wanted Man\"], [\"This Means War\"], [\"We Bought a Zoo\"], [\"Hall Pass\"], [\"The Expendables 3\"], [\"Percy Jackson & the Olympians: The Lightning Thief\"], [\"Oblivion\"], [\"Home Run\"], [\"Traffik\"], [\"Alita: Battle Angel\"], [\"Flatliners\"], [\"Rough Night\"], [\"Independence Day: Resurgence\"], [\"Blue Ruin\"], [\"TRON: Legacy\"], [\"Hitman: Agent 47\"], [\"Abduction\"], [\"Tooth Fairy\"], [\"Super Troopers 2\"], [\"Death at a Funeral\"], [\"Mike and Dave Need Wedding Dates\"], [\"Snow White and the Huntsman\"], [\"The Cabin in the Woods\"], [\"Ghost Rider: Spirit of Vengeance\"], [\"Risen\"], [\"T2 Trainspotting\"], [\"Underworld: Blood Wars\"], [\"Men in Black: International\"], [\"Ford v Ferrari\"], [\"Nebraska\"], [\"The Choice\"], [\"The World's End\"], [\"Get Him to the Greek\"], [\"Playing with Fire\"], [\"Ricki and the Flash\"], [\"Season of the Witch\"], [\"Suffragette\"], [\"The Debt\"], [\"Pacific Rim\"], [\"Tangled\"], [\"Contagion\"], [\"Machete\"], [\"Godzilla: King of the Monsters\"], [\"The Angry Birds Movie 2\"], [\"Jack Ryan: Shadow Recruit\"], [\"The Circle\"], [\"The Next Three Days\"], [\"The Odd Life of Timothy Green\"], [\"Prince of Persia: The Sands of Time\"], [\"Knight and Day\"], [\"The Great Wall\"], [\"Knock Knock\"], [\"The Monuments Men\"], [\"Percy Jackson: Sea of Monsters\"], [\"The Belko Experiment\"], [\"Only God Forgives\"], [\"Finding Your Feet\"], [\"Pete's Dragon\"], [\"Homefront\"], [\"X-Men: First Class\"], [\"Moneyball\"], [\"Red Sparrow\"], [\"Max\"], [\"Cars 3\"], [\"Justice League\"], [\"A Million Ways to Die in the West\"], [\"The Lincoln Lawyer\"], [\"Kick-Ass 2\"], [\"2 Guns\"], [\"Sicario: Day of the Soldado\"], [\"Takers\"], [\"War Dogs\"], [\"The Darkest Hour\"], [\"Peppermint\"], [\"Mirror Mirror\"], [\"Seven Psychopaths\"], [\"The Edge of Seventeen\"], [\"Red Riding Hood\"], [\"Hereafter\"], [\"Lawless\"], [\"The Last Airbender\"], [\"Hanna\"], [\"The Bourne Legacy\"], [\"My Old Lady\"], [\"Zookeeper\"], [\"Rise of the Guardians\"], [\"Gulliver's Travels\"], [\"Side Effects\"], [\"What to Expect When You're Expecting\"], [\"Her\"], [\"Moms' Night Out\"], [\"Annie\"], [\"A Walk Among the Tombstones\"], [\"The Night Before\"], [\"Chappie\"], [\"The Secret Life of Walter Mitty\"], [\"Turbo\"], [\"Beyond the Lights\"], [\"This Is Where I Leave You\"], [\"Frankenweenie\"], [\"Runner Runner\"], [\"Edge of Tomorrow\"], [\"Dumbo\"], [\"The Sweeney\"], [\"Delivery Man\"], [\"Tower Heist\"], [\"A Dangerous Method\"], [\"Stuber\"], [\"RoboCop\"], [\"Just Mercy\"], [\"Bernie\"], [\"Wrath of the Titans\"], [\"Free Birds\"], [\"Eddie the Eagle\"], [\"When the Game Stands Tall\"], [\"The Book of Life\"], [\"Monte Carlo\"], [\"The Legend of Tarzan\"], [\"Molly's Game\"], [\"The Birth of a Nation\"], [\"The Book of Eli\"], [\"Wish Upon\"], [\"Mother's Day\"], [\"Pacific Rim: Uprising\"], [\"Boo 2! A Madea Halloween\"], [\"Wall Street: Money Never Sleeps\"], [\"Nine Lives\"], [\"Assassin's Creed\"], [\"12 Strong\"], [\"Alpha\"], [\"Robot & Frank\"], [\"The Lego Movie 2: The Second Part\"], [\"Paterson\"], [\"Exodus: Gods and Kings\"], [\"Step Up All In\"], [\"Young Adult\"], [\"A Very Harold & Kumar Christmas\"], [\"The Mechanic\"], [\"The 15:17 to Paris\"], [\"3 Days to Kill\"], [\"Mr. Peabody & Sherman\"], [\"Frank\"], [\"The Green Hornet\"], [\"Mile 22\"], [\"Jack and Jill\"], [\"The Dark Tower\"], [\"The Spy Who Dumped Me\"], [\"Black Mass\"], [\"After Earth\"], [\"Mary Queen of Scots\"], [\"Fist Fight\"], [\"Escape from Planet Earth\"], [\"Bombshell\"], [\"Something Borrowed\"], [\"Star Trek Beyond\"], [\"We Are Your Friends\"], [\"Cop Out\"], [\"The Longest Ride\"], [\"Savages\"], [\"Geostorm\"], [\"Burnt\"], [\"The Three Stooges\"], [\"Rambo: Last Blood\"], [\"The Tree of Life\"], [\"The Predator\"], [\"Diary of a Wimpy Kid: The Long Haul\"], [\"Rango\"], [\"Ramona and Beezus\"], [\"Teenage Mutant Ninja Turtles: Out of the Shadows\"], [\"Incarnate\"], [\"Widows\"], [\"The Five-Year Engagement\"], [\"The Magnificent Seven\"], [\"The Boxtrolls\"], [\"Hot Tub Time Machine\"], [\"The Mountain Between Us\"], [\"Secret in Their Eyes\"], [\"ParaNorman\"], [\"Nobody's Fool\"], [\"RED 2\"], [\"The Three Musketeers\"], [\"Alice Through the Looking Glass\"], [\"Sparkle\"], [\"The Lego Ninjago Movie\"], [\"Gangster Squad\"], [\"Made in Dagenham\"], [\"Legend of the Guardians: The Owls of Ga'Hoole\"], [\"The Walk\"], [\"Endless Love\"], [\"Life\"], [\"While We're Young\"], [\"The D Train\"], [\"Blade Runner 2049\"], [\"Secretariat\"], [\"Leap Year\"], [\"Hitchcock\"], [\"Legend\"], [\"The Nut Job 2: Nutty by Nature\"], [\"Spies in Disguise\"], [\"If Beale Street Could Talk\"], [\"Left Behind\"], [\"The Other Guys\"], [\"The Water Diviner\"], [\"Piranha 3DD\"], [\"Jersey Boys\"], [\"The Art of Racing in the Rain\"], [\"The Judge\"], [\"Abraham Lincoln: Vampire Hunter\"], [\"Florence Foster Jenkins\"], [\"Joy\"], [\"Voiceless\"], [\"Hardcore Henry\"], [\"Unstoppable\"], [\"Marmaduke\"], [\"Filth\"], [\"Logan Lucky\"], [\"Winnie the Pooh\"], [\"The Good Dinosaur\"], [\"Kidnap\"], [\"The Meddler\"], [\"Death Wish\"], [\"Snitch\"], [\"Lockout\"], [\"Swiss Army Man\"], [\"Entourage\"], [\"Dark Shadows\"], [\"For a Good Time, Call...\"], [\"The Last Witch Hunter\"], [\"Burlesque\"], [\"Allegiant\"], [\"Camp\"], [\"The Lobster\"], [\"The Spy Next Door\"], [\"The Internship\"], [\"The A-Team\"], [\"Muppets Most Wanted\"], [\"Doctor Sleep\"], [\"Dolphin Tale 2\"], [\"You Again\"], [\"The Mortal Instruments: City of Bones\"], [\"Colombiana\"], [\"Last Night\"], [\"The Gambler\"], [\"Solo: A Star Wars Story\"], [\"The Innkeepers\"], [\"Proud Mary\"], [\"Ghost in the Shell\"], [\"Million Dollar Arm\"], [\"Marrowbone\"], [\"Sherlock Gnomes\"], [\"Don't Be Afraid of the Dark\"], [\"Our Family Wedding\"], [\"Charlie's Angels\"], [\"The Little Prince\"], [\"Belle\"], [\"What's Your Number?\"], [\"The Eagle\"], [\"The Hate U Give\"], [\"All Is Lost\"], [\"21 Bridges\"], [\"First Man\"], [\"Haywire\"], [\"Morning Glory\"], [\"The Best of Me\"], [\"Faster\"], [\"Unforgettable\"], [\"The Drop\"], [\"Shark Night 3D\"], [\"Hot Pursuit\"], [\"Machete Kills\"], [\"Caf\\u00e9 Society\"], [\"Ad Astra\"], [\"30 Minutes or Less\"], [\"Diana\"], [\"The Change-Up\"], [\"The Nutcracker and the Four Realms\"], [\"Battleship\"], [\"Snatched\"], [\"Animal Kingdom\"], [\"The Host\"], [\"Loving\"], [\"The Sorcerer's Apprentice\"], [\"The Awakening\"], [\"The Huntsman: Winter's War\"], [\"Admission\"], [\"Run All Night\"], [\"The Man from U.N.C.L.E.\"], [\"Power Rangers\"], [\"Terminator: Dark Fate\"], [\"Allied\"], [\"And So It Goes\"], [\"Captive\"], [\"Fantastic Four\"], [\"The Sitter\"], [\"The BFG\"], [\"All Eyez on Me\"], [\"I'm Not Ashamed\"], [\"Safe\"], [\"Extremely Loud & Incredibly Close\"], [\"The Man with the Iron Fists\"], [\"White House Down\"], [\"Country Strong\"], [\"Phantom\"], [\"Fright Night\"], [\"Phantom Thread\"], [\"American Animals\"], [\"Crimson Peak\"], [\"Khumba\"], [\"Let Me In\"], [\"Iron Sky\"], [\"Nocturnal Animals\"], [\"Long Shot\"], [\"The Railway Man\"], [\"Parker\"], [\"The Ghost Writer\"], [\"The Bling Ring\"], [\"Prom\"], [\"The Big Wedding\"], [\"Cats & Dogs: The Revenge of Kitty Galore\"], [\"Going the Distance\"], [\"Shut In\"], [\"I Don't Know How She Does It\"], [\"Killers\"], [\"The Zookeeper's Wife\"], [\"Priest\"], [\"The Light Between Oceans\"], [\"A Wrinkle in Time\"], [\"Cloud Atlas\"], [\"Batman: The Killing Joke\"], [\"Cold Pursuit\"], [\"Valerian and the City of a Thousand Planets\"], [\"Point Break\"], [\"Kubo and the Two Strings\"], [\"Vice\"], [\"Dinner for Schmucks\"], [\"Midway\"], [\"Gemini Man\"], [\"The Nice Guys\"], [\"The Snowman\"], [\"Criminal\"], [\"Carnage\"], [\"Self/less\"], [\"Happy Feet Two\"], [\"Trance\"], [\"The Darkest Minds\"], [\"Hearts Beat Loud\"], [\"Arthur\"], [\"Seventh Son\"], [\"Woodlawn\"], [\"Wonder Park\"], [\"Draft Day\"], [\"Masterminds\"], [\"I, Frankenstein\"], [\"Pompeii\"], [\"The Losers\"], [\"Fair Game\"], [\"Seeking a Friend for the End of the World\"], [\"The Girl with the Dragon Tattoo\"], [\"Patriots Day\"], [\"Triple 9\"], [\"Steve Jobs\"], [\"The Raven\"], [\"Ender's Game\"], [\"Ruby Sparks\"], [\"All the Money in the World\"], [\"John Carter\"], [\"Zoolander 2\"], [\"Man on a Ledge\"], [\"The Hunt\"], [\"Labor Day\"], [\"Grudge Match\"], [\"Get on Up\"], [\"Fifty Shades of Black\"], [\"Deepwater Horizon\"], [\"The Campaign\"], [\"First Reformed\"], [\"Morgan\"], [\"Tomorrowland\"], [\"A Monster Calls\"], [\"Green Lantern\"], [\"Sleepless\"], [\"Overlord\"], [\"Sucker Punch\"], [\"Charlie St. Cloud\"], [\"Early Man\"], [\"Hugo\"], [\"Win Win\"], [\"Macbeth\"], [\"Only Lovers Left Alive\"], [\"Danny Collins\"], [\"The Canyons\"], [\"Annihilation\"], [\"Gods of Egypt\"], [\"Scouts Guide to the Zombie Apocalypse\"], [\"Cowboys & Aliens\"], [\"The Guilt Trip\"], [\"Jupiter Ascending\"], [\"Kill the Messenger\"], [\"Bel Ami\"], [\"Furry Vengeance\"], [\"A United Kingdom\"], [\"Wish I Was Here\"], [\"20th Century Women\"], [\"Transcendence\"], [\"The Lords of Salem\"], [\"Rabbit Hole\"], [\"Miss Bala\"], [\"Isle of Dogs\"], [\"Father Figures\"], [\"The Lone Ranger\"], [\"From Paris with Love\"], [\"Jack the Giant Slayer\"], [\"Edge of Darkness\"], [\"Table 19\"], [\"Red Lights\"], [\"Stoker\"], [\"The Watch\"], [\"Beautiful Creatures\"], [\"The Vatican Tapes\"], [\"Thunderstruck\"], [\"Smashed\"], [\"The Dilemma\"], [\"American Ultra\"], [\"Richard Jewell\"], [\"90 Minutes in Heaven\"], [\"The Founder\"], [\"Holmes & Watson\"], [\"One for the Money\"], [\"Green Zone\"], [\"Albert Nobbs\"], [\"In the Heart of the Sea\"], [\"Hot Tub Time Machine 2\"], [\"Snowden\"], [\"Warrior\"], [\"MacGruber\"], [\"The Hurricane Heist\"], [\"Bad Santa 2\"], [\"The Incredible Burt Wonderstone\"], [\"The Beach Bum\"], [\"Kill List\"], [\"The Thing\"], [\"White Boy Rick\"], [\"Hellboy\"], [\"Flypaper\"], [\"Premium Rush\"], [\"Conviction\"], [\"Hotel Artemis\"], [\"The Diary of a Teenage Girl\"], [\"The Master\"], [\"Little Boy\"], [\"Predestination\"], [\"Big Game\"], [\"The Legend of Hercules\"], [\"Red Tails\"], [\"47 Ronin\"], [\"Killer Elite\"], [\"My Soul to Take\"], [\"Pan\"], [\"Victor Frankenstein\"], [\"King Arthur: Legend of the Sword\"], [\"For Greater Glory: The True Story of Cristiada\"], [\"Marshall\"], [\"The Cold Light of Day\"], [\"The Infiltrator\"], [\"Seeking Justice\"], [\"Battle of the Year\"], [\"That's My Boy\"], [\"Bad Words\"], [\"Dredd\"], [\"Drive Angry\"], [\"The Girl in the Spider's Web\"], [\"Fun Size\"], [\"It's Kind of a Funny Story\"], [\"Downsizing\"], [\"The Way Back\"], [\"Before I Go to Sleep\"], [\"Foxcatcher\"], [\"Dream House\"], [\"Life Itself\"], [\"Denial\"], [\"Mandela: Long Walk to Freedom\"], [\"Scott Pilgrim vs. the World\"], [\"Rock of Ages\"], [\"Mortdecai\"], [\"The Loft\"], [\"People Like Us\"], [\"Judy Moody and the Not Bummer Summer\"], [\"Red Dawn\"], [\"When in Rome\"], [\"Cats\"], [\"What If\"], [\"Alex Cross\"], [\"Certain Women\"], [\"Trumbo\"], [\"Green Room\"], [\"Keeping Up with the Joneses\"], [\"Take Shelter\"], [\"Gold\"], [\"Battle of the Sexes\"], [\"Promised Land\"], [\"Inherent Vice\"], [\"Operation Finale\"], [\"Clouds of Sils Maria\"], [\"Whiskey Tango Foxtrot\"], [\"Shaft\"], [\"Out of the Furnace\"], [\"Motherless Brooklyn\"], [\"Aloha\"], [\"Anomalisa\"], [\"Conan the Barbarian\"], [\"The Joneses\"], [\"Miss Sloane\"], [\"Only the Brave\"], [\"Queen of Katwe\"], [\"The Happytime Murders\"], [\"Detroit\"], [\"Chalet Girl\"], [\"Wanderlust\"], [\"Tusk\"], [\"The Rum Diary\"], [\"Ratchet & Clank\"], [\"A Cure for Wellness\"], [\"Never Let Me Go\"], [\"Getaway\"], [\"The Finest Hours\"], [\"The Signal\"], [\"Hostiles\"], [\"The Lost City of Z\"], [\"Gotti\"], [\"I Spit on Your Grave\"], [\"Wonder Wheel\"], [\"Sabotage\"], [\"Max Steel\"], [\"The Conspirator\"], [\"Stake Land\"], [\"Broken City\"], [\"Big Miracle\"], [\"Tomorrow, When the War Began\"], [\"Joe\"], [\"The Gunman\"], [\"R.I.P.D.\"], [\"A Most Violent Year\"], [\"Roman J. Israel, Esq.\"], [\"Pride and Prejudice and Zombies\"], [\"Serenity\"], [\"Repo Men\"], [\"Centurion\"], [\"31\"], [\"Anthropoid\"], [\"Everything Must Go\"], [\"Your Highness\"], [\"Truth\"], [\"Nothing Left to Fear\"], [\"Walk of Shame\"], [\"The Guest\"], [\"The Company Men\"], [\"Chappaquiddick\"], [\"The Space Between Us\"], [\"Free Fire\"], [\"Vampire Academy\"], [\"A Thousand Words\"], [\"Monster Trucks\"], [\"Winter's Tale\"], [\"Anonymous\"], [\"A Hidden Life\"], [\"Love\"], [\"Suburbicon\"], [\"2 Days in New York\"], [\"Free State of Jones\"], [\"Thank You for Your Service\"], [\"Stolen\"], [\"Extraordinary Measures\"], [\"The Neon Demon\"], [\"This Must Be the Place\"], [\"Laggies\"], [\"Personal Shopper\"], [\"Austenland\"], [\"Jeff, Who Lives at Home\"], [\"Red State\"], [\"The Runaways\"], [\"Stone\"], [\"Jem and the Holograms\"], [\"Everybody Wants Some!!\"], [\"Killer Joe\"], [\"Welcome to the Punch\"], [\"The Book of Henry\"], [\"Tolkien\"], [\"What Maisie Knew\"], [\"The Face of Love\"], [\"Straw Dogs\"], [\"The East\"], [\"Paranoia\"], [\"Wild Target\"], [\"Demolition\"], [\"Attack the Block\"], [\"Robin Hood\"], [\"Under the Skin\"], [\"Black Nativity\"], [\"Higher Ground\"], [\"Unfinished Business\"], [\"Intruders\"], [\"How Do You Know\"], [\"Barney's Version\"], [\"Bullet to the Head\"], [\"Take Me Home Tonight\"], [\"Suspiria\"], [\"The Young Messiah\"], [\"Beauty and the Beast\"], [\"Rock Dog\"], [\"On the Road\"], [\"Afflicted\"], [\"Midnight Special\"], [\"The Immigrant\"], [\"Heist\"], [\"Upside Down\"], [\"Tulip Fever\"], [\"No One Lives\"], [\"Shadow Dancer\"], [\"Captive State\"], [\"Maggie\"], [\"The Beaver\"], [\"Just Getting Started\"], [\"The Sisters Brothers\"], [\"Kin\"], [\"Cosmopolis\"], [\"Disconnect\"], [\"Overdrive\"], [\"The Grand Seduction\"], [\"Cake\"], [\"Welcome to Marwen\"], [\"By the Sea\"], [\"London Boulevard\"], [\"The Oranges\"], [\"Escobar: Paradise Lost\"], [\"Salinger\"], [\"The Fifth Estate\"], [\"The Virginity Hit\"], [\"Collide\"], [\"Coriolanus\"], [\"Restless\"], [\"Replicas\"], [\"Legends of Oz: Dorothy's Return\"], [\"The Perfect Game\"], [\"Atlas Shrugged: Part I\"], [\"Lost River\"], [\"ATM\"], [\"A Hologram for the King\"], [\"Lean on Pete\"], [\"Our Brand Is Crisis\"], [\"The Paperboy\"], [\"Maps to the Stars\"], [\"The Devil's Double\"], [\"Pawn Sacrifice\"], [\"Dylan Dog: Dead of Night\"], [\"The Young and Prodigious T.S. Spivet\"], [\"Stronger\"], [\"Trespass\"], [\"Blackhat\"], [\"'71\"], [\"Infinitely Polar Bear\"], [\"Action Point\"], [\"The Interview\"], [\"Mars Needs Moms\"], [\"Child 44\"], [\"Colonia\"], [\"Ain't Them Bodies Saints\"], [\"Howl\"], [\"Under the Silver Lake\"], [\"Repentance\"], [\"High Life\"], [\"The Homesman\"], [\"Jonah Hex\"], [\"The House That Jack Built\"], [\"99 Homes\"], [\"The Iceman\"], [\"Rock the Kasbah\"], [\"Man of Tai Chi\"], [\"Freeheld\"], [\"Live by Night\"], [\"The Apparition\"], [\"The Rover\"], [\"Rubber\"], [\"The Big Year\"], [\"October Baby\"], [\"A Better Life\"], [\"Gimme Shelter\"], [\"Henry's Crime\"], [\"Song to Song\"], [\"Creature\"], [\"The Bronze\"], [\"Oldboy\"], [\"Chain Letter\"], [\"Super\"], [\"The Zero Theorem\"], [\"Vanishing on 7th Street\"], [\"13 Sins\"], [\"Another Happy Day\"], [\"Deadfall\"], [\"Lovelace\"], [\"Rules Don't Apply\"], [\"Parkland\"], [\"Crooked Arrows\"], [\"W.E.\"], [\"I Saw the Light\"], [\"Equals\"], [\"Rampart\"], [\"Flipped\"], [\"The Ledge\"], [\"Jane Got a Gun\"], [\"Universal Soldier: Day of Reckoning\"], [\"Life of Crime\"], [\"In the Land of Blood and Honey\"], [\"Middle of Nowhere\"], [\"Manglehorn\"], [\"Life After Beth\"], [\"Machine Gun Preacher\"], [\"50 to 1\"], [\"Make Your Move\"], [\"Blood Ties\"], [\"Adore\"], [\"The Double\"], [\"Casino Jack\"], [\"Third Person\"], [\"The Extra Man\"], [\"Byzantium\"], [\"Camp X-Ray\"], [\"Mr. Right\"], [\"Song One\"], [\"The 5th Quarter\"], [\"The Music Never Stopped\"], [\"Hesher\"], [\"Trust\"], [\"Hatchet II\"], [\"London Fields\"], [\"Lay the Favorite\"], [\"Falcon Rising\"], [\"Blackway\"], [\"Bitter Harvest\"], [\"The Romantics\"], [\"Sleeping Beauty\"], [\"Margaret\"], [\"Freakonomics\"], [\"The Other Woman\"], [\"Dirty Girl\"], [\"Aloft\"], [\"The Bad Batch\"], [\"Road to Nowhere\"], [\"Not Fade Away\"], [\"Decoding Annie Parker\"], [\"Pink Ribbons, Inc.\"], [\"Saint John of Las Vegas\"], [\"Frozen\"], [\"Ghostbusters\"], [\"Band Aid\"], [\"Honeymoon\"], [\"All I See Is You\"], [\"Stonewall\"], [\"The Tempest\"], [\"Bilal: A New Breed of Hero\"], [\"Dunkirk\"], [\"Home\"], [\"5 Days of War\"], [\"Term Life\"], [\"Strangerland\"], [\"The Ottoman Lieutenant\"], [\"Every Day\"], [\"Joker\"], [\"The Good Doctor\"], [\"CBGB\"], [\"Inhale\"], [\"Ca$h\"], [\"Meet Monica Velour\"], [\"Beautiful Boy\"], [\"The Adventurer: The Curse of the Midas Box\"], [\"Brave\"], [\"Ben-Hur\"], [\"About Cherry\"], [\"Passion Play\"], [\"A Perfect Man\"], [\"Barefoot\"], [\"The Sacrament\"], [\"Concussion\"], [\"Mi America\"], [\"Area 51\"], [\"The Nun\"], [\"Best Man Down\"], [\"The Samaritan\"], [\"Quartet\"], [\"Godzilla\"], [\"Aftermath\"], [\"Total Recall\"], [\"Moana\"]], \"hovertemplate\": \"budget=%{x}<br>title=%{customdata[0]}<extra></extra>\", \"legendgroup\": \"\", \"marker\": {\"color\": \"#636efa\", \"symbol\": \"circle\"}, \"name\": \"\", \"notched\": true, \"offsetgroup\": \"\", \"showlegend\": false, \"type\": \"box\", \"x\": [135000, 10000, 100000, 4000000, 30000, 1000000, 200000, 134005, 1000000, 1500000, 1000000, 3000000, 4500000, 1000000, 5000000, 6500000, 1800000, 250000, 1000000, 9000000, 4900000, 3000000, 15000000, 5000000, 3000000, 3500000, 4800000, 13000000, 10000000, 700000, 12000000, 125000, 3000000, 13000000, 7000000, 2500000, 5000000, 15000000, 35000000, 17000000, 100000, 5000000, 100000, 5000000, 9000000, 52000000, 4000000, 10000000, 14000000, 4000000, 1000000, 250000, 9900000, 74000000, 20000000, 3300000, 18000000, 30000000, 1000000, 23000000, 10000000, 58000000, 45202, 2500000, 4000000, 80000000, 20000000, 76000000, 3500000, 9000000, 20000000, 5000000, 200000, 4000000, 36000000, 600000, 10000000, 5000000, 1800000, 12000000, 3300000, 75000000, 3500000, 40000000, 5500000, 21000000, 10000000, 5000000, 150000000, 5000000, 50000000, 5000000, 2000000, 125000000, 20000000, 90000000, 1000000, 4000000, 13000000, 10000000, 20000000, 68000000, 10000000, 34000000, 17000, 500000, 15000000, 900000, 19500000, 3500000, 29000000, 15000000, 1987650, 150000000, 6000000, 20000000, 1500000, 25000000, 8000000, 20000000, 22000000, 58800000, 75000000, 95000000, 20000000, 9000000, 2500000, 40000000, 5000000, 15000000, 5000000, 13000000, 5000000, 20000000, 32500000, 9000000, 25000000, 20000000, 10000000, 12000000, 75000000, 15000000, 12000000, 5000000, 12000000, 45000000, 1000000, 2000000, 15000000, 11500000, 100000, 17000000, 12000000, 40000000, 190000000, 10000000, 30000000, 3500000, 14800000, 8000000, 356000000, 7000000, 10000000, 20000000, 69000000, 40000000, 60000000, 40000000, 5500000, 30000000, 13000000, 17000000, 12000000, 152000000, 6500000, 19000000, 19000000, 15000000, 80000000, 116000000, 37000000, 12000000, 61000000, 9000000, 160000000, 28000000, 50000, 12000000, 5500000, 3000000, 160000000, 11000000, 50000000, 17000000, 3000000, 55000000, 5000000, 105000000, 2000000, 916000, 120000000, 220000000, 12000000, 300000000, 48000000, 75000000, 13500000, 17000000, 150000000, 200000000, 55000000, 10000000, 110000000, 130000000, 34000000, 38000000, 80000000, 50000000, 30000000, 110000000, 14000000, 10000000, 6900000, 55000000, 15000000, 25000000, 125000000, 97000000, 260000000, 967686, 4000000, 5000000, 40000000, 10000000, 15000000, 200000000, 25000000, 10000000, 7000000, 175000000, 12500000, 14000000, 35000000, 200000000, 125000000, 61000000, 79000000, 27000000, 35000000, 25000000, 55000000, 80000000, 6000000, 26000000, 750000, 30000000, 30000000, 1000000, 108000000, 6600000, 30000000, 183000000, 195000000, 17000000, 18000000, 8000000, 95000000, 40000000, 11000000, 40000000, 250000000, 8500000, 11000000, 7700000, 3500000, 4000000, 20000000, 200000000, 35000000, 149000000, 175000000, 6000000, 2000000, 6400000, 1000000, 6000000, 36000000, 90000000, 80000000, 21000000, 43000000, 200000000, 10000000, 9000000, 30000000, 200000000, 210000000, 7000000, 13000000, 75000000, 5000000, 40000000, 50000000, 44500000, 31000000, 160000000, 84000000, 93000000, 5000000, 10000000, 145000000, 5000000, 200000000, 8500000, 2000000, 25000000, 61000000, 81000000, 8000000, 200000000, 15000000, 55000000, 110000000, 30000000, 40000000, 120000000, 15000000, 5000000, 12000000, 18000000, 20000000, 175000000, 30000000, 125000000, 60000000, 35000000, 70000000, 250000000, 20000000, 160000000, 11000000, 175000000, 5000000, 40000000, 20000000, 20000000, 50000000, 103000000, 73000000, 28000000, 42000000, 50000000, 145000000, 25000000, 28000000, 180000000, 75000000, 37000000, 50000000, 8000000, 28000000, 3500000, 62000000, 16000000, 32000000, 250000000, 175000000, 25000000, 80000000, 75000000, 165000000, 5000000, 170000000, 150000000, 180000000, 16000000, 50000000, 4000000, 30000000, 40000000, 10000000, 18000000, 19000000, 21000000, 50000000, 3200000, 178000000, 150000000, 11000000, 140000000, 1500000, 7000000, 74000000, 40000000, 50000000, 1600000, 135000000, 50000000, 125000000, 250000000, 110000000, 200000000, 17000000, 20000000, 50000000, 40000000, 145000000, 175000000, 35000000, 15000000, 130000000, 16000000, 50000000, 33000000, 3500000, 25000000, 100000000, 40000000, 65000000, 79000000, 85000000, 125000000, 13000000, 180000000, 170000000, 170000000, 25000000, 52000000, 90000000, 37000000, 6000000, 35000000, 40000000, 165000000, 45000000, 160000000, 13200000, 165000000, 15000000, 22000000, 250000000, 85000000, 129000000, 3000000, 7400000, 12500000, 20000000, 35000000, 60000000, 130000000, 11000000, 30000000, 165000000, 55000000, 10000000, 25000000, 135000000, 5000000, 104000000, 15000000, 125000000, 32000000, 2000000, 100000000, 17000000, 80000000, 250000000, 105000000, 125000000, 40000000, 25000000, 45000000, 250000000, 250000000, 17000000, 30000000, 200000000, 170000000, 100000000, 200000000, 90000000, 55000000, 11000000, 13000000, 65000000, 80000000, 45000000, 40000000, 60000000, 65000000, 20000000, 50000000, 145000000, 28000000, 245000000, 29000000, 45000000, 200000000, 44000000, 150000000, 215000000, 44000000, 6000000, 12000000, 13000000, 22000000, 103000000, 15000000, 25000000, 30000000, 16000000, 50000000, 250000000, 55000000, 28000000, 135000000, 23000000, 230000000, 24000000, 27000000, 120000000, 120000000, 31000000, 21000000, 80000000, 28000000, 58000000, 30000000, 60000000, 50000000, 40000000, 60000000, 55000000, 85000000, 4000000, 25000000, 10000000, 80000000, 20000000, 18000000, 35000000, 105000000, 47000000, 37500000, 20000000, 20000000, 35000000, 175000000, 30000000, 40000000, 25000000, 5000000, 92000000, 105000000, 35000000, 38000000, 60000000, 200000000, 5000000, 125000000, 150000000, 6000000, 10000000, 65000000, 50000000, 100000000, 22000000, 600000, 25000000, 40000000, 37000000, 40000000, 68000000, 50100000, 100000000, 12000000, 40000000, 40000000, 15000000, 200000000, 1000000, 68000000, 40000000, 12000000, 70000000, 38000000, 130000000, 100000000, 35000000, 80000000, 38000000, 66000000, 185000000, 30000000, 110000000, 10000000, 62000000, 178000000, 16800000, 20000000, 175000000, 75000000, 165000000, 11000000, 150000000, 50000000, 10000000, 250000000, 225000000, 25000000, 38000000, 32000000, 12000000, 50000000, 6500000, 30000000, 75000000, 63000000, 94000000, 24000000, 42000000, 10000000, 25000000, 100000000, 130000000, 38000000, 22000000, 5000000, 42000000, 130000000, 125000000, 165000000, 127000000, 25000000, 155000000, 38000000, 30000000, 132000000, 30000000, 200000000, 217000000, 40000000, 28000000, 88000000, 100000000, 125000000, 55000000, 2500000, 12000000, 225000000, 65000000, 110000000, 20000000, 380000000, 160000000, 50000000, 20000000, 8500000, 58000000, 4000000, 35000000, 12000000, 29000000, 110000000, 30000000, 60000000, 200000000, 110000000, 9000000, 50000000, 8500000, 80000000, 66000000, 130000000, 155000000, 25000000, 30000000, 24000000, 100000000, 110000000, 35000000, 111000000, 6000000, 185000000, 10500000, 46000000, 140000000, 24000000, 15000000, 30000000, 75000000, 19000000, 25000000, 19000000, 18000000, 70000000, 69000000, 26000000, 30000000, 37000000, 1500000, 38000000, 37000000, 6500000, 32000000, 69000000, 13000000, 42000000, 28000000, 2000000, 17000000, 80000000, 45000000, 50200000, 56000000, 15000000, 16000000, 5000000, 20000000, 35000000, 38000000, 150000000, 30000000, 17000000, 115000000, 99000000, 20000000, 65000000, 12500000, 97000000, 130000000, 8000000, 15000000, 190000000, 19000000, 9000000, 36000000, 40000000, 100000000, 20000000, 49000000, 85000000, 40000000, 125000000, 70000000, 35000000, 9000000, 40000000, 75000000, 15000000, 65000000, 50000000, 36000000, 90000000, 95000000, 120000000, 1200000, 4000000, 170000000, 19000000, 20000000, 165000000, 420000, 170000000, 35000000, 35000000, 48000000, 13500000, 21000000, 33000000, 170000000, 30000000, 57000000, 20000000, 18000000, 35000000, 110000000, 97600000, 12000000, 10000000, 20000000, 40000000, 29900000, 18000000, 40000000, 14000000, 20000000, 180000000, 260000000, 60000000, 20000000, 170000000, 65000000, 60000000, 18000000, 30000000, 25000000, 150000000, 117000000, 150000000, 2500000, 70000000, 90000000, 5000000, 4800000, 7154497, 65000000, 22000000, 160000000, 50000000, 69000000, 20000000, 175000000, 300000000, 40000000, 40000000, 28000000, 61000000, 35000000, 32000000, 40000000, 30000000, 25000000, 85000000, 15000000, 9000000, 42000000, 50000000, 26000000, 150000000, 30000000, 130000000, 5000000, 80000000, 145000000, 112000000, 30000000, 40000000, 23000000, 5000000, 65000000, 28000000, 25000000, 49000000, 90000000, 135000000, 7000000, 19800000, 39000000, 30000000, 178000000, 170000000, 3730500, 26000000, 75000000, 15000000, 16000000, 120000000, 25000000, 5000000, 150000000, 55000000, 23000000, 15000000, 50000000, 20000000, 180000000, 30000000, 8500000, 80000000, 12000000, 25000000, 150000000, 25000000, 70000000, 30000000, 125000000, 35000000, 51000000, 2500000, 100000000, 5000000, 140000000, 45000000, 12000000, 19000000, 40000000, 30000000, 28000000, 145000000, 1000000, 120000000, 35000000, 79000000, 60000000, 40000000, 53000000, 130000000, 25000000, 22000000, 40000000, 32000000, 35000000, 185000000, 6000000, 30000000, 34000000, 45000000, 120000000, 20000000, 30000000, 50000000, 32000000, 88000000, 22000000, 135000000, 15000000, 135000000, 5000000, 42000000, 30000000, 90000000, 60000000, 36000000, 35000000, 19500000, 60000000, 19000000, 84000000, 75000000, 170000000, 14000000, 70000000, 60000000, 7200000, 80000000, 35000000, 20000000, 58000000, 10000000, 447524, 150000000, 35000000, 19000000, 15700000, 25000000, 40000000, 100000000, 12000000, 16000000, 100000000, 22500000, 5000000, 40000000, 20000000, 50000000, 69000000, 29000000, 60000000, 250000, 10000000, 100000000, 50000000, 5000000, 29000000, 30000000, 200000000, 21000000, 3200000, 30000000, 35000000, 20000000, 3000000, 30000000, 150000000, 850000, 90000000, 55000000, 110000000, 200000, 4000000, 28000000, 58000000, 110000000, 50000000, 45000000, 36000000, 20000000, 60000000, 40000000, 7000000, 25000000, 250000000, 750000, 14000000, 110000000, 25000000, 8000000, 59000000, 25000000, 14000000, 48000000, 64000000, 10900000, 20000000, 25000000, 23000000, 9000000, 33000000, 70000000, 23000000, 40000000, 26000000, 24000000, 12000000, 12600000, 28000000, 35000000, 12000000, 30000000, 87500000, 28000000, 15000000, 52000000, 120000000, 209000000, 42000000, 5000000, 44000000, 9000000, 150000000, 4798235, 115000000, 13000000, 50000000, 75000000, 100000000, 185000000, 85000000, 18000000, 2000000, 120000000, 25000000, 140000000, 40000000, 1500000, 30000000, 40000000, 15000000, 150000000, 15000000, 10000000, 30000000, 35000000, 3000000, 55000000, 20000000, 20000000, 7500000, 22500000, 40000000, 18000000, 35000000, 45000000, 15000000, 8000000, 35000000, 85000000, 32000000, 10000000, 24000000, 75000000, 20000000, 60000000, 20000000, 103000000, 102000000, 3500000, 60000000, 177200000, 105000000, 60000000, 60000000, 69000000, 100000000, 138000000, 50000000, 35000000, 31500000, 25000000, 26000000, 130000000, 20000000, 34000000, 2000000, 40000000, 95000000, 12000000, 100000000, 25000000, 25000000, 65000000, 100000000, 25000000, 22000000, 10000000, 90000000, 45000000, 20000000, 30000000, 26000000, 110000000, 8000000, 50000000, 250000000, 50000000, 42000000, 14000000, 18000000, 40000000, 30000000, 20000000, 110000000, 95000000, 3500000, 8000000, 190000000, 43000000, 200000000, 30000000, 38000000, 82000000, 44000000, 50000000, 170000000, 10831173, 15000000, 7000000, 10000000, 250000, 40000000, 140000000, 15000000, 163000000, 40000000, 176000003, 5000000, 9000000, 35000000, 14000000, 5500000, 7000000, 100000000, 1500000, 5000000, 15000000, 62770198, 25000000, 255000000, 52000000, 195000000, 80000000, 5000000, 14000000, 12000000, 68000000, 60000000, 13000000, 587211, 500000, 70000000, 28000000, 45000000, 5000000, 25000000, 42000000, 40000000, 100000000, 8000000, 100000000, 14000000, 40000000, 25000000, 10000000, 35000000, 26000000, 30000000, 5000000, 500000, 35000000, 29000000, 50000000, 5000000, 35000000, 12500000, 15000000, 2000000, 32000000, 20000000, 5500000, 8500000, 70000000, 58000000, 175000000, 66000000, 25000000, 150000000, 40000000, 175000000, 12000000, 12000000, 20000000, 25000000, 17000000, 20000000, 70000000, 9500000, 50000000, 50000000, 43000000, 14000000, 8000000, 68000000, 30000000, 22000000, 24000000, 50000000, 10000000, 10000000, 35000000, 60000000, 75000000, 60000000, 14000000, 16000000, 20000000, 65000000, 55000000, 95000000, 11000000, 45000000, 2000000, 15000000, 5000000, 40000000, 5000000, 20000000, 25000000, 15000000, 20000000, 24000000, 6600000, 35000000, 30000000, 22000000, 26000000, 37000000, 8000000, 90000000, 10000000, 13000000, 38000000, 15000000, 40000000, 34000000, 8000000, 35000000, 2800000, 45000000, 20000000, 40000000, 15000000, 18000000, 80000000, 4000000, 55000000, 30000000, 10000000, 2000000, 25000000, 35000000, 10000000, 25000000, 650000, 56000000, 40000000, 27000000, 4000000, 40000000, 130000000, 20000000, 22000000, 28000000, 25000000, 32000000, 12000000, 1500000, 9000000, 5000000, 49900000, 9600000, 3000000, 15000000, 5000000, 15000000, 34000000, 30000000, 7000000, 30000000, 40000000, 125000000, 60000000, 30000000, 9000000, 3000000, 25000000, 8000000, 50000000, 20000000, 35000000, 31000000, 7000000, 25000000, 5000000, 6000000, 4900000, 10000000, 4000000, 10000000, 22000000, 5000000, 10000000, 10000000, 8500000, 10000000, 20000000, 6000000, 4000000, 25000000, 6500000, 35000000, 8000000, 10000000, 14350531, 200000000, 13300000, 17500000, 2000000, 35000000, 13000000, 120000000, 30000000, 55000000, 19000000, 20000000, 18500000, 160000000, 60000000, 25000000, 318000, 18000000, 16000000, 8900000, 60000000, 25000000, 2900000, 6300000, 25000000, 4000000, 21000000, 22000000, 38000000, 30000000, 20500000, 10000000, 28210303, 12700000, 7000000, 39000000, 10000000, 25000000, 7000000, 17000000, 2000000, 28000000, 2000000, 21500000, 7700000, 8000000, 30000000, 70000000, 12500000, 15000000, 2000000, 3000000, 30000000, 8000000, 28000000, 12500000, 15000000, 19100000, 19000000, 20000000, 33000000, 30000000, 36000000, 70000000, 11000000, 6700000, 19000000, 44000000, 150000000, 50000000, 14000000, 4000000, 5000000, 8500000, 5000000, 8933400, 16000000, 47000000, 9800000, 8000000, 20000000, 15000000, 25000000, 7000000, 108000000, 17000000, 12250000, 500000, 41000000, 1000000, 10000000, 7500000, 12000000, 10000000, 3000000, 3500000, 30000000, 5000000, 2500000, 8500000, 10000000, 5000000, 4000000, 12000000, 10000000, 25000000, 10000000, 13000000, 15000000, 13000000, 16000000, 12000000, 14000000, 10000000, 25000000, 11500000, 12000000, 10000000, 2000000, 4000000, 2400000, 30000000, 10000000, 15000000, 25500000, 16000000, 17000000, 12500000, 28000000, 7000000, 10000000, 1000000, 8000000, 6000000, 6000000, 4000000, 7000000, 9500000, 2500000, 8000000, 26350000, 4500000, 8000000, 20000000, 4500000, 10000000, 14000000, 3000000, 40000000, 4000000, 8000000, 6000000, 5000000, 20000000, 2000000, 900000, 3800000, 150000000, 144000000, 10000000, 1000000, 30000000, 13500000, 20000000, 30000000, 100000000, 135000000, 20000000, 16500000, 10000000, 40000000, 4900000, 55000000, 6000000, 5000000, 10000000, 7000000, 5000000, 25000000, 25000000, 185000000, 100000000, 2500000, 8000000, 5000000, 6000000, 4000000, 35000000, 2100000, 5000000, 22000000, 1500000, 12000000, 11000000, 160000000, 10500000, 125000000, 150000000], \"xaxis\": \"x3\", \"yaxis\": \"y3\"}, {\"alignmentgroup\": \"True\", \"customdata\": [[\"Logan\"], [\"Arrival\"], [\"The Gallows\"], [\"Fifty Shades of Grey\"], [\"Catfish\"], [\"The Devil Inside\"], [\"The Quiet Ones\"], [\"Snow Flower and the Secret Fan\"], [\"Searching\"], [\"Insidious\"], [\"Unfriended\"], [\"Paranormal Activity 2\"], [\"Get Out\"], [\"The Woman in Black 2: Angel of Death\"], [\"Paranormal Activity 3\"], [\"Annabelle\"], [\"The Last Exorcism\"], [\"Like Crazy\"], [\"Courageous\"], [\"Split\"], [\"Lights Out\"], [\"The Purge\"], [\"The King's Speech\"], [\"Paranormal Activity 4\"], [\"Sinister\"], [\"Truth or Dare\"], [\"Happy Death Day\"], [\"Black Swan\"], [\"Halloween\"], [\"Dope\"], [\"The Fault in Our Stars\"], [\"Your Sister's Sister\"], [\"War Room\"], [\"The Conjuring\"], [\"Magic Mike\"], [\"A Haunted House\"], [\"Ouija\"], [\"Annabelle: Creation\"], [\"It\"], [\"A Quiet Place\"], [\"A Ghost Story\"], [\"The Visit\"], [\"Another Earth\"], [\"Paranormal Activity: The Marked Ones\"], [\"Escape Room\"], [\"Bohemian Rhapsody\"], [\"A Beautiful Day in the Neighborhood\"], [\"Insidious: The Last Key\"], [\"The Imitation Game\"], [\"Moonlight\"], [\"Unfriended: Dark Web\"], [\"Sleight\"], [\"Don't Breathe\"], [\"Minions\"], [\"Wonder\"], [\"Whiplash\"], [\"Neighbors\"], [\"La La Land\"], [\"Hello, My Name Is Doris\"], [\"Green Book\"], [\"The Best Exotic Marigold Hotel\"], [\"Deadpool\"], [\"Life in a Day\"], [\"2016: Obama's America\"], [\"The Boy Next Door\"], [\"Despicable Me 3\"], [\"Us\"], [\"Despicable Me 2\"], [\"Winchester\"], [\"The Purge: Anarchy\"], [\"Glass\"], [\"Ma\"], [\"The Grace Card\"], [\"Boyhood\"], [\"A Star Is Born\"], [\"Grandma\"], [\"The Purge: Election Year\"], [\"The Gift\"], [\"Beasts of the Southern Wild\"], [\"Lion\"], [\"The Lazarus Effect\"], [\"The Secret Life of Pets\"], [\"The Witch\"], [\"Lucy\"], [\"47 Meters Down\"], [\"Silver Linings Playbook\"], [\"Insidious: Chapter 3\"], [\"The Big Sick\"], [\"Jurassic World\"], [\"Dallas Buyers Club\"], [\"Ted\"], [\"No Escape\"], [\"It Follows\"], [\"Harry Potter and the Deathly Hallows: Part 2\"], [\"Bad Teacher\"], [\"Jumanji: Welcome to the Jungle\"], [\"The Sessions\"], [\"Call Me by Your Name\"], [\"The First Purge\"], [\"Book Club\"], [\"Me Before You\"], [\"The Twilight Saga: Eclipse\"], [\"Jigsaw\"], [\"The Maze Runner\"], [\"Bellflower\"], [\"Monsters\"], [\"Jackass Presents: Bad Grandpa\"], [\"Meet the Blacks\"], [\"The Shape of Water\"], [\"The Kids Are All Right\"], [\"Pitch Perfect 2\"], [\"Mama\"], [\"Buried\"], [\"Frozen II\"], [\"Ready or Not\"], [\"Downton Abbey\"], [\"Unsane\"], [\"Hidden Figures\"], [\"Easy A\"], [\"12 Years a Slave\"], [\"A Dog's Purpose\"], [\"American Sniper\"], [\"The Hunger Games\"], [\"Ice Age: Continental Drift\"], [\"Bad Moms\"], [\"Ouija: Origin of Evil\"], [\"Hunt for the Wilderpeople\"], [\"The Karate Kid\"], [\"Blair Witch\"], [\"The Artist\"], [\"Still Alice\"], [\"The Iron Lady\"], [\"Oculus\"], [\"The Descendants\"], [\"Bridesmaids\"], [\"Manchester by the Sea\"], [\"The Help\"], [\"Jackass 3D\"], [\"The Second Best Exotic Marigold Hotel\"], [\"Project X\"], [\"Sing\"], [\"Chronicle\"], [\"Heaven Is for Real\"], [\"As Above, So Below\"], [\"Philomena\"], [\"Taken 2\"], [\"I Am Not Your Negro\"], [\"Silent House\"], [\"The Theory of Everything\"], [\"Dirty Grandpa\"], [\"Tangerine\"], [\"Let's Be Cops\"], [\"Think Like a Man\"], [\"The Conjuring 2\"], [\"Furious 7\"], [\"Hereditary\"], [\"Crazy Rich Asians\"], [\"Dark Skies\"], [\"Magic Mike XXL\"], [\"Begin Again\"], [\"Avengers: Endgame\"], [\"End of Watch\"], [\"Paranormal Activity: The Ghost Dimension\"], [\"Hustlers\"], [\"Despicable Me\"], [\"Resident Evil: The Final Chapter\"], [\"The Lego Movie\"], [\"Knives Out\"], [\"Loving Vincent\"], [\"Annabelle Comes Home\"], [\"Justin Bieber: Never Say Never\"], [\"The Woman in Black\"], [\"Overboard\"], [\"Captain Marvel\"], [\"Countdown\"], [\"Girls Trip\"], [\"Sausage Party\"], [\"10 Cloverfield Lane\"], [\"The Hangover Part II\"], [\"Venom\"], [\"We're the Millers\"], [\"About Time\"], [\"Les Mis\\u00e9rables\"], [\"Happy Death Day 2U\"], [\"Aquaman\"], [\"Straight Outta Compton\"], [\"K-12\"], [\"Paper Towns\"], [\"Show Dogs\"], [\"Love & Friendship\"], [\"Spider-Man: Far from Home\"], [\"If I Stay\"], [\"Peter Rabbit\"], [\"The Shallows\"], [\"Before Midnight\"], [\"Fifty Shades Darker\"], [\"Chimpanzee\"], [\"Gravity\"], [\"Winter's Bone\"], [\"Lowriders\"], [\"The Twilight Saga: Breaking Dawn - Part 2\"], [\"The Avengers\"], [\"Act of Valor\"], [\"Avengers: Infinity War\"], [\"Taken 3\"], [\"The Grinch\"], [\"Crawl\"], [\"Pitch Perfect\"], [\"Zootopia\"], [\"Black Panther\"], [\"Fifty Shades Freed\"], [\"Skyline\"], [\"Deadpool 2\"], [\"The Hunger Games: Catching Fire\"], [\"Baby Driver\"], [\"True Grit\"], [\"Hotel Transylvania 3: Summer Vacation\"], [\"22 Jump Street\"], [\"The Vow\"], [\"The Twilight Saga: Breaking Dawn - Part 1\"], [\"Jojo Rabbit\"], [\"The Boy\"], [\"House at the End of the Street\"], [\"Murder on the Orient Express\"], [\"The Favourite\"], [\"Johnny English Strikes Again\"], [\"Jumanji: The Next Level\"], [\"Logan\"], [\"The Lion King\"], [\"Four Lions\"], [\"A Haunted House 2\"], [\"Spring Breakers\"], [\"American Hustle\"], [\"Devil\"], [\"BlacKkKlansman\"], [\"Incredibles 2\"], [\"Ride Along\"], [\"Everything, Everything\"], [\"Gifted\"], [\"Toy Story 4\"], [\"The Ides of March\"], [\"The Possession\"], [\"Bridget Jones's Baby\"], [\"Iron Man 3\"], [\"The Hunger Games: Mockingjay - Part 1\"], [\"Gone Girl\"], [\"It Chapter Two\"], [\"Limitless\"], [\"Horrible Bosses\"], [\"No Strings Attached\"], [\"John Wick: Chapter 3 - Parabellum\"], [\"Hotel Transylvania 2\"], [\"Room\"], [\"Yesterday\"], [\"Safety Not Guaranteed\"], [\"The Hitman's Bodyguard\"], [\"Looper\"], [\"20 Feet from Stardom\"], [\"The Martian\"], [\"Jumping the Broom\"], [\"The Grand Budapest Hotel\"], [\"Aladdin\"], [\"Transformers: Dark of the Moon\"], [\"Evil Dead\"], [\"Birdman or (The Unexpected Virtue of Ignorance)\"], [\"That Awkward Moment\"], [\"Cinderella\"], [\"Paddington 2\"], [\"Brooklyn\"], [\"The Social Network\"], [\"Avengers: Age of Ultron\"], [\"Nightcrawler\"], [\"Woman in Gold\"], [\"The Possession of Hannah Grace\"], [\"Margin Call\"], [\"Late Night\"], [\"Good Boys\"], [\"Skyfall\"], [\"The Intern\"], [\"Wonder Woman\"], [\"The Jungle Book\"], [\"Brightburn\"], [\"The Florida Project\"], [\"My Week with Marilyn\"], [\"An Inconvenient Sequel: Truth to Power\"], [\"Movie 43\"], [\"Gnomeo & Juliet\"], [\"Rio\"], [\"The Secret Life of Pets 2\"], [\"Pet Sematary\"], [\"The Heat\"], [\"Toy Story 3\"], [\"Sinister 2\"], [\"Midsommar\"], [\"Step Up 3D\"], [\"Rogue One: A Star Wars Story\"], [\"Transformers: Age of Extinction\"], [\"Devil's Due\"], [\"The Call\"], [\"Mamma Mia! Here We Go Again\"], [\"Apollo 18\"], [\"Little Women\"], [\"Super 8\"], [\"Argo\"], [\"Flight\"], [\"Inception\"], [\"The Greatest Showman\"], [\"Rise of the Planet of the Apes\"], [\"Paul, Apostle of Christ\"], [\"Slender Man\"], [\"Madagascar 3: Europe's Most Wanted\"], [\"Our Idiot Brother\"], [\"Finding Dory\"], [\"The DUFF\"], [\"The Babadook\"], [\"The Fighter\"], [\"Maze Runner: The Scorch Trials\"], [\"Kingsman: The Secret Service\"], [\"50/50\"], [\"Alice in Wonderland\"], [\"Drive\"], [\"Paddington\"], [\"The Smurfs\"], [\"Midnight in Paris\"], [\"The Addams Family\"], [\"Life of Pi\"], [\"Diary of a Wimpy Kid\"], [\"Race\"], [\"The Perfect Guy\"], [\"My Big Fat Greek Wedding 2\"], [\"Tammy\"], [\"Spider-Man: Homecoming\"], [\"Darkest Hour\"], [\"Fast Five\"], [\"Resident Evil: Afterlife\"], [\"Identity Thief\"], [\"The Lorax\"], [\"The Fate of the Furious\"], [\"Spotlight\"], [\"Fast & Furious 6\"], [\"I, Tonya\"], [\"Inside Out\"], [\"God's Not Dead 2\"], [\"Rocketman\"], [\"A Simple Favor\"], [\"The Shack\"], [\"Daddy's Home\"], [\"Rio 2\"], [\"The Angry Birds Movie\"], [\"Last Vegas\"], [\"21 Jump Street\"], [\"Planes\"], [\"Mission: Impossible - Ghost Protocol\"], [\"Parental Guidance\"], [\"The Big Short\"], [\"Thor: Ragnarok\"], [\"Now You See Me\"], [\"Creed\"], [\"American Reunion\"], [\"A Walk in the Woods\"], [\"A Bad Moms Christmas\"], [\"Forever My Girl\"], [\"Maze Runner: The Death Cure\"], [\"Miracles from Heaven\"], [\"Source Code\"], [\"Captain America: Civil War\"], [\"Coco\"], [\"Dear John\"], [\"Shazam!\"], [\"Alvin and the Chipmunks: Chipwrecked\"], [\"Shrek Forever After\"], [\"Captain Fantastic\"], [\"Guardians of the Galaxy\"], [\"Mission: Impossible - Rogue Nation\"], [\"Fantastic Beasts and Where to Find Them\"], [\"Second Act\"], [\"Hansel & Gretel: Witch Hunters\"], [\"The Lighthouse\"], [\"Unknown\"], [\"Hacksaw Ridge\"], [\"Child's Play\"], [\"A Dog's Way Home\"], [\"Nerve\"], [\"Blockers\"], [\"Non-Stop\"], [\"Beginners\"], [\"Mission: Impossible - Fallout\"], [\"Kung Fu Panda 2\"], [\"Mother's Day\"], [\"Ant-Man and the Wasp\"], [\"Southside with You\"], [\"Norm of the North\"], [\"The SpongeBob Movie: Sponge Out of Water\"], [\"In Time\"], [\"Central Intelligence\"], [\"What We Do in the Shadows\"], [\"The Croods\"], [\"The Emoji Movie\"], [\"Sherlock Holmes: A Game of Shadows\"], [\"The Dark Knight Rises\"], [\"San Andreas\"], [\"Guardians of the Galaxy Vol. 2\"], [\"The Best Man Holiday\"], [\"John Wick\"], [\"Creed II\"], [\"John Wick: Chapter 2\"], [\"How to Train Your Dragon 2\"], [\"Suicide Squad\"], [\"Friends with Benefits\"], [\"The Danish Girl\"], [\"Puss in Boots\"], [\"Moonrise Kingdom\"], [\"Into the Woods\"], [\"Step Up Revolution\"], [\"Blue Valentine\"], [\"Shaun the Sheep Movie\"], [\"Django Unchained\"], [\"Dumb and Dumber To\"], [\"Lincoln\"], [\"Journey 2: The Mysterious Island\"], [\"Hotel Transylvania\"], [\"The Boss Baby\"], [\"St. Vincent\"], [\"Maleficent\"], [\"Captain America: The Winter Soldier\"], [\"Dawn of the Planet of the Apes\"], [\"Scary Stories to Tell in the Dark\"], [\"Valentine's Day\"], [\"Spider-Man: Into the Spider-Verse\"], [\"The Town\"], [\"Booksmart\"], [\"The Foreigner\"], [\"Bridge of Spies\"], [\"Doctor Strange\"], [\"Pitch Perfect 3\"], [\"The Hunger Games: Mockingjay - Part 2\"], [\"No Good Deed\"], [\"Interstellar\"], [\"Krampus\"], [\"The Hundred-Foot Journey\"], [\"The Hobbit: An Unexpected Journey\"], [\"xXx: Return of Xander Cage\"], [\"How to Train Your Dragon: The Hidden World\"], [\"Bachelorette\"], [\"The Bye Bye Man\"], [\"About Last Night\"], [\"Vampires Suck\"], [\"Trainwreck\"], [\"Sully\"], [\"Ant-Man\"], [\"Wind River\"], [\"The Commuter\"], [\"Big Hero 6\"], [\"Captain Phillips\"], [\"The Forest\"], [\"The Lucky One\"], [\"The Revenant\"], [\"It Comes at Night\"], [\"Kingsman: The Golden Circle\"], [\"One Day\"], [\"Clash of the Titans\"], [\"This Is the End\"], [\"Inside Job\"], [\"The Wolf of Wall Street\"], [\"Love, Simon\"], [\"The Lego Batman Movie\"], [\"Harry Potter and the Deathly Hallows: Part 1\"], [\"Ice Age: Collision Course\"], [\"Teenage Mutant Ninja Turtles\"], [\"Lone Survivor\"], [\"Contraband\"], [\"The Girl on the Train\"], [\"The Hobbit: The Desolation of Smaug\"], [\"The Hobbit: The Battle of the Five Armies\"], [\"God's Not Dead\"], [\"Hope Springs\"], [\"Fast & Furious Presents: Hobbs & Shaw\"], [\"Thor: The Dark World\"], [\"1917\"], [\"Monsters University\"], [\"Now You See Me 2\"], [\"Everest\"], [\"Fighting with My Family\"], [\"21 & Over\"], [\"Resident Evil: Retribution\"], [\"Shutter Island\"], [\"The Muppets\"], [\"Angel Has Fallen\"], [\"Jack Reacher\"], [\"Spy\"], [\"What Men Want\"], [\"The Post\"], [\"Kung Fu Panda 3\"], [\"Alexander and the Terrible, Horrible, No Good, Very Bad Day\"], [\"Spectre\"], [\"Night School\"], [\"Johnny English Reborn\"], [\"The Amazing Spider-Man 2\"], [\"The Hateful Eight\"], [\"The Meg\"], [\"The Amazing Spider-Man\"], [\"The Accountant\"], [\"The Prodigy\"], [\"Jobs\"], [\"Earth to Echo\"], [\"Diary of a Wimpy Kid: Dog Days\"], [\"The Hangover Part III\"], [\"Wild\"], [\"Pain & Gain\"], [\"Sisters\"], [\"Remember Me\"], [\"The Mule\"], [\"Batman v Superman: Dawn of Justice\"], [\"The Equalizer\"], [\"Safe Haven\"], [\"Bumblebee\"], [\"The Wedding Ringer\"], [\"Pirates of the Caribbean: Dead Men Tell No Tales\"], [\"Piranha 3D\"], [\"Money Monster\"], [\"Jason Bourne\"], [\"The Wolverine\"], [\"Vacation\"], [\"Diary of a Wimpy Kid: Rodrick Rules\"], [\"The Expendables\"], [\"Kick-Ass\"], [\"RED\"], [\"Love & Other Drugs\"], [\"London Has Fallen\"], [\"Anchorman 2: The Legend Continues\"], [\"The Bounty Hunter\"], [\"Eat Pray Love\"], [\"Mr. Popper's Penguins\"], [\"Divergent\"], [\"Sing Street\"], [\"Going in Style\"], [\"The Good Liar\"], [\"Grown Ups\"], [\"The American\"], [\"127 Hours\"], [\"Saving Mr. Banks\"], [\"The Great Gatsby\"], [\"Final Destination 5\"], [\"The Upside\"], [\"Selma\"], [\"Madea's Witness Protection\"], [\"Warm Bodies\"], [\"Ready Player One\"], [\"Atomic Blonde\"], [\"Zero Dark Thirty\"], [\"Rings\"], [\"Upgrade\"], [\"A Good Day to Die Hard\"], [\"The Smurfs 2\"], [\"A Nightmare on Elm Street\"], [\"Captain Underpants: The First Epic Movie\"], [\"Smurfs: The Lost Village\"], [\"Fantastic Beasts: The Crimes of Grindelwald\"], [\"Before I Fall\"], [\"The Mummy\"], [\"War for the Planet of the Apes\"], [\"The Guard\"], [\"Mud\"], [\"Due Date\"], [\"Into the Storm\"], [\"Robin Hood\"], [\"Son of God\"], [\"Old Fashioned\"], [\"The Grey\"], [\"Blended\"], [\"Game Night\"], [\"Predators\"], [\"Ted 2\"], [\"Focus\"], [\"The Expendables 2\"], [\"Hell or High Water\"], [\"Sex Tape\"], [\"Mechanic: Resurrection\"], [\"The Place Beyond the Pines\"], [\"Iron Man 2\"], [\"In a World...\"], [\"Fury\"], [\"Ride Along 2\"], [\"Home Again\"], [\"Dracula Untold\"], [\"Why Him?\"], [\"Prometheus\"], [\"Little Fockers\"], [\"Neighbors 2: Sorority Rising\"], [\"Grown Ups 2\"], [\"Water for Elephants\"], [\"Need for Speed\"], [\"Kong: Skull Island\"], [\"Southpaw\"], [\"300: Rise of an Empire\"], [\"When the Bough Breaks\"], [\"The Equalizer 2\"], [\"X-Men: Apocalypse\"], [\"Magic in the Moonlight\"], [\"Why Did I Get Married Too?\"], [\"Ralph Breaks the Internet\"], [\"Immortals\"], [\"How to Train Your Dragon\"], [\"Inside Llewyn Davis\"], [\"Thor\"], [\"I Am Number Four\"], [\"The Disaster Artist\"], [\"X-Men: Days of Future Past\"], [\"Man of Steel\"], [\"August: Osage County\"], [\"How to Be Single\"], [\"I Feel Pretty\"], [\"Arbitrage\"], [\"Planes: Fire & Rescue\"], [\"Shame\"], [\"Deliver Us from Evil\"], [\"Inferno\"], [\"Hop\"], [\"Tomb Raider\"], [\"Think Like a Man Too\"], [\"Zombieland: Double Tap\"], [\"Big Eyes\"], [\"The Transporter Refueled\"], [\"Sex and the City 2\"], [\"G.I. Joe: Retaliation\"], [\"The 5th Wave\"], [\"Hail, Caesar!\"], [\"America: Imagine the World Without Her\"], [\"The Nut Job\"], [\"The Adventures of Tintin\"], [\"Noah\"], [\"Wreck-It Ralph\"], [\"Night at the Museum: Secret of the Tomb\"], [\"The Counselor\"], [\"Terminator Genisys\"], [\"Paul Blart: Mall Cop 2\"], [\"Sicario\"], [\"Penguins of Madagascar\"], [\"Carrie\"], [\"Cars 2\"], [\"Transformers: The Last Knight\"], [\"Get Hard\"], [\"Tag\"], [\"Pixels\"], [\"The Tourist\"], [\"Trolls\"], [\"Date Night\"], [\"The Spectacular Now\"], [\"Project Almanac\"], [\"Men in Black 3\"], [\"The Dictator\"], [\"Passengers\"], [\"Barbershop: The Next Cut\"], [\"Pirates of the Caribbean: On Stranger Tides\"], [\"Warcraft\"], [\"Escape Plan\"], [\"The Crazies\"], [\"Middle School: The Worst Years of My Life\"], [\"Goosebumps\"], [\"The Darkness\"], [\"Poltergeist\"], [\"Katy Perry: Part of Me\"], [\"The Boss\"], [\"Real Steel\"], [\"Tinker Tailor Soldier Spy\"], [\"Jack Reacher: Never Go Back\"], [\"World War Z\"], [\"Miss Peregrine's Home for Peculiar Children\"], [\"Jackie\"], [\"American Made\"], [\"Baggage Claim\"], [\"Just Go with It\"], [\"War Horse\"], [\"Mary Poppins Returns\"], [\"The Chronicles of Narnia: The Voyage of the Dawn Treader\"], [\"The Giver\"], [\"Den of Thieves\"], [\"Fences\"], [\"Epic\"], [\"Salt\"], [\"Goosebumps 2: Haunted Halloween\"], [\"Ferdinand\"], [\"The Words\"], [\"Maleficent: Mistress of Evil\"], [\"The Beguiled\"], [\"Prisoners\"], [\"Captain America: The First Avenger\"], [\"Footloose\"], [\"The November Man\"], [\"Letters to Juliet\"], [\"Christopher Robin\"], [\"Uncut Gems\"], [\"The Age of Adaline\"], [\"The Switch\"], [\"Soul Surfer\"], [\"Storks\"], [\"Daddy's Home 2\"], [\"Legion\"], [\"The Family\"], [\"The Rite\"], [\"The To Do List\"], [\"Riddick\"], [\"Dolphin Tale\"], [\"The Pyramid\"], [\"Big Mommas: Like Father, Like Son\"], [\"Baywatch\"], [\"The Perks of Being a Wallflower\"], [\"Horrible Bosses 2\"], [\"Brick Mansions\"], [\"Locke\"], [\"Beastly\"], [\"Yogi Bear\"], [\"Office Christmas Party\"], [\"The Adjustment Bureau\"], [\"New Year's Eve\"], [\"Killing Them Softly\"], [\"The Roommate\"], [\"The Green Inferno\"], [\"Alpha and Omega\"], [\"This Is 40\"], [\"Rush\"], [\"Mad Max: Fury Road\"], [\"Larry Crowne\"], [\"Love the Coopers\"], [\"Elysium\"], [\"The Peanuts Movie\"], [\"She's Out of My League\"], [\"Unbroken\"], [\"The Strangers: Prey at Night\"], [\"Alien: Covenant\"], [\"Megamind\"], [\"Another Year\"], [\"Ex Machina\"], [\"Star Trek Into Darkness\"], [\"Uncle Drew\"], [\"The Glass Castle\"], [\"Collateral Beauty\"], [\"Paul\"], [\"Hercules\"], [\"Little\"], [\"Dora and the Lost City of Gold\"], [\"Safe House\"], [\"42\"], [\"Skyscraper\"], [\"Olympus Has Fallen\"], [\"J. Edgar\"], [\"Black or White\"], [\"Scream 4\"], [\"Abominable\"], [\"A Most Wanted Man\"], [\"This Means War\"], [\"We Bought a Zoo\"], [\"Hall Pass\"], [\"The Expendables 3\"], [\"Percy Jackson & the Olympians: The Lightning Thief\"], [\"Oblivion\"], [\"Home Run\"], [\"Traffik\"], [\"Alita: Battle Angel\"], [\"Flatliners\"], [\"Rough Night\"], [\"Independence Day: Resurgence\"], [\"Blue Ruin\"], [\"TRON: Legacy\"], [\"Hitman: Agent 47\"], [\"Abduction\"], [\"Tooth Fairy\"], [\"Super Troopers 2\"], [\"Death at a Funeral\"], [\"Mike and Dave Need Wedding Dates\"], [\"Snow White and the Huntsman\"], [\"The Cabin in the Woods\"], [\"Ghost Rider: Spirit of Vengeance\"], [\"Risen\"], [\"T2 Trainspotting\"], [\"Underworld: Blood Wars\"], [\"Men in Black: International\"], [\"Ford v Ferrari\"], [\"Nebraska\"], [\"The Choice\"], [\"The World's End\"], [\"Get Him to the Greek\"], [\"Playing with Fire\"], [\"Ricki and the Flash\"], [\"Season of the Witch\"], [\"Suffragette\"], [\"The Debt\"], [\"Pacific Rim\"], [\"Tangled\"], [\"Contagion\"], [\"Machete\"], [\"Godzilla: King of the Monsters\"], [\"The Angry Birds Movie 2\"], [\"Jack Ryan: Shadow Recruit\"], [\"The Circle\"], [\"The Next Three Days\"], [\"The Odd Life of Timothy Green\"], [\"Prince of Persia: The Sands of Time\"], [\"Knight and Day\"], [\"The Great Wall\"], [\"Knock Knock\"], [\"The Monuments Men\"], [\"Percy Jackson: Sea of Monsters\"], [\"The Belko Experiment\"], [\"Only God Forgives\"], [\"Finding Your Feet\"], [\"Pete's Dragon\"], [\"Homefront\"], [\"X-Men: First Class\"], [\"Moneyball\"], [\"Red Sparrow\"], [\"Max\"], [\"Cars 3\"], [\"Justice League\"], [\"A Million Ways to Die in the West\"], [\"The Lincoln Lawyer\"], [\"Kick-Ass 2\"], [\"2 Guns\"], [\"Sicario: Day of the Soldado\"], [\"Takers\"], [\"War Dogs\"], [\"The Darkest Hour\"], [\"Peppermint\"], [\"Mirror Mirror\"], [\"Seven Psychopaths\"], [\"The Edge of Seventeen\"], [\"Red Riding Hood\"], [\"Hereafter\"], [\"Lawless\"], [\"The Last Airbender\"], [\"Hanna\"], [\"The Bourne Legacy\"], [\"My Old Lady\"], [\"Zookeeper\"], [\"Rise of the Guardians\"], [\"Gulliver's Travels\"], [\"Side Effects\"], [\"What to Expect When You're Expecting\"], [\"Her\"], [\"Moms' Night Out\"], [\"Annie\"], [\"A Walk Among the Tombstones\"], [\"The Night Before\"], [\"Chappie\"], [\"The Secret Life of Walter Mitty\"], [\"Turbo\"], [\"Beyond the Lights\"], [\"This Is Where I Leave You\"], [\"Frankenweenie\"], [\"Runner Runner\"], [\"Edge of Tomorrow\"], [\"Dumbo\"], [\"The Sweeney\"], [\"Delivery Man\"], [\"Tower Heist\"], [\"A Dangerous Method\"], [\"Stuber\"], [\"RoboCop\"], [\"Just Mercy\"], [\"Bernie\"], [\"Wrath of the Titans\"], [\"Free Birds\"], [\"Eddie the Eagle\"], [\"When the Game Stands Tall\"], [\"The Book of Life\"], [\"Monte Carlo\"], [\"The Legend of Tarzan\"], [\"Molly's Game\"], [\"The Birth of a Nation\"], [\"The Book of Eli\"], [\"Wish Upon\"], [\"Mother's Day\"], [\"Pacific Rim: Uprising\"], [\"Boo 2! A Madea Halloween\"], [\"Wall Street: Money Never Sleeps\"], [\"Nine Lives\"], [\"Assassin's Creed\"], [\"12 Strong\"], [\"Alpha\"], [\"Robot & Frank\"], [\"The Lego Movie 2: The Second Part\"], [\"Paterson\"], [\"Exodus: Gods and Kings\"], [\"Step Up All In\"], [\"Young Adult\"], [\"A Very Harold & Kumar Christmas\"], [\"The Mechanic\"], [\"The 15:17 to Paris\"], [\"3 Days to Kill\"], [\"Mr. Peabody & Sherman\"], [\"Frank\"], [\"The Green Hornet\"], [\"Mile 22\"], [\"Jack and Jill\"], [\"The Dark Tower\"], [\"The Spy Who Dumped Me\"], [\"Black Mass\"], [\"After Earth\"], [\"Mary Queen of Scots\"], [\"Fist Fight\"], [\"Escape from Planet Earth\"], [\"Bombshell\"], [\"Something Borrowed\"], [\"Star Trek Beyond\"], [\"We Are Your Friends\"], [\"Cop Out\"], [\"The Longest Ride\"], [\"Savages\"], [\"Geostorm\"], [\"Burnt\"], [\"The Three Stooges\"], [\"Rambo: Last Blood\"], [\"The Tree of Life\"], [\"The Predator\"], [\"Diary of a Wimpy Kid: The Long Haul\"], [\"Rango\"], [\"Ramona and Beezus\"], [\"Teenage Mutant Ninja Turtles: Out of the Shadows\"], [\"Incarnate\"], [\"Widows\"], [\"The Five-Year Engagement\"], [\"The Magnificent Seven\"], [\"The Boxtrolls\"], [\"Hot Tub Time Machine\"], [\"The Mountain Between Us\"], [\"Secret in Their Eyes\"], [\"ParaNorman\"], [\"Nobody's Fool\"], [\"RED 2\"], [\"The Three Musketeers\"], [\"Alice Through the Looking Glass\"], [\"Sparkle\"], [\"The Lego Ninjago Movie\"], [\"Gangster Squad\"], [\"Made in Dagenham\"], [\"Legend of the Guardians: The Owls of Ga'Hoole\"], [\"The Walk\"], [\"Endless Love\"], [\"Life\"], [\"While We're Young\"], [\"The D Train\"], [\"Blade Runner 2049\"], [\"Secretariat\"], [\"Leap Year\"], [\"Hitchcock\"], [\"Legend\"], [\"The Nut Job 2: Nutty by Nature\"], [\"Spies in Disguise\"], [\"If Beale Street Could Talk\"], [\"Left Behind\"], [\"The Other Guys\"], [\"The Water Diviner\"], [\"Piranha 3DD\"], [\"Jersey Boys\"], [\"The Art of Racing in the Rain\"], [\"The Judge\"], [\"Abraham Lincoln: Vampire Hunter\"], [\"Florence Foster Jenkins\"], [\"Joy\"], [\"Voiceless\"], [\"Hardcore Henry\"], [\"Unstoppable\"], [\"Marmaduke\"], [\"Filth\"], [\"Logan Lucky\"], [\"Winnie the Pooh\"], [\"The Good Dinosaur\"], [\"Kidnap\"], [\"The Meddler\"], [\"Death Wish\"], [\"Snitch\"], [\"Lockout\"], [\"Swiss Army Man\"], [\"Entourage\"], [\"Dark Shadows\"], [\"For a Good Time, Call...\"], [\"The Last Witch Hunter\"], [\"Burlesque\"], [\"Allegiant\"], [\"Camp\"], [\"The Lobster\"], [\"The Spy Next Door\"], [\"The Internship\"], [\"The A-Team\"], [\"Muppets Most Wanted\"], [\"Doctor Sleep\"], [\"Dolphin Tale 2\"], [\"You Again\"], [\"The Mortal Instruments: City of Bones\"], [\"Colombiana\"], [\"Last Night\"], [\"The Gambler\"], [\"Solo: A Star Wars Story\"], [\"The Innkeepers\"], [\"Proud Mary\"], [\"Ghost in the Shell\"], [\"Million Dollar Arm\"], [\"Marrowbone\"], [\"Sherlock Gnomes\"], [\"Don't Be Afraid of the Dark\"], [\"Our Family Wedding\"], [\"Charlie's Angels\"], [\"The Little Prince\"], [\"Belle\"], [\"What's Your Number?\"], [\"The Eagle\"], [\"The Hate U Give\"], [\"All Is Lost\"], [\"21 Bridges\"], [\"First Man\"], [\"Haywire\"], [\"Morning Glory\"], [\"The Best of Me\"], [\"Faster\"], [\"Unforgettable\"], [\"The Drop\"], [\"Shark Night 3D\"], [\"Hot Pursuit\"], [\"Machete Kills\"], [\"Caf\\u00e9 Society\"], [\"Ad Astra\"], [\"30 Minutes or Less\"], [\"Diana\"], [\"The Change-Up\"], [\"The Nutcracker and the Four Realms\"], [\"Battleship\"], [\"Snatched\"], [\"Animal Kingdom\"], [\"The Host\"], [\"Loving\"], [\"The Sorcerer's Apprentice\"], [\"The Awakening\"], [\"The Huntsman: Winter's War\"], [\"Admission\"], [\"Run All Night\"], [\"The Man from U.N.C.L.E.\"], [\"Power Rangers\"], [\"Terminator: Dark Fate\"], [\"Allied\"], [\"And So It Goes\"], [\"Captive\"], [\"Fantastic Four\"], [\"The Sitter\"], [\"The BFG\"], [\"All Eyez on Me\"], [\"I'm Not Ashamed\"], [\"Safe\"], [\"Extremely Loud & Incredibly Close\"], [\"The Man with the Iron Fists\"], [\"White House Down\"], [\"Country Strong\"], [\"Phantom\"], [\"Fright Night\"], [\"Phantom Thread\"], [\"American Animals\"], [\"Crimson Peak\"], [\"Khumba\"], [\"Let Me In\"], [\"Iron Sky\"], [\"Nocturnal Animals\"], [\"Long Shot\"], [\"The Railway Man\"], [\"Parker\"], [\"The Ghost Writer\"], [\"The Bling Ring\"], [\"Prom\"], [\"The Big Wedding\"], [\"Cats & Dogs: The Revenge of Kitty Galore\"], [\"Going the Distance\"], [\"Shut In\"], [\"I Don't Know How She Does It\"], [\"Killers\"], [\"The Zookeeper's Wife\"], [\"Priest\"], [\"The Light Between Oceans\"], [\"A Wrinkle in Time\"], [\"Cloud Atlas\"], [\"Batman: The Killing Joke\"], [\"Cold Pursuit\"], [\"Valerian and the City of a Thousand Planets\"], [\"Point Break\"], [\"Kubo and the Two Strings\"], [\"Vice\"], [\"Dinner for Schmucks\"], [\"Midway\"], [\"Gemini Man\"], [\"The Nice Guys\"], [\"The Snowman\"], [\"Criminal\"], [\"Carnage\"], [\"Self/less\"], [\"Happy Feet Two\"], [\"Trance\"], [\"The Darkest Minds\"], [\"Hearts Beat Loud\"], [\"Arthur\"], [\"Seventh Son\"], [\"Woodlawn\"], [\"Wonder Park\"], [\"Draft Day\"], [\"Masterminds\"], [\"I, Frankenstein\"], [\"Pompeii\"], [\"The Losers\"], [\"Fair Game\"], [\"Seeking a Friend for the End of the World\"], [\"The Girl with the Dragon Tattoo\"], [\"Patriots Day\"], [\"Triple 9\"], [\"Steve Jobs\"], [\"The Raven\"], [\"Ender's Game\"], [\"Ruby Sparks\"], [\"All the Money in the World\"], [\"John Carter\"], [\"Zoolander 2\"], [\"Man on a Ledge\"], [\"The Hunt\"], [\"Labor Day\"], [\"Grudge Match\"], [\"Get on Up\"], [\"Fifty Shades of Black\"], [\"Deepwater Horizon\"], [\"The Campaign\"], [\"First Reformed\"], [\"Morgan\"], [\"Tomorrowland\"], [\"A Monster Calls\"], [\"Green Lantern\"], [\"Sleepless\"], [\"Overlord\"], [\"Sucker Punch\"], [\"Charlie St. Cloud\"], [\"Early Man\"], [\"Hugo\"], [\"Win Win\"], [\"Macbeth\"], [\"Only Lovers Left Alive\"], [\"Danny Collins\"], [\"The Canyons\"], [\"Annihilation\"], [\"Gods of Egypt\"], [\"Scouts Guide to the Zombie Apocalypse\"], [\"Cowboys & Aliens\"], [\"The Guilt Trip\"], [\"Jupiter Ascending\"], [\"Kill the Messenger\"], [\"Bel Ami\"], [\"Furry Vengeance\"], [\"A United Kingdom\"], [\"Wish I Was Here\"], [\"20th Century Women\"], [\"Transcendence\"], [\"The Lords of Salem\"], [\"Rabbit Hole\"], [\"Miss Bala\"], [\"Isle of Dogs\"], [\"Father Figures\"], [\"The Lone Ranger\"], [\"From Paris with Love\"], [\"Jack the Giant Slayer\"], [\"Edge of Darkness\"], [\"Table 19\"], [\"Red Lights\"], [\"Stoker\"], [\"The Watch\"], [\"Beautiful Creatures\"], [\"The Vatican Tapes\"], [\"Thunderstruck\"], [\"Smashed\"], [\"The Dilemma\"], [\"American Ultra\"], [\"Richard Jewell\"], [\"90 Minutes in Heaven\"], [\"The Founder\"], [\"Holmes & Watson\"], [\"One for the Money\"], [\"Green Zone\"], [\"Albert Nobbs\"], [\"In the Heart of the Sea\"], [\"Hot Tub Time Machine 2\"], [\"Snowden\"], [\"Warrior\"], [\"MacGruber\"], [\"The Hurricane Heist\"], [\"Bad Santa 2\"], [\"The Incredible Burt Wonderstone\"], [\"The Beach Bum\"], [\"Kill List\"], [\"The Thing\"], [\"White Boy Rick\"], [\"Hellboy\"], [\"Flypaper\"], [\"Premium Rush\"], [\"Conviction\"], [\"Hotel Artemis\"], [\"The Diary of a Teenage Girl\"], [\"The Master\"], [\"Little Boy\"], [\"Predestination\"], [\"Big Game\"], [\"The Legend of Hercules\"], [\"Red Tails\"], [\"47 Ronin\"], [\"Killer Elite\"], [\"My Soul to Take\"], [\"Pan\"], [\"Victor Frankenstein\"], [\"King Arthur: Legend of the Sword\"], [\"For Greater Glory: The True Story of Cristiada\"], [\"Marshall\"], [\"The Cold Light of Day\"], [\"The Infiltrator\"], [\"Seeking Justice\"], [\"Battle of the Year\"], [\"That's My Boy\"], [\"Bad Words\"], [\"Dredd\"], [\"Drive Angry\"], [\"The Girl in the Spider's Web\"], [\"Fun Size\"], [\"It's Kind of a Funny Story\"], [\"Downsizing\"], [\"The Way Back\"], [\"Before I Go to Sleep\"], [\"Foxcatcher\"], [\"Dream House\"], [\"Life Itself\"], [\"Denial\"], [\"Mandela: Long Walk to Freedom\"], [\"Scott Pilgrim vs. the World\"], [\"Rock of Ages\"], [\"Mortdecai\"], [\"The Loft\"], [\"People Like Us\"], [\"Judy Moody and the Not Bummer Summer\"], [\"Red Dawn\"], [\"When in Rome\"], [\"Cats\"], [\"What If\"], [\"Alex Cross\"], [\"Certain Women\"], [\"Trumbo\"], [\"Green Room\"], [\"Keeping Up with the Joneses\"], [\"Take Shelter\"], [\"Gold\"], [\"Battle of the Sexes\"], [\"Promised Land\"], [\"Inherent Vice\"], [\"Operation Finale\"], [\"Clouds of Sils Maria\"], [\"Whiskey Tango Foxtrot\"], [\"Shaft\"], [\"Out of the Furnace\"], [\"Motherless Brooklyn\"], [\"Aloha\"], [\"Anomalisa\"], [\"Conan the Barbarian\"], [\"The Joneses\"], [\"Miss Sloane\"], [\"Only the Brave\"], [\"Queen of Katwe\"], [\"The Happytime Murders\"], [\"Detroit\"], [\"Chalet Girl\"], [\"Wanderlust\"], [\"Tusk\"], [\"The Rum Diary\"], [\"Ratchet & Clank\"], [\"A Cure for Wellness\"], [\"Never Let Me Go\"], [\"Getaway\"], [\"The Finest Hours\"], [\"The Signal\"], [\"Hostiles\"], [\"The Lost City of Z\"], [\"Gotti\"], [\"I Spit on Your Grave\"], [\"Wonder Wheel\"], [\"Sabotage\"], [\"Max Steel\"], [\"The Conspirator\"], [\"Stake Land\"], [\"Broken City\"], [\"Big Miracle\"], [\"Tomorrow, When the War Began\"], [\"Joe\"], [\"The Gunman\"], [\"R.I.P.D.\"], [\"A Most Violent Year\"], [\"Roman J. Israel, Esq.\"], [\"Pride and Prejudice and Zombies\"], [\"Serenity\"], [\"Repo Men\"], [\"Centurion\"], [\"31\"], [\"Anthropoid\"], [\"Everything Must Go\"], [\"Your Highness\"], [\"Truth\"], [\"Nothing Left to Fear\"], [\"Walk of Shame\"], [\"The Guest\"], [\"The Company Men\"], [\"Chappaquiddick\"], [\"The Space Between Us\"], [\"Free Fire\"], [\"Vampire Academy\"], [\"A Thousand Words\"], [\"Monster Trucks\"], [\"Winter's Tale\"], [\"Anonymous\"], [\"A Hidden Life\"], [\"Love\"], [\"Suburbicon\"], [\"2 Days in New York\"], [\"Free State of Jones\"], [\"Thank You for Your Service\"], [\"Stolen\"], [\"Extraordinary Measures\"], [\"The Neon Demon\"], [\"This Must Be the Place\"], [\"Laggies\"], [\"Personal Shopper\"], [\"Austenland\"], [\"Jeff, Who Lives at Home\"], [\"Red State\"], [\"The Runaways\"], [\"Stone\"], [\"Jem and the Holograms\"], [\"Everybody Wants Some!!\"], [\"Killer Joe\"], [\"Welcome to the Punch\"], [\"The Book of Henry\"], [\"Tolkien\"], [\"What Maisie Knew\"], [\"The Face of Love\"], [\"Straw Dogs\"], [\"The East\"], [\"Paranoia\"], [\"Wild Target\"], [\"Demolition\"], [\"Attack the Block\"], [\"Robin Hood\"], [\"Under the Skin\"], [\"Black Nativity\"], [\"Higher Ground\"], [\"Unfinished Business\"], [\"Intruders\"], [\"How Do You Know\"], [\"Barney's Version\"], [\"Bullet to the Head\"], [\"Take Me Home Tonight\"], [\"Suspiria\"], [\"The Young Messiah\"], [\"Beauty and the Beast\"], [\"Rock Dog\"], [\"On the Road\"], [\"Afflicted\"], [\"Midnight Special\"], [\"The Immigrant\"], [\"Heist\"], [\"Upside Down\"], [\"Tulip Fever\"], [\"No One Lives\"], [\"Shadow Dancer\"], [\"Captive State\"], [\"Maggie\"], [\"The Beaver\"], [\"Just Getting Started\"], [\"The Sisters Brothers\"], [\"Kin\"], [\"Cosmopolis\"], [\"Disconnect\"], [\"Overdrive\"], [\"The Grand Seduction\"], [\"Cake\"], [\"Welcome to Marwen\"], [\"By the Sea\"], [\"London Boulevard\"], [\"The Oranges\"], [\"Escobar: Paradise Lost\"], [\"Salinger\"], [\"The Fifth Estate\"], [\"The Virginity Hit\"], [\"Collide\"], [\"Coriolanus\"], [\"Restless\"], [\"Replicas\"], [\"Legends of Oz: Dorothy's Return\"], [\"The Perfect Game\"], [\"Atlas Shrugged: Part I\"], [\"Lost River\"], [\"ATM\"], [\"A Hologram for the King\"], [\"Lean on Pete\"], [\"Our Brand Is Crisis\"], [\"The Paperboy\"], [\"Maps to the Stars\"], [\"The Devil's Double\"], [\"Pawn Sacrifice\"], [\"Dylan Dog: Dead of Night\"], [\"The Young and Prodigious T.S. Spivet\"], [\"Stronger\"], [\"Trespass\"], [\"Blackhat\"], [\"'71\"], [\"Infinitely Polar Bear\"], [\"Action Point\"], [\"The Interview\"], [\"Mars Needs Moms\"], [\"Child 44\"], [\"Colonia\"], [\"Ain't Them Bodies Saints\"], [\"Howl\"], [\"Under the Silver Lake\"], [\"Repentance\"], [\"High Life\"], [\"The Homesman\"], [\"Jonah Hex\"], [\"The House That Jack Built\"], [\"99 Homes\"], [\"The Iceman\"], [\"Rock the Kasbah\"], [\"Man of Tai Chi\"], [\"Freeheld\"], [\"Live by Night\"], [\"The Apparition\"], [\"The Rover\"], [\"Rubber\"], [\"The Big Year\"], [\"October Baby\"], [\"A Better Life\"], [\"Gimme Shelter\"], [\"Henry's Crime\"], [\"Song to Song\"], [\"Creature\"], [\"The Bronze\"], [\"Oldboy\"], [\"Chain Letter\"], [\"Super\"], [\"The Zero Theorem\"], [\"Vanishing on 7th Street\"], [\"13 Sins\"], [\"Another Happy Day\"], [\"Deadfall\"], [\"Lovelace\"], [\"Rules Don't Apply\"], [\"Parkland\"], [\"Crooked Arrows\"], [\"W.E.\"], [\"I Saw the Light\"], [\"Equals\"], [\"Rampart\"], [\"Flipped\"], [\"The Ledge\"], [\"Jane Got a Gun\"], [\"Universal Soldier: Day of Reckoning\"], [\"Life of Crime\"], [\"In the Land of Blood and Honey\"], [\"Middle of Nowhere\"], [\"Manglehorn\"], [\"Life After Beth\"], [\"Machine Gun Preacher\"], [\"50 to 1\"], [\"Make Your Move\"], [\"Blood Ties\"], [\"Adore\"], [\"The Double\"], [\"Casino Jack\"], [\"Third Person\"], [\"The Extra Man\"], [\"Byzantium\"], [\"Camp X-Ray\"], [\"Mr. Right\"], [\"Song One\"], [\"The 5th Quarter\"], [\"The Music Never Stopped\"], [\"Hesher\"], [\"Trust\"], [\"Hatchet II\"], [\"London Fields\"], [\"Lay the Favorite\"], [\"Falcon Rising\"], [\"Blackway\"], [\"Bitter Harvest\"], [\"The Romantics\"], [\"Sleeping Beauty\"], [\"Margaret\"], [\"Freakonomics\"], [\"The Other Woman\"], [\"Dirty Girl\"], [\"Aloft\"], [\"The Bad Batch\"], [\"Road to Nowhere\"], [\"Not Fade Away\"], [\"Decoding Annie Parker\"], [\"Pink Ribbons, Inc.\"], [\"Saint John of Las Vegas\"], [\"Frozen\"], [\"Ghostbusters\"], [\"Band Aid\"], [\"Honeymoon\"], [\"All I See Is You\"], [\"Stonewall\"], [\"The Tempest\"], [\"Bilal: A New Breed of Hero\"], [\"Dunkirk\"], [\"Home\"], [\"5 Days of War\"], [\"Term Life\"], [\"Strangerland\"], [\"The Ottoman Lieutenant\"], [\"Every Day\"], [\"Joker\"], [\"The Good Doctor\"], [\"CBGB\"], [\"Inhale\"], [\"Ca$h\"], [\"Meet Monica Velour\"], [\"Beautiful Boy\"], [\"The Adventurer: The Curse of the Midas Box\"], [\"Brave\"], [\"Ben-Hur\"], [\"About Cherry\"], [\"Passion Play\"], [\"A Perfect Man\"], [\"Barefoot\"], [\"The Sacrament\"], [\"Concussion\"], [\"Mi America\"], [\"Area 51\"], [\"The Nun\"], [\"Best Man Down\"], [\"The Samaritan\"], [\"Quartet\"], [\"Godzilla\"], [\"Aftermath\"], [\"Total Recall\"], [\"Moana\"]], \"hovertemplate\": \"Profit=%{y}<br>title=%{customdata[0]}<extra></extra>\", \"legendgroup\": \"\", \"marker\": {\"color\": \"#636efa\", \"symbol\": \"circle\"}, \"name\": \"\", \"notched\": true, \"offsetgroup\": \"\", \"showlegend\": false, \"type\": \"box\", \"xaxis\": \"x2\", \"y\": [618886436, 203378186, 42864410, 565651467, 3503711, 100758490, 17635162, 11214200, 74462037, 98057032, 61882090, 174512032, 250907969, 47854305, 202039844, 250547661, 67632527, 8779150, 34185884, 269454358, 143968835, 86328627, 408999102, 137802657, 79515113, 91830493, 120679266, 316398046, 245485178, 17286781, 295166834, 3117802, 70267874, 306494638, 160739368, 57659584, 98590271, 291515884, 665381748, 323939361, 1851683, 93450062, 1838783, 85894962, 146712077, 851655259, 63760877, 157885588, 219555708, 61336603, 15024987, 3739705, 147930487, 1085398397, 285937718, 45682041, 252665134, 416486224, 13659448, 298752656, 126836156, 724612155, 561967, 30949086, 48425855, 954799409, 235184580, 894766005, 40519588, 102928365, 226999039, 56105672, 2230735, 44137666, 400188866, 6605073, 108587880, 53978653, 19307746, 128312928, 35056892, 800457937, 36923945, 418863600, 56687529, 215412453, 102983889, 51411585, 1520400637, 50736588, 499368315, 49418872, 19528593, 1216511219, 196197492, 872077546, 9656155, 37887595, 124056262, 94438188, 188314186, 630491347, 92952888, 314319861, 155935, 4560438, 136826547, 8197072, 175833312, 31205850, 258144079, 131428180, 17452114, 1300026933, 51615777, 172949437, 12793601, 210956898, 67026216, 167733202, 183035819, 488626372, 619394724, 782244782, 163936074, 72705746, 20019390, 319126022, 40173154, 118432856, 39779195, 102890699, 39446287, 157243185, 255883523, 69988148, 191639112, 151685792, 75978266, 90731865, 559151679, 111636097, 89888019, 36898409, 88129872, 331141306, 7345298, 14527747, 108726688, 82573028, 714868, 121224951, 84070507, 280392818, 1325047671, 70200936, 208532921, 24358103, 103013057, 55464861, 2441800564, 48078146, 68903124, 137563598, 474113985, 272242626, 408060692, 269232797, 36687665, 201252591, 86036827, 111955898, 79244913, 976274794, 41521766, 121552359, 121705322, 95216998, 506764305, 740085151, 232994119, 75100449, 380809770, 55600152, 988461807, 173634991, 309377, 73512300, 33656854, 18401949, 971927996, 67274843, 301266433, 102100758, 17994648, 326545846, 29823764, 618192705, 11796834, 5396033, 709746820, 1298812988, 70497035, 1748359754, 278479141, 436595957, 78042097, 98350426, 873784195, 1146913161, 316985018, 56984887, 624546611, 735011746, 192945087, 214276927, 448583774, 281333876, 166114570, 602205856, 76335025, 54188367, 37387131, 297789811, 80918706, 133970776, 671575993, 522021436, 1396943394, 5181001, 21358716, 26724284, 211171807, 52695489, 78400823, 1042805359, 129468902, 51621140, 36046590, 898394593, 63838111, 71446075, 176952420, 1014811252, 630356711, 308330363, 394093228, 134849455, 174838559, 124228077, 271709727, 394800000, 29401758, 127089026, 3674699, 146586701, 146506819, 4839368, 522161890, 31558601, 142936941, 867693953, 928794079, 80542952, 85215094, 37640143, 447351353, 187978523, 51076141, 184920315, 1152805868, 38898992, 50619773, 35316528, 16004039, 18386555, 91026990, 908561013, 159564672, 672847012, 791550600, 26893421, 8971298, 28657696, 4433926, 26438988, 157967670, 393866518, 350051293, 92118226, 186930771, 866969703, 43329150, 38863365, 129291809, 856057273, 894054072, 29921560, 55572631, 320044706, 21236153, 169101214, 210095986, 187825503, 130772375, 668322032, 350993183, 388800873, 20915966, 41738549, 601921274, 20804448, 828570889, 35209744, 8312540, 104190869, 251296056, 333351546, 33097853, 825467110, 61976666, 227370135, 453749323, 123959590, 163044905, 489016565, 61196538, 20070261, 48273173, 72632641, 80375432, 705166924, 120847207, 501137675, 240228084, 138965010, 278840316, 986005118, 78690254, 628679850, 42939297, 682611174, 19487848, 155179299, 77644617, 76942115, 192786137, 395781117, 279333929, 106402450, 159585328, 189258712, 549713380, 94772232, 105440870, 673977126, 276723989, 136567581, 184989584, 29461274, 102560428, 12876066, 226175335, 57983003, 115332697, 903296293, 632082196, 89984666, 285971656, 267695435, 587600867, 17787526, 602776600, 532714267, 634037575, 56282227, 176349749, 14082592, 105710029, 140450918, 34902237, 62708134, 66251425, 73017294, 172809600, 11111701, 613115104, 515692281, 37782670, 482674139, 5128603, 23734502, 251186032, 133930596, 166972543, 5346808, 452204668, 167776646, 418848418, 831041287, 363990832, 663756051, 55835710, 66013056, 164215889, 131539887, 476537519, 571846894, 114542245, 49191523, 424987477, 52263166, 162902372, 107470746, 11392418, 81209378, 325368238, 129837010, 210293450, 256260290, 273375603, 402965936, 41837234, 578410378, 544421503, 540644566, 79545505, 164485654, 285540831, 117026136, 18863452, 110374099, 125478348, 512718395, 140400345, 498344137, 41123210, 512463813, 46548707, 67514453, 767003568, 261118277, 392799505, 9128575, 22474280, 37945860, 60547866, 105795793, 180797623, 389311965, 32980821, 89942387, 492827828, 163791811, 29712000, 74357138, 397950503, 14735344, 306902662, 44389433, 368214993, 94041322, 5871522, 292000694, 49316289, 231950384, 726536918, 303579038, 360004754, 114802912, 71262212, 128185859, 708366855, 706019788, 47667874, 84281051, 559056935, 474783140, 274717445, 543559607, 244897606, 148427584, 29811919, 35065672, 175159255, 214804195, 120184237, 106661977, 158340595, 170666219, 52216294, 129769457, 376170825, 72654149, 635674609, 74105878, 115078586, 508982323, 111760117, 380243742, 542930663, 111160045, 15150265, 30128352, 32681062, 55229695, 259000072, 37501541, 62305549, 75011053, 40032889, 124804407, 623634919, 137330738, 69594140, 332989645, 56799880, 564861794, 59188165, 66282604, 295484914, 294828246, 76228221, 51526996, 194470394, 68188903, 141006387, 72820008, 145754447, 121464676, 96333522, 144594016, 132361754, 203885818, 9624522, 59918541, 23856058, 191430189, 47876281, 42738797, 82867984, 248641895, 110887643, 88352517, 46787908, 46899242, 81980662, 407890172, 70014025, 92820716, 58080890, 11593554, 212654182, 242545360, 80694863, 87427681, 137183546, 454855901, 11373843, 284231607, 340719763, 13561904, 22613173, 146780824, 111502194, 221669741, 48829270, 1314090, 54781695, 87994610, 80679066, 87233108, 147863606, 108662963, 214975955, 25879877, 86069509, 85729635, 32052899, 423933331, 2114953, 143817906, 84605297, 25270721, 147124280, 80102725, 273354469, 210650585, 73007109, 166984278, 79094902, 137277636, 381652812, 61970827, 227580051, 20658387, 128400157, 365934105, 34229361, 40673972, 354323962, 151904017, 329878759, 21935319, 299326618, 99878437, 19820616, 496045700, 443045518, 49188937, 74343513, 62539426, 23485056, 96965787, 12623767, 57937815, 145021259, 120953723, 180650803, 46181428, 80810399, 19253166, 47629670, 190745055, 245740705, 71906372, 41647656, 9444502, 78885527, 243993951, 234200044, 306222889, 236204635, 46009334, 285603537, 69588225, 54872444, 241515621, 54790678, 359852396, 388425157, 71711453, 50130625, 156874809, 178780441, 221864462, 97263880, 4418591, 21213241, 399026776, 114379533, 193144152, 35030051, 665713802, 279048914, 87328301, 34806823, 14816139, 100260952, 6898293, 60437994, 20726956, 49844582, 189268508, 51244605, 102146076, 340007876, 186482446, 15270399, 84866593, 14371096, 134945591, 111584879, 219537494, 260686217, 41980456, 50509622, 40414761, 168426634, 183503354, 58320380, 185069199, 9950164, 306730089, 17369129, 76126687, 230569774, 39543328, 24661919, 49293444, 122744377, 31023780, 40663276, 30830607, 29120948, 113388953, 111613180, 41918658, 48418811, 59560591, 2409596, 60337295, 58932565, 10361137, 50686066, 108856751, 20384127, 65645357, 43416730, 3090608, 26202283, 123510197, 69501299, 77669379, 86044638, 22930465, 24492652, 7666449, 30507267, 53215156, 57224595, 224736354, 45055070, 25426912, 171140700, 147233113, 29779728, 96459297, 18539126, 143891763, 191885765, 11722766, 21869414, 277365246, 27664414, 13088533, 52528280, 57984015, 144819862, 28987096, 70682635, 123076205, 57470701, 179868961, 100270201, 49920539, 12833967, 57138686, 106714959, 21233517, 91491279, 70081841, 50157237, 124657577, 131497209, 166168572, 1661020, 5515914, 234852543, 26158254, 27347283, 224681935, 573313, 230062763, 47347656, 47087155, 64462508, 18126386, 28050886, 44068246, 226592829, 39935600, 75563930, 26432579, 23681746, 46093313, 143890701, 127908210, 15682872, 13064015, 26089287, 51720255, 38731669, 23325328, 51627228, 17972096, 25636368, 231002906, 332461732, 76515867, 25491656, 216600138, 82792047, 75503748, 22656399, 37448651, 31012642, 186365676, 144930436, 184933831, 3067103, 85641650, 109850315, 6084630, 5835126, 8691096, 78695338, 26449416, 192616690, 60206216, 82572634, 23967255, 208930656, 357924295, 47189756, 46752352, 32795985, 70940411, 40837743, 37055695, 46234523, 34626786, 28918723, 98018522, 17226382, 10370020, 48260376, 56956330, 29404159, 169713881, 33782078, 146144750, 5606667, 89852759, 161941670, 125382724, 33414135, 44384002, 25517427, 5536956, 71853506, 30834384, 27395996, 53811889, 98133322, 147570682, 7618727, 21496320, 42491068, 32675095, 192541256, 183284621, 3977812, 27120346, 77930623, 15519436, 16390945, 122688965, 25401502, 5090641, 151970083, 55387072, 23152800, 15138754, 49783556, 19782683, 176700357, 29284015, 8279212, 77107755, 11468586, 23782670, 140930148, 23333932, 64748021, 27814445, 115697856, 32450815, 47203196, 2306423, 92306508, 4588282, 128175631, 41165646, 10939027, 17192775, 36130093, 27076286, 25260230, 130698039, 897363, 107817248, 31308758, 70673788, 53231078, 35320680, 46775678, 113611982, 21710283, 19087017, 34597643, 27636523, 30100369, 158471816, 5122090, 25611001, 28944815, 37966152, 101600160, 16606743, 24819301, 41490353, 26409247, 72542134, 18140972, 110724603, 12293743, 110623848, 4037058, 33984700, 24169363, 72360636, 48255770, 28735752, 27832209, 15354990, 47139399, 14705333, 64075565, 57274484, 129457024, 10637800, 53081555, 45200903, 5429471, 60073390, 26181942, 14718173, 42541806, 7287309, 327256, 109239658, 25321861, 13686500, 11339669, 17972994, 28743485, 71616764, 8596567, 11405896, 70458922, 15676317, 3493728, 27647013, 13766787, 34419388, 47471580, 19902953, 41134059, 169952, 6810562, 67805466, 33761844, 3377987, 19453605, 19871429, 132207671, 13814102, 2094643, 19562710, 22824674, 12948113, 1935501, 19263404, 95527149, 536088, 56936910, 34519773, 69246868, 124977, 2504366, 17236543, 35492844, 67238796, 30383113, 27381712, 21824533, 12054369, 35396573, 23458440, 4027222, 14280992, 142924807, 419750, 7753365, 59801921, 13483455, 4294931, 31497778, 13269529, 7409028, 25279888, 33571250, 5707575, 10426096, 12989684, 11934009, 4627519, 16939757, 35697415, 11513760, 20040976, 12609668, 11626958, 5768012, 6058381, 13363927, 16380201, 5496820, 13763247, 39961872, 12662632, 6766271, 23450437, 53961069, 94025485, 18845711, 2208231, 19365859, 3957265, 65283742, 2081432, 49989338, 5637201, 21561644, 32045109, 42337240, 76119292, 34520023, 7312387, 801508, 47882881, 9942188, 55243411, 15668698, 582980, 11564670, 15247881, 5546518, 55366737, 5529194, 3676590, 11002607, 12756590, 1080073, 19679822, 7187375, 7093592, 2609659, 7811857, 13873809, 6174885, 11922566, 15331447, 5045576, 2702246, 11522137, 27483764, 10059111, 3082071, 7410151, 23159963, 6152835, 18309505, 5975621, 29675864, 28482868, 962034, 16419755, 48674228, 28718711, 16249438, 16073488, 17855739, 25648512, 35469516, 12788218, 8155261, 7303993, 5722632, 5807156, 29196259, 4261569, 7142379, 417165, 8147945, 19178613, 2401617, 19559110, 4824199, 4674699, 11801179, 17831631, 4397654, 3798915, 1681781, 14414200, 7185751, 3177948, 4441873, 3699345, 15544024, 1128263, 6996304, 34139100, 6722693, 5636031, 1843274, 2275812, 4907260, 3448971, 2227514, 11790373, 9907746, 362498, 809407, 19035668, 4309313, 19851172, 2917353, 3657844, 7792502, 4190704, 4622814, 15770160, 958440, 1322067, 609187, 835752, 20185, 3070915, 10680864, 1137046, 11822325, 1863726, 7887720, 218973, 374932, 1288132, 459330, 170776, 214806, 3039258, 44989, 140925, 383580, 1471301, 601244, 5502115, 830951, 2687603, 1126522, 42014, 107313, 77441, 267862, 52138, 15764, 0, -275, -278034, -737626, -1254458, -157301, -878755, -1533030, -1919211, -5117451, -467741, -6079242, -918349, -2642784, -1691385, -677105, -2482752, -1920732, -2562119, -445584, -49725, -3494713, -3042518, -5333865, -546366, -3916401, -1395445, -1686419, -224867, -3741940, -2427711, -675501, -1044602, -8720548, -7634502, -23216161, -8915478, -3499187, -21611680, -5772702, -26324934, -1826318, -1883184, -3136417, -3988890, -2910472, -3450523, -12280907, -1695663, -8962258, -9090091, -7835080, -2582638, -1508760, -12996110, -5827799, -4330224, -4793487, -10015600, -2002226, -2005473, -7014212, -12335441, -15581387, -12724305, -2983557, -3441069, -4308360, -14049704, -11946624, -21263856, -2473712, -10381133, -473302, -3569975, -1230786, -10081255, -1258902, -5119061, -6401393, -3960969, -5289025, -6387901, -1871599, -10027861, -8639785, -6339332, -7522264, -10749980, -2340714, -26476717, -2968271, -3898454, -11648678, -4632839, -12493548, -10644900, -2531350, -11187184, -917926, -14865042, -6614263, -13379998, -5095205, -6193568, -27900910, -1404378, -19330983, -10736062, -3587651, -721350, -9110876, -12873158, -3727597, -9376817, -244620, -21262801, -15280785, -10466405, -1568557, -15822863, -51675780, -7992930, -8974140, -11542506, -10545378, -13590109, -5109568, -649581, -3920781, -2179510, -21886267, -4216903, -1324619, -6877010, -2299949, -6913000, -15736530, -13919525, -3280617, -14357654, -19196158, -60506085, -29199769, -14604913, -4385781, -1466126, -12248333, -3941887, -24964050, -10004308, -17584582, -15865707, -3622570, -13071091, -2620846, -3159592, -2586491, -5295243, -2125540, -5318349, -11699584, -2666316, -5355528, -5366332, -4573614, -5403295, -10909960, -3288621, -2193452, -13831288, -3608188, -19499356, -4505846, -5633540, -8144509, -113510969, -7564037, -10045815, -1156630, -20568747, -7651951, -71331093, -17895235, -33052791, -11449927, -12057907, -11169662, -97232171, -36842354, -15382623, -196821, -11259353, -10047116, -5605683, -37812187, -15795451, -1851296, -4046181, -16191389, -2605948, -13705200, -14365978, -24856944, -19686981, -13470905, -6571952, -18559751, -8407483, -4639719, -25938509, -6665073, -16692773, -4683029, -11447504, -1349325, -18941436, -1363294, -14682465, -5264675, -5481988, -20669925, -48244582, -8621007, -10372625, -1384500, -2078248, -20830493, -5556416, -19472342, -8716135, -10489066, -13371787, -13421481, -14217485, -23505211, -21496342, -25882034, -50347943, -7937822, -4875322, -13896337, -32217375, -110766322, -37048907, -10378954, -2968757, -3721610, -6446531, -3805039, -6800367, -12180579, -36096688, -7531038, -6171768, -15447030, -11605826, -19535115, -5525529, -85321445, -13437207, -9739993, -398271, -32820584, -800558, -8136494, -6137982, -9830201, -8221979, -2466765, -2884184, -24813233, -4144815, -2077382, -7071638, -8328804, -4173087, -3340063, -10053746, -8414417, -21114658, -8587819, -11167459, -12957797, -11232037, -13915372, -10456387, -12244788, -8752812, -21932469, -10097693, -10543325, -8796301, -1763194, -3540364, -2125283, -26661310, -8935546, -13416313, -22933565, -14424251, -15337485, -11290291, -25375239, -6350374, -9171716, -920376, -7392405, -5591082, -5591841, -3741777, -6550298, -8904198, -2343810, -7512580, -24773313, -4232524, -7573509, -19095601, -4308981, -9591320, -13435136, -2882322, -38548657, -3856515, -7729029, -5798110, -4838381, -19363601, -1939952, -873392, -3688269, -146156226, -140419657, -9751630, -975657, -29321850, -13207331, -19594139, -29423195, -98304881, -132813284, -19683056, -16256207, -9888893, -39586156, -4853971, -54509709, -5948983, -4959600, -9919888, -6953512, -4966958, -24859877, -24871529, -184138370, -99577378, -2491685, -7974397, -4985853, -5984929, -3990779, -34921043, -2096670, -4992444, -21967341, -1498062, -11984780, -10987958, -159849809, -10496549, -124981919, -149997007], \"yaxis\": \"y2\"}],\n",
       "                        {\"height\": 700, \"legend\": {\"tracegroupgap\": 0}, \"template\": {\"data\": {\"bar\": [{\"error_x\": {\"color\": \"#2a3f5f\"}, \"error_y\": {\"color\": \"#2a3f5f\"}, \"marker\": {\"line\": {\"color\": \"#E5ECF6\", \"width\": 0.5}}, \"type\": \"bar\"}], \"barpolar\": [{\"marker\": {\"line\": {\"color\": \"#E5ECF6\", \"width\": 0.5}}, \"type\": \"barpolar\"}], \"carpet\": [{\"aaxis\": {\"endlinecolor\": \"#2a3f5f\", \"gridcolor\": \"white\", \"linecolor\": \"white\", \"minorgridcolor\": \"white\", \"startlinecolor\": \"#2a3f5f\"}, \"baxis\": {\"endlinecolor\": \"#2a3f5f\", \"gridcolor\": \"white\", \"linecolor\": \"white\", \"minorgridcolor\": \"white\", \"startlinecolor\": \"#2a3f5f\"}, \"type\": \"carpet\"}], \"choropleth\": [{\"colorbar\": {\"outlinewidth\": 0, \"ticks\": \"\"}, \"type\": \"choropleth\"}], \"contour\": [{\"colorbar\": {\"outlinewidth\": 0, \"ticks\": \"\"}, \"colorscale\": [[0.0, \"#0d0887\"], [0.1111111111111111, \"#46039f\"], [0.2222222222222222, \"#7201a8\"], [0.3333333333333333, \"#9c179e\"], [0.4444444444444444, \"#bd3786\"], [0.5555555555555556, \"#d8576b\"], [0.6666666666666666, \"#ed7953\"], [0.7777777777777778, \"#fb9f3a\"], [0.8888888888888888, \"#fdca26\"], [1.0, \"#f0f921\"]], \"type\": \"contour\"}], \"contourcarpet\": [{\"colorbar\": {\"outlinewidth\": 0, \"ticks\": \"\"}, \"type\": \"contourcarpet\"}], \"heatmap\": [{\"colorbar\": {\"outlinewidth\": 0, \"ticks\": \"\"}, \"colorscale\": [[0.0, \"#0d0887\"], [0.1111111111111111, \"#46039f\"], [0.2222222222222222, \"#7201a8\"], [0.3333333333333333, \"#9c179e\"], [0.4444444444444444, \"#bd3786\"], [0.5555555555555556, \"#d8576b\"], [0.6666666666666666, \"#ed7953\"], [0.7777777777777778, \"#fb9f3a\"], [0.8888888888888888, \"#fdca26\"], [1.0, \"#f0f921\"]], \"type\": \"heatmap\"}], \"heatmapgl\": [{\"colorbar\": {\"outlinewidth\": 0, \"ticks\": \"\"}, \"colorscale\": [[0.0, \"#0d0887\"], [0.1111111111111111, \"#46039f\"], [0.2222222222222222, \"#7201a8\"], [0.3333333333333333, \"#9c179e\"], [0.4444444444444444, \"#bd3786\"], [0.5555555555555556, \"#d8576b\"], [0.6666666666666666, \"#ed7953\"], [0.7777777777777778, \"#fb9f3a\"], [0.8888888888888888, \"#fdca26\"], [1.0, \"#f0f921\"]], \"type\": \"heatmapgl\"}], \"histogram\": [{\"marker\": {\"colorbar\": {\"outlinewidth\": 0, \"ticks\": \"\"}}, \"type\": \"histogram\"}], \"histogram2d\": [{\"colorbar\": {\"outlinewidth\": 0, \"ticks\": \"\"}, \"colorscale\": [[0.0, \"#0d0887\"], [0.1111111111111111, \"#46039f\"], [0.2222222222222222, \"#7201a8\"], [0.3333333333333333, \"#9c179e\"], [0.4444444444444444, \"#bd3786\"], [0.5555555555555556, \"#d8576b\"], [0.6666666666666666, \"#ed7953\"], [0.7777777777777778, \"#fb9f3a\"], [0.8888888888888888, \"#fdca26\"], [1.0, \"#f0f921\"]], \"type\": \"histogram2d\"}], \"histogram2dcontour\": [{\"colorbar\": {\"outlinewidth\": 0, \"ticks\": \"\"}, \"colorscale\": [[0.0, \"#0d0887\"], [0.1111111111111111, \"#46039f\"], [0.2222222222222222, \"#7201a8\"], [0.3333333333333333, \"#9c179e\"], [0.4444444444444444, \"#bd3786\"], [0.5555555555555556, \"#d8576b\"], [0.6666666666666666, \"#ed7953\"], [0.7777777777777778, \"#fb9f3a\"], [0.8888888888888888, \"#fdca26\"], [1.0, \"#f0f921\"]], \"type\": \"histogram2dcontour\"}], \"mesh3d\": [{\"colorbar\": {\"outlinewidth\": 0, \"ticks\": \"\"}, \"type\": \"mesh3d\"}], \"parcoords\": [{\"line\": {\"colorbar\": {\"outlinewidth\": 0, \"ticks\": \"\"}}, \"type\": \"parcoords\"}], \"pie\": [{\"automargin\": true, \"type\": \"pie\"}], \"scatter\": [{\"marker\": {\"colorbar\": {\"outlinewidth\": 0, \"ticks\": \"\"}}, \"type\": \"scatter\"}], \"scatter3d\": [{\"line\": {\"colorbar\": {\"outlinewidth\": 0, \"ticks\": \"\"}}, \"marker\": {\"colorbar\": {\"outlinewidth\": 0, \"ticks\": \"\"}}, \"type\": \"scatter3d\"}], \"scattercarpet\": [{\"marker\": {\"colorbar\": {\"outlinewidth\": 0, \"ticks\": \"\"}}, \"type\": \"scattercarpet\"}], \"scattergeo\": [{\"marker\": {\"colorbar\": {\"outlinewidth\": 0, \"ticks\": \"\"}}, \"type\": \"scattergeo\"}], \"scattergl\": [{\"marker\": {\"colorbar\": {\"outlinewidth\": 0, \"ticks\": \"\"}}, \"type\": \"scattergl\"}], \"scattermapbox\": [{\"marker\": {\"colorbar\": {\"outlinewidth\": 0, \"ticks\": \"\"}}, \"type\": \"scattermapbox\"}], \"scatterpolar\": [{\"marker\": {\"colorbar\": {\"outlinewidth\": 0, \"ticks\": \"\"}}, \"type\": \"scatterpolar\"}], \"scatterpolargl\": [{\"marker\": {\"colorbar\": {\"outlinewidth\": 0, \"ticks\": \"\"}}, \"type\": \"scatterpolargl\"}], \"scatterternary\": [{\"marker\": {\"colorbar\": {\"outlinewidth\": 0, \"ticks\": \"\"}}, \"type\": \"scatterternary\"}], \"surface\": [{\"colorbar\": {\"outlinewidth\": 0, \"ticks\": \"\"}, \"colorscale\": [[0.0, \"#0d0887\"], [0.1111111111111111, \"#46039f\"], [0.2222222222222222, \"#7201a8\"], [0.3333333333333333, \"#9c179e\"], [0.4444444444444444, \"#bd3786\"], [0.5555555555555556, \"#d8576b\"], [0.6666666666666666, \"#ed7953\"], [0.7777777777777778, \"#fb9f3a\"], [0.8888888888888888, \"#fdca26\"], [1.0, \"#f0f921\"]], \"type\": \"surface\"}], \"table\": [{\"cells\": {\"fill\": {\"color\": \"#EBF0F8\"}, \"line\": {\"color\": \"white\"}}, \"header\": {\"fill\": {\"color\": \"#C8D4E3\"}, \"line\": {\"color\": \"white\"}}, \"type\": \"table\"}]}, \"layout\": {\"annotationdefaults\": {\"arrowcolor\": \"#2a3f5f\", \"arrowhead\": 0, \"arrowwidth\": 1}, \"coloraxis\": {\"colorbar\": {\"outlinewidth\": 0, \"ticks\": \"\"}}, \"colorscale\": {\"diverging\": [[0, \"#8e0152\"], [0.1, \"#c51b7d\"], [0.2, \"#de77ae\"], [0.3, \"#f1b6da\"], [0.4, \"#fde0ef\"], [0.5, \"#f7f7f7\"], [0.6, \"#e6f5d0\"], [0.7, \"#b8e186\"], [0.8, \"#7fbc41\"], [0.9, \"#4d9221\"], [1, \"#276419\"]], \"sequential\": [[0.0, \"#0d0887\"], [0.1111111111111111, \"#46039f\"], [0.2222222222222222, \"#7201a8\"], [0.3333333333333333, \"#9c179e\"], [0.4444444444444444, \"#bd3786\"], [0.5555555555555556, \"#d8576b\"], [0.6666666666666666, \"#ed7953\"], [0.7777777777777778, \"#fb9f3a\"], [0.8888888888888888, \"#fdca26\"], [1.0, \"#f0f921\"]], \"sequentialminus\": [[0.0, \"#0d0887\"], [0.1111111111111111, \"#46039f\"], [0.2222222222222222, \"#7201a8\"], [0.3333333333333333, \"#9c179e\"], [0.4444444444444444, \"#bd3786\"], [0.5555555555555556, \"#d8576b\"], [0.6666666666666666, \"#ed7953\"], [0.7777777777777778, \"#fb9f3a\"], [0.8888888888888888, \"#fdca26\"], [1.0, \"#f0f921\"]]}, \"colorway\": [\"#636efa\", \"#EF553B\", \"#00cc96\", \"#ab63fa\", \"#FFA15A\", \"#19d3f3\", \"#FF6692\", \"#B6E880\", \"#FF97FF\", \"#FECB52\"], \"font\": {\"color\": \"#2a3f5f\"}, \"geo\": {\"bgcolor\": \"white\", \"lakecolor\": \"white\", \"landcolor\": \"#E5ECF6\", \"showlakes\": true, \"showland\": true, \"subunitcolor\": \"white\"}, \"hoverlabel\": {\"align\": \"left\"}, \"hovermode\": \"closest\", \"mapbox\": {\"style\": \"light\"}, \"paper_bgcolor\": \"white\", \"plot_bgcolor\": \"#E5ECF6\", \"polar\": {\"angularaxis\": {\"gridcolor\": \"white\", \"linecolor\": \"white\", \"ticks\": \"\"}, \"bgcolor\": \"#E5ECF6\", \"radialaxis\": {\"gridcolor\": \"white\", \"linecolor\": \"white\", \"ticks\": \"\"}}, \"scene\": {\"xaxis\": {\"backgroundcolor\": \"#E5ECF6\", \"gridcolor\": \"white\", \"gridwidth\": 2, \"linecolor\": \"white\", \"showbackground\": true, \"ticks\": \"\", \"zerolinecolor\": \"white\"}, \"yaxis\": {\"backgroundcolor\": \"#E5ECF6\", \"gridcolor\": \"white\", \"gridwidth\": 2, \"linecolor\": \"white\", \"showbackground\": true, \"ticks\": \"\", \"zerolinecolor\": \"white\"}, \"zaxis\": {\"backgroundcolor\": \"#E5ECF6\", \"gridcolor\": \"white\", \"gridwidth\": 2, \"linecolor\": \"white\", \"showbackground\": true, \"ticks\": \"\", \"zerolinecolor\": \"white\"}}, \"shapedefaults\": {\"line\": {\"color\": \"#2a3f5f\"}}, \"ternary\": {\"aaxis\": {\"gridcolor\": \"white\", \"linecolor\": \"white\", \"ticks\": \"\"}, \"baxis\": {\"gridcolor\": \"white\", \"linecolor\": \"white\", \"ticks\": \"\"}, \"bgcolor\": \"#E5ECF6\", \"caxis\": {\"gridcolor\": \"white\", \"linecolor\": \"white\", \"ticks\": \"\"}}, \"title\": {\"x\": 0.05}, \"xaxis\": {\"automargin\": true, \"gridcolor\": \"white\", \"linecolor\": \"white\", \"ticks\": \"\", \"title\": {\"standoff\": 15}, \"zerolinecolor\": \"white\", \"zerolinewidth\": 2}, \"yaxis\": {\"automargin\": true, \"gridcolor\": \"white\", \"linecolor\": \"white\", \"ticks\": \"\", \"title\": {\"standoff\": 15}, \"zerolinecolor\": \"white\", \"zerolinewidth\": 2}}}, \"title\": {\"text\": \"Budget vs Profit Distribution with Profit and Budget Boxplots\"}, \"width\": 1000, \"xaxis\": {\"anchor\": \"y\", \"domain\": [0.0, 0.8358], \"title\": {\"text\": \"budget\"}}, \"xaxis2\": {\"anchor\": \"y2\", \"domain\": [0.8408, 1.0], \"matches\": \"x2\", \"showgrid\": false, \"showline\": false, \"showticklabels\": false, \"ticks\": \"\"}, \"xaxis3\": {\"anchor\": \"y3\", \"domain\": [0.0, 0.8358], \"matches\": \"x\", \"showgrid\": true, \"showticklabels\": false}, \"xaxis4\": {\"anchor\": \"y4\", \"domain\": [0.8408, 1.0], \"matches\": \"x2\", \"showgrid\": false, \"showline\": false, \"showticklabels\": false, \"ticks\": \"\"}, \"yaxis\": {\"anchor\": \"x\", \"domain\": [0.0, 0.8316], \"title\": {\"text\": \"Profit\"}}, \"yaxis2\": {\"anchor\": \"x2\", \"domain\": [0.0, 0.8316], \"matches\": \"y\", \"showgrid\": true, \"showticklabels\": false}, \"yaxis3\": {\"anchor\": \"x3\", \"domain\": [0.8416, 1.0], \"matches\": \"y3\", \"showgrid\": false, \"showline\": false, \"showticklabels\": false, \"ticks\": \"\"}, \"yaxis4\": {\"anchor\": \"x4\", \"domain\": [0.8416, 1.0], \"matches\": \"y3\", \"showgrid\": true, \"showline\": false, \"showticklabels\": false, \"ticks\": \"\"}},\n",
       "                        {\"responsive\": true}\n",
       "                    ).then(function(){\n",
       "                            \n",
       "var gd = document.getElementById('ddea3b6f-21b7-4276-a2bb-fe3f209e7d8a');\n",
       "var x = new MutationObserver(function (mutations, observer) {{\n",
       "        var display = window.getComputedStyle(gd).display;\n",
       "        if (!display || display === 'none') {{\n",
       "            console.log([gd, 'removed!']);\n",
       "            Plotly.purge(gd);\n",
       "            observer.disconnect();\n",
       "        }}\n",
       "}});\n",
       "\n",
       "// Listen for the removal of the full notebook cells\n",
       "var notebookContainer = gd.closest('#notebook-container');\n",
       "if (notebookContainer) {{\n",
       "    x.observe(notebookContainer, {childList: true});\n",
       "}}\n",
       "\n",
       "// Listen for the clearing of the current output cell\n",
       "var outputEl = gd.closest('.output');\n",
       "if (outputEl) {{\n",
       "    x.observe(outputEl, {childList: true});\n",
       "}}\n",
       "\n",
       "                        })\n",
       "                };\n",
       "                });\n",
       "            </script>\n",
       "        </div>"
      ]
     },
     "metadata": {},
     "output_type": "display_data"
    },
    {
     "data": {
      "image/png": "[encoded data removed]",
      "text/plain": [
       "<Figure size 720x432 with 1 Axes>"
      ]
     },
     "metadata": {},
     "output_type": "display_data"
    },
    {
     "data": {
      "text/plain": [
       "<Figure size 576x396 with 0 Axes>"
      ]
     },
     "metadata": {},
     "output_type": "display_data"
    }
   ],
   "source": [
    "## Create boxplot/scatterplot in plotly express\n",
    "fig = make_subplots(rows=2, cols=1)\n",
    "\n",
    "fig = px.scatter(x='budget', y='Profit', data_frame=top_100,\n",
    "                 title=\"Budget vs Profit Distribution with Profit and Budget Boxplots\", \n",
    "                 hover_data=['title'], marginal_x='box', marginal_y='box',\n",
    "                 width=1000, height=700)\n",
    "fig.show()\n",
    "\n",
    "## Create and manage regplot with Seaborn\n",
    "plt.figure(figsize=(10, 6))\n",
    "\n",
    "plt.ticklabel_format(axis='both', style='plain')\n",
    "plt.title('Budget vs. Profit \\n Regression Plot with Confidence Intervals', fontsize=13)\n",
    "ax = sns.regplot(x='budget', y='Profit', data=top_100, fit_reg=True, x_bins=10, x_ci='ci')\n",
    "\n",
    "fmt = '${x:,.0f}'\n",
    "tick = mtick.StrMethodFormatter(fmt)\n",
    "ax.xaxis.set_major_formatter(tick)\n",
    "ax.yaxis.set_major_formatter(tick)\n",
    "plt.xticks(rotation=90)\n",
    "\n",
    "plt.style.use('seaborn')\n",
    "plt.show()\n",
    "plt.savefig('regplot.png')\n"
   ]
  },
  {
   "cell_type": "code",
   "execution_count": 30,
   "metadata": {
    "ExecuteTime": {
     "end_time": "2020-08-01T18:30:57.572441Z",
     "start_time": "2020-08-01T18:30:57.566436Z"
    }
   },
   "outputs": [
    {
     "name": "stdout",
     "output_type": "stream",
     "text": [
      " Mean: 47927170.1 \n",
      " Lower Quartile : 10000000.0 \n",
      " Median:  27000000.0 \n",
      " Upper Quartile:  60000000.0\n"
     ]
    }
   ],
   "source": [
    "## Creates numerical quantiles and mean to print\n",
    "quant_50 = top_100['budget'].quantile()\n",
    "quant_25 = top_100['budget'].quantile(.25)\n",
    "quant_75 = top_100['budget'].quantile(.75)\n",
    "mean = top_100['budget'].mean()\n",
    "\n",
    "\n",
    "print(' Mean:', round(mean, 2),'\\n','Lower Quartile :', quant_25, '\\n', 'Median: ', quant_50, \n",
    "      '\\n', 'Upper Quartile: ', quant_75)"
   ]
  },
  {
   "cell_type": "markdown",
   "metadata": {},
   "source": [
    "Now that a visualization has been established to make sense of the data it is time to look into the relationship of the data.\n",
    "\n",
    "This can be seen as a linear relationship between the budget and the profit. It can be confidentally assumed that, even given  films with negative profits, a profit can be turned if a sufficient budget is provided."
   ]
  },
  {
   "cell_type": "markdown",
   "metadata": {},
   "source": [
    "## Most Profitable MPAA Rating"
   ]
  },
  {
   "cell_type": "markdown",
   "metadata": {},
   "source": [
    "### A Background on Ratings"
   ]
  },
  {
   "cell_type": "markdown",
   "metadata": {},
   "source": [
    "Ratings systems are put in place to provide guidance to individuals on the content of film. There are several categories that represent the different contents and advisories from the MPAA. The ratings are as follows:\n",
    "\n",
    "<img src=\"mpaaratings.png\" alt=\"MPAA Ratings\">\n",
    "\n",
    "[Image Source](https://en.wikipedia.org/wiki/Motion_Picture_Association_film_rating_system)\n",
    "\n",
    "**Note:** Films can also be unrated if they have yet to be rated or refuse rating. "
   ]
  },
  {
   "cell_type": "markdown",
   "metadata": {},
   "source": [
    "### An Examination of Profitability of Various Ratings"
   ]
  },
  {
   "cell_type": "markdown",
   "metadata": {},
   "source": [
    "It can be useful to look at the distribution of budgets vs. profit of a relevant sample of the data. With this in mind, we can look back at a previous graphic with some updated information. "
   ]
  },
  {
   "cell_type": "code",
   "execution_count": 31,
   "metadata": {
    "ExecuteTime": {
     "end_time": "2020-08-01T18:30:57.645508Z",
     "start_time": "2020-08-01T18:30:57.641505Z"
    }
   },
   "outputs": [],
   "source": [
    "## Extract the top 100 films sorted by profit\n",
    "top100 = top_100.sort_values(by='Profit', ascending=False)\n",
    "top100 = top100.head(100) "
   ]
  },
  {
   "cell_type": "code",
   "execution_count": 32,
   "metadata": {
    "ExecuteTime": {
     "end_time": "2020-08-01T18:30:57.771622Z",
     "start_time": "2020-08-01T18:30:57.720576Z"
    }
   },
   "outputs": [
    {
     "data": {
      "application/vnd.plotly.v1+json": {
       "config": {
        "plotlyServerURL": "https://plot.ly"
       },
       "data": [
        {
         "customdata": [
          [
           "Avengers: Endgame",
           87.3
          ],
          [
           "Avengers: Infinity War",
           85.39999999999999
          ],
          [
           "Jurassic World",
           91
          ],
          [
           "Furious 7",
           87.5
          ],
          [
           "The Avengers",
           85.5
          ],
          [
           "Harry Potter and the Deathly Hallows: Part 2",
           90.7
          ],
          [
           "Avengers: Age of Ultron",
           82.19999999999999
          ],
          [
           "Black Panther",
           85.2
          ],
          [
           "Iron Man 3",
           83.5
          ],
          [
           "Aquaman",
           86.1
          ],
          [
           "The Fate of the Furious",
           79.80000000000001
          ],
          [
           "Captain Marvel",
           86.5
          ],
          [
           "Spider-Man: Far from Home",
           85.9
          ],
          [
           "Transformers: Dark of the Moon",
           82.6
          ],
          [
           "Skyfall",
           82
          ],
          [
           "Captain America: Civil War",
           78.3
          ],
          [
           "Transformers: Age of Extinction",
           81
          ],
          [
           "Jumanji: Welcome to the Jungle",
           90.60000000000001
          ],
          [
           "Rogue One: A Star Wars Story",
           81.10000000000001
          ],
          [
           "Bohemian Rhapsody",
           94.19999999999999
          ],
          [
           "The Dark Knight Rises",
           76.9
          ],
          [
           "The Hobbit: An Unexpected Journey",
           75.4
          ],
          [
           "Venom",
           86.4
          ],
          [
           "The Hunger Games: Catching Fire",
           85
          ],
          [
           "Harry Potter and the Deathly Hallows: Part 1",
           74.4
          ],
          [
           "The Twilight Saga: Breaking Dawn - Part 2",
           85.5
          ],
          [
           "The Hobbit: The Desolation of Smaug",
           73.9
          ],
          [
           "The Hobbit: The Battle of the Five Armies",
           73.8
          ],
          [
           "Spider-Man: Homecoming",
           80.10000000000001
          ],
          [
           "Thor: Ragnarok",
           78.9
          ],
          [
           "Wonder Woman",
           81.89999999999999
          ],
          [
           "Jumanji: The Next Level",
           84.3
          ],
          [
           "Inception",
           80.7
          ],
          [
           "Pirates of the Caribbean: On Stranger Tides",
           63.7
          ],
          [
           "Guardians of the Galaxy Vol. 2",
           76.8
          ],
          [
           "Spectre",
           72.2
          ],
          [
           "Fantastic Beasts and Where to Find Them",
           77.9
          ],
          [
           "The Twilight Saga: Eclipse",
           90.3
          ],
          [
           "The Hunger Games: Mockingjay - Part 1",
           83.5
          ],
          [
           "Fast & Furious 6",
           79.7
          ],
          [
           "Deadpool 2",
           85
          ],
          [
           "Batman v Superman: Dawn of Justice",
           71.39999999999999
          ],
          [
           "The Hunger Games",
           89.2
          ],
          [
           "Gravity",
           85.5
          ],
          [
           "Mission: Impossible - Fallout",
           77.5
          ],
          [
           "Guardians of the Galaxy",
           78
          ],
          [
           "The Twilight Saga: Breaking Dawn - Part 1",
           84.6
          ],
          [
           "Suicide Squad",
           76.6
          ],
          [
           "Pirates of the Caribbean: Dead Men Tell No Tales",
           71.1
          ],
          [
           "Fast & Furious Presents: Hobbs & Shaw",
           73.7
          ],
          [
           "Mission: Impossible - Ghost Protocol",
           79.10000000000001
          ],
          [
           "Captain America: The Winter Soldier",
           76.2
          ],
          [
           "The Amazing Spider-Man",
           71.6
          ],
          [
           "Dawn of the Planet of the Apes",
           76.1
          ],
          [
           "Mission: Impossible - Rogue Nation",
           78
          ],
          [
           "The Martian",
           82.89999999999999
          ],
          [
           "Doctor Strange",
           75.7
          ],
          [
           "Interstellar",
           75.6
          ],
          [
           "The Amazing Spider-Man 2",
           71.8
          ],
          [
           "Fast Five",
           80
          ],
          [
           "The Hunger Games: Mockingjay - Part 2",
           75.7
          ],
          [
           "X-Men: Days of Future Past",
           66.5
          ],
          [
           "Ant-Man and the Wasp",
           77.5
          ],
          [
           "Thor: The Dark World",
           73.6
          ],
          [
           "Fantastic Beasts: The Crimes of Grindelwald",
           69.5
          ]
         ],
         "hovertemplate": "rating=PG-13<br>budget=%{x}<br>Profit=%{y}<br>title=%{customdata[0]}<br>ROI=%{customdata[1]}<extra></extra>",
         "legendgroup": "PG-13",
         "marker": {
          "color": "#636efa",
          "symbol": "circle"
         },
         "mode": "markers",
         "name": "PG-13",
         "orientation": "v",
         "showlegend": true,
         "type": "scatter",
         "x": [
          356000000,
          300000000,
          150000000,
          190000000,
          220000000,
          125000000,
          250000000,
          200000000,
          200000000,
          160000000,
          250000000,
          152000000,
          160000000,
          195000000,
          200000000,
          250000000,
          210000000,
          90000000,
          200000000,
          52000000,
          250000000,
          250000000,
          116000000,
          130000000,
          250000000,
          120000000,
          250000000,
          250000000,
          175000000,
          180000000,
          149000000,
          125000000,
          160000000,
          380000000,
          200000000,
          245000000,
          180000000,
          68000000,
          125000000,
          160000000,
          110000000,
          250000000,
          75000000,
          105000000,
          178000000,
          170000000,
          110000000,
          175000000,
          230000000,
          200000000,
          145000000,
          170000000,
          215000000,
          170000000,
          150000000,
          108000000,
          165000000,
          165000000,
          200000000,
          125000000,
          160000000,
          250000000,
          140000000,
          170000000,
          200000000
         ],
         "xaxis": "x",
         "y": [
          2441800564,
          1748359754,
          1520400637,
          1325047671,
          1298812988,
          1216511219,
          1152805868,
          1146913161,
          1014811252,
          988461807,
          986005118,
          976274794,
          971927996,
          928794079,
          908561013,
          903296293,
          894054072,
          872077546,
          856057273,
          851655259,
          831041287,
          767003568,
          740085151,
          735011746,
          726536918,
          709746820,
          708366855,
          706019788,
          705166924,
          673977126,
          672847012,
          671575993,
          668322032,
          665713802,
          663756051,
          635674609,
          634037575,
          630491347,
          630356711,
          628679850,
          624546611,
          623634919,
          619394724,
          618192705,
          613115104,
          602776600,
          602205856,
          571846894,
          564861794,
          559056935,
          549713380,
          544421503,
          542930663,
          540644566,
          532714267,
          522161890,
          512718395,
          512463813,
          508982323,
          501137675,
          498344137,
          496045700,
          482674139,
          474783140,
          454855901
         ],
         "yaxis": "y"
        },
        {
         "customdata": [
          [
           "The Lion King",
           84.3
          ],
          [
           "Frozen II",
           89.7
          ],
          [
           "Minions",
           93.60000000000001
          ],
          [
           "Incredibles 2",
           83.89999999999999
          ],
          [
           "Despicable Me 3",
           92.30000000000001
          ],
          [
           "Despicable Me 2",
           92.2
          ],
          [
           "Zootopia",
           85.3
          ],
          [
           "Aladdin",
           82.6
          ],
          [
           "Finding Dory",
           80.60000000000001
          ],
          [
           "Alice in Wonderland",
           80.5
          ],
          [
           "The Secret Life of Pets",
           91.4
          ],
          [
           "The Jungle Book",
           81.89999999999999
          ],
          [
           "Ice Age: Continental Drift",
           89.2
          ],
          [
           "Inside Out",
           79.60000000000001
          ],
          [
           "Coco",
           78.3
          ],
          [
           "Madagascar 3: Europe's Most Wanted",
           80.60000000000001
          ],
          [
           "Shrek Forever After",
           78.10000000000001
          ],
          [
           "Maleficent",
           76.3
          ],
          [
           "Sing",
           88.2
          ],
          [
           "Kung Fu Panda 2",
           77.5
          ],
          [
           "Big Hero 6",
           74.9
          ],
          [
           "Life of Pi",
           80.30000000000001
          ],
          [
           "How to Train Your Dragon 2",
           76.7
          ],
          [
           "Despicable Me",
           87.3
          ]
         ],
         "hovertemplate": "rating=PG<br>budget=%{x}<br>Profit=%{y}<br>title=%{customdata[0]}<br>ROI=%{customdata[1]}<extra></extra>",
         "legendgroup": "PG",
         "marker": {
          "color": "#EF553B",
          "symbol": "circle"
         },
         "mode": "markers",
         "name": "PG",
         "orientation": "v",
         "showlegend": true,
         "type": "scatter",
         "x": [
          260000000,
          150000000,
          74000000,
          200000000,
          80000000,
          76000000,
          150000000,
          183000000,
          200000000,
          200000000,
          75000000,
          175000000,
          95000000,
          175000000,
          175000000,
          145000000,
          165000000,
          180000000,
          75000000,
          150000000,
          165000000,
          120000000,
          145000000,
          69000000
         ],
         "xaxis": "x",
         "y": [
          1396943394,
          1300026933,
          1085398397,
          1042805359,
          954799409,
          894766005,
          873784195,
          867693953,
          828570889,
          825467110,
          800457937,
          791550600,
          782244782,
          682611174,
          632082196,
          601921274,
          587600867,
          578410378,
          559151679,
          515692281,
          492827828,
          489016565,
          476537519,
          474113985
         ],
         "yaxis": "y"
        },
        {
         "customdata": [
          [
           "Toy Story 4",
           83.7
          ],
          [
           "Toy Story 3",
           81.3
          ],
          [
           "Logan",
           100
          ],
          [
           "Monsters University",
           73.1
          ]
         ],
         "hovertemplate": "rating=G<br>budget=%{x}<br>Profit=%{y}<br>title=%{customdata[0]}<br>ROI=%{customdata[1]}<extra></extra>",
         "legendgroup": "G",
         "marker": {
          "color": "#00cc96",
          "symbol": "circle"
         },
         "mode": "markers",
         "name": "G",
         "orientation": "v",
         "showlegend": true,
         "type": "scatter",
         "x": [
          175000000,
          200000000,
          135000,
          200000000
         ],
         "xaxis": "x",
         "y": [
          898394593,
          866969703,
          618886436,
          543559607
         ],
         "yaxis": "y"
        },
        {
         "customdata": [
          [
           "Deadpool",
           92.60000000000001
          ],
          [
           "It",
           95
          ],
          [
           "Fifty Shades of Grey",
           99.3
          ],
          [
           "Logan",
           84.3
          ],
          [
           "The Hangover Part II",
           86.4
          ],
          [
           "Ted",
           90.9
          ],
          [
           "American Sniper",
           89.3
          ]
         ],
         "hovertemplate": "rating=R<br>budget=%{x}<br>Profit=%{y}<br>title=%{customdata[0]}<br>ROI=%{customdata[1]}<extra></extra>",
         "legendgroup": "R",
         "marker": {
          "color": "#ab63fa",
          "symbol": "circle"
         },
         "mode": "markers",
         "name": "R",
         "orientation": "v",
         "showlegend": true,
         "type": "scatter",
         "x": [
          58000000,
          35000000,
          4000000,
          97000000,
          80000000,
          50000000,
          58800000
         ],
         "xaxis": "x",
         "y": [
          724612155,
          665381748,
          565651467,
          522021436,
          506764305,
          499368315,
          488626372
         ],
         "yaxis": "y"
        }
       ],
       "layout": {
        "legend": {
         "title": {
          "text": "rating"
         },
         "tracegroupgap": 0
        },
        "template": {
         "data": {
          "bar": [
           {
            "error_x": {
             "color": "#2a3f5f"
            },
            "error_y": {
             "color": "#2a3f5f"
            },
            "marker": {
             "line": {
              "color": "#E5ECF6",
              "width": 0.5
             }
            },
            "type": "bar"
           }
          ],
          "barpolar": [
           {
            "marker": {
             "line": {
              "color": "#E5ECF6",
              "width": 0.5
             }
            },
            "type": "barpolar"
           }
          ],
          "carpet": [
           {
            "aaxis": {
             "endlinecolor": "#2a3f5f",
             "gridcolor": "white",
             "linecolor": "white",
             "minorgridcolor": "white",
             "startlinecolor": "#2a3f5f"
            },
            "baxis": {
             "endlinecolor": "#2a3f5f",
             "gridcolor": "white",
             "linecolor": "white",
             "minorgridcolor": "white",
             "startlinecolor": "#2a3f5f"
            },
            "type": "carpet"
           }
          ],
          "choropleth": [
           {
            "colorbar": {
             "outlinewidth": 0,
             "ticks": ""
            },
            "type": "choropleth"
           }
          ],
          "contour": [
           {
            "colorbar": {
             "outlinewidth": 0,
             "ticks": ""
            },
            "colorscale": [
             [
              0,
              "#0d0887"
             ],
             [
              0.1111111111111111,
              "#46039f"
             ],
             [
              0.2222222222222222,
              "#7201a8"
             ],
             [
              0.3333333333333333,
              "#9c179e"
             ],
             [
              0.4444444444444444,
              "#bd3786"
             ],
             [
              0.5555555555555556,
              "#d8576b"
             ],
             [
              0.6666666666666666,
              "#ed7953"
             ],
             [
              0.7777777777777778,
              "#fb9f3a"
             ],
             [
              0.8888888888888888,
              "#fdca26"
             ],
             [
              1,
              "#f0f921"
             ]
            ],
            "type": "contour"
           }
          ],
          "contourcarpet": [
           {
            "colorbar": {
             "outlinewidth": 0,
             "ticks": ""
            },
            "type": "contourcarpet"
           }
          ],
          "heatmap": [
           {
            "colorbar": {
             "outlinewidth": 0,
             "ticks": ""
            },
            "colorscale": [
             [
              0,
              "#0d0887"
             ],
             [
              0.1111111111111111,
              "#46039f"
             ],
             [
              0.2222222222222222,
              "#7201a8"
             ],
             [
              0.3333333333333333,
              "#9c179e"
             ],
             [
              0.4444444444444444,
              "#bd3786"
             ],
             [
              0.5555555555555556,
              "#d8576b"
             ],
             [
              0.6666666666666666,
              "#ed7953"
             ],
             [
              0.7777777777777778,
              "#fb9f3a"
             ],
             [
              0.8888888888888888,
              "#fdca26"
             ],
             [
              1,
              "#f0f921"
             ]
            ],
            "type": "heatmap"
           }
          ],
          "heatmapgl": [
           {
            "colorbar": {
             "outlinewidth": 0,
             "ticks": ""
            },
            "colorscale": [
             [
              0,
              "#0d0887"
             ],
             [
              0.1111111111111111,
              "#46039f"
             ],
             [
              0.2222222222222222,
              "#7201a8"
             ],
             [
              0.3333333333333333,
              "#9c179e"
             ],
             [
              0.4444444444444444,
              "#bd3786"
             ],
             [
              0.5555555555555556,
              "#d8576b"
             ],
             [
              0.6666666666666666,
              "#ed7953"
             ],
             [
              0.7777777777777778,
              "#fb9f3a"
             ],
             [
              0.8888888888888888,
              "#fdca26"
             ],
             [
              1,
              "#f0f921"
             ]
            ],
            "type": "heatmapgl"
           }
          ],
          "histogram": [
           {
            "marker": {
             "colorbar": {
              "outlinewidth": 0,
              "ticks": ""
             }
            },
            "type": "histogram"
           }
          ],
          "histogram2d": [
           {
            "colorbar": {
             "outlinewidth": 0,
             "ticks": ""
            },
            "colorscale": [
             [
              0,
              "#0d0887"
             ],
             [
              0.1111111111111111,
              "#46039f"
             ],
             [
              0.2222222222222222,
              "#7201a8"
             ],
             [
              0.3333333333333333,
              "#9c179e"
             ],
             [
              0.4444444444444444,
              "#bd3786"
             ],
             [
              0.5555555555555556,
              "#d8576b"
             ],
             [
              0.6666666666666666,
              "#ed7953"
             ],
             [
              0.7777777777777778,
              "#fb9f3a"
             ],
             [
              0.8888888888888888,
              "#fdca26"
             ],
             [
              1,
              "#f0f921"
             ]
            ],
            "type": "histogram2d"
           }
          ],
          "histogram2dcontour": [
           {
            "colorbar": {
             "outlinewidth": 0,
             "ticks": ""
            },
            "colorscale": [
             [
              0,
              "#0d0887"
             ],
             [
              0.1111111111111111,
              "#46039f"
             ],
             [
              0.2222222222222222,
              "#7201a8"
             ],
             [
              0.3333333333333333,
              "#9c179e"
             ],
             [
              0.4444444444444444,
              "#bd3786"
             ],
             [
              0.5555555555555556,
              "#d8576b"
             ],
             [
              0.6666666666666666,
              "#ed7953"
             ],
             [
              0.7777777777777778,
              "#fb9f3a"
             ],
             [
              0.8888888888888888,
              "#fdca26"
             ],
             [
              1,
              "#f0f921"
             ]
            ],
            "type": "histogram2dcontour"
           }
          ],
          "mesh3d": [
           {
            "colorbar": {
             "outlinewidth": 0,
             "ticks": ""
            },
            "type": "mesh3d"
           }
          ],
          "parcoords": [
           {
            "line": {
             "colorbar": {
              "outlinewidth": 0,
              "ticks": ""
             }
            },
            "type": "parcoords"
           }
          ],
          "pie": [
           {
            "automargin": true,
            "type": "pie"
           }
          ],
          "scatter": [
           {
            "marker": {
             "colorbar": {
              "outlinewidth": 0,
              "ticks": ""
             }
            },
            "type": "scatter"
           }
          ],
          "scatter3d": [
           {
            "line": {
             "colorbar": {
              "outlinewidth": 0,
              "ticks": ""
             }
            },
            "marker": {
             "colorbar": {
              "outlinewidth": 0,
              "ticks": ""
             }
            },
            "type": "scatter3d"
           }
          ],
          "scattercarpet": [
           {
            "marker": {
             "colorbar": {
              "outlinewidth": 0,
              "ticks": ""
             }
            },
            "type": "scattercarpet"
           }
          ],
          "scattergeo": [
           {
            "marker": {
             "colorbar": {
              "outlinewidth": 0,
              "ticks": ""
             }
            },
            "type": "scattergeo"
           }
          ],
          "scattergl": [
           {
            "marker": {
             "colorbar": {
              "outlinewidth": 0,
              "ticks": ""
             }
            },
            "type": "scattergl"
           }
          ],
          "scattermapbox": [
           {
            "marker": {
             "colorbar": {
              "outlinewidth": 0,
              "ticks": ""
             }
            },
            "type": "scattermapbox"
           }
          ],
          "scatterpolar": [
           {
            "marker": {
             "colorbar": {
              "outlinewidth": 0,
              "ticks": ""
             }
            },
            "type": "scatterpolar"
           }
          ],
          "scatterpolargl": [
           {
            "marker": {
             "colorbar": {
              "outlinewidth": 0,
              "ticks": ""
             }
            },
            "type": "scatterpolargl"
           }
          ],
          "scatterternary": [
           {
            "marker": {
             "colorbar": {
              "outlinewidth": 0,
              "ticks": ""
             }
            },
            "type": "scatterternary"
           }
          ],
          "surface": [
           {
            "colorbar": {
             "outlinewidth": 0,
             "ticks": ""
            },
            "colorscale": [
             [
              0,
              "#0d0887"
             ],
             [
              0.1111111111111111,
              "#46039f"
             ],
             [
              0.2222222222222222,
              "#7201a8"
             ],
             [
              0.3333333333333333,
              "#9c179e"
             ],
             [
              0.4444444444444444,
              "#bd3786"
             ],
             [
              0.5555555555555556,
              "#d8576b"
             ],
             [
              0.6666666666666666,
              "#ed7953"
             ],
             [
              0.7777777777777778,
              "#fb9f3a"
             ],
             [
              0.8888888888888888,
              "#fdca26"
             ],
             [
              1,
              "#f0f921"
             ]
            ],
            "type": "surface"
           }
          ],
          "table": [
           {
            "cells": {
             "fill": {
              "color": "#EBF0F8"
             },
             "line": {
              "color": "white"
             }
            },
            "header": {
             "fill": {
              "color": "#C8D4E3"
             },
             "line": {
              "color": "white"
             }
            },
            "type": "table"
           }
          ]
         },
         "layout": {
          "annotationdefaults": {
           "arrowcolor": "#2a3f5f",
           "arrowhead": 0,
           "arrowwidth": 1
          },
          "coloraxis": {
           "colorbar": {
            "outlinewidth": 0,
            "ticks": ""
           }
          },
          "colorscale": {
           "diverging": [
            [
             0,
             "#8e0152"
            ],
            [
             0.1,
             "#c51b7d"
            ],
            [
             0.2,
             "#de77ae"
            ],
            [
             0.3,
             "#f1b6da"
            ],
            [
             0.4,
             "#fde0ef"
            ],
            [
             0.5,
             "#f7f7f7"
            ],
            [
             0.6,
             "#e6f5d0"
            ],
            [
             0.7,
             "#b8e186"
            ],
            [
             0.8,
             "#7fbc41"
            ],
            [
             0.9,
             "#4d9221"
            ],
            [
             1,
             "#276419"
            ]
           ],
           "sequential": [
            [
             0,
             "#0d0887"
            ],
            [
             0.1111111111111111,
             "#46039f"
            ],
            [
             0.2222222222222222,
             "#7201a8"
            ],
            [
             0.3333333333333333,
             "#9c179e"
            ],
            [
             0.4444444444444444,
             "#bd3786"
            ],
            [
             0.5555555555555556,
             "#d8576b"
            ],
            [
             0.6666666666666666,
             "#ed7953"
            ],
            [
             0.7777777777777778,
             "#fb9f3a"
            ],
            [
             0.8888888888888888,
             "#fdca26"
            ],
            [
             1,
             "#f0f921"
            ]
           ],
           "sequentialminus": [
            [
             0,
             "#0d0887"
            ],
            [
             0.1111111111111111,
             "#46039f"
            ],
            [
             0.2222222222222222,
             "#7201a8"
            ],
            [
             0.3333333333333333,
             "#9c179e"
            ],
            [
             0.4444444444444444,
             "#bd3786"
            ],
            [
             0.5555555555555556,
             "#d8576b"
            ],
            [
             0.6666666666666666,
             "#ed7953"
            ],
            [
             0.7777777777777778,
             "#fb9f3a"
            ],
            [
             0.8888888888888888,
             "#fdca26"
            ],
            [
             1,
             "#f0f921"
            ]
           ]
          },
          "colorway": [
           "#636efa",
           "#EF553B",
           "#00cc96",
           "#ab63fa",
           "#FFA15A",
           "#19d3f3",
           "#FF6692",
           "#B6E880",
           "#FF97FF",
           "#FECB52"
          ],
          "font": {
           "color": "#2a3f5f"
          },
          "geo": {
           "bgcolor": "white",
           "lakecolor": "white",
           "landcolor": "#E5ECF6",
           "showlakes": true,
           "showland": true,
           "subunitcolor": "white"
          },
          "hoverlabel": {
           "align": "left"
          },
          "hovermode": "closest",
          "mapbox": {
           "style": "light"
          },
          "paper_bgcolor": "white",
          "plot_bgcolor": "#E5ECF6",
          "polar": {
           "angularaxis": {
            "gridcolor": "white",
            "linecolor": "white",
            "ticks": ""
           },
           "bgcolor": "#E5ECF6",
           "radialaxis": {
            "gridcolor": "white",
            "linecolor": "white",
            "ticks": ""
           }
          },
          "scene": {
           "xaxis": {
            "backgroundcolor": "#E5ECF6",
            "gridcolor": "white",
            "gridwidth": 2,
            "linecolor": "white",
            "showbackground": true,
            "ticks": "",
            "zerolinecolor": "white"
           },
           "yaxis": {
            "backgroundcolor": "#E5ECF6",
            "gridcolor": "white",
            "gridwidth": 2,
            "linecolor": "white",
            "showbackground": true,
            "ticks": "",
            "zerolinecolor": "white"
           },
           "zaxis": {
            "backgroundcolor": "#E5ECF6",
            "gridcolor": "white",
            "gridwidth": 2,
            "linecolor": "white",
            "showbackground": true,
            "ticks": "",
            "zerolinecolor": "white"
           }
          },
          "shapedefaults": {
           "line": {
            "color": "#2a3f5f"
           }
          },
          "ternary": {
           "aaxis": {
            "gridcolor": "white",
            "linecolor": "white",
            "ticks": ""
           },
           "baxis": {
            "gridcolor": "white",
            "linecolor": "white",
            "ticks": ""
           },
           "bgcolor": "#E5ECF6",
           "caxis": {
            "gridcolor": "white",
            "linecolor": "white",
            "ticks": ""
           }
          },
          "title": {
           "x": 0.05
          },
          "xaxis": {
           "automargin": true,
           "gridcolor": "white",
           "linecolor": "white",
           "ticks": "",
           "title": {
            "standoff": 15
           },
           "zerolinecolor": "white",
           "zerolinewidth": 2
          },
          "yaxis": {
           "automargin": true,
           "gridcolor": "white",
           "linecolor": "white",
           "ticks": "",
           "title": {
            "standoff": 15
           },
           "zerolinecolor": "white",
           "zerolinewidth": 2
          }
         }
        },
        "title": {
         "text": "Budget Distribution with Color by Rating"
        },
        "xaxis": {
         "anchor": "y",
         "domain": [
          0,
          1
         ],
         "title": {
          "text": "budget"
         }
        },
        "yaxis": {
         "anchor": "x",
         "domain": [
          0,
          1
         ],
         "title": {
          "text": "Profit"
         }
        }
       }
      },
      "text/html": [
       "<div>\n",
       "        \n",
       "        \n",
       "            <div id=\"4132fdfa-0159-4a73-bd97-341721aebee4\" class=\"plotly-graph-div\" style=\"height:525px; width:100%;\"></div>\n",
       "            <script type=\"text/javascript\">\n",
       "                require([\"plotly\"], function(Plotly) {\n",
       "                    window.PLOTLYENV=window.PLOTLYENV || {};\n",
       "                    \n",
       "                if (document.getElementById(\"4132fdfa-0159-4a73-bd97-341721aebee4\")) {\n",
       "                    Plotly.newPlot(\n",
       "                        '4132fdfa-0159-4a73-bd97-341721aebee4',\n",
       "                        [{\"customdata\": [[\"Avengers: Endgame\", 87.3], [\"Avengers: Infinity War\", 85.39999999999999], [\"Jurassic World\", 91.0], [\"Furious 7\", 87.5], [\"The Avengers\", 85.5], [\"Harry Potter and the Deathly Hallows: Part 2\", 90.7], [\"Avengers: Age of Ultron\", 82.19999999999999], [\"Black Panther\", 85.2], [\"Iron Man 3\", 83.5], [\"Aquaman\", 86.1], [\"The Fate of the Furious\", 79.80000000000001], [\"Captain Marvel\", 86.5], [\"Spider-Man: Far from Home\", 85.9], [\"Transformers: Dark of the Moon\", 82.6], [\"Skyfall\", 82.0], [\"Captain America: Civil War\", 78.3], [\"Transformers: Age of Extinction\", 81.0], [\"Jumanji: Welcome to the Jungle\", 90.60000000000001], [\"Rogue One: A Star Wars Story\", 81.10000000000001], [\"Bohemian Rhapsody\", 94.19999999999999], [\"The Dark Knight Rises\", 76.9], [\"The Hobbit: An Unexpected Journey\", 75.4], [\"Venom\", 86.4], [\"The Hunger Games: Catching Fire\", 85.0], [\"Harry Potter and the Deathly Hallows: Part 1\", 74.4], [\"The Twilight Saga: Breaking Dawn - Part 2\", 85.5], [\"The Hobbit: The Desolation of Smaug\", 73.9], [\"The Hobbit: The Battle of the Five Armies\", 73.8], [\"Spider-Man: Homecoming\", 80.10000000000001], [\"Thor: Ragnarok\", 78.9], [\"Wonder Woman\", 81.89999999999999], [\"Jumanji: The Next Level\", 84.3], [\"Inception\", 80.7], [\"Pirates of the Caribbean: On Stranger Tides\", 63.7], [\"Guardians of the Galaxy Vol. 2\", 76.8], [\"Spectre\", 72.2], [\"Fantastic Beasts and Where to Find Them\", 77.9], [\"The Twilight Saga: Eclipse\", 90.3], [\"The Hunger Games: Mockingjay - Part 1\", 83.5], [\"Fast & Furious 6\", 79.7], [\"Deadpool 2\", 85.0], [\"Batman v Superman: Dawn of Justice\", 71.39999999999999], [\"The Hunger Games\", 89.2], [\"Gravity\", 85.5], [\"Mission: Impossible - Fallout\", 77.5], [\"Guardians of the Galaxy\", 78.0], [\"The Twilight Saga: Breaking Dawn - Part 1\", 84.6], [\"Suicide Squad\", 76.6], [\"Pirates of the Caribbean: Dead Men Tell No Tales\", 71.1], [\"Fast & Furious Presents: Hobbs & Shaw\", 73.7], [\"Mission: Impossible - Ghost Protocol\", 79.10000000000001], [\"Captain America: The Winter Soldier\", 76.2], [\"The Amazing Spider-Man\", 71.6], [\"Dawn of the Planet of the Apes\", 76.1], [\"Mission: Impossible - Rogue Nation\", 78.0], [\"The Martian\", 82.89999999999999], [\"Doctor Strange\", 75.7], [\"Interstellar\", 75.6], [\"The Amazing Spider-Man 2\", 71.8], [\"Fast Five\", 80.0], [\"The Hunger Games: Mockingjay - Part 2\", 75.7], [\"X-Men: Days of Future Past\", 66.5], [\"Ant-Man and the Wasp\", 77.5], [\"Thor: The Dark World\", 73.6], [\"Fantastic Beasts: The Crimes of Grindelwald\", 69.5]], \"hovertemplate\": \"rating=PG-13<br>budget=%{x}<br>Profit=%{y}<br>title=%{customdata[0]}<br>ROI=%{customdata[1]}<extra></extra>\", \"legendgroup\": \"PG-13\", \"marker\": {\"color\": \"#636efa\", \"symbol\": \"circle\"}, \"mode\": \"markers\", \"name\": \"PG-13\", \"orientation\": \"v\", \"showlegend\": true, \"type\": \"scatter\", \"x\": [356000000, 300000000, 150000000, 190000000, 220000000, 125000000, 250000000, 200000000, 200000000, 160000000, 250000000, 152000000, 160000000, 195000000, 200000000, 250000000, 210000000, 90000000, 200000000, 52000000, 250000000, 250000000, 116000000, 130000000, 250000000, 120000000, 250000000, 250000000, 175000000, 180000000, 149000000, 125000000, 160000000, 380000000, 200000000, 245000000, 180000000, 68000000, 125000000, 160000000, 110000000, 250000000, 75000000, 105000000, 178000000, 170000000, 110000000, 175000000, 230000000, 200000000, 145000000, 170000000, 215000000, 170000000, 150000000, 108000000, 165000000, 165000000, 200000000, 125000000, 160000000, 250000000, 140000000, 170000000, 200000000], \"xaxis\": \"x\", \"y\": [2441800564, 1748359754, 1520400637, 1325047671, 1298812988, 1216511219, 1152805868, 1146913161, 1014811252, 988461807, 986005118, 976274794, 971927996, 928794079, 908561013, 903296293, 894054072, 872077546, 856057273, 851655259, 831041287, 767003568, 740085151, 735011746, 726536918, 709746820, 708366855, 706019788, 705166924, 673977126, 672847012, 671575993, 668322032, 665713802, 663756051, 635674609, 634037575, 630491347, 630356711, 628679850, 624546611, 623634919, 619394724, 618192705, 613115104, 602776600, 602205856, 571846894, 564861794, 559056935, 549713380, 544421503, 542930663, 540644566, 532714267, 522161890, 512718395, 512463813, 508982323, 501137675, 498344137, 496045700, 482674139, 474783140, 454855901], \"yaxis\": \"y\"}, {\"customdata\": [[\"The Lion King\", 84.3], [\"Frozen II\", 89.7], [\"Minions\", 93.60000000000001], [\"Incredibles 2\", 83.89999999999999], [\"Despicable Me 3\", 92.30000000000001], [\"Despicable Me 2\", 92.2], [\"Zootopia\", 85.3], [\"Aladdin\", 82.6], [\"Finding Dory\", 80.60000000000001], [\"Alice in Wonderland\", 80.5], [\"The Secret Life of Pets\", 91.4], [\"The Jungle Book\", 81.89999999999999], [\"Ice Age: Continental Drift\", 89.2], [\"Inside Out\", 79.60000000000001], [\"Coco\", 78.3], [\"Madagascar 3: Europe's Most Wanted\", 80.60000000000001], [\"Shrek Forever After\", 78.10000000000001], [\"Maleficent\", 76.3], [\"Sing\", 88.2], [\"Kung Fu Panda 2\", 77.5], [\"Big Hero 6\", 74.9], [\"Life of Pi\", 80.30000000000001], [\"How to Train Your Dragon 2\", 76.7], [\"Despicable Me\", 87.3]], \"hovertemplate\": \"rating=PG<br>budget=%{x}<br>Profit=%{y}<br>title=%{customdata[0]}<br>ROI=%{customdata[1]}<extra></extra>\", \"legendgroup\": \"PG\", \"marker\": {\"color\": \"#EF553B\", \"symbol\": \"circle\"}, \"mode\": \"markers\", \"name\": \"PG\", \"orientation\": \"v\", \"showlegend\": true, \"type\": \"scatter\", \"x\": [260000000, 150000000, 74000000, 200000000, 80000000, 76000000, 150000000, 183000000, 200000000, 200000000, 75000000, 175000000, 95000000, 175000000, 175000000, 145000000, 165000000, 180000000, 75000000, 150000000, 165000000, 120000000, 145000000, 69000000], \"xaxis\": \"x\", \"y\": [1396943394, 1300026933, 1085398397, 1042805359, 954799409, 894766005, 873784195, 867693953, 828570889, 825467110, 800457937, 791550600, 782244782, 682611174, 632082196, 601921274, 587600867, 578410378, 559151679, 515692281, 492827828, 489016565, 476537519, 474113985], \"yaxis\": \"y\"}, {\"customdata\": [[\"Toy Story 4\", 83.7], [\"Toy Story 3\", 81.3], [\"Logan\", 100.0], [\"Monsters University\", 73.1]], \"hovertemplate\": \"rating=G<br>budget=%{x}<br>Profit=%{y}<br>title=%{customdata[0]}<br>ROI=%{customdata[1]}<extra></extra>\", \"legendgroup\": \"G\", \"marker\": {\"color\": \"#00cc96\", \"symbol\": \"circle\"}, \"mode\": \"markers\", \"name\": \"G\", \"orientation\": \"v\", \"showlegend\": true, \"type\": \"scatter\", \"x\": [175000000, 200000000, 135000, 200000000], \"xaxis\": \"x\", \"y\": [898394593, 866969703, 618886436, 543559607], \"yaxis\": \"y\"}, {\"customdata\": [[\"Deadpool\", 92.60000000000001], [\"It\", 95.0], [\"Fifty Shades of Grey\", 99.3], [\"Logan\", 84.3], [\"The Hangover Part II\", 86.4], [\"Ted\", 90.9], [\"American Sniper\", 89.3]], \"hovertemplate\": \"rating=R<br>budget=%{x}<br>Profit=%{y}<br>title=%{customdata[0]}<br>ROI=%{customdata[1]}<extra></extra>\", \"legendgroup\": \"R\", \"marker\": {\"color\": \"#ab63fa\", \"symbol\": \"circle\"}, \"mode\": \"markers\", \"name\": \"R\", \"orientation\": \"v\", \"showlegend\": true, \"type\": \"scatter\", \"x\": [58000000, 35000000, 4000000, 97000000, 80000000, 50000000, 58800000], \"xaxis\": \"x\", \"y\": [724612155, 665381748, 565651467, 522021436, 506764305, 499368315, 488626372], \"yaxis\": \"y\"}],\n",
       "                        {\"legend\": {\"title\": {\"text\": \"rating\"}, \"tracegroupgap\": 0}, \"template\": {\"data\": {\"bar\": [{\"error_x\": {\"color\": \"#2a3f5f\"}, \"error_y\": {\"color\": \"#2a3f5f\"}, \"marker\": {\"line\": {\"color\": \"#E5ECF6\", \"width\": 0.5}}, \"type\": \"bar\"}], \"barpolar\": [{\"marker\": {\"line\": {\"color\": \"#E5ECF6\", \"width\": 0.5}}, \"type\": \"barpolar\"}], \"carpet\": [{\"aaxis\": {\"endlinecolor\": \"#2a3f5f\", \"gridcolor\": \"white\", \"linecolor\": \"white\", \"minorgridcolor\": \"white\", \"startlinecolor\": \"#2a3f5f\"}, \"baxis\": {\"endlinecolor\": \"#2a3f5f\", \"gridcolor\": \"white\", \"linecolor\": \"white\", \"minorgridcolor\": \"white\", \"startlinecolor\": \"#2a3f5f\"}, \"type\": \"carpet\"}], \"choropleth\": [{\"colorbar\": {\"outlinewidth\": 0, \"ticks\": \"\"}, \"type\": \"choropleth\"}], \"contour\": [{\"colorbar\": {\"outlinewidth\": 0, \"ticks\": \"\"}, \"colorscale\": [[0.0, \"#0d0887\"], [0.1111111111111111, \"#46039f\"], [0.2222222222222222, \"#7201a8\"], [0.3333333333333333, \"#9c179e\"], [0.4444444444444444, \"#bd3786\"], [0.5555555555555556, \"#d8576b\"], [0.6666666666666666, \"#ed7953\"], [0.7777777777777778, \"#fb9f3a\"], [0.8888888888888888, \"#fdca26\"], [1.0, \"#f0f921\"]], \"type\": \"contour\"}], \"contourcarpet\": [{\"colorbar\": {\"outlinewidth\": 0, \"ticks\": \"\"}, \"type\": \"contourcarpet\"}], \"heatmap\": [{\"colorbar\": {\"outlinewidth\": 0, \"ticks\": \"\"}, \"colorscale\": [[0.0, \"#0d0887\"], [0.1111111111111111, \"#46039f\"], [0.2222222222222222, \"#7201a8\"], [0.3333333333333333, \"#9c179e\"], [0.4444444444444444, \"#bd3786\"], [0.5555555555555556, \"#d8576b\"], [0.6666666666666666, \"#ed7953\"], [0.7777777777777778, \"#fb9f3a\"], [0.8888888888888888, \"#fdca26\"], [1.0, \"#f0f921\"]], \"type\": \"heatmap\"}], \"heatmapgl\": [{\"colorbar\": {\"outlinewidth\": 0, \"ticks\": \"\"}, \"colorscale\": [[0.0, \"#0d0887\"], [0.1111111111111111, \"#46039f\"], [0.2222222222222222, \"#7201a8\"], [0.3333333333333333, \"#9c179e\"], [0.4444444444444444, \"#bd3786\"], [0.5555555555555556, \"#d8576b\"], [0.6666666666666666, \"#ed7953\"], [0.7777777777777778, \"#fb9f3a\"], [0.8888888888888888, \"#fdca26\"], [1.0, \"#f0f921\"]], \"type\": \"heatmapgl\"}], \"histogram\": [{\"marker\": {\"colorbar\": {\"outlinewidth\": 0, \"ticks\": \"\"}}, \"type\": \"histogram\"}], \"histogram2d\": [{\"colorbar\": {\"outlinewidth\": 0, \"ticks\": \"\"}, \"colorscale\": [[0.0, \"#0d0887\"], [0.1111111111111111, \"#46039f\"], [0.2222222222222222, \"#7201a8\"], [0.3333333333333333, \"#9c179e\"], [0.4444444444444444, \"#bd3786\"], [0.5555555555555556, \"#d8576b\"], [0.6666666666666666, \"#ed7953\"], [0.7777777777777778, \"#fb9f3a\"], [0.8888888888888888, \"#fdca26\"], [1.0, \"#f0f921\"]], \"type\": \"histogram2d\"}], \"histogram2dcontour\": [{\"colorbar\": {\"outlinewidth\": 0, \"ticks\": \"\"}, \"colorscale\": [[0.0, \"#0d0887\"], [0.1111111111111111, \"#46039f\"], [0.2222222222222222, \"#7201a8\"], [0.3333333333333333, \"#9c179e\"], [0.4444444444444444, \"#bd3786\"], [0.5555555555555556, \"#d8576b\"], [0.6666666666666666, \"#ed7953\"], [0.7777777777777778, \"#fb9f3a\"], [0.8888888888888888, \"#fdca26\"], [1.0, \"#f0f921\"]], \"type\": \"histogram2dcontour\"}], \"mesh3d\": [{\"colorbar\": {\"outlinewidth\": 0, \"ticks\": \"\"}, \"type\": \"mesh3d\"}], \"parcoords\": [{\"line\": {\"colorbar\": {\"outlinewidth\": 0, \"ticks\": \"\"}}, \"type\": \"parcoords\"}], \"pie\": [{\"automargin\": true, \"type\": \"pie\"}], \"scatter\": [{\"marker\": {\"colorbar\": {\"outlinewidth\": 0, \"ticks\": \"\"}}, \"type\": \"scatter\"}], \"scatter3d\": [{\"line\": {\"colorbar\": {\"outlinewidth\": 0, \"ticks\": \"\"}}, \"marker\": {\"colorbar\": {\"outlinewidth\": 0, \"ticks\": \"\"}}, \"type\": \"scatter3d\"}], \"scattercarpet\": [{\"marker\": {\"colorbar\": {\"outlinewidth\": 0, \"ticks\": \"\"}}, \"type\": \"scattercarpet\"}], \"scattergeo\": [{\"marker\": {\"colorbar\": {\"outlinewidth\": 0, \"ticks\": \"\"}}, \"type\": \"scattergeo\"}], \"scattergl\": [{\"marker\": {\"colorbar\": {\"outlinewidth\": 0, \"ticks\": \"\"}}, \"type\": \"scattergl\"}], \"scattermapbox\": [{\"marker\": {\"colorbar\": {\"outlinewidth\": 0, \"ticks\": \"\"}}, \"type\": \"scattermapbox\"}], \"scatterpolar\": [{\"marker\": {\"colorbar\": {\"outlinewidth\": 0, \"ticks\": \"\"}}, \"type\": \"scatterpolar\"}], \"scatterpolargl\": [{\"marker\": {\"colorbar\": {\"outlinewidth\": 0, \"ticks\": \"\"}}, \"type\": \"scatterpolargl\"}], \"scatterternary\": [{\"marker\": {\"colorbar\": {\"outlinewidth\": 0, \"ticks\": \"\"}}, \"type\": \"scatterternary\"}], \"surface\": [{\"colorbar\": {\"outlinewidth\": 0, \"ticks\": \"\"}, \"colorscale\": [[0.0, \"#0d0887\"], [0.1111111111111111, \"#46039f\"], [0.2222222222222222, \"#7201a8\"], [0.3333333333333333, \"#9c179e\"], [0.4444444444444444, \"#bd3786\"], [0.5555555555555556, \"#d8576b\"], [0.6666666666666666, \"#ed7953\"], [0.7777777777777778, \"#fb9f3a\"], [0.8888888888888888, \"#fdca26\"], [1.0, \"#f0f921\"]], \"type\": \"surface\"}], \"table\": [{\"cells\": {\"fill\": {\"color\": \"#EBF0F8\"}, \"line\": {\"color\": \"white\"}}, \"header\": {\"fill\": {\"color\": \"#C8D4E3\"}, \"line\": {\"color\": \"white\"}}, \"type\": \"table\"}]}, \"layout\": {\"annotationdefaults\": {\"arrowcolor\": \"#2a3f5f\", \"arrowhead\": 0, \"arrowwidth\": 1}, \"coloraxis\": {\"colorbar\": {\"outlinewidth\": 0, \"ticks\": \"\"}}, \"colorscale\": {\"diverging\": [[0, \"#8e0152\"], [0.1, \"#c51b7d\"], [0.2, \"#de77ae\"], [0.3, \"#f1b6da\"], [0.4, \"#fde0ef\"], [0.5, \"#f7f7f7\"], [0.6, \"#e6f5d0\"], [0.7, \"#b8e186\"], [0.8, \"#7fbc41\"], [0.9, \"#4d9221\"], [1, \"#276419\"]], \"sequential\": [[0.0, \"#0d0887\"], [0.1111111111111111, \"#46039f\"], [0.2222222222222222, \"#7201a8\"], [0.3333333333333333, \"#9c179e\"], [0.4444444444444444, \"#bd3786\"], [0.5555555555555556, \"#d8576b\"], [0.6666666666666666, \"#ed7953\"], [0.7777777777777778, \"#fb9f3a\"], [0.8888888888888888, \"#fdca26\"], [1.0, \"#f0f921\"]], \"sequentialminus\": [[0.0, \"#0d0887\"], [0.1111111111111111, \"#46039f\"], [0.2222222222222222, \"#7201a8\"], [0.3333333333333333, \"#9c179e\"], [0.4444444444444444, \"#bd3786\"], [0.5555555555555556, \"#d8576b\"], [0.6666666666666666, \"#ed7953\"], [0.7777777777777778, \"#fb9f3a\"], [0.8888888888888888, \"#fdca26\"], [1.0, \"#f0f921\"]]}, \"colorway\": [\"#636efa\", \"#EF553B\", \"#00cc96\", \"#ab63fa\", \"#FFA15A\", \"#19d3f3\", \"#FF6692\", \"#B6E880\", \"#FF97FF\", \"#FECB52\"], \"font\": {\"color\": \"#2a3f5f\"}, \"geo\": {\"bgcolor\": \"white\", \"lakecolor\": \"white\", \"landcolor\": \"#E5ECF6\", \"showlakes\": true, \"showland\": true, \"subunitcolor\": \"white\"}, \"hoverlabel\": {\"align\": \"left\"}, \"hovermode\": \"closest\", \"mapbox\": {\"style\": \"light\"}, \"paper_bgcolor\": \"white\", \"plot_bgcolor\": \"#E5ECF6\", \"polar\": {\"angularaxis\": {\"gridcolor\": \"white\", \"linecolor\": \"white\", \"ticks\": \"\"}, \"bgcolor\": \"#E5ECF6\", \"radialaxis\": {\"gridcolor\": \"white\", \"linecolor\": \"white\", \"ticks\": \"\"}}, \"scene\": {\"xaxis\": {\"backgroundcolor\": \"#E5ECF6\", \"gridcolor\": \"white\", \"gridwidth\": 2, \"linecolor\": \"white\", \"showbackground\": true, \"ticks\": \"\", \"zerolinecolor\": \"white\"}, \"yaxis\": {\"backgroundcolor\": \"#E5ECF6\", \"gridcolor\": \"white\", \"gridwidth\": 2, \"linecolor\": \"white\", \"showbackground\": true, \"ticks\": \"\", \"zerolinecolor\": \"white\"}, \"zaxis\": {\"backgroundcolor\": \"#E5ECF6\", \"gridcolor\": \"white\", \"gridwidth\": 2, \"linecolor\": \"white\", \"showbackground\": true, \"ticks\": \"\", \"zerolinecolor\": \"white\"}}, \"shapedefaults\": {\"line\": {\"color\": \"#2a3f5f\"}}, \"ternary\": {\"aaxis\": {\"gridcolor\": \"white\", \"linecolor\": \"white\", \"ticks\": \"\"}, \"baxis\": {\"gridcolor\": \"white\", \"linecolor\": \"white\", \"ticks\": \"\"}, \"bgcolor\": \"#E5ECF6\", \"caxis\": {\"gridcolor\": \"white\", \"linecolor\": \"white\", \"ticks\": \"\"}}, \"title\": {\"x\": 0.05}, \"xaxis\": {\"automargin\": true, \"gridcolor\": \"white\", \"linecolor\": \"white\", \"ticks\": \"\", \"title\": {\"standoff\": 15}, \"zerolinecolor\": \"white\", \"zerolinewidth\": 2}, \"yaxis\": {\"automargin\": true, \"gridcolor\": \"white\", \"linecolor\": \"white\", \"ticks\": \"\", \"title\": {\"standoff\": 15}, \"zerolinecolor\": \"white\", \"zerolinewidth\": 2}}}, \"title\": {\"text\": \"Budget Distribution with Color by Rating\"}, \"xaxis\": {\"anchor\": \"y\", \"domain\": [0.0, 1.0], \"title\": {\"text\": \"budget\"}}, \"yaxis\": {\"anchor\": \"x\", \"domain\": [0.0, 1.0], \"title\": {\"text\": \"Profit\"}}},\n",
       "                        {\"responsive\": true}\n",
       "                    ).then(function(){\n",
       "                            \n",
       "var gd = document.getElementById('4132fdfa-0159-4a73-bd97-341721aebee4');\n",
       "var x = new MutationObserver(function (mutations, observer) {{\n",
       "        var display = window.getComputedStyle(gd).display;\n",
       "        if (!display || display === 'none') {{\n",
       "            console.log([gd, 'removed!']);\n",
       "            Plotly.purge(gd);\n",
       "            observer.disconnect();\n",
       "        }}\n",
       "}});\n",
       "\n",
       "// Listen for the removal of the full notebook cells\n",
       "var notebookContainer = gd.closest('#notebook-container');\n",
       "if (notebookContainer) {{\n",
       "    x.observe(notebookContainer, {childList: true});\n",
       "}}\n",
       "\n",
       "// Listen for the clearing of the current output cell\n",
       "var outputEl = gd.closest('.output');\n",
       "if (outputEl) {{\n",
       "    x.observe(outputEl, {childList: true});\n",
       "}}\n",
       "\n",
       "                        })\n",
       "                };\n",
       "                });\n",
       "            </script>\n",
       "        </div>"
      ]
     },
     "metadata": {},
     "output_type": "display_data"
    }
   ],
   "source": [
    "fig = px.scatter(x='budget', y='Profit', data_frame=top100,\n",
    "                 title=\"Budget Distribution with Color by Rating\", color='rating', \n",
    "                hover_data=['title', 'ROI'])\n",
    "fig.show()"
   ]
  },
  {
   "cell_type": "markdown",
   "metadata": {},
   "source": [
    "Looking deeper into the data it is possibly to draw some further insights. We have the Return on Investment of the top 100 films by rating as sorted by highest Profit."
   ]
  },
  {
   "cell_type": "code",
   "execution_count": 80,
   "metadata": {
    "ExecuteTime": {
     "end_time": "2020-08-01T23:54:26.751673Z",
     "start_time": "2020-08-01T23:54:26.703628Z"
    },
    "scrolled": false
   },
   "outputs": [
    {
     "data": {
      "application/vnd.plotly.v1+json": {
       "config": {
        "plotlyServerURL": "https://plot.ly"
       },
       "data": [
        {
         "alignmentgroup": "True",
         "hovertemplate": "color=R<br>Ratings=%{x}<br>Median ROI=%{y}<extra></extra>",
         "legendgroup": "R",
         "marker": {
          "color": "#F8766D"
         },
         "name": "R",
         "offsetgroup": "R",
         "orientation": "v",
         "showlegend": true,
         "textposition": "auto",
         "type": "bar",
         "x": [
          "R"
         ],
         "xaxis": "x",
         "y": [
          90.55
         ],
         "yaxis": "y"
        },
        {
         "alignmentgroup": "True",
         "hovertemplate": "color=PG-13<br>Ratings=%{x}<br>Median ROI=%{y}<extra></extra>",
         "legendgroup": "PG-13",
         "marker": {
          "color": "#A3A500"
         },
         "name": "PG-13",
         "offsetgroup": "PG-13",
         "orientation": "v",
         "showlegend": true,
         "textposition": "auto",
         "type": "bar",
         "x": [
          "PG-13"
         ],
         "xaxis": "x",
         "y": [
          88.8
         ],
         "yaxis": "y"
        },
        {
         "alignmentgroup": "True",
         "hovertemplate": "color=PG<br>Ratings=%{x}<br>Median ROI=%{y}<extra></extra>",
         "legendgroup": "PG",
         "marker": {
          "color": "#00BF7D"
         },
         "name": "PG",
         "offsetgroup": "PG",
         "orientation": "v",
         "showlegend": true,
         "textposition": "auto",
         "type": "bar",
         "x": [
          "PG"
         ],
         "xaxis": "x",
         "y": [
          78.5
         ],
         "yaxis": "y"
        },
        {
         "alignmentgroup": "True",
         "hovertemplate": "color=G<br>Ratings=%{x}<br>Median ROI=%{y}<extra></extra>",
         "legendgroup": "G",
         "marker": {
          "color": "#00B0F6"
         },
         "name": "G",
         "offsetgroup": "G",
         "orientation": "v",
         "showlegend": true,
         "textposition": "auto",
         "type": "bar",
         "x": [
          "G"
         ],
         "xaxis": "x",
         "y": [
          78.1
         ],
         "yaxis": "y"
        }
       ],
       "layout": {
        "barmode": "relative",
        "legend": {
         "title": {
          "text": "color"
         },
         "tracegroupgap": 0
        },
        "margin": {
         "t": 60
        },
        "template": {
         "data": {
          "bar": [
           {
            "error_x": {
             "color": "rgb(51,51,51)"
            },
            "error_y": {
             "color": "rgb(51,51,51)"
            },
            "marker": {
             "line": {
              "color": "rgb(237,237,237)",
              "width": 0.5
             }
            },
            "type": "bar"
           }
          ],
          "barpolar": [
           {
            "marker": {
             "line": {
              "color": "rgb(237,237,237)",
              "width": 0.5
             }
            },
            "type": "barpolar"
           }
          ],
          "carpet": [
           {
            "aaxis": {
             "endlinecolor": "rgb(51,51,51)",
             "gridcolor": "white",
             "linecolor": "white",
             "minorgridcolor": "white",
             "startlinecolor": "rgb(51,51,51)"
            },
            "baxis": {
             "endlinecolor": "rgb(51,51,51)",
             "gridcolor": "white",
             "linecolor": "white",
             "minorgridcolor": "white",
             "startlinecolor": "rgb(51,51,51)"
            },
            "type": "carpet"
           }
          ],
          "choropleth": [
           {
            "colorbar": {
             "outlinewidth": 0,
             "tickcolor": "rgb(237,237,237)",
             "ticklen": 6,
             "ticks": "inside"
            },
            "type": "choropleth"
           }
          ],
          "contour": [
           {
            "colorbar": {
             "outlinewidth": 0,
             "tickcolor": "rgb(237,237,237)",
             "ticklen": 6,
             "ticks": "inside"
            },
            "colorscale": [
             [
              0,
              "rgb(20,44,66)"
             ],
             [
              1,
              "rgb(90,179,244)"
             ]
            ],
            "type": "contour"
           }
          ],
          "contourcarpet": [
           {
            "colorbar": {
             "outlinewidth": 0,
             "tickcolor": "rgb(237,237,237)",
             "ticklen": 6,
             "ticks": "inside"
            },
            "type": "contourcarpet"
           }
          ],
          "heatmap": [
           {
            "colorbar": {
             "outlinewidth": 0,
             "tickcolor": "rgb(237,237,237)",
             "ticklen": 6,
             "ticks": "inside"
            },
            "colorscale": [
             [
              0,
              "rgb(20,44,66)"
             ],
             [
              1,
              "rgb(90,179,244)"
             ]
            ],
            "type": "heatmap"
           }
          ],
          "heatmapgl": [
           {
            "colorbar": {
             "outlinewidth": 0,
             "tickcolor": "rgb(237,237,237)",
             "ticklen": 6,
             "ticks": "inside"
            },
            "colorscale": [
             [
              0,
              "rgb(20,44,66)"
             ],
             [
              1,
              "rgb(90,179,244)"
             ]
            ],
            "type": "heatmapgl"
           }
          ],
          "histogram": [
           {
            "marker": {
             "colorbar": {
              "outlinewidth": 0,
              "tickcolor": "rgb(237,237,237)",
              "ticklen": 6,
              "ticks": "inside"
             }
            },
            "type": "histogram"
           }
          ],
          "histogram2d": [
           {
            "colorbar": {
             "outlinewidth": 0,
             "tickcolor": "rgb(237,237,237)",
             "ticklen": 6,
             "ticks": "inside"
            },
            "colorscale": [
             [
              0,
              "rgb(20,44,66)"
             ],
             [
              1,
              "rgb(90,179,244)"
             ]
            ],
            "type": "histogram2d"
           }
          ],
          "histogram2dcontour": [
           {
            "colorbar": {
             "outlinewidth": 0,
             "tickcolor": "rgb(237,237,237)",
             "ticklen": 6,
             "ticks": "inside"
            },
            "colorscale": [
             [
              0,
              "rgb(20,44,66)"
             ],
             [
              1,
              "rgb(90,179,244)"
             ]
            ],
            "type": "histogram2dcontour"
           }
          ],
          "mesh3d": [
           {
            "colorbar": {
             "outlinewidth": 0,
             "tickcolor": "rgb(237,237,237)",
             "ticklen": 6,
             "ticks": "inside"
            },
            "type": "mesh3d"
           }
          ],
          "parcoords": [
           {
            "line": {
             "colorbar": {
              "outlinewidth": 0,
              "tickcolor": "rgb(237,237,237)",
              "ticklen": 6,
              "ticks": "inside"
             }
            },
            "type": "parcoords"
           }
          ],
          "pie": [
           {
            "automargin": true,
            "type": "pie"
           }
          ],
          "scatter": [
           {
            "marker": {
             "colorbar": {
              "outlinewidth": 0,
              "tickcolor": "rgb(237,237,237)",
              "ticklen": 6,
              "ticks": "inside"
             }
            },
            "type": "scatter"
           }
          ],
          "scatter3d": [
           {
            "line": {
             "colorbar": {
              "outlinewidth": 0,
              "tickcolor": "rgb(237,237,237)",
              "ticklen": 6,
              "ticks": "inside"
             }
            },
            "marker": {
             "colorbar": {
              "outlinewidth": 0,
              "tickcolor": "rgb(237,237,237)",
              "ticklen": 6,
              "ticks": "inside"
             }
            },
            "type": "scatter3d"
           }
          ],
          "scattercarpet": [
           {
            "marker": {
             "colorbar": {
              "outlinewidth": 0,
              "tickcolor": "rgb(237,237,237)",
              "ticklen": 6,
              "ticks": "inside"
             }
            },
            "type": "scattercarpet"
           }
          ],
          "scattergeo": [
           {
            "marker": {
             "colorbar": {
              "outlinewidth": 0,
              "tickcolor": "rgb(237,237,237)",
              "ticklen": 6,
              "ticks": "inside"
             }
            },
            "type": "scattergeo"
           }
          ],
          "scattergl": [
           {
            "marker": {
             "colorbar": {
              "outlinewidth": 0,
              "tickcolor": "rgb(237,237,237)",
              "ticklen": 6,
              "ticks": "inside"
             }
            },
            "type": "scattergl"
           }
          ],
          "scattermapbox": [
           {
            "marker": {
             "colorbar": {
              "outlinewidth": 0,
              "tickcolor": "rgb(237,237,237)",
              "ticklen": 6,
              "ticks": "inside"
             }
            },
            "type": "scattermapbox"
           }
          ],
          "scatterpolar": [
           {
            "marker": {
             "colorbar": {
              "outlinewidth": 0,
              "tickcolor": "rgb(237,237,237)",
              "ticklen": 6,
              "ticks": "inside"
             }
            },
            "type": "scatterpolar"
           }
          ],
          "scatterpolargl": [
           {
            "marker": {
             "colorbar": {
              "outlinewidth": 0,
              "tickcolor": "rgb(237,237,237)",
              "ticklen": 6,
              "ticks": "inside"
             }
            },
            "type": "scatterpolargl"
           }
          ],
          "scatterternary": [
           {
            "marker": {
             "colorbar": {
              "outlinewidth": 0,
              "tickcolor": "rgb(237,237,237)",
              "ticklen": 6,
              "ticks": "inside"
             }
            },
            "type": "scatterternary"
           }
          ],
          "surface": [
           {
            "colorbar": {
             "outlinewidth": 0,
             "tickcolor": "rgb(237,237,237)",
             "ticklen": 6,
             "ticks": "inside"
            },
            "colorscale": [
             [
              0,
              "rgb(20,44,66)"
             ],
             [
              1,
              "rgb(90,179,244)"
             ]
            ],
            "type": "surface"
           }
          ],
          "table": [
           {
            "cells": {
             "fill": {
              "color": "rgb(237,237,237)"
             },
             "line": {
              "color": "white"
             }
            },
            "header": {
             "fill": {
              "color": "rgb(217,217,217)"
             },
             "line": {
              "color": "white"
             }
            },
            "type": "table"
           }
          ]
         },
         "layout": {
          "annotationdefaults": {
           "arrowhead": 0,
           "arrowwidth": 1
          },
          "coloraxis": {
           "colorbar": {
            "outlinewidth": 0,
            "tickcolor": "rgb(237,237,237)",
            "ticklen": 6,
            "ticks": "inside"
           }
          },
          "colorscale": {
           "sequential": [
            [
             0,
             "rgb(20,44,66)"
            ],
            [
             1,
             "rgb(90,179,244)"
            ]
           ],
           "sequentialminus": [
            [
             0,
             "rgb(20,44,66)"
            ],
            [
             1,
             "rgb(90,179,244)"
            ]
           ]
          },
          "colorway": [
           "#F8766D",
           "#A3A500",
           "#00BF7D",
           "#00B0F6",
           "#E76BF3"
          ],
          "font": {
           "color": "rgb(51,51,51)"
          },
          "geo": {
           "bgcolor": "white",
           "lakecolor": "white",
           "landcolor": "rgb(237,237,237)",
           "showlakes": true,
           "showland": true,
           "subunitcolor": "white"
          },
          "hoverlabel": {
           "align": "left"
          },
          "hovermode": "closest",
          "paper_bgcolor": "white",
          "plot_bgcolor": "rgb(237,237,237)",
          "polar": {
           "angularaxis": {
            "gridcolor": "white",
            "linecolor": "white",
            "showgrid": true,
            "tickcolor": "rgb(51,51,51)",
            "ticks": "outside"
           },
           "bgcolor": "rgb(237,237,237)",
           "radialaxis": {
            "gridcolor": "white",
            "linecolor": "white",
            "showgrid": true,
            "tickcolor": "rgb(51,51,51)",
            "ticks": "outside"
           }
          },
          "scene": {
           "xaxis": {
            "backgroundcolor": "rgb(237,237,237)",
            "gridcolor": "white",
            "gridwidth": 2,
            "linecolor": "white",
            "showbackground": true,
            "showgrid": true,
            "tickcolor": "rgb(51,51,51)",
            "ticks": "outside",
            "zerolinecolor": "white"
           },
           "yaxis": {
            "backgroundcolor": "rgb(237,237,237)",
            "gridcolor": "white",
            "gridwidth": 2,
            "linecolor": "white",
            "showbackground": true,
            "showgrid": true,
            "tickcolor": "rgb(51,51,51)",
            "ticks": "outside",
            "zerolinecolor": "white"
           },
           "zaxis": {
            "backgroundcolor": "rgb(237,237,237)",
            "gridcolor": "white",
            "gridwidth": 2,
            "linecolor": "white",
            "showbackground": true,
            "showgrid": true,
            "tickcolor": "rgb(51,51,51)",
            "ticks": "outside",
            "zerolinecolor": "white"
           }
          },
          "shapedefaults": {
           "fillcolor": "black",
           "line": {
            "width": 0
           },
           "opacity": 0.3
          },
          "ternary": {
           "aaxis": {
            "gridcolor": "white",
            "linecolor": "white",
            "showgrid": true,
            "tickcolor": "rgb(51,51,51)",
            "ticks": "outside"
           },
           "baxis": {
            "gridcolor": "white",
            "linecolor": "white",
            "showgrid": true,
            "tickcolor": "rgb(51,51,51)",
            "ticks": "outside"
           },
           "bgcolor": "rgb(237,237,237)",
           "caxis": {
            "gridcolor": "white",
            "linecolor": "white",
            "showgrid": true,
            "tickcolor": "rgb(51,51,51)",
            "ticks": "outside"
           }
          },
          "xaxis": {
           "automargin": true,
           "gridcolor": "white",
           "linecolor": "white",
           "showgrid": true,
           "tickcolor": "rgb(51,51,51)",
           "ticks": "outside",
           "title": {
            "standoff": 15
           },
           "zerolinecolor": "white"
          },
          "yaxis": {
           "automargin": true,
           "gridcolor": "white",
           "linecolor": "white",
           "showgrid": true,
           "tickcolor": "rgb(51,51,51)",
           "ticks": "outside",
           "title": {
            "standoff": 15
           },
           "zerolinecolor": "white"
          }
         }
        },
        "xaxis": {
         "anchor": "y",
         "domain": [
          0,
          1
         ],
         "title": {
          "text": "Ratings"
         }
        },
        "yaxis": {
         "anchor": "x",
         "domain": [
          0,
          1
         ],
         "title": {
          "text": "Median ROI"
         }
        }
       }
      },
      "text/html": [
       "<div>\n",
       "        \n",
       "        \n",
       "            <div id=\"2929c5cd-38c9-49f7-9c8f-44f54ddf1bd5\" class=\"plotly-graph-div\" style=\"height:525px; width:100%;\"></div>\n",
       "            <script type=\"text/javascript\">\n",
       "                require([\"plotly\"], function(Plotly) {\n",
       "                    window.PLOTLYENV=window.PLOTLYENV || {};\n",
       "                    \n",
       "                if (document.getElementById(\"2929c5cd-38c9-49f7-9c8f-44f54ddf1bd5\")) {\n",
       "                    Plotly.newPlot(\n",
       "                        '2929c5cd-38c9-49f7-9c8f-44f54ddf1bd5',\n",
       "                        [{\"alignmentgroup\": \"True\", \"hovertemplate\": \"color=R<br>Ratings=%{x}<br>Median ROI=%{y}<extra></extra>\", \"legendgroup\": \"R\", \"marker\": {\"color\": \"#F8766D\"}, \"name\": \"R\", \"offsetgroup\": \"R\", \"orientation\": \"v\", \"showlegend\": true, \"textposition\": \"auto\", \"type\": \"bar\", \"x\": [\"R\"], \"xaxis\": \"x\", \"y\": [90.55], \"yaxis\": \"y\"}, {\"alignmentgroup\": \"True\", \"hovertemplate\": \"color=PG-13<br>Ratings=%{x}<br>Median ROI=%{y}<extra></extra>\", \"legendgroup\": \"PG-13\", \"marker\": {\"color\": \"#A3A500\"}, \"name\": \"PG-13\", \"offsetgroup\": \"PG-13\", \"orientation\": \"v\", \"showlegend\": true, \"textposition\": \"auto\", \"type\": \"bar\", \"x\": [\"PG-13\"], \"xaxis\": \"x\", \"y\": [88.8], \"yaxis\": \"y\"}, {\"alignmentgroup\": \"True\", \"hovertemplate\": \"color=PG<br>Ratings=%{x}<br>Median ROI=%{y}<extra></extra>\", \"legendgroup\": \"PG\", \"marker\": {\"color\": \"#00BF7D\"}, \"name\": \"PG\", \"offsetgroup\": \"PG\", \"orientation\": \"v\", \"showlegend\": true, \"textposition\": \"auto\", \"type\": \"bar\", \"x\": [\"PG\"], \"xaxis\": \"x\", \"y\": [78.5], \"yaxis\": \"y\"}, {\"alignmentgroup\": \"True\", \"hovertemplate\": \"color=G<br>Ratings=%{x}<br>Median ROI=%{y}<extra></extra>\", \"legendgroup\": \"G\", \"marker\": {\"color\": \"#00B0F6\"}, \"name\": \"G\", \"offsetgroup\": \"G\", \"orientation\": \"v\", \"showlegend\": true, \"textposition\": \"auto\", \"type\": \"bar\", \"x\": [\"G\"], \"xaxis\": \"x\", \"y\": [78.1], \"yaxis\": \"y\"}],\n",
       "                        {\"barmode\": \"relative\", \"legend\": {\"title\": {\"text\": \"color\"}, \"tracegroupgap\": 0}, \"margin\": {\"t\": 60}, \"template\": {\"data\": {\"bar\": [{\"error_x\": {\"color\": \"rgb(51,51,51)\"}, \"error_y\": {\"color\": \"rgb(51,51,51)\"}, \"marker\": {\"line\": {\"color\": \"rgb(237,237,237)\", \"width\": 0.5}}, \"type\": \"bar\"}], \"barpolar\": [{\"marker\": {\"line\": {\"color\": \"rgb(237,237,237)\", \"width\": 0.5}}, \"type\": \"barpolar\"}], \"carpet\": [{\"aaxis\": {\"endlinecolor\": \"rgb(51,51,51)\", \"gridcolor\": \"white\", \"linecolor\": \"white\", \"minorgridcolor\": \"white\", \"startlinecolor\": \"rgb(51,51,51)\"}, \"baxis\": {\"endlinecolor\": \"rgb(51,51,51)\", \"gridcolor\": \"white\", \"linecolor\": \"white\", \"minorgridcolor\": \"white\", \"startlinecolor\": \"rgb(51,51,51)\"}, \"type\": \"carpet\"}], \"choropleth\": [{\"colorbar\": {\"outlinewidth\": 0, \"tickcolor\": \"rgb(237,237,237)\", \"ticklen\": 6, \"ticks\": \"inside\"}, \"type\": \"choropleth\"}], \"contour\": [{\"colorbar\": {\"outlinewidth\": 0, \"tickcolor\": \"rgb(237,237,237)\", \"ticklen\": 6, \"ticks\": \"inside\"}, \"colorscale\": [[0, \"rgb(20,44,66)\"], [1, \"rgb(90,179,244)\"]], \"type\": \"contour\"}], \"contourcarpet\": [{\"colorbar\": {\"outlinewidth\": 0, \"tickcolor\": \"rgb(237,237,237)\", \"ticklen\": 6, \"ticks\": \"inside\"}, \"type\": \"contourcarpet\"}], \"heatmap\": [{\"colorbar\": {\"outlinewidth\": 0, \"tickcolor\": \"rgb(237,237,237)\", \"ticklen\": 6, \"ticks\": \"inside\"}, \"colorscale\": [[0, \"rgb(20,44,66)\"], [1, \"rgb(90,179,244)\"]], \"type\": \"heatmap\"}], \"heatmapgl\": [{\"colorbar\": {\"outlinewidth\": 0, \"tickcolor\": \"rgb(237,237,237)\", \"ticklen\": 6, \"ticks\": \"inside\"}, \"colorscale\": [[0, \"rgb(20,44,66)\"], [1, \"rgb(90,179,244)\"]], \"type\": \"heatmapgl\"}], \"histogram\": [{\"marker\": {\"colorbar\": {\"outlinewidth\": 0, \"tickcolor\": \"rgb(237,237,237)\", \"ticklen\": 6, \"ticks\": \"inside\"}}, \"type\": \"histogram\"}], \"histogram2d\": [{\"colorbar\": {\"outlinewidth\": 0, \"tickcolor\": \"rgb(237,237,237)\", \"ticklen\": 6, \"ticks\": \"inside\"}, \"colorscale\": [[0, \"rgb(20,44,66)\"], [1, \"rgb(90,179,244)\"]], \"type\": \"histogram2d\"}], \"histogram2dcontour\": [{\"colorbar\": {\"outlinewidth\": 0, \"tickcolor\": \"rgb(237,237,237)\", \"ticklen\": 6, \"ticks\": \"inside\"}, \"colorscale\": [[0, \"rgb(20,44,66)\"], [1, \"rgb(90,179,244)\"]], \"type\": \"histogram2dcontour\"}], \"mesh3d\": [{\"colorbar\": {\"outlinewidth\": 0, \"tickcolor\": \"rgb(237,237,237)\", \"ticklen\": 6, \"ticks\": \"inside\"}, \"type\": \"mesh3d\"}], \"parcoords\": [{\"line\": {\"colorbar\": {\"outlinewidth\": 0, \"tickcolor\": \"rgb(237,237,237)\", \"ticklen\": 6, \"ticks\": \"inside\"}}, \"type\": \"parcoords\"}], \"pie\": [{\"automargin\": true, \"type\": \"pie\"}], \"scatter\": [{\"marker\": {\"colorbar\": {\"outlinewidth\": 0, \"tickcolor\": \"rgb(237,237,237)\", \"ticklen\": 6, \"ticks\": \"inside\"}}, \"type\": \"scatter\"}], \"scatter3d\": [{\"line\": {\"colorbar\": {\"outlinewidth\": 0, \"tickcolor\": \"rgb(237,237,237)\", \"ticklen\": 6, \"ticks\": \"inside\"}}, \"marker\": {\"colorbar\": {\"outlinewidth\": 0, \"tickcolor\": \"rgb(237,237,237)\", \"ticklen\": 6, \"ticks\": \"inside\"}}, \"type\": \"scatter3d\"}], \"scattercarpet\": [{\"marker\": {\"colorbar\": {\"outlinewidth\": 0, \"tickcolor\": \"rgb(237,237,237)\", \"ticklen\": 6, \"ticks\": \"inside\"}}, \"type\": \"scattercarpet\"}], \"scattergeo\": [{\"marker\": {\"colorbar\": {\"outlinewidth\": 0, \"tickcolor\": \"rgb(237,237,237)\", \"ticklen\": 6, \"ticks\": \"inside\"}}, \"type\": \"scattergeo\"}], \"scattergl\": [{\"marker\": {\"colorbar\": {\"outlinewidth\": 0, \"tickcolor\": \"rgb(237,237,237)\", \"ticklen\": 6, \"ticks\": \"inside\"}}, \"type\": \"scattergl\"}], \"scattermapbox\": [{\"marker\": {\"colorbar\": {\"outlinewidth\": 0, \"tickcolor\": \"rgb(237,237,237)\", \"ticklen\": 6, \"ticks\": \"inside\"}}, \"type\": \"scattermapbox\"}], \"scatterpolar\": [{\"marker\": {\"colorbar\": {\"outlinewidth\": 0, \"tickcolor\": \"rgb(237,237,237)\", \"ticklen\": 6, \"ticks\": \"inside\"}}, \"type\": \"scatterpolar\"}], \"scatterpolargl\": [{\"marker\": {\"colorbar\": {\"outlinewidth\": 0, \"tickcolor\": \"rgb(237,237,237)\", \"ticklen\": 6, \"ticks\": \"inside\"}}, \"type\": \"scatterpolargl\"}], \"scatterternary\": [{\"marker\": {\"colorbar\": {\"outlinewidth\": 0, \"tickcolor\": \"rgb(237,237,237)\", \"ticklen\": 6, \"ticks\": \"inside\"}}, \"type\": \"scatterternary\"}], \"surface\": [{\"colorbar\": {\"outlinewidth\": 0, \"tickcolor\": \"rgb(237,237,237)\", \"ticklen\": 6, \"ticks\": \"inside\"}, \"colorscale\": [[0, \"rgb(20,44,66)\"], [1, \"rgb(90,179,244)\"]], \"type\": \"surface\"}], \"table\": [{\"cells\": {\"fill\": {\"color\": \"rgb(237,237,237)\"}, \"line\": {\"color\": \"white\"}}, \"header\": {\"fill\": {\"color\": \"rgb(217,217,217)\"}, \"line\": {\"color\": \"white\"}}, \"type\": \"table\"}]}, \"layout\": {\"annotationdefaults\": {\"arrowhead\": 0, \"arrowwidth\": 1}, \"coloraxis\": {\"colorbar\": {\"outlinewidth\": 0, \"tickcolor\": \"rgb(237,237,237)\", \"ticklen\": 6, \"ticks\": \"inside\"}}, \"colorscale\": {\"sequential\": [[0, \"rgb(20,44,66)\"], [1, \"rgb(90,179,244)\"]], \"sequentialminus\": [[0, \"rgb(20,44,66)\"], [1, \"rgb(90,179,244)\"]]}, \"colorway\": [\"#F8766D\", \"#A3A500\", \"#00BF7D\", \"#00B0F6\", \"#E76BF3\"], \"font\": {\"color\": \"rgb(51,51,51)\"}, \"geo\": {\"bgcolor\": \"white\", \"lakecolor\": \"white\", \"landcolor\": \"rgb(237,237,237)\", \"showlakes\": true, \"showland\": true, \"subunitcolor\": \"white\"}, \"hoverlabel\": {\"align\": \"left\"}, \"hovermode\": \"closest\", \"paper_bgcolor\": \"white\", \"plot_bgcolor\": \"rgb(237,237,237)\", \"polar\": {\"angularaxis\": {\"gridcolor\": \"white\", \"linecolor\": \"white\", \"showgrid\": true, \"tickcolor\": \"rgb(51,51,51)\", \"ticks\": \"outside\"}, \"bgcolor\": \"rgb(237,237,237)\", \"radialaxis\": {\"gridcolor\": \"white\", \"linecolor\": \"white\", \"showgrid\": true, \"tickcolor\": \"rgb(51,51,51)\", \"ticks\": \"outside\"}}, \"scene\": {\"xaxis\": {\"backgroundcolor\": \"rgb(237,237,237)\", \"gridcolor\": \"white\", \"gridwidth\": 2, \"linecolor\": \"white\", \"showbackground\": true, \"showgrid\": true, \"tickcolor\": \"rgb(51,51,51)\", \"ticks\": \"outside\", \"zerolinecolor\": \"white\"}, \"yaxis\": {\"backgroundcolor\": \"rgb(237,237,237)\", \"gridcolor\": \"white\", \"gridwidth\": 2, \"linecolor\": \"white\", \"showbackground\": true, \"showgrid\": true, \"tickcolor\": \"rgb(51,51,51)\", \"ticks\": \"outside\", \"zerolinecolor\": \"white\"}, \"zaxis\": {\"backgroundcolor\": \"rgb(237,237,237)\", \"gridcolor\": \"white\", \"gridwidth\": 2, \"linecolor\": \"white\", \"showbackground\": true, \"showgrid\": true, \"tickcolor\": \"rgb(51,51,51)\", \"ticks\": \"outside\", \"zerolinecolor\": \"white\"}}, \"shapedefaults\": {\"fillcolor\": \"black\", \"line\": {\"width\": 0}, \"opacity\": 0.3}, \"ternary\": {\"aaxis\": {\"gridcolor\": \"white\", \"linecolor\": \"white\", \"showgrid\": true, \"tickcolor\": \"rgb(51,51,51)\", \"ticks\": \"outside\"}, \"baxis\": {\"gridcolor\": \"white\", \"linecolor\": \"white\", \"showgrid\": true, \"tickcolor\": \"rgb(51,51,51)\", \"ticks\": \"outside\"}, \"bgcolor\": \"rgb(237,237,237)\", \"caxis\": {\"gridcolor\": \"white\", \"linecolor\": \"white\", \"showgrid\": true, \"tickcolor\": \"rgb(51,51,51)\", \"ticks\": \"outside\"}}, \"xaxis\": {\"automargin\": true, \"gridcolor\": \"white\", \"linecolor\": \"white\", \"showgrid\": true, \"tickcolor\": \"rgb(51,51,51)\", \"ticks\": \"outside\", \"title\": {\"standoff\": 15}, \"zerolinecolor\": \"white\"}, \"yaxis\": {\"automargin\": true, \"gridcolor\": \"white\", \"linecolor\": \"white\", \"showgrid\": true, \"tickcolor\": \"rgb(51,51,51)\", \"ticks\": \"outside\", \"title\": {\"standoff\": 15}, \"zerolinecolor\": \"white\"}}}, \"xaxis\": {\"anchor\": \"y\", \"domain\": [0.0, 1.0], \"title\": {\"text\": \"Ratings\"}}, \"yaxis\": {\"anchor\": \"x\", \"domain\": [0.0, 1.0], \"title\": {\"text\": \"Median ROI\"}}},\n",
       "                        {\"responsive\": true}\n",
       "                    ).then(function(){\n",
       "                            \n",
       "var gd = document.getElementById('2929c5cd-38c9-49f7-9c8f-44f54ddf1bd5');\n",
       "var x = new MutationObserver(function (mutations, observer) {{\n",
       "        var display = window.getComputedStyle(gd).display;\n",
       "        if (!display || display === 'none') {{\n",
       "            console.log([gd, 'removed!']);\n",
       "            Plotly.purge(gd);\n",
       "            observer.disconnect();\n",
       "        }}\n",
       "}});\n",
       "\n",
       "// Listen for the removal of the full notebook cells\n",
       "var notebookContainer = gd.closest('#notebook-container');\n",
       "if (notebookContainer) {{\n",
       "    x.observe(notebookContainer, {childList: true});\n",
       "}}\n",
       "\n",
       "// Listen for the clearing of the current output cell\n",
       "var outputEl = gd.closest('.output');\n",
       "if (outputEl) {{\n",
       "    x.observe(outputEl, {childList: true});\n",
       "}}\n",
       "\n",
       "                        })\n",
       "                };\n",
       "                });\n",
       "            </script>\n",
       "        </div>"
      ]
     },
     "metadata": {},
     "output_type": "display_data"
    },
    {
     "data": {
      "text/plain": [
       "<Figure size 720x576 with 0 Axes>"
      ]
     },
     "metadata": {},
     "output_type": "display_data"
    }
   ],
   "source": [
    "## Barplot Generation\n",
    "\n",
    "## Ratings profit\n",
    "r_profit = round(top_100[top_100['rating'] == 'R']['ROI'].head(100).median(), 2)\n",
    "pg13_profit = round(top_100[top_100['rating'] == 'PG-13']['ROI'].head(100).median(), 2)\n",
    "pg_profit = round(top_100[top_100['rating'] == 'PG']['ROI'].head(100).median(), 2)\n",
    "g_profit = round(top_100[top_100['rating'] == 'G']['ROI'].head(100).median(), 2)\n",
    "\n",
    "## Ratings budgets\n",
    "r_budget = round(top_100[top_100['rating'] == 'R']['budget'].head(100).median(), 2)\n",
    "pg13_budget = round(top_100[top_100['rating'] == 'PG-13']['budget'].head(100).median(), 2)\n",
    "pg_budget = round(top_100[top_100['rating'] == 'PG']['budget'].head(100).median(), 2)\n",
    "g_budget = round(top_100[top_100['rating'] == 'G']['budget'].head(100).median(), 2)\n",
    "\n",
    "## Figure size\n",
    "plt.figure(figsize=(10,8))\n",
    "\n",
    "## Figure variables and Data lists\n",
    "ratings_profit = [r_profit, pg13_profit, pg_profit, g_profit]\n",
    "ratings_budget = [r_budget, pg13_budget, pg_budget, g_budget]\n",
    "x = ['R', 'PG-13', 'PG', 'G']\n",
    "\n",
    "fig = px.bar(data_frame=top_100, x=x, y=ratings_profit, color=x,\n",
    "             labels={'x':'Ratings', 'y':'Median ROI'}, template='ggplot2')\n",
    "fig.show()"
   ]
  },
  {
   "cell_type": "code",
   "execution_count": 34,
   "metadata": {
    "ExecuteTime": {
     "end_time": "2020-08-01T18:30:58.028859Z",
     "start_time": "2020-08-01T18:30:57.982817Z"
    },
    "scrolled": false
   },
   "outputs": [
    {
     "data": {
      "application/vnd.plotly.v1+json": {
       "config": {
        "plotlyServerURL": "https://plot.ly"
       },
       "data": [
        {
         "hovertext": [
          "The Gallows",
          "Fifty Shades of Grey",
          "The Devil Inside",
          "Unfriended",
          "Paranormal Activity 2",
          "Get Out",
          "Paranormal Activity 3",
          "Annabelle",
          "The Purge",
          "The King's Speech",
          "Paranormal Activity 4",
          "Sinister",
          "Black Swan",
          "Halloween",
          "Dope",
          "Your Sister's Sister",
          "The Conjuring",
          "Magic Mike",
          "A Haunted House",
          "Annabelle: Creation",
          "It",
          "A Ghost Story",
          "Paranormal Activity: The Marked Ones",
          "Moonlight",
          "Unfriended: Dark Web",
          "Sleight",
          "Don't Breathe",
          "Whiplash",
          "Neighbors",
          "Hello, My Name Is Doris",
          "Deadpool",
          "The Boy Next Door",
          "Us",
          "The Purge: Anarchy",
          "Ma",
          "Boyhood",
          "A Star Is Born",
          "Grandma",
          "The Purge: Election Year",
          "The Gift",
          "The Witch",
          "Lucy",
          "Silver Linings Playbook",
          "The Big Sick",
          "Dallas Buyers Club",
          "Ted",
          "No Escape",
          "It Follows",
          "Bad Teacher",
          "The Sessions",
          "Call Me by Your Name",
          "The First Purge",
          "Jigsaw",
          "Bellflower",
          "Monsters",
          "Jackass Presents: Bad Grandpa",
          "Meet the Blacks",
          "The Shape of Water",
          "The Kids Are All Right",
          "Buried",
          "Ready or Not",
          "Unsane",
          "12 Years a Slave",
          "American Sniper",
          "Bad Moms",
          "Blair Witch",
          "Oculus",
          "The Descendants",
          "Bridesmaids",
          "Manchester by the Sea",
          "Jackass 3D",
          "Project X",
          "As Above, So Below",
          "I Am Not Your Negro",
          "Silent House",
          "Dirty Grandpa",
          "Tangerine",
          "Let's Be Cops",
          "The Conjuring 2",
          "Hereditary",
          "Magic Mike XXL",
          "Begin Again",
          "End of Watch",
          "Paranormal Activity: The Ghost Dimension",
          "Hustlers",
          "Resident Evil: The Final Chapter",
          "Annabelle Comes Home",
          "Girls Trip",
          "Sausage Party",
          "The Hangover Part II",
          "We're the Millers",
          "About Time",
          "Straight Outta Compton",
          "K-12",
          "Before Midnight",
          "Fifty Shades Darker",
          "Winter's Bone",
          "Act of Valor",
          "Crawl",
          "Fifty Shades Freed"
         ],
         "mode": "markers",
         "name": "R",
         "type": "scatter",
         "x": [
          100000,
          4000000,
          1000000,
          1000000,
          3000000,
          4500000,
          5000000,
          6500000,
          3000000,
          15000000,
          5000000,
          3000000,
          13000000,
          10000000,
          700000,
          125000,
          13000000,
          7000000,
          2500000,
          15000000,
          35000000,
          100000,
          5000000,
          4000000,
          1000000,
          250000,
          9900000,
          3300000,
          18000000,
          1000000,
          58000000,
          4000000,
          20000000,
          9000000,
          5000000,
          4000000,
          36000000,
          600000,
          10000000,
          5000000,
          3500000,
          40000000,
          21000000,
          5000000,
          5000000,
          50000000,
          5000000,
          2000000,
          20000000,
          1000000,
          4000000,
          13000000,
          10000000,
          17000,
          500000,
          15000000,
          900000,
          19500000,
          3500000,
          1987650,
          6000000,
          1500000,
          20000000,
          58800000,
          20000000,
          5000000,
          5000000,
          20000000,
          32500000,
          9000000,
          20000000,
          12000000,
          5000000,
          1000000,
          2000000,
          11500000,
          100000,
          17000000,
          40000000,
          10000000,
          14800000,
          8000000,
          7000000,
          10000000,
          20000000,
          40000000,
          30000000,
          19000000,
          19000000,
          80000000,
          37000000,
          12000000,
          28000000,
          50000,
          3000000,
          55000000,
          2000000,
          12000000,
          13500000,
          55000000
         ],
         "xaxis": "x",
         "y": [
          42864410,
          565651467,
          100758490,
          61882090,
          174512032,
          250907969,
          202039844,
          250547661,
          86328627,
          408999102,
          137802657,
          79515113,
          316398046,
          245485178,
          17286781,
          3117802,
          306494638,
          160739368,
          57659584,
          291515884,
          665381748,
          1851683,
          85894962,
          61336603,
          15024987,
          3739705,
          147930487,
          45682041,
          252665134,
          13659448,
          724612155,
          48425855,
          235184580,
          102928365,
          56105672,
          44137666,
          400188866,
          6605073,
          108587880,
          53978653,
          36923945,
          418863600,
          215412453,
          51411585,
          50736588,
          499368315,
          49418872,
          19528593,
          196197492,
          9656155,
          37887595,
          124056262,
          92952888,
          155935,
          4560438,
          136826547,
          8197072,
          175833312,
          31205850,
          17452114,
          51615777,
          12793601,
          167733202,
          488626372,
          163936074,
          40173154,
          39446287,
          157243185,
          255883523,
          69988148,
          151685792,
          90731865,
          36898409,
          7345298,
          14527747,
          82573028,
          714868,
          121224951,
          280392818,
          70200936,
          103013057,
          55464861,
          48078146,
          68903124,
          137563598,
          272242626,
          201252591,
          121552359,
          121705322,
          506764305,
          232994119,
          75100449,
          173634991,
          309377,
          17994648,
          326545846,
          11796834,
          70497035,
          78042097,
          316985018
         ],
         "yaxis": "y"
        },
        {
         "hovertext": [
          "Arrival",
          "Catfish",
          "The Quiet Ones",
          "Snow Flower and the Secret Fan",
          "Searching",
          "Insidious",
          "The Woman in Black 2: Angel of Death",
          "The Last Exorcism",
          "Like Crazy",
          "Courageous",
          "Split",
          "Lights Out",
          "Truth or Dare",
          "Happy Death Day",
          "The Fault in Our Stars",
          "Ouija",
          "A Quiet Place",
          "The Visit",
          "Another Earth",
          "Escape Room",
          "Bohemian Rhapsody",
          "Insidious: The Last Key",
          "The Imitation Game",
          "La La Land",
          "Green Book",
          "The Best Exotic Marigold Hotel",
          "Life in a Day",
          "Winchester",
          "Glass",
          "The Grace Card",
          "Beasts of the Southern Wild",
          "Lion",
          "The Lazarus Effect",
          "47 Meters Down",
          "Insidious: Chapter 3",
          "Jurassic World",
          "Harry Potter and the Deathly Hallows: Part 2",
          "Jumanji: Welcome to the Jungle",
          "Book Club",
          "Me Before You",
          "The Twilight Saga: Eclipse",
          "The Maze Runner",
          "Pitch Perfect 2",
          "Mama",
          "Easy A",
          "The Hunger Games",
          "Ouija: Origin of Evil",
          "Hunt for the Wilderpeople",
          "The Artist",
          "Still Alice",
          "The Iron Lady",
          "The Help",
          "Chronicle",
          "Philomena",
          "Taken 2",
          "The Theory of Everything",
          "Think Like a Man",
          "Furious 7",
          "Crazy Rich Asians",
          "Dark Skies",
          "Avengers: Endgame",
          "Knives Out",
          "Loving Vincent",
          "The Woman in Black",
          "Overboard",
          "Captain Marvel",
          "Countdown",
          "10 Cloverfield Lane",
          "Venom",
          "Les Misérables",
          "Happy Death Day 2U",
          "Aquaman",
          "Paper Towns",
          "Love & Friendship",
          "Spider-Man: Far from Home",
          "If I Stay",
          "The Shallows",
          "Gravity",
          "Lowriders",
          "The Twilight Saga: Breaking Dawn - Part 2",
          "The Avengers",
          "Avengers: Infinity War",
          "Taken 3",
          "Pitch Perfect",
          "Black Panther",
          "Skyline",
          "Deadpool 2",
          "The Hunger Games: Catching Fire",
          "True Grit",
          "The Vow",
          "The Twilight Saga: Breaking Dawn - Part 1",
          "Jojo Rabbit",
          "The Boy",
          "House at the End of the Street",
          "Murder on the Orient Express",
          "Jumanji: The Next Level",
          "Devil",
          "Ride Along",
          "Everything, Everything",
          "Gifted"
         ],
         "mode": "markers",
         "name": "PG-13",
         "type": "scatter",
         "x": [
          10000,
          30000,
          200000,
          134005,
          1000000,
          1500000,
          1000000,
          1800000,
          250000,
          1000000,
          9000000,
          4900000,
          3500000,
          4800000,
          12000000,
          5000000,
          17000000,
          5000000,
          100000,
          9000000,
          52000000,
          10000000,
          14000000,
          30000000,
          23000000,
          10000000,
          45202,
          3500000,
          20000000,
          200000,
          1800000,
          12000000,
          3300000,
          5500000,
          10000000,
          150000000,
          125000000,
          90000000,
          10000000,
          20000000,
          68000000,
          34000000,
          29000000,
          15000000,
          8000000,
          75000000,
          9000000,
          2500000,
          15000000,
          5000000,
          13000000,
          25000000,
          15000000,
          12000000,
          45000000,
          15000000,
          12000000,
          190000000,
          30000000,
          3500000,
          356000000,
          40000000,
          5500000,
          17000000,
          12000000,
          152000000,
          6500000,
          15000000,
          116000000,
          61000000,
          9000000,
          160000000,
          12000000,
          3000000,
          160000000,
          11000000,
          17000000,
          105000000,
          916000,
          120000000,
          220000000,
          300000000,
          48000000,
          17000000,
          200000000,
          10000000,
          110000000,
          130000000,
          38000000,
          30000000,
          110000000,
          14000000,
          10000000,
          6900000,
          55000000,
          125000000,
          10000000,
          25000000,
          10000000,
          7000000
         ],
         "xaxis": "x2",
         "y": [
          203378186,
          3503711,
          17635162,
          11214200,
          74462037,
          98057032,
          47854305,
          67632527,
          8779150,
          34185884,
          269454358,
          143968835,
          91830493,
          120679266,
          295166834,
          98590271,
          323939361,
          93450062,
          1838783,
          146712077,
          851655259,
          157885588,
          219555708,
          416486224,
          298752656,
          126836156,
          561967,
          40519588,
          226999039,
          2230735,
          19307746,
          128312928,
          35056892,
          56687529,
          102983889,
          1520400637,
          1216511219,
          872077546,
          94438188,
          188314186,
          630491347,
          314319861,
          258144079,
          131428180,
          67026216,
          619394724,
          72705746,
          20019390,
          118432856,
          39779195,
          102890699,
          191639112,
          111636097,
          88129872,
          331141306,
          108726688,
          84070507,
          1325047671,
          208532921,
          24358103,
          2441800564,
          269232797,
          36687665,
          111955898,
          79244913,
          976274794,
          41521766,
          95216998,
          740085151,
          380809770,
          55600152,
          988461807,
          73512300,
          18401949,
          971927996,
          67274843,
          102100758,
          618192705,
          5396033,
          709746820,
          1298812988,
          1748359754,
          278479141,
          98350426,
          1146913161,
          56984887,
          624546611,
          735011746,
          214276927,
          166114570,
          602205856,
          76335025,
          54188367,
          37387131,
          297789811,
          671575993,
          52695489,
          129468902,
          51621140,
          36046590
         ],
         "yaxis": "y2"
        },
        {
         "hovertext": [
          "War Room",
          "A Beautiful Day in the Neighborhood",
          "Minions",
          "Wonder",
          "2016: Obama's America",
          "Despicable Me 3",
          "Despicable Me 2",
          "The Secret Life of Pets",
          "Frozen II",
          "Downton Abbey",
          "Hidden Figures",
          "A Dog's Purpose",
          "Ice Age: Continental Drift",
          "The Karate Kid",
          "The Second Best Exotic Marigold Hotel",
          "Sing",
          "Heaven Is for Real",
          "Despicable Me",
          "The Lego Movie",
          "Show Dogs",
          "Peter Rabbit",
          "The Grinch",
          "Zootopia",
          "Hotel Transylvania 3: Summer Vacation",
          "The Lion King",
          "Incredibles 2",
          "Hotel Transylvania 2",
          "Aladdin",
          "Cinderella",
          "Paddington 2",
          "The Jungle Book",
          "An Inconvenient Sequel: Truth to Power",
          "The Secret Life of Pets 2",
          "Little Women",
          "The Greatest Showman",
          "Madagascar 3: Europe's Most Wanted",
          "Finding Dory",
          "Alice in Wonderland",
          "Paddington",
          "The Smurfs",
          "The Addams Family",
          "Life of Pi",
          "Diary of a Wimpy Kid",
          "The Lorax",
          "Inside Out",
          "God's Not Dead 2",
          "The Angry Birds Movie",
          "Planes",
          "Parental Guidance",
          "Forever My Girl",
          "Miracles from Heaven",
          "Coco",
          "Shrek Forever After",
          "A Dog's Way Home",
          "Kung Fu Panda 2",
          "Norm of the North",
          "The SpongeBob Movie: Sponge Out of Water",
          "The Croods",
          "The Emoji Movie",
          "How to Train Your Dragon 2",
          "Puss in Boots",
          "Into the Woods",
          "Shaun the Sheep Movie",
          "Journey 2: The Mysterious Island",
          "Hotel Transylvania",
          "The Boss Baby",
          "Maleficent",
          "Spider-Man: Into the Spider-Verse",
          "The Hundred-Foot Journey",
          "How to Train Your Dragon: The Hidden World",
          "Big Hero 6",
          "The Lego Batman Movie",
          "Ice Age: Collision Course",
          "God's Not Dead",
          "The Muppets",
          "Kung Fu Panda 3",
          "Alexander and the Terrible, Horrible, No Good, Very Bad Day",
          "Johnny English Reborn",
          "Earth to Echo",
          "Diary of a Wimpy Kid: Dog Days",
          "Diary of a Wimpy Kid: Rodrick Rules",
          "Mr. Popper's Penguins",
          "The Smurfs 2",
          "Captain Underpants: The First Epic Movie",
          "Smurfs: The Lost Village",
          "Ralph Breaks the Internet",
          "How to Train Your Dragon",
          "Planes: Fire & Rescue",
          "Hop",
          "The Nut Job",
          "The Adventures of Tintin",
          "Wreck-It Ralph",
          "Night at the Museum: Secret of the Tomb",
          "Paul Blart: Mall Cop 2",
          "Penguins of Madagascar",
          "Trolls",
          "Middle School: The Worst Years of My Life",
          "Goosebumps",
          "Katy Perry: Part of Me",
          "Mary Poppins Returns"
         ],
         "mode": "markers",
         "name": "PG",
         "type": "scatter",
         "x": [
          3000000,
          4000000,
          74000000,
          20000000,
          2500000,
          80000000,
          76000000,
          75000000,
          150000000,
          20000000,
          25000000,
          22000000,
          95000000,
          40000000,
          10000000,
          75000000,
          12000000,
          69000000,
          60000000,
          5500000,
          50000000,
          75000000,
          150000000,
          80000000,
          260000000,
          200000000,
          80000000,
          183000000,
          95000000,
          40000000,
          175000000,
          1000000,
          80000000,
          40000000,
          84000000,
          145000000,
          200000000,
          200000000,
          55000000,
          110000000,
          40000000,
          120000000,
          15000000,
          70000000,
          175000000,
          5000000,
          73000000,
          50000000,
          25000000,
          3500000,
          16000000,
          175000000,
          165000000,
          18000000,
          150000000,
          7000000,
          74000000,
          135000000,
          50000000,
          145000000,
          130000000,
          50000000,
          25000000,
          79000000,
          85000000,
          125000000,
          180000000,
          90000000,
          22000000,
          129000000,
          165000000,
          80000000,
          105000000,
          17000000,
          45000000,
          145000000,
          28000000,
          45000000,
          13000000,
          22000000,
          21000000,
          55000000,
          105000000,
          38000000,
          60000000,
          175000000,
          165000000,
          50000000,
          63000000,
          42000000,
          130000000,
          165000000,
          127000000,
          38000000,
          132000000,
          125000000,
          8500000,
          58000000,
          12000000,
          130000000
         ],
         "xaxis": "x3",
         "y": [
          70267874,
          63760877,
          1085398397,
          285937718,
          30949086,
          954799409,
          894766005,
          800457937,
          1300026933,
          172949437,
          210956898,
          183035819,
          782244782,
          319126022,
          75978266,
          559151679,
          89888019,
          474113985,
          408060692,
          33656854,
          301266433,
          436595957,
          873784195,
          448583774,
          1396943394,
          1042805359,
          394800000,
          867693953,
          447351353,
          187978523,
          791550600,
          4433926,
          350051293,
          169101214,
          350993183,
          601921274,
          828570889,
          825467110,
          227370135,
          453749323,
          163044905,
          489016565,
          61196538,
          278840316,
          682611174,
          19487848,
          279333929,
          189258712,
          94772232,
          12876066,
          57983003,
          632082196,
          587600867,
          62708134,
          515692281,
          23734502,
          251186032,
          452204668,
          167776646,
          476537519,
          424987477,
          162902372,
          81209378,
          256260290,
          273375603,
          402965936,
          578410378,
          285540831,
          67514453,
          392799505,
          492827828,
          231950384,
          303579038,
          47667874,
          120184237,
          376170825,
          72654149,
          115078586,
          32681062,
          55229695,
          51526996,
          132361754,
          242545360,
          87427681,
          137183546,
          354323962,
          329878759,
          96965787,
          120953723,
          78885527,
          243993951,
          306222889,
          236204635,
          69588225,
          241515621,
          221864462,
          14816139,
          100260952,
          20726956,
          219537494
         ],
         "yaxis": "y3"
        },
        {
         "hovertext": [
          "Logan",
          "Justin Bieber: Never Say Never",
          "Chimpanzee",
          "Toy Story 4",
          "Gnomeo & Juliet",
          "Rio",
          "Toy Story 3",
          "Rio 2",
          "Alvin and the Chipmunks: Chipwrecked",
          "Monsters University",
          "Cars 2",
          "The Peanuts Movie",
          "Cars 3",
          "Ramona and Beezus",
          "Winnie the Pooh",
          "Khumba",
          "The Young and Prodigious T.S. Spivet"
         ],
         "mode": "markers",
         "name": "G",
         "type": "scatter",
         "x": [
          135000,
          13000000,
          5000000,
          175000000,
          36000000,
          90000000,
          200000000,
          103000000,
          75000000,
          200000000,
          200000000,
          99000000,
          175000000,
          15000000,
          30000000,
          20000000,
          33000000
         ],
         "xaxis": "x4",
         "y": [
          618886436,
          86036827,
          29823764,
          898394593,
          157967670,
          393866518,
          866969703,
          395781117,
          267695435,
          543559607,
          359852396,
          147233113,
          208930656,
          12293743,
          19871429,
          7187375,
          -23505211
         ],
         "yaxis": "y4"
        }
       ],
       "layout": {
        "annotations": [
         {
          "font": {
           "size": 16
          },
          "showarrow": false,
          "text": "R - Budget vs Profit",
          "x": 0.225,
          "xanchor": "center",
          "xref": "paper",
          "y": 1,
          "yanchor": "bottom",
          "yref": "paper"
         },
         {
          "font": {
           "size": 16
          },
          "showarrow": false,
          "text": "PG-13 - Budget vs Profit",
          "x": 0.775,
          "xanchor": "center",
          "xref": "paper",
          "y": 1,
          "yanchor": "bottom",
          "yref": "paper"
         },
         {
          "font": {
           "size": 16
          },
          "showarrow": false,
          "text": "PG - Budget vs Profit",
          "x": 0.225,
          "xanchor": "center",
          "xref": "paper",
          "y": 0.375,
          "yanchor": "bottom",
          "yref": "paper"
         },
         {
          "font": {
           "size": 16
          },
          "showarrow": false,
          "text": "G - Budget vs Profit",
          "x": 0.775,
          "xanchor": "center",
          "xref": "paper",
          "y": 0.375,
          "yanchor": "bottom",
          "yref": "paper"
         }
        ],
        "height": 800,
        "template": {
         "data": {
          "bar": [
           {
            "error_x": {
             "color": "#2a3f5f"
            },
            "error_y": {
             "color": "#2a3f5f"
            },
            "marker": {
             "line": {
              "color": "#E5ECF6",
              "width": 0.5
             }
            },
            "type": "bar"
           }
          ],
          "barpolar": [
           {
            "marker": {
             "line": {
              "color": "#E5ECF6",
              "width": 0.5
             }
            },
            "type": "barpolar"
           }
          ],
          "carpet": [
           {
            "aaxis": {
             "endlinecolor": "#2a3f5f",
             "gridcolor": "white",
             "linecolor": "white",
             "minorgridcolor": "white",
             "startlinecolor": "#2a3f5f"
            },
            "baxis": {
             "endlinecolor": "#2a3f5f",
             "gridcolor": "white",
             "linecolor": "white",
             "minorgridcolor": "white",
             "startlinecolor": "#2a3f5f"
            },
            "type": "carpet"
           }
          ],
          "choropleth": [
           {
            "colorbar": {
             "outlinewidth": 0,
             "ticks": ""
            },
            "type": "choropleth"
           }
          ],
          "contour": [
           {
            "colorbar": {
             "outlinewidth": 0,
             "ticks": ""
            },
            "colorscale": [
             [
              0,
              "#0d0887"
             ],
             [
              0.1111111111111111,
              "#46039f"
             ],
             [
              0.2222222222222222,
              "#7201a8"
             ],
             [
              0.3333333333333333,
              "#9c179e"
             ],
             [
              0.4444444444444444,
              "#bd3786"
             ],
             [
              0.5555555555555556,
              "#d8576b"
             ],
             [
              0.6666666666666666,
              "#ed7953"
             ],
             [
              0.7777777777777778,
              "#fb9f3a"
             ],
             [
              0.8888888888888888,
              "#fdca26"
             ],
             [
              1,
              "#f0f921"
             ]
            ],
            "type": "contour"
           }
          ],
          "contourcarpet": [
           {
            "colorbar": {
             "outlinewidth": 0,
             "ticks": ""
            },
            "type": "contourcarpet"
           }
          ],
          "heatmap": [
           {
            "colorbar": {
             "outlinewidth": 0,
             "ticks": ""
            },
            "colorscale": [
             [
              0,
              "#0d0887"
             ],
             [
              0.1111111111111111,
              "#46039f"
             ],
             [
              0.2222222222222222,
              "#7201a8"
             ],
             [
              0.3333333333333333,
              "#9c179e"
             ],
             [
              0.4444444444444444,
              "#bd3786"
             ],
             [
              0.5555555555555556,
              "#d8576b"
             ],
             [
              0.6666666666666666,
              "#ed7953"
             ],
             [
              0.7777777777777778,
              "#fb9f3a"
             ],
             [
              0.8888888888888888,
              "#fdca26"
             ],
             [
              1,
              "#f0f921"
             ]
            ],
            "type": "heatmap"
           }
          ],
          "heatmapgl": [
           {
            "colorbar": {
             "outlinewidth": 0,
             "ticks": ""
            },
            "colorscale": [
             [
              0,
              "#0d0887"
             ],
             [
              0.1111111111111111,
              "#46039f"
             ],
             [
              0.2222222222222222,
              "#7201a8"
             ],
             [
              0.3333333333333333,
              "#9c179e"
             ],
             [
              0.4444444444444444,
              "#bd3786"
             ],
             [
              0.5555555555555556,
              "#d8576b"
             ],
             [
              0.6666666666666666,
              "#ed7953"
             ],
             [
              0.7777777777777778,
              "#fb9f3a"
             ],
             [
              0.8888888888888888,
              "#fdca26"
             ],
             [
              1,
              "#f0f921"
             ]
            ],
            "type": "heatmapgl"
           }
          ],
          "histogram": [
           {
            "marker": {
             "colorbar": {
              "outlinewidth": 0,
              "ticks": ""
             }
            },
            "type": "histogram"
           }
          ],
          "histogram2d": [
           {
            "colorbar": {
             "outlinewidth": 0,
             "ticks": ""
            },
            "colorscale": [
             [
              0,
              "#0d0887"
             ],
             [
              0.1111111111111111,
              "#46039f"
             ],
             [
              0.2222222222222222,
              "#7201a8"
             ],
             [
              0.3333333333333333,
              "#9c179e"
             ],
             [
              0.4444444444444444,
              "#bd3786"
             ],
             [
              0.5555555555555556,
              "#d8576b"
             ],
             [
              0.6666666666666666,
              "#ed7953"
             ],
             [
              0.7777777777777778,
              "#fb9f3a"
             ],
             [
              0.8888888888888888,
              "#fdca26"
             ],
             [
              1,
              "#f0f921"
             ]
            ],
            "type": "histogram2d"
           }
          ],
          "histogram2dcontour": [
           {
            "colorbar": {
             "outlinewidth": 0,
             "ticks": ""
            },
            "colorscale": [
             [
              0,
              "#0d0887"
             ],
             [
              0.1111111111111111,
              "#46039f"
             ],
             [
              0.2222222222222222,
              "#7201a8"
             ],
             [
              0.3333333333333333,
              "#9c179e"
             ],
             [
              0.4444444444444444,
              "#bd3786"
             ],
             [
              0.5555555555555556,
              "#d8576b"
             ],
             [
              0.6666666666666666,
              "#ed7953"
             ],
             [
              0.7777777777777778,
              "#fb9f3a"
             ],
             [
              0.8888888888888888,
              "#fdca26"
             ],
             [
              1,
              "#f0f921"
             ]
            ],
            "type": "histogram2dcontour"
           }
          ],
          "mesh3d": [
           {
            "colorbar": {
             "outlinewidth": 0,
             "ticks": ""
            },
            "type": "mesh3d"
           }
          ],
          "parcoords": [
           {
            "line": {
             "colorbar": {
              "outlinewidth": 0,
              "ticks": ""
             }
            },
            "type": "parcoords"
           }
          ],
          "pie": [
           {
            "automargin": true,
            "type": "pie"
           }
          ],
          "scatter": [
           {
            "marker": {
             "colorbar": {
              "outlinewidth": 0,
              "ticks": ""
             }
            },
            "type": "scatter"
           }
          ],
          "scatter3d": [
           {
            "line": {
             "colorbar": {
              "outlinewidth": 0,
              "ticks": ""
             }
            },
            "marker": {
             "colorbar": {
              "outlinewidth": 0,
              "ticks": ""
             }
            },
            "type": "scatter3d"
           }
          ],
          "scattercarpet": [
           {
            "marker": {
             "colorbar": {
              "outlinewidth": 0,
              "ticks": ""
             }
            },
            "type": "scattercarpet"
           }
          ],
          "scattergeo": [
           {
            "marker": {
             "colorbar": {
              "outlinewidth": 0,
              "ticks": ""
             }
            },
            "type": "scattergeo"
           }
          ],
          "scattergl": [
           {
            "marker": {
             "colorbar": {
              "outlinewidth": 0,
              "ticks": ""
             }
            },
            "type": "scattergl"
           }
          ],
          "scattermapbox": [
           {
            "marker": {
             "colorbar": {
              "outlinewidth": 0,
              "ticks": ""
             }
            },
            "type": "scattermapbox"
           }
          ],
          "scatterpolar": [
           {
            "marker": {
             "colorbar": {
              "outlinewidth": 0,
              "ticks": ""
             }
            },
            "type": "scatterpolar"
           }
          ],
          "scatterpolargl": [
           {
            "marker": {
             "colorbar": {
              "outlinewidth": 0,
              "ticks": ""
             }
            },
            "type": "scatterpolargl"
           }
          ],
          "scatterternary": [
           {
            "marker": {
             "colorbar": {
              "outlinewidth": 0,
              "ticks": ""
             }
            },
            "type": "scatterternary"
           }
          ],
          "surface": [
           {
            "colorbar": {
             "outlinewidth": 0,
             "ticks": ""
            },
            "colorscale": [
             [
              0,
              "#0d0887"
             ],
             [
              0.1111111111111111,
              "#46039f"
             ],
             [
              0.2222222222222222,
              "#7201a8"
             ],
             [
              0.3333333333333333,
              "#9c179e"
             ],
             [
              0.4444444444444444,
              "#bd3786"
             ],
             [
              0.5555555555555556,
              "#d8576b"
             ],
             [
              0.6666666666666666,
              "#ed7953"
             ],
             [
              0.7777777777777778,
              "#fb9f3a"
             ],
             [
              0.8888888888888888,
              "#fdca26"
             ],
             [
              1,
              "#f0f921"
             ]
            ],
            "type": "surface"
           }
          ],
          "table": [
           {
            "cells": {
             "fill": {
              "color": "#EBF0F8"
             },
             "line": {
              "color": "white"
             }
            },
            "header": {
             "fill": {
              "color": "#C8D4E3"
             },
             "line": {
              "color": "white"
             }
            },
            "type": "table"
           }
          ]
         },
         "layout": {
          "annotationdefaults": {
           "arrowcolor": "#2a3f5f",
           "arrowhead": 0,
           "arrowwidth": 1
          },
          "coloraxis": {
           "colorbar": {
            "outlinewidth": 0,
            "ticks": ""
           }
          },
          "colorscale": {
           "diverging": [
            [
             0,
             "#8e0152"
            ],
            [
             0.1,
             "#c51b7d"
            ],
            [
             0.2,
             "#de77ae"
            ],
            [
             0.3,
             "#f1b6da"
            ],
            [
             0.4,
             "#fde0ef"
            ],
            [
             0.5,
             "#f7f7f7"
            ],
            [
             0.6,
             "#e6f5d0"
            ],
            [
             0.7,
             "#b8e186"
            ],
            [
             0.8,
             "#7fbc41"
            ],
            [
             0.9,
             "#4d9221"
            ],
            [
             1,
             "#276419"
            ]
           ],
           "sequential": [
            [
             0,
             "#0d0887"
            ],
            [
             0.1111111111111111,
             "#46039f"
            ],
            [
             0.2222222222222222,
             "#7201a8"
            ],
            [
             0.3333333333333333,
             "#9c179e"
            ],
            [
             0.4444444444444444,
             "#bd3786"
            ],
            [
             0.5555555555555556,
             "#d8576b"
            ],
            [
             0.6666666666666666,
             "#ed7953"
            ],
            [
             0.7777777777777778,
             "#fb9f3a"
            ],
            [
             0.8888888888888888,
             "#fdca26"
            ],
            [
             1,
             "#f0f921"
            ]
           ],
           "sequentialminus": [
            [
             0,
             "#0d0887"
            ],
            [
             0.1111111111111111,
             "#46039f"
            ],
            [
             0.2222222222222222,
             "#7201a8"
            ],
            [
             0.3333333333333333,
             "#9c179e"
            ],
            [
             0.4444444444444444,
             "#bd3786"
            ],
            [
             0.5555555555555556,
             "#d8576b"
            ],
            [
             0.6666666666666666,
             "#ed7953"
            ],
            [
             0.7777777777777778,
             "#fb9f3a"
            ],
            [
             0.8888888888888888,
             "#fdca26"
            ],
            [
             1,
             "#f0f921"
            ]
           ]
          },
          "colorway": [
           "#636efa",
           "#EF553B",
           "#00cc96",
           "#ab63fa",
           "#FFA15A",
           "#19d3f3",
           "#FF6692",
           "#B6E880",
           "#FF97FF",
           "#FECB52"
          ],
          "font": {
           "color": "#2a3f5f"
          },
          "geo": {
           "bgcolor": "white",
           "lakecolor": "white",
           "landcolor": "#E5ECF6",
           "showlakes": true,
           "showland": true,
           "subunitcolor": "white"
          },
          "hoverlabel": {
           "align": "left"
          },
          "hovermode": "closest",
          "mapbox": {
           "style": "light"
          },
          "paper_bgcolor": "white",
          "plot_bgcolor": "#E5ECF6",
          "polar": {
           "angularaxis": {
            "gridcolor": "white",
            "linecolor": "white",
            "ticks": ""
           },
           "bgcolor": "#E5ECF6",
           "radialaxis": {
            "gridcolor": "white",
            "linecolor": "white",
            "ticks": ""
           }
          },
          "scene": {
           "xaxis": {
            "backgroundcolor": "#E5ECF6",
            "gridcolor": "white",
            "gridwidth": 2,
            "linecolor": "white",
            "showbackground": true,
            "ticks": "",
            "zerolinecolor": "white"
           },
           "yaxis": {
            "backgroundcolor": "#E5ECF6",
            "gridcolor": "white",
            "gridwidth": 2,
            "linecolor": "white",
            "showbackground": true,
            "ticks": "",
            "zerolinecolor": "white"
           },
           "zaxis": {
            "backgroundcolor": "#E5ECF6",
            "gridcolor": "white",
            "gridwidth": 2,
            "linecolor": "white",
            "showbackground": true,
            "ticks": "",
            "zerolinecolor": "white"
           }
          },
          "shapedefaults": {
           "line": {
            "color": "#2a3f5f"
           }
          },
          "ternary": {
           "aaxis": {
            "gridcolor": "white",
            "linecolor": "white",
            "ticks": ""
           },
           "baxis": {
            "gridcolor": "white",
            "linecolor": "white",
            "ticks": ""
           },
           "bgcolor": "#E5ECF6",
           "caxis": {
            "gridcolor": "white",
            "linecolor": "white",
            "ticks": ""
           }
          },
          "title": {
           "x": 0.05
          },
          "xaxis": {
           "automargin": true,
           "gridcolor": "white",
           "linecolor": "white",
           "ticks": "",
           "title": {
            "standoff": 15
           },
           "zerolinecolor": "white",
           "zerolinewidth": 2
          },
          "yaxis": {
           "automargin": true,
           "gridcolor": "white",
           "linecolor": "white",
           "ticks": "",
           "title": {
            "standoff": 15
           },
           "zerolinecolor": "white",
           "zerolinewidth": 2
          }
         }
        },
        "title": {
         "text": "Budget vs Profit by Rating"
        },
        "width": 1000,
        "xaxis": {
         "anchor": "y",
         "domain": [
          0,
          0.45
         ],
         "title": {
          "text": "Budget"
         }
        },
        "xaxis2": {
         "anchor": "y2",
         "domain": [
          0.55,
          1
         ],
         "title": {
          "text": "Budget"
         }
        },
        "xaxis3": {
         "anchor": "y3",
         "domain": [
          0,
          0.45
         ],
         "title": {
          "text": "Budget"
         }
        },
        "xaxis4": {
         "anchor": "y4",
         "domain": [
          0.55,
          1
         ],
         "title": {
          "text": "Budget"
         }
        },
        "yaxis": {
         "anchor": "x",
         "domain": [
          0.625,
          1
         ],
         "title": {
          "text": "Profit"
         }
        },
        "yaxis2": {
         "anchor": "x2",
         "domain": [
          0.625,
          1
         ],
         "title": {
          "text": "Profit"
         }
        },
        "yaxis3": {
         "anchor": "x3",
         "domain": [
          0,
          0.375
         ],
         "title": {
          "text": "Profit"
         }
        },
        "yaxis4": {
         "anchor": "x4",
         "domain": [
          0,
          0.375
         ],
         "title": {
          "text": "Profit"
         }
        }
       }
      },
      "text/html": [
       "<div>\n",
       "        \n",
       "        \n",
       "            <div id=\"ec5e6706-553f-4c76-8dce-6285d5597992\" class=\"plotly-graph-div\" style=\"height:800px; width:1000px;\"></div>\n",
       "            <script type=\"text/javascript\">\n",
       "                require([\"plotly\"], function(Plotly) {\n",
       "                    window.PLOTLYENV=window.PLOTLYENV || {};\n",
       "                    \n",
       "                if (document.getElementById(\"ec5e6706-553f-4c76-8dce-6285d5597992\")) {\n",
       "                    Plotly.newPlot(\n",
       "                        'ec5e6706-553f-4c76-8dce-6285d5597992',\n",
       "                        [{\"hovertext\": [\"The Gallows\", \"Fifty Shades of Grey\", \"The Devil Inside\", \"Unfriended\", \"Paranormal Activity 2\", \"Get Out\", \"Paranormal Activity 3\", \"Annabelle\", \"The Purge\", \"The King's Speech\", \"Paranormal Activity 4\", \"Sinister\", \"Black Swan\", \"Halloween\", \"Dope\", \"Your Sister's Sister\", \"The Conjuring\", \"Magic Mike\", \"A Haunted House\", \"Annabelle: Creation\", \"It\", \"A Ghost Story\", \"Paranormal Activity: The Marked Ones\", \"Moonlight\", \"Unfriended: Dark Web\", \"Sleight\", \"Don't Breathe\", \"Whiplash\", \"Neighbors\", \"Hello, My Name Is Doris\", \"Deadpool\", \"The Boy Next Door\", \"Us\", \"The Purge: Anarchy\", \"Ma\", \"Boyhood\", \"A Star Is Born\", \"Grandma\", \"The Purge: Election Year\", \"The Gift\", \"The Witch\", \"Lucy\", \"Silver Linings Playbook\", \"The Big Sick\", \"Dallas Buyers Club\", \"Ted\", \"No Escape\", \"It Follows\", \"Bad Teacher\", \"The Sessions\", \"Call Me by Your Name\", \"The First Purge\", \"Jigsaw\", \"Bellflower\", \"Monsters\", \"Jackass Presents: Bad Grandpa\", \"Meet the Blacks\", \"The Shape of Water\", \"The Kids Are All Right\", \"Buried\", \"Ready or Not\", \"Unsane\", \"12 Years a Slave\", \"American Sniper\", \"Bad Moms\", \"Blair Witch\", \"Oculus\", \"The Descendants\", \"Bridesmaids\", \"Manchester by the Sea\", \"Jackass 3D\", \"Project X\", \"As Above, So Below\", \"I Am Not Your Negro\", \"Silent House\", \"Dirty Grandpa\", \"Tangerine\", \"Let's Be Cops\", \"The Conjuring 2\", \"Hereditary\", \"Magic Mike XXL\", \"Begin Again\", \"End of Watch\", \"Paranormal Activity: The Ghost Dimension\", \"Hustlers\", \"Resident Evil: The Final Chapter\", \"Annabelle Comes Home\", \"Girls Trip\", \"Sausage Party\", \"The Hangover Part II\", \"We're the Millers\", \"About Time\", \"Straight Outta Compton\", \"K-12\", \"Before Midnight\", \"Fifty Shades Darker\", \"Winter's Bone\", \"Act of Valor\", \"Crawl\", \"Fifty Shades Freed\"], \"mode\": \"markers\", \"name\": \"R\", \"type\": \"scatter\", \"x\": [100000, 4000000, 1000000, 1000000, 3000000, 4500000, 5000000, 6500000, 3000000, 15000000, 5000000, 3000000, 13000000, 10000000, 700000, 125000, 13000000, 7000000, 2500000, 15000000, 35000000, 100000, 5000000, 4000000, 1000000, 250000, 9900000, 3300000, 18000000, 1000000, 58000000, 4000000, 20000000, 9000000, 5000000, 4000000, 36000000, 600000, 10000000, 5000000, 3500000, 40000000, 21000000, 5000000, 5000000, 50000000, 5000000, 2000000, 20000000, 1000000, 4000000, 13000000, 10000000, 17000, 500000, 15000000, 900000, 19500000, 3500000, 1987650, 6000000, 1500000, 20000000, 58800000, 20000000, 5000000, 5000000, 20000000, 32500000, 9000000, 20000000, 12000000, 5000000, 1000000, 2000000, 11500000, 100000, 17000000, 40000000, 10000000, 14800000, 8000000, 7000000, 10000000, 20000000, 40000000, 30000000, 19000000, 19000000, 80000000, 37000000, 12000000, 28000000, 50000, 3000000, 55000000, 2000000, 12000000, 13500000, 55000000], \"xaxis\": \"x\", \"y\": [42864410, 565651467, 100758490, 61882090, 174512032, 250907969, 202039844, 250547661, 86328627, 408999102, 137802657, 79515113, 316398046, 245485178, 17286781, 3117802, 306494638, 160739368, 57659584, 291515884, 665381748, 1851683, 85894962, 61336603, 15024987, 3739705, 147930487, 45682041, 252665134, 13659448, 724612155, 48425855, 235184580, 102928365, 56105672, 44137666, 400188866, 6605073, 108587880, 53978653, 36923945, 418863600, 215412453, 51411585, 50736588, 499368315, 49418872, 19528593, 196197492, 9656155, 37887595, 124056262, 92952888, 155935, 4560438, 136826547, 8197072, 175833312, 31205850, 17452114, 51615777, 12793601, 167733202, 488626372, 163936074, 40173154, 39446287, 157243185, 255883523, 69988148, 151685792, 90731865, 36898409, 7345298, 14527747, 82573028, 714868, 121224951, 280392818, 70200936, 103013057, 55464861, 48078146, 68903124, 137563598, 272242626, 201252591, 121552359, 121705322, 506764305, 232994119, 75100449, 173634991, 309377, 17994648, 326545846, 11796834, 70497035, 78042097, 316985018], \"yaxis\": \"y\"}, {\"hovertext\": [\"Arrival\", \"Catfish\", \"The Quiet Ones\", \"Snow Flower and the Secret Fan\", \"Searching\", \"Insidious\", \"The Woman in Black 2: Angel of Death\", \"The Last Exorcism\", \"Like Crazy\", \"Courageous\", \"Split\", \"Lights Out\", \"Truth or Dare\", \"Happy Death Day\", \"The Fault in Our Stars\", \"Ouija\", \"A Quiet Place\", \"The Visit\", \"Another Earth\", \"Escape Room\", \"Bohemian Rhapsody\", \"Insidious: The Last Key\", \"The Imitation Game\", \"La La Land\", \"Green Book\", \"The Best Exotic Marigold Hotel\", \"Life in a Day\", \"Winchester\", \"Glass\", \"The Grace Card\", \"Beasts of the Southern Wild\", \"Lion\", \"The Lazarus Effect\", \"47 Meters Down\", \"Insidious: Chapter 3\", \"Jurassic World\", \"Harry Potter and the Deathly Hallows: Part 2\", \"Jumanji: Welcome to the Jungle\", \"Book Club\", \"Me Before You\", \"The Twilight Saga: Eclipse\", \"The Maze Runner\", \"Pitch Perfect 2\", \"Mama\", \"Easy A\", \"The Hunger Games\", \"Ouija: Origin of Evil\", \"Hunt for the Wilderpeople\", \"The Artist\", \"Still Alice\", \"The Iron Lady\", \"The Help\", \"Chronicle\", \"Philomena\", \"Taken 2\", \"The Theory of Everything\", \"Think Like a Man\", \"Furious 7\", \"Crazy Rich Asians\", \"Dark Skies\", \"Avengers: Endgame\", \"Knives Out\", \"Loving Vincent\", \"The Woman in Black\", \"Overboard\", \"Captain Marvel\", \"Countdown\", \"10 Cloverfield Lane\", \"Venom\", \"Les Mis\\u00e9rables\", \"Happy Death Day 2U\", \"Aquaman\", \"Paper Towns\", \"Love & Friendship\", \"Spider-Man: Far from Home\", \"If I Stay\", \"The Shallows\", \"Gravity\", \"Lowriders\", \"The Twilight Saga: Breaking Dawn - Part 2\", \"The Avengers\", \"Avengers: Infinity War\", \"Taken 3\", \"Pitch Perfect\", \"Black Panther\", \"Skyline\", \"Deadpool 2\", \"The Hunger Games: Catching Fire\", \"True Grit\", \"The Vow\", \"The Twilight Saga: Breaking Dawn - Part 1\", \"Jojo Rabbit\", \"The Boy\", \"House at the End of the Street\", \"Murder on the Orient Express\", \"Jumanji: The Next Level\", \"Devil\", \"Ride Along\", \"Everything, Everything\", \"Gifted\"], \"mode\": \"markers\", \"name\": \"PG-13\", \"type\": \"scatter\", \"x\": [10000, 30000, 200000, 134005, 1000000, 1500000, 1000000, 1800000, 250000, 1000000, 9000000, 4900000, 3500000, 4800000, 12000000, 5000000, 17000000, 5000000, 100000, 9000000, 52000000, 10000000, 14000000, 30000000, 23000000, 10000000, 45202, 3500000, 20000000, 200000, 1800000, 12000000, 3300000, 5500000, 10000000, 150000000, 125000000, 90000000, 10000000, 20000000, 68000000, 34000000, 29000000, 15000000, 8000000, 75000000, 9000000, 2500000, 15000000, 5000000, 13000000, 25000000, 15000000, 12000000, 45000000, 15000000, 12000000, 190000000, 30000000, 3500000, 356000000, 40000000, 5500000, 17000000, 12000000, 152000000, 6500000, 15000000, 116000000, 61000000, 9000000, 160000000, 12000000, 3000000, 160000000, 11000000, 17000000, 105000000, 916000, 120000000, 220000000, 300000000, 48000000, 17000000, 200000000, 10000000, 110000000, 130000000, 38000000, 30000000, 110000000, 14000000, 10000000, 6900000, 55000000, 125000000, 10000000, 25000000, 10000000, 7000000], \"xaxis\": \"x2\", \"y\": [203378186, 3503711, 17635162, 11214200, 74462037, 98057032, 47854305, 67632527, 8779150, 34185884, 269454358, 143968835, 91830493, 120679266, 295166834, 98590271, 323939361, 93450062, 1838783, 146712077, 851655259, 157885588, 219555708, 416486224, 298752656, 126836156, 561967, 40519588, 226999039, 2230735, 19307746, 128312928, 35056892, 56687529, 102983889, 1520400637, 1216511219, 872077546, 94438188, 188314186, 630491347, 314319861, 258144079, 131428180, 67026216, 619394724, 72705746, 20019390, 118432856, 39779195, 102890699, 191639112, 111636097, 88129872, 331141306, 108726688, 84070507, 1325047671, 208532921, 24358103, 2441800564, 269232797, 36687665, 111955898, 79244913, 976274794, 41521766, 95216998, 740085151, 380809770, 55600152, 988461807, 73512300, 18401949, 971927996, 67274843, 102100758, 618192705, 5396033, 709746820, 1298812988, 1748359754, 278479141, 98350426, 1146913161, 56984887, 624546611, 735011746, 214276927, 166114570, 602205856, 76335025, 54188367, 37387131, 297789811, 671575993, 52695489, 129468902, 51621140, 36046590], \"yaxis\": \"y2\"}, {\"hovertext\": [\"War Room\", \"A Beautiful Day in the Neighborhood\", \"Minions\", \"Wonder\", \"2016: Obama's America\", \"Despicable Me 3\", \"Despicable Me 2\", \"The Secret Life of Pets\", \"Frozen II\", \"Downton Abbey\", \"Hidden Figures\", \"A Dog's Purpose\", \"Ice Age: Continental Drift\", \"The Karate Kid\", \"The Second Best Exotic Marigold Hotel\", \"Sing\", \"Heaven Is for Real\", \"Despicable Me\", \"The Lego Movie\", \"Show Dogs\", \"Peter Rabbit\", \"The Grinch\", \"Zootopia\", \"Hotel Transylvania 3: Summer Vacation\", \"The Lion King\", \"Incredibles 2\", \"Hotel Transylvania 2\", \"Aladdin\", \"Cinderella\", \"Paddington 2\", \"The Jungle Book\", \"An Inconvenient Sequel: Truth to Power\", \"The Secret Life of Pets 2\", \"Little Women\", \"The Greatest Showman\", \"Madagascar 3: Europe's Most Wanted\", \"Finding Dory\", \"Alice in Wonderland\", \"Paddington\", \"The Smurfs\", \"The Addams Family\", \"Life of Pi\", \"Diary of a Wimpy Kid\", \"The Lorax\", \"Inside Out\", \"God's Not Dead 2\", \"The Angry Birds Movie\", \"Planes\", \"Parental Guidance\", \"Forever My Girl\", \"Miracles from Heaven\", \"Coco\", \"Shrek Forever After\", \"A Dog's Way Home\", \"Kung Fu Panda 2\", \"Norm of the North\", \"The SpongeBob Movie: Sponge Out of Water\", \"The Croods\", \"The Emoji Movie\", \"How to Train Your Dragon 2\", \"Puss in Boots\", \"Into the Woods\", \"Shaun the Sheep Movie\", \"Journey 2: The Mysterious Island\", \"Hotel Transylvania\", \"The Boss Baby\", \"Maleficent\", \"Spider-Man: Into the Spider-Verse\", \"The Hundred-Foot Journey\", \"How to Train Your Dragon: The Hidden World\", \"Big Hero 6\", \"The Lego Batman Movie\", \"Ice Age: Collision Course\", \"God's Not Dead\", \"The Muppets\", \"Kung Fu Panda 3\", \"Alexander and the Terrible, Horrible, No Good, Very Bad Day\", \"Johnny English Reborn\", \"Earth to Echo\", \"Diary of a Wimpy Kid: Dog Days\", \"Diary of a Wimpy Kid: Rodrick Rules\", \"Mr. Popper's Penguins\", \"The Smurfs 2\", \"Captain Underpants: The First Epic Movie\", \"Smurfs: The Lost Village\", \"Ralph Breaks the Internet\", \"How to Train Your Dragon\", \"Planes: Fire & Rescue\", \"Hop\", \"The Nut Job\", \"The Adventures of Tintin\", \"Wreck-It Ralph\", \"Night at the Museum: Secret of the Tomb\", \"Paul Blart: Mall Cop 2\", \"Penguins of Madagascar\", \"Trolls\", \"Middle School: The Worst Years of My Life\", \"Goosebumps\", \"Katy Perry: Part of Me\", \"Mary Poppins Returns\"], \"mode\": \"markers\", \"name\": \"PG\", \"type\": \"scatter\", \"x\": [3000000, 4000000, 74000000, 20000000, 2500000, 80000000, 76000000, 75000000, 150000000, 20000000, 25000000, 22000000, 95000000, 40000000, 10000000, 75000000, 12000000, 69000000, 60000000, 5500000, 50000000, 75000000, 150000000, 80000000, 260000000, 200000000, 80000000, 183000000, 95000000, 40000000, 175000000, 1000000, 80000000, 40000000, 84000000, 145000000, 200000000, 200000000, 55000000, 110000000, 40000000, 120000000, 15000000, 70000000, 175000000, 5000000, 73000000, 50000000, 25000000, 3500000, 16000000, 175000000, 165000000, 18000000, 150000000, 7000000, 74000000, 135000000, 50000000, 145000000, 130000000, 50000000, 25000000, 79000000, 85000000, 125000000, 180000000, 90000000, 22000000, 129000000, 165000000, 80000000, 105000000, 17000000, 45000000, 145000000, 28000000, 45000000, 13000000, 22000000, 21000000, 55000000, 105000000, 38000000, 60000000, 175000000, 165000000, 50000000, 63000000, 42000000, 130000000, 165000000, 127000000, 38000000, 132000000, 125000000, 8500000, 58000000, 12000000, 130000000], \"xaxis\": \"x3\", \"y\": [70267874, 63760877, 1085398397, 285937718, 30949086, 954799409, 894766005, 800457937, 1300026933, 172949437, 210956898, 183035819, 782244782, 319126022, 75978266, 559151679, 89888019, 474113985, 408060692, 33656854, 301266433, 436595957, 873784195, 448583774, 1396943394, 1042805359, 394800000, 867693953, 447351353, 187978523, 791550600, 4433926, 350051293, 169101214, 350993183, 601921274, 828570889, 825467110, 227370135, 453749323, 163044905, 489016565, 61196538, 278840316, 682611174, 19487848, 279333929, 189258712, 94772232, 12876066, 57983003, 632082196, 587600867, 62708134, 515692281, 23734502, 251186032, 452204668, 167776646, 476537519, 424987477, 162902372, 81209378, 256260290, 273375603, 402965936, 578410378, 285540831, 67514453, 392799505, 492827828, 231950384, 303579038, 47667874, 120184237, 376170825, 72654149, 115078586, 32681062, 55229695, 51526996, 132361754, 242545360, 87427681, 137183546, 354323962, 329878759, 96965787, 120953723, 78885527, 243993951, 306222889, 236204635, 69588225, 241515621, 221864462, 14816139, 100260952, 20726956, 219537494], \"yaxis\": \"y3\"}, {\"hovertext\": [\"Logan\", \"Justin Bieber: Never Say Never\", \"Chimpanzee\", \"Toy Story 4\", \"Gnomeo & Juliet\", \"Rio\", \"Toy Story 3\", \"Rio 2\", \"Alvin and the Chipmunks: Chipwrecked\", \"Monsters University\", \"Cars 2\", \"The Peanuts Movie\", \"Cars 3\", \"Ramona and Beezus\", \"Winnie the Pooh\", \"Khumba\", \"The Young and Prodigious T.S. Spivet\"], \"mode\": \"markers\", \"name\": \"G\", \"type\": \"scatter\", \"x\": [135000, 13000000, 5000000, 175000000, 36000000, 90000000, 200000000, 103000000, 75000000, 200000000, 200000000, 99000000, 175000000, 15000000, 30000000, 20000000, 33000000], \"xaxis\": \"x4\", \"y\": [618886436, 86036827, 29823764, 898394593, 157967670, 393866518, 866969703, 395781117, 267695435, 543559607, 359852396, 147233113, 208930656, 12293743, 19871429, 7187375, -23505211], \"yaxis\": \"y4\"}],\n",
       "                        {\"annotations\": [{\"font\": {\"size\": 16}, \"showarrow\": false, \"text\": \"R - Budget vs Profit\", \"x\": 0.225, \"xanchor\": \"center\", \"xref\": \"paper\", \"y\": 1.0, \"yanchor\": \"bottom\", \"yref\": \"paper\"}, {\"font\": {\"size\": 16}, \"showarrow\": false, \"text\": \"PG-13 - Budget vs Profit\", \"x\": 0.775, \"xanchor\": \"center\", \"xref\": \"paper\", \"y\": 1.0, \"yanchor\": \"bottom\", \"yref\": \"paper\"}, {\"font\": {\"size\": 16}, \"showarrow\": false, \"text\": \"PG - Budget vs Profit\", \"x\": 0.225, \"xanchor\": \"center\", \"xref\": \"paper\", \"y\": 0.375, \"yanchor\": \"bottom\", \"yref\": \"paper\"}, {\"font\": {\"size\": 16}, \"showarrow\": false, \"text\": \"G - Budget vs Profit\", \"x\": 0.775, \"xanchor\": \"center\", \"xref\": \"paper\", \"y\": 0.375, \"yanchor\": \"bottom\", \"yref\": \"paper\"}], \"height\": 800, \"template\": {\"data\": {\"bar\": [{\"error_x\": {\"color\": \"#2a3f5f\"}, \"error_y\": {\"color\": \"#2a3f5f\"}, \"marker\": {\"line\": {\"color\": \"#E5ECF6\", \"width\": 0.5}}, \"type\": \"bar\"}], \"barpolar\": [{\"marker\": {\"line\": {\"color\": \"#E5ECF6\", \"width\": 0.5}}, \"type\": \"barpolar\"}], \"carpet\": [{\"aaxis\": {\"endlinecolor\": \"#2a3f5f\", \"gridcolor\": \"white\", \"linecolor\": \"white\", \"minorgridcolor\": \"white\", \"startlinecolor\": \"#2a3f5f\"}, \"baxis\": {\"endlinecolor\": \"#2a3f5f\", \"gridcolor\": \"white\", \"linecolor\": \"white\", \"minorgridcolor\": \"white\", \"startlinecolor\": \"#2a3f5f\"}, \"type\": \"carpet\"}], \"choropleth\": [{\"colorbar\": {\"outlinewidth\": 0, \"ticks\": \"\"}, \"type\": \"choropleth\"}], \"contour\": [{\"colorbar\": {\"outlinewidth\": 0, \"ticks\": \"\"}, \"colorscale\": [[0.0, \"#0d0887\"], [0.1111111111111111, \"#46039f\"], [0.2222222222222222, \"#7201a8\"], [0.3333333333333333, \"#9c179e\"], [0.4444444444444444, \"#bd3786\"], [0.5555555555555556, \"#d8576b\"], [0.6666666666666666, \"#ed7953\"], [0.7777777777777778, \"#fb9f3a\"], [0.8888888888888888, \"#fdca26\"], [1.0, \"#f0f921\"]], \"type\": \"contour\"}], \"contourcarpet\": [{\"colorbar\": {\"outlinewidth\": 0, \"ticks\": \"\"}, \"type\": \"contourcarpet\"}], \"heatmap\": [{\"colorbar\": {\"outlinewidth\": 0, \"ticks\": \"\"}, \"colorscale\": [[0.0, \"#0d0887\"], [0.1111111111111111, \"#46039f\"], [0.2222222222222222, \"#7201a8\"], [0.3333333333333333, \"#9c179e\"], [0.4444444444444444, \"#bd3786\"], [0.5555555555555556, \"#d8576b\"], [0.6666666666666666, \"#ed7953\"], [0.7777777777777778, \"#fb9f3a\"], [0.8888888888888888, \"#fdca26\"], [1.0, \"#f0f921\"]], \"type\": \"heatmap\"}], \"heatmapgl\": [{\"colorbar\": {\"outlinewidth\": 0, \"ticks\": \"\"}, \"colorscale\": [[0.0, \"#0d0887\"], [0.1111111111111111, \"#46039f\"], [0.2222222222222222, \"#7201a8\"], [0.3333333333333333, \"#9c179e\"], [0.4444444444444444, \"#bd3786\"], [0.5555555555555556, \"#d8576b\"], [0.6666666666666666, \"#ed7953\"], [0.7777777777777778, \"#fb9f3a\"], [0.8888888888888888, \"#fdca26\"], [1.0, \"#f0f921\"]], \"type\": \"heatmapgl\"}], \"histogram\": [{\"marker\": {\"colorbar\": {\"outlinewidth\": 0, \"ticks\": \"\"}}, \"type\": \"histogram\"}], \"histogram2d\": [{\"colorbar\": {\"outlinewidth\": 0, \"ticks\": \"\"}, \"colorscale\": [[0.0, \"#0d0887\"], [0.1111111111111111, \"#46039f\"], [0.2222222222222222, \"#7201a8\"], [0.3333333333333333, \"#9c179e\"], [0.4444444444444444, \"#bd3786\"], [0.5555555555555556, \"#d8576b\"], [0.6666666666666666, \"#ed7953\"], [0.7777777777777778, \"#fb9f3a\"], [0.8888888888888888, \"#fdca26\"], [1.0, \"#f0f921\"]], \"type\": \"histogram2d\"}], \"histogram2dcontour\": [{\"colorbar\": {\"outlinewidth\": 0, \"ticks\": \"\"}, \"colorscale\": [[0.0, \"#0d0887\"], [0.1111111111111111, \"#46039f\"], [0.2222222222222222, \"#7201a8\"], [0.3333333333333333, \"#9c179e\"], [0.4444444444444444, \"#bd3786\"], [0.5555555555555556, \"#d8576b\"], [0.6666666666666666, \"#ed7953\"], [0.7777777777777778, \"#fb9f3a\"], [0.8888888888888888, \"#fdca26\"], [1.0, \"#f0f921\"]], \"type\": \"histogram2dcontour\"}], \"mesh3d\": [{\"colorbar\": {\"outlinewidth\": 0, \"ticks\": \"\"}, \"type\": \"mesh3d\"}], \"parcoords\": [{\"line\": {\"colorbar\": {\"outlinewidth\": 0, \"ticks\": \"\"}}, \"type\": \"parcoords\"}], \"pie\": [{\"automargin\": true, \"type\": \"pie\"}], \"scatter\": [{\"marker\": {\"colorbar\": {\"outlinewidth\": 0, \"ticks\": \"\"}}, \"type\": \"scatter\"}], \"scatter3d\": [{\"line\": {\"colorbar\": {\"outlinewidth\": 0, \"ticks\": \"\"}}, \"marker\": {\"colorbar\": {\"outlinewidth\": 0, \"ticks\": \"\"}}, \"type\": \"scatter3d\"}], \"scattercarpet\": [{\"marker\": {\"colorbar\": {\"outlinewidth\": 0, \"ticks\": \"\"}}, \"type\": \"scattercarpet\"}], \"scattergeo\": [{\"marker\": {\"colorbar\": {\"outlinewidth\": 0, \"ticks\": \"\"}}, \"type\": \"scattergeo\"}], \"scattergl\": [{\"marker\": {\"colorbar\": {\"outlinewidth\": 0, \"ticks\": \"\"}}, \"type\": \"scattergl\"}], \"scattermapbox\": [{\"marker\": {\"colorbar\": {\"outlinewidth\": 0, \"ticks\": \"\"}}, \"type\": \"scattermapbox\"}], \"scatterpolar\": [{\"marker\": {\"colorbar\": {\"outlinewidth\": 0, \"ticks\": \"\"}}, \"type\": \"scatterpolar\"}], \"scatterpolargl\": [{\"marker\": {\"colorbar\": {\"outlinewidth\": 0, \"ticks\": \"\"}}, \"type\": \"scatterpolargl\"}], \"scatterternary\": [{\"marker\": {\"colorbar\": {\"outlinewidth\": 0, \"ticks\": \"\"}}, \"type\": \"scatterternary\"}], \"surface\": [{\"colorbar\": {\"outlinewidth\": 0, \"ticks\": \"\"}, \"colorscale\": [[0.0, \"#0d0887\"], [0.1111111111111111, \"#46039f\"], [0.2222222222222222, \"#7201a8\"], [0.3333333333333333, \"#9c179e\"], [0.4444444444444444, \"#bd3786\"], [0.5555555555555556, \"#d8576b\"], [0.6666666666666666, \"#ed7953\"], [0.7777777777777778, \"#fb9f3a\"], [0.8888888888888888, \"#fdca26\"], [1.0, \"#f0f921\"]], \"type\": \"surface\"}], \"table\": [{\"cells\": {\"fill\": {\"color\": \"#EBF0F8\"}, \"line\": {\"color\": \"white\"}}, \"header\": {\"fill\": {\"color\": \"#C8D4E3\"}, \"line\": {\"color\": \"white\"}}, \"type\": \"table\"}]}, \"layout\": {\"annotationdefaults\": {\"arrowcolor\": \"#2a3f5f\", \"arrowhead\": 0, \"arrowwidth\": 1}, \"coloraxis\": {\"colorbar\": {\"outlinewidth\": 0, \"ticks\": \"\"}}, \"colorscale\": {\"diverging\": [[0, \"#8e0152\"], [0.1, \"#c51b7d\"], [0.2, \"#de77ae\"], [0.3, \"#f1b6da\"], [0.4, \"#fde0ef\"], [0.5, \"#f7f7f7\"], [0.6, \"#e6f5d0\"], [0.7, \"#b8e186\"], [0.8, \"#7fbc41\"], [0.9, \"#4d9221\"], [1, \"#276419\"]], \"sequential\": [[0.0, \"#0d0887\"], [0.1111111111111111, \"#46039f\"], [0.2222222222222222, \"#7201a8\"], [0.3333333333333333, \"#9c179e\"], [0.4444444444444444, \"#bd3786\"], [0.5555555555555556, \"#d8576b\"], [0.6666666666666666, \"#ed7953\"], [0.7777777777777778, \"#fb9f3a\"], [0.8888888888888888, \"#fdca26\"], [1.0, \"#f0f921\"]], \"sequentialminus\": [[0.0, \"#0d0887\"], [0.1111111111111111, \"#46039f\"], [0.2222222222222222, \"#7201a8\"], [0.3333333333333333, \"#9c179e\"], [0.4444444444444444, \"#bd3786\"], [0.5555555555555556, \"#d8576b\"], [0.6666666666666666, \"#ed7953\"], [0.7777777777777778, \"#fb9f3a\"], [0.8888888888888888, \"#fdca26\"], [1.0, \"#f0f921\"]]}, \"colorway\": [\"#636efa\", \"#EF553B\", \"#00cc96\", \"#ab63fa\", \"#FFA15A\", \"#19d3f3\", \"#FF6692\", \"#B6E880\", \"#FF97FF\", \"#FECB52\"], \"font\": {\"color\": \"#2a3f5f\"}, \"geo\": {\"bgcolor\": \"white\", \"lakecolor\": \"white\", \"landcolor\": \"#E5ECF6\", \"showlakes\": true, \"showland\": true, \"subunitcolor\": \"white\"}, \"hoverlabel\": {\"align\": \"left\"}, \"hovermode\": \"closest\", \"mapbox\": {\"style\": \"light\"}, \"paper_bgcolor\": \"white\", \"plot_bgcolor\": \"#E5ECF6\", \"polar\": {\"angularaxis\": {\"gridcolor\": \"white\", \"linecolor\": \"white\", \"ticks\": \"\"}, \"bgcolor\": \"#E5ECF6\", \"radialaxis\": {\"gridcolor\": \"white\", \"linecolor\": \"white\", \"ticks\": \"\"}}, \"scene\": {\"xaxis\": {\"backgroundcolor\": \"#E5ECF6\", \"gridcolor\": \"white\", \"gridwidth\": 2, \"linecolor\": \"white\", \"showbackground\": true, \"ticks\": \"\", \"zerolinecolor\": \"white\"}, \"yaxis\": {\"backgroundcolor\": \"#E5ECF6\", \"gridcolor\": \"white\", \"gridwidth\": 2, \"linecolor\": \"white\", \"showbackground\": true, \"ticks\": \"\", \"zerolinecolor\": \"white\"}, \"zaxis\": {\"backgroundcolor\": \"#E5ECF6\", \"gridcolor\": \"white\", \"gridwidth\": 2, \"linecolor\": \"white\", \"showbackground\": true, \"ticks\": \"\", \"zerolinecolor\": \"white\"}}, \"shapedefaults\": {\"line\": {\"color\": \"#2a3f5f\"}}, \"ternary\": {\"aaxis\": {\"gridcolor\": \"white\", \"linecolor\": \"white\", \"ticks\": \"\"}, \"baxis\": {\"gridcolor\": \"white\", \"linecolor\": \"white\", \"ticks\": \"\"}, \"bgcolor\": \"#E5ECF6\", \"caxis\": {\"gridcolor\": \"white\", \"linecolor\": \"white\", \"ticks\": \"\"}}, \"title\": {\"x\": 0.05}, \"xaxis\": {\"automargin\": true, \"gridcolor\": \"white\", \"linecolor\": \"white\", \"ticks\": \"\", \"title\": {\"standoff\": 15}, \"zerolinecolor\": \"white\", \"zerolinewidth\": 2}, \"yaxis\": {\"automargin\": true, \"gridcolor\": \"white\", \"linecolor\": \"white\", \"ticks\": \"\", \"title\": {\"standoff\": 15}, \"zerolinecolor\": \"white\", \"zerolinewidth\": 2}}}, \"title\": {\"text\": \"Budget vs Profit by Rating\"}, \"width\": 1000, \"xaxis\": {\"anchor\": \"y\", \"domain\": [0.0, 0.45], \"title\": {\"text\": \"Budget\"}}, \"xaxis2\": {\"anchor\": \"y2\", \"domain\": [0.55, 1.0], \"title\": {\"text\": \"Budget\"}}, \"xaxis3\": {\"anchor\": \"y3\", \"domain\": [0.0, 0.45], \"title\": {\"text\": \"Budget\"}}, \"xaxis4\": {\"anchor\": \"y4\", \"domain\": [0.55, 1.0], \"title\": {\"text\": \"Budget\"}}, \"yaxis\": {\"anchor\": \"x\", \"domain\": [0.625, 1.0], \"title\": {\"text\": \"Profit\"}}, \"yaxis2\": {\"anchor\": \"x2\", \"domain\": [0.625, 1.0], \"title\": {\"text\": \"Profit\"}}, \"yaxis3\": {\"anchor\": \"x3\", \"domain\": [0.0, 0.375], \"title\": {\"text\": \"Profit\"}}, \"yaxis4\": {\"anchor\": \"x4\", \"domain\": [0.0, 0.375], \"title\": {\"text\": \"Profit\"}}},\n",
       "                        {\"responsive\": true}\n",
       "                    ).then(function(){\n",
       "                            \n",
       "var gd = document.getElementById('ec5e6706-553f-4c76-8dce-6285d5597992');\n",
       "var x = new MutationObserver(function (mutations, observer) {{\n",
       "        var display = window.getComputedStyle(gd).display;\n",
       "        if (!display || display === 'none') {{\n",
       "            console.log([gd, 'removed!']);\n",
       "            Plotly.purge(gd);\n",
       "            observer.disconnect();\n",
       "        }}\n",
       "}});\n",
       "\n",
       "// Listen for the removal of the full notebook cells\n",
       "var notebookContainer = gd.closest('#notebook-container');\n",
       "if (notebookContainer) {{\n",
       "    x.observe(notebookContainer, {childList: true});\n",
       "}}\n",
       "\n",
       "// Listen for the clearing of the current output cell\n",
       "var outputEl = gd.closest('.output');\n",
       "if (outputEl) {{\n",
       "    x.observe(outputEl, {childList: true});\n",
       "}}\n",
       "\n",
       "                        })\n",
       "                };\n",
       "                });\n",
       "            </script>\n",
       "        </div>"
      ]
     },
     "metadata": {},
     "output_type": "display_data"
    }
   ],
   "source": [
    "## Top 100 films of each rating\n",
    "r_rating = top_100[top_100['rating'] == 'R'].head(100)\n",
    "pg13_rating = top_100[top_100['rating'] == 'PG-13'].head(100)\n",
    "pg_rating = top_100[top_100['rating'] == 'PG'].head(100)\n",
    "g_rating = top_100[top_100['rating'] == 'G'].head(100)\n",
    "\n",
    "\n",
    "## Creating the subplot figure for plotly\n",
    "fig = make_subplots(\n",
    "    rows=2, cols=2,\n",
    "    subplot_titles=('R - Budget vs Profit', 'PG-13 - Budget vs Profit', 'PG - Budget vs Profit',\n",
    "                    'G - Budget vs Profit'))\n",
    "\n",
    "## Creating each scatter for the subplot\n",
    "fig.add_trace(go.Scatter(x=r_rating['budget'], y=r_rating['Profit'], \n",
    "                         mode='markers', name='R', hovertext=r_rating['title']), \n",
    "                         row=1, col=1)\n",
    "\n",
    "fig.add_trace(go.Scatter(x=pg13_rating['budget'], y=pg13_rating['Profit'], \n",
    "                         mode='markers', name='PG-13', hovertext=pg13_rating['title']), \n",
    "                         row=1, col=2)\n",
    "\n",
    "fig.add_trace(go.Scatter(x=pg_rating['budget'], y=pg_rating['Profit'], \n",
    "                         mode='markers', name='PG', hovertext=pg_rating['title']), \n",
    "                         row=2, col=1)\n",
    "\n",
    "fig.add_trace(go.Scatter(x=g_rating['budget'], y=g_rating['Profit'], \n",
    "                         mode='markers', name='G', hovertext=g_rating['title']), \n",
    "                         row=2, col=2)\n",
    "\n",
    "## Fixing the X and Y axes\n",
    "fig.update_xaxes(title_text=\"Budget\", row=1, col=1)\n",
    "fig.update_xaxes(title_text=\"Budget\", row=1, col=2)\n",
    "fig.update_xaxes(title_text=\"Budget\", row=2, col=1)\n",
    "fig.update_xaxes(title_text=\"Budget\", row=2, col=2)\n",
    "\n",
    "fig.update_yaxes(title_text=\"Profit\", row=1, col=1)\n",
    "fig.update_yaxes(title_text=\"Profit\", row=1, col=2)\n",
    "fig.update_yaxes(title_text=\"Profit\", row=2, col=1)\n",
    "fig.update_yaxes(title_text=\"Profit\", row=2, col=2)\n",
    "\n",
    "## Updating the layout information\n",
    "fig.update_layout(height=800, width=1000,\n",
    "                  title_text=\"Budget vs Profit by Rating\")\n",
    "\n",
    "fig.show()"
   ]
  },
  {
   "cell_type": "markdown",
   "metadata": {
    "ExecuteTime": {
     "end_time": "2020-07-30T13:52:15.824697Z",
     "start_time": "2020-07-30T13:52:15.822696Z"
    }
   },
   "source": [
    "Narrowing the purview of the analyses helps to focus in the data, giving us solid recommendations for what films are likely to produce the greatest Return on Investment.\n",
    "\n",
    "R rated films are the highest and PG-13 rated films are very marginally behind them. While the R rated films provide the general highest Return on Investment, PG-13 films offer the highest potential audience for the film and therefore a greater higher monetary return. "
   ]
  },
  {
   "cell_type": "markdown",
   "metadata": {},
   "source": [
    "## Return on Investment and Profit by Genre"
   ]
  },
  {
   "cell_type": "code",
   "execution_count": 35,
   "metadata": {
    "ExecuteTime": {
     "end_time": "2020-08-01T18:30:58.165746Z",
     "start_time": "2020-08-01T18:30:58.150734Z"
    },
    "scrolled": true
   },
   "outputs": [],
   "source": [
    "## Creates an entry for each genre in a list of a given film's genres column\n",
    "top100_genre = top_100.explode('genres')\n",
    "## Creates a separate year column\n",
    "top100_genre['year'] = top100_genre['release_date'].dt.year"
   ]
  },
  {
   "cell_type": "code",
   "execution_count": 76,
   "metadata": {
    "ExecuteTime": {
     "end_time": "2020-08-01T23:52:14.577041Z",
     "start_time": "2020-08-01T23:52:12.248295Z"
    }
   },
   "outputs": [],
   "source": [
    "## Group films by year and genre\n",
    "top100group = top100_genre.groupby(['genres', 'year']).describe()"
   ]
  },
  {
   "cell_type": "code",
   "execution_count": 81,
   "metadata": {
    "ExecuteTime": {
     "end_time": "2020-08-02T01:07:09.041746Z",
     "start_time": "2020-08-02T01:07:08.703439Z"
    },
    "scrolled": true
   },
   "outputs": [
    {
     "data": {
      "application/vnd.plotly.v1+json": {
       "config": {
        "plotlyServerURL": "https://plot.ly"
       },
       "data": [
        {
         "hovertemplate": "Genre=Comedy<br>Year=%{x}<br>Median_Profit=%{y}<extra></extra>",
         "legendgroup": "Comedy",
         "line": {
          "color": "#636efa",
          "dash": "solid"
         },
         "mode": "lines",
         "name": "Comedy",
         "orientation": "v",
         "showlegend": true,
         "type": "scatter",
         "x": [
          2010,
          2011,
          2012,
          2013,
          2014,
          2015,
          2016,
          2017,
          2018,
          2019
         ],
         "xaxis": "x17",
         "y": [
          26547382.5,
          31558601,
          27915971.5,
          55464861,
          47722763,
          30753191.5,
          23758586,
          102560428,
          72779714,
          71616764
         ],
         "yaxis": "y17"
        },
        {
         "hovertemplate": "Genre=Drama<br>Year=%{x}<br>Median_Profit=%{y}<extra></extra>",
         "legendgroup": "Drama",
         "line": {
          "color": "#EF553B",
          "dash": "solid"
         },
         "mode": "lines",
         "name": "Drama",
         "orientation": "v",
         "showlegend": true,
         "type": "scatter",
         "x": [
          2010,
          2011,
          2012,
          2013,
          2014,
          2015,
          2016,
          2017,
          2018,
          2019
         ],
         "xaxis": "x18",
         "y": [
          5429471,
          8779150,
          10293982,
          5341388.5,
          15407535.5,
          16606743,
          11080196.5,
          13814102,
          20636496.5,
          30417849.5
         ],
         "yaxis": "y18"
        },
        {
         "hovertemplate": "Genre=Family<br>Year=%{x}<br>Median_Profit=%{y}<extra></extra>",
         "legendgroup": "Family",
         "line": {
          "color": "#00cc96",
          "dash": "solid"
         },
         "mode": "lines",
         "name": "Family",
         "orientation": "v",
         "showlegend": true,
         "type": "scatter",
         "x": [
          2010,
          2011,
          2012,
          2013,
          2014,
          2015,
          2016,
          2017,
          2018,
          2019
         ],
         "xaxis": "x19",
         "y": [
          125382724,
          100288681,
          98018522,
          128710498.5,
          96965787,
          106708524.5,
          121422988.5,
          183035819,
          122744377,
          173164763
         ],
         "yaxis": "y19"
        },
        {
         "hovertemplate": "Genre=Adventure<br>Year=%{x}<br>Median_Profit=%{y}<extra></extra>",
         "legendgroup": "Adventure",
         "line": {
          "color": "#ab63fa",
          "dash": "solid"
         },
         "mode": "lines",
         "name": "Adventure",
         "orientation": "v",
         "showlegend": true,
         "type": "scatter",
         "x": [
          2010,
          2011,
          2012,
          2013,
          2014,
          2015,
          2016,
          2017,
          2018,
          2019
         ],
         "xaxis": "x20",
         "y": [
          136251798,
          110724603,
          214975955,
          103991818.5,
          234200044,
          81209378,
          115697856,
          261118277,
          203378186,
          270791316
         ],
         "yaxis": "y20"
        },
        {
         "hovertemplate": "Genre=Horror<br>Year=%{x}<br>Median_Profit=%{y}<extra></extra>",
         "legendgroup": "Horror",
         "line": {
          "color": "#FFA15A",
          "dash": "solid"
         },
         "mode": "lines",
         "name": "Horror",
         "orientation": "v",
         "showlegend": true,
         "type": "scatter",
         "x": [
          2010,
          2011,
          2012,
          2013,
          2014,
          2015,
          2016,
          2017,
          2018,
          2019
         ],
         "xaxis": "x13",
         "y": [
          34806823,
          13363927,
          47471580,
          69101268,
          17635162,
          39894177.5,
          40173154,
          56687529,
          37918058,
          55600152
         ],
         "yaxis": "y13"
        },
        {
         "hovertemplate": "Genre=Thriller<br>Year=%{x}<br>Median_Profit=%{y}<extra></extra>",
         "legendgroup": "Thriller",
         "line": {
          "color": "#19d3f3",
          "dash": "solid"
         },
         "mode": "lines",
         "name": "Thriller",
         "orientation": "v",
         "showlegend": true,
         "type": "scatter",
         "x": [
          2010,
          2011,
          2012,
          2013,
          2014,
          2015,
          2016,
          2017,
          2018,
          2019
         ],
         "xaxis": "x14",
         "y": [
          24325809.5,
          15761737.5,
          12948113,
          29562255.5,
          22947718,
          29401758,
          6898293,
          26158254,
          28918723,
          41521766
         ],
         "yaxis": "y14"
        },
        {
         "hovertemplate": "Genre=Romance<br>Year=%{x}<br>Median_Profit=%{y}<extra></extra>",
         "legendgroup": "Romance",
         "line": {
          "color": "#FF6692",
          "dash": "solid"
         },
         "mode": "lines",
         "name": "Romance",
         "orientation": "v",
         "showlegend": true,
         "type": "scatter",
         "x": [
          2010,
          2011,
          2012,
          2013,
          2014,
          2015,
          2016,
          2017,
          2018,
          2019
         ],
         "xaxis": "x15",
         "y": [
          23159963,
          22992483,
          16912759,
          5637201,
          10114197.5,
          19679822,
          13413631,
          10723843,
          56282227,
          40601695
         ],
         "yaxis": "y15"
        },
        {
         "hovertemplate": "Genre=Documentary<br>Year=%{x}<br>Median_Profit=%{y}<extra></extra>",
         "legendgroup": "Documentary",
         "line": {
          "color": "#B6E880",
          "dash": "solid"
         },
         "mode": "lines",
         "name": "Documentary",
         "orientation": "v",
         "showlegend": true,
         "type": "scatter",
         "x": [
          2010,
          2011,
          2012,
          2013,
          2014,
          2015,
          2016,
          2017,
          2018,
          2019
         ],
         "xaxis": "x16",
         "y": [
          4687616.5,
          561967,
          29823764,
          1745021.5,
          9444502,
          null,
          null,
          5889612,
          1080073,
          null
         ],
         "yaxis": "y16"
        },
        {
         "hovertemplate": "Genre=History<br>Year=%{x}<br>Median_Profit=%{y}<extra></extra>",
         "legendgroup": "History",
         "line": {
          "color": "#FF97FF",
          "dash": "solid"
         },
         "mode": "lines",
         "name": "History",
         "orientation": "v",
         "showlegend": true,
         "type": "scatter",
         "x": [
          2010,
          2011,
          2012,
          2013,
          2014,
          2015,
          2016,
          2017,
          2018,
          2019
         ],
         "xaxis": "x9",
         "y": [
          -199164,
          30567369.5,
          92820716,
          30128352,
          66214779,
          2881970,
          -1442114,
          -6401393,
          21710283,
          25648512
         ],
         "yaxis": "y9"
        },
        {
         "hovertemplate": "Genre=Mystery<br>Year=%{x}<br>Median_Profit=%{y}<extra></extra>",
         "legendgroup": "Mystery",
         "line": {
          "color": "#FECB52",
          "dash": "solid"
         },
         "mode": "lines",
         "name": "Mystery",
         "orientation": "v",
         "showlegend": true,
         "type": "scatter",
         "x": [
          2010,
          2011,
          2012,
          2013,
          2014,
          2015,
          2016,
          2017,
          2018,
          2019
         ],
         "xaxis": "x10",
         "y": [
          5745623,
          30807451,
          281464,
          19829071,
          1968310.5,
          19679822,
          41647656,
          23858082.5,
          41129068.5,
          51615777
         ],
         "yaxis": "y10"
        },
        {
         "hovertemplate": "Genre=Science Fiction<br>Year=%{x}<br>Median_Profit=%{y}<extra></extra>",
         "legendgroup": "Science Fiction",
         "line": {
          "color": "#636efa",
          "dash": "solid"
         },
         "mode": "lines",
         "name": "Science Fiction",
         "orientation": "v",
         "showlegend": true,
         "type": "scatter",
         "x": [
          2010,
          2011,
          2012,
          2013,
          2014,
          2015,
          2016,
          2017,
          2018,
          2019
         ],
         "xaxis": "x11",
         "y": [
          77107755,
          77092623,
          28482868,
          166168572,
          259102839.5,
          41469886.5,
          113160852,
          80701040.5,
          140930148,
          118098604.5
         ],
         "yaxis": "y11"
        },
        {
         "hovertemplate": "Genre=Crime<br>Year=%{x}<br>Median_Profit=%{y}<extra></extra>",
         "legendgroup": "Crime",
         "line": {
          "color": "#EF553B",
          "dash": "solid"
         },
         "mode": "lines",
         "name": "Crime",
         "orientation": "v",
         "showlegend": true,
         "type": "scatter",
         "x": [
          2010,
          2011,
          2012,
          2013,
          2014,
          2015,
          2016,
          2017,
          2018,
          2019
         ],
         "xaxis": "x12",
         "y": [
          5181001,
          18936320,
          14395526,
          32675095,
          30608748.5,
          17629887.5,
          10046105.5,
          31132418,
          15030197.5,
          20397907.5
         ],
         "yaxis": "y12"
        },
        {
         "hovertemplate": "Genre=Fantasy<br>Year=%{x}<br>Median_Profit=%{y}<extra></extra>",
         "legendgroup": "Fantasy",
         "line": {
          "color": "#00cc96",
          "dash": "solid"
         },
         "mode": "lines",
         "name": "Fantasy",
         "orientation": "v",
         "showlegend": true,
         "type": "scatter",
         "x": [
          2010,
          2011,
          2012,
          2013,
          2014,
          2015,
          2016,
          2017,
          2018,
          2019
         ],
         "xaxis": "x5",
         "y": [
          64873125,
          63595579,
          151970083,
          103991818.5,
          231892343,
          30483623,
          157195427.5,
          207493101.5,
          122744377,
          127089026
         ],
         "yaxis": "y5"
        },
        {
         "hovertemplate": "Genre=Action<br>Year=%{x}<br>Median_Profit=%{y}<extra></extra>",
         "legendgroup": "Action",
         "line": {
          "color": "#ab63fa",
          "dash": "solid"
         },
         "mode": "lines",
         "name": "Action",
         "orientation": "v",
         "showlegend": true,
         "type": "scatter",
         "x": [
          2010,
          2011,
          2012,
          2013,
          2014,
          2015,
          2016,
          2017,
          2018,
          2019
         ],
         "xaxis": "x6",
         "y": [
          61134314.5,
          48886610.5,
          70497035,
          63190557,
          140574322,
          54342166.5,
          71906372,
          110374099,
          126228209.5,
          86558453.5
         ],
         "yaxis": "y6"
        },
        {
         "hovertemplate": "Genre=Music<br>Year=%{x}<br>Median_Profit=%{y}<extra></extra>",
         "legendgroup": "Music",
         "line": {
          "color": "#FFA15A",
          "dash": "solid"
         },
         "mode": "lines",
         "name": "Music",
         "orientation": "v",
         "showlegend": true,
         "type": "scatter",
         "x": [
          2010,
          2011,
          2012,
          2013,
          2014,
          2015,
          2016,
          2017,
          2018,
          2019
         ],
         "xaxis": "x7",
         "y": [
          -5318349,
          103110532,
          20726956,
          -4205061.5,
          34406329.5,
          5122090,
          9624522,
          12179897,
          206532466,
          127089026
         ],
         "yaxis": "y7"
        },
        {
         "hovertemplate": "Genre=War<br>Year=%{x}<br>Median_Profit=%{y}<extra></extra>",
         "legendgroup": "War",
         "line": {
          "color": "#19d3f3",
          "dash": "solid"
         },
         "mode": "lines",
         "name": "War",
         "orientation": "v",
         "showlegend": true,
         "type": "scatter",
         "x": [
          2010,
          2011,
          2012,
          2013,
          2014,
          2015,
          2016,
          2017,
          2018,
          2019
         ],
         "xaxis": "x8",
         "y": [
          42433607.5,
          -11084044,
          -7634502,
          114802912,
          143817906,
          -2427711,
          -3920781,
          -19095601,
          18054329.5,
          25648512
         ],
         "yaxis": "y8"
        },
        {
         "hovertemplate": "Genre=Animation<br>Year=%{x}<br>Median_Profit=%{y}<extra></extra>",
         "legendgroup": "Animation",
         "line": {
          "color": "#FF6692",
          "dash": "solid"
         },
         "mode": "lines",
         "name": "Animation",
         "orientation": "v",
         "showlegend": true,
         "type": "scatter",
         "x": [
          2010,
          2011,
          2012,
          2013,
          2014,
          2015,
          2016,
          2017,
          2018,
          2019
         ],
         "xaxis": "x",
         "y": [
          329878759,
          243993951,
          217658636.5,
          178842673,
          130698039,
          132207671,
          171784892,
          176422922.5,
          301266433,
          134879932
         ],
         "yaxis": "y"
        },
        {
         "hovertemplate": "Genre=Western<br>Year=%{x}<br>Median_Profit=%{y}<extra></extra>",
         "legendgroup": "Western",
         "line": {
          "color": "#B6E880",
          "dash": "solid"
         },
         "mode": "lines",
         "name": "Western",
         "orientation": "v",
         "showlegend": true,
         "type": "scatter",
         "x": [
          2010,
          2011,
          2012,
          2013,
          2014,
          2015,
          2016,
          2017,
          2018,
          2019
         ],
         "xaxis": "x2",
         "y": [
          89090119.5,
          61273464,
          177386198.5,
          1266679,
          17504588.5,
          111760117,
          49120256.5,
          -980927,
          -24856944,
          null
         ],
         "yaxis": "y2"
        }
       ],
       "layout": {
        "annotations": [
         {
          "font": {},
          "showarrow": false,
          "text": "Genre=Animation",
          "x": 0.1175,
          "xanchor": "center",
          "xref": "paper",
          "y": 0.12,
          "yanchor": "bottom",
          "yref": "paper"
         },
         {
          "font": {},
          "showarrow": false,
          "text": "Genre=Western",
          "x": 0.3725,
          "xanchor": "center",
          "xref": "paper",
          "y": 0.12,
          "yanchor": "bottom",
          "yref": "paper"
         },
         {
          "font": {},
          "showarrow": false,
          "text": "Genre=Fantasy",
          "x": 0.1175,
          "xanchor": "center",
          "xref": "paper",
          "y": 0.33999999999999997,
          "yanchor": "bottom",
          "yref": "paper"
         },
         {
          "font": {},
          "showarrow": false,
          "text": "Genre=Action",
          "x": 0.3725,
          "xanchor": "center",
          "xref": "paper",
          "y": 0.33999999999999997,
          "yanchor": "bottom",
          "yref": "paper"
         },
         {
          "font": {},
          "showarrow": false,
          "text": "Genre=Music",
          "x": 0.6275,
          "xanchor": "center",
          "xref": "paper",
          "y": 0.33999999999999997,
          "yanchor": "bottom",
          "yref": "paper"
         },
         {
          "font": {},
          "showarrow": false,
          "text": "Genre=War",
          "x": 0.8824999999999998,
          "xanchor": "center",
          "xref": "paper",
          "y": 0.33999999999999997,
          "yanchor": "bottom",
          "yref": "paper"
         },
         {
          "font": {},
          "showarrow": false,
          "text": "Genre=History",
          "x": 0.1175,
          "xanchor": "center",
          "xref": "paper",
          "y": 0.56,
          "yanchor": "bottom",
          "yref": "paper"
         },
         {
          "font": {},
          "showarrow": false,
          "text": "Genre=Mystery",
          "x": 0.3725,
          "xanchor": "center",
          "xref": "paper",
          "y": 0.56,
          "yanchor": "bottom",
          "yref": "paper"
         },
         {
          "font": {},
          "showarrow": false,
          "text": "Genre=Science Fiction",
          "x": 0.6275,
          "xanchor": "center",
          "xref": "paper",
          "y": 0.56,
          "yanchor": "bottom",
          "yref": "paper"
         },
         {
          "font": {},
          "showarrow": false,
          "text": "Genre=Crime",
          "x": 0.8824999999999998,
          "xanchor": "center",
          "xref": "paper",
          "y": 0.56,
          "yanchor": "bottom",
          "yref": "paper"
         },
         {
          "font": {},
          "showarrow": false,
          "text": "Genre=Horror",
          "x": 0.1175,
          "xanchor": "center",
          "xref": "paper",
          "y": 0.78,
          "yanchor": "bottom",
          "yref": "paper"
         },
         {
          "font": {},
          "showarrow": false,
          "text": "Genre=Thriller",
          "x": 0.3725,
          "xanchor": "center",
          "xref": "paper",
          "y": 0.78,
          "yanchor": "bottom",
          "yref": "paper"
         },
         {
          "font": {},
          "showarrow": false,
          "text": "Genre=Romance",
          "x": 0.6275,
          "xanchor": "center",
          "xref": "paper",
          "y": 0.78,
          "yanchor": "bottom",
          "yref": "paper"
         },
         {
          "font": {},
          "showarrow": false,
          "text": "Genre=Documentary",
          "x": 0.8824999999999998,
          "xanchor": "center",
          "xref": "paper",
          "y": 0.78,
          "yanchor": "bottom",
          "yref": "paper"
         },
         {
          "font": {},
          "showarrow": false,
          "text": "Genre=Comedy",
          "x": 0.1175,
          "xanchor": "center",
          "xref": "paper",
          "y": 1,
          "yanchor": "bottom",
          "yref": "paper"
         },
         {
          "font": {},
          "showarrow": false,
          "text": "Genre=Drama",
          "x": 0.3725,
          "xanchor": "center",
          "xref": "paper",
          "y": 1,
          "yanchor": "bottom",
          "yref": "paper"
         },
         {
          "font": {},
          "showarrow": false,
          "text": "Genre=Family",
          "x": 0.6275,
          "xanchor": "center",
          "xref": "paper",
          "y": 1,
          "yanchor": "bottom",
          "yref": "paper"
         },
         {
          "font": {},
          "showarrow": false,
          "text": "Genre=Adventure",
          "x": 0.8824999999999998,
          "xanchor": "center",
          "xref": "paper",
          "y": 1,
          "yanchor": "bottom",
          "yref": "paper"
         }
        ],
        "height": 800,
        "legend": {
         "title": {
          "text": "Genre"
         },
         "tracegroupgap": 0
        },
        "template": {
         "data": {
          "bar": [
           {
            "error_x": {
             "color": "#2a3f5f"
            },
            "error_y": {
             "color": "#2a3f5f"
            },
            "marker": {
             "line": {
              "color": "#E5ECF6",
              "width": 0.5
             }
            },
            "type": "bar"
           }
          ],
          "barpolar": [
           {
            "marker": {
             "line": {
              "color": "#E5ECF6",
              "width": 0.5
             }
            },
            "type": "barpolar"
           }
          ],
          "carpet": [
           {
            "aaxis": {
             "endlinecolor": "#2a3f5f",
             "gridcolor": "white",
             "linecolor": "white",
             "minorgridcolor": "white",
             "startlinecolor": "#2a3f5f"
            },
            "baxis": {
             "endlinecolor": "#2a3f5f",
             "gridcolor": "white",
             "linecolor": "white",
             "minorgridcolor": "white",
             "startlinecolor": "#2a3f5f"
            },
            "type": "carpet"
           }
          ],
          "choropleth": [
           {
            "colorbar": {
             "outlinewidth": 0,
             "ticks": ""
            },
            "type": "choropleth"
           }
          ],
          "contour": [
           {
            "colorbar": {
             "outlinewidth": 0,
             "ticks": ""
            },
            "colorscale": [
             [
              0,
              "#0d0887"
             ],
             [
              0.1111111111111111,
              "#46039f"
             ],
             [
              0.2222222222222222,
              "#7201a8"
             ],
             [
              0.3333333333333333,
              "#9c179e"
             ],
             [
              0.4444444444444444,
              "#bd3786"
             ],
             [
              0.5555555555555556,
              "#d8576b"
             ],
             [
              0.6666666666666666,
              "#ed7953"
             ],
             [
              0.7777777777777778,
              "#fb9f3a"
             ],
             [
              0.8888888888888888,
              "#fdca26"
             ],
             [
              1,
              "#f0f921"
             ]
            ],
            "type": "contour"
           }
          ],
          "contourcarpet": [
           {
            "colorbar": {
             "outlinewidth": 0,
             "ticks": ""
            },
            "type": "contourcarpet"
           }
          ],
          "heatmap": [
           {
            "colorbar": {
             "outlinewidth": 0,
             "ticks": ""
            },
            "colorscale": [
             [
              0,
              "#0d0887"
             ],
             [
              0.1111111111111111,
              "#46039f"
             ],
             [
              0.2222222222222222,
              "#7201a8"
             ],
             [
              0.3333333333333333,
              "#9c179e"
             ],
             [
              0.4444444444444444,
              "#bd3786"
             ],
             [
              0.5555555555555556,
              "#d8576b"
             ],
             [
              0.6666666666666666,
              "#ed7953"
             ],
             [
              0.7777777777777778,
              "#fb9f3a"
             ],
             [
              0.8888888888888888,
              "#fdca26"
             ],
             [
              1,
              "#f0f921"
             ]
            ],
            "type": "heatmap"
           }
          ],
          "heatmapgl": [
           {
            "colorbar": {
             "outlinewidth": 0,
             "ticks": ""
            },
            "colorscale": [
             [
              0,
              "#0d0887"
             ],
             [
              0.1111111111111111,
              "#46039f"
             ],
             [
              0.2222222222222222,
              "#7201a8"
             ],
             [
              0.3333333333333333,
              "#9c179e"
             ],
             [
              0.4444444444444444,
              "#bd3786"
             ],
             [
              0.5555555555555556,
              "#d8576b"
             ],
             [
              0.6666666666666666,
              "#ed7953"
             ],
             [
              0.7777777777777778,
              "#fb9f3a"
             ],
             [
              0.8888888888888888,
              "#fdca26"
             ],
             [
              1,
              "#f0f921"
             ]
            ],
            "type": "heatmapgl"
           }
          ],
          "histogram": [
           {
            "marker": {
             "colorbar": {
              "outlinewidth": 0,
              "ticks": ""
             }
            },
            "type": "histogram"
           }
          ],
          "histogram2d": [
           {
            "colorbar": {
             "outlinewidth": 0,
             "ticks": ""
            },
            "colorscale": [
             [
              0,
              "#0d0887"
             ],
             [
              0.1111111111111111,
              "#46039f"
             ],
             [
              0.2222222222222222,
              "#7201a8"
             ],
             [
              0.3333333333333333,
              "#9c179e"
             ],
             [
              0.4444444444444444,
              "#bd3786"
             ],
             [
              0.5555555555555556,
              "#d8576b"
             ],
             [
              0.6666666666666666,
              "#ed7953"
             ],
             [
              0.7777777777777778,
              "#fb9f3a"
             ],
             [
              0.8888888888888888,
              "#fdca26"
             ],
             [
              1,
              "#f0f921"
             ]
            ],
            "type": "histogram2d"
           }
          ],
          "histogram2dcontour": [
           {
            "colorbar": {
             "outlinewidth": 0,
             "ticks": ""
            },
            "colorscale": [
             [
              0,
              "#0d0887"
             ],
             [
              0.1111111111111111,
              "#46039f"
             ],
             [
              0.2222222222222222,
              "#7201a8"
             ],
             [
              0.3333333333333333,
              "#9c179e"
             ],
             [
              0.4444444444444444,
              "#bd3786"
             ],
             [
              0.5555555555555556,
              "#d8576b"
             ],
             [
              0.6666666666666666,
              "#ed7953"
             ],
             [
              0.7777777777777778,
              "#fb9f3a"
             ],
             [
              0.8888888888888888,
              "#fdca26"
             ],
             [
              1,
              "#f0f921"
             ]
            ],
            "type": "histogram2dcontour"
           }
          ],
          "mesh3d": [
           {
            "colorbar": {
             "outlinewidth": 0,
             "ticks": ""
            },
            "type": "mesh3d"
           }
          ],
          "parcoords": [
           {
            "line": {
             "colorbar": {
              "outlinewidth": 0,
              "ticks": ""
             }
            },
            "type": "parcoords"
           }
          ],
          "pie": [
           {
            "automargin": true,
            "type": "pie"
           }
          ],
          "scatter": [
           {
            "marker": {
             "colorbar": {
              "outlinewidth": 0,
              "ticks": ""
             }
            },
            "type": "scatter"
           }
          ],
          "scatter3d": [
           {
            "line": {
             "colorbar": {
              "outlinewidth": 0,
              "ticks": ""
             }
            },
            "marker": {
             "colorbar": {
              "outlinewidth": 0,
              "ticks": ""
             }
            },
            "type": "scatter3d"
           }
          ],
          "scattercarpet": [
           {
            "marker": {
             "colorbar": {
              "outlinewidth": 0,
              "ticks": ""
             }
            },
            "type": "scattercarpet"
           }
          ],
          "scattergeo": [
           {
            "marker": {
             "colorbar": {
              "outlinewidth": 0,
              "ticks": ""
             }
            },
            "type": "scattergeo"
           }
          ],
          "scattergl": [
           {
            "marker": {
             "colorbar": {
              "outlinewidth": 0,
              "ticks": ""
             }
            },
            "type": "scattergl"
           }
          ],
          "scattermapbox": [
           {
            "marker": {
             "colorbar": {
              "outlinewidth": 0,
              "ticks": ""
             }
            },
            "type": "scattermapbox"
           }
          ],
          "scatterpolar": [
           {
            "marker": {
             "colorbar": {
              "outlinewidth": 0,
              "ticks": ""
             }
            },
            "type": "scatterpolar"
           }
          ],
          "scatterpolargl": [
           {
            "marker": {
             "colorbar": {
              "outlinewidth": 0,
              "ticks": ""
             }
            },
            "type": "scatterpolargl"
           }
          ],
          "scatterternary": [
           {
            "marker": {
             "colorbar": {
              "outlinewidth": 0,
              "ticks": ""
             }
            },
            "type": "scatterternary"
           }
          ],
          "surface": [
           {
            "colorbar": {
             "outlinewidth": 0,
             "ticks": ""
            },
            "colorscale": [
             [
              0,
              "#0d0887"
             ],
             [
              0.1111111111111111,
              "#46039f"
             ],
             [
              0.2222222222222222,
              "#7201a8"
             ],
             [
              0.3333333333333333,
              "#9c179e"
             ],
             [
              0.4444444444444444,
              "#bd3786"
             ],
             [
              0.5555555555555556,
              "#d8576b"
             ],
             [
              0.6666666666666666,
              "#ed7953"
             ],
             [
              0.7777777777777778,
              "#fb9f3a"
             ],
             [
              0.8888888888888888,
              "#fdca26"
             ],
             [
              1,
              "#f0f921"
             ]
            ],
            "type": "surface"
           }
          ],
          "table": [
           {
            "cells": {
             "fill": {
              "color": "#EBF0F8"
             },
             "line": {
              "color": "white"
             }
            },
            "header": {
             "fill": {
              "color": "#C8D4E3"
             },
             "line": {
              "color": "white"
             }
            },
            "type": "table"
           }
          ]
         },
         "layout": {
          "annotationdefaults": {
           "arrowcolor": "#2a3f5f",
           "arrowhead": 0,
           "arrowwidth": 1
          },
          "coloraxis": {
           "colorbar": {
            "outlinewidth": 0,
            "ticks": ""
           }
          },
          "colorscale": {
           "diverging": [
            [
             0,
             "#8e0152"
            ],
            [
             0.1,
             "#c51b7d"
            ],
            [
             0.2,
             "#de77ae"
            ],
            [
             0.3,
             "#f1b6da"
            ],
            [
             0.4,
             "#fde0ef"
            ],
            [
             0.5,
             "#f7f7f7"
            ],
            [
             0.6,
             "#e6f5d0"
            ],
            [
             0.7,
             "#b8e186"
            ],
            [
             0.8,
             "#7fbc41"
            ],
            [
             0.9,
             "#4d9221"
            ],
            [
             1,
             "#276419"
            ]
           ],
           "sequential": [
            [
             0,
             "#0d0887"
            ],
            [
             0.1111111111111111,
             "#46039f"
            ],
            [
             0.2222222222222222,
             "#7201a8"
            ],
            [
             0.3333333333333333,
             "#9c179e"
            ],
            [
             0.4444444444444444,
             "#bd3786"
            ],
            [
             0.5555555555555556,
             "#d8576b"
            ],
            [
             0.6666666666666666,
             "#ed7953"
            ],
            [
             0.7777777777777778,
             "#fb9f3a"
            ],
            [
             0.8888888888888888,
             "#fdca26"
            ],
            [
             1,
             "#f0f921"
            ]
           ],
           "sequentialminus": [
            [
             0,
             "#0d0887"
            ],
            [
             0.1111111111111111,
             "#46039f"
            ],
            [
             0.2222222222222222,
             "#7201a8"
            ],
            [
             0.3333333333333333,
             "#9c179e"
            ],
            [
             0.4444444444444444,
             "#bd3786"
            ],
            [
             0.5555555555555556,
             "#d8576b"
            ],
            [
             0.6666666666666666,
             "#ed7953"
            ],
            [
             0.7777777777777778,
             "#fb9f3a"
            ],
            [
             0.8888888888888888,
             "#fdca26"
            ],
            [
             1,
             "#f0f921"
            ]
           ]
          },
          "colorway": [
           "#636efa",
           "#EF553B",
           "#00cc96",
           "#ab63fa",
           "#FFA15A",
           "#19d3f3",
           "#FF6692",
           "#B6E880",
           "#FF97FF",
           "#FECB52"
          ],
          "font": {
           "color": "#2a3f5f"
          },
          "geo": {
           "bgcolor": "white",
           "lakecolor": "white",
           "landcolor": "#E5ECF6",
           "showlakes": true,
           "showland": true,
           "subunitcolor": "white"
          },
          "hoverlabel": {
           "align": "left"
          },
          "hovermode": "closest",
          "mapbox": {
           "style": "light"
          },
          "paper_bgcolor": "white",
          "plot_bgcolor": "#E5ECF6",
          "polar": {
           "angularaxis": {
            "gridcolor": "white",
            "linecolor": "white",
            "ticks": ""
           },
           "bgcolor": "#E5ECF6",
           "radialaxis": {
            "gridcolor": "white",
            "linecolor": "white",
            "ticks": ""
           }
          },
          "scene": {
           "xaxis": {
            "backgroundcolor": "#E5ECF6",
            "gridcolor": "white",
            "gridwidth": 2,
            "linecolor": "white",
            "showbackground": true,
            "ticks": "",
            "zerolinecolor": "white"
           },
           "yaxis": {
            "backgroundcolor": "#E5ECF6",
            "gridcolor": "white",
            "gridwidth": 2,
            "linecolor": "white",
            "showbackground": true,
            "ticks": "",
            "zerolinecolor": "white"
           },
           "zaxis": {
            "backgroundcolor": "#E5ECF6",
            "gridcolor": "white",
            "gridwidth": 2,
            "linecolor": "white",
            "showbackground": true,
            "ticks": "",
            "zerolinecolor": "white"
           }
          },
          "shapedefaults": {
           "line": {
            "color": "#2a3f5f"
           }
          },
          "ternary": {
           "aaxis": {
            "gridcolor": "white",
            "linecolor": "white",
            "ticks": ""
           },
           "baxis": {
            "gridcolor": "white",
            "linecolor": "white",
            "ticks": ""
           },
           "bgcolor": "#E5ECF6",
           "caxis": {
            "gridcolor": "white",
            "linecolor": "white",
            "ticks": ""
           }
          },
          "title": {
           "x": 0.05
          },
          "xaxis": {
           "automargin": true,
           "gridcolor": "white",
           "linecolor": "white",
           "ticks": "",
           "title": {
            "standoff": 15
           },
           "zerolinecolor": "white",
           "zerolinewidth": 2
          },
          "yaxis": {
           "automargin": true,
           "gridcolor": "white",
           "linecolor": "white",
           "ticks": "",
           "title": {
            "standoff": 15
           },
           "zerolinecolor": "white",
           "zerolinewidth": 2
          }
         }
        },
        "title": {
         "text": "Median Profit Per Year by Genre"
        },
        "width": 1000,
        "xaxis": {
         "anchor": "y",
         "domain": [
          0,
          0.235
         ],
         "title": {
          "text": "Year"
         }
        },
        "xaxis10": {
         "anchor": "y10",
         "domain": [
          0.255,
          0.49
         ],
         "matches": "x",
         "showticklabels": false
        },
        "xaxis11": {
         "anchor": "y11",
         "domain": [
          0.51,
          0.745
         ],
         "matches": "x",
         "showticklabels": false
        },
        "xaxis12": {
         "anchor": "y12",
         "domain": [
          0.7649999999999999,
          0.9999999999999999
         ],
         "matches": "x",
         "showticklabels": false
        },
        "xaxis13": {
         "anchor": "y13",
         "domain": [
          0,
          0.235
         ],
         "matches": "x",
         "showticklabels": false
        },
        "xaxis14": {
         "anchor": "y14",
         "domain": [
          0.255,
          0.49
         ],
         "matches": "x",
         "showticklabels": false
        },
        "xaxis15": {
         "anchor": "y15",
         "domain": [
          0.51,
          0.745
         ],
         "matches": "x",
         "showticklabels": false
        },
        "xaxis16": {
         "anchor": "y16",
         "domain": [
          0.7649999999999999,
          0.9999999999999999
         ],
         "matches": "x",
         "showticklabels": false
        },
        "xaxis17": {
         "anchor": "y17",
         "domain": [
          0,
          0.235
         ],
         "matches": "x",
         "showticklabels": false
        },
        "xaxis18": {
         "anchor": "y18",
         "domain": [
          0.255,
          0.49
         ],
         "matches": "x",
         "showticklabels": false
        },
        "xaxis19": {
         "anchor": "y19",
         "domain": [
          0.51,
          0.745
         ],
         "matches": "x",
         "showticklabels": false
        },
        "xaxis2": {
         "anchor": "y2",
         "domain": [
          0.255,
          0.49
         ],
         "matches": "x",
         "title": {
          "text": "Year"
         }
        },
        "xaxis20": {
         "anchor": "y20",
         "domain": [
          0.7649999999999999,
          0.9999999999999999
         ],
         "matches": "x",
         "showticklabels": false
        },
        "xaxis3": {
         "anchor": "y3",
         "domain": [
          0.51,
          0.745
         ],
         "matches": "x",
         "title": {
          "text": "Year"
         }
        },
        "xaxis4": {
         "anchor": "y4",
         "domain": [
          0.7649999999999999,
          0.9999999999999999
         ],
         "matches": "x",
         "title": {
          "text": "Year"
         }
        },
        "xaxis5": {
         "anchor": "y5",
         "domain": [
          0,
          0.235
         ],
         "matches": "x",
         "showticklabels": false
        },
        "xaxis6": {
         "anchor": "y6",
         "domain": [
          0.255,
          0.49
         ],
         "matches": "x",
         "showticklabels": false
        },
        "xaxis7": {
         "anchor": "y7",
         "domain": [
          0.51,
          0.745
         ],
         "matches": "x",
         "showticklabels": false
        },
        "xaxis8": {
         "anchor": "y8",
         "domain": [
          0.7649999999999999,
          0.9999999999999999
         ],
         "matches": "x",
         "showticklabels": false
        },
        "xaxis9": {
         "anchor": "y9",
         "domain": [
          0,
          0.235
         ],
         "matches": "x",
         "showticklabels": false
        },
        "yaxis": {
         "anchor": "x",
         "domain": [
          0,
          0.12
         ],
         "title": {
          "text": "Median_Profit"
         }
        },
        "yaxis10": {
         "anchor": "x10",
         "domain": [
          0.44,
          0.56
         ],
         "matches": "y",
         "showticklabels": false
        },
        "yaxis11": {
         "anchor": "x11",
         "domain": [
          0.44,
          0.56
         ],
         "matches": "y",
         "showticklabels": false
        },
        "yaxis12": {
         "anchor": "x12",
         "domain": [
          0.44,
          0.56
         ],
         "matches": "y",
         "showticklabels": false
        },
        "yaxis13": {
         "anchor": "x13",
         "domain": [
          0.66,
          0.78
         ],
         "matches": "y",
         "title": {
          "text": "Median_Profit"
         }
        },
        "yaxis14": {
         "anchor": "x14",
         "domain": [
          0.66,
          0.78
         ],
         "matches": "y",
         "showticklabels": false
        },
        "yaxis15": {
         "anchor": "x15",
         "domain": [
          0.66,
          0.78
         ],
         "matches": "y",
         "showticklabels": false
        },
        "yaxis16": {
         "anchor": "x16",
         "domain": [
          0.66,
          0.78
         ],
         "matches": "y",
         "showticklabels": false
        },
        "yaxis17": {
         "anchor": "x17",
         "domain": [
          0.88,
          1
         ],
         "matches": "y",
         "title": {
          "text": "Median_Profit"
         }
        },
        "yaxis18": {
         "anchor": "x18",
         "domain": [
          0.88,
          1
         ],
         "matches": "y",
         "showticklabels": false
        },
        "yaxis19": {
         "anchor": "x19",
         "domain": [
          0.88,
          1
         ],
         "matches": "y",
         "showticklabels": false
        },
        "yaxis2": {
         "anchor": "x2",
         "domain": [
          0,
          0.12
         ],
         "matches": "y",
         "showticklabels": false
        },
        "yaxis20": {
         "anchor": "x20",
         "domain": [
          0.88,
          1
         ],
         "matches": "y",
         "showticklabels": false
        },
        "yaxis3": {
         "anchor": "x3",
         "domain": [
          0,
          0.12
         ],
         "matches": "y",
         "showticklabels": false
        },
        "yaxis4": {
         "anchor": "x4",
         "domain": [
          0,
          0.12
         ],
         "matches": "y",
         "showticklabels": false
        },
        "yaxis5": {
         "anchor": "x5",
         "domain": [
          0.22,
          0.33999999999999997
         ],
         "matches": "y",
         "title": {
          "text": "Median_Profit"
         }
        },
        "yaxis6": {
         "anchor": "x6",
         "domain": [
          0.22,
          0.33999999999999997
         ],
         "matches": "y",
         "showticklabels": false
        },
        "yaxis7": {
         "anchor": "x7",
         "domain": [
          0.22,
          0.33999999999999997
         ],
         "matches": "y",
         "showticklabels": false
        },
        "yaxis8": {
         "anchor": "x8",
         "domain": [
          0.22,
          0.33999999999999997
         ],
         "matches": "y",
         "showticklabels": false
        },
        "yaxis9": {
         "anchor": "x9",
         "domain": [
          0.44,
          0.56
         ],
         "matches": "y",
         "title": {
          "text": "Median_Profit"
         }
        }
       }
      },
      "text/html": [
       "<div>\n",
       "        \n",
       "        \n",
       "            <div id=\"39d15520-ed0a-44b3-b520-e096d3c0ae4d\" class=\"plotly-graph-div\" style=\"height:800px; width:1000px;\"></div>\n",
       "            <script type=\"text/javascript\">\n",
       "                require([\"plotly\"], function(Plotly) {\n",
       "                    window.PLOTLYENV=window.PLOTLYENV || {};\n",
       "                    \n",
       "                if (document.getElementById(\"39d15520-ed0a-44b3-b520-e096d3c0ae4d\")) {\n",
       "                    Plotly.newPlot(\n",
       "                        '39d15520-ed0a-44b3-b520-e096d3c0ae4d',\n",
       "                        [{\"hovertemplate\": \"Genre=Comedy<br>Year=%{x}<br>Median_Profit=%{y}<extra></extra>\", \"legendgroup\": \"Comedy\", \"line\": {\"color\": \"#636efa\", \"dash\": \"solid\"}, \"mode\": \"lines\", \"name\": \"Comedy\", \"orientation\": \"v\", \"showlegend\": true, \"type\": \"scatter\", \"x\": [2010, 2011, 2012, 2013, 2014, 2015, 2016, 2017, 2018, 2019], \"xaxis\": \"x17\", \"y\": [26547382.5, 31558601.0, 27915971.5, 55464861.0, 47722763.0, 30753191.5, 23758586.0, 102560428.0, 72779714.0, 71616764.0], \"yaxis\": \"y17\"}, {\"hovertemplate\": \"Genre=Drama<br>Year=%{x}<br>Median_Profit=%{y}<extra></extra>\", \"legendgroup\": \"Drama\", \"line\": {\"color\": \"#EF553B\", \"dash\": \"solid\"}, \"mode\": \"lines\", \"name\": \"Drama\", \"orientation\": \"v\", \"showlegend\": true, \"type\": \"scatter\", \"x\": [2010, 2011, 2012, 2013, 2014, 2015, 2016, 2017, 2018, 2019], \"xaxis\": \"x18\", \"y\": [5429471.0, 8779150.0, 10293982.0, 5341388.5, 15407535.5, 16606743.0, 11080196.5, 13814102.0, 20636496.5, 30417849.5], \"yaxis\": \"y18\"}, {\"hovertemplate\": \"Genre=Family<br>Year=%{x}<br>Median_Profit=%{y}<extra></extra>\", \"legendgroup\": \"Family\", \"line\": {\"color\": \"#00cc96\", \"dash\": \"solid\"}, \"mode\": \"lines\", \"name\": \"Family\", \"orientation\": \"v\", \"showlegend\": true, \"type\": \"scatter\", \"x\": [2010, 2011, 2012, 2013, 2014, 2015, 2016, 2017, 2018, 2019], \"xaxis\": \"x19\", \"y\": [125382724.0, 100288681.0, 98018522.0, 128710498.5, 96965787.0, 106708524.5, 121422988.5, 183035819.0, 122744377.0, 173164763.0], \"yaxis\": \"y19\"}, {\"hovertemplate\": \"Genre=Adventure<br>Year=%{x}<br>Median_Profit=%{y}<extra></extra>\", \"legendgroup\": \"Adventure\", \"line\": {\"color\": \"#ab63fa\", \"dash\": \"solid\"}, \"mode\": \"lines\", \"name\": \"Adventure\", \"orientation\": \"v\", \"showlegend\": true, \"type\": \"scatter\", \"x\": [2010, 2011, 2012, 2013, 2014, 2015, 2016, 2017, 2018, 2019], \"xaxis\": \"x20\", \"y\": [136251798.0, 110724603.0, 214975955.0, 103991818.5, 234200044.0, 81209378.0, 115697856.0, 261118277.0, 203378186.0, 270791316.0], \"yaxis\": \"y20\"}, {\"hovertemplate\": \"Genre=Horror<br>Year=%{x}<br>Median_Profit=%{y}<extra></extra>\", \"legendgroup\": \"Horror\", \"line\": {\"color\": \"#FFA15A\", \"dash\": \"solid\"}, \"mode\": \"lines\", \"name\": \"Horror\", \"orientation\": \"v\", \"showlegend\": true, \"type\": \"scatter\", \"x\": [2010, 2011, 2012, 2013, 2014, 2015, 2016, 2017, 2018, 2019], \"xaxis\": \"x13\", \"y\": [34806823.0, 13363927.0, 47471580.0, 69101268.0, 17635162.0, 39894177.5, 40173154.0, 56687529.0, 37918058.0, 55600152.0], \"yaxis\": \"y13\"}, {\"hovertemplate\": \"Genre=Thriller<br>Year=%{x}<br>Median_Profit=%{y}<extra></extra>\", \"legendgroup\": \"Thriller\", \"line\": {\"color\": \"#19d3f3\", \"dash\": \"solid\"}, \"mode\": \"lines\", \"name\": \"Thriller\", \"orientation\": \"v\", \"showlegend\": true, \"type\": \"scatter\", \"x\": [2010, 2011, 2012, 2013, 2014, 2015, 2016, 2017, 2018, 2019], \"xaxis\": \"x14\", \"y\": [24325809.5, 15761737.5, 12948113.0, 29562255.5, 22947718.0, 29401758.0, 6898293.0, 26158254.0, 28918723.0, 41521766.0], \"yaxis\": \"y14\"}, {\"hovertemplate\": \"Genre=Romance<br>Year=%{x}<br>Median_Profit=%{y}<extra></extra>\", \"legendgroup\": \"Romance\", \"line\": {\"color\": \"#FF6692\", \"dash\": \"solid\"}, \"mode\": \"lines\", \"name\": \"Romance\", \"orientation\": \"v\", \"showlegend\": true, \"type\": \"scatter\", \"x\": [2010, 2011, 2012, 2013, 2014, 2015, 2016, 2017, 2018, 2019], \"xaxis\": \"x15\", \"y\": [23159963.0, 22992483.0, 16912759.0, 5637201.0, 10114197.5, 19679822.0, 13413631.0, 10723843.0, 56282227.0, 40601695.0], \"yaxis\": \"y15\"}, {\"hovertemplate\": \"Genre=Documentary<br>Year=%{x}<br>Median_Profit=%{y}<extra></extra>\", \"legendgroup\": \"Documentary\", \"line\": {\"color\": \"#B6E880\", \"dash\": \"solid\"}, \"mode\": \"lines\", \"name\": \"Documentary\", \"orientation\": \"v\", \"showlegend\": true, \"type\": \"scatter\", \"x\": [2010, 2011, 2012, 2013, 2014, 2015, 2016, 2017, 2018, 2019], \"xaxis\": \"x16\", \"y\": [4687616.5, 561967.0, 29823764.0, 1745021.5, 9444502.0, null, null, 5889612.0, 1080073.0, null], \"yaxis\": \"y16\"}, {\"hovertemplate\": \"Genre=History<br>Year=%{x}<br>Median_Profit=%{y}<extra></extra>\", \"legendgroup\": \"History\", \"line\": {\"color\": \"#FF97FF\", \"dash\": \"solid\"}, \"mode\": \"lines\", \"name\": \"History\", \"orientation\": \"v\", \"showlegend\": true, \"type\": \"scatter\", \"x\": [2010, 2011, 2012, 2013, 2014, 2015, 2016, 2017, 2018, 2019], \"xaxis\": \"x9\", \"y\": [-199164.0, 30567369.5, 92820716.0, 30128352.0, 66214779.0, 2881970.0, -1442114.0, -6401393.0, 21710283.0, 25648512.0], \"yaxis\": \"y9\"}, {\"hovertemplate\": \"Genre=Mystery<br>Year=%{x}<br>Median_Profit=%{y}<extra></extra>\", \"legendgroup\": \"Mystery\", \"line\": {\"color\": \"#FECB52\", \"dash\": \"solid\"}, \"mode\": \"lines\", \"name\": \"Mystery\", \"orientation\": \"v\", \"showlegend\": true, \"type\": \"scatter\", \"x\": [2010, 2011, 2012, 2013, 2014, 2015, 2016, 2017, 2018, 2019], \"xaxis\": \"x10\", \"y\": [5745623.0, 30807451.0, 281464.0, 19829071.0, 1968310.5, 19679822.0, 41647656.0, 23858082.5, 41129068.5, 51615777.0], \"yaxis\": \"y10\"}, {\"hovertemplate\": \"Genre=Science Fiction<br>Year=%{x}<br>Median_Profit=%{y}<extra></extra>\", \"legendgroup\": \"Science Fiction\", \"line\": {\"color\": \"#636efa\", \"dash\": \"solid\"}, \"mode\": \"lines\", \"name\": \"Science Fiction\", \"orientation\": \"v\", \"showlegend\": true, \"type\": \"scatter\", \"x\": [2010, 2011, 2012, 2013, 2014, 2015, 2016, 2017, 2018, 2019], \"xaxis\": \"x11\", \"y\": [77107755.0, 77092623.0, 28482868.0, 166168572.0, 259102839.5, 41469886.5, 113160852.0, 80701040.5, 140930148.0, 118098604.5], \"yaxis\": \"y11\"}, {\"hovertemplate\": \"Genre=Crime<br>Year=%{x}<br>Median_Profit=%{y}<extra></extra>\", \"legendgroup\": \"Crime\", \"line\": {\"color\": \"#EF553B\", \"dash\": \"solid\"}, \"mode\": \"lines\", \"name\": \"Crime\", \"orientation\": \"v\", \"showlegend\": true, \"type\": \"scatter\", \"x\": [2010, 2011, 2012, 2013, 2014, 2015, 2016, 2017, 2018, 2019], \"xaxis\": \"x12\", \"y\": [5181001.0, 18936320.0, 14395526.0, 32675095.0, 30608748.5, 17629887.5, 10046105.5, 31132418.0, 15030197.5, 20397907.5], \"yaxis\": \"y12\"}, {\"hovertemplate\": \"Genre=Fantasy<br>Year=%{x}<br>Median_Profit=%{y}<extra></extra>\", \"legendgroup\": \"Fantasy\", \"line\": {\"color\": \"#00cc96\", \"dash\": \"solid\"}, \"mode\": \"lines\", \"name\": \"Fantasy\", \"orientation\": \"v\", \"showlegend\": true, \"type\": \"scatter\", \"x\": [2010, 2011, 2012, 2013, 2014, 2015, 2016, 2017, 2018, 2019], \"xaxis\": \"x5\", \"y\": [64873125.0, 63595579.0, 151970083.0, 103991818.5, 231892343.0, 30483623.0, 157195427.5, 207493101.5, 122744377.0, 127089026.0], \"yaxis\": \"y5\"}, {\"hovertemplate\": \"Genre=Action<br>Year=%{x}<br>Median_Profit=%{y}<extra></extra>\", \"legendgroup\": \"Action\", \"line\": {\"color\": \"#ab63fa\", \"dash\": \"solid\"}, \"mode\": \"lines\", \"name\": \"Action\", \"orientation\": \"v\", \"showlegend\": true, \"type\": \"scatter\", \"x\": [2010, 2011, 2012, 2013, 2014, 2015, 2016, 2017, 2018, 2019], \"xaxis\": \"x6\", \"y\": [61134314.5, 48886610.5, 70497035.0, 63190557.0, 140574322.0, 54342166.5, 71906372.0, 110374099.0, 126228209.5, 86558453.5], \"yaxis\": \"y6\"}, {\"hovertemplate\": \"Genre=Music<br>Year=%{x}<br>Median_Profit=%{y}<extra></extra>\", \"legendgroup\": \"Music\", \"line\": {\"color\": \"#FFA15A\", \"dash\": \"solid\"}, \"mode\": \"lines\", \"name\": \"Music\", \"orientation\": \"v\", \"showlegend\": true, \"type\": \"scatter\", \"x\": [2010, 2011, 2012, 2013, 2014, 2015, 2016, 2017, 2018, 2019], \"xaxis\": \"x7\", \"y\": [-5318349.0, 103110532.0, 20726956.0, -4205061.5, 34406329.5, 5122090.0, 9624522.0, 12179897.0, 206532466.0, 127089026.0], \"yaxis\": \"y7\"}, {\"hovertemplate\": \"Genre=War<br>Year=%{x}<br>Median_Profit=%{y}<extra></extra>\", \"legendgroup\": \"War\", \"line\": {\"color\": \"#19d3f3\", \"dash\": \"solid\"}, \"mode\": \"lines\", \"name\": \"War\", \"orientation\": \"v\", \"showlegend\": true, \"type\": \"scatter\", \"x\": [2010, 2011, 2012, 2013, 2014, 2015, 2016, 2017, 2018, 2019], \"xaxis\": \"x8\", \"y\": [42433607.5, -11084044.0, -7634502.0, 114802912.0, 143817906.0, -2427711.0, -3920781.0, -19095601.0, 18054329.5, 25648512.0], \"yaxis\": \"y8\"}, {\"hovertemplate\": \"Genre=Animation<br>Year=%{x}<br>Median_Profit=%{y}<extra></extra>\", \"legendgroup\": \"Animation\", \"line\": {\"color\": \"#FF6692\", \"dash\": \"solid\"}, \"mode\": \"lines\", \"name\": \"Animation\", \"orientation\": \"v\", \"showlegend\": true, \"type\": \"scatter\", \"x\": [2010, 2011, 2012, 2013, 2014, 2015, 2016, 2017, 2018, 2019], \"xaxis\": \"x\", \"y\": [329878759.0, 243993951.0, 217658636.5, 178842673.0, 130698039.0, 132207671.0, 171784892.0, 176422922.5, 301266433.0, 134879932.0], \"yaxis\": \"y\"}, {\"hovertemplate\": \"Genre=Western<br>Year=%{x}<br>Median_Profit=%{y}<extra></extra>\", \"legendgroup\": \"Western\", \"line\": {\"color\": \"#B6E880\", \"dash\": \"solid\"}, \"mode\": \"lines\", \"name\": \"Western\", \"orientation\": \"v\", \"showlegend\": true, \"type\": \"scatter\", \"x\": [2010, 2011, 2012, 2013, 2014, 2015, 2016, 2017, 2018, 2019], \"xaxis\": \"x2\", \"y\": [89090119.5, 61273464.0, 177386198.5, 1266679.0, 17504588.5, 111760117.0, 49120256.5, -980927.0, -24856944.0, null], \"yaxis\": \"y2\"}],\n",
       "                        {\"annotations\": [{\"font\": {}, \"showarrow\": false, \"text\": \"Genre=Animation\", \"x\": 0.1175, \"xanchor\": \"center\", \"xref\": \"paper\", \"y\": 0.12, \"yanchor\": \"bottom\", \"yref\": \"paper\"}, {\"font\": {}, \"showarrow\": false, \"text\": \"Genre=Western\", \"x\": 0.3725, \"xanchor\": \"center\", \"xref\": \"paper\", \"y\": 0.12, \"yanchor\": \"bottom\", \"yref\": \"paper\"}, {\"font\": {}, \"showarrow\": false, \"text\": \"Genre=Fantasy\", \"x\": 0.1175, \"xanchor\": \"center\", \"xref\": \"paper\", \"y\": 0.33999999999999997, \"yanchor\": \"bottom\", \"yref\": \"paper\"}, {\"font\": {}, \"showarrow\": false, \"text\": \"Genre=Action\", \"x\": 0.3725, \"xanchor\": \"center\", \"xref\": \"paper\", \"y\": 0.33999999999999997, \"yanchor\": \"bottom\", \"yref\": \"paper\"}, {\"font\": {}, \"showarrow\": false, \"text\": \"Genre=Music\", \"x\": 0.6275, \"xanchor\": \"center\", \"xref\": \"paper\", \"y\": 0.33999999999999997, \"yanchor\": \"bottom\", \"yref\": \"paper\"}, {\"font\": {}, \"showarrow\": false, \"text\": \"Genre=War\", \"x\": 0.8824999999999998, \"xanchor\": \"center\", \"xref\": \"paper\", \"y\": 0.33999999999999997, \"yanchor\": \"bottom\", \"yref\": \"paper\"}, {\"font\": {}, \"showarrow\": false, \"text\": \"Genre=History\", \"x\": 0.1175, \"xanchor\": \"center\", \"xref\": \"paper\", \"y\": 0.56, \"yanchor\": \"bottom\", \"yref\": \"paper\"}, {\"font\": {}, \"showarrow\": false, \"text\": \"Genre=Mystery\", \"x\": 0.3725, \"xanchor\": \"center\", \"xref\": \"paper\", \"y\": 0.56, \"yanchor\": \"bottom\", \"yref\": \"paper\"}, {\"font\": {}, \"showarrow\": false, \"text\": \"Genre=Science Fiction\", \"x\": 0.6275, \"xanchor\": \"center\", \"xref\": \"paper\", \"y\": 0.56, \"yanchor\": \"bottom\", \"yref\": \"paper\"}, {\"font\": {}, \"showarrow\": false, \"text\": \"Genre=Crime\", \"x\": 0.8824999999999998, \"xanchor\": \"center\", \"xref\": \"paper\", \"y\": 0.56, \"yanchor\": \"bottom\", \"yref\": \"paper\"}, {\"font\": {}, \"showarrow\": false, \"text\": \"Genre=Horror\", \"x\": 0.1175, \"xanchor\": \"center\", \"xref\": \"paper\", \"y\": 0.78, \"yanchor\": \"bottom\", \"yref\": \"paper\"}, {\"font\": {}, \"showarrow\": false, \"text\": \"Genre=Thriller\", \"x\": 0.3725, \"xanchor\": \"center\", \"xref\": \"paper\", \"y\": 0.78, \"yanchor\": \"bottom\", \"yref\": \"paper\"}, {\"font\": {}, \"showarrow\": false, \"text\": \"Genre=Romance\", \"x\": 0.6275, \"xanchor\": \"center\", \"xref\": \"paper\", \"y\": 0.78, \"yanchor\": \"bottom\", \"yref\": \"paper\"}, {\"font\": {}, \"showarrow\": false, \"text\": \"Genre=Documentary\", \"x\": 0.8824999999999998, \"xanchor\": \"center\", \"xref\": \"paper\", \"y\": 0.78, \"yanchor\": \"bottom\", \"yref\": \"paper\"}, {\"font\": {}, \"showarrow\": false, \"text\": \"Genre=Comedy\", \"x\": 0.1175, \"xanchor\": \"center\", \"xref\": \"paper\", \"y\": 1.0, \"yanchor\": \"bottom\", \"yref\": \"paper\"}, {\"font\": {}, \"showarrow\": false, \"text\": \"Genre=Drama\", \"x\": 0.3725, \"xanchor\": \"center\", \"xref\": \"paper\", \"y\": 1.0, \"yanchor\": \"bottom\", \"yref\": \"paper\"}, {\"font\": {}, \"showarrow\": false, \"text\": \"Genre=Family\", \"x\": 0.6275, \"xanchor\": \"center\", \"xref\": \"paper\", \"y\": 1.0, \"yanchor\": \"bottom\", \"yref\": \"paper\"}, {\"font\": {}, \"showarrow\": false, \"text\": \"Genre=Adventure\", \"x\": 0.8824999999999998, \"xanchor\": \"center\", \"xref\": \"paper\", \"y\": 1.0, \"yanchor\": \"bottom\", \"yref\": \"paper\"}], \"height\": 800, \"legend\": {\"title\": {\"text\": \"Genre\"}, \"tracegroupgap\": 0}, \"template\": {\"data\": {\"bar\": [{\"error_x\": {\"color\": \"#2a3f5f\"}, \"error_y\": {\"color\": \"#2a3f5f\"}, \"marker\": {\"line\": {\"color\": \"#E5ECF6\", \"width\": 0.5}}, \"type\": \"bar\"}], \"barpolar\": [{\"marker\": {\"line\": {\"color\": \"#E5ECF6\", \"width\": 0.5}}, \"type\": \"barpolar\"}], \"carpet\": [{\"aaxis\": {\"endlinecolor\": \"#2a3f5f\", \"gridcolor\": \"white\", \"linecolor\": \"white\", \"minorgridcolor\": \"white\", \"startlinecolor\": \"#2a3f5f\"}, \"baxis\": {\"endlinecolor\": \"#2a3f5f\", \"gridcolor\": \"white\", \"linecolor\": \"white\", \"minorgridcolor\": \"white\", \"startlinecolor\": \"#2a3f5f\"}, \"type\": \"carpet\"}], \"choropleth\": [{\"colorbar\": {\"outlinewidth\": 0, \"ticks\": \"\"}, \"type\": \"choropleth\"}], \"contour\": [{\"colorbar\": {\"outlinewidth\": 0, \"ticks\": \"\"}, \"colorscale\": [[0.0, \"#0d0887\"], [0.1111111111111111, \"#46039f\"], [0.2222222222222222, \"#7201a8\"], [0.3333333333333333, \"#9c179e\"], [0.4444444444444444, \"#bd3786\"], [0.5555555555555556, \"#d8576b\"], [0.6666666666666666, \"#ed7953\"], [0.7777777777777778, \"#fb9f3a\"], [0.8888888888888888, \"#fdca26\"], [1.0, \"#f0f921\"]], \"type\": \"contour\"}], \"contourcarpet\": [{\"colorbar\": {\"outlinewidth\": 0, \"ticks\": \"\"}, \"type\": \"contourcarpet\"}], \"heatmap\": [{\"colorbar\": {\"outlinewidth\": 0, \"ticks\": \"\"}, \"colorscale\": [[0.0, \"#0d0887\"], [0.1111111111111111, \"#46039f\"], [0.2222222222222222, \"#7201a8\"], [0.3333333333333333, \"#9c179e\"], [0.4444444444444444, \"#bd3786\"], [0.5555555555555556, \"#d8576b\"], [0.6666666666666666, \"#ed7953\"], [0.7777777777777778, \"#fb9f3a\"], [0.8888888888888888, \"#fdca26\"], [1.0, \"#f0f921\"]], \"type\": \"heatmap\"}], \"heatmapgl\": [{\"colorbar\": {\"outlinewidth\": 0, \"ticks\": \"\"}, \"colorscale\": [[0.0, \"#0d0887\"], [0.1111111111111111, \"#46039f\"], [0.2222222222222222, \"#7201a8\"], [0.3333333333333333, \"#9c179e\"], [0.4444444444444444, \"#bd3786\"], [0.5555555555555556, \"#d8576b\"], [0.6666666666666666, \"#ed7953\"], [0.7777777777777778, \"#fb9f3a\"], [0.8888888888888888, \"#fdca26\"], [1.0, \"#f0f921\"]], \"type\": \"heatmapgl\"}], \"histogram\": [{\"marker\": {\"colorbar\": {\"outlinewidth\": 0, \"ticks\": \"\"}}, \"type\": \"histogram\"}], \"histogram2d\": [{\"colorbar\": {\"outlinewidth\": 0, \"ticks\": \"\"}, \"colorscale\": [[0.0, \"#0d0887\"], [0.1111111111111111, \"#46039f\"], [0.2222222222222222, \"#7201a8\"], [0.3333333333333333, \"#9c179e\"], [0.4444444444444444, \"#bd3786\"], [0.5555555555555556, \"#d8576b\"], [0.6666666666666666, \"#ed7953\"], [0.7777777777777778, \"#fb9f3a\"], [0.8888888888888888, \"#fdca26\"], [1.0, \"#f0f921\"]], \"type\": \"histogram2d\"}], \"histogram2dcontour\": [{\"colorbar\": {\"outlinewidth\": 0, \"ticks\": \"\"}, \"colorscale\": [[0.0, \"#0d0887\"], [0.1111111111111111, \"#46039f\"], [0.2222222222222222, \"#7201a8\"], [0.3333333333333333, \"#9c179e\"], [0.4444444444444444, \"#bd3786\"], [0.5555555555555556, \"#d8576b\"], [0.6666666666666666, \"#ed7953\"], [0.7777777777777778, \"#fb9f3a\"], [0.8888888888888888, \"#fdca26\"], [1.0, \"#f0f921\"]], \"type\": \"histogram2dcontour\"}], \"mesh3d\": [{\"colorbar\": {\"outlinewidth\": 0, \"ticks\": \"\"}, \"type\": \"mesh3d\"}], \"parcoords\": [{\"line\": {\"colorbar\": {\"outlinewidth\": 0, \"ticks\": \"\"}}, \"type\": \"parcoords\"}], \"pie\": [{\"automargin\": true, \"type\": \"pie\"}], \"scatter\": [{\"marker\": {\"colorbar\": {\"outlinewidth\": 0, \"ticks\": \"\"}}, \"type\": \"scatter\"}], \"scatter3d\": [{\"line\": {\"colorbar\": {\"outlinewidth\": 0, \"ticks\": \"\"}}, \"marker\": {\"colorbar\": {\"outlinewidth\": 0, \"ticks\": \"\"}}, \"type\": \"scatter3d\"}], \"scattercarpet\": [{\"marker\": {\"colorbar\": {\"outlinewidth\": 0, \"ticks\": \"\"}}, \"type\": \"scattercarpet\"}], \"scattergeo\": [{\"marker\": {\"colorbar\": {\"outlinewidth\": 0, \"ticks\": \"\"}}, \"type\": \"scattergeo\"}], \"scattergl\": [{\"marker\": {\"colorbar\": {\"outlinewidth\": 0, \"ticks\": \"\"}}, \"type\": \"scattergl\"}], \"scattermapbox\": [{\"marker\": {\"colorbar\": {\"outlinewidth\": 0, \"ticks\": \"\"}}, \"type\": \"scattermapbox\"}], \"scatterpolar\": [{\"marker\": {\"colorbar\": {\"outlinewidth\": 0, \"ticks\": \"\"}}, \"type\": \"scatterpolar\"}], \"scatterpolargl\": [{\"marker\": {\"colorbar\": {\"outlinewidth\": 0, \"ticks\": \"\"}}, \"type\": \"scatterpolargl\"}], \"scatterternary\": [{\"marker\": {\"colorbar\": {\"outlinewidth\": 0, \"ticks\": \"\"}}, \"type\": \"scatterternary\"}], \"surface\": [{\"colorbar\": {\"outlinewidth\": 0, \"ticks\": \"\"}, \"colorscale\": [[0.0, \"#0d0887\"], [0.1111111111111111, \"#46039f\"], [0.2222222222222222, \"#7201a8\"], [0.3333333333333333, \"#9c179e\"], [0.4444444444444444, \"#bd3786\"], [0.5555555555555556, \"#d8576b\"], [0.6666666666666666, \"#ed7953\"], [0.7777777777777778, \"#fb9f3a\"], [0.8888888888888888, \"#fdca26\"], [1.0, \"#f0f921\"]], \"type\": \"surface\"}], \"table\": [{\"cells\": {\"fill\": {\"color\": \"#EBF0F8\"}, \"line\": {\"color\": \"white\"}}, \"header\": {\"fill\": {\"color\": \"#C8D4E3\"}, \"line\": {\"color\": \"white\"}}, \"type\": \"table\"}]}, \"layout\": {\"annotationdefaults\": {\"arrowcolor\": \"#2a3f5f\", \"arrowhead\": 0, \"arrowwidth\": 1}, \"coloraxis\": {\"colorbar\": {\"outlinewidth\": 0, \"ticks\": \"\"}}, \"colorscale\": {\"diverging\": [[0, \"#8e0152\"], [0.1, \"#c51b7d\"], [0.2, \"#de77ae\"], [0.3, \"#f1b6da\"], [0.4, \"#fde0ef\"], [0.5, \"#f7f7f7\"], [0.6, \"#e6f5d0\"], [0.7, \"#b8e186\"], [0.8, \"#7fbc41\"], [0.9, \"#4d9221\"], [1, \"#276419\"]], \"sequential\": [[0.0, \"#0d0887\"], [0.1111111111111111, \"#46039f\"], [0.2222222222222222, \"#7201a8\"], [0.3333333333333333, \"#9c179e\"], [0.4444444444444444, \"#bd3786\"], [0.5555555555555556, \"#d8576b\"], [0.6666666666666666, \"#ed7953\"], [0.7777777777777778, \"#fb9f3a\"], [0.8888888888888888, \"#fdca26\"], [1.0, \"#f0f921\"]], \"sequentialminus\": [[0.0, \"#0d0887\"], [0.1111111111111111, \"#46039f\"], [0.2222222222222222, \"#7201a8\"], [0.3333333333333333, \"#9c179e\"], [0.4444444444444444, \"#bd3786\"], [0.5555555555555556, \"#d8576b\"], [0.6666666666666666, \"#ed7953\"], [0.7777777777777778, \"#fb9f3a\"], [0.8888888888888888, \"#fdca26\"], [1.0, \"#f0f921\"]]}, \"colorway\": [\"#636efa\", \"#EF553B\", \"#00cc96\", \"#ab63fa\", \"#FFA15A\", \"#19d3f3\", \"#FF6692\", \"#B6E880\", \"#FF97FF\", \"#FECB52\"], \"font\": {\"color\": \"#2a3f5f\"}, \"geo\": {\"bgcolor\": \"white\", \"lakecolor\": \"white\", \"landcolor\": \"#E5ECF6\", \"showlakes\": true, \"showland\": true, \"subunitcolor\": \"white\"}, \"hoverlabel\": {\"align\": \"left\"}, \"hovermode\": \"closest\", \"mapbox\": {\"style\": \"light\"}, \"paper_bgcolor\": \"white\", \"plot_bgcolor\": \"#E5ECF6\", \"polar\": {\"angularaxis\": {\"gridcolor\": \"white\", \"linecolor\": \"white\", \"ticks\": \"\"}, \"bgcolor\": \"#E5ECF6\", \"radialaxis\": {\"gridcolor\": \"white\", \"linecolor\": \"white\", \"ticks\": \"\"}}, \"scene\": {\"xaxis\": {\"backgroundcolor\": \"#E5ECF6\", \"gridcolor\": \"white\", \"gridwidth\": 2, \"linecolor\": \"white\", \"showbackground\": true, \"ticks\": \"\", \"zerolinecolor\": \"white\"}, \"yaxis\": {\"backgroundcolor\": \"#E5ECF6\", \"gridcolor\": \"white\", \"gridwidth\": 2, \"linecolor\": \"white\", \"showbackground\": true, \"ticks\": \"\", \"zerolinecolor\": \"white\"}, \"zaxis\": {\"backgroundcolor\": \"#E5ECF6\", \"gridcolor\": \"white\", \"gridwidth\": 2, \"linecolor\": \"white\", \"showbackground\": true, \"ticks\": \"\", \"zerolinecolor\": \"white\"}}, \"shapedefaults\": {\"line\": {\"color\": \"#2a3f5f\"}}, \"ternary\": {\"aaxis\": {\"gridcolor\": \"white\", \"linecolor\": \"white\", \"ticks\": \"\"}, \"baxis\": {\"gridcolor\": \"white\", \"linecolor\": \"white\", \"ticks\": \"\"}, \"bgcolor\": \"#E5ECF6\", \"caxis\": {\"gridcolor\": \"white\", \"linecolor\": \"white\", \"ticks\": \"\"}}, \"title\": {\"x\": 0.05}, \"xaxis\": {\"automargin\": true, \"gridcolor\": \"white\", \"linecolor\": \"white\", \"ticks\": \"\", \"title\": {\"standoff\": 15}, \"zerolinecolor\": \"white\", \"zerolinewidth\": 2}, \"yaxis\": {\"automargin\": true, \"gridcolor\": \"white\", \"linecolor\": \"white\", \"ticks\": \"\", \"title\": {\"standoff\": 15}, \"zerolinecolor\": \"white\", \"zerolinewidth\": 2}}}, \"title\": {\"text\": \"Median Profit Per Year by Genre\"}, \"width\": 1000, \"xaxis\": {\"anchor\": \"y\", \"domain\": [0.0, 0.235], \"title\": {\"text\": \"Year\"}}, \"xaxis10\": {\"anchor\": \"y10\", \"domain\": [0.255, 0.49], \"matches\": \"x\", \"showticklabels\": false}, \"xaxis11\": {\"anchor\": \"y11\", \"domain\": [0.51, 0.745], \"matches\": \"x\", \"showticklabels\": false}, \"xaxis12\": {\"anchor\": \"y12\", \"domain\": [0.7649999999999999, 0.9999999999999999], \"matches\": \"x\", \"showticklabels\": false}, \"xaxis13\": {\"anchor\": \"y13\", \"domain\": [0.0, 0.235], \"matches\": \"x\", \"showticklabels\": false}, \"xaxis14\": {\"anchor\": \"y14\", \"domain\": [0.255, 0.49], \"matches\": \"x\", \"showticklabels\": false}, \"xaxis15\": {\"anchor\": \"y15\", \"domain\": [0.51, 0.745], \"matches\": \"x\", \"showticklabels\": false}, \"xaxis16\": {\"anchor\": \"y16\", \"domain\": [0.7649999999999999, 0.9999999999999999], \"matches\": \"x\", \"showticklabels\": false}, \"xaxis17\": {\"anchor\": \"y17\", \"domain\": [0.0, 0.235], \"matches\": \"x\", \"showticklabels\": false}, \"xaxis18\": {\"anchor\": \"y18\", \"domain\": [0.255, 0.49], \"matches\": \"x\", \"showticklabels\": false}, \"xaxis19\": {\"anchor\": \"y19\", \"domain\": [0.51, 0.745], \"matches\": \"x\", \"showticklabels\": false}, \"xaxis2\": {\"anchor\": \"y2\", \"domain\": [0.255, 0.49], \"matches\": \"x\", \"title\": {\"text\": \"Year\"}}, \"xaxis20\": {\"anchor\": \"y20\", \"domain\": [0.7649999999999999, 0.9999999999999999], \"matches\": \"x\", \"showticklabels\": false}, \"xaxis3\": {\"anchor\": \"y3\", \"domain\": [0.51, 0.745], \"matches\": \"x\", \"title\": {\"text\": \"Year\"}}, \"xaxis4\": {\"anchor\": \"y4\", \"domain\": [0.7649999999999999, 0.9999999999999999], \"matches\": \"x\", \"title\": {\"text\": \"Year\"}}, \"xaxis5\": {\"anchor\": \"y5\", \"domain\": [0.0, 0.235], \"matches\": \"x\", \"showticklabels\": false}, \"xaxis6\": {\"anchor\": \"y6\", \"domain\": [0.255, 0.49], \"matches\": \"x\", \"showticklabels\": false}, \"xaxis7\": {\"anchor\": \"y7\", \"domain\": [0.51, 0.745], \"matches\": \"x\", \"showticklabels\": false}, \"xaxis8\": {\"anchor\": \"y8\", \"domain\": [0.7649999999999999, 0.9999999999999999], \"matches\": \"x\", \"showticklabels\": false}, \"xaxis9\": {\"anchor\": \"y9\", \"domain\": [0.0, 0.235], \"matches\": \"x\", \"showticklabels\": false}, \"yaxis\": {\"anchor\": \"x\", \"domain\": [0.0, 0.12], \"title\": {\"text\": \"Median_Profit\"}}, \"yaxis10\": {\"anchor\": \"x10\", \"domain\": [0.44, 0.56], \"matches\": \"y\", \"showticklabels\": false}, \"yaxis11\": {\"anchor\": \"x11\", \"domain\": [0.44, 0.56], \"matches\": \"y\", \"showticklabels\": false}, \"yaxis12\": {\"anchor\": \"x12\", \"domain\": [0.44, 0.56], \"matches\": \"y\", \"showticklabels\": false}, \"yaxis13\": {\"anchor\": \"x13\", \"domain\": [0.66, 0.78], \"matches\": \"y\", \"title\": {\"text\": \"Median_Profit\"}}, \"yaxis14\": {\"anchor\": \"x14\", \"domain\": [0.66, 0.78], \"matches\": \"y\", \"showticklabels\": false}, \"yaxis15\": {\"anchor\": \"x15\", \"domain\": [0.66, 0.78], \"matches\": \"y\", \"showticklabels\": false}, \"yaxis16\": {\"anchor\": \"x16\", \"domain\": [0.66, 0.78], \"matches\": \"y\", \"showticklabels\": false}, \"yaxis17\": {\"anchor\": \"x17\", \"domain\": [0.88, 1.0], \"matches\": \"y\", \"title\": {\"text\": \"Median_Profit\"}}, \"yaxis18\": {\"anchor\": \"x18\", \"domain\": [0.88, 1.0], \"matches\": \"y\", \"showticklabels\": false}, \"yaxis19\": {\"anchor\": \"x19\", \"domain\": [0.88, 1.0], \"matches\": \"y\", \"showticklabels\": false}, \"yaxis2\": {\"anchor\": \"x2\", \"domain\": [0.0, 0.12], \"matches\": \"y\", \"showticklabels\": false}, \"yaxis20\": {\"anchor\": \"x20\", \"domain\": [0.88, 1.0], \"matches\": \"y\", \"showticklabels\": false}, \"yaxis3\": {\"anchor\": \"x3\", \"domain\": [0.0, 0.12], \"matches\": \"y\", \"showticklabels\": false}, \"yaxis4\": {\"anchor\": \"x4\", \"domain\": [0.0, 0.12], \"matches\": \"y\", \"showticklabels\": false}, \"yaxis5\": {\"anchor\": \"x5\", \"domain\": [0.22, 0.33999999999999997], \"matches\": \"y\", \"title\": {\"text\": \"Median_Profit\"}}, \"yaxis6\": {\"anchor\": \"x6\", \"domain\": [0.22, 0.33999999999999997], \"matches\": \"y\", \"showticklabels\": false}, \"yaxis7\": {\"anchor\": \"x7\", \"domain\": [0.22, 0.33999999999999997], \"matches\": \"y\", \"showticklabels\": false}, \"yaxis8\": {\"anchor\": \"x8\", \"domain\": [0.22, 0.33999999999999997], \"matches\": \"y\", \"showticklabels\": false}, \"yaxis9\": {\"anchor\": \"x9\", \"domain\": [0.44, 0.56], \"matches\": \"y\", \"title\": {\"text\": \"Median_Profit\"}}},\n",
       "                        {\"responsive\": true}\n",
       "                    ).then(function(){\n",
       "                            \n",
       "var gd = document.getElementById('39d15520-ed0a-44b3-b520-e096d3c0ae4d');\n",
       "var x = new MutationObserver(function (mutations, observer) {{\n",
       "        var display = window.getComputedStyle(gd).display;\n",
       "        if (!display || display === 'none') {{\n",
       "            console.log([gd, 'removed!']);\n",
       "            Plotly.purge(gd);\n",
       "            observer.disconnect();\n",
       "        }}\n",
       "}});\n",
       "\n",
       "// Listen for the removal of the full notebook cells\n",
       "var notebookContainer = gd.closest('#notebook-container');\n",
       "if (notebookContainer) {{\n",
       "    x.observe(notebookContainer, {childList: true});\n",
       "}}\n",
       "\n",
       "// Listen for the clearing of the current output cell\n",
       "var outputEl = gd.closest('.output');\n",
       "if (outputEl) {{\n",
       "    x.observe(outputEl, {childList: true});\n",
       "}}\n",
       "\n",
       "                        })\n",
       "                };\n",
       "                });\n",
       "            </script>\n",
       "        </div>"
      ]
     },
     "metadata": {},
     "output_type": "display_data"
    }
   ],
   "source": [
    "## Creates a list of genres\n",
    "genrelist = top100_genre['genres'].unique()\n",
    "## List of years for for-loop\n",
    "years =  [2010, 2011, 2012, 2013, 2014, 2015, 2016, 2017, 2018, 2019]\n",
    "\n",
    "## Lists to append to for later zip\n",
    "glist = []\n",
    "mlist = []\n",
    "ylist = []\n",
    "\n",
    "## For loop to loop through year and genre to get median profit\n",
    "for year in years:\n",
    "    df = top100_genre[top100_genre['release_date'].dt.year == year]\n",
    "    for film_genre in genrelist:\n",
    "        gendf = df[df['genres'] == film_genre]\n",
    "        medtest = gendf['Profit'].median()\n",
    "        glist.append(film_genre)\n",
    "        ## Checks for nan values, assigns value as zero\n",
    "        if medtest == np.nan:\n",
    "            mlist.append(0)\n",
    "        else:\n",
    "            mlist.append(medtest)\n",
    "        ylist.append(year)\n",
    "    \n",
    "\n",
    "## Zips lists together to create a dataframe\n",
    "newdf = pd.DataFrame(list(zip(ylist, glist, mlist)),\n",
    "              columns=['Year','Genre', 'Median_Profit'])\n",
    "\n",
    "## Create the multi-faceted bar graph\n",
    "fig = px.line(newdf, x='Year', y='Median_Profit', facet_col='Genre', facet_col_wrap=4,\n",
    "              facet_row_spacing=.1, color='Genre',\n",
    "              title='Median Profit Per Year by Genre', labels={'y':'Median Profit'}, height=800, width=1000)\n",
    "\n",
    "fig.show()"
   ]
  },
  {
   "cell_type": "markdown",
   "metadata": {},
   "source": [
    "There are a few ways that the data could be interpreted. Rarely will a film fall into a single genre, especially if the film is an animation of some sort. It is apt of us to look at a range of top genres to provide strong genre combinations that make sense, and more importantly make money. \n",
    "\n",
    "The presented visualization makes it obviously clear which genres are on the uptrend as far as median profit goes. Therefore it is recommended that one of the genres for the film be Adventure. Following this the second genre could be a ranging pick of either family, science fiction, or fantasy - though family seems to be a growing category.\n",
    "\n",
    "Therefore we would recommend the film to be made as a family action movie."
   ]
  },
  {
   "cell_type": "markdown",
   "metadata": {},
   "source": [
    "# Conclusion"
   ]
  },
  {
   "cell_type": "markdown",
   "metadata": {},
   "source": [
    "Our observations are abundantly clear. \n",
    "\n",
    "Yes, a film will make more money if you spend more money on it, but there are diminishing returns unless you're one of the lucky blockbuster mega-hits.\n",
    "\n",
    "The relatively small margin between R and PG-13 rated films puts us squarely in the camp of recommending PG-13 films. These films can be more family friendly and open to all comers than an R rated film - thus expanding the audience. \n",
    "\n",
    "Finally, with several major blockbuster franchises going the route of an Action-Adventure film, that is what the public wants. Pair it with science fiction, or make it an animated family film to hit a few other major demographics."
   ]
  },
  {
   "cell_type": "code",
   "execution_count": null,
   "metadata": {},
   "outputs": [],
   "source": []
  }
 ],
 "metadata": {
  "kernelspec": {
   "display_name": "Python [conda env:learn-env] *",
   "language": "python",
   "name": "conda-env-learn-env-py"
  },
  "language_info": {
   "codemirror_mode": {
    "name": "ipython",
    "version": 3
   },
   "file_extension": ".py",
   "mimetype": "text/x-python",
   "name": "python",
   "nbconvert_exporter": "python",
   "pygments_lexer": "ipython3",
   "version": "3.6.9"
  },
  "toc": {
   "base_numbering": 1,
   "nav_menu": {},
   "number_sections": true,
   "sideBar": true,
   "skip_h1_title": false,
   "title_cell": "Table of Contents",
   "title_sidebar": "Contents",
   "toc_cell": false,
   "toc_position": {},
   "toc_section_display": true,
   "toc_window_display": true
  },
  "varInspector": {
   "cols": {
    "lenName": 16,
    "lenType": 16,
    "lenVar": 40
   },
   "kernels_config": {
    "python": {
     "delete_cmd_postfix": "",
     "delete_cmd_prefix": "del ",
     "library": "var_list.py",
     "varRefreshCmd": "print(var_dic_list())"
    },
    "r": {
     "delete_cmd_postfix": ") ",
     "delete_cmd_prefix": "rm(",
     "library": "var_list.r",
     "varRefreshCmd": "cat(var_dic_list()) "
    }
   },
   "oldHeight": 263,
   "position": {
    "height": "285px",
    "left": "1997px",
    "right": "20px",
    "top": "20px",
    "width": "414px"
   },
   "types_to_exclude": [
    "module",
    "function",
    "builtin_function_or_method",
    "instance",
    "_Feature"
   ],
   "varInspector_section_display": "block",
   "window_display": false
  },
  "widgets": {
   "application/vnd.jupyter.widget-state+json": {
    "state": {
     "015b1b6d32c24dbaa5e66f7911b6e50c": {
      "model_module": "@jupyter-widgets/controls",
      "model_module_version": "1.5.0",
      "model_name": "HTMLModel",
      "state": {
       "layout": "IPY_MODEL_f3e0be0fa8c64304be3c6b88e76b173c",
       "style": "IPY_MODEL_8f2213951d964258b69595c2434045f1",
       "value": " 15/500 [01:47&lt;57:56,  7.17s/it]"
      }
     },
     "1bc626daede548e0b6195dc014b8d710": {
      "model_module": "@jupyter-widgets/controls",
      "model_module_version": "1.5.0",
      "model_name": "HTMLModel",
      "state": {
       "layout": "IPY_MODEL_a142cfab188843d3993a4153b7e5e828",
       "style": "IPY_MODEL_71f16c958dc54510bceab56162e783b8",
       "value": " 165/500 [00:57&lt;01:56,  2.88it/s]"
      }
     },
     "1f7713ba540a49ba8abeece6b18960e4": {
      "model_module": "@jupyter-widgets/controls",
      "model_module_version": "1.5.0",
      "model_name": "DescriptionStyleModel",
      "state": {
       "description_width": ""
      }
     },
     "3f1e7c385d4547e28155339adf7c9a0e": {
      "model_module": "@jupyter-widgets/base",
      "model_module_version": "1.2.0",
      "model_name": "LayoutModel",
      "state": {}
     },
     "3fb4399ac0334e93834b14d998bb9d7a": {
      "model_module": "@jupyter-widgets/controls",
      "model_module_version": "1.5.0",
      "model_name": "FloatProgressModel",
      "state": {
       "bar_style": "danger",
       "description": "ID Append:  33%",
       "layout": "IPY_MODEL_79c4d38eb34643deb6cba55be1f37a50",
       "max": 500,
       "style": "IPY_MODEL_b8ae5ade974048a8a2d798903483eb68",
       "value": 165
      }
     },
     "4a2aac876112447c9e2bfc60a2ec6d72": {
      "model_module": "@jupyter-widgets/base",
      "model_module_version": "1.2.0",
      "model_name": "LayoutModel",
      "state": {}
     },
     "5be0c79cc7f24b82be2024f220cfca0a": {
      "model_module": "@jupyter-widgets/base",
      "model_module_version": "1.2.0",
      "model_name": "LayoutModel",
      "state": {}
     },
     "686b0c2104c54b98aec62485ef6faf5f": {
      "model_module": "@jupyter-widgets/base",
      "model_module_version": "1.2.0",
      "model_name": "LayoutModel",
      "state": {}
     },
     "69b316b8b0f5467fb05252f4b5e7de44": {
      "model_module": "@jupyter-widgets/controls",
      "model_module_version": "1.5.0",
      "model_name": "FloatProgressModel",
      "state": {
       "bar_style": "success",
       "description": "100%",
       "layout": "IPY_MODEL_4a2aac876112447c9e2bfc60a2ec6d72",
       "max": 8211,
       "style": "IPY_MODEL_718629f7c2d840a6b3db2ea66bb1820f",
       "value": 8211
      }
     },
     "718629f7c2d840a6b3db2ea66bb1820f": {
      "model_module": "@jupyter-widgets/controls",
      "model_module_version": "1.5.0",
      "model_name": "ProgressStyleModel",
      "state": {
       "description_width": "initial"
      }
     },
     "71f16c958dc54510bceab56162e783b8": {
      "model_module": "@jupyter-widgets/controls",
      "model_module_version": "1.5.0",
      "model_name": "DescriptionStyleModel",
      "state": {
       "description_width": ""
      }
     },
     "73f6f4e3714d4d038b258afdad67ee31": {
      "model_module": "@jupyter-widgets/controls",
      "model_module_version": "1.5.0",
      "model_name": "HBoxModel",
      "state": {
       "children": [
        "IPY_MODEL_3fb4399ac0334e93834b14d998bb9d7a",
        "IPY_MODEL_1bc626daede548e0b6195dc014b8d710"
       ],
       "layout": "IPY_MODEL_91c1181a08654fcf87f1272cacbf643d"
      }
     },
     "79c4d38eb34643deb6cba55be1f37a50": {
      "model_module": "@jupyter-widgets/base",
      "model_module_version": "1.2.0",
      "model_name": "LayoutModel",
      "state": {}
     },
     "7d37501fda834afc86753aa1e424ac84": {
      "model_module": "@jupyter-widgets/controls",
      "model_module_version": "1.5.0",
      "model_name": "FloatProgressModel",
      "state": {
       "bar_style": "success",
       "description": "ID Append: 100%",
       "layout": "IPY_MODEL_5be0c79cc7f24b82be2024f220cfca0a",
       "max": 500,
       "style": "IPY_MODEL_c7ca0fcd4e0b4501af7cf94d2b493878",
       "value": 500
      }
     },
     "8653e87a8574479888f4bb2b55db32f4": {
      "model_module": "@jupyter-widgets/controls",
      "model_module_version": "1.5.0",
      "model_name": "DescriptionStyleModel",
      "state": {
       "description_width": ""
      }
     },
     "8f2213951d964258b69595c2434045f1": {
      "model_module": "@jupyter-widgets/controls",
      "model_module_version": "1.5.0",
      "model_name": "DescriptionStyleModel",
      "state": {
       "description_width": ""
      }
     },
     "91c1181a08654fcf87f1272cacbf643d": {
      "model_module": "@jupyter-widgets/base",
      "model_module_version": "1.2.0",
      "model_name": "LayoutModel",
      "state": {}
     },
     "a142cfab188843d3993a4153b7e5e828": {
      "model_module": "@jupyter-widgets/base",
      "model_module_version": "1.2.0",
      "model_name": "LayoutModel",
      "state": {}
     },
     "a7ee66f594cd48ffbae5476ac7d73ed6": {
      "model_module": "@jupyter-widgets/controls",
      "model_module_version": "1.5.0",
      "model_name": "HTMLModel",
      "state": {
       "layout": "IPY_MODEL_3f1e7c385d4547e28155339adf7c9a0e",
       "style": "IPY_MODEL_1f7713ba540a49ba8abeece6b18960e4",
       "value": " 8211/8211 [1:29:19&lt;00:00,  1.53it/s]"
      }
     },
     "b3523f016d474e34a340e7e2a1daf0cc": {
      "model_module": "@jupyter-widgets/controls",
      "model_module_version": "1.5.0",
      "model_name": "ProgressStyleModel",
      "state": {
       "description_width": "initial"
      }
     },
     "b8ae5ade974048a8a2d798903483eb68": {
      "model_module": "@jupyter-widgets/controls",
      "model_module_version": "1.5.0",
      "model_name": "ProgressStyleModel",
      "state": {
       "description_width": "initial"
      }
     },
     "b9eb905393d243ae8b3a460f354baf32": {
      "model_module": "@jupyter-widgets/controls",
      "model_module_version": "1.5.0",
      "model_name": "HTMLModel",
      "state": {
       "layout": "IPY_MODEL_e328a88ea06a464ca6d5d4ffe8ee2371",
       "style": "IPY_MODEL_8653e87a8574479888f4bb2b55db32f4",
       "value": " 500/500 [02:46&lt;00:00,  3.00it/s]"
      }
     },
     "c050ab1da3cc4109a4926ecd0aa85e41": {
      "model_module": "@jupyter-widgets/controls",
      "model_module_version": "1.5.0",
      "model_name": "HBoxModel",
      "state": {
       "children": [
        "IPY_MODEL_c9d0364cf2d34a0793a3884af9ab522b",
        "IPY_MODEL_015b1b6d32c24dbaa5e66f7911b6e50c"
       ],
       "layout": "IPY_MODEL_c60e0717a8844d238e69c636743574e5"
      }
     },
     "c1fbd8a97ee44b59823167ec6626d453": {
      "model_module": "@jupyter-widgets/controls",
      "model_module_version": "1.5.0",
      "model_name": "HBoxModel",
      "state": {
       "children": [
        "IPY_MODEL_7d37501fda834afc86753aa1e424ac84",
        "IPY_MODEL_b9eb905393d243ae8b3a460f354baf32"
       ],
       "layout": "IPY_MODEL_df47d75ee4294a7f8d7b6394bdab857f"
      }
     },
     "c60e0717a8844d238e69c636743574e5": {
      "model_module": "@jupyter-widgets/base",
      "model_module_version": "1.2.0",
      "model_name": "LayoutModel",
      "state": {}
     },
     "c7ca0fcd4e0b4501af7cf94d2b493878": {
      "model_module": "@jupyter-widgets/controls",
      "model_module_version": "1.5.0",
      "model_name": "ProgressStyleModel",
      "state": {
       "description_width": "initial"
      }
     },
     "c9d0364cf2d34a0793a3884af9ab522b": {
      "model_module": "@jupyter-widgets/controls",
      "model_module_version": "1.5.0",
      "model_name": "FloatProgressModel",
      "state": {
       "bar_style": "danger",
       "description": "ID Append:   3%",
       "layout": "IPY_MODEL_686b0c2104c54b98aec62485ef6faf5f",
       "max": 500,
       "style": "IPY_MODEL_b3523f016d474e34a340e7e2a1daf0cc",
       "value": 15
      }
     },
     "d8004d49ce0542aea782cc5bfa122aef": {
      "model_module": "@jupyter-widgets/controls",
      "model_module_version": "1.5.0",
      "model_name": "HBoxModel",
      "state": {
       "children": [
        "IPY_MODEL_69b316b8b0f5467fb05252f4b5e7de44",
        "IPY_MODEL_a7ee66f594cd48ffbae5476ac7d73ed6"
       ],
       "layout": "IPY_MODEL_f21053216b6d46bd8898833e3d5d50dd"
      }
     },
     "df47d75ee4294a7f8d7b6394bdab857f": {
      "model_module": "@jupyter-widgets/base",
      "model_module_version": "1.2.0",
      "model_name": "LayoutModel",
      "state": {}
     },
     "e328a88ea06a464ca6d5d4ffe8ee2371": {
      "model_module": "@jupyter-widgets/base",
      "model_module_version": "1.2.0",
      "model_name": "LayoutModel",
      "state": {}
     },
     "f21053216b6d46bd8898833e3d5d50dd": {
      "model_module": "@jupyter-widgets/base",
      "model_module_version": "1.2.0",
      "model_name": "LayoutModel",
      "state": {}
     },
     "f3e0be0fa8c64304be3c6b88e76b173c": {
      "model_module": "@jupyter-widgets/base",
      "model_module_version": "1.2.0",
      "model_name": "LayoutModel",
      "state": {}
     }
    },
    "version_major": 2,
    "version_minor": 0
   }
  }
 },
 "nbformat": 4,
 "nbformat_minor": 2
}
